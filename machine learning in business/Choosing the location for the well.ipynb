{
 "cells": [
  {
   "cell_type": "markdown",
   "metadata": {},
   "source": [
    "# Выбор локации для скважины"
   ]
  },
  {
   "cell_type": "markdown",
   "metadata": {},
   "source": [
    "Допустим, мы работаем в добывающей компании «ГлавРосГосНефть». \n",
    "\n",
    "Нам предоставлены пробы нефти в трёх регионах: в каждом 10 000 месторождений, где измерили качество нефти и объём её запасов. Постройте модель машинного обучения, которая поможет определить регион, где добыча принесёт наибольшую прибыль. Проанализируйте возможную прибыль и риски техникой *Bootstrap.*\n",
    "\n",
    "Шаги для выбора локации:\n",
    "\n",
    "- В избранном регионе ищут месторождения, для каждого определяют значения признаков;\n",
    "- Строят модель и оценивают объём запасов;\n",
    "- Выбирают месторождения с самым высокими оценками значений. Количество месторождений зависит от бюджета компании и стоимости разработки одной скважины;\n",
    "- Прибыль равна суммарной прибыли отобранных месторождений.\n",
    "\n",
    "Условия задачи:\n",
    " - Для обучения модели подходит только линейная регрессия (остальные — недостаточно предсказуемые).\n",
    " - При разведке региона исследуют 500 точек, из которых с помощью машинного обучения выбирают 200 лучших для разработки.\n",
    " - Бюджет на разработку скважин в регионе — 10 млрд рублей.\n",
    " - При нынешних ценах один баррель сырья приносит 450 рублей дохода. Доход с каждой единицы продукта составляет 450 тыс. рублей, поскольку объём указан в тысячах баррелей.\n",
    "- После оценки рисков нужно оставить лишь те регионы, в которых вероятность убытков меньше 2.5%. Среди них выбирают регион с наибольшей средней прибылью."
   ]
  },
  {
   "cell_type": "markdown",
   "metadata": {},
   "source": [
    "## Загрузка и подготовка данных"
   ]
  },
  {
   "cell_type": "code",
   "execution_count": 1,
   "metadata": {},
   "outputs": [],
   "source": [
    "#загрузим необходимые библиотеки\n",
    "import matplotlib.pyplot as plt\n",
    "import numpy as np\n",
    "import pandas as pd\n",
    "import warnings\n",
    "from seaborn import heatmap\n",
    "\n",
    "from sklearn.linear_model import LinearRegression\n",
    "from sklearn.model_selection import train_test_split\n",
    "from sklearn.metrics import mean_absolute_error, r2_score, mean_squared_error\n",
    "\n",
    "from sklearn.metrics import mean_squared_error\n",
    "from sklearn.model_selection import train_test_split\n",
    "from sklearn.preprocessing import StandardScaler"
   ]
  },
  {
   "cell_type": "markdown",
   "metadata": {},
   "source": [
    "<div style=\"border:solid purple 5px; padding: 20px\">\n",
    "<h2 align=\"center\"> Рубрика «Питонячий лайфхакер» <a class=\"tocSkip\"> </h2>\n",
    "<h3> Широкоформатный Jupyter <a class=\"tocSkip\"> </h3>\n",
    "    \n",
    "Расширяем границы, или как сделать работу более комфортной (не всем нравится 😄)\n",
    "\n",
    "    from IPython.core.display import display, HTML\n",
    "    display(HTML(\"<style>.container { width:90% !important; }</style>\"))\n"
   ]
  },
  {
   "cell_type": "code",
   "execution_count": 2,
   "metadata": {},
   "outputs": [
    {
     "data": {
      "text/html": [
       "<div>\n",
       "<style scoped>\n",
       "    .dataframe tbody tr th:only-of-type {\n",
       "        vertical-align: middle;\n",
       "    }\n",
       "\n",
       "    .dataframe tbody tr th {\n",
       "        vertical-align: top;\n",
       "    }\n",
       "\n",
       "    .dataframe thead th {\n",
       "        text-align: right;\n",
       "    }\n",
       "</style>\n",
       "<table border=\"1\" class=\"dataframe\">\n",
       "  <thead>\n",
       "    <tr style=\"text-align: right;\">\n",
       "      <th></th>\n",
       "      <th>id</th>\n",
       "      <th>f0</th>\n",
       "      <th>f1</th>\n",
       "      <th>f2</th>\n",
       "      <th>product</th>\n",
       "    </tr>\n",
       "  </thead>\n",
       "  <tbody>\n",
       "    <tr>\n",
       "      <th>0</th>\n",
       "      <td>txEyH</td>\n",
       "      <td>0.705745</td>\n",
       "      <td>-0.497823</td>\n",
       "      <td>1.221170</td>\n",
       "      <td>105.280062</td>\n",
       "    </tr>\n",
       "    <tr>\n",
       "      <th>1</th>\n",
       "      <td>2acmU</td>\n",
       "      <td>1.334711</td>\n",
       "      <td>-0.340164</td>\n",
       "      <td>4.365080</td>\n",
       "      <td>73.037750</td>\n",
       "    </tr>\n",
       "    <tr>\n",
       "      <th>2</th>\n",
       "      <td>409Wp</td>\n",
       "      <td>1.022732</td>\n",
       "      <td>0.151990</td>\n",
       "      <td>1.419926</td>\n",
       "      <td>85.265647</td>\n",
       "    </tr>\n",
       "    <tr>\n",
       "      <th>3</th>\n",
       "      <td>iJLyR</td>\n",
       "      <td>-0.032172</td>\n",
       "      <td>0.139033</td>\n",
       "      <td>2.978566</td>\n",
       "      <td>168.620776</td>\n",
       "    </tr>\n",
       "    <tr>\n",
       "      <th>4</th>\n",
       "      <td>Xdl7t</td>\n",
       "      <td>1.988431</td>\n",
       "      <td>0.155413</td>\n",
       "      <td>4.751769</td>\n",
       "      <td>154.036647</td>\n",
       "    </tr>\n",
       "  </tbody>\n",
       "</table>\n",
       "</div>"
      ],
      "text/plain": [
       "      id        f0        f1        f2     product\n",
       "0  txEyH  0.705745 -0.497823  1.221170  105.280062\n",
       "1  2acmU  1.334711 -0.340164  4.365080   73.037750\n",
       "2  409Wp  1.022732  0.151990  1.419926   85.265647\n",
       "3  iJLyR -0.032172  0.139033  2.978566  168.620776\n",
       "4  Xdl7t  1.988431  0.155413  4.751769  154.036647"
      ]
     },
     "execution_count": 2,
     "metadata": {},
     "output_type": "execute_result"
    }
   ],
   "source": [
    "# загрузим данные, которые нам дали геологи по трем регионам \n",
    "region_0 = pd.read_csv('/datasets/geo_data_0.csv')\n",
    "region_0.head()"
   ]
  },
  {
   "cell_type": "code",
   "execution_count": 3,
   "metadata": {},
   "outputs": [
    {
     "data": {
      "text/html": [
       "<div>\n",
       "<style scoped>\n",
       "    .dataframe tbody tr th:only-of-type {\n",
       "        vertical-align: middle;\n",
       "    }\n",
       "\n",
       "    .dataframe tbody tr th {\n",
       "        vertical-align: top;\n",
       "    }\n",
       "\n",
       "    .dataframe thead th {\n",
       "        text-align: right;\n",
       "    }\n",
       "</style>\n",
       "<table border=\"1\" class=\"dataframe\">\n",
       "  <thead>\n",
       "    <tr style=\"text-align: right;\">\n",
       "      <th></th>\n",
       "      <th>id</th>\n",
       "      <th>f0</th>\n",
       "      <th>f1</th>\n",
       "      <th>f2</th>\n",
       "      <th>product</th>\n",
       "    </tr>\n",
       "  </thead>\n",
       "  <tbody>\n",
       "    <tr>\n",
       "      <th>0</th>\n",
       "      <td>kBEdx</td>\n",
       "      <td>-15.001348</td>\n",
       "      <td>-8.276000</td>\n",
       "      <td>-0.005876</td>\n",
       "      <td>3.179103</td>\n",
       "    </tr>\n",
       "    <tr>\n",
       "      <th>1</th>\n",
       "      <td>62mP7</td>\n",
       "      <td>14.272088</td>\n",
       "      <td>-3.475083</td>\n",
       "      <td>0.999183</td>\n",
       "      <td>26.953261</td>\n",
       "    </tr>\n",
       "    <tr>\n",
       "      <th>2</th>\n",
       "      <td>vyE1P</td>\n",
       "      <td>6.263187</td>\n",
       "      <td>-5.948386</td>\n",
       "      <td>5.001160</td>\n",
       "      <td>134.766305</td>\n",
       "    </tr>\n",
       "    <tr>\n",
       "      <th>3</th>\n",
       "      <td>KcrkZ</td>\n",
       "      <td>-13.081196</td>\n",
       "      <td>-11.506057</td>\n",
       "      <td>4.999415</td>\n",
       "      <td>137.945408</td>\n",
       "    </tr>\n",
       "    <tr>\n",
       "      <th>4</th>\n",
       "      <td>AHL4O</td>\n",
       "      <td>12.702195</td>\n",
       "      <td>-8.147433</td>\n",
       "      <td>5.004363</td>\n",
       "      <td>134.766305</td>\n",
       "    </tr>\n",
       "  </tbody>\n",
       "</table>\n",
       "</div>"
      ],
      "text/plain": [
       "      id         f0         f1        f2     product\n",
       "0  kBEdx -15.001348  -8.276000 -0.005876    3.179103\n",
       "1  62mP7  14.272088  -3.475083  0.999183   26.953261\n",
       "2  vyE1P   6.263187  -5.948386  5.001160  134.766305\n",
       "3  KcrkZ -13.081196 -11.506057  4.999415  137.945408\n",
       "4  AHL4O  12.702195  -8.147433  5.004363  134.766305"
      ]
     },
     "execution_count": 3,
     "metadata": {},
     "output_type": "execute_result"
    }
   ],
   "source": [
    "region_1 = pd.read_csv('/datasets/geo_data_1.csv')\n",
    "region_1.head()"
   ]
  },
  {
   "cell_type": "code",
   "execution_count": 4,
   "metadata": {},
   "outputs": [
    {
     "data": {
      "text/html": [
       "<div>\n",
       "<style scoped>\n",
       "    .dataframe tbody tr th:only-of-type {\n",
       "        vertical-align: middle;\n",
       "    }\n",
       "\n",
       "    .dataframe tbody tr th {\n",
       "        vertical-align: top;\n",
       "    }\n",
       "\n",
       "    .dataframe thead th {\n",
       "        text-align: right;\n",
       "    }\n",
       "</style>\n",
       "<table border=\"1\" class=\"dataframe\">\n",
       "  <thead>\n",
       "    <tr style=\"text-align: right;\">\n",
       "      <th></th>\n",
       "      <th>id</th>\n",
       "      <th>f0</th>\n",
       "      <th>f1</th>\n",
       "      <th>f2</th>\n",
       "      <th>product</th>\n",
       "    </tr>\n",
       "  </thead>\n",
       "  <tbody>\n",
       "    <tr>\n",
       "      <th>0</th>\n",
       "      <td>fwXo0</td>\n",
       "      <td>-1.146987</td>\n",
       "      <td>0.963328</td>\n",
       "      <td>-0.828965</td>\n",
       "      <td>27.758673</td>\n",
       "    </tr>\n",
       "    <tr>\n",
       "      <th>1</th>\n",
       "      <td>WJtFt</td>\n",
       "      <td>0.262778</td>\n",
       "      <td>0.269839</td>\n",
       "      <td>-2.530187</td>\n",
       "      <td>56.069697</td>\n",
       "    </tr>\n",
       "    <tr>\n",
       "      <th>2</th>\n",
       "      <td>ovLUW</td>\n",
       "      <td>0.194587</td>\n",
       "      <td>0.289035</td>\n",
       "      <td>-5.586433</td>\n",
       "      <td>62.871910</td>\n",
       "    </tr>\n",
       "    <tr>\n",
       "      <th>3</th>\n",
       "      <td>q6cA6</td>\n",
       "      <td>2.236060</td>\n",
       "      <td>-0.553760</td>\n",
       "      <td>0.930038</td>\n",
       "      <td>114.572842</td>\n",
       "    </tr>\n",
       "    <tr>\n",
       "      <th>4</th>\n",
       "      <td>WPMUX</td>\n",
       "      <td>-0.515993</td>\n",
       "      <td>1.716266</td>\n",
       "      <td>5.899011</td>\n",
       "      <td>149.600746</td>\n",
       "    </tr>\n",
       "  </tbody>\n",
       "</table>\n",
       "</div>"
      ],
      "text/plain": [
       "      id        f0        f1        f2     product\n",
       "0  fwXo0 -1.146987  0.963328 -0.828965   27.758673\n",
       "1  WJtFt  0.262778  0.269839 -2.530187   56.069697\n",
       "2  ovLUW  0.194587  0.289035 -5.586433   62.871910\n",
       "3  q6cA6  2.236060 -0.553760  0.930038  114.572842\n",
       "4  WPMUX -0.515993  1.716266  5.899011  149.600746"
      ]
     },
     "execution_count": 4,
     "metadata": {},
     "output_type": "execute_result"
    }
   ],
   "source": [
    "region_2 = pd.read_csv('/datasets/geo_data_2.csv')\n",
    "region_2.head()"
   ]
  },
  {
   "cell_type": "markdown",
   "metadata": {},
   "source": [
    "изучим общую информацию о всех регионах "
   ]
  },
  {
   "cell_type": "code",
   "execution_count": 5,
   "metadata": {},
   "outputs": [
    {
     "name": "stdout",
     "output_type": "stream",
     "text": [
      "<class 'pandas.core.frame.DataFrame'>\n",
      "RangeIndex: 100000 entries, 0 to 99999\n",
      "Data columns (total 5 columns):\n",
      " #   Column   Non-Null Count   Dtype  \n",
      "---  ------   --------------   -----  \n",
      " 0   id       100000 non-null  object \n",
      " 1   f0       100000 non-null  float64\n",
      " 2   f1       100000 non-null  float64\n",
      " 3   f2       100000 non-null  float64\n",
      " 4   product  100000 non-null  float64\n",
      "dtypes: float64(4), object(1)\n",
      "memory usage: 3.8+ MB\n"
     ]
    },
    {
     "data": {
      "text/plain": [
       "None"
      ]
     },
     "metadata": {},
     "output_type": "display_data"
    },
    {
     "name": "stdout",
     "output_type": "stream",
     "text": [
      "<class 'pandas.core.frame.DataFrame'>\n",
      "RangeIndex: 100000 entries, 0 to 99999\n",
      "Data columns (total 5 columns):\n",
      " #   Column   Non-Null Count   Dtype  \n",
      "---  ------   --------------   -----  \n",
      " 0   id       100000 non-null  object \n",
      " 1   f0       100000 non-null  float64\n",
      " 2   f1       100000 non-null  float64\n",
      " 3   f2       100000 non-null  float64\n",
      " 4   product  100000 non-null  float64\n",
      "dtypes: float64(4), object(1)\n",
      "memory usage: 3.8+ MB\n"
     ]
    },
    {
     "data": {
      "text/plain": [
       "None"
      ]
     },
     "metadata": {},
     "output_type": "display_data"
    },
    {
     "name": "stdout",
     "output_type": "stream",
     "text": [
      "<class 'pandas.core.frame.DataFrame'>\n",
      "RangeIndex: 100000 entries, 0 to 99999\n",
      "Data columns (total 5 columns):\n",
      " #   Column   Non-Null Count   Dtype  \n",
      "---  ------   --------------   -----  \n",
      " 0   id       100000 non-null  object \n",
      " 1   f0       100000 non-null  float64\n",
      " 2   f1       100000 non-null  float64\n",
      " 3   f2       100000 non-null  float64\n",
      " 4   product  100000 non-null  float64\n",
      "dtypes: float64(4), object(1)\n",
      "memory usage: 3.8+ MB\n"
     ]
    },
    {
     "data": {
      "text/plain": [
       "None"
      ]
     },
     "metadata": {},
     "output_type": "display_data"
    }
   ],
   "source": [
    "display(region_0.info())\n",
    "display(region_1.info())\n",
    "display(region_2.info())"
   ]
  },
  {
   "cell_type": "markdown",
   "metadata": {},
   "source": [
    "Проверим датафреймы на наличие дубликатов"
   ]
  },
  {
   "cell_type": "code",
   "execution_count": 6,
   "metadata": {},
   "outputs": [
    {
     "name": "stdout",
     "output_type": "stream",
     "text": [
      "Количество дубликатов в регионе 0: 0\n",
      "Количество дубликатов в регионе 2: 0\n",
      "Количество дубликатов в регионе 3: 0\n"
     ]
    }
   ],
   "source": [
    "print('Количество дубликатов в регионе 0:', region_0.duplicated().sum())\n",
    "print('Количество дубликатов в регионе 2:', region_1.duplicated().sum())\n",
    "print('Количество дубликатов в регионе 3:', region_2.duplicated().sum())"
   ]
  },
  {
   "cell_type": "markdown",
   "metadata": {},
   "source": [
    "Посмотрим уникальные значения каждого датафрейма"
   ]
  },
  {
   "cell_type": "code",
   "execution_count": 7,
   "metadata": {},
   "outputs": [
    {
     "data": {
      "text/plain": [
       "id          99990\n",
       "f0         100000\n",
       "f1         100000\n",
       "f2         100000\n",
       "product    100000\n",
       "dtype: int64"
      ]
     },
     "metadata": {},
     "output_type": "display_data"
    },
    {
     "data": {
      "text/plain": [
       "id          99996\n",
       "f0         100000\n",
       "f1         100000\n",
       "f2         100000\n",
       "product        12\n",
       "dtype: int64"
      ]
     },
     "metadata": {},
     "output_type": "display_data"
    },
    {
     "data": {
      "text/plain": [
       "id          99996\n",
       "f0         100000\n",
       "f1         100000\n",
       "f2         100000\n",
       "product    100000\n",
       "dtype: int64"
      ]
     },
     "metadata": {},
     "output_type": "display_data"
    }
   ],
   "source": [
    "display(region_0.nunique())\n",
    "display(region_1.nunique())\n",
    "display(region_2.nunique())"
   ]
  },
  {
   "cell_type": "code",
   "execution_count": 8,
   "metadata": {},
   "outputs": [
    {
     "data": {
      "text/html": [
       "<div>\n",
       "<style scoped>\n",
       "    .dataframe tbody tr th:only-of-type {\n",
       "        vertical-align: middle;\n",
       "    }\n",
       "\n",
       "    .dataframe tbody tr th {\n",
       "        vertical-align: top;\n",
       "    }\n",
       "\n",
       "    .dataframe thead th {\n",
       "        text-align: right;\n",
       "    }\n",
       "</style>\n",
       "<table border=\"1\" class=\"dataframe\">\n",
       "  <thead>\n",
       "    <tr style=\"text-align: right;\">\n",
       "      <th></th>\n",
       "      <th>f0</th>\n",
       "      <th>f1</th>\n",
       "      <th>f2</th>\n",
       "      <th>product</th>\n",
       "    </tr>\n",
       "  </thead>\n",
       "  <tbody>\n",
       "    <tr>\n",
       "      <th>count</th>\n",
       "      <td>100000.000000</td>\n",
       "      <td>100000.000000</td>\n",
       "      <td>100000.000000</td>\n",
       "      <td>100000.000000</td>\n",
       "    </tr>\n",
       "    <tr>\n",
       "      <th>mean</th>\n",
       "      <td>0.500419</td>\n",
       "      <td>0.250143</td>\n",
       "      <td>2.502647</td>\n",
       "      <td>92.500000</td>\n",
       "    </tr>\n",
       "    <tr>\n",
       "      <th>std</th>\n",
       "      <td>0.871832</td>\n",
       "      <td>0.504433</td>\n",
       "      <td>3.248248</td>\n",
       "      <td>44.288691</td>\n",
       "    </tr>\n",
       "    <tr>\n",
       "      <th>min</th>\n",
       "      <td>-1.408605</td>\n",
       "      <td>-0.848218</td>\n",
       "      <td>-12.088328</td>\n",
       "      <td>0.000000</td>\n",
       "    </tr>\n",
       "    <tr>\n",
       "      <th>25%</th>\n",
       "      <td>-0.072580</td>\n",
       "      <td>-0.200881</td>\n",
       "      <td>0.287748</td>\n",
       "      <td>56.497507</td>\n",
       "    </tr>\n",
       "    <tr>\n",
       "      <th>50%</th>\n",
       "      <td>0.502360</td>\n",
       "      <td>0.250252</td>\n",
       "      <td>2.515969</td>\n",
       "      <td>91.849972</td>\n",
       "    </tr>\n",
       "    <tr>\n",
       "      <th>75%</th>\n",
       "      <td>1.073581</td>\n",
       "      <td>0.700646</td>\n",
       "      <td>4.715088</td>\n",
       "      <td>128.564089</td>\n",
       "    </tr>\n",
       "    <tr>\n",
       "      <th>max</th>\n",
       "      <td>2.362331</td>\n",
       "      <td>1.343769</td>\n",
       "      <td>16.003790</td>\n",
       "      <td>185.364347</td>\n",
       "    </tr>\n",
       "  </tbody>\n",
       "</table>\n",
       "</div>"
      ],
      "text/plain": [
       "                  f0             f1             f2        product\n",
       "count  100000.000000  100000.000000  100000.000000  100000.000000\n",
       "mean        0.500419       0.250143       2.502647      92.500000\n",
       "std         0.871832       0.504433       3.248248      44.288691\n",
       "min        -1.408605      -0.848218     -12.088328       0.000000\n",
       "25%        -0.072580      -0.200881       0.287748      56.497507\n",
       "50%         0.502360       0.250252       2.515969      91.849972\n",
       "75%         1.073581       0.700646       4.715088     128.564089\n",
       "max         2.362331       1.343769      16.003790     185.364347"
      ]
     },
     "metadata": {},
     "output_type": "display_data"
    },
    {
     "data": {
      "text/html": [
       "<div>\n",
       "<style scoped>\n",
       "    .dataframe tbody tr th:only-of-type {\n",
       "        vertical-align: middle;\n",
       "    }\n",
       "\n",
       "    .dataframe tbody tr th {\n",
       "        vertical-align: top;\n",
       "    }\n",
       "\n",
       "    .dataframe thead th {\n",
       "        text-align: right;\n",
       "    }\n",
       "</style>\n",
       "<table border=\"1\" class=\"dataframe\">\n",
       "  <thead>\n",
       "    <tr style=\"text-align: right;\">\n",
       "      <th></th>\n",
       "      <th>f0</th>\n",
       "      <th>f1</th>\n",
       "      <th>f2</th>\n",
       "      <th>product</th>\n",
       "    </tr>\n",
       "  </thead>\n",
       "  <tbody>\n",
       "    <tr>\n",
       "      <th>count</th>\n",
       "      <td>100000.000000</td>\n",
       "      <td>100000.000000</td>\n",
       "      <td>100000.000000</td>\n",
       "      <td>100000.000000</td>\n",
       "    </tr>\n",
       "    <tr>\n",
       "      <th>mean</th>\n",
       "      <td>1.141296</td>\n",
       "      <td>-4.796579</td>\n",
       "      <td>2.494541</td>\n",
       "      <td>68.825000</td>\n",
       "    </tr>\n",
       "    <tr>\n",
       "      <th>std</th>\n",
       "      <td>8.965932</td>\n",
       "      <td>5.119872</td>\n",
       "      <td>1.703572</td>\n",
       "      <td>45.944423</td>\n",
       "    </tr>\n",
       "    <tr>\n",
       "      <th>min</th>\n",
       "      <td>-31.609576</td>\n",
       "      <td>-26.358598</td>\n",
       "      <td>-0.018144</td>\n",
       "      <td>0.000000</td>\n",
       "    </tr>\n",
       "    <tr>\n",
       "      <th>25%</th>\n",
       "      <td>-6.298551</td>\n",
       "      <td>-8.267985</td>\n",
       "      <td>1.000021</td>\n",
       "      <td>26.953261</td>\n",
       "    </tr>\n",
       "    <tr>\n",
       "      <th>50%</th>\n",
       "      <td>1.153055</td>\n",
       "      <td>-4.813172</td>\n",
       "      <td>2.011479</td>\n",
       "      <td>57.085625</td>\n",
       "    </tr>\n",
       "    <tr>\n",
       "      <th>75%</th>\n",
       "      <td>8.621015</td>\n",
       "      <td>-1.332816</td>\n",
       "      <td>3.999904</td>\n",
       "      <td>107.813044</td>\n",
       "    </tr>\n",
       "    <tr>\n",
       "      <th>max</th>\n",
       "      <td>29.421755</td>\n",
       "      <td>18.734063</td>\n",
       "      <td>5.019721</td>\n",
       "      <td>137.945408</td>\n",
       "    </tr>\n",
       "  </tbody>\n",
       "</table>\n",
       "</div>"
      ],
      "text/plain": [
       "                  f0             f1             f2        product\n",
       "count  100000.000000  100000.000000  100000.000000  100000.000000\n",
       "mean        1.141296      -4.796579       2.494541      68.825000\n",
       "std         8.965932       5.119872       1.703572      45.944423\n",
       "min       -31.609576     -26.358598      -0.018144       0.000000\n",
       "25%        -6.298551      -8.267985       1.000021      26.953261\n",
       "50%         1.153055      -4.813172       2.011479      57.085625\n",
       "75%         8.621015      -1.332816       3.999904     107.813044\n",
       "max        29.421755      18.734063       5.019721     137.945408"
      ]
     },
     "metadata": {},
     "output_type": "display_data"
    },
    {
     "data": {
      "text/html": [
       "<div>\n",
       "<style scoped>\n",
       "    .dataframe tbody tr th:only-of-type {\n",
       "        vertical-align: middle;\n",
       "    }\n",
       "\n",
       "    .dataframe tbody tr th {\n",
       "        vertical-align: top;\n",
       "    }\n",
       "\n",
       "    .dataframe thead th {\n",
       "        text-align: right;\n",
       "    }\n",
       "</style>\n",
       "<table border=\"1\" class=\"dataframe\">\n",
       "  <thead>\n",
       "    <tr style=\"text-align: right;\">\n",
       "      <th></th>\n",
       "      <th>f0</th>\n",
       "      <th>f1</th>\n",
       "      <th>f2</th>\n",
       "      <th>product</th>\n",
       "    </tr>\n",
       "  </thead>\n",
       "  <tbody>\n",
       "    <tr>\n",
       "      <th>count</th>\n",
       "      <td>100000.000000</td>\n",
       "      <td>100000.000000</td>\n",
       "      <td>100000.000000</td>\n",
       "      <td>100000.000000</td>\n",
       "    </tr>\n",
       "    <tr>\n",
       "      <th>mean</th>\n",
       "      <td>0.002023</td>\n",
       "      <td>-0.002081</td>\n",
       "      <td>2.495128</td>\n",
       "      <td>95.000000</td>\n",
       "    </tr>\n",
       "    <tr>\n",
       "      <th>std</th>\n",
       "      <td>1.732045</td>\n",
       "      <td>1.730417</td>\n",
       "      <td>3.473445</td>\n",
       "      <td>44.749921</td>\n",
       "    </tr>\n",
       "    <tr>\n",
       "      <th>min</th>\n",
       "      <td>-8.760004</td>\n",
       "      <td>-7.084020</td>\n",
       "      <td>-11.970335</td>\n",
       "      <td>0.000000</td>\n",
       "    </tr>\n",
       "    <tr>\n",
       "      <th>25%</th>\n",
       "      <td>-1.162288</td>\n",
       "      <td>-1.174820</td>\n",
       "      <td>0.130359</td>\n",
       "      <td>59.450441</td>\n",
       "    </tr>\n",
       "    <tr>\n",
       "      <th>50%</th>\n",
       "      <td>0.009424</td>\n",
       "      <td>-0.009482</td>\n",
       "      <td>2.484236</td>\n",
       "      <td>94.925613</td>\n",
       "    </tr>\n",
       "    <tr>\n",
       "      <th>75%</th>\n",
       "      <td>1.158535</td>\n",
       "      <td>1.163678</td>\n",
       "      <td>4.858794</td>\n",
       "      <td>130.595027</td>\n",
       "    </tr>\n",
       "    <tr>\n",
       "      <th>max</th>\n",
       "      <td>7.238262</td>\n",
       "      <td>7.844801</td>\n",
       "      <td>16.739402</td>\n",
       "      <td>190.029838</td>\n",
       "    </tr>\n",
       "  </tbody>\n",
       "</table>\n",
       "</div>"
      ],
      "text/plain": [
       "                  f0             f1             f2        product\n",
       "count  100000.000000  100000.000000  100000.000000  100000.000000\n",
       "mean        0.002023      -0.002081       2.495128      95.000000\n",
       "std         1.732045       1.730417       3.473445      44.749921\n",
       "min        -8.760004      -7.084020     -11.970335       0.000000\n",
       "25%        -1.162288      -1.174820       0.130359      59.450441\n",
       "50%         0.009424      -0.009482       2.484236      94.925613\n",
       "75%         1.158535       1.163678       4.858794     130.595027\n",
       "max         7.238262       7.844801      16.739402     190.029838"
      ]
     },
     "metadata": {},
     "output_type": "display_data"
    }
   ],
   "source": [
    "display(region_0.describe())\n",
    "display(region_1.describe())\n",
    "display(region_2.describe())"
   ]
  },
  {
   "cell_type": "markdown",
   "metadata": {},
   "source": [
    "Существенных выбросов не наблюдается, медианные значения близки к средним "
   ]
  },
  {
   "cell_type": "markdown",
   "metadata": {},
   "source": [
    "Чтобы исключить мультиколлениарность, построим матрицы корреляции"
   ]
  },
  {
   "cell_type": "code",
   "execution_count": 9,
   "metadata": {},
   "outputs": [
    {
     "data": {
      "image/png": "[encoded data removed]",
      "text/plain": [
       "<Figure size 720x720 with 2 Axes>"
      ]
     },
     "metadata": {
      "needs_background": "light"
     },
     "output_type": "display_data"
    }
   ],
   "source": [
    "plt.figure(figsize=(10, 10))\n",
    "plt.title('Месторождение 0', fontsize=16)\n",
    "heatmap(region_0.corr(), annot = True, linewidths=3);"
   ]
  },
  {
   "cell_type": "code",
   "execution_count": 10,
   "metadata": {},
   "outputs": [
    {
     "data": {
      "image/png": "[encoded data removed]",
      "text/plain": [
       "<Figure size 720x720 with 2 Axes>"
      ]
     },
     "metadata": {
      "needs_background": "light"
     },
     "output_type": "display_data"
    }
   ],
   "source": [
    "plt.figure(figsize=(10, 10))\n",
    "plt.title('Месторождение 1', fontsize=16)\n",
    "heatmap(region_1.corr(), annot = True, linewidths=3);"
   ]
  },
  {
   "cell_type": "code",
   "execution_count": 11,
   "metadata": {},
   "outputs": [
    {
     "data": {
      "image/png": "[encoded data removed]",
      "text/plain": [
       "<Figure size 720x720 with 2 Axes>"
      ]
     },
     "metadata": {
      "needs_background": "light"
     },
     "output_type": "display_data"
    }
   ],
   "source": [
    "plt.figure(figsize=(10, 10))\n",
    "plt.title('Меторождение 2', fontsize=16)\n",
    "heatmap(region_2.corr(), annot = True, linewidths=3);"
   ]
  },
  {
   "cell_type": "markdown",
   "metadata": {},
   "source": [
    "### Выводы:\n",
    "- загрузили и изучили данные. В них не наблюдается пропусков и дубликатов, типы данных нормальные\n",
    "- Существенных выбросов не наблюдается, медианные значения близки к средним\n",
    "- Корреляции между признаками практически нет. Все признаки не имеют взаимосвязи между собой. У продукта есть прямая зависимость от признака f2, получается, что объем нефти в данном регионе напрямую зависит от этого признака. "
   ]
  },
  {
   "cell_type": "markdown",
   "metadata": {},
   "source": [
    "## Обучение и проверка модели"
   ]
  },
  {
   "cell_type": "markdown",
   "metadata": {},
   "source": [
    "### Подготовка данных"
   ]
  },
  {
   "cell_type": "markdown",
   "metadata": {},
   "source": [
    "Столбцы с 'id' для дальнейшей работы нам не нужны, удалим их"
   ]
  },
  {
   "cell_type": "code",
   "execution_count": 12,
   "metadata": {},
   "outputs": [],
   "source": [
    "region_0 = region_0.drop('id', axis=1)\n",
    "region_1 = region_1.drop('id', axis=1)\n",
    "region_2 = region_2.drop('id', axis=1)"
   ]
  },
  {
   "cell_type": "markdown",
   "metadata": {},
   "source": [
    "Для дальнейшей работы необходимо подготовить данные. Работаем с 3 регионами, поэтому для удобства напишем функцию для выделения признаков и разбиения данных на выборки"
   ]
  },
  {
   "cell_type": "code",
   "execution_count": 13,
   "metadata": {},
   "outputs": [],
   "source": [
    " def pred_region(data):\n",
    "    features = data.drop('product', axis=1)\n",
    "    target = data['product']\n",
    "    #по условия задания разобъем выборки в масштабе 3 к 1\n",
    "    features_train, features_valid, target_train, target_valid = train_test_split(features, target, \n",
    "                                                                                  test_size=0.25, random_state=2222222)\n",
    "    scaler = StandardScaler()\n",
    "    scaler.fit(features_train)\n",
    "    \n",
    "    features_train = pd.DataFrame(scaler.transform(features_train),\n",
    "                                  index=target_train)\n",
    "    features_valid = pd.DataFrame(scaler.transform(features_valid),\n",
    "                                  index=target_valid)\n",
    "    return features_train, features_valid, target_train, target_valid     "
   ]
  },
  {
   "cell_type": "code",
   "execution_count": 14,
   "metadata": {},
   "outputs": [],
   "source": [
    "# получим features и target для 3 регионов\n",
    "features_train_0, features_valid_0, target_train_0, target_valid_0 = pred_region(region_0)\n",
    "features_train_1, features_valid_1, target_train_1, target_valid_1 = pred_region(region_1)\n",
    "features_train_2, features_valid_2, target_train_2, target_valid_2 = pred_region(region_2)"
   ]
  },
  {
   "cell_type": "markdown",
   "metadata": {},
   "source": [
    "Проверим размер обучающей и тестовой выборок для каждого из регионов"
   ]
  },
  {
   "cell_type": "code",
   "execution_count": 15,
   "metadata": {},
   "outputs": [
    {
     "name": "stdout",
     "output_type": "stream",
     "text": [
      "Размер обучающей выборки: (75000, 3)\n",
      "Размер тестовой выборки: (25000, 3)\n"
     ]
    }
   ],
   "source": [
    "# для региона 0\n",
    "print('Размер обучающей выборки:', features_train_0.shape)\n",
    "print('Размер тестовой выборки:', features_valid_0.shape)"
   ]
  },
  {
   "cell_type": "code",
   "execution_count": 16,
   "metadata": {},
   "outputs": [
    {
     "name": "stdout",
     "output_type": "stream",
     "text": [
      "Размер обучающей выборки: (75000, 3)\n",
      "Размер тестовой выборки: (25000, 3)\n"
     ]
    }
   ],
   "source": [
    "# для региона 1\n",
    "print('Размер обучающей выборки:', features_train_1.shape)\n",
    "print('Размер тестовой выборки:', features_valid_1.shape)"
   ]
  },
  {
   "cell_type": "code",
   "execution_count": 17,
   "metadata": {},
   "outputs": [
    {
     "name": "stdout",
     "output_type": "stream",
     "text": [
      "Размер обучающей выборки: (75000, 3)\n",
      "Размер тестовой выборки: (25000, 3)\n"
     ]
    }
   ],
   "source": [
    "# для региона 2\n",
    "print('Размер обучающей выборки:', features_train_2.shape)\n",
    "print('Размер тестовой выборки:', features_valid_2.shape)"
   ]
  },
  {
   "cell_type": "markdown",
   "metadata": {},
   "source": [
    "### Обучение модели"
   ]
  },
  {
   "cell_type": "markdown",
   "metadata": {},
   "source": [
    "Далее обучим модель линейной регрессии и сделаем предсказания на валидационной выборке"
   ]
  },
  {
   "cell_type": "markdown",
   "metadata": {},
   "source": [
    "Для простоты кода, напишем функцию для получения результатов моделирования"
   ]
  },
  {
   "cell_type": "code",
   "execution_count": 18,
   "metadata": {},
   "outputs": [],
   "source": [
    "def model(features_train, features_valid, target_train, target_valid):\n",
    "    \n",
    "    model = LinearRegression() # используем модель LinearRegression\n",
    "    #обучим модель на тренировочной выборке\n",
    "    model.fit(features_train, target_train)\n",
    "    #получим предсказангия на валидационной выборке\n",
    "    predictions_valid = pd.Series(model.predict(features_valid)) \n",
    "    #посчитаем метрику RMSE\n",
    "    rmse = mean_squared_error(target_valid, predictions_valid)**0.5 \n",
    "    mean_pred_pr = predictions_valid.mean()\n",
    "    \n",
    "    return predictions_valid, rmse, mean_pred_pr"
   ]
  },
  {
   "cell_type": "markdown",
   "metadata": {},
   "source": [
    "Найдем данные по всем регионам"
   ]
  },
  {
   "cell_type": "code",
   "execution_count": 19,
   "metadata": {},
   "outputs": [],
   "source": [
    "predictions_valid_0, rmse_0, mean_pred_pr_0 = model(features_train_0, features_valid_0, target_train_0, target_valid_0)\n",
    "predictions_valid_1, rmse_1, mean_pred_pr_1 = model(features_train_1, features_valid_1, target_train_1, target_valid_1)\n",
    "predictions_valid_2, rmse_2, mean_pred_pr_2 = model(features_train_2, features_valid_2, target_train_2, target_valid_2)"
   ]
  },
  {
   "cell_type": "markdown",
   "metadata": {},
   "source": [
    "Выведем на экран средний запас предсказанного сырья и RMSE модели"
   ]
  },
  {
   "cell_type": "code",
   "execution_count": 20,
   "metadata": {},
   "outputs": [
    {
     "name": "stdout",
     "output_type": "stream",
     "text": [
      "средний запас предсказанного сырья региона 0: 92.35, RMSE модели 37.61\n",
      "средний запас предсказанного сырья региона 1: 68.71, а RMSE модели 0.89\n",
      "средний запас предсказанного сырья региона 2: 95.09, а RMSE модели 39.93\n"
     ]
    }
   ],
   "source": [
    "print('средний запас предсказанного сырья региона 0: {:.2f}, RMSE модели {:.2f}'.format(mean_pred_pr_0, rmse_0))\n",
    "print('средний запас предсказанного сырья региона 1: {:.2f}, а RMSE модели {:.2f}'.format(mean_pred_pr_1, rmse_1))\n",
    "print('средний запас предсказанного сырья региона 2: {:.2f}, а RMSE модели {:.2f}'.format(mean_pred_pr_2, rmse_2))"
   ]
  },
  {
   "cell_type": "markdown",
   "metadata": {},
   "source": [
    "Выведем на экран реальный запас сырья"
   ]
  },
  {
   "cell_type": "code",
   "execution_count": 21,
   "metadata": {},
   "outputs": [
    {
     "name": "stdout",
     "output_type": "stream",
     "text": [
      "реальный запас сырья в регионе 0: 92.56\n",
      "реальный запас сырья в регионе 1: 68.70\n",
      "реальный запас сырья в регионе 2: 94.79\n"
     ]
    }
   ],
   "source": [
    "print('реальный запас сырья в регионе 0: {:.2f}'.format(target_valid_0.mean()))\n",
    "print('реальный запас сырья в регионе 1: {:.2f}'.format(target_valid_1.mean()))\n",
    "print('реальный запас сырья в регионе 2: {:.2f}'.format(target_valid_2.mean()))"
   ]
  },
  {
   "cell_type": "markdown",
   "metadata": {},
   "source": [
    "### Выводы\n",
    "- все модели предсказывают значения близкие к истинным, значени отличаются слабо\n",
    "- регионы 0 и 2 имеют достаточно похожие значения друг к другу, меторождение региона 1 имеет меньший запас сырья\n",
    "- модель региона 1 показала наилучший результат RMSE. Ошибка на этом месторождении всего 0,89 тыс. баррелей, что выглядит достаточно странно, возможно это связано с тем, что признак f2 имеет прямую зависимость с целевым признаком и определяет поведение модели"
   ]
  },
  {
   "cell_type": "markdown",
   "metadata": {},
   "source": [
    "## Подготовка к расчёту прибыли"
   ]
  },
  {
   "cell_type": "markdown",
   "metadata": {},
   "source": [
    "### Зададим значения, указанные в условии задачи"
   ]
  },
  {
   "cell_type": "code",
   "execution_count": 22,
   "metadata": {},
   "outputs": [],
   "source": [
    "budget = 10**10  # объем бюджет на разработку скважин (руб)\n",
    "min_point = 500 # количество точек для разработки\n",
    "best_point = 200  # Количесвто лучших точек, выбранных для разработки\n",
    "prise = 450000 # доход с 1 тыс баррель (руб)\n",
    "loss_probability = 0.025 # максимальная вероятность убытков (отн. ед.)\n",
    "Bootstrap = 1000"
   ]
  },
  {
   "cell_type": "markdown",
   "metadata": {},
   "source": [
    "Для начала необходимо посчитать необходимый минимальный объем добычи месторождения, чтобы оно отбивало хотя бы себестоимость"
   ]
  },
  {
   "cell_type": "code",
   "execution_count": 23,
   "metadata": {},
   "outputs": [
    {
     "name": "stdout",
     "output_type": "stream",
     "text": [
      "минимально необходимый объем сырья для безубыточной разработки новой скважины 111.11 тыс. баррелей\n"
     ]
    }
   ],
   "source": [
    "min_volume = budget / prise / best_point\n",
    "print('минимально необходимый объем сырья для безубыточной разработки новой скважины {:.2f} тыс. баррелей'.format(min_volume))"
   ]
  },
  {
   "cell_type": "markdown",
   "metadata": {},
   "source": [
    "### Вывод\n",
    "Для того, чтобы можно работать на месторождении было выгодно, нужно, чтобы в среднем в скважинах было больше 111.1 тыс. баррелей нефти. Во всех регионах данное значение ниже. Значит, нам необходимо выбрать наиболее выгодные точки для дальнейшей работы у каждого из регионов и уже сравнивать их между собой"
   ]
  },
  {
   "cell_type": "markdown",
   "metadata": {},
   "source": [
    "## Расчёт прибыли и рисков "
   ]
  },
  {
   "cell_type": "markdown",
   "metadata": {},
   "source": [
    "Произведем расчет прибыли 200 самых привлекательных скважин с максимальными значениями предсказаний. Для этих скважин найдем значения и проведем по ним расчет прибыли. Создадим функцию. "
   ]
  },
  {
   "cell_type": "code",
   "execution_count": 24,
   "metadata": {},
   "outputs": [],
   "source": [
    "def profit_calc(target_valid, predictions_valid):\n",
    "    # отберем 200 скважин с максимальным объемом нефти\n",
    "    pred_choice = predictions_valid.sort_values(ascending=False).head(200) \n",
    "    target_choice = target_valid.reset_index(drop=True)[pred_choice.index] \n",
    "    profit = target_choice.sum() * prise\n",
    "    return profit"
   ]
  },
  {
   "cell_type": "code",
   "execution_count": 25,
   "metadata": {},
   "outputs": [
    {
     "name": "stdout",
     "output_type": "stream",
     "text": [
      "прибыль с 200 выбранных меделью скважин для региона 0 - 3123435859.614 руб.\n",
      "прибыль с 200 выбранных меделью скважин для региона 1 - 2415086696.682 руб.\n",
      "прибыль с 200 выбранных меделью скважин для региона 2 - 2687028804.849 руб.\n"
     ]
    }
   ],
   "source": [
    "print('прибыль с 200 выбранных меделью скважин для региона 0 - {:.3f} руб.'.format(profit_calc(target_valid_0, predictions_valid_0) - budget))\n",
    "print('прибыль с 200 выбранных меделью скважин для региона 1 - {:.3f} руб.'.format(profit_calc(target_valid_1, predictions_valid_1) - budget))\n",
    "print('прибыль с 200 выбранных меделью скважин для региона 2 - {:.3f} руб.'.format(profit_calc(target_valid_2, predictions_valid_2) - budget))"
   ]
  },
  {
   "cell_type": "markdown",
   "metadata": {},
   "source": [
    "### Вывод:\n",
    "- Мы наблюдаем очень высокое значение прибыли для каждого из регионов, от 2.6 до 3.1 млрд руб., однако это будет в случае если будет производиться добыча по всем точкам. Согласно условию задачи, разведку возможно произвести только по 500 точкам, а разработать всего 200 наилучших месторождений. Необходимо выбрать лучшие месторождения, исходя из ограничений. Напишем функцию."
   ]
  },
  {
   "cell_type": "code",
   "execution_count": 26,
   "metadata": {},
   "outputs": [],
   "source": [
    "def revenue (target_valid, predictions_valid, min_point):\n",
    "    pred_choice = predictions_valid.sort_values(ascending=False)\n",
    "    \n",
    "    # определим верные знгачения для отобраных скважин\n",
    "    target_choice = target_valid[pred_choice.index][:min_point]\n",
    "    income = target_choice.sum() * prise # доход в рублях\n",
    "    return income"
   ]
  },
  {
   "cell_type": "code",
   "execution_count": 27,
   "metadata": {},
   "outputs": [],
   "source": [
    "# создадим функцию для каждого региона\n",
    "def income_distribution (predictions_valid, target_valid, Bootstrap, min_point):\n",
    "    state = np.random.RandomState(2222222)\n",
    "    count = 0 \n",
    "\n",
    "    values = []\n",
    "    \n",
    "    for i in range(Bootstrap):\n",
    "        target_subsample = target_valid.reset_index(drop=True).sample(min_point, replace=True, random_state=state)\n",
    "        probs_subsample = predictions_valid[target_subsample.index]\n",
    "        rev = revenue(target_subsample, probs_subsample, best_point) - budget\n",
    "        values.append(rev)\n",
    "        #проверяем выборку на убыточность, если является таковой, то увеличиваем счетчик\n",
    "        if rev < 0:\n",
    "            count +=1\n",
    "    values = pd.Series(values)\n",
    "    \n",
    "    #посчитаем и выведем среднее значение выручки\n",
    "    mean = values.mean()\n",
    "    print(\"Среднее значение выручки:\", mean, 'рублей')\n",
    "    # посчитаем и выведем 95-% доверительный интервал\n",
    "    confidence_interval = st.t.interval(0.95, len(values)-1, values.mean(), np.std(values, ddof=1))\n",
    "    print(\"95%-ый доверительный интервал:\", confidence_interval)\n",
    "    pvalue = 1. * count / Bootstrap\n",
    "    if pvalue < loss_probability:\n",
    "        print(\"Вероятность убытка {:.2%}, что меньше допустимой по условиям задачи, значит регион нам подходит\".format(pvalue))\n",
    "    else:\n",
    "        print(\"Вероятность убытка {:.2%}, что больше допустимой по условиям задачи, регион нам не подходит\".format(pvalue))\n",
    "    # левая граница доверительного интервала\n",
    "    one_x12, one_y12 = [confidence_interval[0],confidence_interval[0]], [0, 30]\n",
    "    # правая граница доверительного интервала\n",
    "    two_x12, two_y12 = [confidence_interval[1],confidence_interval[1]], [0, 30]"
   ]
  },
  {
   "cell_type": "code",
   "execution_count": 28,
   "metadata": {},
   "outputs": [],
   "source": [
    "from scipy import stats as st # для доверительного интервала"
   ]
  },
  {
   "cell_type": "code",
   "execution_count": 29,
   "metadata": {},
   "outputs": [
    {
     "name": "stdout",
     "output_type": "stream",
     "text": [
      "Для региона №0 при случайном выборе 500 скважин получаются следующие показатели\n",
      "Среднее значение выручки: 438299260.14033836 рублей\n",
      "95%-ый доверительный интервал: (-102926998.97528344, 979525519.2559602)\n",
      "Вероятность убытка 5.10%, что больше допустимой по условиям задачи, регион нам не подходит\n"
     ]
    }
   ],
   "source": [
    "print('Для региона №0 при случайном выборе 500 скважин получаются следующие показатели')\n",
    "income_distribution (predictions_valid_0, target_valid_0, Bootstrap, min_point)"
   ]
  },
  {
   "cell_type": "code",
   "execution_count": 30,
   "metadata": {},
   "outputs": [
    {
     "name": "stdout",
     "output_type": "stream",
     "text": [
      "Для региона №1 при случайном выборе 500 скважин получаются следующие показатели\n",
      "Среднее значение выручки: 495023502.0275886 рублей\n",
      "95%-ый доверительный интервал: (75613820.79878777, 914433183.2563894)\n",
      "Вероятность убытка 1.30%, что меньше допустимой по условиям задачи, значит регион нам подходит\n"
     ]
    }
   ],
   "source": [
    "print('Для региона №1 при случайном выборе 500 скважин получаются следующие показатели')\n",
    "income_distribution (predictions_valid_1, target_valid_1, Bootstrap, min_point)"
   ]
  },
  {
   "cell_type": "code",
   "execution_count": 31,
   "metadata": {},
   "outputs": [
    {
     "name": "stdout",
     "output_type": "stream",
     "text": [
      "Для региона №2 при случайном выборе 500 скважин получаются следующие показатели\n",
      "Среднее значение выручки: 406619450.84611785 рублей\n",
      "95%-ый доверительный интервал: (-128485621.40717942, 941724523.0994151)\n",
      "Вероятность убытка 7.20%, что больше допустимой по условиям задачи, регион нам не подходит\n"
     ]
    }
   ],
   "source": [
    "print('Для региона №2 при случайном выборе 500 скважин получаются следующие показатели')\n",
    "income_distribution (predictions_valid_2, target_valid_2, Bootstrap, min_point)"
   ]
  },
  {
   "cell_type": "markdown",
   "metadata": {},
   "source": [
    "### Выводы\n",
    "- На основе приведенного анализа, можно предположить, что наиболее выгодный реогион для разработки месторождения - регион №1\n",
    "- Регион №1 показал лучшее среднее значение выручки - 495023502.0275886 рублей\n",
    "- 95%-ый доверительный интервал: 75613820.79878777, 914433183.2563894\n",
    "- вероятность получения убытка всего 1.3%, что подходит нам по условию задачи. \n",
    "- в двух других регионах вероятность получения убытка значительно выше - 5.1% и 7.2% соответственно, также у них меньше значение средней выручки. \n",
    "Одназначно стоит выбрать для дальнейшей работы регион №1. "
   ]
  },
  {
   "cell_type": "markdown",
   "metadata": {},
   "source": [
    "## Чек-лист готовности проекта"
   ]
  },
  {
   "cell_type": "markdown",
   "metadata": {},
   "source": [
    "Поставьте 'x' в выполненных пунктах. Далее нажмите Shift+Enter."
   ]
  },
  {
   "cell_type": "markdown",
   "metadata": {},
   "source": [
    "- [x]  Jupyter Notebook открыт\n",
    "- [x]  Весь код выполняется без ошибок\n",
    "- [x]  Ячейки с кодом расположены в порядке исполнения\n",
    "- [x]  Выполнен шаг 1: данные подготовлены\n",
    "- [x]  Выполнен шаг 2: модели обучены и проверены\n",
    "    - [x]  Данные корректно разбиты на обучающую и валидационную выборки\n",
    "    - [x]  Модели обучены, предсказания сделаны\n",
    "    - [x]  Предсказания и правильные ответы на валидационной выборке сохранены\n",
    "    - [x]  На экране напечатаны результаты\n",
    "    - [x]  Сделаны выводы\n",
    "- [x]  Выполнен шаг 3: проведена подготовка к расчёту прибыли\n",
    "    - [x]  Для всех ключевых значений созданы константы Python\n",
    "    - [x]  Посчитано минимальное среднее количество продукта в месторождениях региона, достаточное для разработки\n",
    "    - [x]  По предыдущему пункту сделаны выводы\n",
    "    - [x]  Написана функция расчёта прибыли\n",
    "- [x]  Выполнен шаг 4: посчитаны риски и прибыль\n",
    "    - [x]  Проведена процедура *Bootstrap*\n",
    "    - [x]  Все параметры бутстрепа соответствуют условию\n",
    "    - [x]  Найдены все нужные величины\n",
    "    - [x]  Предложен регион для разработки месторождения\n",
    "    - [x]  Выбор региона обоснован"
   ]
  }
 ],
 "metadata": {
  "ExecuteTimeLog": [
   {
    "duration": 1664,
    "start_time": "2024-09-10T11:03:25.701Z"
   },
   {
    "duration": 532,
    "start_time": "2024-09-10T11:07:26.228Z"
   },
   {
    "duration": 241,
    "start_time": "2024-09-10T11:07:55.133Z"
   },
   {
    "duration": 244,
    "start_time": "2024-09-10T11:08:05.393Z"
   },
   {
    "duration": 29,
    "start_time": "2024-09-10T11:10:44.357Z"
   },
   {
    "duration": 132,
    "start_time": "2024-09-10T11:11:14.690Z"
   },
   {
    "duration": 45,
    "start_time": "2024-09-10T11:11:34.924Z"
   },
   {
    "duration": 53,
    "start_time": "2024-09-10T11:12:21.815Z"
   },
   {
    "duration": 90,
    "start_time": "2024-09-10T11:12:28.401Z"
   },
   {
    "duration": 145,
    "start_time": "2024-09-10T11:13:04.668Z"
   },
   {
    "duration": 141,
    "start_time": "2024-09-10T11:14:08.043Z"
   },
   {
    "duration": 1555,
    "start_time": "2024-09-10T11:14:23.533Z"
   },
   {
    "duration": 169,
    "start_time": "2024-09-10T11:14:25.090Z"
   },
   {
    "duration": 140,
    "start_time": "2024-09-10T11:14:25.261Z"
   },
   {
    "duration": 145,
    "start_time": "2024-09-10T11:14:25.403Z"
   },
   {
    "duration": 44,
    "start_time": "2024-09-10T11:14:25.550Z"
   },
   {
    "duration": 158,
    "start_time": "2024-09-10T11:14:25.595Z"
   },
   {
    "duration": 162,
    "start_time": "2024-09-10T11:14:37.608Z"
   },
   {
    "duration": 130,
    "start_time": "2024-09-10T11:14:49.520Z"
   },
   {
    "duration": 3,
    "start_time": "2024-09-10T11:22:04.241Z"
   },
   {
    "duration": 148,
    "start_time": "2024-09-10T11:22:57.338Z"
   },
   {
    "duration": 106,
    "start_time": "2024-09-10T11:26:49.722Z"
   },
   {
    "duration": 379,
    "start_time": "2024-09-10T11:33:14.258Z"
   },
   {
    "duration": 338,
    "start_time": "2024-09-10T11:33:22.280Z"
   },
   {
    "duration": 373,
    "start_time": "2024-09-10T11:33:57.582Z"
   },
   {
    "duration": 372,
    "start_time": "2024-09-10T11:34:19.029Z"
   },
   {
    "duration": 449,
    "start_time": "2024-09-10T11:34:27.588Z"
   },
   {
    "duration": 345,
    "start_time": "2024-09-10T11:34:38.005Z"
   },
   {
    "duration": 14,
    "start_time": "2024-09-10T11:47:30.138Z"
   },
   {
    "duration": 158,
    "start_time": "2024-09-10T11:47:47.993Z"
   },
   {
    "duration": 1480,
    "start_time": "2024-09-10T11:48:04.696Z"
   },
   {
    "duration": 183,
    "start_time": "2024-09-10T11:48:06.178Z"
   },
   {
    "duration": 152,
    "start_time": "2024-09-10T11:48:06.371Z"
   },
   {
    "duration": 161,
    "start_time": "2024-09-10T11:48:06.525Z"
   },
   {
    "duration": 70,
    "start_time": "2024-09-10T11:48:06.688Z"
   },
   {
    "duration": 157,
    "start_time": "2024-09-10T11:48:06.760Z"
   },
   {
    "duration": 178,
    "start_time": "2024-09-10T11:48:06.919Z"
   },
   {
    "duration": 142,
    "start_time": "2024-09-10T11:48:07.099Z"
   },
   {
    "duration": 452,
    "start_time": "2024-09-10T11:48:07.243Z"
   },
   {
    "duration": 407,
    "start_time": "2024-09-10T11:48:07.698Z"
   },
   {
    "duration": 408,
    "start_time": "2024-09-10T11:48:08.107Z"
   },
   {
    "duration": 12,
    "start_time": "2024-09-10T11:48:08.518Z"
   },
   {
    "duration": 4,
    "start_time": "2024-09-10T11:56:44.348Z"
   },
   {
    "duration": 5,
    "start_time": "2024-09-10T11:56:59.018Z"
   },
   {
    "duration": 182,
    "start_time": "2024-09-10T11:57:22.081Z"
   },
   {
    "duration": 6,
    "start_time": "2024-09-10T11:57:28.491Z"
   },
   {
    "duration": 263,
    "start_time": "2024-09-10T11:57:38.146Z"
   },
   {
    "duration": 5,
    "start_time": "2024-09-10T11:57:47.766Z"
   },
   {
    "duration": 5,
    "start_time": "2024-09-10T11:58:14.136Z"
   },
   {
    "duration": 9,
    "start_time": "2024-09-10T11:59:06.682Z"
   },
   {
    "duration": 4,
    "start_time": "2024-09-10T11:59:52.892Z"
   },
   {
    "duration": 186,
    "start_time": "2024-09-10T11:59:53.494Z"
   },
   {
    "duration": 154,
    "start_time": "2024-09-10T11:59:53.698Z"
   },
   {
    "duration": 191,
    "start_time": "2024-09-10T11:59:53.866Z"
   },
   {
    "duration": 71,
    "start_time": "2024-09-10T11:59:54.205Z"
   },
   {
    "duration": 173,
    "start_time": "2024-09-10T11:59:54.531Z"
   },
   {
    "duration": 138,
    "start_time": "2024-09-10T11:59:54.830Z"
   },
   {
    "duration": 118,
    "start_time": "2024-09-10T11:59:54.981Z"
   },
   {
    "duration": 454,
    "start_time": "2024-09-10T11:59:55.462Z"
   },
   {
    "duration": 474,
    "start_time": "2024-09-10T11:59:55.919Z"
   },
   {
    "duration": 417,
    "start_time": "2024-09-10T11:59:56.395Z"
   },
   {
    "duration": 9,
    "start_time": "2024-09-10T11:59:56.815Z"
   },
   {
    "duration": 4,
    "start_time": "2024-09-10T11:59:56.922Z"
   },
   {
    "duration": 5,
    "start_time": "2024-09-10T11:59:57.121Z"
   },
   {
    "duration": 5,
    "start_time": "2024-09-10T12:01:04.211Z"
   },
   {
    "duration": 5,
    "start_time": "2024-09-10T12:01:40.129Z"
   },
   {
    "duration": 5,
    "start_time": "2024-09-10T12:03:06.703Z"
   },
   {
    "duration": 3,
    "start_time": "2024-09-10T12:03:08.113Z"
   },
   {
    "duration": 4,
    "start_time": "2024-09-10T12:04:13.953Z"
   },
   {
    "duration": 13,
    "start_time": "2024-09-10T12:04:32.866Z"
   },
   {
    "duration": 65,
    "start_time": "2024-09-10T12:05:05.209Z"
   },
   {
    "duration": 4,
    "start_time": "2024-09-10T12:06:57.178Z"
   },
   {
    "duration": 4,
    "start_time": "2024-09-10T12:07:31.581Z"
   },
   {
    "duration": 5,
    "start_time": "2024-09-10T12:08:09.462Z"
   },
   {
    "duration": 3,
    "start_time": "2024-09-10T12:08:23.012Z"
   },
   {
    "duration": 4,
    "start_time": "2024-09-10T12:08:38.395Z"
   },
   {
    "duration": 4,
    "start_time": "2024-09-10T12:08:53.911Z"
   },
   {
    "duration": 3,
    "start_time": "2024-09-10T12:10:55.548Z"
   },
   {
    "duration": 5,
    "start_time": "2024-09-10T12:13:57.190Z"
   },
   {
    "duration": 4,
    "start_time": "2024-09-10T12:15:07.396Z"
   },
   {
    "duration": 13,
    "start_time": "2024-09-10T12:15:36.337Z"
   },
   {
    "duration": 153,
    "start_time": "2024-09-10T12:15:49.508Z"
   },
   {
    "duration": 4,
    "start_time": "2024-09-10T12:17:38.241Z"
   },
   {
    "duration": 5,
    "start_time": "2024-09-10T12:18:07.916Z"
   },
   {
    "duration": 3,
    "start_time": "2024-09-10T12:18:37.560Z"
   },
   {
    "duration": 4,
    "start_time": "2024-09-10T12:18:52.452Z"
   },
   {
    "duration": 5,
    "start_time": "2024-09-10T12:22:16.930Z"
   },
   {
    "duration": 6,
    "start_time": "2024-09-10T12:33:23.952Z"
   },
   {
    "duration": 3,
    "start_time": "2024-09-10T12:33:26.090Z"
   },
   {
    "duration": 4,
    "start_time": "2024-09-10T12:34:55.008Z"
   },
   {
    "duration": 4,
    "start_time": "2024-09-10T12:40:58.261Z"
   },
   {
    "duration": 2,
    "start_time": "2024-09-10T12:44:16.111Z"
   },
   {
    "duration": 4,
    "start_time": "2024-09-10T12:44:19.865Z"
   },
   {
    "duration": 4,
    "start_time": "2024-09-10T12:45:57.534Z"
   },
   {
    "duration": 13,
    "start_time": "2024-09-10T12:49:41.321Z"
   },
   {
    "duration": 4,
    "start_time": "2024-09-10T12:49:46.140Z"
   },
   {
    "duration": 3,
    "start_time": "2024-09-10T12:52:19.213Z"
   },
   {
    "duration": 3,
    "start_time": "2024-09-10T12:54:04.431Z"
   },
   {
    "duration": 5,
    "start_time": "2024-09-10T12:54:50.767Z"
   },
   {
    "duration": 23,
    "start_time": "2024-09-10T12:55:31.876Z"
   },
   {
    "duration": 4,
    "start_time": "2024-09-10T12:57:46.397Z"
   },
   {
    "duration": 23,
    "start_time": "2024-09-10T12:58:30.842Z"
   },
   {
    "duration": 4,
    "start_time": "2024-09-10T12:59:02.005Z"
   },
   {
    "duration": 15,
    "start_time": "2024-09-10T12:59:02.284Z"
   },
   {
    "duration": 1643,
    "start_time": "2024-09-10T12:59:14.852Z"
   },
   {
    "duration": 189,
    "start_time": "2024-09-10T12:59:16.497Z"
   },
   {
    "duration": 156,
    "start_time": "2024-09-10T12:59:16.687Z"
   },
   {
    "duration": 159,
    "start_time": "2024-09-10T12:59:16.846Z"
   },
   {
    "duration": 65,
    "start_time": "2024-09-10T12:59:17.007Z"
   },
   {
    "duration": 159,
    "start_time": "2024-09-10T12:59:17.074Z"
   },
   {
    "duration": 166,
    "start_time": "2024-09-10T12:59:17.235Z"
   },
   {
    "duration": 140,
    "start_time": "2024-09-10T12:59:17.402Z"
   },
   {
    "duration": 394,
    "start_time": "2024-09-10T12:59:17.544Z"
   },
   {
    "duration": 382,
    "start_time": "2024-09-10T12:59:17.942Z"
   },
   {
    "duration": 387,
    "start_time": "2024-09-10T12:59:18.326Z"
   },
   {
    "duration": 14,
    "start_time": "2024-09-10T12:59:18.714Z"
   },
   {
    "duration": 9,
    "start_time": "2024-09-10T12:59:18.733Z"
   },
   {
    "duration": 105,
    "start_time": "2024-09-10T12:59:18.744Z"
   },
   {
    "duration": 5,
    "start_time": "2024-09-10T12:59:18.851Z"
   },
   {
    "duration": 79,
    "start_time": "2024-09-10T12:59:18.857Z"
   },
   {
    "duration": 32,
    "start_time": "2024-09-10T12:59:18.938Z"
   },
   {
    "duration": 18,
    "start_time": "2024-09-10T12:59:18.972Z"
   },
   {
    "duration": 180,
    "start_time": "2024-09-10T12:59:18.991Z"
   },
   {
    "duration": 80,
    "start_time": "2024-09-10T12:59:19.179Z"
   },
   {
    "duration": 94,
    "start_time": "2024-09-10T12:59:19.264Z"
   },
   {
    "duration": 6,
    "start_time": "2024-09-10T12:59:19.364Z"
   },
   {
    "duration": 69,
    "start_time": "2024-09-10T12:59:19.372Z"
   },
   {
    "duration": 11,
    "start_time": "2024-09-10T12:59:19.444Z"
   },
   {
    "duration": 20,
    "start_time": "2024-09-10T12:59:19.465Z"
   },
   {
    "duration": 3,
    "start_time": "2024-09-10T13:03:34.509Z"
   },
   {
    "duration": 115,
    "start_time": "2024-09-10T13:03:46.206Z"
   },
   {
    "duration": 4,
    "start_time": "2024-09-10T13:07:40.745Z"
   },
   {
    "duration": 11,
    "start_time": "2024-09-10T13:08:17.447Z"
   },
   {
    "duration": 12,
    "start_time": "2024-09-10T13:08:27.714Z"
   },
   {
    "duration": 14,
    "start_time": "2024-09-10T13:08:55.032Z"
   },
   {
    "duration": 16,
    "start_time": "2024-09-10T13:09:17.262Z"
   },
   {
    "duration": 17,
    "start_time": "2024-09-10T13:10:31.988Z"
   },
   {
    "duration": 21,
    "start_time": "2024-09-10T13:10:39.701Z"
   },
   {
    "duration": 16,
    "start_time": "2024-09-10T13:10:46.530Z"
   },
   {
    "duration": 22,
    "start_time": "2024-09-10T13:11:12.380Z"
   },
   {
    "duration": 16,
    "start_time": "2024-09-10T13:14:04.345Z"
   },
   {
    "duration": 3,
    "start_time": "2024-09-10T13:15:15.270Z"
   },
   {
    "duration": 3,
    "start_time": "2024-09-10T13:15:15.998Z"
   },
   {
    "duration": 3,
    "start_time": "2024-09-10T13:15:17.661Z"
   },
   {
    "duration": 15,
    "start_time": "2024-09-10T13:15:18.210Z"
   },
   {
    "duration": 14,
    "start_time": "2024-09-10T13:15:19.070Z"
   },
   {
    "duration": 4,
    "start_time": "2024-09-10T13:15:31.839Z"
   },
   {
    "duration": 4,
    "start_time": "2024-09-10T13:15:32.536Z"
   },
   {
    "duration": 3,
    "start_time": "2024-09-10T13:15:36.266Z"
   },
   {
    "duration": 3,
    "start_time": "2024-09-10T13:15:36.660Z"
   },
   {
    "duration": 3,
    "start_time": "2024-09-10T13:15:37.740Z"
   },
   {
    "duration": 15,
    "start_time": "2024-09-10T13:15:38.152Z"
   },
   {
    "duration": 3,
    "start_time": "2024-09-10T13:16:53.112Z"
   },
   {
    "duration": 3,
    "start_time": "2024-09-10T13:18:53.441Z"
   },
   {
    "duration": 4,
    "start_time": "2024-09-10T13:20:14.595Z"
   },
   {
    "duration": 4,
    "start_time": "2024-09-10T13:21:19.755Z"
   },
   {
    "duration": 5,
    "start_time": "2024-09-10T13:21:50.010Z"
   },
   {
    "duration": 4,
    "start_time": "2024-09-10T13:27:09.990Z"
   },
   {
    "duration": 3,
    "start_time": "2024-09-10T13:28:55.637Z"
   },
   {
    "duration": 4,
    "start_time": "2024-09-10T13:31:15.952Z"
   },
   {
    "duration": 6,
    "start_time": "2024-09-10T13:32:30.561Z"
   },
   {
    "duration": 5,
    "start_time": "2024-09-10T13:33:05.026Z"
   },
   {
    "duration": 5,
    "start_time": "2024-09-10T13:33:17.972Z"
   },
   {
    "duration": 5,
    "start_time": "2024-09-10T13:33:28.704Z"
   },
   {
    "duration": 12,
    "start_time": "2024-09-10T13:33:42.413Z"
   },
   {
    "duration": 3,
    "start_time": "2024-09-10T13:36:48.146Z"
   },
   {
    "duration": 4,
    "start_time": "2024-09-10T13:37:28.282Z"
   },
   {
    "duration": 12,
    "start_time": "2024-09-10T13:38:04.872Z"
   },
   {
    "duration": 4,
    "start_time": "2024-09-10T13:38:54.092Z"
   },
   {
    "duration": 84,
    "start_time": "2024-09-10T13:39:16.777Z"
   },
   {
    "duration": 4,
    "start_time": "2024-09-10T13:39:19.499Z"
   },
   {
    "duration": 139,
    "start_time": "2024-09-10T13:39:21.334Z"
   },
   {
    "duration": 4,
    "start_time": "2024-09-10T13:39:25.379Z"
   },
   {
    "duration": 10,
    "start_time": "2024-09-10T13:39:43.530Z"
   },
   {
    "duration": 5,
    "start_time": "2024-09-10T13:39:48.567Z"
   },
   {
    "duration": 11,
    "start_time": "2024-09-10T13:39:48.884Z"
   },
   {
    "duration": 6,
    "start_time": "2024-09-10T13:40:34.255Z"
   },
   {
    "duration": 6,
    "start_time": "2024-09-10T13:40:50.688Z"
   },
   {
    "duration": 14,
    "start_time": "2024-09-10T13:41:09.356Z"
   },
   {
    "duration": 27,
    "start_time": "2024-09-10T13:42:08.218Z"
   },
   {
    "duration": 4,
    "start_time": "2024-09-10T14:07:59.513Z"
   },
   {
    "duration": 4,
    "start_time": "2024-09-10T14:08:58.517Z"
   },
   {
    "duration": 4,
    "start_time": "2024-09-10T14:09:21.821Z"
   },
   {
    "duration": 13,
    "start_time": "2024-09-10T14:09:29.896Z"
   },
   {
    "duration": 4,
    "start_time": "2024-09-10T14:12:16.427Z"
   },
   {
    "duration": 4,
    "start_time": "2024-09-10T14:12:44.158Z"
   },
   {
    "duration": 3,
    "start_time": "2024-09-10T14:13:15.150Z"
   },
   {
    "duration": 52,
    "start_time": "2024-09-11T07:43:28.691Z"
   },
   {
    "duration": 49,
    "start_time": "2024-09-11T07:44:01.969Z"
   },
   {
    "duration": 0,
    "start_time": "2024-09-11T07:44:02.020Z"
   },
   {
    "duration": 0,
    "start_time": "2024-09-11T07:44:02.021Z"
   },
   {
    "duration": 0,
    "start_time": "2024-09-11T07:44:02.023Z"
   },
   {
    "duration": 0,
    "start_time": "2024-09-11T07:44:02.025Z"
   },
   {
    "duration": 4,
    "start_time": "2024-09-11T07:44:07.844Z"
   },
   {
    "duration": 164,
    "start_time": "2024-09-11T07:44:07.849Z"
   },
   {
    "duration": 146,
    "start_time": "2024-09-11T07:44:08.014Z"
   },
   {
    "duration": 143,
    "start_time": "2024-09-11T07:44:08.161Z"
   },
   {
    "duration": 42,
    "start_time": "2024-09-11T07:44:08.306Z"
   },
   {
    "duration": 160,
    "start_time": "2024-09-11T07:44:08.349Z"
   },
   {
    "duration": 120,
    "start_time": "2024-09-11T07:44:08.511Z"
   },
   {
    "duration": 113,
    "start_time": "2024-09-11T07:44:08.632Z"
   },
   {
    "duration": 383,
    "start_time": "2024-09-11T07:44:08.746Z"
   },
   {
    "duration": 415,
    "start_time": "2024-09-11T07:44:09.131Z"
   },
   {
    "duration": 367,
    "start_time": "2024-09-11T07:44:09.548Z"
   },
   {
    "duration": 8,
    "start_time": "2024-09-11T07:44:09.917Z"
   },
   {
    "duration": 7,
    "start_time": "2024-09-11T07:44:09.926Z"
   },
   {
    "duration": 68,
    "start_time": "2024-09-11T07:44:09.934Z"
   },
   {
    "duration": 4,
    "start_time": "2024-09-11T07:44:10.004Z"
   },
   {
    "duration": 8,
    "start_time": "2024-09-11T07:44:10.010Z"
   },
   {
    "duration": 10,
    "start_time": "2024-09-11T07:44:10.019Z"
   },
   {
    "duration": 8,
    "start_time": "2024-09-11T07:44:10.030Z"
   },
   {
    "duration": 166,
    "start_time": "2024-09-11T07:44:10.039Z"
   },
   {
    "duration": 93,
    "start_time": "2024-09-11T07:44:10.207Z"
   },
   {
    "duration": 108,
    "start_time": "2024-09-11T07:44:10.302Z"
   },
   {
    "duration": 17,
    "start_time": "2024-09-11T07:44:10.411Z"
   },
   {
    "duration": 7,
    "start_time": "2024-09-11T07:44:10.429Z"
   },
   {
    "duration": 4,
    "start_time": "2024-09-11T07:44:10.437Z"
   },
   {
    "duration": 15,
    "start_time": "2024-09-11T07:44:10.442Z"
   },
   {
    "duration": 2,
    "start_time": "2024-09-11T07:44:10.459Z"
   },
   {
    "duration": 34,
    "start_time": "2024-09-11T07:44:10.463Z"
   },
   {
    "duration": 4,
    "start_time": "2024-09-11T07:44:58.201Z"
   },
   {
    "duration": 47,
    "start_time": "2024-09-11T07:45:07.145Z"
   },
   {
    "duration": 51,
    "start_time": "2024-09-11T07:45:11.975Z"
   },
   {
    "duration": 74,
    "start_time": "2024-09-11T07:45:22.410Z"
   },
   {
    "duration": 3,
    "start_time": "2024-09-11T07:45:35.092Z"
   },
   {
    "duration": 11,
    "start_time": "2024-09-11T07:45:35.624Z"
   },
   {
    "duration": 4,
    "start_time": "2024-09-11T07:45:53.281Z"
   },
   {
    "duration": 4,
    "start_time": "2024-09-11T07:45:59.575Z"
   },
   {
    "duration": 4,
    "start_time": "2024-09-11T07:46:05.381Z"
   },
   {
    "duration": 5,
    "start_time": "2024-09-11T07:46:13.777Z"
   },
   {
    "duration": 8,
    "start_time": "2024-09-11T07:46:27.449Z"
   },
   {
    "duration": 11,
    "start_time": "2024-09-11T07:46:49.485Z"
   },
   {
    "duration": 35,
    "start_time": "2024-09-11T07:47:37.241Z"
   },
   {
    "duration": 5,
    "start_time": "2024-09-11T07:47:54.515Z"
   },
   {
    "duration": 20,
    "start_time": "2024-09-11T07:47:56.499Z"
   },
   {
    "duration": 3,
    "start_time": "2024-09-11T07:50:16.135Z"
   },
   {
    "duration": 3,
    "start_time": "2024-09-11T07:50:25.105Z"
   },
   {
    "duration": 4,
    "start_time": "2024-09-11T07:50:59.692Z"
   },
   {
    "duration": 9,
    "start_time": "2024-09-11T07:51:33.423Z"
   },
   {
    "duration": 9,
    "start_time": "2024-09-11T07:51:58.793Z"
   },
   {
    "duration": 16,
    "start_time": "2024-09-11T07:52:08.777Z"
   },
   {
    "duration": 4,
    "start_time": "2024-09-11T07:52:46.899Z"
   },
   {
    "duration": 21,
    "start_time": "2024-09-11T07:52:47.347Z"
   },
   {
    "duration": 3,
    "start_time": "2024-09-11T07:54:29.730Z"
   },
   {
    "duration": 3,
    "start_time": "2024-09-11T07:54:30.013Z"
   },
   {
    "duration": 20,
    "start_time": "2024-09-11T07:54:30.443Z"
   },
   {
    "duration": 21,
    "start_time": "2024-09-11T07:57:28.097Z"
   },
   {
    "duration": 3,
    "start_time": "2024-09-11T07:58:02.276Z"
   },
   {
    "duration": 22,
    "start_time": "2024-09-11T07:58:02.553Z"
   },
   {
    "duration": 1420,
    "start_time": "2024-09-11T07:58:11.348Z"
   },
   {
    "duration": 171,
    "start_time": "2024-09-11T07:58:12.769Z"
   },
   {
    "duration": 146,
    "start_time": "2024-09-11T07:58:12.941Z"
   },
   {
    "duration": 153,
    "start_time": "2024-09-11T07:58:13.089Z"
   },
   {
    "duration": 66,
    "start_time": "2024-09-11T07:58:13.244Z"
   },
   {
    "duration": 151,
    "start_time": "2024-09-11T07:58:13.311Z"
   },
   {
    "duration": 149,
    "start_time": "2024-09-11T07:58:13.463Z"
   },
   {
    "duration": 119,
    "start_time": "2024-09-11T07:58:13.614Z"
   },
   {
    "duration": 354,
    "start_time": "2024-09-11T07:58:13.735Z"
   },
   {
    "duration": 342,
    "start_time": "2024-09-11T07:58:14.092Z"
   },
   {
    "duration": 343,
    "start_time": "2024-09-11T07:58:14.436Z"
   },
   {
    "duration": 17,
    "start_time": "2024-09-11T07:58:14.781Z"
   },
   {
    "duration": 17,
    "start_time": "2024-09-11T07:58:14.799Z"
   },
   {
    "duration": 86,
    "start_time": "2024-09-11T07:58:14.817Z"
   },
   {
    "duration": 29,
    "start_time": "2024-09-11T07:58:14.905Z"
   },
   {
    "duration": 44,
    "start_time": "2024-09-11T07:58:14.936Z"
   },
   {
    "duration": 53,
    "start_time": "2024-09-11T07:58:14.981Z"
   },
   {
    "duration": 32,
    "start_time": "2024-09-11T07:58:15.035Z"
   },
   {
    "duration": 232,
    "start_time": "2024-09-11T07:58:15.068Z"
   },
   {
    "duration": 98,
    "start_time": "2024-09-11T07:58:15.303Z"
   },
   {
    "duration": 141,
    "start_time": "2024-09-11T07:58:15.403Z"
   },
   {
    "duration": 24,
    "start_time": "2024-09-11T07:58:15.546Z"
   },
   {
    "duration": 27,
    "start_time": "2024-09-11T07:58:15.572Z"
   },
   {
    "duration": 9,
    "start_time": "2024-09-11T07:58:15.600Z"
   },
   {
    "duration": 35,
    "start_time": "2024-09-11T07:58:15.611Z"
   },
   {
    "duration": 4,
    "start_time": "2024-09-11T07:58:15.647Z"
   },
   {
    "duration": 7,
    "start_time": "2024-09-11T07:58:15.652Z"
   },
   {
    "duration": 137,
    "start_time": "2024-09-11T07:58:15.663Z"
   },
   {
    "duration": 22,
    "start_time": "2024-09-11T07:58:49.327Z"
   },
   {
    "duration": 5,
    "start_time": "2024-09-11T07:58:57.170Z"
   },
   {
    "duration": 20,
    "start_time": "2024-09-11T07:58:58.770Z"
   },
   {
    "duration": 3,
    "start_time": "2024-09-11T07:59:41.959Z"
   },
   {
    "duration": 3,
    "start_time": "2024-09-11T07:59:50.159Z"
   },
   {
    "duration": 3,
    "start_time": "2024-09-11T07:59:50.359Z"
   },
   {
    "duration": 8,
    "start_time": "2024-09-11T07:59:50.533Z"
   },
   {
    "duration": 24,
    "start_time": "2024-09-11T08:00:26.182Z"
   },
   {
    "duration": 6,
    "start_time": "2024-09-11T08:00:49.773Z"
   },
   {
    "duration": 21,
    "start_time": "2024-09-11T08:00:50.445Z"
   },
   {
    "duration": 3,
    "start_time": "2024-09-11T08:03:00.447Z"
   },
   {
    "duration": 3,
    "start_time": "2024-09-11T08:03:30.675Z"
   },
   {
    "duration": 8,
    "start_time": "2024-09-11T08:03:58.124Z"
   },
   {
    "duration": 1324,
    "start_time": "2024-09-11T08:04:13.419Z"
   },
   {
    "duration": 161,
    "start_time": "2024-09-11T08:04:14.745Z"
   },
   {
    "duration": 141,
    "start_time": "2024-09-11T08:04:14.908Z"
   },
   {
    "duration": 144,
    "start_time": "2024-09-11T08:04:15.050Z"
   },
   {
    "duration": 43,
    "start_time": "2024-09-11T08:04:15.196Z"
   },
   {
    "duration": 140,
    "start_time": "2024-09-11T08:04:15.241Z"
   },
   {
    "duration": 152,
    "start_time": "2024-09-11T08:04:15.383Z"
   },
   {
    "duration": 119,
    "start_time": "2024-09-11T08:04:15.536Z"
   },
   {
    "duration": 386,
    "start_time": "2024-09-11T08:04:15.657Z"
   },
   {
    "duration": 371,
    "start_time": "2024-09-11T08:04:16.045Z"
   },
   {
    "duration": 327,
    "start_time": "2024-09-11T08:04:16.418Z"
   },
   {
    "duration": 12,
    "start_time": "2024-09-11T08:04:16.747Z"
   },
   {
    "duration": 16,
    "start_time": "2024-09-11T08:04:16.760Z"
   },
   {
    "duration": 63,
    "start_time": "2024-09-11T08:04:16.779Z"
   },
   {
    "duration": 3,
    "start_time": "2024-09-11T08:04:16.844Z"
   },
   {
    "duration": 16,
    "start_time": "2024-09-11T08:04:16.849Z"
   },
   {
    "duration": 80,
    "start_time": "2024-09-11T08:04:16.866Z"
   },
   {
    "duration": 44,
    "start_time": "2024-09-11T08:04:16.948Z"
   },
   {
    "duration": 210,
    "start_time": "2024-09-11T08:04:16.994Z"
   },
   {
    "duration": 95,
    "start_time": "2024-09-11T08:04:17.206Z"
   },
   {
    "duration": 154,
    "start_time": "2024-09-11T08:04:17.302Z"
   },
   {
    "duration": 9,
    "start_time": "2024-09-11T08:04:17.457Z"
   },
   {
    "duration": 153,
    "start_time": "2024-09-11T08:04:17.468Z"
   },
   {
    "duration": 4,
    "start_time": "2024-09-11T08:04:17.622Z"
   },
   {
    "duration": 22,
    "start_time": "2024-09-11T08:04:17.627Z"
   },
   {
    "duration": 3,
    "start_time": "2024-09-11T08:04:17.650Z"
   },
   {
    "duration": 28,
    "start_time": "2024-09-11T08:04:17.655Z"
   },
   {
    "duration": 5,
    "start_time": "2024-09-11T08:04:17.685Z"
   },
   {
    "duration": 112,
    "start_time": "2024-09-11T08:04:17.691Z"
   },
   {
    "duration": 1,
    "start_time": "2024-09-11T08:04:17.804Z"
   },
   {
    "duration": 0,
    "start_time": "2024-09-11T08:04:17.806Z"
   },
   {
    "duration": 0,
    "start_time": "2024-09-11T08:04:17.807Z"
   },
   {
    "duration": 0,
    "start_time": "2024-09-11T08:04:17.808Z"
   },
   {
    "duration": 20,
    "start_time": "2024-09-11T08:04:30.813Z"
   },
   {
    "duration": 4,
    "start_time": "2024-09-11T08:05:44.359Z"
   },
   {
    "duration": 4,
    "start_time": "2024-09-11T08:05:44.633Z"
   },
   {
    "duration": 19,
    "start_time": "2024-09-11T08:05:45.171Z"
   },
   {
    "duration": 1572,
    "start_time": "2024-09-11T08:08:07.017Z"
   },
   {
    "duration": 174,
    "start_time": "2024-09-11T08:08:08.591Z"
   },
   {
    "duration": 179,
    "start_time": "2024-09-11T08:08:08.766Z"
   },
   {
    "duration": 154,
    "start_time": "2024-09-11T08:08:08.946Z"
   },
   {
    "duration": 44,
    "start_time": "2024-09-11T08:08:09.102Z"
   },
   {
    "duration": 229,
    "start_time": "2024-09-11T08:08:09.148Z"
   },
   {
    "duration": 158,
    "start_time": "2024-09-11T08:08:09.379Z"
   },
   {
    "duration": 117,
    "start_time": "2024-09-11T08:08:09.538Z"
   },
   {
    "duration": 389,
    "start_time": "2024-09-11T08:08:09.656Z"
   },
   {
    "duration": 358,
    "start_time": "2024-09-11T08:08:10.046Z"
   },
   {
    "duration": 331,
    "start_time": "2024-09-11T08:08:10.406Z"
   },
   {
    "duration": 11,
    "start_time": "2024-09-11T08:08:10.739Z"
   },
   {
    "duration": 25,
    "start_time": "2024-09-11T08:08:10.752Z"
   },
   {
    "duration": 83,
    "start_time": "2024-09-11T08:08:10.779Z"
   },
   {
    "duration": 4,
    "start_time": "2024-09-11T08:08:10.863Z"
   },
   {
    "duration": 22,
    "start_time": "2024-09-11T08:08:10.868Z"
   },
   {
    "duration": 77,
    "start_time": "2024-09-11T08:08:10.891Z"
   },
   {
    "duration": 5,
    "start_time": "2024-09-11T08:08:10.969Z"
   },
   {
    "duration": 227,
    "start_time": "2024-09-11T08:08:10.976Z"
   },
   {
    "duration": 94,
    "start_time": "2024-09-11T08:08:11.205Z"
   },
   {
    "duration": 99,
    "start_time": "2024-09-11T08:08:11.302Z"
   },
   {
    "duration": 40,
    "start_time": "2024-09-11T08:08:11.403Z"
   },
   {
    "duration": 29,
    "start_time": "2024-09-11T08:08:11.445Z"
   },
   {
    "duration": 4,
    "start_time": "2024-09-11T08:08:11.475Z"
   },
   {
    "duration": 122,
    "start_time": "2024-09-11T08:08:11.480Z"
   },
   {
    "duration": 28,
    "start_time": "2024-09-11T08:08:11.603Z"
   },
   {
    "duration": 4,
    "start_time": "2024-09-11T08:08:11.632Z"
   },
   {
    "duration": 4,
    "start_time": "2024-09-11T08:08:11.637Z"
   },
   {
    "duration": 132,
    "start_time": "2024-09-11T08:08:11.642Z"
   },
   {
    "duration": 0,
    "start_time": "2024-09-11T08:08:11.776Z"
   },
   {
    "duration": 0,
    "start_time": "2024-09-11T08:08:11.777Z"
   },
   {
    "duration": 0,
    "start_time": "2024-09-11T08:08:11.778Z"
   },
   {
    "duration": 0,
    "start_time": "2024-09-11T08:08:11.779Z"
   },
   {
    "duration": 3,
    "start_time": "2024-09-11T08:11:59.488Z"
   },
   {
    "duration": 3,
    "start_time": "2024-09-11T08:12:53.002Z"
   },
   {
    "duration": 43,
    "start_time": "2024-09-11T08:13:07.802Z"
   },
   {
    "duration": 44,
    "start_time": "2024-09-11T08:13:28.579Z"
   },
   {
    "duration": 43,
    "start_time": "2024-09-11T08:13:32.383Z"
   },
   {
    "duration": 3,
    "start_time": "2024-09-11T08:14:15.895Z"
   },
   {
    "duration": 3,
    "start_time": "2024-09-11T08:14:28.625Z"
   },
   {
    "duration": 4,
    "start_time": "2024-09-11T08:15:33.023Z"
   },
   {
    "duration": 5,
    "start_time": "2024-09-11T08:15:50.979Z"
   },
   {
    "duration": 4,
    "start_time": "2024-09-11T08:16:00.711Z"
   },
   {
    "duration": 5,
    "start_time": "2024-09-11T08:16:09.990Z"
   },
   {
    "duration": 6,
    "start_time": "2024-09-11T08:16:30.138Z"
   },
   {
    "duration": 6,
    "start_time": "2024-09-11T08:16:47.770Z"
   },
   {
    "duration": 8,
    "start_time": "2024-09-11T08:17:06.932Z"
   },
   {
    "duration": 1524,
    "start_time": "2024-09-11T08:17:53.400Z"
   },
   {
    "duration": 3,
    "start_time": "2024-09-11T08:22:09.971Z"
   },
   {
    "duration": 3,
    "start_time": "2024-09-11T08:22:16.952Z"
   },
   {
    "duration": 11,
    "start_time": "2024-09-11T08:22:21.378Z"
   },
   {
    "duration": 3,
    "start_time": "2024-09-11T08:22:41.458Z"
   },
   {
    "duration": 10,
    "start_time": "2024-09-11T08:23:48.258Z"
   },
   {
    "duration": 4,
    "start_time": "2024-09-11T08:24:01.921Z"
   },
   {
    "duration": 4,
    "start_time": "2024-09-11T08:24:35.421Z"
   },
   {
    "duration": 3,
    "start_time": "2024-09-11T08:24:48.862Z"
   },
   {
    "duration": 3,
    "start_time": "2024-09-11T08:25:05.533Z"
   },
   {
    "duration": 24,
    "start_time": "2024-09-11T08:26:32.613Z"
   },
   {
    "duration": 4,
    "start_time": "2024-09-11T08:26:43.366Z"
   },
   {
    "duration": 15,
    "start_time": "2024-09-11T08:26:43.955Z"
   },
   {
    "duration": 3,
    "start_time": "2024-09-11T08:27:31.156Z"
   },
   {
    "duration": 7,
    "start_time": "2024-09-11T08:27:31.449Z"
   },
   {
    "duration": 1481,
    "start_time": "2024-09-11T08:27:31.828Z"
   },
   {
    "duration": 4,
    "start_time": "2024-09-11T08:28:02.685Z"
   },
   {
    "duration": 1507,
    "start_time": "2024-09-11T08:28:03.160Z"
   },
   {
    "duration": 7,
    "start_time": "2024-09-11T08:28:40.863Z"
   },
   {
    "duration": 2,
    "start_time": "2024-09-11T08:28:41.300Z"
   },
   {
    "duration": 1512,
    "start_time": "2024-09-11T08:28:41.617Z"
   },
   {
    "duration": 1548,
    "start_time": "2024-09-11T08:30:34.567Z"
   },
   {
    "duration": 1509,
    "start_time": "2024-09-11T08:31:31.903Z"
   },
   {
    "duration": 7,
    "start_time": "2024-09-11T08:50:16.251Z"
   },
   {
    "duration": 3,
    "start_time": "2024-09-11T08:50:16.791Z"
   },
   {
    "duration": 1530,
    "start_time": "2024-09-11T08:50:17.112Z"
   },
   {
    "duration": 1484,
    "start_time": "2024-09-11T08:50:22.663Z"
   },
   {
    "duration": 1504,
    "start_time": "2024-09-11T08:50:25.053Z"
   },
   {
    "duration": 7,
    "start_time": "2024-09-11T08:51:12.991Z"
   },
   {
    "duration": 2,
    "start_time": "2024-09-11T08:51:13.387Z"
   },
   {
    "duration": 1639,
    "start_time": "2024-09-11T08:51:13.809Z"
   },
   {
    "duration": 1703,
    "start_time": "2024-09-11T08:51:16.919Z"
   },
   {
    "duration": 1622,
    "start_time": "2024-09-11T08:51:19.519Z"
   },
   {
    "duration": 10,
    "start_time": "2024-09-11T08:57:30.403Z"
   },
   {
    "duration": 4,
    "start_time": "2024-09-11T08:57:30.799Z"
   },
   {
    "duration": 1694,
    "start_time": "2024-09-11T08:57:32.486Z"
   },
   {
    "duration": 1561,
    "start_time": "2024-09-11T08:57:35.498Z"
   },
   {
    "duration": 1583,
    "start_time": "2024-09-11T08:57:37.640Z"
   },
   {
    "duration": 1447,
    "start_time": "2024-09-11T09:08:43.297Z"
   },
   {
    "duration": 169,
    "start_time": "2024-09-11T09:08:44.745Z"
   },
   {
    "duration": 146,
    "start_time": "2024-09-11T09:08:44.915Z"
   },
   {
    "duration": 146,
    "start_time": "2024-09-11T09:08:45.063Z"
   },
   {
    "duration": 45,
    "start_time": "2024-09-11T09:08:45.211Z"
   },
   {
    "duration": 157,
    "start_time": "2024-09-11T09:08:45.257Z"
   },
   {
    "duration": 148,
    "start_time": "2024-09-11T09:08:45.415Z"
   },
   {
    "duration": 117,
    "start_time": "2024-09-11T09:08:45.565Z"
   },
   {
    "duration": 374,
    "start_time": "2024-09-11T09:08:45.684Z"
   },
   {
    "duration": 362,
    "start_time": "2024-09-11T09:08:46.062Z"
   },
   {
    "duration": 326,
    "start_time": "2024-09-11T09:08:46.426Z"
   },
   {
    "duration": 13,
    "start_time": "2024-09-11T09:08:46.757Z"
   },
   {
    "duration": 26,
    "start_time": "2024-09-11T09:08:46.772Z"
   },
   {
    "duration": 64,
    "start_time": "2024-09-11T09:08:46.799Z"
   },
   {
    "duration": 4,
    "start_time": "2024-09-11T09:08:46.865Z"
   },
   {
    "duration": 52,
    "start_time": "2024-09-11T09:08:46.870Z"
   },
   {
    "duration": 4,
    "start_time": "2024-09-11T09:08:46.923Z"
   },
   {
    "duration": 4,
    "start_time": "2024-09-11T09:08:46.929Z"
   },
   {
    "duration": 167,
    "start_time": "2024-09-11T09:08:46.934Z"
   },
   {
    "duration": 95,
    "start_time": "2024-09-11T09:08:47.103Z"
   },
   {
    "duration": 98,
    "start_time": "2024-09-11T09:08:47.200Z"
   },
   {
    "duration": 4,
    "start_time": "2024-09-11T09:08:47.300Z"
   },
   {
    "duration": 36,
    "start_time": "2024-09-11T09:08:47.305Z"
   },
   {
    "duration": 31,
    "start_time": "2024-09-11T09:08:47.343Z"
   },
   {
    "duration": 30,
    "start_time": "2024-09-11T09:08:47.376Z"
   },
   {
    "duration": 43,
    "start_time": "2024-09-11T09:08:47.408Z"
   },
   {
    "duration": 33,
    "start_time": "2024-09-11T09:08:47.453Z"
   },
   {
    "duration": 84,
    "start_time": "2024-09-11T09:08:47.489Z"
   },
   {
    "duration": 1588,
    "start_time": "2024-09-11T09:08:47.575Z"
   },
   {
    "duration": 1535,
    "start_time": "2024-09-11T09:08:49.165Z"
   },
   {
    "duration": 1531,
    "start_time": "2024-09-11T09:08:50.701Z"
   }
  ],
  "kernelspec": {
   "display_name": "Python 3 (ipykernel)",
   "language": "python",
   "name": "python3"
  },
  "language_info": {
   "codemirror_mode": {
    "name": "ipython",
    "version": 3
   },
   "file_extension": ".py",
   "mimetype": "text/x-python",
   "name": "python",
   "nbconvert_exporter": "python",
   "pygments_lexer": "ipython3",
   "version": "3.9.5"
  },
  "toc": {
   "base_numbering": 1,
   "nav_menu": {},
   "number_sections": true,
   "sideBar": true,
   "skip_h1_title": true,
   "title_cell": "Table of Contents",
   "title_sidebar": "Contents",
   "toc_cell": false,
   "toc_position": {},
   "toc_section_display": true,
   "toc_window_display": false
  }
 },
 "nbformat": 4,
 "nbformat_minor": 2
}

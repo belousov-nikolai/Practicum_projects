{
 "cells": [
  {
   "cell_type": "markdown",
   "metadata": {
    "toc": true
   },
   "source": [
    "<h1>Содержание<span class=\"tocSkip\"></span></h1>\n",
    "<div class=\"toc\"><ul class=\"toc-item\"><li><ul class=\"toc-item\"><li><span><a href=\"#Общее-впечатление\" data-toc-modified-id=\"Общее-впечатление-0.1\"><span class=\"toc-item-num\">0.1&nbsp;&nbsp;</span><font color=\"orange\">Общее впечатление</font></a></span></li><li><span><a href=\"#Общее-впечатление-(ревью-2)\" data-toc-modified-id=\"Общее-впечатление-(ревью-2)-0.2\"><span class=\"toc-item-num\">0.2&nbsp;&nbsp;</span><font color=\"orange\">Общее впечатление (ревью 2)</font></a></span></li><li><span><a href=\"#Общее-впечатление-(ревью-3)\" data-toc-modified-id=\"Общее-впечатление-(ревью-3)-0.3\"><span class=\"toc-item-num\">0.3&nbsp;&nbsp;</span><font color=\"orange\">Общее впечатление (ревью 3)</font></a></span></li></ul></li><li><span><a href=\"#Подготовка\" data-toc-modified-id=\"Подготовка-1\"><span class=\"toc-item-num\">1&nbsp;&nbsp;</span>Подготовка</a></span><ul class=\"toc-item\"><li><span><a href=\"#Загрузка-библиотек\" data-toc-modified-id=\"Загрузка-библиотек-1.1\"><span class=\"toc-item-num\">1.1&nbsp;&nbsp;</span>Загрузка библиотек</a></span></li><li><span><a href=\"#Предобработка-данных\" data-toc-modified-id=\"Предобработка-данных-1.2\"><span class=\"toc-item-num\">1.2&nbsp;&nbsp;</span>Предобработка данных</a></span></li><li><span><a href=\"#Лемматизация\" data-toc-modified-id=\"Лемматизация-1.3\"><span class=\"toc-item-num\">1.3&nbsp;&nbsp;</span>Лемматизация</a></span></li><li><span><a href=\"#Выводы:\" data-toc-modified-id=\"Выводы:-1.4\"><span class=\"toc-item-num\">1.4&nbsp;&nbsp;</span>Выводы:</a></span></li></ul></li><li><span><a href=\"#Обучение\" data-toc-modified-id=\"Обучение-2\"><span class=\"toc-item-num\">2&nbsp;&nbsp;</span>Обучение</a></span><ul class=\"toc-item\"><li><span><a href=\"#Обучение-LogisticRegression\" data-toc-modified-id=\"Обучение-LogisticRegression-2.1\"><span class=\"toc-item-num\">2.1&nbsp;&nbsp;</span>Обучение LogisticRegression</a></span></li><li><span><a href=\"#Обучение-DecisionTreeClassifier\" data-toc-modified-id=\"Обучение-DecisionTreeClassifier-2.2\"><span class=\"toc-item-num\">2.2&nbsp;&nbsp;</span>Обучение DecisionTreeClassifier</a></span></li><li><span><a href=\"#Обучение-LGBMClassifier\" data-toc-modified-id=\"Обучение-LGBMClassifier-2.3\"><span class=\"toc-item-num\">2.3&nbsp;&nbsp;</span>Обучение LGBMClassifier</a></span></li><li><span><a href=\"#Промежуточные-выводы:\" data-toc-modified-id=\"Промежуточные-выводы:-2.4\"><span class=\"toc-item-num\">2.4&nbsp;&nbsp;</span>Промежуточные выводы:</a></span></li></ul></li><li><span><a href=\"#Выводы\" data-toc-modified-id=\"Выводы-3\"><span class=\"toc-item-num\">3&nbsp;&nbsp;</span>Выводы</a></span></li><li><span><a href=\"#Чек-лист-проверки\" data-toc-modified-id=\"Чек-лист-проверки-4\"><span class=\"toc-item-num\">4&nbsp;&nbsp;</span>Чек-лист проверки</a></span></li></ul></div>"
   ]
  },
  {
   "cell_type": "markdown",
   "metadata": {},
   "source": [
    "# Проект для «Викишоп»"
   ]
  },
  {
   "cell_type": "markdown",
   "metadata": {},
   "source": [
    "Интернет-магазин «Викишоп» запускает новый сервис. Теперь пользователи могут редактировать и дополнять описания товаров, как в вики-сообществах. То есть клиенты предлагают свои правки и комментируют изменения других. Магазину нужен инструмент, который будет искать токсичные комментарии и отправлять их на модерацию. \n",
    "\n",
    "Обучите модель классифицировать комментарии на позитивные и негативные. В вашем распоряжении набор данных с разметкой о токсичности правок.\n",
    "\n",
    "Постройте модель со значением метрики качества *F1* не меньше 0.75. \n",
    "\n",
    "**Инструкция по выполнению проекта**\n",
    "\n",
    "1. Загрузите и подготовьте данные.\n",
    "2. Обучите разные модели. \n",
    "3. Сделайте выводы.\n",
    "\n",
    "Для выполнения проекта применять *BERT* необязательно, но вы можете попробовать.\n",
    "\n",
    "**Описание данных**\n",
    "\n",
    "Данные находятся в файле `toxic_comments.csv`. Столбец *text* в нём содержит текст комментария, а *toxic* — целевой признак."
   ]
  },
  {
   "cell_type": "markdown",
   "metadata": {},
   "source": [
    "## Подготовка"
   ]
  },
  {
   "cell_type": "markdown",
   "metadata": {},
   "source": [
    "### Загрузка библиотек"
   ]
  },
  {
   "cell_type": "code",
   "execution_count": 1,
   "metadata": {},
   "outputs": [
    {
     "name": "stderr",
     "output_type": "stream",
     "text": [
      "[nltk_data] Downloading package stopwords to /home/jovyan/nltk_data...\n",
      "[nltk_data]   Package stopwords is already up-to-date!\n",
      "[nltk_data] Downloading package averaged_perceptron_tagger to\n",
      "[nltk_data]     /home/jovyan/nltk_data...\n",
      "[nltk_data]   Package averaged_perceptron_tagger is already up-to-\n",
      "[nltk_data]       date!\n",
      "[nltk_data] Downloading package wordnet to /home/jovyan/nltk_data...\n",
      "[nltk_data]   Package wordnet is already up-to-date!\n",
      "[nltk_data] Downloading package punkt to /home/jovyan/nltk_data...\n",
      "[nltk_data]   Package punkt is already up-to-date!\n"
     ]
    },
    {
     "data": {
      "text/plain": [
       "True"
      ]
     },
     "execution_count": 1,
     "metadata": {},
     "output_type": "execute_result"
    }
   ],
   "source": [
    "import re\n",
    "import nltk\n",
    "import pandas as pd\n",
    "import numpy as np\n",
    "import seaborn as sns\n",
    "\n",
    "import matplotlib.pyplot as plt\n",
    "\n",
    "from nltk.corpus import stopwords as nltk_stopwords\n",
    "import spacy\n",
    "\n",
    "from sklearn.feature_extraction.text import TfidfVectorizer\n",
    "from sklearn.linear_model import LogisticRegression\n",
    "from sklearn.preprocessing import StandardScaler\n",
    "from sklearn.pipeline import Pipeline\n",
    "from sklearn.model_selection import train_test_split, GridSearchCV\n",
    "from sklearn.metrics import f1_score, make_scorer \n",
    "from tqdm.notebook import tqdm\n",
    "from tqdm.auto import tqdm\n",
    "from sklearn.ensemble import RandomForestClassifier, GradientBoostingClassifier\n",
    "from sklearn.model_selection import train_test_split, GridSearchCV, cross_val_score, KFold\n",
    "\n",
    "import torch\n",
    "from transformers import BertTokenizer, BertForSequenceClassification, BertModel\n",
    "from transformers import Trainer, TrainingArguments, AutoModel, AutoTokenizer\n",
    "from torch.utils.data import DataLoader, Dataset\n",
    "from nltk.corpus import stopwords, wordnet\n",
    "\n",
    "nltk.download('stopwords')\n",
    "nltk.download('averaged_perceptron_tagger')\n",
    "nltk.download('wordnet')\n",
    "nltk.download('punkt')"
   ]
  },
  {
   "cell_type": "code",
   "execution_count": 2,
   "metadata": {},
   "outputs": [],
   "source": [
    "from nltk.stem import WordNetLemmatizer \n",
    "from nltk.corpus import stopwords, wordnet\n",
    "from sklearn.tree import DecisionTreeClassifier\n",
    "from lightgbm import LGBMClassifier"
   ]
  },
  {
   "cell_type": "code",
   "execution_count": 3,
   "metadata": {},
   "outputs": [],
   "source": [
    "sw = stopwords.words('english')"
   ]
  },
  {
   "cell_type": "code",
   "execution_count": 4,
   "metadata": {},
   "outputs": [],
   "source": [
    "data = pd.read_csv('/datasets/toxic_comments.csv')"
   ]
  },
  {
   "cell_type": "code",
   "execution_count": 5,
   "metadata": {},
   "outputs": [
    {
     "data": {
      "text/html": [
       "<div>\n",
       "<style scoped>\n",
       "    .dataframe tbody tr th:only-of-type {\n",
       "        vertical-align: middle;\n",
       "    }\n",
       "\n",
       "    .dataframe tbody tr th {\n",
       "        vertical-align: top;\n",
       "    }\n",
       "\n",
       "    .dataframe thead th {\n",
       "        text-align: right;\n",
       "    }\n",
       "</style>\n",
       "<table border=\"1\" class=\"dataframe\">\n",
       "  <thead>\n",
       "    <tr style=\"text-align: right;\">\n",
       "      <th></th>\n",
       "      <th>Unnamed: 0</th>\n",
       "      <th>text</th>\n",
       "      <th>toxic</th>\n",
       "    </tr>\n",
       "  </thead>\n",
       "  <tbody>\n",
       "    <tr>\n",
       "      <th>0</th>\n",
       "      <td>0</td>\n",
       "      <td>Explanation\\nWhy the edits made under my usern...</td>\n",
       "      <td>0</td>\n",
       "    </tr>\n",
       "    <tr>\n",
       "      <th>1</th>\n",
       "      <td>1</td>\n",
       "      <td>D'aww! He matches this background colour I'm s...</td>\n",
       "      <td>0</td>\n",
       "    </tr>\n",
       "    <tr>\n",
       "      <th>2</th>\n",
       "      <td>2</td>\n",
       "      <td>Hey man, I'm really not trying to edit war. It...</td>\n",
       "      <td>0</td>\n",
       "    </tr>\n",
       "    <tr>\n",
       "      <th>3</th>\n",
       "      <td>3</td>\n",
       "      <td>\"\\nMore\\nI can't make any real suggestions on ...</td>\n",
       "      <td>0</td>\n",
       "    </tr>\n",
       "    <tr>\n",
       "      <th>4</th>\n",
       "      <td>4</td>\n",
       "      <td>You, sir, are my hero. Any chance you remember...</td>\n",
       "      <td>0</td>\n",
       "    </tr>\n",
       "  </tbody>\n",
       "</table>\n",
       "</div>"
      ],
      "text/plain": [
       "   Unnamed: 0                                               text  toxic\n",
       "0           0  Explanation\\nWhy the edits made under my usern...      0\n",
       "1           1  D'aww! He matches this background colour I'm s...      0\n",
       "2           2  Hey man, I'm really not trying to edit war. It...      0\n",
       "3           3  \"\\nMore\\nI can't make any real suggestions on ...      0\n",
       "4           4  You, sir, are my hero. Any chance you remember...      0"
      ]
     },
     "execution_count": 5,
     "metadata": {},
     "output_type": "execute_result"
    }
   ],
   "source": [
    "#выведем на экран первые 5 строк нашего набора данных\n",
    "data.head()"
   ]
  },
  {
   "cell_type": "markdown",
   "metadata": {},
   "source": [
    "Изучим общую информацию о датафрейме"
   ]
  },
  {
   "cell_type": "code",
   "execution_count": 6,
   "metadata": {},
   "outputs": [
    {
     "name": "stdout",
     "output_type": "stream",
     "text": [
      "<class 'pandas.core.frame.DataFrame'>\n",
      "RangeIndex: 159292 entries, 0 to 159291\n",
      "Data columns (total 3 columns):\n",
      " #   Column      Non-Null Count   Dtype \n",
      "---  ------      --------------   ----- \n",
      " 0   Unnamed: 0  159292 non-null  int64 \n",
      " 1   text        159292 non-null  object\n",
      " 2   toxic       159292 non-null  int64 \n",
      "dtypes: int64(2), object(1)\n",
      "memory usage: 3.6+ MB\n"
     ]
    }
   ],
   "source": [
    "data.info()"
   ]
  },
  {
   "cell_type": "code",
   "execution_count": 7,
   "metadata": {},
   "outputs": [
    {
     "data": {
      "text/plain": [
       "(159292, 3)"
      ]
     },
     "execution_count": 7,
     "metadata": {},
     "output_type": "execute_result"
    }
   ],
   "source": [
    "#посмотрим размер набора данных\n",
    "data.shape"
   ]
  },
  {
   "cell_type": "markdown",
   "metadata": {},
   "source": [
    "Столбец \"Unnamed: 0\" не несет никакой информационной ценности, возможно он образовался при ошибках в сохранении данных. В любом случае он нам не нужен, поэтому удалим его"
   ]
  },
  {
   "cell_type": "code",
   "execution_count": 8,
   "metadata": {},
   "outputs": [],
   "source": [
    "data = data.drop(columns = ['Unnamed: 0'])"
   ]
  },
  {
   "cell_type": "markdown",
   "metadata": {},
   "source": [
    "### Предобработка данных "
   ]
  },
  {
   "cell_type": "markdown",
   "metadata": {},
   "source": [
    "Найдем явные дубликаты"
   ]
  },
  {
   "cell_type": "code",
   "execution_count": 9,
   "metadata": {},
   "outputs": [
    {
     "name": "stdout",
     "output_type": "stream",
     "text": [
      " Количество явных дубликатов:  0\n"
     ]
    }
   ],
   "source": [
    "print(' Количество явных дубликатов: ', data.duplicated().sum())"
   ]
  },
  {
   "cell_type": "code",
   "execution_count": 10,
   "metadata": {},
   "outputs": [
    {
     "data": {
      "text/html": [
       "<div>\n",
       "<style scoped>\n",
       "    .dataframe tbody tr th:only-of-type {\n",
       "        vertical-align: middle;\n",
       "    }\n",
       "\n",
       "    .dataframe tbody tr th {\n",
       "        vertical-align: top;\n",
       "    }\n",
       "\n",
       "    .dataframe thead th {\n",
       "        text-align: right;\n",
       "    }\n",
       "</style>\n",
       "<table border=\"1\" class=\"dataframe\">\n",
       "  <thead>\n",
       "    <tr style=\"text-align: right;\">\n",
       "      <th></th>\n",
       "      <th>toxic</th>\n",
       "    </tr>\n",
       "  </thead>\n",
       "  <tbody>\n",
       "    <tr>\n",
       "      <th>count</th>\n",
       "      <td>159292.000000</td>\n",
       "    </tr>\n",
       "    <tr>\n",
       "      <th>mean</th>\n",
       "      <td>0.101612</td>\n",
       "    </tr>\n",
       "    <tr>\n",
       "      <th>std</th>\n",
       "      <td>0.302139</td>\n",
       "    </tr>\n",
       "    <tr>\n",
       "      <th>min</th>\n",
       "      <td>0.000000</td>\n",
       "    </tr>\n",
       "    <tr>\n",
       "      <th>25%</th>\n",
       "      <td>0.000000</td>\n",
       "    </tr>\n",
       "    <tr>\n",
       "      <th>50%</th>\n",
       "      <td>0.000000</td>\n",
       "    </tr>\n",
       "    <tr>\n",
       "      <th>75%</th>\n",
       "      <td>0.000000</td>\n",
       "    </tr>\n",
       "    <tr>\n",
       "      <th>max</th>\n",
       "      <td>1.000000</td>\n",
       "    </tr>\n",
       "  </tbody>\n",
       "</table>\n",
       "</div>"
      ],
      "text/plain": [
       "               toxic\n",
       "count  159292.000000\n",
       "mean        0.101612\n",
       "std         0.302139\n",
       "min         0.000000\n",
       "25%         0.000000\n",
       "50%         0.000000\n",
       "75%         0.000000\n",
       "max         1.000000"
      ]
     },
     "execution_count": 10,
     "metadata": {},
     "output_type": "execute_result"
    }
   ],
   "source": [
    "data.describe()"
   ]
  },
  {
   "cell_type": "code",
   "execution_count": 11,
   "metadata": {},
   "outputs": [
    {
     "name": "stdout",
     "output_type": "stream",
     "text": [
      " Количество пропущенных значений:  text     0\n",
      "toxic    0\n",
      "dtype: int64\n"
     ]
    }
   ],
   "source": [
    "print(' Количество пропущенных значений: ', data.isna().sum())"
   ]
  },
  {
   "cell_type": "markdown",
   "metadata": {},
   "source": [
    "Целевой признак - \"toxic\""
   ]
  },
  {
   "cell_type": "markdown",
   "metadata": {},
   "source": [
    "приведем данные к нижнему регистру и очистим текст"
   ]
  },
  {
   "cell_type": "code",
   "execution_count": 12,
   "metadata": {},
   "outputs": [],
   "source": [
    "def clean(text):\n",
    "    text = text.lower()\n",
    "    text = re.sub(r'(?:\\n|\\r)', ' ', text)\n",
    "    text = re.sub(r'[^a-z\\s]', '', text)\n",
    "    return text\n",
    "    return \" \".join(text)"
   ]
  },
  {
   "cell_type": "markdown",
   "metadata": {},
   "source": [
    "### Лемматизация"
   ]
  },
  {
   "cell_type": "markdown",
   "metadata": {},
   "source": [
    "Создадим функцию по очистки текста от лишних символов и стоп-слов"
   ]
  },
  {
   "cell_type": "code",
   "execution_count": 13,
   "metadata": {},
   "outputs": [],
   "source": [
    "def get_wordnet_pos(word):\n",
    "    tag = nltk.pos_tag([word])[0][1][0].upper()\n",
    "    tag_dict = {\"J\": wordnet.ADJ,\n",
    "                \"N\": wordnet.NOUN,\n",
    "                \"V\": wordnet.VERB,\n",
    "                \"R\": wordnet.ADV}\n",
    "    return tag_dict.get(tag, wordnet.NOUN)"
   ]
  },
  {
   "cell_type": "code",
   "execution_count": 14,
   "metadata": {},
   "outputs": [],
   "source": [
    "#объявим лемматизатор\n",
    "wnl = WordNetLemmatizer()"
   ]
  },
  {
   "cell_type": "markdown",
   "metadata": {},
   "source": [
    "Создадим функцию по лемматизации текста"
   ]
  },
  {
   "cell_type": "code",
   "execution_count": 15,
   "metadata": {},
   "outputs": [],
   "source": [
    "def lemmitize_text(text):\n",
    "    text = [wnl.lemmatize(word, get_wordnet_pos(word)) for word in text]\n",
    "    return text"
   ]
  },
  {
   "cell_type": "markdown",
   "metadata": {},
   "source": [
    "Создадим функцию для очистки текста"
   ]
  },
  {
   "cell_type": "code",
   "execution_count": 16,
   "metadata": {},
   "outputs": [],
   "source": [
    "def clear_text(text):\n",
    "    pattern = r'[a-zA-Z]+'\n",
    "    text = re.findall(pattern, text)\n",
    "    text = [word.lower() for word in text if word.lower() not in sw]\n",
    "    text = lemmitize_text(text)\n",
    "    return \" \".join(text)"
   ]
  },
  {
   "cell_type": "code",
   "execution_count": 17,
   "metadata": {},
   "outputs": [],
   "source": [
    "#установил последнии версии библиотек, без этого далее были трудности"
   ]
  },
  {
   "cell_type": "code",
   "execution_count": 18,
   "metadata": {},
   "outputs": [
    {
     "name": "stdout",
     "output_type": "stream",
     "text": [
      "Requirement already satisfied: scikit-learn in /opt/conda/lib/python3.9/site-packages (1.5.2)\n",
      "Requirement already satisfied: threadpoolctl>=3.1.0 in /opt/conda/lib/python3.9/site-packages (from scikit-learn) (3.1.0)\n",
      "Requirement already satisfied: scipy>=1.6.0 in /opt/conda/lib/python3.9/site-packages (from scikit-learn) (1.9.1)\n",
      "Requirement already satisfied: numpy>=1.19.5 in /opt/conda/lib/python3.9/site-packages (from scikit-learn) (1.21.1)\n",
      "Requirement already satisfied: joblib>=1.2.0 in /opt/conda/lib/python3.9/site-packages (from scikit-learn) (1.4.2)\n",
      "Note: you may need to restart the kernel to use updated packages.\n"
     ]
    }
   ],
   "source": [
    "pip install -U scikit-learn"
   ]
  },
  {
   "cell_type": "code",
   "execution_count": 19,
   "metadata": {},
   "outputs": [],
   "source": [
    "#создадим набор слов\n",
    "sw = stopwords.words('english')"
   ]
  },
  {
   "cell_type": "code",
   "execution_count": 20,
   "metadata": {},
   "outputs": [
    {
     "name": "stderr",
     "output_type": "stream",
     "text": [
      "[nltk_data] Downloading package stopwords to /home/jovyan/nltk_data...\n",
      "[nltk_data]   Package stopwords is already up-to-date!\n"
     ]
    }
   ],
   "source": [
    "# Загрузим список стоп-слов\n",
    "nltk.download('stopwords')\n",
    "\n",
    "# Создадим набор стоп-слов \n",
    "stopwords = set(sw)"
   ]
  },
  {
   "cell_type": "markdown",
   "metadata": {},
   "source": [
    "Добавим в наш датайрейм новый столбец с лемматизированным текстом\n",
    "Для установления прогресса в цикле использовал tqdm. Процесс конечно небыстрый "
   ]
  },
  {
   "cell_type": "code",
   "execution_count": 21,
   "metadata": {},
   "outputs": [
    {
     "data": {
      "application/vnd.jupyter.widget-view+json": {
       "model_id": "ded702f05d034343be6c8ab98677ca81",
       "version_major": 2,
       "version_minor": 0
      },
      "text/plain": [
       "  0%|          | 0/159292 [00:00<?, ?it/s]"
      ]
     },
     "metadata": {},
     "output_type": "display_data"
    }
   ],
   "source": [
    "tqdm.pandas() \n",
    "data['lemm_text'] = data['text'].progress_apply(clear_text)"
   ]
  },
  {
   "cell_type": "code",
   "execution_count": 22,
   "metadata": {},
   "outputs": [
    {
     "data": {
      "text/html": [
       "<div>\n",
       "<style scoped>\n",
       "    .dataframe tbody tr th:only-of-type {\n",
       "        vertical-align: middle;\n",
       "    }\n",
       "\n",
       "    .dataframe tbody tr th {\n",
       "        vertical-align: top;\n",
       "    }\n",
       "\n",
       "    .dataframe thead th {\n",
       "        text-align: right;\n",
       "    }\n",
       "</style>\n",
       "<table border=\"1\" class=\"dataframe\">\n",
       "  <thead>\n",
       "    <tr style=\"text-align: right;\">\n",
       "      <th></th>\n",
       "      <th>text</th>\n",
       "      <th>toxic</th>\n",
       "      <th>lemm_text</th>\n",
       "    </tr>\n",
       "  </thead>\n",
       "  <tbody>\n",
       "    <tr>\n",
       "      <th>0</th>\n",
       "      <td>Explanation\\nWhy the edits made under my usern...</td>\n",
       "      <td>0</td>\n",
       "      <td>explanation edits make username hardcore metal...</td>\n",
       "    </tr>\n",
       "    <tr>\n",
       "      <th>1</th>\n",
       "      <td>D'aww! He matches this background colour I'm s...</td>\n",
       "      <td>0</td>\n",
       "      <td>aww match background colour seemingly stuck th...</td>\n",
       "    </tr>\n",
       "    <tr>\n",
       "      <th>2</th>\n",
       "      <td>Hey man, I'm really not trying to edit war. It...</td>\n",
       "      <td>0</td>\n",
       "      <td>hey man really try edit war guy constantly rem...</td>\n",
       "    </tr>\n",
       "    <tr>\n",
       "      <th>3</th>\n",
       "      <td>\"\\nMore\\nI can't make any real suggestions on ...</td>\n",
       "      <td>0</td>\n",
       "      <td>make real suggestion improvement wonder sectio...</td>\n",
       "    </tr>\n",
       "    <tr>\n",
       "      <th>4</th>\n",
       "      <td>You, sir, are my hero. Any chance you remember...</td>\n",
       "      <td>0</td>\n",
       "      <td>sir hero chance remember page</td>\n",
       "    </tr>\n",
       "  </tbody>\n",
       "</table>\n",
       "</div>"
      ],
      "text/plain": [
       "                                                text  toxic  \\\n",
       "0  Explanation\\nWhy the edits made under my usern...      0   \n",
       "1  D'aww! He matches this background colour I'm s...      0   \n",
       "2  Hey man, I'm really not trying to edit war. It...      0   \n",
       "3  \"\\nMore\\nI can't make any real suggestions on ...      0   \n",
       "4  You, sir, are my hero. Any chance you remember...      0   \n",
       "\n",
       "                                           lemm_text  \n",
       "0  explanation edits make username hardcore metal...  \n",
       "1  aww match background colour seemingly stuck th...  \n",
       "2  hey man really try edit war guy constantly rem...  \n",
       "3  make real suggestion improvement wonder sectio...  \n",
       "4                      sir hero chance remember page  "
      ]
     },
     "execution_count": 22,
     "metadata": {},
     "output_type": "execute_result"
    }
   ],
   "source": [
    "data.head()"
   ]
  },
  {
   "cell_type": "markdown",
   "metadata": {},
   "source": [
    "Для наглядности, построим график распределения токсичных и нетоксичных отзывов"
   ]
  },
  {
   "cell_type": "code",
   "execution_count": 23,
   "metadata": {},
   "outputs": [
    {
     "data": {
      "image/png": "[encoded data removed]",
      "text/plain": [
       "<Figure size 576x576 with 1 Axes>"
      ]
     },
     "metadata": {},
     "output_type": "display_data"
    }
   ],
   "source": [
    "sns.set_style('darkgrid')\n",
    "data['toxic'].value_counts().plot(kind='pie' ,figsize=[8, 8], legend=True,\n",
    "                                  autopct ='%1.1f%%',labels = ['Не токсичный отзыв','токсичный отзыв'])\n",
    "plt.title('Распределение отзывов')\n",
    "plt.xlabel('Класс')\n",
    "plt.ylabel('')\n",
    "plt.show()"
   ]
  },
  {
   "cell_type": "markdown",
   "metadata": {},
   "source": [
    "### Выводы:\n",
    "- загрузили и изучили данные о датафрейме\n",
    "- провели предобработку данных\n",
    "- лемматизировали текст и добавили новый столбец с лемм текстом\n",
    "- построили график распределения токсичных и не токсичных отзывов\n",
    "- токсичных отзывов значительно меньше, чем токсичных. Наблюдаем явный дисбаланс в классах (соотношение 9 к 1)"
   ]
  },
  {
   "cell_type": "markdown",
   "metadata": {},
   "source": [
    "## Обучение"
   ]
  },
  {
   "cell_type": "code",
   "execution_count": 24,
   "metadata": {},
   "outputs": [],
   "source": [
    "RANDOM_STATE = 1234"
   ]
  },
  {
   "cell_type": "code",
   "execution_count": 25,
   "metadata": {},
   "outputs": [
    {
     "data": {
      "text/html": [
       "<div>\n",
       "<style scoped>\n",
       "    .dataframe tbody tr th:only-of-type {\n",
       "        vertical-align: middle;\n",
       "    }\n",
       "\n",
       "    .dataframe tbody tr th {\n",
       "        vertical-align: top;\n",
       "    }\n",
       "\n",
       "    .dataframe thead th {\n",
       "        text-align: right;\n",
       "    }\n",
       "</style>\n",
       "<table border=\"1\" class=\"dataframe\">\n",
       "  <thead>\n",
       "    <tr style=\"text-align: right;\">\n",
       "      <th></th>\n",
       "      <th>text</th>\n",
       "      <th>toxic</th>\n",
       "      <th>lemm_text</th>\n",
       "    </tr>\n",
       "  </thead>\n",
       "  <tbody>\n",
       "    <tr>\n",
       "      <th>0</th>\n",
       "      <td>Explanation\\nWhy the edits made under my usern...</td>\n",
       "      <td>0</td>\n",
       "      <td>explanation edits make username hardcore metal...</td>\n",
       "    </tr>\n",
       "    <tr>\n",
       "      <th>1</th>\n",
       "      <td>D'aww! He matches this background colour I'm s...</td>\n",
       "      <td>0</td>\n",
       "      <td>aww match background colour seemingly stuck th...</td>\n",
       "    </tr>\n",
       "    <tr>\n",
       "      <th>2</th>\n",
       "      <td>Hey man, I'm really not trying to edit war. It...</td>\n",
       "      <td>0</td>\n",
       "      <td>hey man really try edit war guy constantly rem...</td>\n",
       "    </tr>\n",
       "    <tr>\n",
       "      <th>3</th>\n",
       "      <td>\"\\nMore\\nI can't make any real suggestions on ...</td>\n",
       "      <td>0</td>\n",
       "      <td>make real suggestion improvement wonder sectio...</td>\n",
       "    </tr>\n",
       "    <tr>\n",
       "      <th>4</th>\n",
       "      <td>You, sir, are my hero. Any chance you remember...</td>\n",
       "      <td>0</td>\n",
       "      <td>sir hero chance remember page</td>\n",
       "    </tr>\n",
       "  </tbody>\n",
       "</table>\n",
       "</div>"
      ],
      "text/plain": [
       "                                                text  toxic  \\\n",
       "0  Explanation\\nWhy the edits made under my usern...      0   \n",
       "1  D'aww! He matches this background colour I'm s...      0   \n",
       "2  Hey man, I'm really not trying to edit war. It...      0   \n",
       "3  \"\\nMore\\nI can't make any real suggestions on ...      0   \n",
       "4  You, sir, are my hero. Any chance you remember...      0   \n",
       "\n",
       "                                           lemm_text  \n",
       "0  explanation edits make username hardcore metal...  \n",
       "1  aww match background colour seemingly stuck th...  \n",
       "2  hey man really try edit war guy constantly rem...  \n",
       "3  make real suggestion improvement wonder sectio...  \n",
       "4                      sir hero chance remember page  "
      ]
     },
     "execution_count": 25,
     "metadata": {},
     "output_type": "execute_result"
    }
   ],
   "source": [
    "data.head()"
   ]
  },
  {
   "cell_type": "markdown",
   "metadata": {},
   "source": [
    "Разделим данные на тренировочные и тестовые "
   ]
  },
  {
   "cell_type": "code",
   "execution_count": 26,
   "metadata": {},
   "outputs": [],
   "source": [
    "# Разделение на тренировочный и тестовый наборы\n",
    "features_train, features_test, = train_test_split(\n",
    "        data['lemm_text'], test_size=0.2,\n",
    "        shuffle=True, random_state = RANDOM_STATE)\n",
    "target_train, target_test = train_test_split(\n",
    "        data['toxic'], test_size=0.2, \n",
    "        shuffle=True, random_state = RANDOM_STATE) "
   ]
  },
  {
   "cell_type": "markdown",
   "metadata": {},
   "source": [
    "Выполним векторизацию текста "
   ]
  },
  {
   "cell_type": "code",
   "execution_count": 27,
   "metadata": {},
   "outputs": [],
   "source": [
    "count_tf_idf = TfidfVectorizer()\n",
    "tf_idf_train = count_tf_idf.fit_transform(features_train)\n",
    "tf_idf_test = count_tf_idf.transform(features_test)"
   ]
  },
  {
   "cell_type": "markdown",
   "metadata": {},
   "source": [
    "Создадим новый признак с длиной лемматизированного текста"
   ]
  },
  {
   "cell_type": "code",
   "execution_count": 28,
   "metadata": {},
   "outputs": [
    {
     "data": {
      "text/html": [
       "<div>\n",
       "<style scoped>\n",
       "    .dataframe tbody tr th:only-of-type {\n",
       "        vertical-align: middle;\n",
       "    }\n",
       "\n",
       "    .dataframe tbody tr th {\n",
       "        vertical-align: top;\n",
       "    }\n",
       "\n",
       "    .dataframe thead th {\n",
       "        text-align: right;\n",
       "    }\n",
       "</style>\n",
       "<table border=\"1\" class=\"dataframe\">\n",
       "  <thead>\n",
       "    <tr style=\"text-align: right;\">\n",
       "      <th></th>\n",
       "      <th>text</th>\n",
       "      <th>toxic</th>\n",
       "      <th>lemm_text</th>\n",
       "      <th>text_len</th>\n",
       "    </tr>\n",
       "  </thead>\n",
       "  <tbody>\n",
       "    <tr>\n",
       "      <th>0</th>\n",
       "      <td>Explanation\\nWhy the edits made under my usern...</td>\n",
       "      <td>0</td>\n",
       "      <td>explanation edits make username hardcore metal...</td>\n",
       "      <td>23</td>\n",
       "    </tr>\n",
       "    <tr>\n",
       "      <th>1</th>\n",
       "      <td>D'aww! He matches this background colour I'm s...</td>\n",
       "      <td>0</td>\n",
       "      <td>aww match background colour seemingly stuck th...</td>\n",
       "      <td>10</td>\n",
       "    </tr>\n",
       "    <tr>\n",
       "      <th>2</th>\n",
       "      <td>Hey man, I'm really not trying to edit war. It...</td>\n",
       "      <td>0</td>\n",
       "      <td>hey man really try edit war guy constantly rem...</td>\n",
       "      <td>21</td>\n",
       "    </tr>\n",
       "    <tr>\n",
       "      <th>3</th>\n",
       "      <td>\"\\nMore\\nI can't make any real suggestions on ...</td>\n",
       "      <td>0</td>\n",
       "      <td>make real suggestion improvement wonder sectio...</td>\n",
       "      <td>52</td>\n",
       "    </tr>\n",
       "    <tr>\n",
       "      <th>4</th>\n",
       "      <td>You, sir, are my hero. Any chance you remember...</td>\n",
       "      <td>0</td>\n",
       "      <td>sir hero chance remember page</td>\n",
       "      <td>5</td>\n",
       "    </tr>\n",
       "  </tbody>\n",
       "</table>\n",
       "</div>"
      ],
      "text/plain": [
       "                                                text  toxic  \\\n",
       "0  Explanation\\nWhy the edits made under my usern...      0   \n",
       "1  D'aww! He matches this background colour I'm s...      0   \n",
       "2  Hey man, I'm really not trying to edit war. It...      0   \n",
       "3  \"\\nMore\\nI can't make any real suggestions on ...      0   \n",
       "4  You, sir, are my hero. Any chance you remember...      0   \n",
       "\n",
       "                                           lemm_text  text_len  \n",
       "0  explanation edits make username hardcore metal...        23  \n",
       "1  aww match background colour seemingly stuck th...        10  \n",
       "2  hey man really try edit war guy constantly rem...        21  \n",
       "3  make real suggestion improvement wonder sectio...        52  \n",
       "4                      sir hero chance remember page         5  "
      ]
     },
     "execution_count": 28,
     "metadata": {},
     "output_type": "execute_result"
    }
   ],
   "source": [
    "def calc_len(text):\n",
    "    text = text.split() \n",
    "    return len(text)\n",
    "    \n",
    "data['text_len'] = data.lemm_text.apply(calc_len)\n",
    "data.head()"
   ]
  },
  {
   "cell_type": "code",
   "execution_count": 29,
   "metadata": {},
   "outputs": [
    {
     "data": {
      "text/html": [
       "<div>\n",
       "<style scoped>\n",
       "    .dataframe tbody tr th:only-of-type {\n",
       "        vertical-align: middle;\n",
       "    }\n",
       "\n",
       "    .dataframe tbody tr th {\n",
       "        vertical-align: top;\n",
       "    }\n",
       "\n",
       "    .dataframe thead th {\n",
       "        text-align: right;\n",
       "    }\n",
       "</style>\n",
       "<table border=\"1\" class=\"dataframe\">\n",
       "  <thead>\n",
       "    <tr style=\"text-align: right;\">\n",
       "      <th></th>\n",
       "      <th>text</th>\n",
       "      <th>toxic</th>\n",
       "      <th>lemm_text</th>\n",
       "      <th>text_len</th>\n",
       "    </tr>\n",
       "  </thead>\n",
       "  <tbody>\n",
       "    <tr>\n",
       "      <th>177</th>\n",
       "      <td>86.29.244.57|86.29.244.57]] 04:21, 14 May 2007</td>\n",
       "      <td>0</td>\n",
       "      <td>may</td>\n",
       "      <td>1</td>\n",
       "    </tr>\n",
       "    <tr>\n",
       "      <th>627</th>\n",
       "      <td>Seems we both have some.</td>\n",
       "      <td>0</td>\n",
       "      <td>seem</td>\n",
       "      <td>1</td>\n",
       "    </tr>\n",
       "    <tr>\n",
       "      <th>807</th>\n",
       "      <td>You are \\n\\nso retarded.</td>\n",
       "      <td>1</td>\n",
       "      <td>retard</td>\n",
       "      <td>1</td>\n",
       "    </tr>\n",
       "    <tr>\n",
       "      <th>899</th>\n",
       "      <td>I've just seen that</td>\n",
       "      <td>0</td>\n",
       "      <td>see</td>\n",
       "      <td>1</td>\n",
       "    </tr>\n",
       "    <tr>\n",
       "      <th>1049</th>\n",
       "      <td>10:36, 5 January 2012</td>\n",
       "      <td>0</td>\n",
       "      <td>january</td>\n",
       "      <td>1</td>\n",
       "    </tr>\n",
       "    <tr>\n",
       "      <th>...</th>\n",
       "      <td>...</td>\n",
       "      <td>...</td>\n",
       "      <td>...</td>\n",
       "      <td>...</td>\n",
       "    </tr>\n",
       "    <tr>\n",
       "      <th>158382</th>\n",
       "      <td>and that's why it wasn't evident</td>\n",
       "      <td>0</td>\n",
       "      <td>evident</td>\n",
       "      <td>1</td>\n",
       "    </tr>\n",
       "    <tr>\n",
       "      <th>158465</th>\n",
       "      <td>hi \\n\\nwho is this 65.7.162.38</td>\n",
       "      <td>0</td>\n",
       "      <td>hi</td>\n",
       "      <td>1</td>\n",
       "    </tr>\n",
       "    <tr>\n",
       "      <th>158740</th>\n",
       "      <td>Why don't you do it? 24.68.148.215</td>\n",
       "      <td>0</td>\n",
       "      <td></td>\n",
       "      <td>0</td>\n",
       "    </tr>\n",
       "    <tr>\n",
       "      <th>158791</th>\n",
       "      <td>!!! \\nDOWN WITH THE USA!!!</td>\n",
       "      <td>1</td>\n",
       "      <td>usa</td>\n",
       "      <td>1</td>\n",
       "    </tr>\n",
       "    <tr>\n",
       "      <th>159193</th>\n",
       "      <td>You ignored him too</td>\n",
       "      <td>0</td>\n",
       "      <td>ignore</td>\n",
       "      <td>1</td>\n",
       "    </tr>\n",
       "  </tbody>\n",
       "</table>\n",
       "<p>859 rows × 4 columns</p>\n",
       "</div>"
      ],
      "text/plain": [
       "                                                  text  toxic lemm_text  \\\n",
       "177     86.29.244.57|86.29.244.57]] 04:21, 14 May 2007      0       may   \n",
       "627                           Seems we both have some.      0      seem   \n",
       "807                           You are \\n\\nso retarded.      1    retard   \n",
       "899                                I've just seen that      0       see   \n",
       "1049                             10:36, 5 January 2012      0   january   \n",
       "...                                                ...    ...       ...   \n",
       "158382                and that's why it wasn't evident      0   evident   \n",
       "158465                  hi \\n\\nwho is this 65.7.162.38      0        hi   \n",
       "158740              Why don't you do it? 24.68.148.215      0             \n",
       "158791                      !!! \\nDOWN WITH THE USA!!!      1       usa   \n",
       "159193                             You ignored him too      0    ignore   \n",
       "\n",
       "        text_len  \n",
       "177            1  \n",
       "627            1  \n",
       "807            1  \n",
       "899            1  \n",
       "1049           1  \n",
       "...          ...  \n",
       "158382         1  \n",
       "158465         1  \n",
       "158740         0  \n",
       "158791         1  \n",
       "159193         1  \n",
       "\n",
       "[859 rows x 4 columns]"
      ]
     },
     "execution_count": 29,
     "metadata": {},
     "output_type": "execute_result"
    }
   ],
   "source": [
    "# посмотрим на количество объектов с минимальной длиной (0-1)\n",
    "data[data.text_len<=1]"
   ]
  },
  {
   "cell_type": "markdown",
   "metadata": {},
   "source": [
    "Для дальнейшей работы они нам не нужны, поэтому удалим их"
   ]
  },
  {
   "cell_type": "code",
   "execution_count": 30,
   "metadata": {},
   "outputs": [],
   "source": [
    "data = data.drop(index=data[data.text_len<=1].index)"
   ]
  },
  {
   "cell_type": "markdown",
   "metadata": {},
   "source": [
    "Далее изучим объекты с максимальной длиной"
   ]
  },
  {
   "cell_type": "code",
   "execution_count": 31,
   "metadata": {},
   "outputs": [
    {
     "data": {
      "text/html": [
       "<div>\n",
       "<style scoped>\n",
       "    .dataframe tbody tr th:only-of-type {\n",
       "        vertical-align: middle;\n",
       "    }\n",
       "\n",
       "    .dataframe tbody tr th {\n",
       "        vertical-align: top;\n",
       "    }\n",
       "\n",
       "    .dataframe thead th {\n",
       "        text-align: right;\n",
       "    }\n",
       "</style>\n",
       "<table border=\"1\" class=\"dataframe\">\n",
       "  <thead>\n",
       "    <tr style=\"text-align: right;\">\n",
       "      <th></th>\n",
       "      <th>text</th>\n",
       "      <th>toxic</th>\n",
       "      <th>lemm_text</th>\n",
       "      <th>text_len</th>\n",
       "    </tr>\n",
       "  </thead>\n",
       "  <tbody>\n",
       "    <tr>\n",
       "      <th>76466</th>\n",
       "      <td>DIE FAG DIE FAG DIE FAG DIE FAG DIE FAG DIE FA...</td>\n",
       "      <td>1</td>\n",
       "      <td>die fag die fag die fag die fag die fag die fa...</td>\n",
       "      <td>1250</td>\n",
       "    </tr>\n",
       "    <tr>\n",
       "      <th>32074</th>\n",
       "      <td>PIG PIG PIG PIG PIG PIG PIG PIG PIG PIG PIG PI...</td>\n",
       "      <td>1</td>\n",
       "      <td>pig pig pig pig pig pig pig pig pig pig pig pi...</td>\n",
       "      <td>1250</td>\n",
       "    </tr>\n",
       "    <tr>\n",
       "      <th>149769</th>\n",
       "      <td>LOL LOL LOL LOL LOL LOL LOL LOL LOL LOL LOL LO...</td>\n",
       "      <td>0</td>\n",
       "      <td>lol lol lol lol lol lol lol lol lol lol lol lo...</td>\n",
       "      <td>1250</td>\n",
       "    </tr>\n",
       "    <tr>\n",
       "      <th>61679</th>\n",
       "      <td>OH NOES OH NOES OH NOES OH NOES OH NOES OH NOE...</td>\n",
       "      <td>0</td>\n",
       "      <td>oh no oh no oh no oh no oh no oh no oh no oh n...</td>\n",
       "      <td>1250</td>\n",
       "    </tr>\n",
       "    <tr>\n",
       "      <th>153079</th>\n",
       "      <td>FAT JEW FAT JEW FAT JEW FAT JEW FAT JEW FAT JE...</td>\n",
       "      <td>1</td>\n",
       "      <td>fat jew fat jew fat jew fat jew fat jew fat je...</td>\n",
       "      <td>1247</td>\n",
       "    </tr>\n",
       "    <tr>\n",
       "      <th>...</th>\n",
       "      <td>...</td>\n",
       "      <td>...</td>\n",
       "      <td>...</td>\n",
       "      <td>...</td>\n",
       "    </tr>\n",
       "    <tr>\n",
       "      <th>53899</th>\n",
       "      <td>Where's the rest of my page?</td>\n",
       "      <td>0</td>\n",
       "      <td>rest page</td>\n",
       "      <td>2</td>\n",
       "    </tr>\n",
       "    <tr>\n",
       "      <th>8243</th>\n",
       "      <td>07, 4 August 2011 (UTC)   17:</td>\n",
       "      <td>0</td>\n",
       "      <td>august utc</td>\n",
       "      <td>2</td>\n",
       "    </tr>\n",
       "    <tr>\n",
       "      <th>83948</th>\n",
       "      <td>is done by forces that</td>\n",
       "      <td>0</td>\n",
       "      <td>do force</td>\n",
       "      <td>2</td>\n",
       "    </tr>\n",
       "    <tr>\n",
       "      <th>83944</th>\n",
       "      <td>I am find with it being removed.  -)</td>\n",
       "      <td>0</td>\n",
       "      <td>find remove</td>\n",
       "      <td>2</td>\n",
       "    </tr>\n",
       "    <tr>\n",
       "      <th>92784</th>\n",
       "      <td>\", and you reverted it as \"\"vandalism.\"\"\"</td>\n",
       "      <td>0</td>\n",
       "      <td>revert vandalism</td>\n",
       "      <td>2</td>\n",
       "    </tr>\n",
       "  </tbody>\n",
       "</table>\n",
       "<p>158433 rows × 4 columns</p>\n",
       "</div>"
      ],
      "text/plain": [
       "                                                     text  toxic  \\\n",
       "76466   DIE FAG DIE FAG DIE FAG DIE FAG DIE FAG DIE FA...      1   \n",
       "32074   PIG PIG PIG PIG PIG PIG PIG PIG PIG PIG PIG PI...      1   \n",
       "149769  LOL LOL LOL LOL LOL LOL LOL LOL LOL LOL LOL LO...      0   \n",
       "61679   OH NOES OH NOES OH NOES OH NOES OH NOES OH NOE...      0   \n",
       "153079  FAT JEW FAT JEW FAT JEW FAT JEW FAT JEW FAT JE...      1   \n",
       "...                                                   ...    ...   \n",
       "53899                        Where's the rest of my page?      0   \n",
       "8243                        07, 4 August 2011 (UTC)   17:      0   \n",
       "83948                              is done by forces that      0   \n",
       "83944                I am find with it being removed.  -)      0   \n",
       "92784           \", and you reverted it as \"\"vandalism.\"\"\"      0   \n",
       "\n",
       "                                                lemm_text  text_len  \n",
       "76466   die fag die fag die fag die fag die fag die fa...      1250  \n",
       "32074   pig pig pig pig pig pig pig pig pig pig pig pi...      1250  \n",
       "149769  lol lol lol lol lol lol lol lol lol lol lol lo...      1250  \n",
       "61679   oh no oh no oh no oh no oh no oh no oh no oh n...      1250  \n",
       "153079  fat jew fat jew fat jew fat jew fat jew fat je...      1247  \n",
       "...                                                   ...       ...  \n",
       "53899                                           rest page         2  \n",
       "8243                                           august utc         2  \n",
       "83948                                            do force         2  \n",
       "83944                                         find remove         2  \n",
       "92784                                    revert vandalism         2  \n",
       "\n",
       "[158433 rows x 4 columns]"
      ]
     },
     "execution_count": 31,
     "metadata": {},
     "output_type": "execute_result"
    }
   ],
   "source": [
    "data.sort_values(by='text_len', ascending=False)"
   ]
  },
  {
   "cell_type": "markdown",
   "metadata": {},
   "source": [
    "Много слов часто повторяются, удалим их. Для этого создадим функцию"
   ]
  },
  {
   "cell_type": "code",
   "execution_count": 32,
   "metadata": {},
   "outputs": [],
   "source": [
    "def dublicated_words(text):\n",
    "    words = text.split()\n",
    "    return \" \".join(sorted(set(words), key=words.index))"
   ]
  },
  {
   "cell_type": "markdown",
   "metadata": {},
   "source": [
    "Удалим повторяющиеся слова"
   ]
  },
  {
   "cell_type": "code",
   "execution_count": 33,
   "metadata": {},
   "outputs": [
    {
     "data": {
      "application/vnd.jupyter.widget-view+json": {
       "model_id": "238c98083b1f49d8ba46dd2081827938",
       "version_major": 2,
       "version_minor": 0
      },
      "text/plain": [
       "  0%|          | 0/158433 [00:00<?, ?it/s]"
      ]
     },
     "metadata": {},
     "output_type": "display_data"
    }
   ],
   "source": [
    "data['lemm_text'] = data['lemm_text'].progress_apply(dublicated_words)"
   ]
  },
  {
   "cell_type": "code",
   "execution_count": 34,
   "metadata": {},
   "outputs": [
    {
     "data": {
      "application/vnd.jupyter.widget-view+json": {
       "model_id": "f08dde864bac4d5a841b086140dbf778",
       "version_major": 2,
       "version_minor": 0
      },
      "text/plain": [
       "  0%|          | 0/158433 [00:00<?, ?it/s]"
      ]
     },
     "metadata": {},
     "output_type": "display_data"
    },
    {
     "data": {
      "text/html": [
       "<div>\n",
       "<style scoped>\n",
       "    .dataframe tbody tr th:only-of-type {\n",
       "        vertical-align: middle;\n",
       "    }\n",
       "\n",
       "    .dataframe tbody tr th {\n",
       "        vertical-align: top;\n",
       "    }\n",
       "\n",
       "    .dataframe thead th {\n",
       "        text-align: right;\n",
       "    }\n",
       "</style>\n",
       "<table border=\"1\" class=\"dataframe\">\n",
       "  <thead>\n",
       "    <tr style=\"text-align: right;\">\n",
       "      <th></th>\n",
       "      <th>text</th>\n",
       "      <th>toxic</th>\n",
       "      <th>lemm_text</th>\n",
       "      <th>text_len</th>\n",
       "    </tr>\n",
       "  </thead>\n",
       "  <tbody>\n",
       "    <tr>\n",
       "      <th>0</th>\n",
       "      <td>Explanation\\nWhy the edits made under my usern...</td>\n",
       "      <td>0</td>\n",
       "      <td>explanation edits make username hardcore metal...</td>\n",
       "      <td>23</td>\n",
       "    </tr>\n",
       "    <tr>\n",
       "      <th>1</th>\n",
       "      <td>D'aww! He matches this background colour I'm s...</td>\n",
       "      <td>0</td>\n",
       "      <td>aww match background colour seemingly stuck th...</td>\n",
       "      <td>10</td>\n",
       "    </tr>\n",
       "    <tr>\n",
       "      <th>2</th>\n",
       "      <td>Hey man, I'm really not trying to edit war. It...</td>\n",
       "      <td>0</td>\n",
       "      <td>hey man really try edit war guy constantly rem...</td>\n",
       "      <td>20</td>\n",
       "    </tr>\n",
       "    <tr>\n",
       "      <th>3</th>\n",
       "      <td>\"\\nMore\\nI can't make any real suggestions on ...</td>\n",
       "      <td>0</td>\n",
       "      <td>make real suggestion improvement wonder sectio...</td>\n",
       "      <td>46</td>\n",
       "    </tr>\n",
       "    <tr>\n",
       "      <th>4</th>\n",
       "      <td>You, sir, are my hero. Any chance you remember...</td>\n",
       "      <td>0</td>\n",
       "      <td>sir hero chance remember page</td>\n",
       "      <td>5</td>\n",
       "    </tr>\n",
       "  </tbody>\n",
       "</table>\n",
       "</div>"
      ],
      "text/plain": [
       "                                                text  toxic  \\\n",
       "0  Explanation\\nWhy the edits made under my usern...      0   \n",
       "1  D'aww! He matches this background colour I'm s...      0   \n",
       "2  Hey man, I'm really not trying to edit war. It...      0   \n",
       "3  \"\\nMore\\nI can't make any real suggestions on ...      0   \n",
       "4  You, sir, are my hero. Any chance you remember...      0   \n",
       "\n",
       "                                           lemm_text  text_len  \n",
       "0  explanation edits make username hardcore metal...        23  \n",
       "1  aww match background colour seemingly stuck th...        10  \n",
       "2  hey man really try edit war guy constantly rem...        20  \n",
       "3  make real suggestion improvement wonder sectio...        46  \n",
       "4                      sir hero chance remember page         5  "
      ]
     },
     "execution_count": 34,
     "metadata": {},
     "output_type": "execute_result"
    }
   ],
   "source": [
    "# Пересчитаем длину леммированных твитов:\n",
    "data['text_len'] = data['lemm_text'].progress_apply(calc_len)\n",
    "data.head()"
   ]
  },
  {
   "cell_type": "markdown",
   "metadata": {},
   "source": [
    "Создадим датафрейм, в котором будем хранить результаты работы наших моделей"
   ]
  },
  {
   "cell_type": "code",
   "execution_count": 35,
   "metadata": {},
   "outputs": [],
   "source": [
    "df_results = pd.DataFrame(columns=['name_model', 'best_score_', \n",
    "                                   'parameters'])\n",
    "def model_metrics(name_model, best_score, params):\n",
    "    if name_model not in list(df_results['name_model']):  \n",
    "        df_results.loc[len(df_results.index )] = \\\n",
    "            [name_model, best_score, params]"
   ]
  },
  {
   "cell_type": "markdown",
   "metadata": {},
   "source": [
    "Для упрощения сбора результатов с обучения моделей, создадим функции"
   ]
  },
  {
   "cell_type": "code",
   "execution_count": 36,
   "metadata": {},
   "outputs": [],
   "source": [
    "def Model(classificator, params, name):\n",
    "    # Чтобы видеть, что процесс выполняется, поставим tqdm с разовым циклом:\n",
    "    for _ in tqdm(range(1)):\n",
    "        grid = GridSearchCV(classificator, params, scoring='f1', \n",
    "                            cv=3)\n",
    "        grid.fit(tf_idf_train, target_train)  \n",
    "        model_metrics(name, grid.best_score_, \n",
    "                      grid.best_params_)"
   ]
  },
  {
   "cell_type": "markdown",
   "metadata": {},
   "source": [
    "### Обучение LogisticRegression"
   ]
  },
  {
   "cell_type": "code",
   "execution_count": 37,
   "metadata": {},
   "outputs": [],
   "source": [
    "LR = LogisticRegression(fit_intercept=True, \n",
    "                                class_weight='balanced', \n",
    "                                random_state=12345,\n",
    "                                solver='liblinear'\n",
    "                                )\n",
    "regression_parameters = {'C': [1, 10]}   "
   ]
  },
  {
   "cell_type": "code",
   "execution_count": 38,
   "metadata": {},
   "outputs": [
    {
     "data": {
      "application/vnd.jupyter.widget-view+json": {
       "model_id": "2c5ddb22a5204b93a6666d8c299c88f1",
       "version_major": 2,
       "version_minor": 0
      },
      "text/plain": [
       "  0%|          | 0/1 [00:00<?, ?it/s]"
      ]
     },
     "metadata": {},
     "output_type": "display_data"
    }
   ],
   "source": [
    "Model(LR, regression_parameters, 'LogisticRegression')"
   ]
  },
  {
   "cell_type": "markdown",
   "metadata": {},
   "source": [
    "Поскольку у нас наблюдается дисбаланс в классах, при обучении используем class_weight='balanced'"
   ]
  },
  {
   "cell_type": "code",
   "execution_count": 39,
   "metadata": {},
   "outputs": [
    {
     "data": {
      "text/html": [
       "<div>\n",
       "<style scoped>\n",
       "    .dataframe tbody tr th:only-of-type {\n",
       "        vertical-align: middle;\n",
       "    }\n",
       "\n",
       "    .dataframe tbody tr th {\n",
       "        vertical-align: top;\n",
       "    }\n",
       "\n",
       "    .dataframe thead th {\n",
       "        text-align: right;\n",
       "    }\n",
       "</style>\n",
       "<table border=\"1\" class=\"dataframe\">\n",
       "  <thead>\n",
       "    <tr style=\"text-align: right;\">\n",
       "      <th></th>\n",
       "      <th>name_model</th>\n",
       "      <th>best_score_</th>\n",
       "      <th>parameters</th>\n",
       "    </tr>\n",
       "  </thead>\n",
       "  <tbody>\n",
       "    <tr>\n",
       "      <th>0</th>\n",
       "      <td>LogisticRegression</td>\n",
       "      <td>0.765508</td>\n",
       "      <td>{'C': 10}</td>\n",
       "    </tr>\n",
       "  </tbody>\n",
       "</table>\n",
       "</div>"
      ],
      "text/plain": [
       "           name_model  best_score_ parameters\n",
       "0  LogisticRegression     0.765508  {'C': 10}"
      ]
     },
     "execution_count": 39,
     "metadata": {},
     "output_type": "execute_result"
    }
   ],
   "source": [
    "df_results"
   ]
  },
  {
   "cell_type": "markdown",
   "metadata": {},
   "source": [
    "### Обучение DecisionTreeClassifier"
   ]
  },
  {
   "cell_type": "code",
   "execution_count": 40,
   "metadata": {},
   "outputs": [],
   "source": [
    "DTC = DecisionTreeClassifier(class_weight='balanced', \n",
    "                                      random_state=RANDOM_STATE\n",
    "                                      )\n",
    "dtc_parameters = {'max_depth': [20]}"
   ]
  },
  {
   "cell_type": "code",
   "execution_count": 41,
   "metadata": {},
   "outputs": [
    {
     "data": {
      "application/vnd.jupyter.widget-view+json": {
       "model_id": "055ffcce51cf47dbb7a2f0136e16ebe0",
       "version_major": 2,
       "version_minor": 0
      },
      "text/plain": [
       "  0%|          | 0/1 [00:00<?, ?it/s]"
      ]
     },
     "metadata": {},
     "output_type": "display_data"
    }
   ],
   "source": [
    "Model(DTC, dtc_parameters, 'DecisionTreeClassifier')"
   ]
  },
  {
   "cell_type": "code",
   "execution_count": 42,
   "metadata": {},
   "outputs": [
    {
     "data": {
      "text/html": [
       "<div>\n",
       "<style scoped>\n",
       "    .dataframe tbody tr th:only-of-type {\n",
       "        vertical-align: middle;\n",
       "    }\n",
       "\n",
       "    .dataframe tbody tr th {\n",
       "        vertical-align: top;\n",
       "    }\n",
       "\n",
       "    .dataframe thead th {\n",
       "        text-align: right;\n",
       "    }\n",
       "</style>\n",
       "<table border=\"1\" class=\"dataframe\">\n",
       "  <thead>\n",
       "    <tr style=\"text-align: right;\">\n",
       "      <th></th>\n",
       "      <th>name_model</th>\n",
       "      <th>best_score_</th>\n",
       "      <th>parameters</th>\n",
       "    </tr>\n",
       "  </thead>\n",
       "  <tbody>\n",
       "    <tr>\n",
       "      <th>0</th>\n",
       "      <td>LogisticRegression</td>\n",
       "      <td>0.765508</td>\n",
       "      <td>{'C': 10}</td>\n",
       "    </tr>\n",
       "    <tr>\n",
       "      <th>1</th>\n",
       "      <td>DecisionTreeClassifier</td>\n",
       "      <td>0.630642</td>\n",
       "      <td>{'max_depth': 20}</td>\n",
       "    </tr>\n",
       "  </tbody>\n",
       "</table>\n",
       "</div>"
      ],
      "text/plain": [
       "               name_model  best_score_         parameters\n",
       "0      LogisticRegression     0.765508          {'C': 10}\n",
       "1  DecisionTreeClassifier     0.630642  {'max_depth': 20}"
      ]
     },
     "execution_count": 42,
     "metadata": {},
     "output_type": "execute_result"
    }
   ],
   "source": [
    "df_results"
   ]
  },
  {
   "cell_type": "markdown",
   "metadata": {},
   "source": [
    "### Обучение LGBMClassifier"
   ]
  },
  {
   "cell_type": "code",
   "execution_count": 43,
   "metadata": {},
   "outputs": [
    {
     "data": {
      "application/vnd.jupyter.widget-view+json": {
       "model_id": "692b2cb39adc4eb79e38c451cf10b0e7",
       "version_major": 2,
       "version_minor": 0
      },
      "text/plain": [
       "  0%|          | 0/1 [00:00<?, ?it/s]"
      ]
     },
     "metadata": {},
     "output_type": "display_data"
    }
   ],
   "source": [
    "lgbm = LGBMClassifier(learning_rate=0.15, \n",
    "                      random_state=RANDOM_STATE\n",
    "                      )\n",
    "lgbm_params = {'max_depth': [30],\n",
    "                   'n_estimators': [100]\n",
    "                  }\n",
    "    \n",
    "Model(lgbm, lgbm_params, 'LGBMClassifier')"
   ]
  },
  {
   "cell_type": "code",
   "execution_count": 44,
   "metadata": {},
   "outputs": [
    {
     "data": {
      "text/html": [
       "<div>\n",
       "<style scoped>\n",
       "    .dataframe tbody tr th:only-of-type {\n",
       "        vertical-align: middle;\n",
       "    }\n",
       "\n",
       "    .dataframe tbody tr th {\n",
       "        vertical-align: top;\n",
       "    }\n",
       "\n",
       "    .dataframe thead th {\n",
       "        text-align: right;\n",
       "    }\n",
       "</style>\n",
       "<table border=\"1\" class=\"dataframe\">\n",
       "  <thead>\n",
       "    <tr style=\"text-align: right;\">\n",
       "      <th></th>\n",
       "      <th>name_model</th>\n",
       "      <th>best_score_</th>\n",
       "      <th>parameters</th>\n",
       "    </tr>\n",
       "  </thead>\n",
       "  <tbody>\n",
       "    <tr>\n",
       "      <th>0</th>\n",
       "      <td>LogisticRegression</td>\n",
       "      <td>0.765508</td>\n",
       "      <td>{'C': 10}</td>\n",
       "    </tr>\n",
       "    <tr>\n",
       "      <th>1</th>\n",
       "      <td>DecisionTreeClassifier</td>\n",
       "      <td>0.630642</td>\n",
       "      <td>{'max_depth': 20}</td>\n",
       "    </tr>\n",
       "    <tr>\n",
       "      <th>2</th>\n",
       "      <td>LGBMClassifier</td>\n",
       "      <td>0.760718</td>\n",
       "      <td>{'max_depth': 30, 'n_estimators': 100}</td>\n",
       "    </tr>\n",
       "  </tbody>\n",
       "</table>\n",
       "</div>"
      ],
      "text/plain": [
       "               name_model  best_score_                              parameters\n",
       "0      LogisticRegression     0.765508                               {'C': 10}\n",
       "1  DecisionTreeClassifier     0.630642                       {'max_depth': 20}\n",
       "2          LGBMClassifier     0.760718  {'max_depth': 30, 'n_estimators': 100}"
      ]
     },
     "execution_count": 44,
     "metadata": {},
     "output_type": "execute_result"
    }
   ],
   "source": [
    "df_results"
   ]
  },
  {
   "cell_type": "markdown",
   "metadata": {},
   "source": [
    "### Промежуточные выводы:\n",
    "- подготовили данные\n",
    "- обучили три разные модели: LogisticRegression, DecisionTreeClassifier\tи LGBMClassifier\n",
    "- под условие задачи (метрика качества F1 не меньше 0.75) подходят сразу 2 модели: LogisticRegression и LGBMClassifier\t\n",
    "- Выберем модель LogisticRegression, поскольку она получила наивысшую метрику - 0.765508\t"
   ]
  },
  {
   "cell_type": "markdown",
   "metadata": {},
   "source": [
    "## Выводы"
   ]
  },
  {
   "cell_type": "markdown",
   "metadata": {},
   "source": [
    "- загрузили и изучили данные\n",
    "- провели предобработку данных\n",
    "- лемматизировали текст и добавили новый столбец с лемм текстом\n",
    "- построили график распределения токсичных и не токсичных отзывов\n",
    "- токсичных отзывов значительно меньше, чем токсичных. Наблюдаем явный дисбаланс в классах (соотношение 9 к 1)\n",
    "- учли это при обучении моделей\n",
    "- добавили новый признак с длиной лемматизированного текста\n",
    "- удалили повторяющиеся слова и объекты с минимальной длиной\n",
    "- подготовили данные и обучили три модели LogisticRegression, DecisionTreeClassifier и LGBMClassifier\n",
    "- под условие задачи попали две - LogisticRegression и LGBMClassifier\n",
    "- выбрали модель LogisticRegression, поскольку метрика F1 у нее оказалась выше. \n",
    "\n",
    "Для классификации комментариев на позитивнее и негативнее лучше всего подходит модель LogisticRegression"
   ]
  },
  {
   "cell_type": "markdown",
   "metadata": {},
   "source": [
    "## Чек-лист проверки"
   ]
  },
  {
   "cell_type": "markdown",
   "metadata": {},
   "source": [
    "- [x]  Jupyter Notebook открыт\n",
    "- [x]  Весь код выполняется без ошибок\n",
    "- [x]  Ячейки с кодом расположены в порядке исполнения\n",
    "- [x]  Данные загружены и подготовлены\n",
    "- [x]  Модели обучены\n",
    "- [x]  Значение метрики *F1* не меньше 0.75\n",
    "- [x]  Выводы написаны"
   ]
  }
 ],
 "metadata": {
  "ExecuteTimeLog": [
   {
    "duration": 1257,
    "start_time": "2024-12-04T08:22:59.612Z"
   },
   {
    "duration": 11,
    "start_time": "2024-12-04T08:28:59.583Z"
   },
   {
    "duration": 3971,
    "start_time": "2024-12-04T08:29:05.321Z"
   },
   {
    "duration": 22,
    "start_time": "2024-12-04T08:29:33.475Z"
   },
   {
    "duration": 834,
    "start_time": "2024-12-04T08:29:43.283Z"
   },
   {
    "duration": 3669,
    "start_time": "2024-12-04T08:30:29.496Z"
   },
   {
    "duration": 527,
    "start_time": "2024-12-04T08:30:45.737Z"
   },
   {
    "duration": 36,
    "start_time": "2024-12-04T08:31:50.871Z"
   },
   {
    "duration": 929,
    "start_time": "2024-12-04T08:31:56.453Z"
   },
   {
    "duration": 10,
    "start_time": "2024-12-04T08:34:23.954Z"
   },
   {
    "duration": 33,
    "start_time": "2024-12-04T08:34:35.134Z"
   },
   {
    "duration": 20,
    "start_time": "2024-12-04T08:37:19.432Z"
   },
   {
    "duration": 4,
    "start_time": "2024-12-04T08:37:29.835Z"
   },
   {
    "duration": 231,
    "start_time": "2024-12-04T08:38:32.108Z"
   },
   {
    "duration": 197,
    "start_time": "2024-12-04T08:39:00.090Z"
   },
   {
    "duration": 10,
    "start_time": "2024-12-04T08:43:03.909Z"
   },
   {
    "duration": 201,
    "start_time": "2024-12-04T08:43:07.108Z"
   },
   {
    "duration": 16,
    "start_time": "2024-12-04T08:43:51.545Z"
   },
   {
    "duration": 124,
    "start_time": "2024-12-04T08:45:02.537Z"
   },
   {
    "duration": 26,
    "start_time": "2024-12-04T08:45:10.357Z"
   },
   {
    "duration": 27,
    "start_time": "2024-12-04T08:45:22.526Z"
   },
   {
    "duration": 31,
    "start_time": "2024-12-04T08:50:26.144Z"
   },
   {
    "duration": 3,
    "start_time": "2024-12-04T09:04:17.422Z"
   },
   {
    "duration": 3,
    "start_time": "2024-12-04T09:04:45.052Z"
   },
   {
    "duration": 24,
    "start_time": "2024-12-04T09:06:38.880Z"
   },
   {
    "duration": 22,
    "start_time": "2024-12-04T09:07:12.490Z"
   },
   {
    "duration": 2509,
    "start_time": "2024-12-04T09:08:59.232Z"
   },
   {
    "duration": 2516,
    "start_time": "2024-12-04T09:09:21.497Z"
   },
   {
    "duration": 2515,
    "start_time": "2024-12-04T09:09:27.730Z"
   },
   {
    "duration": 5489,
    "start_time": "2024-12-04T09:09:41.758Z"
   },
   {
    "duration": 946,
    "start_time": "2024-12-04T09:09:47.249Z"
   },
   {
    "duration": 10,
    "start_time": "2024-12-04T09:09:48.197Z"
   },
   {
    "duration": 45,
    "start_time": "2024-12-04T09:09:48.209Z"
   },
   {
    "duration": 3,
    "start_time": "2024-12-04T09:09:48.256Z"
   },
   {
    "duration": 26,
    "start_time": "2024-12-04T09:09:48.262Z"
   },
   {
    "duration": 230,
    "start_time": "2024-12-04T09:09:48.289Z"
   },
   {
    "duration": 16,
    "start_time": "2024-12-04T09:09:48.520Z"
   },
   {
    "duration": 34,
    "start_time": "2024-12-04T09:09:48.538Z"
   },
   {
    "duration": 2528,
    "start_time": "2024-12-04T09:09:48.575Z"
   },
   {
    "duration": 4,
    "start_time": "2024-12-04T09:09:51.104Z"
   },
   {
    "duration": 2505,
    "start_time": "2024-12-04T09:10:54.235Z"
   },
   {
    "duration": 3,
    "start_time": "2024-12-04T09:10:56.741Z"
   },
   {
    "duration": 3,
    "start_time": "2024-12-04T09:16:56.418Z"
   },
   {
    "duration": 3,
    "start_time": "2024-12-04T09:18:05.756Z"
   },
   {
    "duration": 3,
    "start_time": "2024-12-04T09:21:12.426Z"
   },
   {
    "duration": 3,
    "start_time": "2024-12-04T09:22:11.768Z"
   },
   {
    "duration": 3,
    "start_time": "2024-12-04T09:22:14.537Z"
   },
   {
    "duration": 347,
    "start_time": "2024-12-04T09:23:26.860Z"
   },
   {
    "duration": 28,
    "start_time": "2024-12-04T09:23:51.654Z"
   },
   {
    "duration": 130,
    "start_time": "2024-12-04T09:23:51.995Z"
   },
   {
    "duration": 24,
    "start_time": "2024-12-04T09:24:01.438Z"
   },
   {
    "duration": 110,
    "start_time": "2024-12-04T09:24:05.479Z"
   },
   {
    "duration": 215,
    "start_time": "2024-12-04T09:24:26.176Z"
   },
   {
    "duration": 189,
    "start_time": "2024-12-04T09:25:35.263Z"
   },
   {
    "duration": 175,
    "start_time": "2024-12-04T09:25:43.539Z"
   },
   {
    "duration": 204,
    "start_time": "2024-12-04T09:26:00.849Z"
   },
   {
    "duration": 204,
    "start_time": "2024-12-04T09:26:07.073Z"
   },
   {
    "duration": 369,
    "start_time": "2024-12-04T09:26:14.178Z"
   },
   {
    "duration": 58,
    "start_time": "2024-12-04T09:26:24.735Z"
   },
   {
    "duration": 188,
    "start_time": "2024-12-04T09:26:35.432Z"
   },
   {
    "duration": 186,
    "start_time": "2024-12-04T09:26:53.680Z"
   },
   {
    "duration": 189,
    "start_time": "2024-12-04T09:27:01.766Z"
   },
   {
    "duration": 29,
    "start_time": "2024-12-04T09:28:49.853Z"
   },
   {
    "duration": 2,
    "start_time": "2024-12-04T09:29:43.639Z"
   },
   {
    "duration": 69,
    "start_time": "2024-12-04T09:29:54.901Z"
   },
   {
    "duration": 3,
    "start_time": "2024-12-04T09:30:26.824Z"
   },
   {
    "duration": 7,
    "start_time": "2024-12-04T09:30:38.838Z"
   },
   {
    "duration": 3,
    "start_time": "2024-12-04T09:30:43.938Z"
   },
   {
    "duration": 189,
    "start_time": "2024-12-04T09:37:04.259Z"
   },
   {
    "duration": 64,
    "start_time": "2024-12-04T09:44:58.086Z"
   },
   {
    "duration": 3,
    "start_time": "2024-12-04T09:45:01.841Z"
   },
   {
    "duration": 23,
    "start_time": "2024-12-04T09:45:54.184Z"
   },
   {
    "duration": 23,
    "start_time": "2024-12-04T09:46:34.116Z"
   },
   {
    "duration": 21,
    "start_time": "2024-12-04T09:46:41.613Z"
   },
   {
    "duration": 20,
    "start_time": "2024-12-04T09:46:57.920Z"
   },
   {
    "duration": 22,
    "start_time": "2024-12-04T10:26:26.116Z"
   },
   {
    "duration": 3,
    "start_time": "2024-12-04T10:26:41.241Z"
   },
   {
    "duration": 2,
    "start_time": "2024-12-04T10:26:41.606Z"
   },
   {
    "duration": 3,
    "start_time": "2024-12-04T10:29:02.557Z"
   },
   {
    "duration": 89,
    "start_time": "2024-12-04T10:29:13.145Z"
   },
   {
    "duration": 27,
    "start_time": "2024-12-04T11:00:53.608Z"
   },
   {
    "duration": 21,
    "start_time": "2024-12-04T11:01:13.200Z"
   },
   {
    "duration": 235,
    "start_time": "2024-12-04T11:01:31.472Z"
   },
   {
    "duration": 19,
    "start_time": "2024-12-04T11:01:33.941Z"
   },
   {
    "duration": 5,
    "start_time": "2024-12-04T11:01:53.233Z"
   },
   {
    "duration": 4,
    "start_time": "2024-12-04T11:02:08.104Z"
   },
   {
    "duration": 24,
    "start_time": "2024-12-04T11:13:04.282Z"
   },
   {
    "duration": 19,
    "start_time": "2024-12-04T11:13:49.372Z"
   },
   {
    "duration": 3,
    "start_time": "2024-12-04T11:15:12.643Z"
   },
   {
    "duration": 5,
    "start_time": "2024-12-04T11:16:05.180Z"
   },
   {
    "duration": 94,
    "start_time": "2024-12-04T11:17:17.072Z"
   },
   {
    "duration": 19,
    "start_time": "2024-12-04T11:17:59.727Z"
   },
   {
    "duration": 1165,
    "start_time": "2024-12-04T11:20:14.433Z"
   },
   {
    "duration": 35,
    "start_time": "2024-12-04T11:20:41.498Z"
   },
   {
    "duration": 3,
    "start_time": "2024-12-04T11:22:30.830Z"
   },
   {
    "duration": 20,
    "start_time": "2024-12-04T11:22:38.626Z"
   },
   {
    "duration": 19,
    "start_time": "2024-12-04T11:22:43.134Z"
   },
   {
    "duration": 4,
    "start_time": "2024-12-04T11:22:51.864Z"
   },
   {
    "duration": 21,
    "start_time": "2024-12-04T11:22:52.108Z"
   },
   {
    "duration": 5458,
    "start_time": "2024-12-04T11:23:00.408Z"
   },
   {
    "duration": 933,
    "start_time": "2024-12-04T11:23:05.868Z"
   },
   {
    "duration": 12,
    "start_time": "2024-12-04T11:23:06.802Z"
   },
   {
    "duration": 46,
    "start_time": "2024-12-04T11:23:06.816Z"
   },
   {
    "duration": 4,
    "start_time": "2024-12-04T11:23:06.863Z"
   },
   {
    "duration": 29,
    "start_time": "2024-12-04T11:23:06.869Z"
   },
   {
    "duration": 262,
    "start_time": "2024-12-04T11:23:06.900Z"
   },
   {
    "duration": 16,
    "start_time": "2024-12-04T11:23:07.163Z"
   },
   {
    "duration": 68,
    "start_time": "2024-12-04T11:23:07.181Z"
   },
   {
    "duration": 2585,
    "start_time": "2024-12-04T11:23:07.251Z"
   },
   {
    "duration": 3,
    "start_time": "2024-12-04T11:23:09.837Z"
   },
   {
    "duration": 11,
    "start_time": "2024-12-04T11:23:09.842Z"
   },
   {
    "duration": 8,
    "start_time": "2024-12-04T11:23:09.855Z"
   },
   {
    "duration": 30,
    "start_time": "2024-12-04T11:23:09.864Z"
   },
   {
    "duration": 224,
    "start_time": "2024-12-04T11:23:09.896Z"
   },
   {
    "duration": 45,
    "start_time": "2024-12-04T11:23:10.122Z"
   },
   {
    "duration": 3,
    "start_time": "2024-12-04T11:23:10.168Z"
   },
   {
    "duration": 119,
    "start_time": "2024-12-04T11:23:10.172Z"
   },
   {
    "duration": 2,
    "start_time": "2024-12-04T11:23:10.293Z"
   },
   {
    "duration": 5,
    "start_time": "2024-12-04T11:23:10.297Z"
   },
   {
    "duration": 10,
    "start_time": "2024-12-04T11:23:10.303Z"
   },
   {
    "duration": 10,
    "start_time": "2024-12-04T11:23:10.315Z"
   },
   {
    "duration": 4,
    "start_time": "2024-12-04T11:23:10.326Z"
   },
   {
    "duration": 7,
    "start_time": "2024-12-04T11:23:10.332Z"
   },
   {
    "duration": 14,
    "start_time": "2024-12-04T11:23:10.341Z"
   },
   {
    "duration": 4,
    "start_time": "2024-12-04T11:23:10.362Z"
   },
   {
    "duration": 375,
    "start_time": "2024-12-04T11:23:10.367Z"
   },
   {
    "duration": 3,
    "start_time": "2024-12-04T11:26:29.981Z"
   },
   {
    "duration": 22,
    "start_time": "2024-12-04T11:26:37.450Z"
   },
   {
    "duration": 3,
    "start_time": "2024-12-04T11:26:41.134Z"
   },
   {
    "duration": 53,
    "start_time": "2024-12-04T11:26:57.262Z"
   },
   {
    "duration": 54,
    "start_time": "2024-12-04T11:27:01.317Z"
   },
   {
    "duration": 72,
    "start_time": "2024-12-04T11:27:05.798Z"
   },
   {
    "duration": 72,
    "start_time": "2024-12-04T11:27:09.035Z"
   },
   {
    "duration": 4,
    "start_time": "2024-12-04T11:33:48.924Z"
   },
   {
    "duration": 5,
    "start_time": "2024-12-04T11:35:41.900Z"
   },
   {
    "duration": 1329,
    "start_time": "2024-12-04T11:36:11.318Z"
   },
   {
    "duration": 40,
    "start_time": "2024-12-04T11:36:31.199Z"
   },
   {
    "duration": 4,
    "start_time": "2024-12-04T11:40:06.187Z"
   },
   {
    "duration": 20,
    "start_time": "2024-12-04T11:40:15.042Z"
   },
   {
    "duration": 3,
    "start_time": "2024-12-04T11:40:26.594Z"
   },
   {
    "duration": 7614,
    "start_time": "2024-12-04T11:40:34.629Z"
   },
   {
    "duration": 4,
    "start_time": "2024-12-04T11:43:35.768Z"
   },
   {
    "duration": 5,
    "start_time": "2024-12-04T11:43:47.754Z"
   },
   {
    "duration": 4,
    "start_time": "2024-12-04T11:43:56.018Z"
   },
   {
    "duration": 4,
    "start_time": "2024-12-04T11:44:29.296Z"
   },
   {
    "duration": 20,
    "start_time": "2024-12-04T11:47:49.904Z"
   },
   {
    "duration": 4,
    "start_time": "2024-12-04T11:48:04.047Z"
   },
   {
    "duration": 6,
    "start_time": "2024-12-04T11:48:24.950Z"
   },
   {
    "duration": 8,
    "start_time": "2024-12-04T11:54:38.826Z"
   },
   {
    "duration": 23,
    "start_time": "2024-12-04T11:55:43.464Z"
   },
   {
    "duration": 21,
    "start_time": "2024-12-04T11:56:07.704Z"
   },
   {
    "duration": 19,
    "start_time": "2024-12-04T11:56:12.776Z"
   },
   {
    "duration": 20,
    "start_time": "2024-12-04T11:56:47.006Z"
   },
   {
    "duration": 20,
    "start_time": "2024-12-04T11:56:59.580Z"
   },
   {
    "duration": 10,
    "start_time": "2024-12-06T08:27:02.976Z"
   },
   {
    "duration": 6342,
    "start_time": "2024-12-06T08:27:08.846Z"
   },
   {
    "duration": 3831,
    "start_time": "2024-12-06T08:27:15.190Z"
   },
   {
    "duration": 11,
    "start_time": "2024-12-06T08:27:19.023Z"
   },
   {
    "duration": 50,
    "start_time": "2024-12-06T08:27:19.036Z"
   },
   {
    "duration": 12,
    "start_time": "2024-12-06T08:27:19.088Z"
   },
   {
    "duration": 30,
    "start_time": "2024-12-06T08:27:19.102Z"
   },
   {
    "duration": 257,
    "start_time": "2024-12-06T08:27:19.133Z"
   },
   {
    "duration": 16,
    "start_time": "2024-12-06T08:27:19.391Z"
   },
   {
    "duration": 38,
    "start_time": "2024-12-06T08:27:19.409Z"
   },
   {
    "duration": 2459,
    "start_time": "2024-12-06T08:27:19.449Z"
   },
   {
    "duration": 3,
    "start_time": "2024-12-06T08:27:21.910Z"
   },
   {
    "duration": 28,
    "start_time": "2024-12-06T08:27:21.914Z"
   },
   {
    "duration": 42,
    "start_time": "2024-12-06T08:27:21.943Z"
   },
   {
    "duration": 10,
    "start_time": "2024-12-06T08:27:21.988Z"
   },
   {
    "duration": 56,
    "start_time": "2024-12-06T08:27:21.999Z"
   },
   {
    "duration": 203,
    "start_time": "2024-12-06T08:27:22.056Z"
   },
   {
    "duration": 11,
    "start_time": "2024-12-06T08:27:22.261Z"
   },
   {
    "duration": 61,
    "start_time": "2024-12-06T08:27:22.273Z"
   },
   {
    "duration": 23,
    "start_time": "2024-12-06T08:27:22.336Z"
   },
   {
    "duration": 29,
    "start_time": "2024-12-06T08:27:22.360Z"
   },
   {
    "duration": 7474,
    "start_time": "2024-12-06T08:27:22.390Z"
   },
   {
    "duration": 4,
    "start_time": "2024-12-06T08:27:29.866Z"
   },
   {
    "duration": 32,
    "start_time": "2024-12-06T08:27:29.871Z"
   },
   {
    "duration": 7,
    "start_time": "2024-12-06T08:27:29.905Z"
   },
   {
    "duration": 25,
    "start_time": "2024-12-06T08:27:29.914Z"
   },
   {
    "duration": 3,
    "start_time": "2024-12-06T08:27:29.940Z"
   },
   {
    "duration": 83,
    "start_time": "2024-12-06T08:27:29.944Z"
   },
   {
    "duration": 3,
    "start_time": "2024-12-06T08:27:30.029Z"
   },
   {
    "duration": 42,
    "start_time": "2024-12-06T08:27:30.033Z"
   },
   {
    "duration": 31,
    "start_time": "2024-12-06T08:27:30.077Z"
   },
   {
    "duration": 27,
    "start_time": "2024-12-06T08:27:30.110Z"
   },
   {
    "duration": 66,
    "start_time": "2024-12-06T08:27:30.139Z"
   },
   {
    "duration": 63,
    "start_time": "2024-12-06T08:27:30.207Z"
   },
   {
    "duration": 53,
    "start_time": "2024-12-06T08:27:30.271Z"
   },
   {
    "duration": 379,
    "start_time": "2024-12-06T08:28:50.645Z"
   },
   {
    "duration": 21,
    "start_time": "2024-12-06T08:28:56.048Z"
   },
   {
    "duration": 341,
    "start_time": "2024-12-06T08:29:16.579Z"
   },
   {
    "duration": 335,
    "start_time": "2024-12-06T08:29:42.412Z"
   },
   {
    "duration": 338,
    "start_time": "2024-12-06T08:29:55.508Z"
   },
   {
    "duration": 365,
    "start_time": "2024-12-06T08:30:16.695Z"
   },
   {
    "duration": 365,
    "start_time": "2024-12-06T08:30:31.426Z"
   },
   {
    "duration": 329,
    "start_time": "2024-12-06T08:31:02.676Z"
   },
   {
    "duration": 706,
    "start_time": "2024-12-06T08:31:39.203Z"
   },
   {
    "duration": 356,
    "start_time": "2024-12-06T08:31:40.541Z"
   },
   {
    "duration": 384,
    "start_time": "2024-12-06T08:31:52.666Z"
   },
   {
    "duration": 3,
    "start_time": "2024-12-06T08:35:45.801Z"
   },
   {
    "duration": 3,
    "start_time": "2024-12-06T08:36:14.065Z"
   },
   {
    "duration": 3,
    "start_time": "2024-12-06T08:36:33.869Z"
   },
   {
    "duration": 3,
    "start_time": "2024-12-06T08:37:46.410Z"
   },
   {
    "duration": 5,
    "start_time": "2024-12-06T08:39:01.032Z"
   },
   {
    "duration": 23,
    "start_time": "2024-12-06T08:39:17.335Z"
   },
   {
    "duration": 3,
    "start_time": "2024-12-06T08:40:19.606Z"
   },
   {
    "duration": 4,
    "start_time": "2024-12-06T08:40:20.003Z"
   },
   {
    "duration": 3,
    "start_time": "2024-12-06T08:40:20.288Z"
   },
   {
    "duration": 3,
    "start_time": "2024-12-06T08:40:20.881Z"
   },
   {
    "duration": 21,
    "start_time": "2024-12-06T08:40:21.764Z"
   },
   {
    "duration": 7418,
    "start_time": "2024-12-06T08:43:14.428Z"
   },
   {
    "duration": 34,
    "start_time": "2024-12-06T08:43:24.006Z"
   },
   {
    "duration": 5789,
    "start_time": "2024-12-06T08:43:32.116Z"
   },
   {
    "duration": 902,
    "start_time": "2024-12-06T08:43:37.906Z"
   },
   {
    "duration": 15,
    "start_time": "2024-12-06T08:43:38.810Z"
   },
   {
    "duration": 57,
    "start_time": "2024-12-06T08:43:38.828Z"
   },
   {
    "duration": 3,
    "start_time": "2024-12-06T08:43:38.887Z"
   },
   {
    "duration": 11,
    "start_time": "2024-12-06T08:43:38.892Z"
   },
   {
    "duration": 244,
    "start_time": "2024-12-06T08:43:38.904Z"
   },
   {
    "duration": 24,
    "start_time": "2024-12-06T08:43:39.150Z"
   },
   {
    "duration": 26,
    "start_time": "2024-12-06T08:43:39.175Z"
   },
   {
    "duration": 2535,
    "start_time": "2024-12-06T08:43:39.204Z"
   },
   {
    "duration": 541,
    "start_time": "2024-12-06T08:43:41.741Z"
   },
   {
    "duration": 3,
    "start_time": "2024-12-06T08:43:42.284Z"
   },
   {
    "duration": 6,
    "start_time": "2024-12-06T08:43:42.289Z"
   },
   {
    "duration": 361,
    "start_time": "2024-12-06T08:43:42.296Z"
   },
   {
    "duration": 0,
    "start_time": "2024-12-06T08:43:42.662Z"
   },
   {
    "duration": 0,
    "start_time": "2024-12-06T08:43:42.663Z"
   },
   {
    "duration": 0,
    "start_time": "2024-12-06T08:43:42.664Z"
   },
   {
    "duration": 0,
    "start_time": "2024-12-06T08:43:42.666Z"
   },
   {
    "duration": 0,
    "start_time": "2024-12-06T08:43:42.667Z"
   },
   {
    "duration": 0,
    "start_time": "2024-12-06T08:43:42.668Z"
   },
   {
    "duration": 0,
    "start_time": "2024-12-06T08:43:42.669Z"
   },
   {
    "duration": 0,
    "start_time": "2024-12-06T08:43:42.671Z"
   },
   {
    "duration": 0,
    "start_time": "2024-12-06T08:43:42.672Z"
   },
   {
    "duration": 0,
    "start_time": "2024-12-06T08:43:42.673Z"
   },
   {
    "duration": 0,
    "start_time": "2024-12-06T08:43:42.674Z"
   },
   {
    "duration": 0,
    "start_time": "2024-12-06T08:43:42.675Z"
   },
   {
    "duration": 0,
    "start_time": "2024-12-06T08:43:42.676Z"
   },
   {
    "duration": 0,
    "start_time": "2024-12-06T08:43:42.677Z"
   },
   {
    "duration": 0,
    "start_time": "2024-12-06T08:43:42.678Z"
   },
   {
    "duration": 0,
    "start_time": "2024-12-06T08:43:42.680Z"
   },
   {
    "duration": 0,
    "start_time": "2024-12-06T08:43:42.681Z"
   },
   {
    "duration": 0,
    "start_time": "2024-12-06T08:43:42.681Z"
   },
   {
    "duration": 0,
    "start_time": "2024-12-06T08:43:42.682Z"
   },
   {
    "duration": 0,
    "start_time": "2024-12-06T08:43:42.683Z"
   },
   {
    "duration": 0,
    "start_time": "2024-12-06T08:43:42.684Z"
   },
   {
    "duration": 0,
    "start_time": "2024-12-06T08:43:42.686Z"
   },
   {
    "duration": 0,
    "start_time": "2024-12-06T08:43:42.687Z"
   },
   {
    "duration": 0,
    "start_time": "2024-12-06T08:43:42.688Z"
   },
   {
    "duration": 0,
    "start_time": "2024-12-06T08:43:42.689Z"
   },
   {
    "duration": 0,
    "start_time": "2024-12-06T08:43:42.690Z"
   },
   {
    "duration": 3,
    "start_time": "2024-12-06T08:44:04.841Z"
   },
   {
    "duration": 2,
    "start_time": "2024-12-06T08:44:05.428Z"
   },
   {
    "duration": 3,
    "start_time": "2024-12-06T08:44:06.403Z"
   },
   {
    "duration": 3251,
    "start_time": "2024-12-06T08:44:07.157Z"
   },
   {
    "duration": 37,
    "start_time": "2024-12-06T08:44:12.056Z"
   },
   {
    "duration": 366,
    "start_time": "2024-12-06T08:44:38.145Z"
   },
   {
    "duration": 4,
    "start_time": "2024-12-06T08:45:30.733Z"
   },
   {
    "duration": 3175,
    "start_time": "2024-12-06T08:45:31.641Z"
   },
   {
    "duration": 430,
    "start_time": "2024-12-06T08:45:34.818Z"
   },
   {
    "duration": 20,
    "start_time": "2024-12-06T08:45:59.210Z"
   },
   {
    "duration": 5396,
    "start_time": "2024-12-06T08:46:22.577Z"
   },
   {
    "duration": 930,
    "start_time": "2024-12-06T08:46:27.975Z"
   },
   {
    "duration": 9,
    "start_time": "2024-12-06T08:46:28.907Z"
   },
   {
    "duration": 44,
    "start_time": "2024-12-06T08:46:28.918Z"
   },
   {
    "duration": 12,
    "start_time": "2024-12-06T08:46:28.964Z"
   },
   {
    "duration": 32,
    "start_time": "2024-12-06T08:46:28.978Z"
   },
   {
    "duration": 267,
    "start_time": "2024-12-06T08:46:29.011Z"
   },
   {
    "duration": 17,
    "start_time": "2024-12-06T08:46:29.280Z"
   },
   {
    "duration": 37,
    "start_time": "2024-12-06T08:46:29.299Z"
   },
   {
    "duration": 2481,
    "start_time": "2024-12-06T08:46:29.338Z"
   },
   {
    "duration": 351,
    "start_time": "2024-12-06T08:46:31.820Z"
   },
   {
    "duration": 0,
    "start_time": "2024-12-06T08:46:32.174Z"
   },
   {
    "duration": 0,
    "start_time": "2024-12-06T08:46:32.175Z"
   },
   {
    "duration": 0,
    "start_time": "2024-12-06T08:46:32.176Z"
   },
   {
    "duration": 0,
    "start_time": "2024-12-06T08:46:32.177Z"
   },
   {
    "duration": 0,
    "start_time": "2024-12-06T08:46:32.178Z"
   },
   {
    "duration": 0,
    "start_time": "2024-12-06T08:46:32.179Z"
   },
   {
    "duration": 0,
    "start_time": "2024-12-06T08:46:32.180Z"
   },
   {
    "duration": 0,
    "start_time": "2024-12-06T08:46:32.181Z"
   },
   {
    "duration": 0,
    "start_time": "2024-12-06T08:46:32.182Z"
   },
   {
    "duration": 0,
    "start_time": "2024-12-06T08:46:32.183Z"
   },
   {
    "duration": 0,
    "start_time": "2024-12-06T08:46:32.184Z"
   },
   {
    "duration": 0,
    "start_time": "2024-12-06T08:46:32.186Z"
   },
   {
    "duration": 0,
    "start_time": "2024-12-06T08:46:32.186Z"
   },
   {
    "duration": 0,
    "start_time": "2024-12-06T08:46:32.187Z"
   },
   {
    "duration": 0,
    "start_time": "2024-12-06T08:46:32.189Z"
   },
   {
    "duration": 0,
    "start_time": "2024-12-06T08:46:32.190Z"
   },
   {
    "duration": 0,
    "start_time": "2024-12-06T08:46:32.191Z"
   },
   {
    "duration": 0,
    "start_time": "2024-12-06T08:46:32.192Z"
   },
   {
    "duration": 0,
    "start_time": "2024-12-06T08:46:32.193Z"
   },
   {
    "duration": 0,
    "start_time": "2024-12-06T08:46:32.194Z"
   },
   {
    "duration": 0,
    "start_time": "2024-12-06T08:46:32.195Z"
   },
   {
    "duration": 0,
    "start_time": "2024-12-06T08:46:32.196Z"
   },
   {
    "duration": 0,
    "start_time": "2024-12-06T08:46:32.197Z"
   },
   {
    "duration": 0,
    "start_time": "2024-12-06T08:46:32.198Z"
   },
   {
    "duration": 0,
    "start_time": "2024-12-06T08:46:32.199Z"
   },
   {
    "duration": 0,
    "start_time": "2024-12-06T08:46:32.199Z"
   },
   {
    "duration": 0,
    "start_time": "2024-12-06T08:46:32.201Z"
   },
   {
    "duration": 0,
    "start_time": "2024-12-06T08:46:32.202Z"
   },
   {
    "duration": 0,
    "start_time": "2024-12-06T08:46:32.203Z"
   },
   {
    "duration": 0,
    "start_time": "2024-12-06T08:46:32.204Z"
   },
   {
    "duration": 3,
    "start_time": "2024-12-06T08:47:57.135Z"
   },
   {
    "duration": 3,
    "start_time": "2024-12-06T08:47:57.683Z"
   },
   {
    "duration": 2,
    "start_time": "2024-12-06T08:47:58.103Z"
   },
   {
    "duration": 3,
    "start_time": "2024-12-06T08:47:58.984Z"
   },
   {
    "duration": 3244,
    "start_time": "2024-12-06T08:48:02.429Z"
   },
   {
    "duration": 36,
    "start_time": "2024-12-06T08:48:06.861Z"
   },
   {
    "duration": 2495,
    "start_time": "2024-12-06T08:48:21.618Z"
   },
   {
    "duration": 9,
    "start_time": "2024-12-06T08:48:40.808Z"
   },
   {
    "duration": 2,
    "start_time": "2024-12-06T08:49:43.363Z"
   },
   {
    "duration": 3,
    "start_time": "2024-12-06T08:51:54.914Z"
   },
   {
    "duration": 4,
    "start_time": "2024-12-06T08:51:55.980Z"
   },
   {
    "duration": 3,
    "start_time": "2024-12-06T08:51:56.246Z"
   },
   {
    "duration": 3,
    "start_time": "2024-12-06T08:51:56.549Z"
   },
   {
    "duration": 4,
    "start_time": "2024-12-06T08:51:57.001Z"
   },
   {
    "duration": 2,
    "start_time": "2024-12-06T08:51:57.570Z"
   },
   {
    "duration": 3161,
    "start_time": "2024-12-06T08:51:57.829Z"
   },
   {
    "duration": 1194,
    "start_time": "2024-12-06T08:52:00.993Z"
   },
   {
    "duration": 5460,
    "start_time": "2024-12-06T08:52:35.588Z"
   },
   {
    "duration": 908,
    "start_time": "2024-12-06T08:52:41.050Z"
   },
   {
    "duration": 12,
    "start_time": "2024-12-06T08:52:41.962Z"
   },
   {
    "duration": 45,
    "start_time": "2024-12-06T08:52:41.976Z"
   },
   {
    "duration": 4,
    "start_time": "2024-12-06T08:52:42.024Z"
   },
   {
    "duration": 12,
    "start_time": "2024-12-06T08:52:42.030Z"
   },
   {
    "duration": 243,
    "start_time": "2024-12-06T08:52:42.062Z"
   },
   {
    "duration": 18,
    "start_time": "2024-12-06T08:52:42.306Z"
   },
   {
    "duration": 44,
    "start_time": "2024-12-06T08:52:42.326Z"
   },
   {
    "duration": 19,
    "start_time": "2024-12-06T08:52:42.372Z"
   },
   {
    "duration": 15,
    "start_time": "2024-12-06T08:52:42.393Z"
   },
   {
    "duration": 26,
    "start_time": "2024-12-06T08:52:42.410Z"
   },
   {
    "duration": 9,
    "start_time": "2024-12-06T08:52:42.438Z"
   },
   {
    "duration": 6,
    "start_time": "2024-12-06T08:52:42.449Z"
   },
   {
    "duration": 5,
    "start_time": "2024-12-06T08:52:42.456Z"
   },
   {
    "duration": 3178,
    "start_time": "2024-12-06T08:52:42.462Z"
   },
   {
    "duration": 2558,
    "start_time": "2024-12-06T08:52:45.642Z"
   },
   {
    "duration": 0,
    "start_time": "2024-12-06T08:52:48.202Z"
   },
   {
    "duration": 0,
    "start_time": "2024-12-06T08:52:48.203Z"
   },
   {
    "duration": 0,
    "start_time": "2024-12-06T08:52:48.204Z"
   },
   {
    "duration": 0,
    "start_time": "2024-12-06T08:52:48.205Z"
   },
   {
    "duration": 0,
    "start_time": "2024-12-06T08:52:48.206Z"
   },
   {
    "duration": 0,
    "start_time": "2024-12-06T08:52:48.207Z"
   },
   {
    "duration": 0,
    "start_time": "2024-12-06T08:52:48.208Z"
   },
   {
    "duration": 0,
    "start_time": "2024-12-06T08:52:48.210Z"
   },
   {
    "duration": 1,
    "start_time": "2024-12-06T08:52:48.210Z"
   },
   {
    "duration": 0,
    "start_time": "2024-12-06T08:52:48.212Z"
   },
   {
    "duration": 0,
    "start_time": "2024-12-06T08:52:48.213Z"
   },
   {
    "duration": 0,
    "start_time": "2024-12-06T08:52:48.214Z"
   },
   {
    "duration": 0,
    "start_time": "2024-12-06T08:52:48.215Z"
   },
   {
    "duration": 0,
    "start_time": "2024-12-06T08:52:48.216Z"
   },
   {
    "duration": 0,
    "start_time": "2024-12-06T08:52:48.218Z"
   },
   {
    "duration": 0,
    "start_time": "2024-12-06T08:52:48.219Z"
   },
   {
    "duration": 0,
    "start_time": "2024-12-06T08:52:48.220Z"
   },
   {
    "duration": 0,
    "start_time": "2024-12-06T08:52:48.221Z"
   },
   {
    "duration": 0,
    "start_time": "2024-12-06T08:52:48.222Z"
   },
   {
    "duration": 0,
    "start_time": "2024-12-06T08:52:48.223Z"
   },
   {
    "duration": 0,
    "start_time": "2024-12-06T08:52:48.224Z"
   },
   {
    "duration": 0,
    "start_time": "2024-12-06T08:52:48.226Z"
   },
   {
    "duration": 0,
    "start_time": "2024-12-06T08:52:48.227Z"
   },
   {
    "duration": 0,
    "start_time": "2024-12-06T08:52:48.228Z"
   },
   {
    "duration": 3,
    "start_time": "2024-12-06T08:53:47.787Z"
   },
   {
    "duration": 5429,
    "start_time": "2024-12-06T08:53:54.750Z"
   },
   {
    "duration": 912,
    "start_time": "2024-12-06T08:54:00.181Z"
   },
   {
    "duration": 10,
    "start_time": "2024-12-06T08:54:01.094Z"
   },
   {
    "duration": 50,
    "start_time": "2024-12-06T08:54:01.106Z"
   },
   {
    "duration": 29,
    "start_time": "2024-12-06T08:54:01.158Z"
   },
   {
    "duration": 43,
    "start_time": "2024-12-06T08:54:01.189Z"
   },
   {
    "duration": 248,
    "start_time": "2024-12-06T08:54:01.234Z"
   },
   {
    "duration": 16,
    "start_time": "2024-12-06T08:54:01.484Z"
   },
   {
    "duration": 45,
    "start_time": "2024-12-06T08:54:01.502Z"
   },
   {
    "duration": 71,
    "start_time": "2024-12-06T08:54:01.549Z"
   },
   {
    "duration": 47,
    "start_time": "2024-12-06T08:54:01.622Z"
   },
   {
    "duration": 22,
    "start_time": "2024-12-06T08:54:01.670Z"
   },
   {
    "duration": 47,
    "start_time": "2024-12-06T08:54:01.693Z"
   },
   {
    "duration": 26,
    "start_time": "2024-12-06T08:54:01.745Z"
   },
   {
    "duration": 43,
    "start_time": "2024-12-06T08:54:01.773Z"
   },
   {
    "duration": 3271,
    "start_time": "2024-12-06T08:54:01.817Z"
   },
   {
    "duration": 2489,
    "start_time": "2024-12-06T08:54:05.090Z"
   },
   {
    "duration": 10,
    "start_time": "2024-12-06T08:54:07.580Z"
   },
   {
    "duration": 6,
    "start_time": "2024-12-06T08:54:07.591Z"
   },
   {
    "duration": 4,
    "start_time": "2024-12-06T08:54:07.599Z"
   },
   {
    "duration": 6,
    "start_time": "2024-12-06T08:54:07.605Z"
   },
   {
    "duration": 56,
    "start_time": "2024-12-06T08:54:07.612Z"
   },
   {
    "duration": 212,
    "start_time": "2024-12-06T08:54:07.670Z"
   },
   {
    "duration": 5,
    "start_time": "2024-12-06T08:54:07.884Z"
   },
   {
    "duration": 1672,
    "start_time": "2024-12-06T08:54:07.890Z"
   },
   {
    "duration": 0,
    "start_time": "2024-12-06T08:54:09.564Z"
   },
   {
    "duration": 0,
    "start_time": "2024-12-06T08:54:09.565Z"
   },
   {
    "duration": 0,
    "start_time": "2024-12-06T08:54:09.567Z"
   },
   {
    "duration": 0,
    "start_time": "2024-12-06T08:54:09.568Z"
   },
   {
    "duration": 0,
    "start_time": "2024-12-06T08:54:09.569Z"
   },
   {
    "duration": 0,
    "start_time": "2024-12-06T08:54:09.570Z"
   },
   {
    "duration": 0,
    "start_time": "2024-12-06T08:54:09.571Z"
   },
   {
    "duration": 0,
    "start_time": "2024-12-06T08:54:09.572Z"
   },
   {
    "duration": 0,
    "start_time": "2024-12-06T08:54:09.574Z"
   },
   {
    "duration": 0,
    "start_time": "2024-12-06T08:54:09.575Z"
   },
   {
    "duration": 0,
    "start_time": "2024-12-06T08:54:09.576Z"
   },
   {
    "duration": 0,
    "start_time": "2024-12-06T08:54:09.577Z"
   },
   {
    "duration": 0,
    "start_time": "2024-12-06T08:54:09.578Z"
   },
   {
    "duration": 0,
    "start_time": "2024-12-06T08:54:09.579Z"
   },
   {
    "duration": 0,
    "start_time": "2024-12-06T08:54:09.580Z"
   },
   {
    "duration": 0,
    "start_time": "2024-12-06T08:54:09.582Z"
   },
   {
    "duration": 183,
    "start_time": "2024-12-06T08:55:35.355Z"
   },
   {
    "duration": 3,
    "start_time": "2024-12-06T08:58:10.623Z"
   },
   {
    "duration": 38,
    "start_time": "2024-12-06T08:58:54.140Z"
   },
   {
    "duration": 37,
    "start_time": "2024-12-06T08:59:12.296Z"
   },
   {
    "duration": 21,
    "start_time": "2024-12-06T09:01:45.147Z"
   },
   {
    "duration": 20,
    "start_time": "2024-12-06T09:02:01.891Z"
   },
   {
    "duration": 5,
    "start_time": "2024-12-06T09:02:14.311Z"
   },
   {
    "duration": 20,
    "start_time": "2024-12-06T09:02:23.406Z"
   },
   {
    "duration": 21,
    "start_time": "2024-12-06T09:02:34.489Z"
   },
   {
    "duration": 3,
    "start_time": "2024-12-06T09:02:59.295Z"
   },
   {
    "duration": 5,
    "start_time": "2024-12-06T09:02:59.835Z"
   },
   {
    "duration": 22,
    "start_time": "2024-12-06T09:03:25.579Z"
   },
   {
    "duration": 21,
    "start_time": "2024-12-06T09:03:32.797Z"
   },
   {
    "duration": 20,
    "start_time": "2024-12-06T09:03:34.849Z"
   },
   {
    "duration": 20,
    "start_time": "2024-12-06T09:03:54.194Z"
   },
   {
    "duration": 5571,
    "start_time": "2024-12-06T09:04:18.863Z"
   },
   {
    "duration": 926,
    "start_time": "2024-12-06T09:04:24.436Z"
   },
   {
    "duration": 10,
    "start_time": "2024-12-06T09:04:25.364Z"
   },
   {
    "duration": 36,
    "start_time": "2024-12-06T09:04:25.376Z"
   },
   {
    "duration": 42,
    "start_time": "2024-12-06T09:04:25.415Z"
   },
   {
    "duration": 24,
    "start_time": "2024-12-06T09:04:25.459Z"
   },
   {
    "duration": 231,
    "start_time": "2024-12-06T09:04:25.484Z"
   },
   {
    "duration": 18,
    "start_time": "2024-12-06T09:04:25.717Z"
   },
   {
    "duration": 34,
    "start_time": "2024-12-06T09:04:25.736Z"
   },
   {
    "duration": 7,
    "start_time": "2024-12-06T09:04:25.772Z"
   },
   {
    "duration": 22,
    "start_time": "2024-12-06T09:04:25.781Z"
   },
   {
    "duration": 6,
    "start_time": "2024-12-06T09:04:25.805Z"
   },
   {
    "duration": 5,
    "start_time": "2024-12-06T09:04:25.812Z"
   },
   {
    "duration": 10,
    "start_time": "2024-12-06T09:04:25.819Z"
   },
   {
    "duration": 7,
    "start_time": "2024-12-06T09:04:25.831Z"
   },
   {
    "duration": 3176,
    "start_time": "2024-12-06T09:04:25.839Z"
   },
   {
    "duration": 2519,
    "start_time": "2024-12-06T09:04:29.017Z"
   },
   {
    "duration": 9,
    "start_time": "2024-12-06T09:04:31.538Z"
   },
   {
    "duration": 400,
    "start_time": "2024-12-06T09:04:31.548Z"
   },
   {
    "duration": 0,
    "start_time": "2024-12-06T09:04:31.950Z"
   },
   {
    "duration": 0,
    "start_time": "2024-12-06T09:04:31.951Z"
   },
   {
    "duration": 1,
    "start_time": "2024-12-06T09:04:31.961Z"
   },
   {
    "duration": 0,
    "start_time": "2024-12-06T09:04:31.963Z"
   },
   {
    "duration": 0,
    "start_time": "2024-12-06T09:04:31.964Z"
   },
   {
    "duration": 0,
    "start_time": "2024-12-06T09:04:31.965Z"
   },
   {
    "duration": 0,
    "start_time": "2024-12-06T09:04:31.966Z"
   },
   {
    "duration": 0,
    "start_time": "2024-12-06T09:04:31.967Z"
   },
   {
    "duration": 0,
    "start_time": "2024-12-06T09:04:31.968Z"
   },
   {
    "duration": 0,
    "start_time": "2024-12-06T09:04:31.970Z"
   },
   {
    "duration": 0,
    "start_time": "2024-12-06T09:04:31.971Z"
   },
   {
    "duration": 0,
    "start_time": "2024-12-06T09:04:31.972Z"
   },
   {
    "duration": 0,
    "start_time": "2024-12-06T09:04:31.973Z"
   },
   {
    "duration": 0,
    "start_time": "2024-12-06T09:04:31.974Z"
   },
   {
    "duration": 0,
    "start_time": "2024-12-06T09:04:31.975Z"
   },
   {
    "duration": 29,
    "start_time": "2024-12-06T09:05:09.016Z"
   },
   {
    "duration": 210,
    "start_time": "2024-12-06T09:05:09.492Z"
   },
   {
    "duration": 5553,
    "start_time": "2024-12-06T09:05:17.595Z"
   },
   {
    "duration": 924,
    "start_time": "2024-12-06T09:05:23.150Z"
   },
   {
    "duration": 10,
    "start_time": "2024-12-06T09:05:24.075Z"
   },
   {
    "duration": 47,
    "start_time": "2024-12-06T09:05:24.086Z"
   },
   {
    "duration": 4,
    "start_time": "2024-12-06T09:05:24.135Z"
   },
   {
    "duration": 10,
    "start_time": "2024-12-06T09:05:24.141Z"
   },
   {
    "duration": 240,
    "start_time": "2024-12-06T09:05:24.152Z"
   },
   {
    "duration": 16,
    "start_time": "2024-12-06T09:05:24.393Z"
   },
   {
    "duration": 26,
    "start_time": "2024-12-06T09:05:24.411Z"
   },
   {
    "duration": 23,
    "start_time": "2024-12-06T09:05:24.439Z"
   },
   {
    "duration": 23,
    "start_time": "2024-12-06T09:05:24.464Z"
   },
   {
    "duration": 15,
    "start_time": "2024-12-06T09:05:24.488Z"
   },
   {
    "duration": 5,
    "start_time": "2024-12-06T09:05:24.505Z"
   },
   {
    "duration": 4,
    "start_time": "2024-12-06T09:05:24.512Z"
   },
   {
    "duration": 7,
    "start_time": "2024-12-06T09:05:24.517Z"
   },
   {
    "duration": 3137,
    "start_time": "2024-12-06T09:05:24.525Z"
   },
   {
    "duration": 2538,
    "start_time": "2024-12-06T09:05:27.664Z"
   },
   {
    "duration": 9,
    "start_time": "2024-12-06T09:05:30.204Z"
   },
   {
    "duration": 78,
    "start_time": "2024-12-06T09:05:30.214Z"
   },
   {
    "duration": 228,
    "start_time": "2024-12-06T09:05:30.294Z"
   },
   {
    "duration": 2,
    "start_time": "2024-12-06T09:05:30.524Z"
   },
   {
    "duration": 47,
    "start_time": "2024-12-06T09:05:30.528Z"
   },
   {
    "duration": 3,
    "start_time": "2024-12-06T09:05:30.577Z"
   },
   {
    "duration": 33,
    "start_time": "2024-12-06T09:05:30.581Z"
   },
   {
    "duration": 8,
    "start_time": "2024-12-06T09:05:30.616Z"
   },
   {
    "duration": 40,
    "start_time": "2024-12-06T09:05:30.626Z"
   },
   {
    "duration": 3,
    "start_time": "2024-12-06T09:05:30.669Z"
   },
   {
    "duration": 112,
    "start_time": "2024-12-06T09:05:30.678Z"
   },
   {
    "duration": 3,
    "start_time": "2024-12-06T09:05:30.792Z"
   },
   {
    "duration": 25,
    "start_time": "2024-12-06T09:05:30.796Z"
   },
   {
    "duration": 30,
    "start_time": "2024-12-06T09:05:30.823Z"
   },
   {
    "duration": 4,
    "start_time": "2024-12-06T09:05:30.854Z"
   },
   {
    "duration": 5,
    "start_time": "2024-12-06T09:05:30.859Z"
   },
   {
    "duration": 5,
    "start_time": "2024-12-06T09:05:30.866Z"
   },
   {
    "duration": 11,
    "start_time": "2024-12-06T09:05:30.872Z"
   },
   {
    "duration": 3,
    "start_time": "2024-12-06T09:06:41.374Z"
   },
   {
    "duration": 383,
    "start_time": "2024-12-06T09:06:48.958Z"
   },
   {
    "duration": 2,
    "start_time": "2024-12-06T09:07:47.998Z"
   },
   {
    "duration": 80,
    "start_time": "2024-12-06T09:08:24.073Z"
   },
   {
    "duration": 76,
    "start_time": "2024-12-06T09:09:47.071Z"
   },
   {
    "duration": 81,
    "start_time": "2024-12-06T09:10:31.083Z"
   },
   {
    "duration": 7,
    "start_time": "2024-12-06T09:11:54.535Z"
   },
   {
    "duration": 4,
    "start_time": "2024-12-06T09:12:22.855Z"
   },
   {
    "duration": 4,
    "start_time": "2024-12-06T09:12:33.707Z"
   },
   {
    "duration": 5511,
    "start_time": "2024-12-06T09:12:53.406Z"
   },
   {
    "duration": 919,
    "start_time": "2024-12-06T09:12:58.919Z"
   },
   {
    "duration": 10,
    "start_time": "2024-12-06T09:12:59.840Z"
   },
   {
    "duration": 41,
    "start_time": "2024-12-06T09:12:59.851Z"
   },
   {
    "duration": 5,
    "start_time": "2024-12-06T09:12:59.895Z"
   },
   {
    "duration": 11,
    "start_time": "2024-12-06T09:12:59.901Z"
   },
   {
    "duration": 253,
    "start_time": "2024-12-06T09:12:59.914Z"
   },
   {
    "duration": 16,
    "start_time": "2024-12-06T09:13:00.169Z"
   },
   {
    "duration": 34,
    "start_time": "2024-12-06T09:13:00.187Z"
   },
   {
    "duration": 29,
    "start_time": "2024-12-06T09:13:00.223Z"
   },
   {
    "duration": 75,
    "start_time": "2024-12-06T09:13:00.254Z"
   },
   {
    "duration": 22,
    "start_time": "2024-12-06T09:13:00.331Z"
   },
   {
    "duration": 16,
    "start_time": "2024-12-06T09:13:00.355Z"
   },
   {
    "duration": 35,
    "start_time": "2024-12-06T09:13:00.374Z"
   },
   {
    "duration": 21,
    "start_time": "2024-12-06T09:13:00.410Z"
   },
   {
    "duration": 3352,
    "start_time": "2024-12-06T09:13:00.433Z"
   },
   {
    "duration": 2506,
    "start_time": "2024-12-06T09:13:03.787Z"
   },
   {
    "duration": 9,
    "start_time": "2024-12-06T09:13:06.295Z"
   },
   {
    "duration": 58,
    "start_time": "2024-12-06T09:13:06.307Z"
   },
   {
    "duration": 231,
    "start_time": "2024-12-06T09:13:06.367Z"
   },
   {
    "duration": 2,
    "start_time": "2024-12-06T09:13:06.600Z"
   },
   {
    "duration": 20,
    "start_time": "2024-12-06T09:13:06.604Z"
   },
   {
    "duration": 42,
    "start_time": "2024-12-06T09:13:06.626Z"
   },
   {
    "duration": 15,
    "start_time": "2024-12-06T09:13:06.670Z"
   },
   {
    "duration": 22,
    "start_time": "2024-12-06T09:13:06.687Z"
   },
   {
    "duration": 374,
    "start_time": "2024-12-06T09:13:06.710Z"
   },
   {
    "duration": 0,
    "start_time": "2024-12-06T09:13:07.085Z"
   },
   {
    "duration": 0,
    "start_time": "2024-12-06T09:13:07.087Z"
   },
   {
    "duration": 0,
    "start_time": "2024-12-06T09:13:07.088Z"
   },
   {
    "duration": 37,
    "start_time": "2024-12-06T09:14:34.524Z"
   },
   {
    "duration": 20,
    "start_time": "2024-12-06T09:14:35.933Z"
   },
   {
    "duration": 7396,
    "start_time": "2024-12-06T09:14:53.593Z"
   },
   {
    "duration": 4,
    "start_time": "2024-12-06T09:15:03.728Z"
   },
   {
    "duration": 4,
    "start_time": "2024-12-06T09:15:04.355Z"
   },
   {
    "duration": 23,
    "start_time": "2024-12-06T09:15:45.765Z"
   },
   {
    "duration": 5,
    "start_time": "2024-12-06T09:15:55.652Z"
   },
   {
    "duration": 35,
    "start_time": "2024-12-06T09:15:56.545Z"
   },
   {
    "duration": 23,
    "start_time": "2024-12-06T09:15:57.157Z"
   },
   {
    "duration": 35,
    "start_time": "2024-12-06T09:17:03.581Z"
   },
   {
    "duration": 23,
    "start_time": "2024-12-06T09:17:21.938Z"
   },
   {
    "duration": 19,
    "start_time": "2024-12-06T09:17:55.395Z"
   },
   {
    "duration": 63,
    "start_time": "2024-12-06T09:18:27.612Z"
   },
   {
    "duration": 22,
    "start_time": "2024-12-06T09:19:07.850Z"
   },
   {
    "duration": 32,
    "start_time": "2024-12-06T09:19:20.914Z"
   },
   {
    "duration": 3,
    "start_time": "2024-12-06T09:20:06.431Z"
   },
   {
    "duration": 19,
    "start_time": "2024-12-06T09:20:19.563Z"
   },
   {
    "duration": 24,
    "start_time": "2024-12-06T09:20:29.163Z"
   },
   {
    "duration": 29,
    "start_time": "2024-12-06T09:23:33.156Z"
   },
   {
    "duration": 60,
    "start_time": "2024-12-06T09:24:19.140Z"
   },
   {
    "duration": 34,
    "start_time": "2024-12-06T09:24:31.407Z"
   },
   {
    "duration": 35,
    "start_time": "2024-12-06T09:24:37.636Z"
   },
   {
    "duration": 35,
    "start_time": "2024-12-06T09:24:47.810Z"
   },
   {
    "duration": 74,
    "start_time": "2024-12-06T09:25:16.237Z"
   },
   {
    "duration": 2,
    "start_time": "2024-12-06T09:26:11.853Z"
   },
   {
    "duration": 27,
    "start_time": "2024-12-06T09:27:13.155Z"
   },
   {
    "duration": 8218,
    "start_time": "2024-12-06T09:27:35.046Z"
   },
   {
    "duration": 8231,
    "start_time": "2024-12-06T09:28:07.439Z"
   },
   {
    "duration": 4,
    "start_time": "2024-12-06T09:28:31.064Z"
   },
   {
    "duration": 4,
    "start_time": "2024-12-06T09:28:43.420Z"
   },
   {
    "duration": 5,
    "start_time": "2024-12-06T09:28:58.833Z"
   },
   {
    "duration": 4,
    "start_time": "2024-12-06T09:29:15.758Z"
   },
   {
    "duration": 4,
    "start_time": "2024-12-06T09:29:21.321Z"
   },
   {
    "duration": 6,
    "start_time": "2024-12-06T09:29:50.368Z"
   },
   {
    "duration": 23,
    "start_time": "2024-12-06T09:30:55.554Z"
   },
   {
    "duration": 705,
    "start_time": "2024-12-06T09:31:01.762Z"
   },
   {
    "duration": 8,
    "start_time": "2024-12-06T09:31:15.659Z"
   },
   {
    "duration": 21,
    "start_time": "2024-12-06T09:32:56.771Z"
   },
   {
    "duration": 3,
    "start_time": "2024-12-06T09:34:19.890Z"
   },
   {
    "duration": 95,
    "start_time": "2024-12-06T09:37:46.847Z"
   },
   {
    "duration": 4,
    "start_time": "2024-12-06T09:37:52.930Z"
   },
   {
    "duration": 3,
    "start_time": "2024-12-06T09:38:15.503Z"
   },
   {
    "duration": 20,
    "start_time": "2024-12-06T09:38:29.201Z"
   },
   {
    "duration": 20,
    "start_time": "2024-12-06T09:38:34.819Z"
   },
   {
    "duration": 25,
    "start_time": "2024-12-06T09:38:59.061Z"
   },
   {
    "duration": 34,
    "start_time": "2024-12-06T09:39:15.871Z"
   },
   {
    "duration": 3,
    "start_time": "2024-12-06T09:39:31.215Z"
   },
   {
    "duration": 35,
    "start_time": "2024-12-06T09:39:34.538Z"
   },
   {
    "duration": 4,
    "start_time": "2024-12-06T09:39:51.254Z"
   },
   {
    "duration": 3,
    "start_time": "2024-12-06T09:39:52.649Z"
   },
   {
    "duration": 119575,
    "start_time": "2024-12-06T09:39:53.216Z"
   },
   {
    "duration": 3,
    "start_time": "2024-12-06T09:43:07.350Z"
   },
   {
    "duration": 3,
    "start_time": "2024-12-06T09:43:08.037Z"
   },
   {
    "duration": 3,
    "start_time": "2024-12-06T09:43:09.150Z"
   },
   {
    "duration": 121373,
    "start_time": "2024-12-06T09:43:09.645Z"
   },
   {
    "duration": 6,
    "start_time": "2024-12-06T09:46:22.860Z"
   },
   {
    "duration": 5471,
    "start_time": "2024-12-06T09:46:29.482Z"
   },
   {
    "duration": 934,
    "start_time": "2024-12-06T09:46:34.956Z"
   },
   {
    "duration": 10,
    "start_time": "2024-12-06T09:46:35.892Z"
   },
   {
    "duration": 50,
    "start_time": "2024-12-06T09:46:35.905Z"
   },
   {
    "duration": 13,
    "start_time": "2024-12-06T09:46:35.956Z"
   },
   {
    "duration": 16,
    "start_time": "2024-12-06T09:46:35.971Z"
   },
   {
    "duration": 256,
    "start_time": "2024-12-06T09:46:35.989Z"
   },
   {
    "duration": 26,
    "start_time": "2024-12-06T09:46:36.246Z"
   },
   {
    "duration": 36,
    "start_time": "2024-12-06T09:46:36.274Z"
   },
   {
    "duration": 18,
    "start_time": "2024-12-06T09:46:36.312Z"
   },
   {
    "duration": 23,
    "start_time": "2024-12-06T09:46:36.331Z"
   },
   {
    "duration": 13,
    "start_time": "2024-12-06T09:46:36.356Z"
   },
   {
    "duration": 7,
    "start_time": "2024-12-06T09:46:36.370Z"
   },
   {
    "duration": 15,
    "start_time": "2024-12-06T09:46:36.378Z"
   },
   {
    "duration": 19,
    "start_time": "2024-12-06T09:46:36.395Z"
   },
   {
    "duration": 3209,
    "start_time": "2024-12-06T09:46:36.415Z"
   },
   {
    "duration": 2541,
    "start_time": "2024-12-06T09:46:39.626Z"
   },
   {
    "duration": 8,
    "start_time": "2024-12-06T09:46:42.169Z"
   },
   {
    "duration": 38,
    "start_time": "2024-12-06T09:46:42.179Z"
   },
   {
    "duration": 228,
    "start_time": "2024-12-06T09:46:42.219Z"
   },
   {
    "duration": 3,
    "start_time": "2024-12-06T09:46:42.448Z"
   },
   {
    "duration": 10,
    "start_time": "2024-12-06T09:46:42.461Z"
   },
   {
    "duration": 7,
    "start_time": "2024-12-06T09:46:42.473Z"
   },
   {
    "duration": 85,
    "start_time": "2024-12-06T09:46:42.481Z"
   },
   {
    "duration": 8138,
    "start_time": "2024-12-06T09:46:42.567Z"
   },
   {
    "duration": 5,
    "start_time": "2024-12-06T09:46:50.710Z"
   },
   {
    "duration": 37,
    "start_time": "2024-12-06T09:46:50.718Z"
   },
   {
    "duration": 6,
    "start_time": "2024-12-06T09:46:50.759Z"
   },
   {
    "duration": 22,
    "start_time": "2024-12-06T09:46:50.767Z"
   },
   {
    "duration": 450,
    "start_time": "2024-12-06T09:46:50.791Z"
   },
   {
    "duration": 0,
    "start_time": "2024-12-06T09:46:51.243Z"
   },
   {
    "duration": 4,
    "start_time": "2024-12-06T09:47:38.166Z"
   },
   {
    "duration": 3,
    "start_time": "2024-12-06T09:47:38.645Z"
   },
   {
    "duration": 138,
    "start_time": "2024-12-06T09:47:39.409Z"
   },
   {
    "duration": 5613,
    "start_time": "2024-12-06T09:50:05.373Z"
   },
   {
    "duration": 938,
    "start_time": "2024-12-06T09:50:10.988Z"
   },
   {
    "duration": 9,
    "start_time": "2024-12-06T09:50:11.928Z"
   },
   {
    "duration": 41,
    "start_time": "2024-12-06T09:50:11.939Z"
   },
   {
    "duration": 4,
    "start_time": "2024-12-06T09:50:11.982Z"
   },
   {
    "duration": 14,
    "start_time": "2024-12-06T09:50:11.987Z"
   },
   {
    "duration": 252,
    "start_time": "2024-12-06T09:50:12.002Z"
   },
   {
    "duration": 23,
    "start_time": "2024-12-06T09:50:12.256Z"
   },
   {
    "duration": 29,
    "start_time": "2024-12-06T09:50:12.281Z"
   },
   {
    "duration": 4,
    "start_time": "2024-12-06T09:50:12.311Z"
   },
   {
    "duration": 4,
    "start_time": "2024-12-06T09:50:12.317Z"
   },
   {
    "duration": 4,
    "start_time": "2024-12-06T09:50:12.323Z"
   },
   {
    "duration": 33,
    "start_time": "2024-12-06T09:50:12.329Z"
   },
   {
    "duration": 24,
    "start_time": "2024-12-06T09:50:12.365Z"
   },
   {
    "duration": 9,
    "start_time": "2024-12-06T09:50:12.391Z"
   },
   {
    "duration": 3305,
    "start_time": "2024-12-06T09:50:12.401Z"
   },
   {
    "duration": 2480,
    "start_time": "2024-12-06T09:50:15.709Z"
   },
   {
    "duration": 9,
    "start_time": "2024-12-06T09:50:18.191Z"
   },
   {
    "duration": 38,
    "start_time": "2024-12-06T09:50:18.202Z"
   },
   {
    "duration": 223,
    "start_time": "2024-12-06T09:50:18.242Z"
   },
   {
    "duration": 3,
    "start_time": "2024-12-06T09:50:18.467Z"
   },
   {
    "duration": 6,
    "start_time": "2024-12-06T09:50:18.472Z"
   },
   {
    "duration": 7,
    "start_time": "2024-12-06T09:50:18.480Z"
   },
   {
    "duration": 96,
    "start_time": "2024-12-06T09:50:18.488Z"
   },
   {
    "duration": 8204,
    "start_time": "2024-12-06T09:50:18.586Z"
   },
   {
    "duration": 5,
    "start_time": "2024-12-06T09:50:26.792Z"
   },
   {
    "duration": 15,
    "start_time": "2024-12-06T09:50:26.799Z"
   },
   {
    "duration": 8,
    "start_time": "2024-12-06T09:50:26.816Z"
   },
   {
    "duration": 17,
    "start_time": "2024-12-06T09:50:26.825Z"
   },
   {
    "duration": 5418,
    "start_time": "2024-12-06T09:53:18.369Z"
   },
   {
    "duration": 925,
    "start_time": "2024-12-06T09:53:23.789Z"
   },
   {
    "duration": 10,
    "start_time": "2024-12-06T09:53:24.716Z"
   },
   {
    "duration": 49,
    "start_time": "2024-12-06T09:53:24.727Z"
   },
   {
    "duration": 17,
    "start_time": "2024-12-06T09:53:24.779Z"
   },
   {
    "duration": 13,
    "start_time": "2024-12-06T09:53:24.798Z"
   },
   {
    "duration": 252,
    "start_time": "2024-12-06T09:53:24.813Z"
   },
   {
    "duration": 16,
    "start_time": "2024-12-06T09:53:25.067Z"
   },
   {
    "duration": 38,
    "start_time": "2024-12-06T09:53:25.084Z"
   },
   {
    "duration": 17,
    "start_time": "2024-12-06T09:53:25.124Z"
   },
   {
    "duration": 14,
    "start_time": "2024-12-06T09:53:25.143Z"
   },
   {
    "duration": 28,
    "start_time": "2024-12-06T09:53:25.158Z"
   },
   {
    "duration": 14,
    "start_time": "2024-12-06T09:53:25.188Z"
   },
   {
    "duration": 4,
    "start_time": "2024-12-06T09:53:25.205Z"
   },
   {
    "duration": 4,
    "start_time": "2024-12-06T09:53:25.210Z"
   },
   {
    "duration": 3203,
    "start_time": "2024-12-06T09:53:25.216Z"
   },
   {
    "duration": 2558,
    "start_time": "2024-12-06T09:53:28.421Z"
   },
   {
    "duration": 9,
    "start_time": "2024-12-06T09:53:30.980Z"
   },
   {
    "duration": 54,
    "start_time": "2024-12-06T09:53:30.991Z"
   },
   {
    "duration": 220,
    "start_time": "2024-12-06T09:53:31.046Z"
   },
   {
    "duration": 3,
    "start_time": "2024-12-06T09:53:31.268Z"
   },
   {
    "duration": 9,
    "start_time": "2024-12-06T09:53:31.273Z"
   },
   {
    "duration": 30,
    "start_time": "2024-12-06T09:53:31.284Z"
   },
   {
    "duration": 92,
    "start_time": "2024-12-06T09:53:31.315Z"
   },
   {
    "duration": 8526,
    "start_time": "2024-12-06T09:53:31.409Z"
   },
   {
    "duration": 5,
    "start_time": "2024-12-06T09:53:39.937Z"
   },
   {
    "duration": 8,
    "start_time": "2024-12-06T09:53:39.944Z"
   },
   {
    "duration": 4,
    "start_time": "2024-12-06T09:53:39.961Z"
   },
   {
    "duration": 4,
    "start_time": "2024-12-06T09:53:39.966Z"
   },
   {
    "duration": 229839,
    "start_time": "2024-12-06T09:53:39.972Z"
   },
   {
    "duration": 0,
    "start_time": "2024-12-06T09:57:29.813Z"
   },
   {
    "duration": 0,
    "start_time": "2024-12-06T09:57:29.814Z"
   },
   {
    "duration": 0,
    "start_time": "2024-12-06T09:57:29.815Z"
   },
   {
    "duration": 5505,
    "start_time": "2024-12-06T09:58:36.587Z"
   },
   {
    "duration": 926,
    "start_time": "2024-12-06T09:58:42.095Z"
   },
   {
    "duration": 10,
    "start_time": "2024-12-06T09:58:43.023Z"
   },
   {
    "duration": 49,
    "start_time": "2024-12-06T09:58:43.034Z"
   },
   {
    "duration": 7,
    "start_time": "2024-12-06T09:58:43.085Z"
   },
   {
    "duration": 33,
    "start_time": "2024-12-06T09:58:43.094Z"
   },
   {
    "duration": 252,
    "start_time": "2024-12-06T09:58:43.128Z"
   },
   {
    "duration": 17,
    "start_time": "2024-12-06T09:58:43.381Z"
   },
   {
    "duration": 39,
    "start_time": "2024-12-06T09:58:43.399Z"
   },
   {
    "duration": 25,
    "start_time": "2024-12-06T09:58:43.439Z"
   },
   {
    "duration": 25,
    "start_time": "2024-12-06T09:58:43.465Z"
   },
   {
    "duration": 24,
    "start_time": "2024-12-06T09:58:43.492Z"
   },
   {
    "duration": 12,
    "start_time": "2024-12-06T09:58:43.518Z"
   },
   {
    "duration": 25,
    "start_time": "2024-12-06T09:58:43.533Z"
   },
   {
    "duration": 45,
    "start_time": "2024-12-06T09:58:43.560Z"
   },
   {
    "duration": 3196,
    "start_time": "2024-12-06T09:58:43.606Z"
   },
   {
    "duration": 2514,
    "start_time": "2024-12-06T09:58:46.804Z"
   },
   {
    "duration": 9,
    "start_time": "2024-12-06T09:58:49.320Z"
   },
   {
    "duration": 64,
    "start_time": "2024-12-06T09:58:49.330Z"
   },
   {
    "duration": 214,
    "start_time": "2024-12-06T09:58:49.395Z"
   },
   {
    "duration": 3,
    "start_time": "2024-12-06T09:58:49.610Z"
   },
   {
    "duration": 32,
    "start_time": "2024-12-06T09:58:49.615Z"
   },
   {
    "duration": 26,
    "start_time": "2024-12-06T09:58:49.649Z"
   },
   {
    "duration": 79,
    "start_time": "2024-12-06T09:58:49.676Z"
   },
   {
    "duration": 8059,
    "start_time": "2024-12-06T09:58:49.757Z"
   },
   {
    "duration": 5,
    "start_time": "2024-12-06T09:58:57.818Z"
   },
   {
    "duration": 6,
    "start_time": "2024-12-06T09:58:57.825Z"
   },
   {
    "duration": 11,
    "start_time": "2024-12-06T09:58:57.833Z"
   },
   {
    "duration": 19,
    "start_time": "2024-12-06T09:58:57.845Z"
   },
   {
    "duration": 228245,
    "start_time": "2024-12-06T09:58:57.865Z"
   },
   {
    "duration": 384,
    "start_time": "2024-12-06T10:02:46.111Z"
   },
   {
    "duration": 0,
    "start_time": "2024-12-06T10:02:46.497Z"
   },
   {
    "duration": 0,
    "start_time": "2024-12-06T10:02:46.498Z"
   },
   {
    "duration": 3,
    "start_time": "2024-12-06T10:04:32.893Z"
   },
   {
    "duration": 21,
    "start_time": "2024-12-06T10:04:33.344Z"
   },
   {
    "duration": 3,
    "start_time": "2024-12-06T10:04:46.444Z"
   },
   {
    "duration": 194169,
    "start_time": "2024-12-06T10:04:48.008Z"
   },
   {
    "duration": 29,
    "start_time": "2024-12-06T10:08:02.179Z"
   },
   {
    "duration": 5600,
    "start_time": "2024-12-06T10:22:17.477Z"
   },
   {
    "duration": 941,
    "start_time": "2024-12-06T10:22:23.079Z"
   },
   {
    "duration": 11,
    "start_time": "2024-12-06T10:22:24.021Z"
   },
   {
    "duration": 58,
    "start_time": "2024-12-06T10:22:24.033Z"
   },
   {
    "duration": 7,
    "start_time": "2024-12-06T10:22:24.093Z"
   },
   {
    "duration": 37,
    "start_time": "2024-12-06T10:22:24.101Z"
   },
   {
    "duration": 245,
    "start_time": "2024-12-06T10:22:24.140Z"
   },
   {
    "duration": 17,
    "start_time": "2024-12-06T10:22:24.386Z"
   },
   {
    "duration": 26,
    "start_time": "2024-12-06T10:22:24.404Z"
   },
   {
    "duration": 38,
    "start_time": "2024-12-06T10:22:24.431Z"
   },
   {
    "duration": 16,
    "start_time": "2024-12-06T10:22:24.470Z"
   },
   {
    "duration": 22,
    "start_time": "2024-12-06T10:22:24.488Z"
   },
   {
    "duration": 21,
    "start_time": "2024-12-06T10:22:24.511Z"
   },
   {
    "duration": 27,
    "start_time": "2024-12-06T10:22:24.535Z"
   },
   {
    "duration": 8,
    "start_time": "2024-12-06T10:22:24.564Z"
   },
   {
    "duration": 3190,
    "start_time": "2024-12-06T10:22:24.574Z"
   },
   {
    "duration": 2533,
    "start_time": "2024-12-06T10:22:27.766Z"
   },
   {
    "duration": 8,
    "start_time": "2024-12-06T10:22:30.301Z"
   },
   {
    "duration": 80,
    "start_time": "2024-12-06T10:22:30.311Z"
   },
   {
    "duration": 237,
    "start_time": "2024-12-06T10:22:30.392Z"
   },
   {
    "duration": 2,
    "start_time": "2024-12-06T10:22:30.631Z"
   },
   {
    "duration": 52,
    "start_time": "2024-12-06T10:22:30.634Z"
   },
   {
    "duration": 35,
    "start_time": "2024-12-06T10:22:30.688Z"
   },
   {
    "duration": 105,
    "start_time": "2024-12-06T10:22:30.725Z"
   },
   {
    "duration": 8158,
    "start_time": "2024-12-06T10:22:30.832Z"
   },
   {
    "duration": 5,
    "start_time": "2024-12-06T10:22:38.992Z"
   },
   {
    "duration": 21,
    "start_time": "2024-12-06T10:22:38.998Z"
   },
   {
    "duration": 4,
    "start_time": "2024-12-06T10:22:39.021Z"
   },
   {
    "duration": 6,
    "start_time": "2024-12-06T10:22:39.027Z"
   },
   {
    "duration": 228171,
    "start_time": "2024-12-06T10:22:39.035Z"
   },
   {
    "duration": 2,
    "start_time": "2024-12-06T10:26:27.208Z"
   },
   {
    "duration": 4,
    "start_time": "2024-12-06T10:26:27.212Z"
   },
   {
    "duration": 191061,
    "start_time": "2024-12-06T10:26:27.217Z"
   },
   {
    "duration": 27,
    "start_time": "2024-12-06T10:29:38.280Z"
   },
   {
    "duration": 372366,
    "start_time": "2024-12-06T10:29:38.308Z"
   },
   {
    "duration": 10,
    "start_time": "2024-12-06T10:35:50.678Z"
   },
   {
    "duration": 6,
    "start_time": "2024-12-06T10:37:55.515Z"
   },
   {
    "duration": 5682,
    "start_time": "2024-12-06T10:38:04.332Z"
   },
   {
    "duration": 992,
    "start_time": "2024-12-06T10:38:10.016Z"
   },
   {
    "duration": 10,
    "start_time": "2024-12-06T10:38:11.010Z"
   },
   {
    "duration": 46,
    "start_time": "2024-12-06T10:38:11.021Z"
   },
   {
    "duration": 4,
    "start_time": "2024-12-06T10:38:11.069Z"
   },
   {
    "duration": 15,
    "start_time": "2024-12-06T10:38:11.075Z"
   },
   {
    "duration": 262,
    "start_time": "2024-12-06T10:38:11.092Z"
   },
   {
    "duration": 22,
    "start_time": "2024-12-06T10:38:11.361Z"
   },
   {
    "duration": 30,
    "start_time": "2024-12-06T10:38:11.385Z"
   },
   {
    "duration": 4,
    "start_time": "2024-12-06T10:38:11.416Z"
   },
   {
    "duration": 6,
    "start_time": "2024-12-06T10:38:11.421Z"
   },
   {
    "duration": 6,
    "start_time": "2024-12-06T10:38:11.428Z"
   },
   {
    "duration": 28,
    "start_time": "2024-12-06T10:38:11.436Z"
   },
   {
    "duration": 9,
    "start_time": "2024-12-06T10:38:11.467Z"
   },
   {
    "duration": 4,
    "start_time": "2024-12-06T10:38:11.478Z"
   },
   {
    "duration": 3333,
    "start_time": "2024-12-06T10:38:11.484Z"
   },
   {
    "duration": 2521,
    "start_time": "2024-12-06T10:38:14.819Z"
   },
   {
    "duration": 9,
    "start_time": "2024-12-06T10:38:17.342Z"
   },
   {
    "duration": 53,
    "start_time": "2024-12-06T10:38:17.363Z"
   },
   {
    "duration": 217,
    "start_time": "2024-12-06T10:38:17.418Z"
   },
   {
    "duration": 3,
    "start_time": "2024-12-06T10:38:17.637Z"
   },
   {
    "duration": 22,
    "start_time": "2024-12-06T10:38:17.642Z"
   },
   {
    "duration": 7,
    "start_time": "2024-12-06T10:38:17.666Z"
   },
   {
    "duration": 100,
    "start_time": "2024-12-06T10:38:17.674Z"
   },
   {
    "duration": 8262,
    "start_time": "2024-12-06T10:38:17.776Z"
   },
   {
    "duration": 6,
    "start_time": "2024-12-06T10:38:26.040Z"
   },
   {
    "duration": 25,
    "start_time": "2024-12-06T10:38:26.048Z"
   },
   {
    "duration": 50,
    "start_time": "2024-12-06T10:38:26.075Z"
   },
   {
    "duration": 21,
    "start_time": "2024-12-06T10:38:26.126Z"
   },
   {
    "duration": 5925,
    "start_time": "2024-12-06T10:38:43.332Z"
   },
   {
    "duration": 940,
    "start_time": "2024-12-06T10:38:49.260Z"
   },
   {
    "duration": 11,
    "start_time": "2024-12-06T10:38:50.201Z"
   },
   {
    "duration": 51,
    "start_time": "2024-12-06T10:38:50.214Z"
   },
   {
    "duration": 4,
    "start_time": "2024-12-06T10:38:50.268Z"
   },
   {
    "duration": 34,
    "start_time": "2024-12-06T10:38:50.273Z"
   },
   {
    "duration": 246,
    "start_time": "2024-12-06T10:38:50.308Z"
   },
   {
    "duration": 17,
    "start_time": "2024-12-06T10:38:50.562Z"
   },
   {
    "duration": 26,
    "start_time": "2024-12-06T10:38:50.581Z"
   },
   {
    "duration": 30,
    "start_time": "2024-12-06T10:38:50.608Z"
   },
   {
    "duration": 26,
    "start_time": "2024-12-06T10:38:50.639Z"
   },
   {
    "duration": 29,
    "start_time": "2024-12-06T10:38:50.668Z"
   },
   {
    "duration": 39,
    "start_time": "2024-12-06T10:38:50.699Z"
   },
   {
    "duration": 19,
    "start_time": "2024-12-06T10:38:50.742Z"
   },
   {
    "duration": 16,
    "start_time": "2024-12-06T10:38:50.763Z"
   },
   {
    "duration": 3224,
    "start_time": "2024-12-06T10:38:50.780Z"
   },
   {
    "duration": 2526,
    "start_time": "2024-12-06T10:38:54.006Z"
   },
   {
    "duration": 9,
    "start_time": "2024-12-06T10:38:56.533Z"
   },
   {
    "duration": 43,
    "start_time": "2024-12-06T10:38:56.543Z"
   },
   {
    "duration": 217,
    "start_time": "2024-12-06T10:38:56.587Z"
   },
   {
    "duration": 3,
    "start_time": "2024-12-06T10:38:56.805Z"
   },
   {
    "duration": 8,
    "start_time": "2024-12-06T10:38:56.810Z"
   },
   {
    "duration": 6,
    "start_time": "2024-12-06T10:38:56.820Z"
   },
   {
    "duration": 88,
    "start_time": "2024-12-06T10:38:56.828Z"
   },
   {
    "duration": 8454,
    "start_time": "2024-12-06T10:38:56.918Z"
   },
   {
    "duration": 7,
    "start_time": "2024-12-06T10:39:05.374Z"
   },
   {
    "duration": 30,
    "start_time": "2024-12-06T10:39:05.383Z"
   },
   {
    "duration": 37,
    "start_time": "2024-12-06T10:39:05.415Z"
   },
   {
    "duration": 11,
    "start_time": "2024-12-06T10:39:05.454Z"
   },
   {
    "duration": 228039,
    "start_time": "2024-12-06T10:39:05.466Z"
   },
   {
    "duration": 8,
    "start_time": "2024-12-06T10:42:53.507Z"
   },
   {
    "duration": 8,
    "start_time": "2024-12-06T10:42:53.517Z"
   },
   {
    "duration": 5,
    "start_time": "2024-12-06T10:42:53.527Z"
   },
   {
    "duration": 5502,
    "start_time": "2024-12-06T10:43:48.450Z"
   },
   {
    "duration": 947,
    "start_time": "2024-12-06T10:43:53.954Z"
   },
   {
    "duration": 10,
    "start_time": "2024-12-06T10:43:54.903Z"
   },
   {
    "duration": 76,
    "start_time": "2024-12-06T10:43:54.915Z"
   },
   {
    "duration": 13,
    "start_time": "2024-12-06T10:43:54.993Z"
   },
   {
    "duration": 35,
    "start_time": "2024-12-06T10:43:55.008Z"
   },
   {
    "duration": 255,
    "start_time": "2024-12-06T10:43:55.045Z"
   },
   {
    "duration": 17,
    "start_time": "2024-12-06T10:43:55.302Z"
   },
   {
    "duration": 45,
    "start_time": "2024-12-06T10:43:55.320Z"
   },
   {
    "duration": 10,
    "start_time": "2024-12-06T10:43:55.367Z"
   },
   {
    "duration": 14,
    "start_time": "2024-12-06T10:43:55.378Z"
   },
   {
    "duration": 12,
    "start_time": "2024-12-06T10:43:55.393Z"
   },
   {
    "duration": 11,
    "start_time": "2024-12-06T10:43:55.407Z"
   },
   {
    "duration": 33,
    "start_time": "2024-12-06T10:43:55.422Z"
   },
   {
    "duration": 15,
    "start_time": "2024-12-06T10:43:55.457Z"
   },
   {
    "duration": 3176,
    "start_time": "2024-12-06T10:43:55.473Z"
   },
   {
    "duration": 2538,
    "start_time": "2024-12-06T10:43:58.651Z"
   },
   {
    "duration": 10,
    "start_time": "2024-12-06T10:44:01.190Z"
   },
   {
    "duration": 44,
    "start_time": "2024-12-06T10:44:01.201Z"
   },
   {
    "duration": 226,
    "start_time": "2024-12-06T10:44:01.247Z"
   },
   {
    "duration": 3,
    "start_time": "2024-12-06T10:44:01.474Z"
   },
   {
    "duration": 13,
    "start_time": "2024-12-06T10:44:01.478Z"
   },
   {
    "duration": 15,
    "start_time": "2024-12-06T10:44:01.492Z"
   },
   {
    "duration": 98,
    "start_time": "2024-12-06T10:44:01.509Z"
   },
   {
    "duration": 376,
    "start_time": "2024-12-06T10:44:01.609Z"
   },
   {
    "duration": 0,
    "start_time": "2024-12-06T10:44:01.987Z"
   },
   {
    "duration": 0,
    "start_time": "2024-12-06T10:44:01.988Z"
   },
   {
    "duration": 0,
    "start_time": "2024-12-06T10:44:01.989Z"
   },
   {
    "duration": 0,
    "start_time": "2024-12-06T10:44:01.991Z"
   },
   {
    "duration": 0,
    "start_time": "2024-12-06T10:44:01.992Z"
   },
   {
    "duration": 0,
    "start_time": "2024-12-06T10:44:01.993Z"
   },
   {
    "duration": 0,
    "start_time": "2024-12-06T10:44:01.994Z"
   },
   {
    "duration": 0,
    "start_time": "2024-12-06T10:44:01.995Z"
   },
   {
    "duration": 0,
    "start_time": "2024-12-06T10:44:01.996Z"
   },
   {
    "duration": 1,
    "start_time": "2024-12-06T10:44:01.997Z"
   },
   {
    "duration": 0,
    "start_time": "2024-12-06T10:44:01.999Z"
   },
   {
    "duration": 0,
    "start_time": "2024-12-06T10:44:02.000Z"
   },
   {
    "duration": 2,
    "start_time": "2024-12-06T10:44:21.799Z"
   },
   {
    "duration": 23,
    "start_time": "2024-12-06T10:44:23.888Z"
   },
   {
    "duration": 22,
    "start_time": "2024-12-06T10:44:31.958Z"
   },
   {
    "duration": 24,
    "start_time": "2024-12-06T10:44:40.295Z"
   },
   {
    "duration": 8200,
    "start_time": "2024-12-06T10:44:45.444Z"
   },
   {
    "duration": 4,
    "start_time": "2024-12-06T10:45:33.388Z"
   },
   {
    "duration": 39,
    "start_time": "2024-12-06T10:45:43.853Z"
   },
   {
    "duration": 5330,
    "start_time": "2024-12-06T10:45:51.032Z"
   },
   {
    "duration": 901,
    "start_time": "2024-12-06T10:45:56.363Z"
   },
   {
    "duration": 10,
    "start_time": "2024-12-06T10:45:57.266Z"
   },
   {
    "duration": 33,
    "start_time": "2024-12-06T10:45:57.277Z"
   },
   {
    "duration": 22,
    "start_time": "2024-12-06T10:45:57.312Z"
   },
   {
    "duration": 14,
    "start_time": "2024-12-06T10:45:57.336Z"
   },
   {
    "duration": 240,
    "start_time": "2024-12-06T10:45:57.351Z"
   },
   {
    "duration": 16,
    "start_time": "2024-12-06T10:45:57.592Z"
   },
   {
    "duration": 27,
    "start_time": "2024-12-06T10:45:57.610Z"
   },
   {
    "duration": 3,
    "start_time": "2024-12-06T10:45:57.639Z"
   },
   {
    "duration": 7,
    "start_time": "2024-12-06T10:45:57.663Z"
   },
   {
    "duration": 5,
    "start_time": "2024-12-06T10:45:57.671Z"
   },
   {
    "duration": 8,
    "start_time": "2024-12-06T10:45:57.677Z"
   },
   {
    "duration": 6,
    "start_time": "2024-12-06T10:45:57.688Z"
   },
   {
    "duration": 5,
    "start_time": "2024-12-06T10:45:57.695Z"
   },
   {
    "duration": 3276,
    "start_time": "2024-12-06T10:45:57.701Z"
   },
   {
    "duration": 2562,
    "start_time": "2024-12-06T10:46:00.980Z"
   },
   {
    "duration": 9,
    "start_time": "2024-12-06T10:46:03.544Z"
   },
   {
    "duration": 52,
    "start_time": "2024-12-06T10:46:03.561Z"
   },
   {
    "duration": 217,
    "start_time": "2024-12-06T10:46:03.615Z"
   },
   {
    "duration": 2,
    "start_time": "2024-12-06T10:46:03.834Z"
   },
   {
    "duration": 21,
    "start_time": "2024-12-06T10:46:03.838Z"
   },
   {
    "duration": 7,
    "start_time": "2024-12-06T10:46:03.860Z"
   },
   {
    "duration": 22,
    "start_time": "2024-12-06T10:46:03.869Z"
   },
   {
    "duration": 103,
    "start_time": "2024-12-06T10:46:03.893Z"
   },
   {
    "duration": 383,
    "start_time": "2024-12-06T10:46:03.998Z"
   },
   {
    "duration": 0,
    "start_time": "2024-12-06T10:46:04.383Z"
   },
   {
    "duration": 0,
    "start_time": "2024-12-06T10:46:04.384Z"
   },
   {
    "duration": 0,
    "start_time": "2024-12-06T10:46:04.386Z"
   },
   {
    "duration": 0,
    "start_time": "2024-12-06T10:46:04.387Z"
   },
   {
    "duration": 0,
    "start_time": "2024-12-06T10:46:04.388Z"
   },
   {
    "duration": 0,
    "start_time": "2024-12-06T10:46:04.389Z"
   },
   {
    "duration": 0,
    "start_time": "2024-12-06T10:46:04.390Z"
   },
   {
    "duration": 0,
    "start_time": "2024-12-06T10:46:04.392Z"
   },
   {
    "duration": 0,
    "start_time": "2024-12-06T10:46:04.392Z"
   },
   {
    "duration": 0,
    "start_time": "2024-12-06T10:46:04.394Z"
   },
   {
    "duration": 0,
    "start_time": "2024-12-06T10:46:04.395Z"
   },
   {
    "duration": 0,
    "start_time": "2024-12-06T10:46:04.396Z"
   },
   {
    "duration": 5474,
    "start_time": "2024-12-06T10:46:41.444Z"
   },
   {
    "duration": 958,
    "start_time": "2024-12-06T10:46:46.920Z"
   },
   {
    "duration": 11,
    "start_time": "2024-12-06T10:46:47.880Z"
   },
   {
    "duration": 46,
    "start_time": "2024-12-06T10:46:47.893Z"
   },
   {
    "duration": 4,
    "start_time": "2024-12-06T10:46:47.941Z"
   },
   {
    "duration": 23,
    "start_time": "2024-12-06T10:46:47.947Z"
   },
   {
    "duration": 238,
    "start_time": "2024-12-06T10:46:47.972Z"
   },
   {
    "duration": 16,
    "start_time": "2024-12-06T10:46:48.211Z"
   },
   {
    "duration": 39,
    "start_time": "2024-12-06T10:46:48.229Z"
   },
   {
    "duration": 11,
    "start_time": "2024-12-06T10:46:48.269Z"
   },
   {
    "duration": 16,
    "start_time": "2024-12-06T10:46:48.282Z"
   },
   {
    "duration": 10,
    "start_time": "2024-12-06T10:46:48.299Z"
   },
   {
    "duration": 5,
    "start_time": "2024-12-06T10:46:48.310Z"
   },
   {
    "duration": 4,
    "start_time": "2024-12-06T10:46:48.318Z"
   },
   {
    "duration": 8,
    "start_time": "2024-12-06T10:46:48.324Z"
   },
   {
    "duration": 3359,
    "start_time": "2024-12-06T10:46:48.334Z"
   },
   {
    "duration": 2453,
    "start_time": "2024-12-06T10:46:51.695Z"
   },
   {
    "duration": 14,
    "start_time": "2024-12-06T10:46:54.149Z"
   },
   {
    "duration": 53,
    "start_time": "2024-12-06T10:46:54.165Z"
   },
   {
    "duration": 213,
    "start_time": "2024-12-06T10:46:54.219Z"
   },
   {
    "duration": 2,
    "start_time": "2024-12-06T10:46:54.434Z"
   },
   {
    "duration": 9,
    "start_time": "2024-12-06T10:46:54.438Z"
   },
   {
    "duration": 15,
    "start_time": "2024-12-06T10:46:54.448Z"
   },
   {
    "duration": 4,
    "start_time": "2024-12-06T10:46:54.465Z"
   },
   {
    "duration": 79,
    "start_time": "2024-12-06T10:46:54.470Z"
   },
   {
    "duration": 8238,
    "start_time": "2024-12-06T10:46:54.551Z"
   },
   {
    "duration": 6,
    "start_time": "2024-12-06T10:47:02.792Z"
   },
   {
    "duration": 21,
    "start_time": "2024-12-06T10:47:02.800Z"
   },
   {
    "duration": 16,
    "start_time": "2024-12-06T10:47:02.823Z"
   },
   {
    "duration": 68,
    "start_time": "2024-12-06T10:47:02.840Z"
   },
   {
    "duration": 5571,
    "start_time": "2024-12-06T10:47:51.860Z"
   },
   {
    "duration": 945,
    "start_time": "2024-12-06T10:47:57.433Z"
   },
   {
    "duration": 14,
    "start_time": "2024-12-06T10:47:58.380Z"
   },
   {
    "duration": 35,
    "start_time": "2024-12-06T10:47:58.396Z"
   },
   {
    "duration": 4,
    "start_time": "2024-12-06T10:47:58.433Z"
   },
   {
    "duration": 14,
    "start_time": "2024-12-06T10:47:58.462Z"
   },
   {
    "duration": 243,
    "start_time": "2024-12-06T10:47:58.477Z"
   },
   {
    "duration": 17,
    "start_time": "2024-12-06T10:47:58.722Z"
   },
   {
    "duration": 39,
    "start_time": "2024-12-06T10:47:58.740Z"
   },
   {
    "duration": 18,
    "start_time": "2024-12-06T10:47:58.781Z"
   },
   {
    "duration": 10,
    "start_time": "2024-12-06T10:47:58.800Z"
   },
   {
    "duration": 6,
    "start_time": "2024-12-06T10:47:58.813Z"
   },
   {
    "duration": 2,
    "start_time": "2024-12-06T10:47:58.822Z"
   },
   {
    "duration": 6,
    "start_time": "2024-12-06T10:47:58.830Z"
   },
   {
    "duration": 24,
    "start_time": "2024-12-06T10:47:58.838Z"
   },
   {
    "duration": 3334,
    "start_time": "2024-12-06T10:47:58.864Z"
   },
   {
    "duration": 2616,
    "start_time": "2024-12-06T10:48:02.201Z"
   },
   {
    "duration": 10,
    "start_time": "2024-12-06T10:48:04.818Z"
   },
   {
    "duration": 48,
    "start_time": "2024-12-06T10:48:04.829Z"
   },
   {
    "duration": 226,
    "start_time": "2024-12-06T10:48:04.878Z"
   },
   {
    "duration": 3,
    "start_time": "2024-12-06T10:48:05.106Z"
   },
   {
    "duration": 17,
    "start_time": "2024-12-06T10:48:05.110Z"
   },
   {
    "duration": 21,
    "start_time": "2024-12-06T10:48:05.129Z"
   },
   {
    "duration": 18,
    "start_time": "2024-12-06T10:48:05.152Z"
   },
   {
    "duration": 80,
    "start_time": "2024-12-06T10:48:05.171Z"
   },
   {
    "duration": 392,
    "start_time": "2024-12-06T10:48:05.253Z"
   },
   {
    "duration": 0,
    "start_time": "2024-12-06T10:48:05.647Z"
   },
   {
    "duration": 0,
    "start_time": "2024-12-06T10:48:05.648Z"
   },
   {
    "duration": 0,
    "start_time": "2024-12-06T10:48:05.650Z"
   },
   {
    "duration": 0,
    "start_time": "2024-12-06T10:48:05.651Z"
   },
   {
    "duration": 0,
    "start_time": "2024-12-06T10:48:05.652Z"
   },
   {
    "duration": 0,
    "start_time": "2024-12-06T10:48:05.653Z"
   },
   {
    "duration": 0,
    "start_time": "2024-12-06T10:48:05.662Z"
   },
   {
    "duration": 0,
    "start_time": "2024-12-06T10:48:05.663Z"
   },
   {
    "duration": 0,
    "start_time": "2024-12-06T10:48:05.664Z"
   },
   {
    "duration": 0,
    "start_time": "2024-12-06T10:48:05.666Z"
   },
   {
    "duration": 0,
    "start_time": "2024-12-06T10:48:05.667Z"
   },
   {
    "duration": 0,
    "start_time": "2024-12-06T10:48:05.669Z"
   },
   {
    "duration": 5440,
    "start_time": "2024-12-06T10:48:22.534Z"
   },
   {
    "duration": 943,
    "start_time": "2024-12-06T10:48:27.976Z"
   },
   {
    "duration": 13,
    "start_time": "2024-12-06T10:48:28.924Z"
   },
   {
    "duration": 51,
    "start_time": "2024-12-06T10:48:28.939Z"
   },
   {
    "duration": 12,
    "start_time": "2024-12-06T10:48:28.992Z"
   },
   {
    "duration": 34,
    "start_time": "2024-12-06T10:48:29.005Z"
   },
   {
    "duration": 261,
    "start_time": "2024-12-06T10:48:29.041Z"
   },
   {
    "duration": 16,
    "start_time": "2024-12-06T10:48:29.303Z"
   },
   {
    "duration": 36,
    "start_time": "2024-12-06T10:48:29.321Z"
   },
   {
    "duration": 35,
    "start_time": "2024-12-06T10:48:29.362Z"
   },
   {
    "duration": 25,
    "start_time": "2024-12-06T10:48:29.398Z"
   },
   {
    "duration": 22,
    "start_time": "2024-12-06T10:48:29.424Z"
   },
   {
    "duration": 23,
    "start_time": "2024-12-06T10:48:29.449Z"
   },
   {
    "duration": 33,
    "start_time": "2024-12-06T10:48:29.474Z"
   },
   {
    "duration": 20,
    "start_time": "2024-12-06T10:48:29.509Z"
   },
   {
    "duration": 3297,
    "start_time": "2024-12-06T10:48:29.531Z"
   },
   {
    "duration": 2468,
    "start_time": "2024-12-06T10:48:32.830Z"
   },
   {
    "duration": 10,
    "start_time": "2024-12-06T10:48:35.299Z"
   },
   {
    "duration": 62,
    "start_time": "2024-12-06T10:48:35.310Z"
   },
   {
    "duration": 199,
    "start_time": "2024-12-06T10:48:35.374Z"
   },
   {
    "duration": 2,
    "start_time": "2024-12-06T10:48:35.575Z"
   },
   {
    "duration": 40,
    "start_time": "2024-12-06T10:48:35.579Z"
   },
   {
    "duration": 11,
    "start_time": "2024-12-06T10:48:35.621Z"
   },
   {
    "duration": 17,
    "start_time": "2024-12-06T10:48:35.633Z"
   },
   {
    "duration": 81,
    "start_time": "2024-12-06T10:48:35.652Z"
   },
   {
    "duration": 8005,
    "start_time": "2024-12-06T10:48:35.735Z"
   },
   {
    "duration": 6,
    "start_time": "2024-12-06T10:48:43.742Z"
   },
   {
    "duration": 26,
    "start_time": "2024-12-06T10:48:43.749Z"
   },
   {
    "duration": 13,
    "start_time": "2024-12-06T10:48:43.776Z"
   },
   {
    "duration": 17,
    "start_time": "2024-12-06T10:48:43.791Z"
   },
   {
    "duration": 228700,
    "start_time": "2024-12-06T10:48:43.810Z"
   },
   {
    "duration": 8,
    "start_time": "2024-12-06T10:52:32.512Z"
   },
   {
    "duration": 31,
    "start_time": "2024-12-06T10:52:32.522Z"
   },
   {
    "duration": 7,
    "start_time": "2024-12-06T10:52:32.555Z"
   },
   {
    "duration": 95176,
    "start_time": "2024-12-06T10:52:32.564Z"
   },
   {
    "duration": 0,
    "start_time": "2024-12-06T10:54:07.742Z"
   },
   {
    "duration": 0,
    "start_time": "2024-12-06T10:54:07.743Z"
   },
   {
    "duration": 0,
    "start_time": "2024-12-06T10:54:07.745Z"
   },
   {
    "duration": 23,
    "start_time": "2024-12-06T10:55:06.316Z"
   },
   {
    "duration": 611,
    "start_time": "2024-12-06T10:55:14.148Z"
   },
   {
    "duration": 42,
    "start_time": "2024-12-06T10:55:48.813Z"
   },
   {
    "duration": 23,
    "start_time": "2024-12-06T10:56:19.412Z"
   },
   {
    "duration": 41,
    "start_time": "2024-12-06T10:56:50.744Z"
   },
   {
    "duration": 3,
    "start_time": "2024-12-06T10:58:14.674Z"
   },
   {
    "duration": 22,
    "start_time": "2024-12-06T10:58:31.864Z"
   },
   {
    "duration": 10588,
    "start_time": "2024-12-06T10:58:35.203Z"
   },
   {
    "duration": 21,
    "start_time": "2024-12-06T10:59:09.302Z"
   },
   {
    "duration": 434,
    "start_time": "2024-12-06T10:59:13.703Z"
   },
   {
    "duration": 5557,
    "start_time": "2024-12-06T10:59:29.015Z"
   },
   {
    "duration": 929,
    "start_time": "2024-12-06T10:59:34.574Z"
   },
   {
    "duration": 12,
    "start_time": "2024-12-06T10:59:35.505Z"
   },
   {
    "duration": 74,
    "start_time": "2024-12-06T10:59:35.519Z"
   },
   {
    "duration": 30,
    "start_time": "2024-12-06T10:59:35.595Z"
   },
   {
    "duration": 32,
    "start_time": "2024-12-06T10:59:35.628Z"
   },
   {
    "duration": 271,
    "start_time": "2024-12-06T10:59:35.662Z"
   },
   {
    "duration": 17,
    "start_time": "2024-12-06T10:59:35.934Z"
   },
   {
    "duration": 44,
    "start_time": "2024-12-06T10:59:35.952Z"
   },
   {
    "duration": 33,
    "start_time": "2024-12-06T10:59:35.999Z"
   },
   {
    "duration": 27,
    "start_time": "2024-12-06T10:59:36.033Z"
   },
   {
    "duration": 20,
    "start_time": "2024-12-06T10:59:36.061Z"
   },
   {
    "duration": 34,
    "start_time": "2024-12-06T10:59:36.082Z"
   },
   {
    "duration": 18,
    "start_time": "2024-12-06T10:59:36.118Z"
   },
   {
    "duration": 21,
    "start_time": "2024-12-06T10:59:36.137Z"
   },
   {
    "duration": 3295,
    "start_time": "2024-12-06T10:59:36.159Z"
   },
   {
    "duration": 2500,
    "start_time": "2024-12-06T10:59:39.456Z"
   },
   {
    "duration": 8,
    "start_time": "2024-12-06T10:59:41.958Z"
   },
   {
    "duration": 37,
    "start_time": "2024-12-06T10:59:41.967Z"
   },
   {
    "duration": 205,
    "start_time": "2024-12-06T10:59:42.005Z"
   },
   {
    "duration": 3,
    "start_time": "2024-12-06T10:59:42.211Z"
   },
   {
    "duration": 55,
    "start_time": "2024-12-06T10:59:42.215Z"
   },
   {
    "duration": 65,
    "start_time": "2024-12-06T10:59:42.272Z"
   },
   {
    "duration": 7,
    "start_time": "2024-12-06T10:59:42.339Z"
   },
   {
    "duration": 75,
    "start_time": "2024-12-06T10:59:42.347Z"
   },
   {
    "duration": 8333,
    "start_time": "2024-12-06T10:59:42.424Z"
   },
   {
    "duration": 634,
    "start_time": "2024-12-06T10:59:50.759Z"
   },
   {
    "duration": 30,
    "start_time": "2024-12-06T10:59:51.396Z"
   },
   {
    "duration": 35,
    "start_time": "2024-12-06T10:59:51.428Z"
   },
   {
    "duration": 38,
    "start_time": "2024-12-06T10:59:51.464Z"
   },
   {
    "duration": 3,
    "start_time": "2024-12-06T10:59:51.504Z"
   },
   {
    "duration": 10376,
    "start_time": "2024-12-06T10:59:51.509Z"
   },
   {
    "duration": 450,
    "start_time": "2024-12-06T11:00:01.887Z"
   },
   {
    "duration": 7,
    "start_time": "2024-12-06T11:00:02.338Z"
   },
   {
    "duration": 14,
    "start_time": "2024-12-06T11:00:02.361Z"
   },
   {
    "duration": 65,
    "start_time": "2024-12-06T11:00:02.377Z"
   },
   {
    "duration": 51,
    "start_time": "2024-12-06T11:00:02.444Z"
   },
   {
    "duration": 230510,
    "start_time": "2024-12-06T11:00:02.497Z"
   },
   {
    "duration": 9,
    "start_time": "2024-12-06T11:03:53.009Z"
   },
   {
    "duration": 26,
    "start_time": "2024-12-06T11:03:53.019Z"
   },
   {
    "duration": 12,
    "start_time": "2024-12-06T11:03:53.047Z"
   },
   {
    "duration": 5622,
    "start_time": "2024-12-06T11:05:46.567Z"
   },
   {
    "duration": 934,
    "start_time": "2024-12-06T11:05:52.192Z"
   },
   {
    "duration": 11,
    "start_time": "2024-12-06T11:05:53.128Z"
   },
   {
    "duration": 50,
    "start_time": "2024-12-06T11:05:53.141Z"
   },
   {
    "duration": 4,
    "start_time": "2024-12-06T11:05:53.194Z"
   },
   {
    "duration": 19,
    "start_time": "2024-12-06T11:05:53.199Z"
   },
   {
    "duration": 258,
    "start_time": "2024-12-06T11:05:53.220Z"
   },
   {
    "duration": 17,
    "start_time": "2024-12-06T11:05:53.480Z"
   },
   {
    "duration": 43,
    "start_time": "2024-12-06T11:05:53.499Z"
   },
   {
    "duration": 23,
    "start_time": "2024-12-06T11:05:53.543Z"
   },
   {
    "duration": 25,
    "start_time": "2024-12-06T11:05:53.568Z"
   },
   {
    "duration": 15,
    "start_time": "2024-12-06T11:05:53.595Z"
   },
   {
    "duration": 6,
    "start_time": "2024-12-06T11:05:53.612Z"
   },
   {
    "duration": 3,
    "start_time": "2024-12-06T11:05:53.622Z"
   },
   {
    "duration": 6,
    "start_time": "2024-12-06T11:05:53.627Z"
   },
   {
    "duration": 12,
    "start_time": "2024-12-06T11:05:53.634Z"
   },
   {
    "duration": 3192,
    "start_time": "2024-12-06T11:05:53.648Z"
   },
   {
    "duration": 2571,
    "start_time": "2024-12-06T11:05:56.842Z"
   },
   {
    "duration": 9,
    "start_time": "2024-12-06T11:05:59.415Z"
   },
   {
    "duration": 48,
    "start_time": "2024-12-06T11:05:59.426Z"
   },
   {
    "duration": 216,
    "start_time": "2024-12-06T11:05:59.476Z"
   },
   {
    "duration": 2,
    "start_time": "2024-12-06T11:05:59.694Z"
   },
   {
    "duration": 11,
    "start_time": "2024-12-06T11:05:59.698Z"
   },
   {
    "duration": 24,
    "start_time": "2024-12-06T11:05:59.711Z"
   },
   {
    "duration": 15,
    "start_time": "2024-12-06T11:05:59.737Z"
   },
   {
    "duration": 81,
    "start_time": "2024-12-06T11:05:59.753Z"
   },
   {
    "duration": 8361,
    "start_time": "2024-12-06T11:05:59.836Z"
   },
   {
    "duration": 666,
    "start_time": "2024-12-06T11:06:08.199Z"
   },
   {
    "duration": 30,
    "start_time": "2024-12-06T11:06:08.867Z"
   },
   {
    "duration": 23,
    "start_time": "2024-12-06T11:06:08.899Z"
   },
   {
    "duration": 59,
    "start_time": "2024-12-06T11:06:08.924Z"
   },
   {
    "duration": 3,
    "start_time": "2024-12-06T11:06:08.985Z"
   },
   {
    "duration": 10560,
    "start_time": "2024-12-06T11:06:08.990Z"
   },
   {
    "duration": 444,
    "start_time": "2024-12-06T11:06:19.551Z"
   },
   {
    "duration": 7,
    "start_time": "2024-12-06T11:06:19.996Z"
   },
   {
    "duration": 59,
    "start_time": "2024-12-06T11:06:20.005Z"
   },
   {
    "duration": 28,
    "start_time": "2024-12-06T11:06:20.066Z"
   },
   {
    "duration": 51,
    "start_time": "2024-12-06T11:06:20.096Z"
   },
   {
    "duration": 5788,
    "start_time": "2024-12-06T11:06:38.939Z"
   },
   {
    "duration": 958,
    "start_time": "2024-12-06T11:06:44.729Z"
   },
   {
    "duration": 11,
    "start_time": "2024-12-06T11:06:45.689Z"
   },
   {
    "duration": 57,
    "start_time": "2024-12-06T11:06:45.702Z"
   },
   {
    "duration": 40,
    "start_time": "2024-12-06T11:06:45.760Z"
   },
   {
    "duration": 73,
    "start_time": "2024-12-06T11:06:45.801Z"
   },
   {
    "duration": 325,
    "start_time": "2024-12-06T11:06:45.876Z"
   },
   {
    "duration": 18,
    "start_time": "2024-12-06T11:06:46.203Z"
   },
   {
    "duration": 50,
    "start_time": "2024-12-06T11:06:46.222Z"
   },
   {
    "duration": 24,
    "start_time": "2024-12-06T11:06:46.275Z"
   },
   {
    "duration": 50,
    "start_time": "2024-12-06T11:06:46.301Z"
   },
   {
    "duration": 40,
    "start_time": "2024-12-06T11:06:46.353Z"
   },
   {
    "duration": 51,
    "start_time": "2024-12-06T11:06:46.394Z"
   },
   {
    "duration": 32,
    "start_time": "2024-12-06T11:06:46.446Z"
   },
   {
    "duration": 55,
    "start_time": "2024-12-06T11:06:46.480Z"
   },
   {
    "duration": 57,
    "start_time": "2024-12-06T11:06:46.537Z"
   },
   {
    "duration": 51,
    "start_time": "2024-12-06T11:06:46.596Z"
   },
   {
    "duration": 3258,
    "start_time": "2024-12-06T11:06:46.649Z"
   },
   {
    "duration": 2615,
    "start_time": "2024-12-06T11:06:49.909Z"
   },
   {
    "duration": 9,
    "start_time": "2024-12-06T11:06:52.525Z"
   },
   {
    "duration": 98,
    "start_time": "2024-12-06T11:06:52.535Z"
   },
   {
    "duration": 208,
    "start_time": "2024-12-06T11:06:52.635Z"
   },
   {
    "duration": 3,
    "start_time": "2024-12-06T11:06:52.845Z"
   },
   {
    "duration": 31,
    "start_time": "2024-12-06T11:06:52.849Z"
   },
   {
    "duration": 24,
    "start_time": "2024-12-06T11:06:52.882Z"
   },
   {
    "duration": 10,
    "start_time": "2024-12-06T11:06:52.908Z"
   },
   {
    "duration": 76,
    "start_time": "2024-12-06T11:06:52.919Z"
   },
   {
    "duration": 8356,
    "start_time": "2024-12-06T11:06:52.999Z"
   },
   {
    "duration": 641,
    "start_time": "2024-12-06T11:07:01.358Z"
   },
   {
    "duration": 30,
    "start_time": "2024-12-06T11:07:02.001Z"
   },
   {
    "duration": 39,
    "start_time": "2024-12-06T11:07:02.032Z"
   },
   {
    "duration": 42,
    "start_time": "2024-12-06T11:07:02.073Z"
   },
   {
    "duration": 2,
    "start_time": "2024-12-06T11:07:02.117Z"
   },
   {
    "duration": 10522,
    "start_time": "2024-12-06T11:07:02.121Z"
   },
   {
    "duration": 431,
    "start_time": "2024-12-06T11:07:12.645Z"
   },
   {
    "duration": 7,
    "start_time": "2024-12-06T11:07:13.078Z"
   },
   {
    "duration": 15,
    "start_time": "2024-12-06T11:07:13.087Z"
   },
   {
    "duration": 11,
    "start_time": "2024-12-06T11:07:13.104Z"
   },
   {
    "duration": 6,
    "start_time": "2024-12-06T11:07:13.116Z"
   },
   {
    "duration": 5610,
    "start_time": "2024-12-06T11:07:19.450Z"
   },
   {
    "duration": 935,
    "start_time": "2024-12-06T11:07:25.062Z"
   },
   {
    "duration": 10,
    "start_time": "2024-12-06T11:07:25.998Z"
   },
   {
    "duration": 32,
    "start_time": "2024-12-06T11:07:26.010Z"
   },
   {
    "duration": 25,
    "start_time": "2024-12-06T11:07:26.044Z"
   },
   {
    "duration": 28,
    "start_time": "2024-12-06T11:07:26.070Z"
   },
   {
    "duration": 236,
    "start_time": "2024-12-06T11:07:26.100Z"
   },
   {
    "duration": 24,
    "start_time": "2024-12-06T11:07:26.338Z"
   },
   {
    "duration": 27,
    "start_time": "2024-12-06T11:07:26.364Z"
   },
   {
    "duration": 5,
    "start_time": "2024-12-06T11:07:26.393Z"
   },
   {
    "duration": 12,
    "start_time": "2024-12-06T11:07:26.399Z"
   },
   {
    "duration": 14,
    "start_time": "2024-12-06T11:07:26.412Z"
   },
   {
    "duration": 6,
    "start_time": "2024-12-06T11:07:26.428Z"
   },
   {
    "duration": 10,
    "start_time": "2024-12-06T11:07:26.436Z"
   },
   {
    "duration": 5,
    "start_time": "2024-12-06T11:07:26.448Z"
   },
   {
    "duration": 12,
    "start_time": "2024-12-06T11:07:26.463Z"
   },
   {
    "duration": 5,
    "start_time": "2024-12-06T11:07:26.476Z"
   },
   {
    "duration": 3248,
    "start_time": "2024-12-06T11:07:26.483Z"
   },
   {
    "duration": 749,
    "start_time": "2024-12-06T11:07:29.733Z"
   },
   {
    "duration": 0,
    "start_time": "2024-12-06T11:07:30.485Z"
   },
   {
    "duration": 0,
    "start_time": "2024-12-06T11:07:30.486Z"
   },
   {
    "duration": 0,
    "start_time": "2024-12-06T11:07:30.488Z"
   },
   {
    "duration": 0,
    "start_time": "2024-12-06T11:07:30.489Z"
   },
   {
    "duration": 0,
    "start_time": "2024-12-06T11:07:30.491Z"
   },
   {
    "duration": 0,
    "start_time": "2024-12-06T11:07:30.492Z"
   },
   {
    "duration": 1,
    "start_time": "2024-12-06T11:07:30.493Z"
   },
   {
    "duration": 0,
    "start_time": "2024-12-06T11:07:30.495Z"
   },
   {
    "duration": 0,
    "start_time": "2024-12-06T11:07:30.497Z"
   },
   {
    "duration": 0,
    "start_time": "2024-12-06T11:07:30.498Z"
   },
   {
    "duration": 0,
    "start_time": "2024-12-06T11:07:30.499Z"
   },
   {
    "duration": 0,
    "start_time": "2024-12-06T11:07:30.501Z"
   },
   {
    "duration": 0,
    "start_time": "2024-12-06T11:07:30.503Z"
   },
   {
    "duration": 0,
    "start_time": "2024-12-06T11:07:30.504Z"
   },
   {
    "duration": 0,
    "start_time": "2024-12-06T11:07:30.506Z"
   },
   {
    "duration": 0,
    "start_time": "2024-12-06T11:07:30.508Z"
   },
   {
    "duration": 0,
    "start_time": "2024-12-06T11:07:30.509Z"
   },
   {
    "duration": 0,
    "start_time": "2024-12-06T11:07:30.511Z"
   },
   {
    "duration": 0,
    "start_time": "2024-12-06T11:07:30.512Z"
   },
   {
    "duration": 0,
    "start_time": "2024-12-06T11:07:30.514Z"
   },
   {
    "duration": 0,
    "start_time": "2024-12-06T11:07:30.515Z"
   },
   {
    "duration": 0,
    "start_time": "2024-12-06T11:07:30.516Z"
   },
   {
    "duration": 0,
    "start_time": "2024-12-06T11:07:30.518Z"
   },
   {
    "duration": 0,
    "start_time": "2024-12-06T11:07:30.519Z"
   },
   {
    "duration": 0,
    "start_time": "2024-12-06T11:07:30.521Z"
   },
   {
    "duration": 0,
    "start_time": "2024-12-06T11:07:30.563Z"
   },
   {
    "duration": 0,
    "start_time": "2024-12-06T11:07:30.564Z"
   },
   {
    "duration": 0,
    "start_time": "2024-12-06T11:07:30.566Z"
   },
   {
    "duration": 3,
    "start_time": "2024-12-06T11:07:55.947Z"
   },
   {
    "duration": 4,
    "start_time": "2024-12-06T11:08:16.255Z"
   },
   {
    "duration": 5620,
    "start_time": "2024-12-06T11:08:49.807Z"
   },
   {
    "duration": 925,
    "start_time": "2024-12-06T11:08:55.429Z"
   },
   {
    "duration": 13,
    "start_time": "2024-12-06T11:08:56.357Z"
   },
   {
    "duration": 41,
    "start_time": "2024-12-06T11:08:56.372Z"
   },
   {
    "duration": 4,
    "start_time": "2024-12-06T11:08:56.416Z"
   },
   {
    "duration": 19,
    "start_time": "2024-12-06T11:08:56.422Z"
   },
   {
    "duration": 240,
    "start_time": "2024-12-06T11:08:56.442Z"
   },
   {
    "duration": 17,
    "start_time": "2024-12-06T11:08:56.684Z"
   },
   {
    "duration": 35,
    "start_time": "2024-12-06T11:08:56.703Z"
   },
   {
    "duration": 22,
    "start_time": "2024-12-06T11:08:56.740Z"
   },
   {
    "duration": 15,
    "start_time": "2024-12-06T11:08:56.764Z"
   },
   {
    "duration": 6,
    "start_time": "2024-12-06T11:08:56.781Z"
   },
   {
    "duration": 15,
    "start_time": "2024-12-06T11:08:56.789Z"
   },
   {
    "duration": 19,
    "start_time": "2024-12-06T11:08:56.807Z"
   },
   {
    "duration": 4,
    "start_time": "2024-12-06T11:08:56.828Z"
   },
   {
    "duration": 7,
    "start_time": "2024-12-06T11:08:56.834Z"
   },
   {
    "duration": 4,
    "start_time": "2024-12-06T11:08:56.843Z"
   },
   {
    "duration": 3249,
    "start_time": "2024-12-06T11:08:56.849Z"
   },
   {
    "duration": 3,
    "start_time": "2024-12-06T11:09:00.101Z"
   },
   {
    "duration": 55,
    "start_time": "2024-12-06T11:09:00.106Z"
   },
   {
    "duration": 21,
    "start_time": "2024-12-06T11:09:00.163Z"
   },
   {
    "duration": 5492,
    "start_time": "2024-12-06T11:09:49.607Z"
   },
   {
    "duration": 948,
    "start_time": "2024-12-06T11:09:55.101Z"
   },
   {
    "duration": 18,
    "start_time": "2024-12-06T11:09:56.051Z"
   },
   {
    "duration": 45,
    "start_time": "2024-12-06T11:09:56.070Z"
   },
   {
    "duration": 4,
    "start_time": "2024-12-06T11:09:56.118Z"
   },
   {
    "duration": 20,
    "start_time": "2024-12-06T11:09:56.124Z"
   },
   {
    "duration": 258,
    "start_time": "2024-12-06T11:09:56.145Z"
   },
   {
    "duration": 16,
    "start_time": "2024-12-06T11:09:56.405Z"
   },
   {
    "duration": 41,
    "start_time": "2024-12-06T11:09:56.423Z"
   },
   {
    "duration": 27,
    "start_time": "2024-12-06T11:09:56.466Z"
   },
   {
    "duration": 23,
    "start_time": "2024-12-06T11:09:56.495Z"
   },
   {
    "duration": 14,
    "start_time": "2024-12-06T11:09:56.520Z"
   },
   {
    "duration": 55,
    "start_time": "2024-12-06T11:09:56.536Z"
   },
   {
    "duration": 21,
    "start_time": "2024-12-06T11:09:56.594Z"
   },
   {
    "duration": 8,
    "start_time": "2024-12-06T11:09:56.617Z"
   },
   {
    "duration": 13,
    "start_time": "2024-12-06T11:09:56.627Z"
   },
   {
    "duration": 7,
    "start_time": "2024-12-06T11:09:56.642Z"
   },
   {
    "duration": 3324,
    "start_time": "2024-12-06T11:09:56.651Z"
   },
   {
    "duration": 3,
    "start_time": "2024-12-06T11:09:59.977Z"
   },
   {
    "duration": 11,
    "start_time": "2024-12-06T11:09:59.982Z"
   },
   {
    "duration": 4,
    "start_time": "2024-12-06T11:09:59.995Z"
   },
   {
    "duration": 5629,
    "start_time": "2024-12-06T11:14:18.538Z"
   },
   {
    "duration": 950,
    "start_time": "2024-12-06T11:14:24.169Z"
   },
   {
    "duration": 10,
    "start_time": "2024-12-06T11:14:25.121Z"
   },
   {
    "duration": 41,
    "start_time": "2024-12-06T11:14:25.133Z"
   },
   {
    "duration": 4,
    "start_time": "2024-12-06T11:14:25.176Z"
   },
   {
    "duration": 10,
    "start_time": "2024-12-06T11:14:25.182Z"
   },
   {
    "duration": 261,
    "start_time": "2024-12-06T11:14:25.194Z"
   },
   {
    "duration": 16,
    "start_time": "2024-12-06T11:14:25.457Z"
   },
   {
    "duration": 42,
    "start_time": "2024-12-06T11:14:25.475Z"
   },
   {
    "duration": 6,
    "start_time": "2024-12-06T11:14:25.519Z"
   },
   {
    "duration": 9,
    "start_time": "2024-12-06T11:14:25.527Z"
   },
   {
    "duration": 17,
    "start_time": "2024-12-06T11:14:25.538Z"
   },
   {
    "duration": 6,
    "start_time": "2024-12-06T11:14:25.557Z"
   },
   {
    "duration": 6,
    "start_time": "2024-12-06T11:14:25.567Z"
   },
   {
    "duration": 20,
    "start_time": "2024-12-06T11:14:25.574Z"
   },
   {
    "duration": 16,
    "start_time": "2024-12-06T11:14:25.596Z"
   },
   {
    "duration": 10,
    "start_time": "2024-12-06T11:14:25.614Z"
   },
   {
    "duration": 3142,
    "start_time": "2024-12-06T11:14:25.625Z"
   },
   {
    "duration": 3,
    "start_time": "2024-12-06T11:14:28.769Z"
   },
   {
    "duration": 10,
    "start_time": "2024-12-06T11:14:28.774Z"
   },
   {
    "duration": 4,
    "start_time": "2024-12-06T11:14:28.786Z"
   },
   {
    "duration": 5573,
    "start_time": "2024-12-06T11:19:44.483Z"
   },
   {
    "duration": 0,
    "start_time": "2024-12-06T11:19:50.062Z"
   },
   {
    "duration": 0,
    "start_time": "2024-12-06T11:19:50.063Z"
   },
   {
    "duration": 0,
    "start_time": "2024-12-06T11:19:50.064Z"
   },
   {
    "duration": 0,
    "start_time": "2024-12-06T11:19:50.065Z"
   },
   {
    "duration": 0,
    "start_time": "2024-12-06T11:19:50.066Z"
   },
   {
    "duration": 0,
    "start_time": "2024-12-06T11:19:50.067Z"
   },
   {
    "duration": 0,
    "start_time": "2024-12-06T11:19:50.068Z"
   },
   {
    "duration": 0,
    "start_time": "2024-12-06T11:19:50.069Z"
   },
   {
    "duration": 0,
    "start_time": "2024-12-06T11:19:50.070Z"
   },
   {
    "duration": 0,
    "start_time": "2024-12-06T11:19:50.071Z"
   },
   {
    "duration": 0,
    "start_time": "2024-12-06T11:19:50.072Z"
   },
   {
    "duration": 0,
    "start_time": "2024-12-06T11:19:50.073Z"
   },
   {
    "duration": 0,
    "start_time": "2024-12-06T11:19:50.074Z"
   },
   {
    "duration": 0,
    "start_time": "2024-12-06T11:19:50.075Z"
   },
   {
    "duration": 0,
    "start_time": "2024-12-06T11:19:50.076Z"
   },
   {
    "duration": 0,
    "start_time": "2024-12-06T11:19:50.076Z"
   },
   {
    "duration": 0,
    "start_time": "2024-12-06T11:19:50.077Z"
   },
   {
    "duration": 0,
    "start_time": "2024-12-06T11:19:50.078Z"
   },
   {
    "duration": 0,
    "start_time": "2024-12-06T11:19:50.079Z"
   },
   {
    "duration": 0,
    "start_time": "2024-12-06T11:19:50.080Z"
   },
   {
    "duration": 0,
    "start_time": "2024-12-06T11:19:50.081Z"
   },
   {
    "duration": 0,
    "start_time": "2024-12-06T11:19:50.082Z"
   },
   {
    "duration": 0,
    "start_time": "2024-12-06T11:19:50.083Z"
   },
   {
    "duration": 0,
    "start_time": "2024-12-06T11:19:50.084Z"
   },
   {
    "duration": 0,
    "start_time": "2024-12-06T11:19:50.085Z"
   },
   {
    "duration": 0,
    "start_time": "2024-12-06T11:19:50.086Z"
   },
   {
    "duration": 0,
    "start_time": "2024-12-06T11:19:50.087Z"
   },
   {
    "duration": 0,
    "start_time": "2024-12-06T11:19:50.088Z"
   },
   {
    "duration": 0,
    "start_time": "2024-12-06T11:19:50.089Z"
   },
   {
    "duration": 0,
    "start_time": "2024-12-06T11:19:50.090Z"
   },
   {
    "duration": 0,
    "start_time": "2024-12-06T11:19:50.091Z"
   },
   {
    "duration": 0,
    "start_time": "2024-12-06T11:19:50.092Z"
   },
   {
    "duration": 0,
    "start_time": "2024-12-06T11:19:50.093Z"
   },
   {
    "duration": 0,
    "start_time": "2024-12-06T11:19:50.094Z"
   },
   {
    "duration": 0,
    "start_time": "2024-12-06T11:19:50.095Z"
   },
   {
    "duration": 0,
    "start_time": "2024-12-06T11:19:50.096Z"
   },
   {
    "duration": 0,
    "start_time": "2024-12-06T11:19:50.097Z"
   },
   {
    "duration": 0,
    "start_time": "2024-12-06T11:19:50.098Z"
   },
   {
    "duration": 0,
    "start_time": "2024-12-06T11:19:50.099Z"
   },
   {
    "duration": 0,
    "start_time": "2024-12-06T11:19:50.162Z"
   },
   {
    "duration": 0,
    "start_time": "2024-12-06T11:19:50.163Z"
   },
   {
    "duration": 0,
    "start_time": "2024-12-06T11:19:50.164Z"
   },
   {
    "duration": 0,
    "start_time": "2024-12-06T11:19:50.165Z"
   },
   {
    "duration": 0,
    "start_time": "2024-12-06T11:19:50.167Z"
   },
   {
    "duration": 0,
    "start_time": "2024-12-06T11:19:50.168Z"
   },
   {
    "duration": 0,
    "start_time": "2024-12-06T11:19:50.169Z"
   },
   {
    "duration": 5725,
    "start_time": "2024-12-06T11:20:01.385Z"
   },
   {
    "duration": 956,
    "start_time": "2024-12-06T11:20:07.112Z"
   },
   {
    "duration": 10,
    "start_time": "2024-12-06T11:20:08.070Z"
   },
   {
    "duration": 34,
    "start_time": "2024-12-06T11:20:08.082Z"
   },
   {
    "duration": 4,
    "start_time": "2024-12-06T11:20:08.117Z"
   },
   {
    "duration": 39,
    "start_time": "2024-12-06T11:20:08.123Z"
   },
   {
    "duration": 241,
    "start_time": "2024-12-06T11:20:08.164Z"
   },
   {
    "duration": 20,
    "start_time": "2024-12-06T11:20:08.406Z"
   },
   {
    "duration": 39,
    "start_time": "2024-12-06T11:20:08.427Z"
   },
   {
    "duration": 4,
    "start_time": "2024-12-06T11:20:08.469Z"
   },
   {
    "duration": 11,
    "start_time": "2024-12-06T11:20:08.476Z"
   },
   {
    "duration": 5,
    "start_time": "2024-12-06T11:20:08.489Z"
   },
   {
    "duration": 18,
    "start_time": "2024-12-06T11:20:08.495Z"
   },
   {
    "duration": 17,
    "start_time": "2024-12-06T11:20:08.515Z"
   },
   {
    "duration": 5,
    "start_time": "2024-12-06T11:20:08.533Z"
   },
   {
    "duration": 3,
    "start_time": "2024-12-06T11:20:08.540Z"
   },
   {
    "duration": 4,
    "start_time": "2024-12-06T11:20:08.545Z"
   },
   {
    "duration": 3387,
    "start_time": "2024-12-06T11:20:08.550Z"
   },
   {
    "duration": 3,
    "start_time": "2024-12-06T11:20:11.940Z"
   },
   {
    "duration": 9,
    "start_time": "2024-12-06T11:20:11.945Z"
   },
   {
    "duration": 4,
    "start_time": "2024-12-06T11:20:11.956Z"
   },
   {
    "duration": 5670,
    "start_time": "2024-12-06T11:21:07.018Z"
   },
   {
    "duration": 0,
    "start_time": "2024-12-06T11:21:12.691Z"
   },
   {
    "duration": 0,
    "start_time": "2024-12-06T11:21:12.693Z"
   },
   {
    "duration": 0,
    "start_time": "2024-12-06T11:21:12.694Z"
   },
   {
    "duration": 0,
    "start_time": "2024-12-06T11:21:12.695Z"
   },
   {
    "duration": 0,
    "start_time": "2024-12-06T11:21:12.696Z"
   },
   {
    "duration": 0,
    "start_time": "2024-12-06T11:21:12.697Z"
   },
   {
    "duration": 0,
    "start_time": "2024-12-06T11:21:12.698Z"
   },
   {
    "duration": 0,
    "start_time": "2024-12-06T11:21:12.699Z"
   },
   {
    "duration": 0,
    "start_time": "2024-12-06T11:21:12.700Z"
   },
   {
    "duration": 0,
    "start_time": "2024-12-06T11:21:12.701Z"
   },
   {
    "duration": 0,
    "start_time": "2024-12-06T11:21:12.702Z"
   },
   {
    "duration": 0,
    "start_time": "2024-12-06T11:21:12.703Z"
   },
   {
    "duration": 0,
    "start_time": "2024-12-06T11:21:12.704Z"
   },
   {
    "duration": 0,
    "start_time": "2024-12-06T11:21:12.705Z"
   },
   {
    "duration": 0,
    "start_time": "2024-12-06T11:21:12.706Z"
   },
   {
    "duration": 0,
    "start_time": "2024-12-06T11:21:12.707Z"
   },
   {
    "duration": 0,
    "start_time": "2024-12-06T11:21:12.708Z"
   },
   {
    "duration": 0,
    "start_time": "2024-12-06T11:21:12.709Z"
   },
   {
    "duration": 0,
    "start_time": "2024-12-06T11:21:12.710Z"
   },
   {
    "duration": 0,
    "start_time": "2024-12-06T11:21:12.711Z"
   },
   {
    "duration": 0,
    "start_time": "2024-12-06T11:21:12.711Z"
   },
   {
    "duration": 0,
    "start_time": "2024-12-06T11:21:12.712Z"
   },
   {
    "duration": 0,
    "start_time": "2024-12-06T11:21:12.713Z"
   },
   {
    "duration": 0,
    "start_time": "2024-12-06T11:21:12.714Z"
   },
   {
    "duration": 0,
    "start_time": "2024-12-06T11:21:12.715Z"
   },
   {
    "duration": 0,
    "start_time": "2024-12-06T11:21:12.716Z"
   },
   {
    "duration": 0,
    "start_time": "2024-12-06T11:21:12.717Z"
   },
   {
    "duration": 0,
    "start_time": "2024-12-06T11:21:12.718Z"
   },
   {
    "duration": 0,
    "start_time": "2024-12-06T11:21:12.762Z"
   },
   {
    "duration": 0,
    "start_time": "2024-12-06T11:21:12.763Z"
   },
   {
    "duration": 0,
    "start_time": "2024-12-06T11:21:12.764Z"
   },
   {
    "duration": 0,
    "start_time": "2024-12-06T11:21:12.765Z"
   },
   {
    "duration": 0,
    "start_time": "2024-12-06T11:21:12.765Z"
   },
   {
    "duration": 0,
    "start_time": "2024-12-06T11:21:12.767Z"
   },
   {
    "duration": 0,
    "start_time": "2024-12-06T11:21:12.767Z"
   },
   {
    "duration": 0,
    "start_time": "2024-12-06T11:21:12.768Z"
   },
   {
    "duration": 0,
    "start_time": "2024-12-06T11:21:12.769Z"
   },
   {
    "duration": 0,
    "start_time": "2024-12-06T11:21:12.770Z"
   },
   {
    "duration": 0,
    "start_time": "2024-12-06T11:21:12.771Z"
   },
   {
    "duration": 0,
    "start_time": "2024-12-06T11:21:12.772Z"
   },
   {
    "duration": 0,
    "start_time": "2024-12-06T11:21:12.773Z"
   },
   {
    "duration": 0,
    "start_time": "2024-12-06T11:21:12.774Z"
   },
   {
    "duration": 0,
    "start_time": "2024-12-06T11:21:12.776Z"
   },
   {
    "duration": 0,
    "start_time": "2024-12-06T11:21:12.777Z"
   },
   {
    "duration": 0,
    "start_time": "2024-12-06T11:21:12.778Z"
   },
   {
    "duration": 0,
    "start_time": "2024-12-06T11:21:12.779Z"
   },
   {
    "duration": 31,
    "start_time": "2024-12-06T11:21:34.883Z"
   },
   {
    "duration": 21,
    "start_time": "2024-12-06T11:21:43.511Z"
   },
   {
    "duration": 201,
    "start_time": "2024-12-06T11:21:47.961Z"
   },
   {
    "duration": 18,
    "start_time": "2024-12-06T11:21:51.671Z"
   },
   {
    "duration": 10,
    "start_time": "2024-12-06T11:22:05.295Z"
   },
   {
    "duration": 4,
    "start_time": "2024-12-06T11:22:06.278Z"
   },
   {
    "duration": 5464,
    "start_time": "2024-12-06T11:22:13.617Z"
   },
   {
    "duration": 4,
    "start_time": "2024-12-06T11:22:19.083Z"
   },
   {
    "duration": 944,
    "start_time": "2024-12-06T11:22:19.089Z"
   },
   {
    "duration": 11,
    "start_time": "2024-12-06T11:22:20.035Z"
   },
   {
    "duration": 44,
    "start_time": "2024-12-06T11:22:20.049Z"
   },
   {
    "duration": 27,
    "start_time": "2024-12-06T11:22:20.094Z"
   },
   {
    "duration": 23,
    "start_time": "2024-12-06T11:22:20.123Z"
   },
   {
    "duration": 247,
    "start_time": "2024-12-06T11:22:20.148Z"
   },
   {
    "duration": 17,
    "start_time": "2024-12-06T11:22:20.396Z"
   },
   {
    "duration": 27,
    "start_time": "2024-12-06T11:22:20.414Z"
   },
   {
    "duration": 28,
    "start_time": "2024-12-06T11:22:20.443Z"
   },
   {
    "duration": 8,
    "start_time": "2024-12-06T11:22:20.473Z"
   },
   {
    "duration": 24,
    "start_time": "2024-12-06T11:22:20.483Z"
   },
   {
    "duration": 31,
    "start_time": "2024-12-06T11:22:20.510Z"
   },
   {
    "duration": 10,
    "start_time": "2024-12-06T11:22:20.543Z"
   },
   {
    "duration": 8,
    "start_time": "2024-12-06T11:22:20.555Z"
   },
   {
    "duration": 5,
    "start_time": "2024-12-06T11:22:20.564Z"
   },
   {
    "duration": 42,
    "start_time": "2024-12-06T11:22:20.571Z"
   },
   {
    "duration": 3227,
    "start_time": "2024-12-06T11:22:20.615Z"
   },
   {
    "duration": 3,
    "start_time": "2024-12-06T11:22:23.844Z"
   },
   {
    "duration": 61,
    "start_time": "2024-12-06T11:22:23.849Z"
   },
   {
    "duration": 11,
    "start_time": "2024-12-06T11:22:23.911Z"
   },
   {
    "duration": 5606,
    "start_time": "2024-12-06T11:22:40.494Z"
   },
   {
    "duration": 4,
    "start_time": "2024-12-06T11:22:46.102Z"
   },
   {
    "duration": 937,
    "start_time": "2024-12-06T11:22:46.108Z"
   },
   {
    "duration": 20,
    "start_time": "2024-12-06T11:22:47.047Z"
   },
   {
    "duration": 37,
    "start_time": "2024-12-06T11:22:47.069Z"
   },
   {
    "duration": 23,
    "start_time": "2024-12-06T11:22:47.107Z"
   },
   {
    "duration": 45,
    "start_time": "2024-12-06T11:22:47.132Z"
   },
   {
    "duration": 234,
    "start_time": "2024-12-06T11:22:47.178Z"
   },
   {
    "duration": 16,
    "start_time": "2024-12-06T11:22:47.414Z"
   },
   {
    "duration": 43,
    "start_time": "2024-12-06T11:22:47.431Z"
   },
   {
    "duration": 8,
    "start_time": "2024-12-06T11:22:47.476Z"
   },
   {
    "duration": 4,
    "start_time": "2024-12-06T11:22:47.486Z"
   },
   {
    "duration": 5,
    "start_time": "2024-12-06T11:22:47.491Z"
   },
   {
    "duration": 12,
    "start_time": "2024-12-06T11:22:47.499Z"
   },
   {
    "duration": 19,
    "start_time": "2024-12-06T11:22:47.513Z"
   },
   {
    "duration": 13,
    "start_time": "2024-12-06T11:22:47.533Z"
   },
   {
    "duration": 3,
    "start_time": "2024-12-06T11:22:47.548Z"
   },
   {
    "duration": 4,
    "start_time": "2024-12-06T11:22:47.552Z"
   },
   {
    "duration": 3267,
    "start_time": "2024-12-06T11:22:47.557Z"
   },
   {
    "duration": 3,
    "start_time": "2024-12-06T11:22:50.826Z"
   },
   {
    "duration": 18,
    "start_time": "2024-12-06T11:22:50.830Z"
   },
   {
    "duration": 10,
    "start_time": "2024-12-06T11:22:50.849Z"
   },
   {
    "duration": 5627,
    "start_time": "2024-12-06T11:24:10.818Z"
   },
   {
    "duration": 4,
    "start_time": "2024-12-06T11:24:16.448Z"
   },
   {
    "duration": 924,
    "start_time": "2024-12-06T11:24:16.453Z"
   },
   {
    "duration": 10,
    "start_time": "2024-12-06T11:24:17.378Z"
   },
   {
    "duration": 48,
    "start_time": "2024-12-06T11:24:17.390Z"
   },
   {
    "duration": 4,
    "start_time": "2024-12-06T11:24:17.440Z"
   },
   {
    "duration": 24,
    "start_time": "2024-12-06T11:24:17.445Z"
   },
   {
    "duration": 251,
    "start_time": "2024-12-06T11:24:17.470Z"
   },
   {
    "duration": 16,
    "start_time": "2024-12-06T11:24:17.722Z"
   },
   {
    "duration": 35,
    "start_time": "2024-12-06T11:24:17.741Z"
   },
   {
    "duration": 19,
    "start_time": "2024-12-06T11:24:17.777Z"
   },
   {
    "duration": 16,
    "start_time": "2024-12-06T11:24:17.798Z"
   },
   {
    "duration": 24,
    "start_time": "2024-12-06T11:24:17.816Z"
   },
   {
    "duration": 19,
    "start_time": "2024-12-06T11:24:17.842Z"
   },
   {
    "duration": 43,
    "start_time": "2024-12-06T11:24:17.862Z"
   },
   {
    "duration": 19,
    "start_time": "2024-12-06T11:24:17.907Z"
   },
   {
    "duration": 12,
    "start_time": "2024-12-06T11:24:17.928Z"
   },
   {
    "duration": 12,
    "start_time": "2024-12-06T11:24:17.942Z"
   },
   {
    "duration": 3289,
    "start_time": "2024-12-06T11:24:17.956Z"
   },
   {
    "duration": 3,
    "start_time": "2024-12-06T11:24:21.248Z"
   },
   {
    "duration": 39,
    "start_time": "2024-12-06T11:24:21.253Z"
   },
   {
    "duration": 7,
    "start_time": "2024-12-06T11:24:21.294Z"
   },
   {
    "duration": 5596,
    "start_time": "2024-12-06T11:26:51.803Z"
   },
   {
    "duration": 4,
    "start_time": "2024-12-06T11:26:57.401Z"
   },
   {
    "duration": 871,
    "start_time": "2024-12-06T11:26:57.406Z"
   },
   {
    "duration": 11,
    "start_time": "2024-12-06T11:26:58.278Z"
   },
   {
    "duration": 32,
    "start_time": "2024-12-06T11:26:58.291Z"
   },
   {
    "duration": 4,
    "start_time": "2024-12-06T11:26:58.325Z"
   },
   {
    "duration": 39,
    "start_time": "2024-12-06T11:26:58.331Z"
   },
   {
    "duration": 226,
    "start_time": "2024-12-06T11:26:58.372Z"
   },
   {
    "duration": 17,
    "start_time": "2024-12-06T11:26:58.600Z"
   },
   {
    "duration": 43,
    "start_time": "2024-12-06T11:26:58.619Z"
   },
   {
    "duration": 4,
    "start_time": "2024-12-06T11:26:58.664Z"
   },
   {
    "duration": 12,
    "start_time": "2024-12-06T11:26:58.669Z"
   },
   {
    "duration": 5,
    "start_time": "2024-12-06T11:26:58.683Z"
   },
   {
    "duration": 10,
    "start_time": "2024-12-06T11:26:58.692Z"
   },
   {
    "duration": 6,
    "start_time": "2024-12-06T11:26:58.703Z"
   },
   {
    "duration": 5,
    "start_time": "2024-12-06T11:26:58.711Z"
   },
   {
    "duration": 25,
    "start_time": "2024-12-06T11:26:58.717Z"
   },
   {
    "duration": 13,
    "start_time": "2024-12-06T11:26:58.743Z"
   },
   {
    "duration": 3287,
    "start_time": "2024-12-06T11:26:58.757Z"
   },
   {
    "duration": 3,
    "start_time": "2024-12-06T11:27:02.046Z"
   },
   {
    "duration": 19,
    "start_time": "2024-12-06T11:27:02.050Z"
   },
   {
    "duration": 21,
    "start_time": "2024-12-06T11:27:02.071Z"
   },
   {
    "duration": 773523,
    "start_time": "2024-12-06T11:27:02.093Z"
   },
   {
    "duration": 10,
    "start_time": "2024-12-06T11:39:55.618Z"
   },
   {
    "duration": 79,
    "start_time": "2024-12-06T11:39:55.630Z"
   },
   {
    "duration": 220,
    "start_time": "2024-12-06T11:39:55.711Z"
   },
   {
    "duration": 3,
    "start_time": "2024-12-06T11:39:55.933Z"
   },
   {
    "duration": 119,
    "start_time": "2024-12-06T11:39:55.938Z"
   },
   {
    "duration": 5019,
    "start_time": "2024-12-06T11:39:56.059Z"
   },
   {
    "duration": 380,
    "start_time": "2024-12-06T11:40:01.080Z"
   },
   {
    "duration": 32,
    "start_time": "2024-12-06T11:40:01.462Z"
   },
   {
    "duration": 24,
    "start_time": "2024-12-06T11:40:01.496Z"
   },
   {
    "duration": 62,
    "start_time": "2024-12-06T11:40:01.522Z"
   },
   {
    "duration": 13,
    "start_time": "2024-12-06T11:40:01.585Z"
   },
   {
    "duration": 4607,
    "start_time": "2024-12-06T11:40:01.599Z"
   },
   {
    "duration": 304,
    "start_time": "2024-12-06T11:40:06.208Z"
   },
   {
    "duration": 7,
    "start_time": "2024-12-06T11:40:06.516Z"
   },
   {
    "duration": 7,
    "start_time": "2024-12-06T11:40:06.524Z"
   },
   {
    "duration": 5,
    "start_time": "2024-12-06T11:40:06.533Z"
   },
   {
    "duration": 25,
    "start_time": "2024-12-06T11:40:06.540Z"
   },
   {
    "duration": 213622,
    "start_time": "2024-12-06T11:40:06.569Z"
   },
   {
    "duration": 9,
    "start_time": "2024-12-06T11:43:40.193Z"
   },
   {
    "duration": 4,
    "start_time": "2024-12-06T11:43:40.203Z"
   },
   {
    "duration": 5,
    "start_time": "2024-12-06T11:43:40.209Z"
   },
   {
    "duration": 107659,
    "start_time": "2024-12-06T11:43:40.215Z"
   },
   {
    "duration": 27,
    "start_time": "2024-12-06T11:45:27.876Z"
   },
   {
    "duration": 305320,
    "start_time": "2024-12-06T11:45:27.905Z"
   },
   {
    "duration": 8,
    "start_time": "2024-12-06T11:50:33.229Z"
   },
   {
    "duration": 47,
    "start_time": "2024-12-06T16:12:55.541Z"
   },
   {
    "duration": 6071,
    "start_time": "2024-12-06T16:13:18.333Z"
   },
   {
    "duration": 5,
    "start_time": "2024-12-06T16:13:24.406Z"
   },
   {
    "duration": 3660,
    "start_time": "2024-12-06T16:13:24.421Z"
   },
   {
    "duration": 9,
    "start_time": "2024-12-06T16:13:28.083Z"
   },
   {
    "duration": 29,
    "start_time": "2024-12-06T16:13:28.094Z"
   },
   {
    "duration": 4,
    "start_time": "2024-12-06T16:13:28.124Z"
   },
   {
    "duration": 9,
    "start_time": "2024-12-06T16:13:28.129Z"
   },
   {
    "duration": 224,
    "start_time": "2024-12-06T16:13:28.139Z"
   },
   {
    "duration": 16,
    "start_time": "2024-12-06T16:13:28.365Z"
   },
   {
    "duration": 39,
    "start_time": "2024-12-06T16:13:28.382Z"
   },
   {
    "duration": 3,
    "start_time": "2024-12-06T16:13:28.423Z"
   },
   {
    "duration": 4,
    "start_time": "2024-12-06T16:13:28.427Z"
   },
   {
    "duration": 7,
    "start_time": "2024-12-06T16:13:28.432Z"
   },
   {
    "duration": 6,
    "start_time": "2024-12-06T16:13:28.442Z"
   },
   {
    "duration": 3,
    "start_time": "2024-12-06T16:13:28.449Z"
   },
   {
    "duration": 5,
    "start_time": "2024-12-06T16:13:28.454Z"
   },
   {
    "duration": 3,
    "start_time": "2024-12-06T16:13:28.461Z"
   },
   {
    "duration": 3,
    "start_time": "2024-12-06T16:13:28.466Z"
   },
   {
    "duration": 7157,
    "start_time": "2024-12-06T16:13:28.470Z"
   },
   {
    "duration": 4,
    "start_time": "2024-12-06T16:13:35.629Z"
   },
   {
    "duration": 28,
    "start_time": "2024-12-06T16:13:35.634Z"
   },
   {
    "duration": 34,
    "start_time": "2024-12-06T16:13:35.664Z"
   },
   {
    "duration": 727238,
    "start_time": "2024-12-06T16:13:35.700Z"
   },
   {
    "duration": 10,
    "start_time": "2024-12-06T16:25:42.941Z"
   },
   {
    "duration": 46,
    "start_time": "2024-12-06T16:25:42.953Z"
   },
   {
    "duration": 200,
    "start_time": "2024-12-06T16:25:43.001Z"
   },
   {
    "duration": 2,
    "start_time": "2024-12-06T16:25:43.203Z"
   },
   {
    "duration": 77,
    "start_time": "2024-12-06T16:25:43.207Z"
   },
   {
    "duration": 4785,
    "start_time": "2024-12-06T16:25:43.286Z"
   },
   {
    "duration": 364,
    "start_time": "2024-12-06T16:25:48.073Z"
   },
   {
    "duration": 26,
    "start_time": "2024-12-06T16:25:48.438Z"
   },
   {
    "duration": 21,
    "start_time": "2024-12-06T16:25:48.465Z"
   },
   {
    "duration": 55,
    "start_time": "2024-12-06T16:25:48.487Z"
   },
   {
    "duration": 2,
    "start_time": "2024-12-06T16:25:48.544Z"
   },
   {
    "duration": 4391,
    "start_time": "2024-12-06T16:25:48.547Z"
   },
   {
    "duration": 291,
    "start_time": "2024-12-06T16:25:52.940Z"
   },
   {
    "duration": 7,
    "start_time": "2024-12-06T16:25:53.233Z"
   },
   {
    "duration": 4,
    "start_time": "2024-12-06T16:25:53.241Z"
   },
   {
    "duration": 8,
    "start_time": "2024-12-06T16:25:53.246Z"
   },
   {
    "duration": 7,
    "start_time": "2024-12-06T16:25:53.256Z"
   },
   {
    "duration": 3,
    "start_time": "2024-12-06T16:25:53.266Z"
   },
   {
    "duration": 203877,
    "start_time": "2024-12-06T16:25:53.270Z"
   },
   {
    "duration": 7,
    "start_time": "2024-12-06T16:29:17.149Z"
   },
   {
    "duration": 34,
    "start_time": "2024-12-06T16:29:17.157Z"
   },
   {
    "duration": 3,
    "start_time": "2024-12-06T16:29:17.193Z"
   },
   {
    "duration": 81969,
    "start_time": "2024-12-06T16:29:17.197Z"
   },
   {
    "duration": 24,
    "start_time": "2024-12-06T16:30:39.167Z"
   },
   {
    "duration": 5353,
    "start_time": "2024-12-06T16:34:06.040Z"
   },
   {
    "duration": 4,
    "start_time": "2024-12-06T16:34:11.394Z"
   },
   {
    "duration": 915,
    "start_time": "2024-12-06T16:34:11.400Z"
   },
   {
    "duration": 18,
    "start_time": "2024-12-06T16:34:12.320Z"
   },
   {
    "duration": 31,
    "start_time": "2024-12-06T16:34:12.340Z"
   },
   {
    "duration": 3,
    "start_time": "2024-12-06T16:34:12.373Z"
   },
   {
    "duration": 10,
    "start_time": "2024-12-06T16:34:12.377Z"
   },
   {
    "duration": 277,
    "start_time": "2024-12-06T16:34:12.389Z"
   },
   {
    "duration": 16,
    "start_time": "2024-12-06T16:34:12.669Z"
   },
   {
    "duration": 47,
    "start_time": "2024-12-06T16:34:12.689Z"
   },
   {
    "duration": 5,
    "start_time": "2024-12-06T16:34:12.737Z"
   },
   {
    "duration": 4,
    "start_time": "2024-12-06T16:34:12.744Z"
   },
   {
    "duration": 5,
    "start_time": "2024-12-06T16:34:12.750Z"
   },
   {
    "duration": 13,
    "start_time": "2024-12-06T16:34:12.757Z"
   },
   {
    "duration": 5,
    "start_time": "2024-12-06T16:34:12.772Z"
   },
   {
    "duration": 9,
    "start_time": "2024-12-06T16:34:12.778Z"
   },
   {
    "duration": 3,
    "start_time": "2024-12-06T16:34:12.788Z"
   },
   {
    "duration": 3,
    "start_time": "2024-12-06T16:34:12.792Z"
   },
   {
    "duration": 3160,
    "start_time": "2024-12-06T16:34:12.797Z"
   },
   {
    "duration": 3,
    "start_time": "2024-12-06T16:34:15.959Z"
   },
   {
    "duration": 20,
    "start_time": "2024-12-06T16:34:15.963Z"
   },
   {
    "duration": 19,
    "start_time": "2024-12-06T16:34:15.985Z"
   },
   {
    "duration": 793186,
    "start_time": "2024-12-06T16:34:16.005Z"
   },
   {
    "duration": 8,
    "start_time": "2024-12-06T16:47:29.193Z"
   },
   {
    "duration": 46,
    "start_time": "2024-12-06T16:47:29.202Z"
   },
   {
    "duration": 199,
    "start_time": "2024-12-06T16:47:29.249Z"
   },
   {
    "duration": 2,
    "start_time": "2024-12-06T16:47:29.449Z"
   },
   {
    "duration": 92,
    "start_time": "2024-12-06T16:47:29.455Z"
   },
   {
    "duration": 4683,
    "start_time": "2024-12-06T16:47:29.549Z"
   },
   {
    "duration": 361,
    "start_time": "2024-12-06T16:47:34.234Z"
   },
   {
    "duration": 44,
    "start_time": "2024-12-06T16:47:34.597Z"
   },
   {
    "duration": 21,
    "start_time": "2024-12-06T16:47:34.643Z"
   },
   {
    "duration": 36,
    "start_time": "2024-12-06T16:47:34.666Z"
   },
   {
    "duration": 29,
    "start_time": "2024-12-06T16:47:34.704Z"
   },
   {
    "duration": 4901,
    "start_time": "2024-12-06T16:47:34.734Z"
   },
   {
    "duration": 511,
    "start_time": "2024-12-06T16:47:39.637Z"
   },
   {
    "duration": 6,
    "start_time": "2024-12-06T16:47:40.149Z"
   },
   {
    "duration": 15,
    "start_time": "2024-12-06T16:47:40.156Z"
   },
   {
    "duration": 27,
    "start_time": "2024-12-06T16:47:40.173Z"
   },
   {
    "duration": 7,
    "start_time": "2024-12-06T16:47:40.202Z"
   },
   {
    "duration": 25,
    "start_time": "2024-12-06T16:47:40.210Z"
   },
   {
    "duration": 16,
    "start_time": "2024-12-06T16:47:40.237Z"
   },
   {
    "duration": 11,
    "start_time": "2024-12-06T16:47:40.254Z"
   },
   {
    "duration": 18,
    "start_time": "2024-12-06T16:47:40.266Z"
   },
   {
    "duration": 14632,
    "start_time": "2024-12-06T16:47:40.285Z"
   },
   {
    "duration": 0,
    "start_time": "2024-12-06T16:47:54.919Z"
   },
   {
    "duration": 0,
    "start_time": "2024-12-06T16:47:54.924Z"
   },
   {
    "duration": 0,
    "start_time": "2024-12-06T16:47:54.925Z"
   },
   {
    "duration": 0,
    "start_time": "2024-12-06T16:47:54.926Z"
   },
   {
    "duration": 0,
    "start_time": "2024-12-06T16:47:54.926Z"
   },
   {
    "duration": 0,
    "start_time": "2024-12-06T16:47:54.934Z"
   },
   {
    "duration": 0,
    "start_time": "2024-12-06T16:47:54.935Z"
   },
   {
    "duration": 0,
    "start_time": "2024-12-06T16:47:54.937Z"
   },
   {
    "duration": 0,
    "start_time": "2024-12-06T16:47:54.938Z"
   },
   {
    "duration": 0,
    "start_time": "2024-12-06T16:47:54.938Z"
   },
   {
    "duration": 0,
    "start_time": "2024-12-06T16:47:54.939Z"
   },
   {
    "duration": 0,
    "start_time": "2024-12-06T16:47:54.940Z"
   },
   {
    "duration": 0,
    "start_time": "2024-12-06T16:47:54.941Z"
   },
   {
    "duration": 0,
    "start_time": "2024-12-06T16:47:54.943Z"
   },
   {
    "duration": 0,
    "start_time": "2024-12-06T16:47:54.944Z"
   },
   {
    "duration": 0,
    "start_time": "2024-12-06T16:47:54.945Z"
   },
   {
    "duration": 0,
    "start_time": "2024-12-06T16:47:54.946Z"
   },
   {
    "duration": 0,
    "start_time": "2024-12-06T16:47:54.947Z"
   },
   {
    "duration": 0,
    "start_time": "2024-12-06T16:47:54.948Z"
   },
   {
    "duration": 0,
    "start_time": "2024-12-06T16:47:54.949Z"
   },
   {
    "duration": 0,
    "start_time": "2024-12-06T16:47:54.950Z"
   },
   {
    "duration": 0,
    "start_time": "2024-12-06T16:47:54.951Z"
   },
   {
    "duration": 0,
    "start_time": "2024-12-06T16:47:54.951Z"
   },
   {
    "duration": 0,
    "start_time": "2024-12-06T16:47:54.953Z"
   },
   {
    "duration": 0,
    "start_time": "2024-12-06T16:47:54.954Z"
   },
   {
    "duration": 0,
    "start_time": "2024-12-06T16:47:54.955Z"
   },
   {
    "duration": 0,
    "start_time": "2024-12-06T16:47:54.956Z"
   },
   {
    "duration": 0,
    "start_time": "2024-12-06T16:47:54.957Z"
   },
   {
    "duration": 0,
    "start_time": "2024-12-06T16:47:54.962Z"
   },
   {
    "duration": 21,
    "start_time": "2024-12-06T16:47:59.934Z"
   },
   {
    "duration": 3,
    "start_time": "2024-12-06T16:48:05.993Z"
   },
   {
    "duration": 192,
    "start_time": "2024-12-06T16:48:06.240Z"
   },
   {
    "duration": 8,
    "start_time": "2024-12-06T16:48:09.151Z"
   },
   {
    "duration": 2,
    "start_time": "2024-12-06T16:48:09.751Z"
   },
   {
    "duration": 186,
    "start_time": "2024-12-06T16:48:09.880Z"
   },
   {
    "duration": 3,
    "start_time": "2024-12-06T16:48:10.306Z"
   },
   {
    "duration": 3,
    "start_time": "2024-12-06T16:48:10.672Z"
   },
   {
    "duration": 5,
    "start_time": "2024-12-06T16:48:10.831Z"
   },
   {
    "duration": 2,
    "start_time": "2024-12-06T16:48:10.960Z"
   },
   {
    "duration": 3,
    "start_time": "2024-12-06T16:48:11.134Z"
   },
   {
    "duration": 6,
    "start_time": "2024-12-06T16:48:11.321Z"
   },
   {
    "duration": 3,
    "start_time": "2024-12-06T16:48:11.622Z"
   },
   {
    "duration": 19,
    "start_time": "2024-12-06T16:48:11.880Z"
   },
   {
    "duration": 23,
    "start_time": "2024-12-06T16:48:27.532Z"
   },
   {
    "duration": 99757,
    "start_time": "2024-12-06T16:49:25.189Z"
   },
   {
    "duration": 3,
    "start_time": "2024-12-06T16:51:10.259Z"
   },
   {
    "duration": 1162,
    "start_time": "2024-12-06T16:51:20.256Z"
   },
   {
    "duration": 75,
    "start_time": "2024-12-06T16:52:15.658Z"
   },
   {
    "duration": 6,
    "start_time": "2024-12-06T16:52:23.320Z"
   },
   {
    "duration": 1236,
    "start_time": "2024-12-06T16:52:26.383Z"
   },
   {
    "duration": 1157,
    "start_time": "2024-12-06T16:52:55.910Z"
   },
   {
    "duration": 12,
    "start_time": "2024-12-06T16:53:06.655Z"
   },
   {
    "duration": 4,
    "start_time": "2024-12-06T16:53:20.657Z"
   },
   {
    "duration": 5,
    "start_time": "2024-12-06T16:53:23.408Z"
   },
   {
    "duration": 3,
    "start_time": "2024-12-06T16:53:26.700Z"
   },
   {
    "duration": 3,
    "start_time": "2024-12-06T16:53:28.907Z"
   },
   {
    "duration": 2,
    "start_time": "2024-12-06T16:53:30.935Z"
   },
   {
    "duration": 4,
    "start_time": "2024-12-06T16:53:32.129Z"
   },
   {
    "duration": 26,
    "start_time": "2024-12-06T16:53:34.493Z"
   },
   {
    "duration": 1208,
    "start_time": "2024-12-06T16:53:35.537Z"
   },
   {
    "duration": 21,
    "start_time": "2024-12-06T16:55:40.985Z"
   },
   {
    "duration": 25,
    "start_time": "2024-12-06T16:56:08.866Z"
   },
   {
    "duration": 3,
    "start_time": "2024-12-06T16:56:09.271Z"
   },
   {
    "duration": 4,
    "start_time": "2024-12-06T16:56:10.906Z"
   },
   {
    "duration": 2,
    "start_time": "2024-12-06T16:56:11.354Z"
   },
   {
    "duration": 5,
    "start_time": "2024-12-06T16:56:11.637Z"
   },
   {
    "duration": 5,
    "start_time": "2024-12-06T16:56:12.034Z"
   },
   {
    "duration": 6,
    "start_time": "2024-12-06T16:56:12.334Z"
   },
   {
    "duration": 36,
    "start_time": "2024-12-06T16:56:12.621Z"
   },
   {
    "duration": 96,
    "start_time": "2024-12-06T16:56:12.879Z"
   },
   {
    "duration": 4315,
    "start_time": "2024-12-06T16:56:15.335Z"
   },
   {
    "duration": 27,
    "start_time": "2024-12-06T16:56:28.729Z"
   },
   {
    "duration": 3,
    "start_time": "2024-12-06T16:56:47.185Z"
   },
   {
    "duration": 0,
    "start_time": "2024-12-06T16:58:13.536Z"
   },
   {
    "duration": 0,
    "start_time": "2024-12-06T16:58:13.537Z"
   },
   {
    "duration": 0,
    "start_time": "2024-12-06T16:58:13.539Z"
   },
   {
    "duration": 5,
    "start_time": "2024-12-06T16:58:15.604Z"
   },
   {
    "duration": 2,
    "start_time": "2024-12-06T16:58:16.834Z"
   },
   {
    "duration": 11,
    "start_time": "2024-12-06T16:58:17.219Z"
   },
   {
    "duration": 2,
    "start_time": "2024-12-06T16:58:17.590Z"
   },
   {
    "duration": 3,
    "start_time": "2024-12-06T16:58:18.045Z"
   },
   {
    "duration": 22,
    "start_time": "2024-12-06T16:58:18.490Z"
   },
   {
    "duration": 69,
    "start_time": "2024-12-06T16:58:19.133Z"
   },
   {
    "duration": 4040,
    "start_time": "2024-12-06T16:58:20.036Z"
   },
   {
    "duration": 7,
    "start_time": "2024-12-06T16:58:25.919Z"
   },
   {
    "duration": 94128,
    "start_time": "2024-12-06T16:58:26.420Z"
   },
   {
    "duration": 828974,
    "start_time": "2024-12-06T17:00:10.516Z"
   },
   {
    "duration": 4,
    "start_time": "2024-12-06T17:14:16.334Z"
   },
   {
    "duration": 2,
    "start_time": "2024-12-06T17:14:41.440Z"
   },
   {
    "duration": 201,
    "start_time": "2024-12-06T17:14:46.442Z"
   },
   {
    "duration": 56,
    "start_time": "2024-12-06T17:15:12.299Z"
   },
   {
    "duration": 4,
    "start_time": "2024-12-06T17:16:19.038Z"
   },
   {
    "duration": 167,
    "start_time": "2024-12-06T17:16:19.781Z"
   },
   {
    "duration": 0,
    "start_time": "2024-12-06T17:17:47.465Z"
   },
   {
    "duration": 19,
    "start_time": "2024-12-06T17:17:48.735Z"
   },
   {
    "duration": 14,
    "start_time": "2024-12-06T17:17:57.181Z"
   },
   {
    "duration": 57,
    "start_time": "2024-12-06T17:18:09.861Z"
   },
   {
    "duration": 13,
    "start_time": "2024-12-06T17:18:13.435Z"
   },
   {
    "duration": 61,
    "start_time": "2024-12-06T17:18:25.824Z"
   },
   {
    "duration": 20,
    "start_time": "2024-12-06T17:18:33.066Z"
   },
   {
    "duration": 19,
    "start_time": "2024-12-06T17:18:42.323Z"
   },
   {
    "duration": 124,
    "start_time": "2024-12-06T17:18:47.298Z"
   },
   {
    "duration": 9,
    "start_time": "2024-12-06T17:18:51.768Z"
   },
   {
    "duration": 6,
    "start_time": "2024-12-06T17:19:48.566Z"
   },
   {
    "duration": 6,
    "start_time": "2024-12-06T17:19:51.668Z"
   },
   {
    "duration": 7,
    "start_time": "2024-12-06T17:19:52.034Z"
   },
   {
    "duration": 115095,
    "start_time": "2024-12-06T17:21:11.237Z"
   },
   {
    "duration": 0,
    "start_time": "2024-12-06T17:23:06.334Z"
   },
   {
    "duration": 0,
    "start_time": "2024-12-06T17:23:06.335Z"
   },
   {
    "duration": 164,
    "start_time": "2024-12-06T17:23:12.574Z"
   },
   {
    "duration": 14,
    "start_time": "2024-12-06T17:23:16.785Z"
   },
   {
    "duration": 6,
    "start_time": "2024-12-06T17:23:17.545Z"
   },
   {
    "duration": 7,
    "start_time": "2024-12-06T17:23:18.213Z"
   },
   {
    "duration": 3,
    "start_time": "2024-12-06T17:23:31.726Z"
   },
   {
    "duration": 4,
    "start_time": "2024-12-06T17:23:32.190Z"
   },
   {
    "duration": 5,
    "start_time": "2024-12-06T17:23:32.624Z"
   },
   {
    "duration": 3,
    "start_time": "2024-12-06T17:23:33.044Z"
   },
   {
    "duration": 4,
    "start_time": "2024-12-06T17:23:33.429Z"
   },
   {
    "duration": 3,
    "start_time": "2024-12-06T17:23:33.953Z"
   },
   {
    "duration": 3,
    "start_time": "2024-12-06T17:23:34.340Z"
   },
   {
    "duration": 21,
    "start_time": "2024-12-06T17:23:34.746Z"
   },
   {
    "duration": 77,
    "start_time": "2024-12-06T17:23:35.141Z"
   },
   {
    "duration": 3648,
    "start_time": "2024-12-06T17:23:35.681Z"
   },
   {
    "duration": 3,
    "start_time": "2024-12-06T17:23:40.710Z"
   },
   {
    "duration": 3,
    "start_time": "2024-12-06T17:23:41.093Z"
   },
   {
    "duration": 22,
    "start_time": "2024-12-06T17:23:41.640Z"
   },
   {
    "duration": 3,
    "start_time": "2024-12-06T17:24:24.148Z"
   },
   {
    "duration": 21,
    "start_time": "2024-12-06T17:24:24.630Z"
   },
   {
    "duration": 2,
    "start_time": "2024-12-06T17:24:27.822Z"
   },
   {
    "duration": 3,
    "start_time": "2024-12-06T17:24:28.191Z"
   },
   {
    "duration": 4,
    "start_time": "2024-12-06T17:24:28.717Z"
   },
   {
    "duration": 5,
    "start_time": "2024-12-06T17:24:29.310Z"
   },
   {
    "duration": 3,
    "start_time": "2024-12-06T17:24:29.761Z"
   },
   {
    "duration": 4,
    "start_time": "2024-12-06T17:24:30.141Z"
   },
   {
    "duration": 3,
    "start_time": "2024-12-06T17:24:30.527Z"
   },
   {
    "duration": 3,
    "start_time": "2024-12-06T17:24:30.977Z"
   },
   {
    "duration": 21,
    "start_time": "2024-12-06T17:24:31.321Z"
   },
   {
    "duration": 64,
    "start_time": "2024-12-06T17:24:31.696Z"
   },
   {
    "duration": 3557,
    "start_time": "2024-12-06T17:24:32.155Z"
   },
   {
    "duration": 8,
    "start_time": "2024-12-06T17:24:35.713Z"
   },
   {
    "duration": 4,
    "start_time": "2024-12-06T17:24:39.178Z"
   },
   {
    "duration": 20,
    "start_time": "2024-12-06T17:24:39.885Z"
   },
   {
    "duration": 3722,
    "start_time": "2024-12-06T17:24:54.499Z"
   },
   {
    "duration": 3,
    "start_time": "2024-12-06T17:24:59.476Z"
   },
   {
    "duration": 2,
    "start_time": "2024-12-06T17:24:59.838Z"
   },
   {
    "duration": 4,
    "start_time": "2024-12-06T17:25:00.084Z"
   },
   {
    "duration": 4,
    "start_time": "2024-12-06T17:25:00.333Z"
   },
   {
    "duration": 2,
    "start_time": "2024-12-06T17:25:00.730Z"
   },
   {
    "duration": 3,
    "start_time": "2024-12-06T17:25:01.334Z"
   },
   {
    "duration": 2,
    "start_time": "2024-12-06T17:25:01.821Z"
   },
   {
    "duration": 4,
    "start_time": "2024-12-06T17:25:02.327Z"
   },
   {
    "duration": 22,
    "start_time": "2024-12-06T17:25:03.048Z"
   },
   {
    "duration": 64,
    "start_time": "2024-12-06T17:25:05.006Z"
   },
   {
    "duration": 3784,
    "start_time": "2024-12-06T17:25:06.062Z"
   },
   {
    "duration": 2,
    "start_time": "2024-12-06T17:25:11.498Z"
   },
   {
    "duration": 3,
    "start_time": "2024-12-06T17:25:12.243Z"
   },
   {
    "duration": 19,
    "start_time": "2024-12-06T17:25:12.559Z"
   },
   {
    "duration": 3,
    "start_time": "2024-12-06T17:25:38.541Z"
   },
   {
    "duration": 18,
    "start_time": "2024-12-06T17:25:38.898Z"
   },
   {
    "duration": 4,
    "start_time": "2024-12-06T17:25:39.234Z"
   },
   {
    "duration": 19,
    "start_time": "2024-12-06T17:25:52.237Z"
   },
   {
    "duration": 4,
    "start_time": "2024-12-06T17:25:59.483Z"
   },
   {
    "duration": 4,
    "start_time": "2024-12-06T17:26:00.372Z"
   },
   {
    "duration": 5130,
    "start_time": "2024-12-06T17:26:06.977Z"
   },
   {
    "duration": 4,
    "start_time": "2024-12-06T17:26:12.109Z"
   },
   {
    "duration": 895,
    "start_time": "2024-12-06T17:26:12.114Z"
   },
   {
    "duration": 17,
    "start_time": "2024-12-06T17:26:13.010Z"
   },
   {
    "duration": 32,
    "start_time": "2024-12-06T17:26:13.029Z"
   },
   {
    "duration": 46,
    "start_time": "2024-12-06T17:26:13.063Z"
   },
   {
    "duration": 14,
    "start_time": "2024-12-06T17:26:13.111Z"
   },
   {
    "duration": 221,
    "start_time": "2024-12-06T17:26:13.127Z"
   },
   {
    "duration": 15,
    "start_time": "2024-12-06T17:26:13.349Z"
   },
   {
    "duration": 89,
    "start_time": "2024-12-06T17:26:13.365Z"
   },
   {
    "duration": 10,
    "start_time": "2024-12-06T17:26:13.456Z"
   },
   {
    "duration": 4,
    "start_time": "2024-12-06T17:26:13.467Z"
   },
   {
    "duration": 4,
    "start_time": "2024-12-06T17:26:13.472Z"
   },
   {
    "duration": 2,
    "start_time": "2024-12-06T17:26:13.479Z"
   },
   {
    "duration": 3,
    "start_time": "2024-12-06T17:26:13.483Z"
   },
   {
    "duration": 30,
    "start_time": "2024-12-06T17:26:13.487Z"
   },
   {
    "duration": 3,
    "start_time": "2024-12-06T17:26:13.519Z"
   },
   {
    "duration": 4,
    "start_time": "2024-12-06T17:26:13.523Z"
   },
   {
    "duration": 3128,
    "start_time": "2024-12-06T17:26:13.528Z"
   },
   {
    "duration": 3,
    "start_time": "2024-12-06T17:26:16.658Z"
   },
   {
    "duration": 5,
    "start_time": "2024-12-06T17:26:16.662Z"
   },
   {
    "duration": 5,
    "start_time": "2024-12-06T17:26:16.669Z"
   },
   {
    "duration": 718646,
    "start_time": "2024-12-06T17:26:16.676Z"
   },
   {
    "duration": 8,
    "start_time": "2024-12-06T17:38:15.324Z"
   },
   {
    "duration": 41,
    "start_time": "2024-12-06T17:38:15.333Z"
   },
   {
    "duration": 204,
    "start_time": "2024-12-06T17:38:15.376Z"
   },
   {
    "duration": 2,
    "start_time": "2024-12-06T17:38:15.582Z"
   },
   {
    "duration": 9,
    "start_time": "2024-12-06T17:38:15.631Z"
   },
   {
    "duration": 3,
    "start_time": "2024-12-06T17:38:15.641Z"
   },
   {
    "duration": 4,
    "start_time": "2024-12-06T17:38:15.645Z"
   },
   {
    "duration": 13,
    "start_time": "2024-12-06T17:38:15.650Z"
   },
   {
    "duration": 4,
    "start_time": "2024-12-06T17:38:15.664Z"
   },
   {
    "duration": 58,
    "start_time": "2024-12-06T17:38:15.669Z"
   },
   {
    "duration": 64,
    "start_time": "2024-12-06T17:38:15.728Z"
   },
   {
    "duration": 4529,
    "start_time": "2024-12-06T17:38:15.793Z"
   },
   {
    "duration": 3,
    "start_time": "2024-12-06T17:38:20.325Z"
   },
   {
    "duration": 31,
    "start_time": "2024-12-06T17:38:20.330Z"
   },
   {
    "duration": 354,
    "start_time": "2024-12-06T17:38:20.363Z"
   },
   {
    "duration": 0,
    "start_time": "2024-12-06T17:38:20.719Z"
   },
   {
    "duration": 0,
    "start_time": "2024-12-06T17:38:20.721Z"
   },
   {
    "duration": 0,
    "start_time": "2024-12-06T17:38:20.722Z"
   },
   {
    "duration": 0,
    "start_time": "2024-12-06T17:38:20.723Z"
   },
   {
    "duration": 0,
    "start_time": "2024-12-06T17:38:20.724Z"
   },
   {
    "duration": 0,
    "start_time": "2024-12-06T17:38:20.725Z"
   },
   {
    "duration": 0,
    "start_time": "2024-12-06T17:38:20.726Z"
   },
   {
    "duration": 0,
    "start_time": "2024-12-06T17:38:20.727Z"
   },
   {
    "duration": 0,
    "start_time": "2024-12-06T17:38:20.728Z"
   },
   {
    "duration": 0,
    "start_time": "2024-12-06T17:38:20.729Z"
   },
   {
    "duration": 0,
    "start_time": "2024-12-06T17:38:20.729Z"
   },
   {
    "duration": 0,
    "start_time": "2024-12-06T17:38:20.730Z"
   },
   {
    "duration": 0,
    "start_time": "2024-12-06T17:38:20.731Z"
   },
   {
    "duration": 0,
    "start_time": "2024-12-06T17:38:20.732Z"
   },
   {
    "duration": 0,
    "start_time": "2024-12-06T17:38:20.733Z"
   },
   {
    "duration": 0,
    "start_time": "2024-12-06T17:38:20.734Z"
   },
   {
    "duration": 0,
    "start_time": "2024-12-06T17:38:20.735Z"
   },
   {
    "duration": 0,
    "start_time": "2024-12-06T17:38:20.737Z"
   },
   {
    "duration": 0,
    "start_time": "2024-12-06T17:38:20.738Z"
   },
   {
    "duration": 0,
    "start_time": "2024-12-06T17:38:20.739Z"
   },
   {
    "duration": 0,
    "start_time": "2024-12-06T17:38:20.740Z"
   },
   {
    "duration": 0,
    "start_time": "2024-12-06T17:38:20.741Z"
   },
   {
    "duration": 0,
    "start_time": "2024-12-06T17:38:20.742Z"
   },
   {
    "duration": 0,
    "start_time": "2024-12-06T17:38:20.743Z"
   },
   {
    "duration": 0,
    "start_time": "2024-12-06T17:38:20.744Z"
   },
   {
    "duration": 0,
    "start_time": "2024-12-06T17:38:20.745Z"
   },
   {
    "duration": 0,
    "start_time": "2024-12-06T17:38:20.746Z"
   },
   {
    "duration": 0,
    "start_time": "2024-12-06T17:38:20.747Z"
   },
   {
    "duration": 0,
    "start_time": "2024-12-06T17:38:20.748Z"
   },
   {
    "duration": 0,
    "start_time": "2024-12-06T17:38:20.749Z"
   },
   {
    "duration": 0,
    "start_time": "2024-12-06T17:38:20.750Z"
   },
   {
    "duration": 0,
    "start_time": "2024-12-06T17:38:20.751Z"
   },
   {
    "duration": 0,
    "start_time": "2024-12-06T17:38:20.753Z"
   },
   {
    "duration": 0,
    "start_time": "2024-12-06T17:38:20.753Z"
   },
   {
    "duration": 0,
    "start_time": "2024-12-06T17:38:20.754Z"
   },
   {
    "duration": 0,
    "start_time": "2024-12-06T17:38:20.755Z"
   },
   {
    "duration": 62,
    "start_time": "2024-12-06T17:38:23.997Z"
   },
   {
    "duration": 3,
    "start_time": "2024-12-06T17:38:40.707Z"
   },
   {
    "duration": 5,
    "start_time": "2024-12-06T17:38:43.307Z"
   },
   {
    "duration": 2,
    "start_time": "2024-12-06T17:38:43.750Z"
   },
   {
    "duration": 3,
    "start_time": "2024-12-06T17:38:44.085Z"
   },
   {
    "duration": 2,
    "start_time": "2024-12-06T17:38:44.470Z"
   },
   {
    "duration": 3,
    "start_time": "2024-12-06T17:38:44.850Z"
   },
   {
    "duration": 22,
    "start_time": "2024-12-06T17:38:45.547Z"
   },
   {
    "duration": 70,
    "start_time": "2024-12-06T17:38:46.086Z"
   },
   {
    "duration": 4496,
    "start_time": "2024-12-06T17:38:46.465Z"
   },
   {
    "duration": 2,
    "start_time": "2024-12-06T17:38:50.963Z"
   },
   {
    "duration": 8,
    "start_time": "2024-12-06T17:38:50.966Z"
   },
   {
    "duration": 22,
    "start_time": "2024-12-06T17:38:53.339Z"
   },
   {
    "duration": 60,
    "start_time": "2024-12-06T17:40:36.550Z"
   },
   {
    "duration": 3,
    "start_time": "2024-12-06T17:40:40.531Z"
   },
   {
    "duration": 5,
    "start_time": "2024-12-06T17:40:41.847Z"
   },
   {
    "duration": 3,
    "start_time": "2024-12-06T17:40:42.155Z"
   },
   {
    "duration": 3,
    "start_time": "2024-12-06T17:40:42.411Z"
   },
   {
    "duration": 3,
    "start_time": "2024-12-06T17:40:42.677Z"
   },
   {
    "duration": 3,
    "start_time": "2024-12-06T17:40:43.027Z"
   },
   {
    "duration": 20,
    "start_time": "2024-12-06T17:40:43.459Z"
   },
   {
    "duration": 70,
    "start_time": "2024-12-06T17:40:43.935Z"
   },
   {
    "duration": 4374,
    "start_time": "2024-12-06T17:40:44.626Z"
   },
   {
    "duration": 3,
    "start_time": "2024-12-06T17:40:49.002Z"
   },
   {
    "duration": 4,
    "start_time": "2024-12-06T17:40:51.788Z"
   },
   {
    "duration": 21,
    "start_time": "2024-12-06T17:40:52.513Z"
   },
   {
    "duration": 77,
    "start_time": "2024-12-06T17:41:18.880Z"
   },
   {
    "duration": 4313,
    "start_time": "2024-12-06T17:41:19.954Z"
   },
   {
    "duration": 346,
    "start_time": "2024-12-06T17:41:56.631Z"
   },
   {
    "duration": 31,
    "start_time": "2024-12-06T17:42:00.592Z"
   },
   {
    "duration": 23,
    "start_time": "2024-12-06T17:42:01.679Z"
   },
   {
    "duration": 36,
    "start_time": "2024-12-06T17:42:02.534Z"
   },
   {
    "duration": 2,
    "start_time": "2024-12-06T17:42:04.625Z"
   },
   {
    "duration": 4769,
    "start_time": "2024-12-06T17:42:05.632Z"
   },
   {
    "duration": 499,
    "start_time": "2024-12-06T17:42:10.403Z"
   },
   {
    "duration": 5,
    "start_time": "2024-12-06T17:42:16.122Z"
   },
   {
    "duration": 5,
    "start_time": "2024-12-06T17:42:17.306Z"
   },
   {
    "duration": 3,
    "start_time": "2024-12-06T17:42:19.094Z"
   },
   {
    "duration": 3,
    "start_time": "2024-12-06T17:42:29.811Z"
   },
   {
    "duration": 3,
    "start_time": "2024-12-06T17:42:30.350Z"
   },
   {
    "duration": 5028,
    "start_time": "2024-12-06T17:45:48.849Z"
   },
   {
    "duration": 4,
    "start_time": "2024-12-06T17:45:53.878Z"
   },
   {
    "duration": 896,
    "start_time": "2024-12-06T17:45:53.884Z"
   },
   {
    "duration": 9,
    "start_time": "2024-12-06T17:45:54.781Z"
   },
   {
    "duration": 44,
    "start_time": "2024-12-06T17:45:54.792Z"
   },
   {
    "duration": 7,
    "start_time": "2024-12-06T17:45:54.837Z"
   },
   {
    "duration": 32,
    "start_time": "2024-12-06T17:45:54.846Z"
   },
   {
    "duration": 253,
    "start_time": "2024-12-06T17:45:54.880Z"
   },
   {
    "duration": 16,
    "start_time": "2024-12-06T17:45:55.134Z"
   },
   {
    "duration": 57,
    "start_time": "2024-12-06T17:45:55.151Z"
   },
   {
    "duration": 20,
    "start_time": "2024-12-06T17:45:55.210Z"
   },
   {
    "duration": 12,
    "start_time": "2024-12-06T17:45:55.231Z"
   },
   {
    "duration": 16,
    "start_time": "2024-12-06T17:45:55.244Z"
   },
   {
    "duration": 30,
    "start_time": "2024-12-06T17:45:55.263Z"
   },
   {
    "duration": 24,
    "start_time": "2024-12-06T17:45:55.294Z"
   },
   {
    "duration": 15,
    "start_time": "2024-12-06T17:45:55.320Z"
   },
   {
    "duration": 42,
    "start_time": "2024-12-06T17:45:55.336Z"
   },
   {
    "duration": 21,
    "start_time": "2024-12-06T17:45:55.380Z"
   },
   {
    "duration": 3173,
    "start_time": "2024-12-06T17:45:55.403Z"
   },
   {
    "duration": 3,
    "start_time": "2024-12-06T17:45:58.578Z"
   },
   {
    "duration": 9,
    "start_time": "2024-12-06T17:45:58.583Z"
   },
   {
    "duration": 4,
    "start_time": "2024-12-06T17:45:58.594Z"
   },
   {
    "duration": 750641,
    "start_time": "2024-12-06T17:45:58.599Z"
   },
   {
    "duration": 7,
    "start_time": "2024-12-06T17:58:29.242Z"
   },
   {
    "duration": 27,
    "start_time": "2024-12-06T17:58:29.251Z"
   },
   {
    "duration": 217,
    "start_time": "2024-12-06T17:58:29.279Z"
   },
   {
    "duration": 2,
    "start_time": "2024-12-06T17:58:29.497Z"
   },
   {
    "duration": 85,
    "start_time": "2024-12-06T17:58:29.501Z"
   },
   {
    "duration": 4779,
    "start_time": "2024-12-06T17:58:29.587Z"
   },
   {
    "duration": 364,
    "start_time": "2024-12-06T17:58:34.368Z"
   },
   {
    "duration": 27,
    "start_time": "2024-12-06T17:58:34.734Z"
   },
   {
    "duration": 21,
    "start_time": "2024-12-06T17:58:34.762Z"
   },
   {
    "duration": 57,
    "start_time": "2024-12-06T17:58:34.785Z"
   },
   {
    "duration": 4,
    "start_time": "2024-12-06T17:58:34.844Z"
   },
   {
    "duration": 5144,
    "start_time": "2024-12-06T17:58:34.850Z"
   },
   {
    "duration": 563,
    "start_time": "2024-12-06T17:58:39.995Z"
   },
   {
    "duration": 6,
    "start_time": "2024-12-06T17:58:40.559Z"
   },
   {
    "duration": 33,
    "start_time": "2024-12-06T17:58:40.566Z"
   },
   {
    "duration": 8,
    "start_time": "2024-12-06T17:58:40.600Z"
   },
   {
    "duration": 374,
    "start_time": "2024-12-06T17:58:40.609Z"
   },
   {
    "duration": 0,
    "start_time": "2024-12-06T17:58:40.984Z"
   },
   {
    "duration": 0,
    "start_time": "2024-12-06T17:58:40.986Z"
   },
   {
    "duration": 0,
    "start_time": "2024-12-06T17:58:40.987Z"
   },
   {
    "duration": 0,
    "start_time": "2024-12-06T17:58:40.988Z"
   },
   {
    "duration": 0,
    "start_time": "2024-12-06T17:58:40.989Z"
   },
   {
    "duration": 0,
    "start_time": "2024-12-06T17:58:40.990Z"
   },
   {
    "duration": 0,
    "start_time": "2024-12-06T17:58:40.991Z"
   },
   {
    "duration": 0,
    "start_time": "2024-12-06T17:58:40.991Z"
   },
   {
    "duration": 0,
    "start_time": "2024-12-06T17:58:40.993Z"
   },
   {
    "duration": 0,
    "start_time": "2024-12-06T18:02:11.568Z"
   },
   {
    "duration": 0,
    "start_time": "2024-12-06T18:02:11.569Z"
   },
   {
    "duration": 0,
    "start_time": "2024-12-06T18:02:11.576Z"
   },
   {
    "duration": 0,
    "start_time": "2024-12-06T18:02:11.578Z"
   },
   {
    "duration": 3,
    "start_time": "2024-12-06T18:02:14.077Z"
   },
   {
    "duration": 3,
    "start_time": "2024-12-06T18:02:14.673Z"
   },
   {
    "duration": 0,
    "start_time": "2024-12-06T18:04:43.465Z"
   },
   {
    "duration": 0,
    "start_time": "2024-12-06T18:04:43.477Z"
   },
   {
    "duration": 0,
    "start_time": "2024-12-06T18:04:43.478Z"
   },
   {
    "duration": 0,
    "start_time": "2024-12-06T18:04:43.480Z"
   },
   {
    "duration": 3,
    "start_time": "2024-12-06T18:04:43.525Z"
   },
   {
    "duration": 3903,
    "start_time": "2024-12-06T18:04:44.475Z"
   },
   {
    "duration": 520,
    "start_time": "2024-12-06T18:04:48.381Z"
   },
   {
    "duration": 5,
    "start_time": "2024-12-06T18:04:50.068Z"
   },
   {
    "duration": 3,
    "start_time": "2024-12-06T18:04:50.876Z"
   },
   {
    "duration": 3,
    "start_time": "2024-12-06T18:04:51.371Z"
   },
   {
    "duration": 17,
    "start_time": "2024-12-06T18:04:52.431Z"
   },
   {
    "duration": 18,
    "start_time": "2024-12-06T18:05:05.309Z"
   },
   {
    "duration": 18,
    "start_time": "2024-12-06T18:05:10.295Z"
   },
   {
    "duration": 61,
    "start_time": "2024-12-06T18:05:36.874Z"
   },
   {
    "duration": 57,
    "start_time": "2024-12-06T18:05:40.878Z"
   },
   {
    "duration": 3,
    "start_time": "2024-12-06T18:05:44.819Z"
   },
   {
    "duration": 21,
    "start_time": "2024-12-06T18:06:25.184Z"
   },
   {
    "duration": 7,
    "start_time": "2024-12-06T18:06:41.295Z"
   },
   {
    "duration": 17,
    "start_time": "2024-12-06T18:06:53.577Z"
   },
   {
    "duration": 7,
    "start_time": "2024-12-06T18:06:58.049Z"
   },
   {
    "duration": 19,
    "start_time": "2024-12-06T18:07:03.466Z"
   },
   {
    "duration": 16,
    "start_time": "2024-12-06T18:07:33.038Z"
   },
   {
    "duration": 3,
    "start_time": "2024-12-06T18:07:41.493Z"
   },
   {
    "duration": 3,
    "start_time": "2024-12-06T18:07:45.783Z"
   },
   {
    "duration": 19,
    "start_time": "2024-12-06T18:08:00.559Z"
   },
   {
    "duration": 30,
    "start_time": "2024-12-06T18:08:22.131Z"
   },
   {
    "duration": 3,
    "start_time": "2024-12-06T18:08:35.604Z"
   },
   {
    "duration": 55857,
    "start_time": "2024-12-06T18:08:42.606Z"
   },
   {
    "duration": 0,
    "start_time": "2024-12-06T18:09:38.466Z"
   },
   {
    "duration": 0,
    "start_time": "2024-12-06T18:09:38.467Z"
   },
   {
    "duration": 0,
    "start_time": "2024-12-06T18:09:38.470Z"
   },
   {
    "duration": 4,
    "start_time": "2024-12-06T18:09:40.526Z"
   },
   {
    "duration": 183344,
    "start_time": "2024-12-06T18:09:41.197Z"
   },
   {
    "duration": 9,
    "start_time": "2024-12-06T18:12:48.193Z"
   },
   {
    "duration": 3,
    "start_time": "2024-12-06T18:12:56.996Z"
   },
   {
    "duration": 3,
    "start_time": "2024-12-06T18:12:57.693Z"
   },
   {
    "duration": 0,
    "start_time": "2024-12-06T18:14:34.459Z"
   },
   {
    "duration": 0,
    "start_time": "2024-12-06T18:14:34.460Z"
   },
   {
    "duration": 0,
    "start_time": "2024-12-06T18:14:34.462Z"
   },
   {
    "duration": 3,
    "start_time": "2024-12-06T18:14:39.741Z"
   },
   {
    "duration": 3,
    "start_time": "2024-12-06T18:14:40.117Z"
   },
   {
    "duration": 58300,
    "start_time": "2024-12-06T18:14:41.802Z"
   },
   {
    "duration": 8,
    "start_time": "2024-12-06T18:15:57.356Z"
   },
   {
    "duration": 30,
    "start_time": "2024-12-06T18:16:24.135Z"
   },
   {
    "duration": 162135,
    "start_time": "2024-12-06T18:16:24.931Z"
   },
   {
    "duration": 0,
    "start_time": "2024-12-06T18:19:07.068Z"
   },
   {
    "duration": 5,
    "start_time": "2024-12-06T18:19:12.230Z"
   },
   {
    "duration": 58,
    "start_time": "2024-12-06T18:19:13.199Z"
   },
   {
    "duration": 3,
    "start_time": "2024-12-06T18:19:33.898Z"
   },
   {
    "duration": 3,
    "start_time": "2024-12-06T18:19:34.842Z"
   },
   {
    "duration": 87589,
    "start_time": "2024-12-06T18:19:35.470Z"
   },
   {
    "duration": 0,
    "start_time": "2024-12-06T18:21:03.060Z"
   },
   {
    "duration": 88013,
    "start_time": "2024-12-06T18:21:05.545Z"
   },
   {
    "duration": 3,
    "start_time": "2024-12-06T18:23:47.653Z"
   },
   {
    "duration": 3,
    "start_time": "2024-12-06T18:23:48.514Z"
   },
   {
    "duration": 0,
    "start_time": "2024-12-06T18:25:56.663Z"
   },
   {
    "duration": 0,
    "start_time": "2024-12-06T18:25:56.665Z"
   },
   {
    "duration": 0,
    "start_time": "2024-12-06T18:25:56.665Z"
   },
   {
    "duration": 0,
    "start_time": "2024-12-06T18:25:56.666Z"
   },
   {
    "duration": 0,
    "start_time": "2024-12-06T18:25:56.667Z"
   },
   {
    "duration": 5,
    "start_time": "2024-12-06T18:25:58.265Z"
   },
   {
    "duration": 4,
    "start_time": "2024-12-06T18:25:59.324Z"
   },
   {
    "duration": 3,
    "start_time": "2024-12-06T18:26:02.372Z"
   },
   {
    "duration": 188220,
    "start_time": "2024-12-06T18:26:03.226Z"
   },
   {
    "duration": 8,
    "start_time": "2024-12-06T18:29:11.448Z"
   },
   {
    "duration": 2,
    "start_time": "2024-12-06T18:29:11.458Z"
   },
   {
    "duration": 3,
    "start_time": "2024-12-06T18:29:11.462Z"
   },
   {
    "duration": 55278,
    "start_time": "2024-12-06T18:29:11.466Z"
   },
   {
    "duration": 7,
    "start_time": "2024-12-06T18:30:06.745Z"
   },
   {
    "duration": 13,
    "start_time": "2024-12-06T18:30:06.753Z"
   },
   {
    "duration": 5141,
    "start_time": "2024-12-07T13:12:59.235Z"
   },
   {
    "duration": 4,
    "start_time": "2024-12-07T13:13:04.377Z"
   },
   {
    "duration": 3736,
    "start_time": "2024-12-07T13:13:04.382Z"
   },
   {
    "duration": 9,
    "start_time": "2024-12-07T13:13:08.119Z"
   },
   {
    "duration": 28,
    "start_time": "2024-12-07T13:13:08.129Z"
   },
   {
    "duration": 3,
    "start_time": "2024-12-07T13:13:08.159Z"
   },
   {
    "duration": 8,
    "start_time": "2024-12-07T13:13:08.163Z"
   },
   {
    "duration": 223,
    "start_time": "2024-12-07T13:13:08.172Z"
   },
   {
    "duration": 13,
    "start_time": "2024-12-07T13:13:08.396Z"
   },
   {
    "duration": 18,
    "start_time": "2024-12-07T13:13:08.411Z"
   },
   {
    "duration": 3,
    "start_time": "2024-12-07T13:13:08.430Z"
   },
   {
    "duration": 3,
    "start_time": "2024-12-07T13:13:08.434Z"
   },
   {
    "duration": 11,
    "start_time": "2024-12-07T13:13:08.438Z"
   },
   {
    "duration": 20,
    "start_time": "2024-12-07T13:13:08.451Z"
   },
   {
    "duration": 3,
    "start_time": "2024-12-07T13:13:08.473Z"
   },
   {
    "duration": 4,
    "start_time": "2024-12-07T13:13:08.477Z"
   },
   {
    "duration": 5,
    "start_time": "2024-12-07T13:13:08.482Z"
   },
   {
    "duration": 3,
    "start_time": "2024-12-07T13:13:08.488Z"
   },
   {
    "duration": 6961,
    "start_time": "2024-12-07T13:13:08.492Z"
   },
   {
    "duration": 2,
    "start_time": "2024-12-07T13:13:15.455Z"
   },
   {
    "duration": 22,
    "start_time": "2024-12-07T13:13:15.459Z"
   },
   {
    "duration": 4,
    "start_time": "2024-12-07T13:13:15.482Z"
   },
   {
    "duration": 659838,
    "start_time": "2024-12-07T13:13:15.488Z"
   },
   {
    "duration": 6,
    "start_time": "2024-12-07T13:24:15.327Z"
   },
   {
    "duration": 93,
    "start_time": "2024-12-07T13:24:15.335Z"
   },
   {
    "duration": 211,
    "start_time": "2024-12-07T13:24:15.430Z"
   },
   {
    "duration": 2,
    "start_time": "2024-12-07T13:24:15.642Z"
   },
   {
    "duration": 63,
    "start_time": "2024-12-07T13:24:15.647Z"
   },
   {
    "duration": 3994,
    "start_time": "2024-12-07T13:24:15.711Z"
   },
   {
    "duration": 305,
    "start_time": "2024-12-07T13:24:19.706Z"
   },
   {
    "duration": 19,
    "start_time": "2024-12-07T13:24:20.012Z"
   },
   {
    "duration": 23,
    "start_time": "2024-12-07T13:24:20.033Z"
   },
   {
    "duration": 33,
    "start_time": "2024-12-07T13:24:20.057Z"
   },
   {
    "duration": 3,
    "start_time": "2024-12-07T13:24:20.091Z"
   },
   {
    "duration": 3881,
    "start_time": "2024-12-07T13:24:20.095Z"
   },
   {
    "duration": 469,
    "start_time": "2024-12-07T13:24:23.977Z"
   },
   {
    "duration": 5,
    "start_time": "2024-12-07T13:24:24.447Z"
   },
   {
    "duration": 17,
    "start_time": "2024-12-07T13:24:24.454Z"
   },
   {
    "duration": 3,
    "start_time": "2024-12-07T13:24:24.472Z"
   },
   {
    "duration": 143905,
    "start_time": "2024-12-07T13:24:24.476Z"
   },
   {
    "duration": 6,
    "start_time": "2024-12-07T13:26:48.383Z"
   },
   {
    "duration": 24,
    "start_time": "2024-12-07T13:26:48.391Z"
   },
   {
    "duration": 15,
    "start_time": "2024-12-07T13:26:48.417Z"
   },
   {
    "duration": 43914,
    "start_time": "2024-12-07T13:26:48.433Z"
   },
   {
    "duration": 6,
    "start_time": "2024-12-07T13:27:32.349Z"
   },
   {
    "duration": 29,
    "start_time": "2024-12-07T13:27:32.356Z"
   },
   {
    "duration": 212289,
    "start_time": "2024-12-07T13:27:32.386Z"
   },
   {
    "duration": 6,
    "start_time": "2024-12-07T13:31:04.677Z"
   },
   {
    "duration": 332,
    "start_time": "2024-12-07T13:36:52.797Z"
   },
   {
    "duration": 3,
    "start_time": "2024-12-07T13:37:07.213Z"
   },
   {
    "duration": 9092,
    "start_time": "2024-12-07T13:39:42.381Z"
   },
   {
    "duration": 9174,
    "start_time": "2024-12-07T13:41:13.616Z"
   },
   {
    "duration": 0,
    "start_time": "2024-12-07T13:42:44.655Z"
   },
   {
    "duration": 75217,
    "start_time": "2024-12-07T13:42:46.438Z"
   },
   {
    "duration": 3,
    "start_time": "2024-12-07T13:44:21.487Z"
   },
   {
    "duration": 14,
    "start_time": "2024-12-07T13:44:36.654Z"
   },
   {
    "duration": 3,
    "start_time": "2024-12-07T13:44:42.013Z"
   },
   {
    "duration": 2,
    "start_time": "2024-12-07T13:44:54.922Z"
   },
   {
    "duration": 3,
    "start_time": "2024-12-07T13:45:06.638Z"
   },
   {
    "duration": 3,
    "start_time": "2024-12-07T13:45:14.924Z"
   },
   {
    "duration": 3,
    "start_time": "2024-12-07T13:46:40.423Z"
   },
   {
    "duration": 11746,
    "start_time": "2024-12-07T13:46:41.587Z"
   },
   {
    "duration": 7,
    "start_time": "2024-12-07T13:47:01.266Z"
   },
   {
    "duration": 15,
    "start_time": "2024-12-07T13:47:53.161Z"
   },
   {
    "duration": 11335,
    "start_time": "2024-12-07T13:48:20.603Z"
   },
   {
    "duration": 11801,
    "start_time": "2024-12-07T13:48:37.478Z"
   },
   {
    "duration": 7,
    "start_time": "2024-12-07T13:49:12.153Z"
   },
   {
    "duration": 3,
    "start_time": "2024-12-07T13:54:10.814Z"
   },
   {
    "duration": 3,
    "start_time": "2024-12-07T13:54:42.070Z"
   },
   {
    "duration": 10995,
    "start_time": "2024-12-07T13:54:43.302Z"
   },
   {
    "duration": 35,
    "start_time": "2024-12-07T13:54:56.923Z"
   },
   {
    "duration": 4,
    "start_time": "2024-12-07T13:55:22.981Z"
   },
   {
    "duration": 3,
    "start_time": "2024-12-07T13:55:23.691Z"
   },
   {
    "duration": 11208,
    "start_time": "2024-12-07T13:55:25.789Z"
   },
   {
    "duration": 41,
    "start_time": "2024-12-07T13:55:36.999Z"
   },
   {
    "duration": 6,
    "start_time": "2024-12-07T13:55:47.369Z"
   },
   {
    "duration": 3,
    "start_time": "2024-12-07T13:55:54.329Z"
   },
   {
    "duration": 12121,
    "start_time": "2024-12-07T13:55:55.242Z"
   },
   {
    "duration": 11736,
    "start_time": "2024-12-07T13:56:10.014Z"
   },
   {
    "duration": 7,
    "start_time": "2024-12-07T13:56:26.486Z"
   },
   {
    "duration": 11177,
    "start_time": "2024-12-07T13:56:38.989Z"
   },
   {
    "duration": 12271,
    "start_time": "2024-12-07T13:56:59.150Z"
   },
   {
    "duration": 6,
    "start_time": "2024-12-07T13:57:16.110Z"
   },
   {
    "duration": 13,
    "start_time": "2024-12-07T13:57:46.952Z"
   },
   {
    "duration": 134153,
    "start_time": "2024-12-07T13:57:53.058Z"
   },
   {
    "duration": 0,
    "start_time": "2024-12-07T14:00:07.212Z"
   },
   {
    "duration": 0,
    "start_time": "2024-12-07T14:00:07.216Z"
   },
   {
    "duration": 3,
    "start_time": "2024-12-07T14:00:10.706Z"
   },
   {
    "duration": 3,
    "start_time": "2024-12-07T14:00:23.509Z"
   },
   {
    "duration": 71434,
    "start_time": "2024-12-07T14:00:25.766Z"
   },
   {
    "duration": 5,
    "start_time": "2024-12-07T14:01:51.749Z"
   },
   {
    "duration": 3,
    "start_time": "2024-12-07T14:01:52.423Z"
   },
   {
    "duration": 13270,
    "start_time": "2024-12-07T14:01:53.237Z"
   },
   {
    "duration": 3,
    "start_time": "2024-12-07T14:02:11.652Z"
   },
   {
    "duration": 2,
    "start_time": "2024-12-07T14:02:14.710Z"
   },
   {
    "duration": 2,
    "start_time": "2024-12-07T14:02:20.655Z"
   },
   {
    "duration": 4771,
    "start_time": "2024-12-07T14:02:36.372Z"
   },
   {
    "duration": 4,
    "start_time": "2024-12-07T14:02:41.144Z"
   },
   {
    "duration": 804,
    "start_time": "2024-12-07T14:02:41.149Z"
   },
   {
    "duration": 8,
    "start_time": "2024-12-07T14:02:41.955Z"
   },
   {
    "duration": 21,
    "start_time": "2024-12-07T14:02:41.971Z"
   },
   {
    "duration": 4,
    "start_time": "2024-12-07T14:02:41.994Z"
   },
   {
    "duration": 8,
    "start_time": "2024-12-07T14:02:42.000Z"
   },
   {
    "duration": 236,
    "start_time": "2024-12-07T14:02:42.010Z"
   },
   {
    "duration": 23,
    "start_time": "2024-12-07T14:02:42.248Z"
   },
   {
    "duration": 15,
    "start_time": "2024-12-07T14:02:42.274Z"
   },
   {
    "duration": 3,
    "start_time": "2024-12-07T14:02:42.291Z"
   },
   {
    "duration": 8,
    "start_time": "2024-12-07T14:02:42.295Z"
   },
   {
    "duration": 10,
    "start_time": "2024-12-07T14:02:42.304Z"
   },
   {
    "duration": 12,
    "start_time": "2024-12-07T14:02:42.315Z"
   },
   {
    "duration": 7,
    "start_time": "2024-12-07T14:02:42.329Z"
   },
   {
    "duration": 4,
    "start_time": "2024-12-07T14:02:42.337Z"
   },
   {
    "duration": 5,
    "start_time": "2024-12-07T14:02:42.343Z"
   },
   {
    "duration": 3,
    "start_time": "2024-12-07T14:02:42.349Z"
   },
   {
    "duration": 3120,
    "start_time": "2024-12-07T14:02:42.353Z"
   },
   {
    "duration": 3,
    "start_time": "2024-12-07T14:02:45.475Z"
   },
   {
    "duration": 20,
    "start_time": "2024-12-07T14:02:45.479Z"
   },
   {
    "duration": 4,
    "start_time": "2024-12-07T14:02:45.500Z"
   },
   {
    "duration": 657805,
    "start_time": "2024-12-07T14:02:45.505Z"
   },
   {
    "duration": 7,
    "start_time": "2024-12-07T14:13:43.311Z"
   },
   {
    "duration": 33,
    "start_time": "2024-12-07T14:13:43.319Z"
   },
   {
    "duration": 186,
    "start_time": "2024-12-07T14:13:43.354Z"
   },
   {
    "duration": 2,
    "start_time": "2024-12-07T14:13:43.541Z"
   },
   {
    "duration": 71,
    "start_time": "2024-12-07T14:13:43.546Z"
   },
   {
    "duration": 3831,
    "start_time": "2024-12-07T14:13:43.618Z"
   },
   {
    "duration": 296,
    "start_time": "2024-12-07T14:13:47.450Z"
   },
   {
    "duration": 27,
    "start_time": "2024-12-07T14:13:47.748Z"
   },
   {
    "duration": 13,
    "start_time": "2024-12-07T14:13:47.776Z"
   },
   {
    "duration": 26,
    "start_time": "2024-12-07T14:13:47.790Z"
   },
   {
    "duration": 2,
    "start_time": "2024-12-07T14:13:47.817Z"
   },
   {
    "duration": 3762,
    "start_time": "2024-12-07T14:13:47.820Z"
   },
   {
    "duration": 506,
    "start_time": "2024-12-07T14:13:51.583Z"
   },
   {
    "duration": 4,
    "start_time": "2024-12-07T14:13:52.091Z"
   },
   {
    "duration": 19,
    "start_time": "2024-12-07T14:13:52.096Z"
   },
   {
    "duration": 4,
    "start_time": "2024-12-07T14:13:52.116Z"
   },
   {
    "duration": 153961,
    "start_time": "2024-12-07T14:13:52.121Z"
   },
   {
    "duration": 6,
    "start_time": "2024-12-07T14:16:26.083Z"
   },
   {
    "duration": 8,
    "start_time": "2024-12-07T14:16:26.090Z"
   },
   {
    "duration": 5,
    "start_time": "2024-12-07T14:16:26.099Z"
   },
   {
    "duration": 50034,
    "start_time": "2024-12-07T14:16:26.106Z"
   },
   {
    "duration": 7,
    "start_time": "2024-12-07T14:17:16.141Z"
   },
   {
    "duration": 38,
    "start_time": "2024-12-07T14:17:16.149Z"
   },
   {
    "duration": 197791,
    "start_time": "2024-12-07T14:17:16.189Z"
   },
   {
    "duration": 8,
    "start_time": "2024-12-07T14:20:33.982Z"
   },
   {
    "duration": 58,
    "start_time": "2024-12-08T14:14:24.352Z"
   },
   {
    "duration": 5786,
    "start_time": "2024-12-08T14:14:30.064Z"
   },
   {
    "duration": 18,
    "start_time": "2024-12-08T14:14:35.852Z"
   },
   {
    "duration": 1248,
    "start_time": "2024-12-08T14:14:35.872Z"
   },
   {
    "duration": 11,
    "start_time": "2024-12-08T14:14:37.123Z"
   },
   {
    "duration": 55,
    "start_time": "2024-12-08T14:14:37.135Z"
   },
   {
    "duration": 15,
    "start_time": "2024-12-08T14:14:37.192Z"
   },
   {
    "duration": 13,
    "start_time": "2024-12-08T14:14:37.209Z"
   },
   {
    "duration": 211,
    "start_time": "2024-12-08T14:14:37.224Z"
   },
   {
    "duration": 15,
    "start_time": "2024-12-08T14:14:37.437Z"
   },
   {
    "duration": 38,
    "start_time": "2024-12-08T14:14:37.455Z"
   },
   {
    "duration": 87,
    "start_time": "2024-12-08T14:14:37.494Z"
   },
   {
    "duration": 9,
    "start_time": "2024-12-08T14:14:37.583Z"
   },
   {
    "duration": 5,
    "start_time": "2024-12-08T14:14:37.594Z"
   },
   {
    "duration": 3,
    "start_time": "2024-12-08T14:14:37.601Z"
   },
   {
    "duration": 4,
    "start_time": "2024-12-08T14:14:37.605Z"
   },
   {
    "duration": 5,
    "start_time": "2024-12-08T14:14:37.610Z"
   },
   {
    "duration": 9,
    "start_time": "2024-12-08T14:14:37.616Z"
   },
   {
    "duration": 4,
    "start_time": "2024-12-08T14:14:37.626Z"
   },
   {
    "duration": 7060,
    "start_time": "2024-12-08T14:14:37.631Z"
   },
   {
    "duration": 3,
    "start_time": "2024-12-08T14:14:44.693Z"
   },
   {
    "duration": 8,
    "start_time": "2024-12-08T14:14:44.698Z"
   },
   {
    "duration": 5,
    "start_time": "2024-12-08T14:14:44.707Z"
   },
   {
    "duration": 722458,
    "start_time": "2024-12-08T14:14:44.714Z"
   },
   {
    "duration": 8,
    "start_time": "2024-12-08T14:26:47.173Z"
   },
   {
    "duration": 34,
    "start_time": "2024-12-08T14:26:47.182Z"
   },
   {
    "duration": 210,
    "start_time": "2024-12-08T14:26:47.218Z"
   },
   {
    "duration": 3,
    "start_time": "2024-12-08T14:26:47.430Z"
   },
   {
    "duration": 82,
    "start_time": "2024-12-08T14:26:47.436Z"
   },
   {
    "duration": 4415,
    "start_time": "2024-12-08T14:26:47.520Z"
   },
   {
    "duration": 329,
    "start_time": "2024-12-08T14:26:51.937Z"
   },
   {
    "duration": 28,
    "start_time": "2024-12-08T14:26:52.268Z"
   },
   {
    "duration": 23,
    "start_time": "2024-12-08T14:26:52.298Z"
   },
   {
    "duration": 59,
    "start_time": "2024-12-08T14:26:52.322Z"
   },
   {
    "duration": 3,
    "start_time": "2024-12-08T14:26:52.383Z"
   },
   {
    "duration": 4624,
    "start_time": "2024-12-08T14:26:52.388Z"
   },
   {
    "duration": 514,
    "start_time": "2024-12-08T14:26:57.014Z"
   },
   {
    "duration": 5,
    "start_time": "2024-12-08T14:26:57.530Z"
   },
   {
    "duration": 48,
    "start_time": "2024-12-08T14:26:57.537Z"
   },
   {
    "duration": 8,
    "start_time": "2024-12-08T14:26:57.587Z"
   },
   {
    "duration": 201294,
    "start_time": "2024-12-08T14:26:57.596Z"
   },
   {
    "duration": 10,
    "start_time": "2024-12-08T14:30:18.892Z"
   },
   {
    "duration": 5,
    "start_time": "2024-12-08T14:30:18.903Z"
   },
   {
    "duration": 9,
    "start_time": "2024-12-08T14:30:18.910Z"
   },
   {
    "duration": 30777,
    "start_time": "2024-12-08T14:30:18.921Z"
   },
   {
    "duration": 0,
    "start_time": "2024-12-08T14:30:49.700Z"
   },
   {
    "duration": 0,
    "start_time": "2024-12-08T14:30:49.702Z"
   },
   {
    "duration": 0,
    "start_time": "2024-12-08T14:30:49.703Z"
   },
   {
    "duration": 0,
    "start_time": "2024-12-08T14:30:49.704Z"
   },
   {
    "duration": 3,
    "start_time": "2024-12-08T14:30:56.083Z"
   },
   {
    "duration": 5,
    "start_time": "2024-12-08T14:32:09.589Z"
   },
   {
    "duration": 6,
    "start_time": "2024-12-08T14:32:53.006Z"
   },
   {
    "duration": 20,
    "start_time": "2024-12-08T14:33:02.981Z"
   },
   {
    "duration": 50,
    "start_time": "2024-12-08T14:33:15.095Z"
   },
   {
    "duration": 7,
    "start_time": "2024-12-08T14:34:31.885Z"
   },
   {
    "duration": 102274,
    "start_time": "2024-12-08T14:34:32.144Z"
   },
   {
    "duration": 0,
    "start_time": "2024-12-08T14:36:14.422Z"
   },
   {
    "duration": 7,
    "start_time": "2024-12-08T14:36:21.810Z"
   },
   {
    "duration": 2,
    "start_time": "2024-12-08T14:36:22.266Z"
   },
   {
    "duration": 4979,
    "start_time": "2024-12-08T14:38:07.969Z"
   },
   {
    "duration": 4,
    "start_time": "2024-12-08T14:38:12.950Z"
   },
   {
    "duration": 826,
    "start_time": "2024-12-08T14:38:12.956Z"
   },
   {
    "duration": 9,
    "start_time": "2024-12-08T14:38:13.784Z"
   },
   {
    "duration": 30,
    "start_time": "2024-12-08T14:38:13.795Z"
   },
   {
    "duration": 5,
    "start_time": "2024-12-08T14:38:13.827Z"
   },
   {
    "duration": 19,
    "start_time": "2024-12-08T14:38:13.833Z"
   },
   {
    "duration": 231,
    "start_time": "2024-12-08T14:38:13.870Z"
   },
   {
    "duration": 15,
    "start_time": "2024-12-08T14:38:14.103Z"
   },
   {
    "duration": 27,
    "start_time": "2024-12-08T14:38:14.120Z"
   },
   {
    "duration": 22,
    "start_time": "2024-12-08T14:38:14.148Z"
   },
   {
    "duration": 16,
    "start_time": "2024-12-08T14:38:14.172Z"
   },
   {
    "duration": 4,
    "start_time": "2024-12-08T14:38:14.189Z"
   },
   {
    "duration": 2,
    "start_time": "2024-12-08T14:38:14.196Z"
   },
   {
    "duration": 4,
    "start_time": "2024-12-08T14:38:14.200Z"
   },
   {
    "duration": 4,
    "start_time": "2024-12-08T14:38:14.205Z"
   },
   {
    "duration": 3,
    "start_time": "2024-12-08T14:38:14.210Z"
   },
   {
    "duration": 2971,
    "start_time": "2024-12-08T14:38:14.215Z"
   },
   {
    "duration": 3,
    "start_time": "2024-12-08T14:38:17.189Z"
   },
   {
    "duration": 6,
    "start_time": "2024-12-08T14:38:17.193Z"
   },
   {
    "duration": 13,
    "start_time": "2024-12-08T14:38:17.200Z"
   },
   {
    "duration": 731802,
    "start_time": "2024-12-08T14:38:17.215Z"
   },
   {
    "duration": 8,
    "start_time": "2024-12-08T14:50:29.018Z"
   },
   {
    "duration": 58,
    "start_time": "2024-12-08T14:50:29.028Z"
   },
   {
    "duration": 199,
    "start_time": "2024-12-08T14:50:29.087Z"
   },
   {
    "duration": 3,
    "start_time": "2024-12-08T14:50:29.287Z"
   },
   {
    "duration": 82,
    "start_time": "2024-12-08T14:50:29.292Z"
   },
   {
    "duration": 4324,
    "start_time": "2024-12-08T14:50:29.376Z"
   },
   {
    "duration": 327,
    "start_time": "2024-12-08T14:50:33.702Z"
   },
   {
    "duration": 41,
    "start_time": "2024-12-08T14:50:34.030Z"
   },
   {
    "duration": 22,
    "start_time": "2024-12-08T14:50:34.073Z"
   },
   {
    "duration": 40,
    "start_time": "2024-12-08T14:50:34.097Z"
   },
   {
    "duration": 4,
    "start_time": "2024-12-08T14:50:34.139Z"
   },
   {
    "duration": 4574,
    "start_time": "2024-12-08T14:50:34.145Z"
   },
   {
    "duration": 485,
    "start_time": "2024-12-08T14:50:38.721Z"
   },
   {
    "duration": 7,
    "start_time": "2024-12-08T14:50:39.207Z"
   },
   {
    "duration": 12,
    "start_time": "2024-12-08T14:50:39.215Z"
   },
   {
    "duration": 209527,
    "start_time": "2024-12-08T14:50:39.228Z"
   },
   {
    "duration": 0,
    "start_time": "2024-12-08T14:54:08.757Z"
   },
   {
    "duration": 0,
    "start_time": "2024-12-08T14:54:08.758Z"
   },
   {
    "duration": 0,
    "start_time": "2024-12-08T14:54:08.759Z"
   },
   {
    "duration": 0,
    "start_time": "2024-12-08T14:54:08.760Z"
   },
   {
    "duration": 0,
    "start_time": "2024-12-08T14:54:08.769Z"
   },
   {
    "duration": 0,
    "start_time": "2024-12-08T14:54:08.770Z"
   },
   {
    "duration": 0,
    "start_time": "2024-12-08T14:54:08.770Z"
   },
   {
    "duration": 0,
    "start_time": "2024-12-08T14:54:08.772Z"
   },
   {
    "duration": 0,
    "start_time": "2024-12-08T14:54:08.773Z"
   },
   {
    "duration": 0,
    "start_time": "2024-12-08T14:54:08.774Z"
   },
   {
    "duration": 0,
    "start_time": "2024-12-08T14:54:08.775Z"
   },
   {
    "duration": 0,
    "start_time": "2024-12-08T14:54:08.777Z"
   },
   {
    "duration": 6,
    "start_time": "2024-12-08T14:55:27.381Z"
   },
   {
    "duration": 3,
    "start_time": "2024-12-08T14:55:27.999Z"
   },
   {
    "duration": 214768,
    "start_time": "2024-12-08T14:55:30.228Z"
   },
   {
    "duration": 3,
    "start_time": "2024-12-08T15:00:41.797Z"
   },
   {
    "duration": 3,
    "start_time": "2024-12-08T15:01:06.768Z"
   },
   {
    "duration": 3,
    "start_time": "2024-12-08T15:01:11.095Z"
   },
   {
    "duration": 3,
    "start_time": "2024-12-08T15:01:21.376Z"
   },
   {
    "duration": 91,
    "start_time": "2024-12-08T15:01:29.579Z"
   },
   {
    "duration": 3,
    "start_time": "2024-12-08T15:01:33.653Z"
   },
   {
    "duration": 4,
    "start_time": "2024-12-08T15:01:40.686Z"
   },
   {
    "duration": 3,
    "start_time": "2024-12-08T15:01:48.509Z"
   },
   {
    "duration": 3,
    "start_time": "2024-12-08T15:02:22.426Z"
   },
   {
    "duration": 4,
    "start_time": "2024-12-08T15:02:39.523Z"
   },
   {
    "duration": 3,
    "start_time": "2024-12-08T15:02:51.738Z"
   },
   {
    "duration": 4,
    "start_time": "2024-12-08T15:03:36.946Z"
   },
   {
    "duration": 27,
    "start_time": "2024-12-08T15:03:48.208Z"
   },
   {
    "duration": 19,
    "start_time": "2024-12-08T15:04:09.478Z"
   },
   {
    "duration": 3,
    "start_time": "2024-12-08T15:04:20.693Z"
   },
   {
    "duration": 3,
    "start_time": "2024-12-08T15:04:21.091Z"
   },
   {
    "duration": 22,
    "start_time": "2024-12-08T15:04:22.356Z"
   },
   {
    "duration": 190,
    "start_time": "2024-12-08T15:04:46.511Z"
   },
   {
    "duration": 21,
    "start_time": "2024-12-08T15:04:51.105Z"
   },
   {
    "duration": 3,
    "start_time": "2024-12-08T15:05:02.870Z"
   },
   {
    "duration": 5504,
    "start_time": "2024-12-08T15:10:06.529Z"
   },
   {
    "duration": 5,
    "start_time": "2024-12-08T15:10:12.035Z"
   },
   {
    "duration": 856,
    "start_time": "2024-12-08T15:10:12.041Z"
   },
   {
    "duration": 10,
    "start_time": "2024-12-08T15:10:12.899Z"
   },
   {
    "duration": 30,
    "start_time": "2024-12-08T15:10:12.911Z"
   },
   {
    "duration": 4,
    "start_time": "2024-12-08T15:10:12.942Z"
   },
   {
    "duration": 38,
    "start_time": "2024-12-08T15:10:12.948Z"
   },
   {
    "duration": 223,
    "start_time": "2024-12-08T15:10:12.988Z"
   },
   {
    "duration": 15,
    "start_time": "2024-12-08T15:10:13.213Z"
   },
   {
    "duration": 42,
    "start_time": "2024-12-08T15:10:13.229Z"
   },
   {
    "duration": 3,
    "start_time": "2024-12-08T15:10:13.273Z"
   },
   {
    "duration": 8,
    "start_time": "2024-12-08T15:10:13.277Z"
   },
   {
    "duration": 4,
    "start_time": "2024-12-08T15:10:13.286Z"
   },
   {
    "duration": 4,
    "start_time": "2024-12-08T15:10:13.293Z"
   },
   {
    "duration": 5,
    "start_time": "2024-12-08T15:10:13.298Z"
   },
   {
    "duration": 4,
    "start_time": "2024-12-08T15:10:13.304Z"
   },
   {
    "duration": 11,
    "start_time": "2024-12-08T15:10:13.309Z"
   },
   {
    "duration": 3129,
    "start_time": "2024-12-08T15:10:13.322Z"
   },
   {
    "duration": 4,
    "start_time": "2024-12-08T15:10:16.454Z"
   },
   {
    "duration": 18,
    "start_time": "2024-12-08T15:10:16.460Z"
   },
   {
    "duration": 6,
    "start_time": "2024-12-08T15:10:16.480Z"
   },
   {
    "duration": 708652,
    "start_time": "2024-12-08T15:10:16.488Z"
   },
   {
    "duration": 8,
    "start_time": "2024-12-08T15:22:05.142Z"
   },
   {
    "duration": 63,
    "start_time": "2024-12-08T15:22:05.152Z"
   },
   {
    "duration": 197,
    "start_time": "2024-12-08T15:22:05.217Z"
   },
   {
    "duration": 3,
    "start_time": "2024-12-08T15:22:05.416Z"
   },
   {
    "duration": 94,
    "start_time": "2024-12-08T15:22:05.420Z"
   },
   {
    "duration": 4621,
    "start_time": "2024-12-08T15:22:05.515Z"
   },
   {
    "duration": 374,
    "start_time": "2024-12-08T15:22:10.138Z"
   },
   {
    "duration": 27,
    "start_time": "2024-12-08T15:22:10.514Z"
   },
   {
    "duration": 45,
    "start_time": "2024-12-08T15:22:10.543Z"
   },
   {
    "duration": 37,
    "start_time": "2024-12-08T15:22:10.590Z"
   },
   {
    "duration": 3,
    "start_time": "2024-12-08T15:22:10.628Z"
   },
   {
    "duration": 4757,
    "start_time": "2024-12-08T15:22:10.633Z"
   },
   {
    "duration": 527,
    "start_time": "2024-12-08T15:22:15.391Z"
   },
   {
    "duration": 4,
    "start_time": "2024-12-08T15:22:15.919Z"
   },
   {
    "duration": 10,
    "start_time": "2024-12-08T15:22:15.924Z"
   },
   {
    "duration": 4,
    "start_time": "2024-12-08T15:22:15.936Z"
   },
   {
    "duration": 4,
    "start_time": "2024-12-08T15:22:15.942Z"
   },
   {
    "duration": 7,
    "start_time": "2024-12-08T15:22:15.947Z"
   },
   {
    "duration": 3,
    "start_time": "2024-12-08T15:22:15.973Z"
   },
   {
    "duration": 9,
    "start_time": "2024-12-08T15:22:15.978Z"
   },
   {
    "duration": 6,
    "start_time": "2024-12-08T15:22:15.988Z"
   },
   {
    "duration": 3,
    "start_time": "2024-12-08T15:22:15.996Z"
   },
   {
    "duration": 4,
    "start_time": "2024-12-08T15:22:16.001Z"
   },
   {
    "duration": 9,
    "start_time": "2024-12-08T15:22:16.006Z"
   },
   {
    "duration": 5,
    "start_time": "2024-12-08T15:22:16.017Z"
   },
   {
    "duration": 51,
    "start_time": "2024-12-08T15:22:16.023Z"
   },
   {
    "duration": 3,
    "start_time": "2024-12-08T15:22:16.075Z"
   },
   {
    "duration": 621116,
    "start_time": "2024-12-08T15:22:16.080Z"
   },
   {
    "duration": 7,
    "start_time": "2024-12-08T15:32:37.198Z"
   },
   {
    "duration": 32,
    "start_time": "2024-12-08T15:32:37.207Z"
   },
   {
    "duration": 7,
    "start_time": "2024-12-08T15:32:37.240Z"
   },
   {
    "duration": 31,
    "start_time": "2024-12-08T15:32:37.248Z"
   },
   {
    "duration": 215507,
    "start_time": "2024-12-08T15:32:37.281Z"
   },
   {
    "duration": 8,
    "start_time": "2024-12-08T15:36:12.790Z"
   },
   {
    "duration": 30,
    "start_time": "2024-12-08T15:36:12.800Z"
   },
   {
    "duration": 9,
    "start_time": "2024-12-08T15:36:12.831Z"
   },
   {
    "duration": 59850,
    "start_time": "2024-12-08T15:36:12.842Z"
   },
   {
    "duration": 9,
    "start_time": "2024-12-08T15:37:12.693Z"
   },
   {
    "duration": 48,
    "start_time": "2024-12-08T15:37:12.704Z"
   },
   {
    "duration": 48333,
    "start_time": "2024-12-08T15:37:12.754Z"
   },
   {
    "duration": 0,
    "start_time": "2024-12-08T15:38:01.089Z"
   },
   {
    "duration": 0,
    "start_time": "2024-12-08T15:38:01.090Z"
   },
   {
    "duration": 14,
    "start_time": "2024-12-08T15:38:04.545Z"
   },
   {
    "duration": 81,
    "start_time": "2024-12-08T15:38:21.863Z"
   },
   {
    "duration": 6,
    "start_time": "2024-12-08T15:38:25.557Z"
   },
   {
    "duration": 7,
    "start_time": "2024-12-08T15:38:29.497Z"
   },
   {
    "duration": 89,
    "start_time": "2024-12-08T15:41:15.877Z"
   },
   {
    "duration": 787,
    "start_time": "2024-12-08T15:42:20.451Z"
   },
   {
    "duration": 60501,
    "start_time": "2024-12-08T15:43:08.535Z"
   },
   {
    "duration": 4,
    "start_time": "2024-12-08T15:45:05.077Z"
   },
   {
    "duration": 285198,
    "start_time": "2024-12-08T15:54:31.307Z"
   },
   {
    "duration": 8,
    "start_time": "2024-12-08T15:59:16.507Z"
   },
   {
    "duration": 41109,
    "start_time": "2024-12-09T06:28:45.699Z"
   },
   {
    "duration": 41,
    "start_time": "2024-12-09T06:29:26.811Z"
   },
   {
    "duration": 5,
    "start_time": "2024-12-09T06:29:26.854Z"
   },
   {
    "duration": 1287,
    "start_time": "2024-12-09T06:29:26.861Z"
   },
   {
    "duration": 10,
    "start_time": "2024-12-09T06:29:28.150Z"
   },
   {
    "duration": 44,
    "start_time": "2024-12-09T06:29:28.162Z"
   },
   {
    "duration": 3,
    "start_time": "2024-12-09T06:29:28.208Z"
   },
   {
    "duration": 14,
    "start_time": "2024-12-09T06:29:28.213Z"
   },
   {
    "duration": 283,
    "start_time": "2024-12-09T06:29:28.228Z"
   },
   {
    "duration": 45,
    "start_time": "2024-12-09T06:29:28.513Z"
   },
   {
    "duration": 28,
    "start_time": "2024-12-09T06:29:28.560Z"
   },
   {
    "duration": 7,
    "start_time": "2024-12-09T06:29:28.590Z"
   },
   {
    "duration": 52,
    "start_time": "2024-12-09T06:29:28.599Z"
   },
   {
    "duration": 4,
    "start_time": "2024-12-09T06:29:28.654Z"
   },
   {
    "duration": 24,
    "start_time": "2024-12-09T06:29:28.660Z"
   },
   {
    "duration": 55,
    "start_time": "2024-12-09T06:29:28.686Z"
   },
   {
    "duration": 5,
    "start_time": "2024-12-09T06:29:28.743Z"
   },
   {
    "duration": 8358,
    "start_time": "2024-12-09T06:29:28.750Z"
   },
   {
    "duration": 4,
    "start_time": "2024-12-09T06:29:37.110Z"
   },
   {
    "duration": 18,
    "start_time": "2024-12-09T06:29:37.115Z"
   },
   {
    "duration": 160388,
    "start_time": "2024-12-09T06:29:37.135Z"
   },
   {
    "duration": 0,
    "start_time": "2024-12-09T06:32:17.525Z"
   },
   {
    "duration": 0,
    "start_time": "2024-12-09T06:32:17.526Z"
   },
   {
    "duration": 0,
    "start_time": "2024-12-09T06:32:17.527Z"
   },
   {
    "duration": 0,
    "start_time": "2024-12-09T06:32:17.528Z"
   },
   {
    "duration": 3,
    "start_time": "2024-12-09T06:32:19.211Z"
   },
   {
    "duration": 22,
    "start_time": "2024-12-09T06:32:25.094Z"
   },
   {
    "duration": 3,
    "start_time": "2024-12-09T06:32:27.953Z"
   },
   {
    "duration": 73,
    "start_time": "2024-12-09T06:32:30.866Z"
   },
   {
    "duration": 5933,
    "start_time": "2024-12-09T07:29:00.405Z"
   },
   {
    "duration": 31,
    "start_time": "2024-12-09T07:29:06.340Z"
   },
   {
    "duration": 5,
    "start_time": "2024-12-09T07:29:06.372Z"
   },
   {
    "duration": 1296,
    "start_time": "2024-12-09T07:29:06.379Z"
   },
   {
    "duration": 11,
    "start_time": "2024-12-09T07:29:07.677Z"
   },
   {
    "duration": 34,
    "start_time": "2024-12-09T07:29:07.690Z"
   },
   {
    "duration": 10,
    "start_time": "2024-12-09T07:29:07.726Z"
   },
   {
    "duration": 19,
    "start_time": "2024-12-09T07:29:07.738Z"
   },
   {
    "duration": 429,
    "start_time": "2024-12-09T07:29:07.759Z"
   },
   {
    "duration": 17,
    "start_time": "2024-12-09T07:29:08.191Z"
   },
   {
    "duration": 44,
    "start_time": "2024-12-09T07:29:08.210Z"
   },
   {
    "duration": 4,
    "start_time": "2024-12-09T07:29:08.255Z"
   },
   {
    "duration": 5,
    "start_time": "2024-12-09T07:29:08.260Z"
   },
   {
    "duration": 6,
    "start_time": "2024-12-09T07:29:08.266Z"
   },
   {
    "duration": 5,
    "start_time": "2024-12-09T07:29:08.274Z"
   },
   {
    "duration": 7,
    "start_time": "2024-12-09T07:29:08.281Z"
   },
   {
    "duration": 12,
    "start_time": "2024-12-09T07:29:08.290Z"
   },
   {
    "duration": 7438,
    "start_time": "2024-12-09T07:29:08.304Z"
   },
   {
    "duration": 4,
    "start_time": "2024-12-09T07:29:15.744Z"
   },
   {
    "duration": 82,
    "start_time": "2024-12-09T07:29:15.749Z"
   },
   {
    "duration": 753335,
    "start_time": "2024-12-09T07:29:15.832Z"
   },
   {
    "duration": 10,
    "start_time": "2024-12-09T07:41:49.168Z"
   },
   {
    "duration": 227,
    "start_time": "2024-12-09T07:41:49.180Z"
   },
   {
    "duration": 3,
    "start_time": "2024-12-09T07:41:49.408Z"
   },
   {
    "duration": 8760,
    "start_time": "2024-12-09T07:41:49.496Z"
   },
   {
    "duration": 380,
    "start_time": "2024-12-09T07:41:58.258Z"
   },
   {
    "duration": 39,
    "start_time": "2024-12-09T07:41:58.641Z"
   },
   {
    "duration": 54,
    "start_time": "2024-12-09T07:41:58.681Z"
   },
   {
    "duration": 41,
    "start_time": "2024-12-09T07:41:58.737Z"
   },
   {
    "duration": 3,
    "start_time": "2024-12-09T07:41:58.780Z"
   },
   {
    "duration": 4975,
    "start_time": "2024-12-09T07:41:58.785Z"
   },
   {
    "duration": 588,
    "start_time": "2024-12-09T07:42:03.762Z"
   },
   {
    "duration": 7,
    "start_time": "2024-12-09T07:42:04.351Z"
   },
   {
    "duration": 6,
    "start_time": "2024-12-09T07:42:04.360Z"
   },
   {
    "duration": 24,
    "start_time": "2024-12-09T07:42:04.367Z"
   },
   {
    "duration": 20297,
    "start_time": "2024-12-09T07:42:04.393Z"
   },
   {
    "duration": 0,
    "start_time": "2024-12-09T07:42:24.692Z"
   },
   {
    "duration": 0,
    "start_time": "2024-12-09T07:42:24.693Z"
   },
   {
    "duration": 0,
    "start_time": "2024-12-09T07:42:24.694Z"
   },
   {
    "duration": 0,
    "start_time": "2024-12-09T07:42:24.695Z"
   },
   {
    "duration": 0,
    "start_time": "2024-12-09T07:42:24.697Z"
   },
   {
    "duration": 0,
    "start_time": "2024-12-09T07:42:24.698Z"
   },
   {
    "duration": 0,
    "start_time": "2024-12-09T07:42:24.699Z"
   },
   {
    "duration": 0,
    "start_time": "2024-12-09T07:42:24.700Z"
   },
   {
    "duration": 0,
    "start_time": "2024-12-09T07:42:24.701Z"
   },
   {
    "duration": 3,
    "start_time": "2024-12-09T07:42:26.223Z"
   },
   {
    "duration": 8,
    "start_time": "2024-12-09T07:42:26.828Z"
   },
   {
    "duration": 85,
    "start_time": "2024-12-09T07:42:29.333Z"
   },
   {
    "duration": 4230,
    "start_time": "2024-12-09T07:42:31.613Z"
   },
   {
    "duration": 314,
    "start_time": "2024-12-09T07:42:38.096Z"
   },
   {
    "duration": 13,
    "start_time": "2024-12-09T07:42:38.600Z"
   },
   {
    "duration": 26,
    "start_time": "2024-12-09T07:42:40.674Z"
   },
   {
    "duration": 39,
    "start_time": "2024-12-09T07:42:41.607Z"
   },
   {
    "duration": 3,
    "start_time": "2024-12-09T07:42:42.580Z"
   },
   {
    "duration": 4112,
    "start_time": "2024-12-09T07:42:43.119Z"
   },
   {
    "duration": 528,
    "start_time": "2024-12-09T07:42:47.233Z"
   },
   {
    "duration": 6,
    "start_time": "2024-12-09T07:42:49.393Z"
   },
   {
    "duration": 3,
    "start_time": "2024-12-09T07:42:51.661Z"
   },
   {
    "duration": 3,
    "start_time": "2024-12-09T07:42:52.856Z"
   },
   {
    "duration": 199033,
    "start_time": "2024-12-09T07:42:54.752Z"
   },
   {
    "duration": 8,
    "start_time": "2024-12-09T07:48:10.448Z"
   },
   {
    "duration": 3,
    "start_time": "2024-12-09T07:48:19.850Z"
   },
   {
    "duration": 55140,
    "start_time": "2024-12-09T07:48:20.147Z"
   },
   {
    "duration": 9,
    "start_time": "2024-12-09T07:49:15.289Z"
   },
   {
    "duration": 5534,
    "start_time": "2024-12-09T08:05:40.922Z"
   },
   {
    "duration": 26,
    "start_time": "2024-12-09T08:05:46.458Z"
   },
   {
    "duration": 6,
    "start_time": "2024-12-09T08:05:46.486Z"
   },
   {
    "duration": 900,
    "start_time": "2024-12-09T08:05:46.494Z"
   },
   {
    "duration": 11,
    "start_time": "2024-12-09T08:05:47.395Z"
   },
   {
    "duration": 70,
    "start_time": "2024-12-09T08:05:47.407Z"
   },
   {
    "duration": 8,
    "start_time": "2024-12-09T08:05:47.478Z"
   },
   {
    "duration": 32,
    "start_time": "2024-12-09T08:05:47.488Z"
   },
   {
    "duration": 228,
    "start_time": "2024-12-09T08:05:47.522Z"
   },
   {
    "duration": 16,
    "start_time": "2024-12-09T08:05:47.752Z"
   },
   {
    "duration": 27,
    "start_time": "2024-12-09T08:05:47.770Z"
   },
   {
    "duration": 5,
    "start_time": "2024-12-09T08:05:47.798Z"
   },
   {
    "duration": 5,
    "start_time": "2024-12-09T08:05:47.805Z"
   },
   {
    "duration": 15,
    "start_time": "2024-12-09T08:05:47.811Z"
   },
   {
    "duration": 22,
    "start_time": "2024-12-09T08:05:47.828Z"
   },
   {
    "duration": 9,
    "start_time": "2024-12-09T08:05:47.851Z"
   },
   {
    "duration": 6,
    "start_time": "2024-12-09T08:05:47.862Z"
   },
   {
    "duration": 3391,
    "start_time": "2024-12-09T08:05:47.870Z"
   },
   {
    "duration": 4,
    "start_time": "2024-12-09T08:05:51.263Z"
   },
   {
    "duration": 20,
    "start_time": "2024-12-09T08:05:51.268Z"
   },
   {
    "duration": 771767,
    "start_time": "2024-12-09T08:05:51.290Z"
   },
   {
    "duration": 9,
    "start_time": "2024-12-09T08:18:43.058Z"
   },
   {
    "duration": 235,
    "start_time": "2024-12-09T08:18:43.068Z"
   },
   {
    "duration": 3,
    "start_time": "2024-12-09T08:18:43.305Z"
   },
   {
    "duration": 12,
    "start_time": "2024-12-09T08:18:43.309Z"
   },
   {
    "duration": 92,
    "start_time": "2024-12-09T08:18:43.322Z"
   },
   {
    "duration": 4936,
    "start_time": "2024-12-09T08:18:43.416Z"
   },
   {
    "duration": 403,
    "start_time": "2024-12-09T08:18:48.355Z"
   },
   {
    "duration": 32,
    "start_time": "2024-12-09T08:18:48.760Z"
   },
   {
    "duration": 25,
    "start_time": "2024-12-09T08:18:48.794Z"
   },
   {
    "duration": 62,
    "start_time": "2024-12-09T08:18:48.821Z"
   },
   {
    "duration": 4,
    "start_time": "2024-12-09T08:18:48.885Z"
   },
   {
    "duration": 5209,
    "start_time": "2024-12-09T08:18:48.891Z"
   },
   {
    "duration": 606,
    "start_time": "2024-12-09T08:18:54.102Z"
   },
   {
    "duration": 7,
    "start_time": "2024-12-09T08:18:54.710Z"
   },
   {
    "duration": 151,
    "start_time": "2024-12-09T08:18:54.718Z"
   },
   {
    "duration": 8,
    "start_time": "2024-12-09T08:18:54.872Z"
   },
   {
    "duration": 5523,
    "start_time": "2024-12-09T08:21:24.088Z"
   },
   {
    "duration": 25,
    "start_time": "2024-12-09T08:21:29.613Z"
   },
   {
    "duration": 12,
    "start_time": "2024-12-09T08:21:29.640Z"
   },
   {
    "duration": 898,
    "start_time": "2024-12-09T08:21:29.654Z"
   },
   {
    "duration": 11,
    "start_time": "2024-12-09T08:21:30.554Z"
   },
   {
    "duration": 43,
    "start_time": "2024-12-09T08:21:30.567Z"
   },
   {
    "duration": 18,
    "start_time": "2024-12-09T08:21:30.612Z"
   },
   {
    "duration": 19,
    "start_time": "2024-12-09T08:21:30.632Z"
   },
   {
    "duration": 235,
    "start_time": "2024-12-09T08:21:30.653Z"
   },
   {
    "duration": 17,
    "start_time": "2024-12-09T08:21:30.891Z"
   },
   {
    "duration": 41,
    "start_time": "2024-12-09T08:21:30.910Z"
   },
   {
    "duration": 9,
    "start_time": "2024-12-09T08:21:30.953Z"
   },
   {
    "duration": 7,
    "start_time": "2024-12-09T08:21:30.963Z"
   },
   {
    "duration": 66,
    "start_time": "2024-12-09T08:21:30.971Z"
   },
   {
    "duration": 19,
    "start_time": "2024-12-09T08:21:31.038Z"
   },
   {
    "duration": 7,
    "start_time": "2024-12-09T08:21:31.059Z"
   },
   {
    "duration": 14,
    "start_time": "2024-12-09T08:21:31.068Z"
   },
   {
    "duration": 3556,
    "start_time": "2024-12-09T08:21:31.084Z"
   },
   {
    "duration": 4,
    "start_time": "2024-12-09T08:21:34.642Z"
   },
   {
    "duration": 15,
    "start_time": "2024-12-09T08:21:34.647Z"
   },
   {
    "duration": 769136,
    "start_time": "2024-12-09T08:21:34.664Z"
   },
   {
    "duration": 8,
    "start_time": "2024-12-09T08:34:23.802Z"
   },
   {
    "duration": 228,
    "start_time": "2024-12-09T08:34:23.812Z"
   },
   {
    "duration": 3,
    "start_time": "2024-12-09T08:34:24.050Z"
   },
   {
    "duration": 74,
    "start_time": "2024-12-09T08:34:24.054Z"
   },
   {
    "duration": 86,
    "start_time": "2024-12-09T08:34:24.129Z"
   },
   {
    "duration": 4714,
    "start_time": "2024-12-09T08:34:24.217Z"
   },
   {
    "duration": 355,
    "start_time": "2024-12-09T08:34:28.935Z"
   },
   {
    "duration": 30,
    "start_time": "2024-12-09T08:34:29.292Z"
   },
   {
    "duration": 42,
    "start_time": "2024-12-09T08:34:29.324Z"
   },
   {
    "duration": 41,
    "start_time": "2024-12-09T08:34:29.368Z"
   },
   {
    "duration": 3,
    "start_time": "2024-12-09T08:34:29.411Z"
   },
   {
    "duration": 5055,
    "start_time": "2024-12-09T08:34:29.415Z"
   },
   {
    "duration": 609,
    "start_time": "2024-12-09T08:34:34.472Z"
   },
   {
    "duration": 7,
    "start_time": "2024-12-09T08:34:35.083Z"
   },
   {
    "duration": 14,
    "start_time": "2024-12-09T08:34:35.092Z"
   },
   {
    "duration": 44,
    "start_time": "2024-12-09T08:34:35.108Z"
   },
   {
    "duration": 215025,
    "start_time": "2024-12-09T08:34:35.154Z"
   },
   {
    "duration": 9,
    "start_time": "2024-12-09T08:38:10.180Z"
   },
   {
    "duration": 7,
    "start_time": "2024-12-09T08:38:10.191Z"
   },
   {
    "duration": 63126,
    "start_time": "2024-12-09T08:38:10.200Z"
   },
   {
    "duration": 9,
    "start_time": "2024-12-09T08:39:13.328Z"
   },
   {
    "duration": 308248,
    "start_time": "2024-12-09T08:39:13.350Z"
   },
   {
    "duration": 9,
    "start_time": "2024-12-09T08:44:21.601Z"
   },
   {
    "duration": 38,
    "start_time": "2024-12-09T10:11:24.812Z"
   },
   {
    "duration": 5937,
    "start_time": "2024-12-09T10:11:33.051Z"
   },
   {
    "duration": 31,
    "start_time": "2024-12-09T10:11:38.991Z"
   },
   {
    "duration": 4,
    "start_time": "2024-12-09T10:11:39.024Z"
   },
   {
    "duration": 937,
    "start_time": "2024-12-09T10:11:39.030Z"
   },
   {
    "duration": 11,
    "start_time": "2024-12-09T10:11:39.970Z"
   },
   {
    "duration": 38,
    "start_time": "2024-12-09T10:11:39.983Z"
   },
   {
    "duration": 4,
    "start_time": "2024-12-09T10:11:40.023Z"
   },
   {
    "duration": 31,
    "start_time": "2024-12-09T10:11:40.028Z"
   },
   {
    "duration": 262,
    "start_time": "2024-12-09T10:11:40.061Z"
   },
   {
    "duration": 25,
    "start_time": "2024-12-09T10:11:40.325Z"
   },
   {
    "duration": 29,
    "start_time": "2024-12-09T10:11:40.351Z"
   },
   {
    "duration": 3,
    "start_time": "2024-12-09T10:11:40.382Z"
   },
   {
    "duration": 8,
    "start_time": "2024-12-09T10:11:40.386Z"
   },
   {
    "duration": 13,
    "start_time": "2024-12-09T10:11:40.398Z"
   },
   {
    "duration": 10,
    "start_time": "2024-12-09T10:11:40.413Z"
   },
   {
    "duration": 18,
    "start_time": "2024-12-09T10:11:40.424Z"
   },
   {
    "duration": 12,
    "start_time": "2024-12-09T10:11:40.444Z"
   },
   {
    "duration": 3131,
    "start_time": "2024-12-09T10:11:40.458Z"
   },
   {
    "duration": 4,
    "start_time": "2024-12-09T10:11:43.591Z"
   },
   {
    "duration": 13,
    "start_time": "2024-12-09T10:11:43.597Z"
   },
   {
    "duration": 769313,
    "start_time": "2024-12-09T10:11:43.612Z"
   },
   {
    "duration": 8,
    "start_time": "2024-12-09T10:24:32.927Z"
   },
   {
    "duration": 243,
    "start_time": "2024-12-09T10:24:32.936Z"
   },
   {
    "duration": 3,
    "start_time": "2024-12-09T10:24:33.180Z"
   },
   {
    "duration": 55,
    "start_time": "2024-12-09T10:24:33.184Z"
   },
   {
    "duration": 47,
    "start_time": "2024-12-09T10:24:33.241Z"
   },
   {
    "duration": 5092,
    "start_time": "2024-12-09T10:24:33.290Z"
   },
   {
    "duration": 394,
    "start_time": "2024-12-09T10:24:38.384Z"
   },
   {
    "duration": 31,
    "start_time": "2024-12-09T10:24:38.780Z"
   },
   {
    "duration": 44,
    "start_time": "2024-12-09T10:24:38.813Z"
   },
   {
    "duration": 43,
    "start_time": "2024-12-09T10:24:38.858Z"
   },
   {
    "duration": 3,
    "start_time": "2024-12-09T10:24:38.902Z"
   },
   {
    "duration": 5195,
    "start_time": "2024-12-09T10:24:38.907Z"
   },
   {
    "duration": 581,
    "start_time": "2024-12-09T10:24:44.104Z"
   },
   {
    "duration": 6,
    "start_time": "2024-12-09T10:24:44.687Z"
   },
   {
    "duration": 10,
    "start_time": "2024-12-09T10:24:44.695Z"
   },
   {
    "duration": 5,
    "start_time": "2024-12-09T10:24:44.707Z"
   },
   {
    "duration": 6113,
    "start_time": "2024-12-09T12:09:56.055Z"
   },
   {
    "duration": 25,
    "start_time": "2024-12-09T12:10:02.170Z"
   },
   {
    "duration": 25,
    "start_time": "2024-12-09T12:10:02.197Z"
   },
   {
    "duration": 3712,
    "start_time": "2024-12-09T12:10:02.224Z"
   },
   {
    "duration": 9,
    "start_time": "2024-12-09T12:10:05.937Z"
   },
   {
    "duration": 67,
    "start_time": "2024-12-09T12:10:05.948Z"
   },
   {
    "duration": 3,
    "start_time": "2024-12-09T12:10:06.016Z"
   },
   {
    "duration": 27,
    "start_time": "2024-12-09T12:10:06.020Z"
   },
   {
    "duration": 260,
    "start_time": "2024-12-09T12:10:06.049Z"
   },
   {
    "duration": 15,
    "start_time": "2024-12-09T12:10:06.311Z"
   },
   {
    "duration": 144,
    "start_time": "2024-12-09T12:10:06.327Z"
   },
   {
    "duration": 104,
    "start_time": "2024-12-09T12:10:06.472Z"
   },
   {
    "duration": 68,
    "start_time": "2024-12-09T12:10:06.578Z"
   },
   {
    "duration": 66,
    "start_time": "2024-12-09T12:10:06.647Z"
   },
   {
    "duration": 6,
    "start_time": "2024-12-09T12:10:06.714Z"
   },
   {
    "duration": 28,
    "start_time": "2024-12-09T12:10:06.721Z"
   },
   {
    "duration": 59,
    "start_time": "2024-12-09T12:10:06.750Z"
   },
   {
    "duration": 7383,
    "start_time": "2024-12-09T12:10:06.810Z"
   },
   {
    "duration": 3,
    "start_time": "2024-12-09T12:10:14.195Z"
   },
   {
    "duration": 9,
    "start_time": "2024-12-09T12:10:14.199Z"
   },
   {
    "duration": 706501,
    "start_time": "2024-12-09T12:10:14.209Z"
   },
   {
    "duration": 7,
    "start_time": "2024-12-09T12:22:00.712Z"
   },
   {
    "duration": 214,
    "start_time": "2024-12-09T12:22:00.720Z"
   },
   {
    "duration": 2,
    "start_time": "2024-12-09T12:22:00.935Z"
   },
   {
    "duration": 37,
    "start_time": "2024-12-09T12:22:00.939Z"
   },
   {
    "duration": 60,
    "start_time": "2024-12-09T12:22:00.977Z"
   },
   {
    "duration": 4332,
    "start_time": "2024-12-09T12:22:01.039Z"
   },
   {
    "duration": 326,
    "start_time": "2024-12-09T12:22:05.374Z"
   },
   {
    "duration": 22,
    "start_time": "2024-12-09T12:22:05.701Z"
   },
   {
    "duration": 29,
    "start_time": "2024-12-09T12:22:05.725Z"
   },
   {
    "duration": 54,
    "start_time": "2024-12-09T12:22:05.756Z"
   },
   {
    "duration": 16,
    "start_time": "2024-12-09T12:22:05.812Z"
   },
   {
    "duration": 3998,
    "start_time": "2024-12-09T12:22:05.830Z"
   },
   {
    "duration": 523,
    "start_time": "2024-12-09T12:22:09.830Z"
   },
   {
    "duration": 5,
    "start_time": "2024-12-09T12:22:10.355Z"
   },
   {
    "duration": 74,
    "start_time": "2024-12-09T12:22:10.362Z"
   },
   {
    "duration": 39,
    "start_time": "2024-12-09T12:22:10.438Z"
   },
   {
    "duration": 105591,
    "start_time": "2024-12-09T12:22:10.478Z"
   },
   {
    "duration": 7,
    "start_time": "2024-12-09T12:23:56.070Z"
   },
   {
    "duration": 17,
    "start_time": "2024-12-09T12:23:56.079Z"
   },
   {
    "duration": 61358,
    "start_time": "2024-12-09T12:23:56.098Z"
   },
   {
    "duration": 6,
    "start_time": "2024-12-09T12:24:57.458Z"
   },
   {
    "duration": 291826,
    "start_time": "2024-12-09T12:24:57.466Z"
   },
   {
    "duration": 7,
    "start_time": "2024-12-09T12:29:49.296Z"
   },
   {
    "duration": 5166,
    "start_time": "2024-12-09T15:30:28.699Z"
   },
   {
    "duration": 30,
    "start_time": "2024-12-09T15:30:33.867Z"
   },
   {
    "duration": 5,
    "start_time": "2024-12-09T15:30:33.900Z"
   },
   {
    "duration": 875,
    "start_time": "2024-12-09T15:30:33.907Z"
   },
   {
    "duration": 11,
    "start_time": "2024-12-09T15:30:34.784Z"
   },
   {
    "duration": 47,
    "start_time": "2024-12-09T15:30:34.796Z"
   },
   {
    "duration": 12,
    "start_time": "2024-12-09T15:30:34.845Z"
   },
   {
    "duration": 9,
    "start_time": "2024-12-09T15:30:34.859Z"
   },
   {
    "duration": 272,
    "start_time": "2024-12-09T15:30:34.870Z"
   },
   {
    "duration": 14,
    "start_time": "2024-12-09T15:30:35.144Z"
   },
   {
    "duration": 38,
    "start_time": "2024-12-09T15:30:35.159Z"
   },
   {
    "duration": 5,
    "start_time": "2024-12-09T15:30:35.199Z"
   },
   {
    "duration": 4,
    "start_time": "2024-12-09T15:30:35.205Z"
   },
   {
    "duration": 15,
    "start_time": "2024-12-09T15:30:35.212Z"
   },
   {
    "duration": 4,
    "start_time": "2024-12-09T15:30:35.229Z"
   },
   {
    "duration": 4,
    "start_time": "2024-12-09T15:30:35.235Z"
   },
   {
    "duration": 4,
    "start_time": "2024-12-09T15:30:35.240Z"
   },
   {
    "duration": 4638,
    "start_time": "2024-12-09T15:30:35.245Z"
   },
   {
    "duration": 13,
    "start_time": "2024-12-09T15:30:39.885Z"
   },
   {
    "duration": 5,
    "start_time": "2024-12-09T15:30:39.900Z"
   },
   {
    "duration": 715890,
    "start_time": "2024-12-09T15:30:39.907Z"
   },
   {
    "duration": 8,
    "start_time": "2024-12-09T15:42:35.800Z"
   },
   {
    "duration": 199,
    "start_time": "2024-12-09T15:42:35.810Z"
   },
   {
    "duration": 2,
    "start_time": "2024-12-09T15:42:36.011Z"
   },
   {
    "duration": 18,
    "start_time": "2024-12-09T15:42:36.014Z"
   },
   {
    "duration": 45,
    "start_time": "2024-12-09T15:42:36.033Z"
   },
   {
    "duration": 4131,
    "start_time": "2024-12-09T15:42:36.080Z"
   },
   {
    "duration": 318,
    "start_time": "2024-12-09T15:42:40.212Z"
   },
   {
    "duration": 22,
    "start_time": "2024-12-09T15:42:40.532Z"
   },
   {
    "duration": 16,
    "start_time": "2024-12-09T15:42:40.555Z"
   },
   {
    "duration": 31,
    "start_time": "2024-12-09T15:42:40.590Z"
   },
   {
    "duration": 3,
    "start_time": "2024-12-09T15:42:40.622Z"
   },
   {
    "duration": 4044,
    "start_time": "2024-12-09T15:42:40.626Z"
   },
   {
    "duration": 481,
    "start_time": "2024-12-09T15:42:44.672Z"
   },
   {
    "duration": 6,
    "start_time": "2024-12-09T15:42:45.154Z"
   },
   {
    "duration": 43,
    "start_time": "2024-12-09T15:42:45.161Z"
   },
   {
    "duration": 28,
    "start_time": "2024-12-09T15:42:45.206Z"
   },
   {
    "duration": 110563,
    "start_time": "2024-12-09T15:42:45.236Z"
   },
   {
    "duration": 6,
    "start_time": "2024-12-09T15:44:35.801Z"
   },
   {
    "duration": 18,
    "start_time": "2024-12-09T15:44:35.809Z"
   },
   {
    "duration": 66446,
    "start_time": "2024-12-09T15:44:35.830Z"
   },
   {
    "duration": 21,
    "start_time": "2024-12-09T15:45:42.277Z"
   },
   {
    "duration": 450133,
    "start_time": "2024-12-09T15:45:42.301Z"
   },
   {
    "duration": 8,
    "start_time": "2024-12-09T15:53:12.436Z"
   },
   {
    "duration": 120284,
    "start_time": "2024-12-09T15:53:12.446Z"
   },
   {
    "duration": 3,
    "start_time": "2024-12-09T15:57:39.887Z"
   },
   {
    "duration": 2,
    "start_time": "2024-12-09T15:57:49.518Z"
   },
   {
    "duration": 98,
    "start_time": "2024-12-09T15:58:07.811Z"
   },
   {
    "duration": 117699,
    "start_time": "2024-12-09T15:58:13.125Z"
   }
  ],
  "kernelspec": {
   "display_name": "Python 3 (ipykernel)",
   "language": "python",
   "name": "python3"
  },
  "language_info": {
   "codemirror_mode": {
    "name": "ipython",
    "version": 3
   },
   "file_extension": ".py",
   "mimetype": "text/x-python",
   "name": "python",
   "nbconvert_exporter": "python",
   "pygments_lexer": "ipython3",
   "version": "3.9.5"
  },
  "toc": {
   "base_numbering": 1,
   "nav_menu": {},
   "number_sections": true,
   "sideBar": true,
   "skip_h1_title": true,
   "title_cell": "Содержание",
   "title_sidebar": "Contents",
   "toc_cell": true,
   "toc_position": {
    "height": "calc(100% - 180px)",
    "left": "10px",
    "top": "150px",
    "width": "302.391px"
   },
   "toc_section_display": true,
   "toc_window_display": false
  }
 },
 "nbformat": 4,
 "nbformat_minor": 2
}

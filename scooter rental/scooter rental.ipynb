{
 "cells": [
  {
   "cell_type": "markdown",
   "id": "c1860ad0-e1e9-4b63-82b9-3c8ed16d092c",
   "metadata": {},
   "source": [
    "Проект: Статистический анализ данных \n",
    "В налчии имеются данные о некоторых пользователях из нескольких городов, а также об их поездках от сервиса аренды самокатов GoFast.\n",
    "Задачи:\n",
    "1. Загрузка данных\n",
    "2. Предобработка данных\n",
    "3. Исследовательский анализ данных\n",
    "4. Объединение данных\n",
    "5. Подтсчет выручки\n",
    "6. Проверка гипотез:\n",
    "а. Тратят ли пользователи с подпиской больше времени на поездки? Если да, то пользователи с подпиской могут быть «выгоднее» для компании. Проверьте гипотезу. Используйте исходные данные о продолжительности каждой сессии — отдельно для подписчиков и тех, у кого нет подписки.\n",
    "б. Расстояние одной поездки в 3130 метров — оптимальное с точки зрения износа самоката. Можно ли сказать, что среднее расстояние, которое проезжают пользователи с подпиской за одну поездку, не превышает 3130 метров? Необходимо проверить гипотезу и сделать выводы.\n",
    "в. Проверка гипотезы о том, будет ли помесячная выручка от пользователей с подпиской по месяцам выше, чем выручка от пользователей без подписки.\n",
    "г. Представим такую ситуацию: техническая команда сервиса обновила сервера, с которыми взаимодействует мобильное приложение. Она надеется, что из-за этого количество обращений в техподдержку значимо снизилось. Некоторый файл содержит для каждого пользователя данные о количестве обращений до обновления и после него. Какой тест вам понадобился бы для проверки этой гипотезы?"
   ]
  },
  {
   "cell_type": "markdown",
   "id": "5375e715",
   "metadata": {},
   "source": []
  },
  {
   "cell_type": "markdown",
   "id": "c7761850-e847-4454-a850-edff38be57cb",
   "metadata": {},
   "source": [
    "Шаг 1. Загрузка данных"
   ]
  },
  {
   "cell_type": "code",
   "execution_count": 1,
   "id": "9c00f041-0acc-458f-b24d-cddc4a976536",
   "metadata": {},
   "outputs": [],
   "source": [
    "#загрузим все необходимые библиотеки\n",
    "import pandas as pd\n",
    "import matplotlib.pyplot as plt\n",
    "import numpy as np\n",
    "from scipy import stats as st\n",
    "from scipy.stats import binom\n",
    "import seaborn as sns"
   ]
  },
  {
   "cell_type": "markdown",
   "id": "c1ab4b95",
   "metadata": {},
   "source": []
  },
  {
   "cell_type": "code",
   "execution_count": 2,
   "id": "41d66ba0-5083-4ae4-ac33-e61664ef977f",
   "metadata": {},
   "outputs": [],
   "source": [
    "#прочитаем все файлы и сохраним датафреймы в переменные\n",
    "try:\n",
    "    data_users = pd.read_csv('C:/Users/user/Downloads/users_go.csv')\n",
    "except:\n",
    "    data_users = pd.read_csv('https://code.s3.yandex.net/datasets/users_go.csv')"
   ]
  },
  {
   "cell_type": "code",
   "execution_count": 3,
   "id": "72641c5b-a760-4bc2-a06d-1c830bcbb9d0",
   "metadata": {},
   "outputs": [],
   "source": [
    "try:\n",
    "    rides_go_fast = pd.read_csv('C:/Users/user/Downloads/rides_go.csv')\n",
    "except:\n",
    "    rides_go_fast = pd.read_csv('https://code.s3.yandex.net/datasets/rides_go.csv')"
   ]
  },
  {
   "cell_type": "code",
   "execution_count": 4,
   "id": "8e53f30b-e722-44f6-b2b6-06cf8b25c7ee",
   "metadata": {},
   "outputs": [],
   "source": [
    "try:\n",
    "    subscriptions_go_fast = pd.read_csv('C:/Users/user/Downloads/subscriptions_go.csv')\n",
    "except:\n",
    "    subscriptions_go_fast = pd.read_csv('https://code.s3.yandex.net/datasets/subscriptions_go.csv')"
   ]
  },
  {
   "cell_type": "code",
   "execution_count": 5,
   "id": "8fd7dc81-f27c-44f2-84f0-b29d1ac27e6d",
   "metadata": {},
   "outputs": [],
   "source": [
    "#выведем первые строки каждого набора данных"
   ]
  },
  {
   "cell_type": "code",
   "execution_count": 6,
   "id": "efeed8c5-3c76-4b12-a83c-b58b8c204de7",
   "metadata": {},
   "outputs": [
    {
     "data": {
      "text/html": [
       "<div>\n",
       "<style scoped>\n",
       "    .dataframe tbody tr th:only-of-type {\n",
       "        vertical-align: middle;\n",
       "    }\n",
       "\n",
       "    .dataframe tbody tr th {\n",
       "        vertical-align: top;\n",
       "    }\n",
       "\n",
       "    .dataframe thead th {\n",
       "        text-align: right;\n",
       "    }\n",
       "</style>\n",
       "<table border=\"1\" class=\"dataframe\">\n",
       "  <thead>\n",
       "    <tr style=\"text-align: right;\">\n",
       "      <th></th>\n",
       "      <th>user_id</th>\n",
       "      <th>name</th>\n",
       "      <th>age</th>\n",
       "      <th>city</th>\n",
       "      <th>subscription_type</th>\n",
       "    </tr>\n",
       "  </thead>\n",
       "  <tbody>\n",
       "    <tr>\n",
       "      <th>0</th>\n",
       "      <td>1</td>\n",
       "      <td>Кира</td>\n",
       "      <td>22</td>\n",
       "      <td>Тюмень</td>\n",
       "      <td>ultra</td>\n",
       "    </tr>\n",
       "    <tr>\n",
       "      <th>1</th>\n",
       "      <td>2</td>\n",
       "      <td>Станислав</td>\n",
       "      <td>31</td>\n",
       "      <td>Омск</td>\n",
       "      <td>ultra</td>\n",
       "    </tr>\n",
       "    <tr>\n",
       "      <th>2</th>\n",
       "      <td>3</td>\n",
       "      <td>Алексей</td>\n",
       "      <td>20</td>\n",
       "      <td>Москва</td>\n",
       "      <td>ultra</td>\n",
       "    </tr>\n",
       "    <tr>\n",
       "      <th>3</th>\n",
       "      <td>4</td>\n",
       "      <td>Константин</td>\n",
       "      <td>26</td>\n",
       "      <td>Ростов-на-Дону</td>\n",
       "      <td>ultra</td>\n",
       "    </tr>\n",
       "    <tr>\n",
       "      <th>4</th>\n",
       "      <td>5</td>\n",
       "      <td>Адель</td>\n",
       "      <td>28</td>\n",
       "      <td>Омск</td>\n",
       "      <td>ultra</td>\n",
       "    </tr>\n",
       "  </tbody>\n",
       "</table>\n",
       "</div>"
      ],
      "text/plain": [
       "   user_id        name  age            city subscription_type\n",
       "0        1        Кира   22          Тюмень             ultra\n",
       "1        2   Станислав   31            Омск             ultra\n",
       "2        3     Алексей   20          Москва             ultra\n",
       "3        4  Константин   26  Ростов-на-Дону             ultra\n",
       "4        5       Адель   28            Омск             ultra"
      ]
     },
     "execution_count": 6,
     "metadata": {},
     "output_type": "execute_result"
    }
   ],
   "source": [
    "data_users.head()"
   ]
  },
  {
   "cell_type": "code",
   "execution_count": 7,
   "id": "adc3f5a6-616b-401e-afd0-c9451ae93bd5",
   "metadata": {},
   "outputs": [
    {
     "data": {
      "text/html": [
       "<div>\n",
       "<style scoped>\n",
       "    .dataframe tbody tr th:only-of-type {\n",
       "        vertical-align: middle;\n",
       "    }\n",
       "\n",
       "    .dataframe tbody tr th {\n",
       "        vertical-align: top;\n",
       "    }\n",
       "\n",
       "    .dataframe thead th {\n",
       "        text-align: right;\n",
       "    }\n",
       "</style>\n",
       "<table border=\"1\" class=\"dataframe\">\n",
       "  <thead>\n",
       "    <tr style=\"text-align: right;\">\n",
       "      <th></th>\n",
       "      <th>user_id</th>\n",
       "      <th>distance</th>\n",
       "      <th>duration</th>\n",
       "      <th>date</th>\n",
       "    </tr>\n",
       "  </thead>\n",
       "  <tbody>\n",
       "    <tr>\n",
       "      <th>0</th>\n",
       "      <td>1</td>\n",
       "      <td>4409.919140</td>\n",
       "      <td>25.599769</td>\n",
       "      <td>2021-01-01</td>\n",
       "    </tr>\n",
       "    <tr>\n",
       "      <th>1</th>\n",
       "      <td>1</td>\n",
       "      <td>2617.592153</td>\n",
       "      <td>15.816871</td>\n",
       "      <td>2021-01-18</td>\n",
       "    </tr>\n",
       "    <tr>\n",
       "      <th>2</th>\n",
       "      <td>1</td>\n",
       "      <td>754.159807</td>\n",
       "      <td>6.232113</td>\n",
       "      <td>2021-04-20</td>\n",
       "    </tr>\n",
       "    <tr>\n",
       "      <th>3</th>\n",
       "      <td>1</td>\n",
       "      <td>2694.783254</td>\n",
       "      <td>18.511000</td>\n",
       "      <td>2021-08-11</td>\n",
       "    </tr>\n",
       "    <tr>\n",
       "      <th>4</th>\n",
       "      <td>1</td>\n",
       "      <td>4028.687306</td>\n",
       "      <td>26.265803</td>\n",
       "      <td>2021-08-28</td>\n",
       "    </tr>\n",
       "  </tbody>\n",
       "</table>\n",
       "</div>"
      ],
      "text/plain": [
       "   user_id     distance   duration        date\n",
       "0        1  4409.919140  25.599769  2021-01-01\n",
       "1        1  2617.592153  15.816871  2021-01-18\n",
       "2        1   754.159807   6.232113  2021-04-20\n",
       "3        1  2694.783254  18.511000  2021-08-11\n",
       "4        1  4028.687306  26.265803  2021-08-28"
      ]
     },
     "execution_count": 7,
     "metadata": {},
     "output_type": "execute_result"
    }
   ],
   "source": [
    "rides_go_fast.head()"
   ]
  },
  {
   "cell_type": "code",
   "execution_count": 8,
   "id": "0fd2f48a-42b9-4ecd-955c-6ae49cdf9527",
   "metadata": {},
   "outputs": [
    {
     "data": {
      "text/html": [
       "<div>\n",
       "<style scoped>\n",
       "    .dataframe tbody tr th:only-of-type {\n",
       "        vertical-align: middle;\n",
       "    }\n",
       "\n",
       "    .dataframe tbody tr th {\n",
       "        vertical-align: top;\n",
       "    }\n",
       "\n",
       "    .dataframe thead th {\n",
       "        text-align: right;\n",
       "    }\n",
       "</style>\n",
       "<table border=\"1\" class=\"dataframe\">\n",
       "  <thead>\n",
       "    <tr style=\"text-align: right;\">\n",
       "      <th></th>\n",
       "      <th>subscription_type</th>\n",
       "      <th>minute_price</th>\n",
       "      <th>start_ride_price</th>\n",
       "      <th>subscription_fee</th>\n",
       "    </tr>\n",
       "  </thead>\n",
       "  <tbody>\n",
       "    <tr>\n",
       "      <th>0</th>\n",
       "      <td>free</td>\n",
       "      <td>8</td>\n",
       "      <td>50</td>\n",
       "      <td>0</td>\n",
       "    </tr>\n",
       "    <tr>\n",
       "      <th>1</th>\n",
       "      <td>ultra</td>\n",
       "      <td>6</td>\n",
       "      <td>0</td>\n",
       "      <td>199</td>\n",
       "    </tr>\n",
       "  </tbody>\n",
       "</table>\n",
       "</div>"
      ],
      "text/plain": [
       "  subscription_type  minute_price  start_ride_price  subscription_fee\n",
       "0              free             8                50                 0\n",
       "1             ultra             6                 0               199"
      ]
     },
     "execution_count": 8,
     "metadata": {},
     "output_type": "execute_result"
    }
   ],
   "source": [
    "subscriptions_go_fast.head()"
   ]
  },
  {
   "cell_type": "markdown",
   "id": "b9bdb47d-fa17-41ca-b59d-458ce771b564",
   "metadata": {},
   "source": [
    "Изучим общую информацию о первом наборе данных data_users"
   ]
  },
  {
   "cell_type": "code",
   "execution_count": 9,
   "id": "78f59157-a6cb-4728-a83d-1f16cd1e855b",
   "metadata": {},
   "outputs": [
    {
     "name": "stdout",
     "output_type": "stream",
     "text": [
      "<class 'pandas.core.frame.DataFrame'>\n",
      "RangeIndex: 1565 entries, 0 to 1564\n",
      "Data columns (total 5 columns):\n",
      " #   Column             Non-Null Count  Dtype \n",
      "---  ------             --------------  ----- \n",
      " 0   user_id            1565 non-null   int64 \n",
      " 1   name               1565 non-null   object\n",
      " 2   age                1565 non-null   int64 \n",
      " 3   city               1565 non-null   object\n",
      " 4   subscription_type  1565 non-null   object\n",
      "dtypes: int64(2), object(3)\n",
      "memory usage: 61.3+ KB\n"
     ]
    }
   ],
   "source": [
    "data_users.info()"
   ]
  },
  {
   "cell_type": "code",
   "execution_count": 10,
   "id": "6efccf40-f353-437b-8159-e64e22bf6913",
   "metadata": {},
   "outputs": [
    {
     "data": {
      "text/plain": [
       "31"
      ]
     },
     "execution_count": 10,
     "metadata": {},
     "output_type": "execute_result"
    }
   ],
   "source": [
    "#посчитаем количество явных дубликатов\n",
    "data_users.duplicated().sum()"
   ]
  },
  {
   "cell_type": "markdown",
   "id": "dd0d3d66-8eca-4d9c-83ff-47dc9f84d997",
   "metadata": {},
   "source": [
    "Вывод: в data_users 1565 записей, количество явных дубликатов 31"
   ]
  },
  {
   "cell_type": "markdown",
   "id": "536e8293-b36c-44ce-821c-471484379681",
   "metadata": {},
   "source": [
    "Изучим общую информацию о наборе данных rides_go_fast"
   ]
  },
  {
   "cell_type": "code",
   "execution_count": 11,
   "id": "fe4763e4-7344-4e14-8c1d-42ebfb690573",
   "metadata": {},
   "outputs": [
    {
     "name": "stdout",
     "output_type": "stream",
     "text": [
      "<class 'pandas.core.frame.DataFrame'>\n",
      "RangeIndex: 18068 entries, 0 to 18067\n",
      "Data columns (total 4 columns):\n",
      " #   Column    Non-Null Count  Dtype  \n",
      "---  ------    --------------  -----  \n",
      " 0   user_id   18068 non-null  int64  \n",
      " 1   distance  18068 non-null  float64\n",
      " 2   duration  18068 non-null  float64\n",
      " 3   date      18068 non-null  object \n",
      "dtypes: float64(2), int64(1), object(1)\n",
      "memory usage: 564.8+ KB\n"
     ]
    }
   ],
   "source": [
    "rides_go_fast.info()"
   ]
  },
  {
   "cell_type": "code",
   "execution_count": 12,
   "id": "ccaa1de4-81b7-4c48-bad7-e67d87dd686e",
   "metadata": {},
   "outputs": [
    {
     "data": {
      "text/plain": [
       "0"
      ]
     },
     "execution_count": 12,
     "metadata": {},
     "output_type": "execute_result"
    }
   ],
   "source": [
    "#посчитаем количество явных дубликатов\n",
    "rides_go_fast.duplicated().sum()"
   ]
  },
  {
   "cell_type": "markdown",
   "id": "03064927-1068-45ea-b8b4-60c41053d2c5",
   "metadata": {},
   "source": [
    "Вывод: в rides_go_fast 18068 записей, количеств явных дубликатов 0"
   ]
  },
  {
   "cell_type": "markdown",
   "id": "3c1fe94f-acab-485e-afa1-866d76b060a5",
   "metadata": {},
   "source": [
    "Изучим общую информацию о наборе данных subscriptions_go_fast"
   ]
  },
  {
   "cell_type": "code",
   "execution_count": 13,
   "id": "690b09b6-7c49-4c45-aaf9-df38a9b0a35d",
   "metadata": {},
   "outputs": [
    {
     "name": "stdout",
     "output_type": "stream",
     "text": [
      "<class 'pandas.core.frame.DataFrame'>\n",
      "RangeIndex: 2 entries, 0 to 1\n",
      "Data columns (total 4 columns):\n",
      " #   Column             Non-Null Count  Dtype \n",
      "---  ------             --------------  ----- \n",
      " 0   subscription_type  2 non-null      object\n",
      " 1   minute_price       2 non-null      int64 \n",
      " 2   start_ride_price   2 non-null      int64 \n",
      " 3   subscription_fee   2 non-null      int64 \n",
      "dtypes: int64(3), object(1)\n",
      "memory usage: 192.0+ bytes\n"
     ]
    }
   ],
   "source": [
    "subscriptions_go_fast.info()"
   ]
  },
  {
   "cell_type": "code",
   "execution_count": 14,
   "id": "d7492a6f-4a96-444a-baf7-b0e8eb9bccfa",
   "metadata": {},
   "outputs": [
    {
     "data": {
      "text/plain": [
       "0"
      ]
     },
     "execution_count": 14,
     "metadata": {},
     "output_type": "execute_result"
    }
   ],
   "source": [
    "#посчитаем количество явных дубликатов\n",
    "subscriptions_go_fast.duplicated().sum()"
   ]
  },
  {
   "cell_type": "markdown",
   "id": "1c48ffcd-9b4c-4b42-b02c-68c8d2dce71e",
   "metadata": {},
   "source": [
    "Вывод: в subscriptions_go_fast 2 записи, количеств явных дубликатов 0"
   ]
  },
  {
   "cell_type": "markdown",
   "id": "93b2eea1-771c-47db-8e8b-2cb5ef8c57cf",
   "metadata": {},
   "source": [
    "Шаг 2. Предобработка данных"
   ]
  },
  {
   "cell_type": "markdown",
   "id": "b561235c-bee1-4090-b686-b104725a3d9c",
   "metadata": {},
   "source": [
    "Столбец date в датафрейме rides_go_fast имеет тип object, приведем его к к типу даты pandas."
   ]
  },
  {
   "cell_type": "code",
   "execution_count": 15,
   "id": "bbdb8887-2964-426a-a136-6c409f007646",
   "metadata": {},
   "outputs": [],
   "source": [
    "rides_go_fast['date'] = pd.to_datetime(rides_go_fast['date'])"
   ]
  },
  {
   "cell_type": "markdown",
   "id": "36f77412",
   "metadata": {},
   "source": []
  },
  {
   "cell_type": "code",
   "execution_count": 16,
   "id": "32d19780-ba81-4b15-b84c-37df85aa0f40",
   "metadata": {},
   "outputs": [
    {
     "name": "stdout",
     "output_type": "stream",
     "text": [
      "<class 'pandas.core.frame.DataFrame'>\n",
      "RangeIndex: 18068 entries, 0 to 18067\n",
      "Data columns (total 4 columns):\n",
      " #   Column    Non-Null Count  Dtype         \n",
      "---  ------    --------------  -----         \n",
      " 0   user_id   18068 non-null  int64         \n",
      " 1   distance  18068 non-null  float64       \n",
      " 2   duration  18068 non-null  float64       \n",
      " 3   date      18068 non-null  datetime64[ns]\n",
      "dtypes: datetime64[ns](1), float64(2), int64(1)\n",
      "memory usage: 564.8 KB\n"
     ]
    }
   ],
   "source": [
    "#проверим получилось ли изменить тип данных\n",
    "rides_go_fast.info()"
   ]
  },
  {
   "cell_type": "markdown",
   "id": "14f3fade-f331-4bea-b23a-ddd3bb3c4d47",
   "metadata": {},
   "source": [
    "Создадим новый столбец с номером месяца на основе столбца date."
   ]
  },
  {
   "cell_type": "code",
   "execution_count": 17,
   "id": "a9bb097b-970d-420b-9f43-d2343ba8e58d",
   "metadata": {},
   "outputs": [],
   "source": [
    "rides_go_fast['month'] = rides_go_fast['date'].dt.month"
   ]
  },
  {
   "cell_type": "code",
   "execution_count": 18,
   "id": "7fcc6ab7-dc07-4bd4-b6c4-9cb2ffe2ec0c",
   "metadata": {},
   "outputs": [
    {
     "data": {
      "text/html": [
       "<div>\n",
       "<style scoped>\n",
       "    .dataframe tbody tr th:only-of-type {\n",
       "        vertical-align: middle;\n",
       "    }\n",
       "\n",
       "    .dataframe tbody tr th {\n",
       "        vertical-align: top;\n",
       "    }\n",
       "\n",
       "    .dataframe thead th {\n",
       "        text-align: right;\n",
       "    }\n",
       "</style>\n",
       "<table border=\"1\" class=\"dataframe\">\n",
       "  <thead>\n",
       "    <tr style=\"text-align: right;\">\n",
       "      <th></th>\n",
       "      <th>user_id</th>\n",
       "      <th>distance</th>\n",
       "      <th>duration</th>\n",
       "      <th>date</th>\n",
       "      <th>month</th>\n",
       "    </tr>\n",
       "  </thead>\n",
       "  <tbody>\n",
       "    <tr>\n",
       "      <th>0</th>\n",
       "      <td>1</td>\n",
       "      <td>4409.919140</td>\n",
       "      <td>25.599769</td>\n",
       "      <td>2021-01-01</td>\n",
       "      <td>1</td>\n",
       "    </tr>\n",
       "    <tr>\n",
       "      <th>1</th>\n",
       "      <td>1</td>\n",
       "      <td>2617.592153</td>\n",
       "      <td>15.816871</td>\n",
       "      <td>2021-01-18</td>\n",
       "      <td>1</td>\n",
       "    </tr>\n",
       "    <tr>\n",
       "      <th>2</th>\n",
       "      <td>1</td>\n",
       "      <td>754.159807</td>\n",
       "      <td>6.232113</td>\n",
       "      <td>2021-04-20</td>\n",
       "      <td>4</td>\n",
       "    </tr>\n",
       "    <tr>\n",
       "      <th>3</th>\n",
       "      <td>1</td>\n",
       "      <td>2694.783254</td>\n",
       "      <td>18.511000</td>\n",
       "      <td>2021-08-11</td>\n",
       "      <td>8</td>\n",
       "    </tr>\n",
       "    <tr>\n",
       "      <th>4</th>\n",
       "      <td>1</td>\n",
       "      <td>4028.687306</td>\n",
       "      <td>26.265803</td>\n",
       "      <td>2021-08-28</td>\n",
       "      <td>8</td>\n",
       "    </tr>\n",
       "  </tbody>\n",
       "</table>\n",
       "</div>"
      ],
      "text/plain": [
       "   user_id     distance   duration       date  month\n",
       "0        1  4409.919140  25.599769 2021-01-01      1\n",
       "1        1  2617.592153  15.816871 2021-01-18      1\n",
       "2        1   754.159807   6.232113 2021-04-20      4\n",
       "3        1  2694.783254  18.511000 2021-08-11      8\n",
       "4        1  4028.687306  26.265803 2021-08-28      8"
      ]
     },
     "execution_count": 18,
     "metadata": {},
     "output_type": "execute_result"
    }
   ],
   "source": [
    "#проверим \n",
    "rides_go_fast.head()"
   ]
  },
  {
   "cell_type": "markdown",
   "id": "8e733cad",
   "metadata": {},
   "source": []
  },
  {
   "cell_type": "markdown",
   "id": "71b2b274-5da3-46f6-8482-5a42c603226d",
   "metadata": {},
   "source": [
    "Количество явных дубликатов посчитали в шаге 1, у data_users 31 явный дубликат\n",
    "у rides_go_fast и subscriptions_go_fast явных дубликатов нет"
   ]
  },
  {
   "cell_type": "code",
   "execution_count": 19,
   "id": "a097239e-db1b-4e9c-aee2-2c7596849385",
   "metadata": {},
   "outputs": [],
   "source": [
    "#удалим явные дубликаты у data_users\n",
    "data_users.drop_duplicates(inplace=True)"
   ]
  },
  {
   "cell_type": "code",
   "execution_count": 20,
   "id": "5f730d31-b7be-4a6f-aa2b-ddb8a83211c9",
   "metadata": {},
   "outputs": [
    {
     "data": {
      "text/plain": [
       "0"
      ]
     },
     "execution_count": 20,
     "metadata": {},
     "output_type": "execute_result"
    }
   ],
   "source": [
    "#проверим удалились ли дубликаты\n",
    "data_users.duplicated().sum()"
   ]
  },
  {
   "cell_type": "markdown",
   "id": "e72452f6-6152-4823-a97d-8ca87ba26b38",
   "metadata": {},
   "source": [
    "в датафрейме rides_go_fast округлим значения столбца distance до 2 знаков после запятой"
   ]
  },
  {
   "cell_type": "code",
   "execution_count": 21,
   "id": "2bcc2d15-091e-4921-8888-f93b747e15d1",
   "metadata": {},
   "outputs": [],
   "source": [
    "rides_go_fast['distance'] = rides_go_fast['distance'].round(2)"
   ]
  },
  {
   "cell_type": "markdown",
   "id": "88f99c1b-be8f-4db1-939b-eb853e185a1b",
   "metadata": {},
   "source": [
    "Рассмотрим количество пропусков в таблицах"
   ]
  },
  {
   "cell_type": "code",
   "execution_count": 22,
   "id": "475ac52b-c2cc-4059-8036-e46e799e760c",
   "metadata": {},
   "outputs": [
    {
     "data": {
      "text/plain": [
       "user_id              0\n",
       "name                 0\n",
       "age                  0\n",
       "city                 0\n",
       "subscription_type    0\n",
       "dtype: int64"
      ]
     },
     "execution_count": 22,
     "metadata": {},
     "output_type": "execute_result"
    }
   ],
   "source": [
    "data_users.isna().sum()"
   ]
  },
  {
   "cell_type": "code",
   "execution_count": 23,
   "id": "cdd53310-c0e2-460f-8595-4b1a3dedc336",
   "metadata": {},
   "outputs": [
    {
     "data": {
      "text/plain": [
       "user_id     0\n",
       "distance    0\n",
       "duration    0\n",
       "date        0\n",
       "month       0\n",
       "dtype: int64"
      ]
     },
     "execution_count": 23,
     "metadata": {},
     "output_type": "execute_result"
    }
   ],
   "source": [
    "rides_go_fast.isna().sum()"
   ]
  },
  {
   "cell_type": "code",
   "execution_count": 24,
   "id": "b1f05eae-ea4d-4673-95ed-76b9260fc036",
   "metadata": {},
   "outputs": [
    {
     "data": {
      "text/plain": [
       "subscription_type    0\n",
       "minute_price         0\n",
       "start_ride_price     0\n",
       "subscription_fee     0\n",
       "dtype: int64"
      ]
     },
     "execution_count": 24,
     "metadata": {},
     "output_type": "execute_result"
    }
   ],
   "source": [
    "subscriptions_go_fast.isna().sum()"
   ]
  },
  {
   "cell_type": "markdown",
   "id": "513e198e-5a33-4099-9a8a-20ba431ead48",
   "metadata": {},
   "source": [
    "Вывод: пропущенных данных в таблицах нет"
   ]
  },
  {
   "cell_type": "markdown",
   "id": "85e7df3d-7312-45d7-a18c-56045784d071",
   "metadata": {},
   "source": [
    "Шаг 3. Исследовательский анализ данных"
   ]
  },
  {
   "cell_type": "markdown",
   "id": "f15e23d5-3337-47ce-925a-2f2fbfedab28",
   "metadata": {},
   "source": [
    "Опишем и визуализируем общую информацию о пользователях и поездках:\n",
    "- частота встречаемости городов\n",
    "- соотношение пользователей с подпиской и без подписки\n",
    "- возраст пользователей\n",
    "- расстояние, которое пользователь преодолел за одну поездку\n",
    "- продолжительность поездок"
   ]
  },
  {
   "cell_type": "markdown",
   "id": "265afcc9-37da-433f-867a-5b7d8a0c8bd0",
   "metadata": {},
   "source": [
    "Изучим частоту встречаемости в городах"
   ]
  },
  {
   "cell_type": "code",
   "execution_count": 25,
   "id": "9c3692ce-07f9-4728-b5c9-a090e873cdf5",
   "metadata": {},
   "outputs": [],
   "source": [
    "frequency_in_city = data_users['city'].value_counts()"
   ]
  },
  {
   "cell_type": "code",
   "execution_count": 26,
   "id": "dea3b136-72ff-4ea7-901b-7e30ae4599b6",
   "metadata": {},
   "outputs": [
    {
     "data": {
      "text/plain": [
       "Пятигорск         219\n",
       "Екатеринбург      204\n",
       "Ростов-на-Дону    198\n",
       "Краснодар         193\n",
       "Сочи              189\n",
       "Омск              183\n",
       "Тюмень            180\n",
       "Москва            168\n",
       "Name: city, dtype: int64"
      ]
     },
     "execution_count": 26,
     "metadata": {},
     "output_type": "execute_result"
    }
   ],
   "source": [
    "frequency_in_city"
   ]
  },
  {
   "cell_type": "code",
   "execution_count": 27,
   "id": "2a7bdc41-baef-4299-808d-1d514cf9834b",
   "metadata": {},
   "outputs": [
    {
     "data": {
      "text/plain": [
       "Text(0.5, 0, 'Количество пользователей')"
      ]
     },
     "execution_count": 27,
     "metadata": {},
     "output_type": "execute_result"
    },
    {
     "data": {
      "image/png": "[encoded data removed]",
      "text/plain": [
       "<Figure size 1440x360 with 1 Axes>"
      ]
     },
     "metadata": {
      "needs_background": "light"
     },
     "output_type": "display_data"
    }
   ],
   "source": [
    "#построим график распределения количества прользователей от города\n",
    "data_users.pivot_table(index='city', values='user_id', aggfunc='count').sort_values(by='user_id', ascending=True).plot(grid=True, figsize=(20, 5))\n",
    "plt.title('График распределения количества пользователей по городам')\n",
    "plt.ylabel('Наименование города')\n",
    "plt.xlabel('Количество пользователей')"
   ]
  },
  {
   "cell_type": "markdown",
   "id": "f80f3030-f4d9-40c6-9901-72bf9faec684",
   "metadata": {},
   "source": [
    "Вывод: чаще всего пользователи встречаются в Пятигорске, затем Екатеринбург, Ростов-на-Дону. Меньше всего пользователей в Москве."
   ]
  },
  {
   "cell_type": "markdown",
   "id": "f725f6ba-86be-41f9-9703-31a7a66e3b33",
   "metadata": {},
   "source": [
    "Изучим соотношение пользователей с подпиской и без подписки"
   ]
  },
  {
   "cell_type": "code",
   "execution_count": 28,
   "id": "de429a4e-cdae-4446-aa08-9497f1695f98",
   "metadata": {},
   "outputs": [],
   "source": [
    "users_sub = data_users['subscription_type'].value_counts()"
   ]
  },
  {
   "cell_type": "code",
   "execution_count": 29,
   "id": "353b44e8-22a4-4430-922b-bdfcd5300889",
   "metadata": {},
   "outputs": [
    {
     "data": {
      "text/plain": [
       "free     835\n",
       "ultra    699\n",
       "Name: subscription_type, dtype: int64"
      ]
     },
     "execution_count": 29,
     "metadata": {},
     "output_type": "execute_result"
    }
   ],
   "source": [
    "users_sub"
   ]
  },
  {
   "cell_type": "code",
   "execution_count": 30,
   "id": "4789ab08-0971-4c79-813c-fd3008eb1ec8",
   "metadata": {},
   "outputs": [
    {
     "data": {
      "image/png": "[encoded data removed]",
      "text/plain": [
       "<Figure size 360x360 with 1 Axes>"
      ]
     },
     "metadata": {},
     "output_type": "display_data"
    }
   ],
   "source": [
    "data_users.pivot_table(index='subscription_type', values='user_id', aggfunc='count').plot.pie(y='user_id', autopct = '%1.0f%%', figsize=(5,5))\n",
    "plt.title('процентное соотношение пользовательной с подпиской и без подписки')\n",
    "plt.show()"
   ]
  },
  {
   "cell_type": "markdown",
   "id": "2827f622-43ca-45f3-9d5d-e899009fb320",
   "metadata": {},
   "source": [
    "Вывод: количество пользователей без подписки 54%, с подпиской 46%. "
   ]
  },
  {
   "cell_type": "markdown",
   "id": "c88c98de-0a4c-4587-bd11-f3443f0f9119",
   "metadata": {},
   "source": [
    "Определим зависимость возраста пользователей "
   ]
  },
  {
   "cell_type": "code",
   "execution_count": 31,
   "id": "a8ad6e43-858f-432c-b5db-c2b5e8fbd2a4",
   "metadata": {},
   "outputs": [
    {
     "data": {
      "image/png": "[encoded data removed]",
      "text/plain": [
       "<Figure size 576x360 with 1 Axes>"
      ]
     },
     "metadata": {
      "needs_background": "light"
     },
     "output_type": "display_data"
    }
   ],
   "source": [
    "data_users.pivot_table(index='age', values='user_id', aggfunc='count').sort_values(by='age', ascending=True).plot(grid=True, figsize=(8, 5))\n",
    "plt.title('зависимость возраста пользователей от их количества')\n",
    "plt.xlabel('возраст')\n",
    "plt.ylabel('количество пользователей')\n",
    "plt.show()"
   ]
  },
  {
   "cell_type": "markdown",
   "id": "c86515f0-91d2-4f35-b7b2-e14f60e91f08",
   "metadata": {},
   "source": [
    "Вывод: самый популярный возраст среди пользователей сервиса 25 лет"
   ]
  },
  {
   "cell_type": "code",
   "execution_count": 32,
   "id": "4ce59a9b",
   "metadata": {},
   "outputs": [
    {
     "data": {
      "text/plain": [
       "count    1534.0\n",
       "mean       25.0\n",
       "std         5.0\n",
       "min        12.0\n",
       "25%        22.0\n",
       "50%        25.0\n",
       "75%        28.0\n",
       "max        43.0\n",
       "Name: age, dtype: float64"
      ]
     },
     "execution_count": 32,
     "metadata": {},
     "output_type": "execute_result"
    }
   ],
   "source": [
    "data_users['age'].describe().round()"
   ]
  },
  {
   "cell_type": "markdown",
   "id": "6eea74c2",
   "metadata": {},
   "source": [
    "Вывод: минимальный возраст пользователей 12 лет, максимальный возраст 43 года. Медианное значение возраста 25 лет. Первый квартиль 22 года, второй 28 лет. В данных аномали не наблюдается, распределение похоже на нормальное."
   ]
  },
  {
   "cell_type": "markdown",
   "id": "083782fc-e99c-4c24-8b38-e832851b4925",
   "metadata": {},
   "source": [
    "Определим расстояние, которое пользователь преодолел за одну поездку"
   ]
  },
  {
   "cell_type": "code",
   "execution_count": 33,
   "id": "db4ea1b1-343a-4e7a-ac71-28bc517398b2",
   "metadata": {},
   "outputs": [
    {
     "data": {
      "image/png": "[encoded data removed]",
      "text/plain": [
       "<Figure size 432x288 with 1 Axes>"
      ]
     },
     "metadata": {
      "needs_background": "light"
     },
     "output_type": "display_data"
    }
   ],
   "source": [
    "sns.boxplot(x = rides_go_fast['distance'])\n",
    "plt.title('Расстояние, которое пользователь преодолел за одну поездку')\n",
    "plt.xlabel('Расстояние, м')\n",
    "plt.show()"
   ]
  },
  {
   "cell_type": "code",
   "execution_count": 34,
   "id": "ae6e67d5-0ffe-4a10-aae2-4228176bbab5",
   "metadata": {},
   "outputs": [
    {
     "data": {
      "text/plain": [
       "count    18068.000000\n",
       "mean      3070.659992\n",
       "std       1116.831222\n",
       "min          0.860000\n",
       "25%       2543.227500\n",
       "50%       3133.610000\n",
       "75%       3776.220000\n",
       "max       7211.010000\n",
       "Name: distance, dtype: float64"
      ]
     },
     "execution_count": 34,
     "metadata": {},
     "output_type": "execute_result"
    }
   ],
   "source": [
    "rides_go_fast['distance'].describe() "
   ]
  },
  {
   "cell_type": "markdown",
   "id": "90b1a6ec-8152-4ca7-9c24-cf27ce97d237",
   "metadata": {},
   "source": [
    "Вывод: медиана поездок 3133 метра, первый квартиль 2543 м, второй 3776 метра. Максимальная дистанция составляет 7211 м, минимальная 0,86м. "
   ]
  },
  {
   "cell_type": "markdown",
   "id": "a5352eed-3030-4f0c-aff8-6b6fc681aef9",
   "metadata": {},
   "source": [
    "Изучим продолжительность поездок"
   ]
  },
  {
   "cell_type": "code",
   "execution_count": 35,
   "id": "54be4673-8280-448b-a687-26cf51bdd72c",
   "metadata": {},
   "outputs": [
    {
     "data": {
      "text/plain": [
       "count    18068.000000\n",
       "mean        17.805011\n",
       "std          6.091051\n",
       "min          0.500000\n",
       "25%         13.597563\n",
       "50%         17.678395\n",
       "75%         21.724800\n",
       "max         40.823963\n",
       "Name: duration, dtype: float64"
      ]
     },
     "execution_count": 35,
     "metadata": {},
     "output_type": "execute_result"
    }
   ],
   "source": [
    "rides_go_fast['duration'].describe()"
   ]
  },
  {
   "cell_type": "markdown",
   "id": "e453279c-bd15-46fb-bdd2-431e099122ce",
   "metadata": {},
   "source": [
    "Вывод: медианное значение времени проведенного в поездке 17,67 минут, первый квартиль 13,6 минут, второй 21,7. минимальное время в поездке пол минуты, максимальное 40,8 минут."
   ]
  },
  {
   "cell_type": "markdown",
   "id": "f71a0b2d-c828-4fae-85b0-088201068fd3",
   "metadata": {},
   "source": [
    "Шаг 4. Объединение данных"
   ]
  },
  {
   "cell_type": "markdown",
   "id": "d418e9ff",
   "metadata": {},
   "source": [
    "Проверим размерность датасетов."
   ]
  },
  {
   "cell_type": "code",
   "execution_count": 37,
   "id": "de304211",
   "metadata": {},
   "outputs": [
    {
     "data": {
      "text/html": [
       "<div>\n",
       "<style scoped>\n",
       "    .dataframe tbody tr th:only-of-type {\n",
       "        vertical-align: middle;\n",
       "    }\n",
       "\n",
       "    .dataframe tbody tr th {\n",
       "        vertical-align: top;\n",
       "    }\n",
       "\n",
       "    .dataframe thead th {\n",
       "        text-align: right;\n",
       "    }\n",
       "</style>\n",
       "<table border=\"1\" class=\"dataframe\">\n",
       "  <thead>\n",
       "    <tr style=\"text-align: right;\">\n",
       "      <th></th>\n",
       "      <th>user_id</th>\n",
       "      <th>name</th>\n",
       "      <th>age</th>\n",
       "      <th>city</th>\n",
       "      <th>subscription_type</th>\n",
       "    </tr>\n",
       "  </thead>\n",
       "  <tbody>\n",
       "    <tr>\n",
       "      <th>0</th>\n",
       "      <td>1</td>\n",
       "      <td>Кира</td>\n",
       "      <td>22</td>\n",
       "      <td>Тюмень</td>\n",
       "      <td>ultra</td>\n",
       "    </tr>\n",
       "    <tr>\n",
       "      <th>1</th>\n",
       "      <td>2</td>\n",
       "      <td>Станислав</td>\n",
       "      <td>31</td>\n",
       "      <td>Омск</td>\n",
       "      <td>ultra</td>\n",
       "    </tr>\n",
       "    <tr>\n",
       "      <th>2</th>\n",
       "      <td>3</td>\n",
       "      <td>Алексей</td>\n",
       "      <td>20</td>\n",
       "      <td>Москва</td>\n",
       "      <td>ultra</td>\n",
       "    </tr>\n",
       "    <tr>\n",
       "      <th>3</th>\n",
       "      <td>4</td>\n",
       "      <td>Константин</td>\n",
       "      <td>26</td>\n",
       "      <td>Ростов-на-Дону</td>\n",
       "      <td>ultra</td>\n",
       "    </tr>\n",
       "    <tr>\n",
       "      <th>4</th>\n",
       "      <td>5</td>\n",
       "      <td>Адель</td>\n",
       "      <td>28</td>\n",
       "      <td>Омск</td>\n",
       "      <td>ultra</td>\n",
       "    </tr>\n",
       "    <tr>\n",
       "      <th>...</th>\n",
       "      <td>...</td>\n",
       "      <td>...</td>\n",
       "      <td>...</td>\n",
       "      <td>...</td>\n",
       "      <td>...</td>\n",
       "    </tr>\n",
       "    <tr>\n",
       "      <th>1529</th>\n",
       "      <td>1530</td>\n",
       "      <td>Ростислав</td>\n",
       "      <td>29</td>\n",
       "      <td>Сочи</td>\n",
       "      <td>free</td>\n",
       "    </tr>\n",
       "    <tr>\n",
       "      <th>1530</th>\n",
       "      <td>1531</td>\n",
       "      <td>Никита</td>\n",
       "      <td>25</td>\n",
       "      <td>Пятигорск</td>\n",
       "      <td>free</td>\n",
       "    </tr>\n",
       "    <tr>\n",
       "      <th>1531</th>\n",
       "      <td>1532</td>\n",
       "      <td>Алексей</td>\n",
       "      <td>26</td>\n",
       "      <td>Тюмень</td>\n",
       "      <td>free</td>\n",
       "    </tr>\n",
       "    <tr>\n",
       "      <th>1532</th>\n",
       "      <td>1533</td>\n",
       "      <td>Степан</td>\n",
       "      <td>22</td>\n",
       "      <td>Краснодар</td>\n",
       "      <td>free</td>\n",
       "    </tr>\n",
       "    <tr>\n",
       "      <th>1533</th>\n",
       "      <td>1534</td>\n",
       "      <td>Альберт</td>\n",
       "      <td>25</td>\n",
       "      <td>Краснодар</td>\n",
       "      <td>free</td>\n",
       "    </tr>\n",
       "  </tbody>\n",
       "</table>\n",
       "<p>1534 rows × 5 columns</p>\n",
       "</div>"
      ],
      "text/plain": [
       "      user_id        name  age            city subscription_type\n",
       "0           1        Кира   22          Тюмень             ultra\n",
       "1           2   Станислав   31            Омск             ultra\n",
       "2           3     Алексей   20          Москва             ultra\n",
       "3           4  Константин   26  Ростов-на-Дону             ultra\n",
       "4           5       Адель   28            Омск             ultra\n",
       "...       ...         ...  ...             ...               ...\n",
       "1529     1530   Ростислав   29            Сочи              free\n",
       "1530     1531      Никита   25       Пятигорск              free\n",
       "1531     1532     Алексей   26          Тюмень              free\n",
       "1532     1533      Степан   22       Краснодар              free\n",
       "1533     1534     Альберт   25       Краснодар              free\n",
       "\n",
       "[1534 rows x 5 columns]"
      ]
     },
     "execution_count": 37,
     "metadata": {},
     "output_type": "execute_result"
    }
   ],
   "source": [
    "data_users #выведем на экран датафрейм data_users"
   ]
  },
  {
   "cell_type": "markdown",
   "id": "c7d8fe88",
   "metadata": {},
   "source": [
    "Размер датасета data_users 1534 на 5"
   ]
  },
  {
   "cell_type": "code",
   "execution_count": 38,
   "id": "fe766ae6",
   "metadata": {},
   "outputs": [
    {
     "data": {
      "text/html": [
       "<div>\n",
       "<style scoped>\n",
       "    .dataframe tbody tr th:only-of-type {\n",
       "        vertical-align: middle;\n",
       "    }\n",
       "\n",
       "    .dataframe tbody tr th {\n",
       "        vertical-align: top;\n",
       "    }\n",
       "\n",
       "    .dataframe thead th {\n",
       "        text-align: right;\n",
       "    }\n",
       "</style>\n",
       "<table border=\"1\" class=\"dataframe\">\n",
       "  <thead>\n",
       "    <tr style=\"text-align: right;\">\n",
       "      <th></th>\n",
       "      <th>user_id</th>\n",
       "      <th>distance</th>\n",
       "      <th>duration</th>\n",
       "      <th>date</th>\n",
       "      <th>month</th>\n",
       "    </tr>\n",
       "  </thead>\n",
       "  <tbody>\n",
       "    <tr>\n",
       "      <th>0</th>\n",
       "      <td>1</td>\n",
       "      <td>4409.92</td>\n",
       "      <td>25.599769</td>\n",
       "      <td>2021-01-01</td>\n",
       "      <td>1</td>\n",
       "    </tr>\n",
       "    <tr>\n",
       "      <th>1</th>\n",
       "      <td>1</td>\n",
       "      <td>2617.59</td>\n",
       "      <td>15.816871</td>\n",
       "      <td>2021-01-18</td>\n",
       "      <td>1</td>\n",
       "    </tr>\n",
       "    <tr>\n",
       "      <th>2</th>\n",
       "      <td>1</td>\n",
       "      <td>754.16</td>\n",
       "      <td>6.232113</td>\n",
       "      <td>2021-04-20</td>\n",
       "      <td>4</td>\n",
       "    </tr>\n",
       "    <tr>\n",
       "      <th>3</th>\n",
       "      <td>1</td>\n",
       "      <td>2694.78</td>\n",
       "      <td>18.511000</td>\n",
       "      <td>2021-08-11</td>\n",
       "      <td>8</td>\n",
       "    </tr>\n",
       "    <tr>\n",
       "      <th>4</th>\n",
       "      <td>1</td>\n",
       "      <td>4028.69</td>\n",
       "      <td>26.265803</td>\n",
       "      <td>2021-08-28</td>\n",
       "      <td>8</td>\n",
       "    </tr>\n",
       "    <tr>\n",
       "      <th>...</th>\n",
       "      <td>...</td>\n",
       "      <td>...</td>\n",
       "      <td>...</td>\n",
       "      <td>...</td>\n",
       "      <td>...</td>\n",
       "    </tr>\n",
       "    <tr>\n",
       "      <th>18063</th>\n",
       "      <td>1534</td>\n",
       "      <td>3781.10</td>\n",
       "      <td>19.822962</td>\n",
       "      <td>2021-11-04</td>\n",
       "      <td>11</td>\n",
       "    </tr>\n",
       "    <tr>\n",
       "      <th>18064</th>\n",
       "      <td>1534</td>\n",
       "      <td>2840.42</td>\n",
       "      <td>21.409799</td>\n",
       "      <td>2021-11-16</td>\n",
       "      <td>11</td>\n",
       "    </tr>\n",
       "    <tr>\n",
       "      <th>18065</th>\n",
       "      <td>1534</td>\n",
       "      <td>3826.19</td>\n",
       "      <td>18.435051</td>\n",
       "      <td>2021-11-18</td>\n",
       "      <td>11</td>\n",
       "    </tr>\n",
       "    <tr>\n",
       "      <th>18066</th>\n",
       "      <td>1534</td>\n",
       "      <td>2902.31</td>\n",
       "      <td>16.674362</td>\n",
       "      <td>2021-11-27</td>\n",
       "      <td>11</td>\n",
       "    </tr>\n",
       "    <tr>\n",
       "      <th>18067</th>\n",
       "      <td>1534</td>\n",
       "      <td>2371.71</td>\n",
       "      <td>15.893917</td>\n",
       "      <td>2021-12-29</td>\n",
       "      <td>12</td>\n",
       "    </tr>\n",
       "  </tbody>\n",
       "</table>\n",
       "<p>18068 rows × 5 columns</p>\n",
       "</div>"
      ],
      "text/plain": [
       "       user_id  distance   duration       date  month\n",
       "0            1   4409.92  25.599769 2021-01-01      1\n",
       "1            1   2617.59  15.816871 2021-01-18      1\n",
       "2            1    754.16   6.232113 2021-04-20      4\n",
       "3            1   2694.78  18.511000 2021-08-11      8\n",
       "4            1   4028.69  26.265803 2021-08-28      8\n",
       "...        ...       ...        ...        ...    ...\n",
       "18063     1534   3781.10  19.822962 2021-11-04     11\n",
       "18064     1534   2840.42  21.409799 2021-11-16     11\n",
       "18065     1534   3826.19  18.435051 2021-11-18     11\n",
       "18066     1534   2902.31  16.674362 2021-11-27     11\n",
       "18067     1534   2371.71  15.893917 2021-12-29     12\n",
       "\n",
       "[18068 rows x 5 columns]"
      ]
     },
     "execution_count": 38,
     "metadata": {},
     "output_type": "execute_result"
    }
   ],
   "source": [
    "rides_go_fast #выведем на экран датасет rides_go_fast"
   ]
  },
  {
   "cell_type": "markdown",
   "id": "2bfb910a",
   "metadata": {},
   "source": [
    "размерность датафрейма 18068 на 5"
   ]
  },
  {
   "cell_type": "code",
   "execution_count": 39,
   "id": "d7558977",
   "metadata": {},
   "outputs": [
    {
     "data": {
      "text/html": [
       "<div>\n",
       "<style scoped>\n",
       "    .dataframe tbody tr th:only-of-type {\n",
       "        vertical-align: middle;\n",
       "    }\n",
       "\n",
       "    .dataframe tbody tr th {\n",
       "        vertical-align: top;\n",
       "    }\n",
       "\n",
       "    .dataframe thead th {\n",
       "        text-align: right;\n",
       "    }\n",
       "</style>\n",
       "<table border=\"1\" class=\"dataframe\">\n",
       "  <thead>\n",
       "    <tr style=\"text-align: right;\">\n",
       "      <th></th>\n",
       "      <th>subscription_type</th>\n",
       "      <th>minute_price</th>\n",
       "      <th>start_ride_price</th>\n",
       "      <th>subscription_fee</th>\n",
       "    </tr>\n",
       "  </thead>\n",
       "  <tbody>\n",
       "    <tr>\n",
       "      <th>0</th>\n",
       "      <td>free</td>\n",
       "      <td>8</td>\n",
       "      <td>50</td>\n",
       "      <td>0</td>\n",
       "    </tr>\n",
       "    <tr>\n",
       "      <th>1</th>\n",
       "      <td>ultra</td>\n",
       "      <td>6</td>\n",
       "      <td>0</td>\n",
       "      <td>199</td>\n",
       "    </tr>\n",
       "  </tbody>\n",
       "</table>\n",
       "</div>"
      ],
      "text/plain": [
       "  subscription_type  minute_price  start_ride_price  subscription_fee\n",
       "0              free             8                50                 0\n",
       "1             ultra             6                 0               199"
      ]
     },
     "execution_count": 39,
     "metadata": {},
     "output_type": "execute_result"
    }
   ],
   "source": [
    "subscriptions_go_fast #выведем на экран датафрейм subscriptions_go_fast"
   ]
  },
  {
   "cell_type": "markdown",
   "id": "fcd85931",
   "metadata": {},
   "source": [
    "Размер датафрейма subscriptions_go_fast 2 на 4"
   ]
  },
  {
   "cell_type": "markdown",
   "id": "ea060fd9-df36-40ac-ab43-3dac6396225f",
   "metadata": {},
   "source": [
    "Объединим данные о пользователях, поездках и подписках в один датафрейм с помощью метода merge()"
   ]
  },
  {
   "cell_type": "code",
   "execution_count": 40,
   "id": "d5bb2181-c990-4041-b535-006ff0d02e81",
   "metadata": {},
   "outputs": [],
   "source": [
    "data_summ = data_users.merge(rides_go_fast) #объединили первые два датафрейма"
   ]
  },
  {
   "cell_type": "code",
   "execution_count": 41,
   "id": "950e21c1-398f-4335-8ddb-56c5b7317438",
   "metadata": {},
   "outputs": [],
   "source": [
    "data_summ = data_summ.merge(subscriptions_go_fast) #добавили третий датафрейм и перезаписали data_summ"
   ]
  },
  {
   "cell_type": "code",
   "execution_count": 42,
   "id": "05892058-23e3-4c53-a62d-93e66cf53886",
   "metadata": {},
   "outputs": [
    {
     "data": {
      "text/html": [
       "<div>\n",
       "<style scoped>\n",
       "    .dataframe tbody tr th:only-of-type {\n",
       "        vertical-align: middle;\n",
       "    }\n",
       "\n",
       "    .dataframe tbody tr th {\n",
       "        vertical-align: top;\n",
       "    }\n",
       "\n",
       "    .dataframe thead th {\n",
       "        text-align: right;\n",
       "    }\n",
       "</style>\n",
       "<table border=\"1\" class=\"dataframe\">\n",
       "  <thead>\n",
       "    <tr style=\"text-align: right;\">\n",
       "      <th></th>\n",
       "      <th>user_id</th>\n",
       "      <th>name</th>\n",
       "      <th>age</th>\n",
       "      <th>city</th>\n",
       "      <th>subscription_type</th>\n",
       "      <th>distance</th>\n",
       "      <th>duration</th>\n",
       "      <th>date</th>\n",
       "      <th>month</th>\n",
       "      <th>minute_price</th>\n",
       "      <th>start_ride_price</th>\n",
       "      <th>subscription_fee</th>\n",
       "    </tr>\n",
       "  </thead>\n",
       "  <tbody>\n",
       "    <tr>\n",
       "      <th>0</th>\n",
       "      <td>1</td>\n",
       "      <td>Кира</td>\n",
       "      <td>22</td>\n",
       "      <td>Тюмень</td>\n",
       "      <td>ultra</td>\n",
       "      <td>4409.92</td>\n",
       "      <td>25.599769</td>\n",
       "      <td>2021-01-01</td>\n",
       "      <td>1</td>\n",
       "      <td>6</td>\n",
       "      <td>0</td>\n",
       "      <td>199</td>\n",
       "    </tr>\n",
       "    <tr>\n",
       "      <th>1</th>\n",
       "      <td>1</td>\n",
       "      <td>Кира</td>\n",
       "      <td>22</td>\n",
       "      <td>Тюмень</td>\n",
       "      <td>ultra</td>\n",
       "      <td>2617.59</td>\n",
       "      <td>15.816871</td>\n",
       "      <td>2021-01-18</td>\n",
       "      <td>1</td>\n",
       "      <td>6</td>\n",
       "      <td>0</td>\n",
       "      <td>199</td>\n",
       "    </tr>\n",
       "    <tr>\n",
       "      <th>2</th>\n",
       "      <td>1</td>\n",
       "      <td>Кира</td>\n",
       "      <td>22</td>\n",
       "      <td>Тюмень</td>\n",
       "      <td>ultra</td>\n",
       "      <td>754.16</td>\n",
       "      <td>6.232113</td>\n",
       "      <td>2021-04-20</td>\n",
       "      <td>4</td>\n",
       "      <td>6</td>\n",
       "      <td>0</td>\n",
       "      <td>199</td>\n",
       "    </tr>\n",
       "    <tr>\n",
       "      <th>3</th>\n",
       "      <td>1</td>\n",
       "      <td>Кира</td>\n",
       "      <td>22</td>\n",
       "      <td>Тюмень</td>\n",
       "      <td>ultra</td>\n",
       "      <td>2694.78</td>\n",
       "      <td>18.511000</td>\n",
       "      <td>2021-08-11</td>\n",
       "      <td>8</td>\n",
       "      <td>6</td>\n",
       "      <td>0</td>\n",
       "      <td>199</td>\n",
       "    </tr>\n",
       "    <tr>\n",
       "      <th>4</th>\n",
       "      <td>1</td>\n",
       "      <td>Кира</td>\n",
       "      <td>22</td>\n",
       "      <td>Тюмень</td>\n",
       "      <td>ultra</td>\n",
       "      <td>4028.69</td>\n",
       "      <td>26.265803</td>\n",
       "      <td>2021-08-28</td>\n",
       "      <td>8</td>\n",
       "      <td>6</td>\n",
       "      <td>0</td>\n",
       "      <td>199</td>\n",
       "    </tr>\n",
       "    <tr>\n",
       "      <th>...</th>\n",
       "      <td>...</td>\n",
       "      <td>...</td>\n",
       "      <td>...</td>\n",
       "      <td>...</td>\n",
       "      <td>...</td>\n",
       "      <td>...</td>\n",
       "      <td>...</td>\n",
       "      <td>...</td>\n",
       "      <td>...</td>\n",
       "      <td>...</td>\n",
       "      <td>...</td>\n",
       "      <td>...</td>\n",
       "    </tr>\n",
       "    <tr>\n",
       "      <th>18063</th>\n",
       "      <td>1534</td>\n",
       "      <td>Альберт</td>\n",
       "      <td>25</td>\n",
       "      <td>Краснодар</td>\n",
       "      <td>free</td>\n",
       "      <td>3781.10</td>\n",
       "      <td>19.822962</td>\n",
       "      <td>2021-11-04</td>\n",
       "      <td>11</td>\n",
       "      <td>8</td>\n",
       "      <td>50</td>\n",
       "      <td>0</td>\n",
       "    </tr>\n",
       "    <tr>\n",
       "      <th>18064</th>\n",
       "      <td>1534</td>\n",
       "      <td>Альберт</td>\n",
       "      <td>25</td>\n",
       "      <td>Краснодар</td>\n",
       "      <td>free</td>\n",
       "      <td>2840.42</td>\n",
       "      <td>21.409799</td>\n",
       "      <td>2021-11-16</td>\n",
       "      <td>11</td>\n",
       "      <td>8</td>\n",
       "      <td>50</td>\n",
       "      <td>0</td>\n",
       "    </tr>\n",
       "    <tr>\n",
       "      <th>18065</th>\n",
       "      <td>1534</td>\n",
       "      <td>Альберт</td>\n",
       "      <td>25</td>\n",
       "      <td>Краснодар</td>\n",
       "      <td>free</td>\n",
       "      <td>3826.19</td>\n",
       "      <td>18.435051</td>\n",
       "      <td>2021-11-18</td>\n",
       "      <td>11</td>\n",
       "      <td>8</td>\n",
       "      <td>50</td>\n",
       "      <td>0</td>\n",
       "    </tr>\n",
       "    <tr>\n",
       "      <th>18066</th>\n",
       "      <td>1534</td>\n",
       "      <td>Альберт</td>\n",
       "      <td>25</td>\n",
       "      <td>Краснодар</td>\n",
       "      <td>free</td>\n",
       "      <td>2902.31</td>\n",
       "      <td>16.674362</td>\n",
       "      <td>2021-11-27</td>\n",
       "      <td>11</td>\n",
       "      <td>8</td>\n",
       "      <td>50</td>\n",
       "      <td>0</td>\n",
       "    </tr>\n",
       "    <tr>\n",
       "      <th>18067</th>\n",
       "      <td>1534</td>\n",
       "      <td>Альберт</td>\n",
       "      <td>25</td>\n",
       "      <td>Краснодар</td>\n",
       "      <td>free</td>\n",
       "      <td>2371.71</td>\n",
       "      <td>15.893917</td>\n",
       "      <td>2021-12-29</td>\n",
       "      <td>12</td>\n",
       "      <td>8</td>\n",
       "      <td>50</td>\n",
       "      <td>0</td>\n",
       "    </tr>\n",
       "  </tbody>\n",
       "</table>\n",
       "<p>18068 rows × 12 columns</p>\n",
       "</div>"
      ],
      "text/plain": [
       "       user_id     name  age       city subscription_type  distance  \\\n",
       "0            1     Кира   22     Тюмень             ultra   4409.92   \n",
       "1            1     Кира   22     Тюмень             ultra   2617.59   \n",
       "2            1     Кира   22     Тюмень             ultra    754.16   \n",
       "3            1     Кира   22     Тюмень             ultra   2694.78   \n",
       "4            1     Кира   22     Тюмень             ultra   4028.69   \n",
       "...        ...      ...  ...        ...               ...       ...   \n",
       "18063     1534  Альберт   25  Краснодар              free   3781.10   \n",
       "18064     1534  Альберт   25  Краснодар              free   2840.42   \n",
       "18065     1534  Альберт   25  Краснодар              free   3826.19   \n",
       "18066     1534  Альберт   25  Краснодар              free   2902.31   \n",
       "18067     1534  Альберт   25  Краснодар              free   2371.71   \n",
       "\n",
       "        duration       date  month  minute_price  start_ride_price  \\\n",
       "0      25.599769 2021-01-01      1             6                 0   \n",
       "1      15.816871 2021-01-18      1             6                 0   \n",
       "2       6.232113 2021-04-20      4             6                 0   \n",
       "3      18.511000 2021-08-11      8             6                 0   \n",
       "4      26.265803 2021-08-28      8             6                 0   \n",
       "...          ...        ...    ...           ...               ...   \n",
       "18063  19.822962 2021-11-04     11             8                50   \n",
       "18064  21.409799 2021-11-16     11             8                50   \n",
       "18065  18.435051 2021-11-18     11             8                50   \n",
       "18066  16.674362 2021-11-27     11             8                50   \n",
       "18067  15.893917 2021-12-29     12             8                50   \n",
       "\n",
       "       subscription_fee  \n",
       "0                   199  \n",
       "1                   199  \n",
       "2                   199  \n",
       "3                   199  \n",
       "4                   199  \n",
       "...                 ...  \n",
       "18063                 0  \n",
       "18064                 0  \n",
       "18065                 0  \n",
       "18066                 0  \n",
       "18067                 0  \n",
       "\n",
       "[18068 rows x 12 columns]"
      ]
     },
     "execution_count": 42,
     "metadata": {},
     "output_type": "execute_result"
    }
   ],
   "source": [
    "data_summ #выведем на экран объединенный датафрейм"
   ]
  },
  {
   "cell_type": "markdown",
   "id": "0e8cdaf0",
   "metadata": {},
   "source": [
    "Размерность объединенного датафрейма 18068 на 12. \n",
    "Размеры предыдущих датафреймов 1534 на 5, 18068 на 5, 2 на 4. Количество столбцов получилось 12, поскольку два из них в первых двух датафреймах повторяются."
   ]
  },
  {
   "cell_type": "markdown",
   "id": "b9b81631-1289-42b1-9f17-f5df7f319bac",
   "metadata": {},
   "source": [
    "Создадим датафрейм c данными о пользователях без подписки"
   ]
  },
  {
   "cell_type": "markdown",
   "id": "4a6181ec-1ea2-4518-9de6-b22edc745dbf",
   "metadata": {},
   "source": [
    "Создадим датафрейм пользователей без подписки"
   ]
  },
  {
   "cell_type": "code",
   "execution_count": 43,
   "id": "ccef8a2b-7d21-4f51-a5b4-2cb2b33dca27",
   "metadata": {},
   "outputs": [],
   "source": [
    "data_not_sub = data_summ[data_summ['subscription_type'] == 'free']"
   ]
  },
  {
   "cell_type": "code",
   "execution_count": 44,
   "id": "2b54e86d-1b28-40bd-83d7-f2bc18262a06",
   "metadata": {},
   "outputs": [
    {
     "data": {
      "text/html": [
       "<div>\n",
       "<style scoped>\n",
       "    .dataframe tbody tr th:only-of-type {\n",
       "        vertical-align: middle;\n",
       "    }\n",
       "\n",
       "    .dataframe tbody tr th {\n",
       "        vertical-align: top;\n",
       "    }\n",
       "\n",
       "    .dataframe thead th {\n",
       "        text-align: right;\n",
       "    }\n",
       "</style>\n",
       "<table border=\"1\" class=\"dataframe\">\n",
       "  <thead>\n",
       "    <tr style=\"text-align: right;\">\n",
       "      <th></th>\n",
       "      <th>user_id</th>\n",
       "      <th>name</th>\n",
       "      <th>age</th>\n",
       "      <th>city</th>\n",
       "      <th>subscription_type</th>\n",
       "      <th>distance</th>\n",
       "      <th>duration</th>\n",
       "      <th>date</th>\n",
       "      <th>month</th>\n",
       "      <th>minute_price</th>\n",
       "      <th>start_ride_price</th>\n",
       "      <th>subscription_fee</th>\n",
       "    </tr>\n",
       "  </thead>\n",
       "  <tbody>\n",
       "    <tr>\n",
       "      <th>6500</th>\n",
       "      <td>700</td>\n",
       "      <td>Айдар</td>\n",
       "      <td>22</td>\n",
       "      <td>Омск</td>\n",
       "      <td>free</td>\n",
       "      <td>2515.69</td>\n",
       "      <td>14.944286</td>\n",
       "      <td>2021-01-02</td>\n",
       "      <td>1</td>\n",
       "      <td>8</td>\n",
       "      <td>50</td>\n",
       "      <td>0</td>\n",
       "    </tr>\n",
       "    <tr>\n",
       "      <th>6501</th>\n",
       "      <td>700</td>\n",
       "      <td>Айдар</td>\n",
       "      <td>22</td>\n",
       "      <td>Омск</td>\n",
       "      <td>free</td>\n",
       "      <td>846.93</td>\n",
       "      <td>16.234663</td>\n",
       "      <td>2021-02-01</td>\n",
       "      <td>2</td>\n",
       "      <td>8</td>\n",
       "      <td>50</td>\n",
       "      <td>0</td>\n",
       "    </tr>\n",
       "    <tr>\n",
       "      <th>6502</th>\n",
       "      <td>700</td>\n",
       "      <td>Айдар</td>\n",
       "      <td>22</td>\n",
       "      <td>Омск</td>\n",
       "      <td>free</td>\n",
       "      <td>4004.43</td>\n",
       "      <td>20.016628</td>\n",
       "      <td>2021-02-04</td>\n",
       "      <td>2</td>\n",
       "      <td>8</td>\n",
       "      <td>50</td>\n",
       "      <td>0</td>\n",
       "    </tr>\n",
       "    <tr>\n",
       "      <th>6503</th>\n",
       "      <td>700</td>\n",
       "      <td>Айдар</td>\n",
       "      <td>22</td>\n",
       "      <td>Омск</td>\n",
       "      <td>free</td>\n",
       "      <td>1205.91</td>\n",
       "      <td>9.782872</td>\n",
       "      <td>2021-02-10</td>\n",
       "      <td>2</td>\n",
       "      <td>8</td>\n",
       "      <td>50</td>\n",
       "      <td>0</td>\n",
       "    </tr>\n",
       "    <tr>\n",
       "      <th>6504</th>\n",
       "      <td>700</td>\n",
       "      <td>Айдар</td>\n",
       "      <td>22</td>\n",
       "      <td>Омск</td>\n",
       "      <td>free</td>\n",
       "      <td>3047.38</td>\n",
       "      <td>17.427673</td>\n",
       "      <td>2021-02-14</td>\n",
       "      <td>2</td>\n",
       "      <td>8</td>\n",
       "      <td>50</td>\n",
       "      <td>0</td>\n",
       "    </tr>\n",
       "    <tr>\n",
       "      <th>...</th>\n",
       "      <td>...</td>\n",
       "      <td>...</td>\n",
       "      <td>...</td>\n",
       "      <td>...</td>\n",
       "      <td>...</td>\n",
       "      <td>...</td>\n",
       "      <td>...</td>\n",
       "      <td>...</td>\n",
       "      <td>...</td>\n",
       "      <td>...</td>\n",
       "      <td>...</td>\n",
       "      <td>...</td>\n",
       "    </tr>\n",
       "    <tr>\n",
       "      <th>18063</th>\n",
       "      <td>1534</td>\n",
       "      <td>Альберт</td>\n",
       "      <td>25</td>\n",
       "      <td>Краснодар</td>\n",
       "      <td>free</td>\n",
       "      <td>3781.10</td>\n",
       "      <td>19.822962</td>\n",
       "      <td>2021-11-04</td>\n",
       "      <td>11</td>\n",
       "      <td>8</td>\n",
       "      <td>50</td>\n",
       "      <td>0</td>\n",
       "    </tr>\n",
       "    <tr>\n",
       "      <th>18064</th>\n",
       "      <td>1534</td>\n",
       "      <td>Альберт</td>\n",
       "      <td>25</td>\n",
       "      <td>Краснодар</td>\n",
       "      <td>free</td>\n",
       "      <td>2840.42</td>\n",
       "      <td>21.409799</td>\n",
       "      <td>2021-11-16</td>\n",
       "      <td>11</td>\n",
       "      <td>8</td>\n",
       "      <td>50</td>\n",
       "      <td>0</td>\n",
       "    </tr>\n",
       "    <tr>\n",
       "      <th>18065</th>\n",
       "      <td>1534</td>\n",
       "      <td>Альберт</td>\n",
       "      <td>25</td>\n",
       "      <td>Краснодар</td>\n",
       "      <td>free</td>\n",
       "      <td>3826.19</td>\n",
       "      <td>18.435051</td>\n",
       "      <td>2021-11-18</td>\n",
       "      <td>11</td>\n",
       "      <td>8</td>\n",
       "      <td>50</td>\n",
       "      <td>0</td>\n",
       "    </tr>\n",
       "    <tr>\n",
       "      <th>18066</th>\n",
       "      <td>1534</td>\n",
       "      <td>Альберт</td>\n",
       "      <td>25</td>\n",
       "      <td>Краснодар</td>\n",
       "      <td>free</td>\n",
       "      <td>2902.31</td>\n",
       "      <td>16.674362</td>\n",
       "      <td>2021-11-27</td>\n",
       "      <td>11</td>\n",
       "      <td>8</td>\n",
       "      <td>50</td>\n",
       "      <td>0</td>\n",
       "    </tr>\n",
       "    <tr>\n",
       "      <th>18067</th>\n",
       "      <td>1534</td>\n",
       "      <td>Альберт</td>\n",
       "      <td>25</td>\n",
       "      <td>Краснодар</td>\n",
       "      <td>free</td>\n",
       "      <td>2371.71</td>\n",
       "      <td>15.893917</td>\n",
       "      <td>2021-12-29</td>\n",
       "      <td>12</td>\n",
       "      <td>8</td>\n",
       "      <td>50</td>\n",
       "      <td>0</td>\n",
       "    </tr>\n",
       "  </tbody>\n",
       "</table>\n",
       "<p>11568 rows × 12 columns</p>\n",
       "</div>"
      ],
      "text/plain": [
       "       user_id     name  age       city subscription_type  distance  \\\n",
       "6500       700    Айдар   22       Омск              free   2515.69   \n",
       "6501       700    Айдар   22       Омск              free    846.93   \n",
       "6502       700    Айдар   22       Омск              free   4004.43   \n",
       "6503       700    Айдар   22       Омск              free   1205.91   \n",
       "6504       700    Айдар   22       Омск              free   3047.38   \n",
       "...        ...      ...  ...        ...               ...       ...   \n",
       "18063     1534  Альберт   25  Краснодар              free   3781.10   \n",
       "18064     1534  Альберт   25  Краснодар              free   2840.42   \n",
       "18065     1534  Альберт   25  Краснодар              free   3826.19   \n",
       "18066     1534  Альберт   25  Краснодар              free   2902.31   \n",
       "18067     1534  Альберт   25  Краснодар              free   2371.71   \n",
       "\n",
       "        duration       date  month  minute_price  start_ride_price  \\\n",
       "6500   14.944286 2021-01-02      1             8                50   \n",
       "6501   16.234663 2021-02-01      2             8                50   \n",
       "6502   20.016628 2021-02-04      2             8                50   \n",
       "6503    9.782872 2021-02-10      2             8                50   \n",
       "6504   17.427673 2021-02-14      2             8                50   \n",
       "...          ...        ...    ...           ...               ...   \n",
       "18063  19.822962 2021-11-04     11             8                50   \n",
       "18064  21.409799 2021-11-16     11             8                50   \n",
       "18065  18.435051 2021-11-18     11             8                50   \n",
       "18066  16.674362 2021-11-27     11             8                50   \n",
       "18067  15.893917 2021-12-29     12             8                50   \n",
       "\n",
       "       subscription_fee  \n",
       "6500                  0  \n",
       "6501                  0  \n",
       "6502                  0  \n",
       "6503                  0  \n",
       "6504                  0  \n",
       "...                 ...  \n",
       "18063                 0  \n",
       "18064                 0  \n",
       "18065                 0  \n",
       "18066                 0  \n",
       "18067                 0  \n",
       "\n",
       "[11568 rows x 12 columns]"
      ]
     },
     "execution_count": 44,
     "metadata": {},
     "output_type": "execute_result"
    }
   ],
   "source": [
    "data_not_sub #выведем на экран получившийся датафрейм"
   ]
  },
  {
   "cell_type": "markdown",
   "id": "db6b0750-bed3-4bf9-a2e0-0e58602c6e53",
   "metadata": {},
   "source": [
    "Создадим датафрейм c данными о пользователях с подпиской"
   ]
  },
  {
   "cell_type": "code",
   "execution_count": 45,
   "id": "45a2c830-e425-49c1-8fe7-0ff5c04226e3",
   "metadata": {},
   "outputs": [],
   "source": [
    "data_sub_ultra = data_summ[data_summ['subscription_type'] == 'ultra']"
   ]
  },
  {
   "cell_type": "code",
   "execution_count": 46,
   "id": "c8d5900f-5103-44be-9d6d-7c5e09f41404",
   "metadata": {},
   "outputs": [
    {
     "data": {
      "text/html": [
       "<div>\n",
       "<style scoped>\n",
       "    .dataframe tbody tr th:only-of-type {\n",
       "        vertical-align: middle;\n",
       "    }\n",
       "\n",
       "    .dataframe tbody tr th {\n",
       "        vertical-align: top;\n",
       "    }\n",
       "\n",
       "    .dataframe thead th {\n",
       "        text-align: right;\n",
       "    }\n",
       "</style>\n",
       "<table border=\"1\" class=\"dataframe\">\n",
       "  <thead>\n",
       "    <tr style=\"text-align: right;\">\n",
       "      <th></th>\n",
       "      <th>user_id</th>\n",
       "      <th>name</th>\n",
       "      <th>age</th>\n",
       "      <th>city</th>\n",
       "      <th>subscription_type</th>\n",
       "      <th>distance</th>\n",
       "      <th>duration</th>\n",
       "      <th>date</th>\n",
       "      <th>month</th>\n",
       "      <th>minute_price</th>\n",
       "      <th>start_ride_price</th>\n",
       "      <th>subscription_fee</th>\n",
       "    </tr>\n",
       "  </thead>\n",
       "  <tbody>\n",
       "    <tr>\n",
       "      <th>0</th>\n",
       "      <td>1</td>\n",
       "      <td>Кира</td>\n",
       "      <td>22</td>\n",
       "      <td>Тюмень</td>\n",
       "      <td>ultra</td>\n",
       "      <td>4409.92</td>\n",
       "      <td>25.599769</td>\n",
       "      <td>2021-01-01</td>\n",
       "      <td>1</td>\n",
       "      <td>6</td>\n",
       "      <td>0</td>\n",
       "      <td>199</td>\n",
       "    </tr>\n",
       "    <tr>\n",
       "      <th>1</th>\n",
       "      <td>1</td>\n",
       "      <td>Кира</td>\n",
       "      <td>22</td>\n",
       "      <td>Тюмень</td>\n",
       "      <td>ultra</td>\n",
       "      <td>2617.59</td>\n",
       "      <td>15.816871</td>\n",
       "      <td>2021-01-18</td>\n",
       "      <td>1</td>\n",
       "      <td>6</td>\n",
       "      <td>0</td>\n",
       "      <td>199</td>\n",
       "    </tr>\n",
       "    <tr>\n",
       "      <th>2</th>\n",
       "      <td>1</td>\n",
       "      <td>Кира</td>\n",
       "      <td>22</td>\n",
       "      <td>Тюмень</td>\n",
       "      <td>ultra</td>\n",
       "      <td>754.16</td>\n",
       "      <td>6.232113</td>\n",
       "      <td>2021-04-20</td>\n",
       "      <td>4</td>\n",
       "      <td>6</td>\n",
       "      <td>0</td>\n",
       "      <td>199</td>\n",
       "    </tr>\n",
       "    <tr>\n",
       "      <th>3</th>\n",
       "      <td>1</td>\n",
       "      <td>Кира</td>\n",
       "      <td>22</td>\n",
       "      <td>Тюмень</td>\n",
       "      <td>ultra</td>\n",
       "      <td>2694.78</td>\n",
       "      <td>18.511000</td>\n",
       "      <td>2021-08-11</td>\n",
       "      <td>8</td>\n",
       "      <td>6</td>\n",
       "      <td>0</td>\n",
       "      <td>199</td>\n",
       "    </tr>\n",
       "    <tr>\n",
       "      <th>4</th>\n",
       "      <td>1</td>\n",
       "      <td>Кира</td>\n",
       "      <td>22</td>\n",
       "      <td>Тюмень</td>\n",
       "      <td>ultra</td>\n",
       "      <td>4028.69</td>\n",
       "      <td>26.265803</td>\n",
       "      <td>2021-08-28</td>\n",
       "      <td>8</td>\n",
       "      <td>6</td>\n",
       "      <td>0</td>\n",
       "      <td>199</td>\n",
       "    </tr>\n",
       "    <tr>\n",
       "      <th>...</th>\n",
       "      <td>...</td>\n",
       "      <td>...</td>\n",
       "      <td>...</td>\n",
       "      <td>...</td>\n",
       "      <td>...</td>\n",
       "      <td>...</td>\n",
       "      <td>...</td>\n",
       "      <td>...</td>\n",
       "      <td>...</td>\n",
       "      <td>...</td>\n",
       "      <td>...</td>\n",
       "      <td>...</td>\n",
       "    </tr>\n",
       "    <tr>\n",
       "      <th>6495</th>\n",
       "      <td>699</td>\n",
       "      <td>Оксана</td>\n",
       "      <td>22</td>\n",
       "      <td>Москва</td>\n",
       "      <td>ultra</td>\n",
       "      <td>3973.05</td>\n",
       "      <td>24.671163</td>\n",
       "      <td>2021-08-29</td>\n",
       "      <td>8</td>\n",
       "      <td>6</td>\n",
       "      <td>0</td>\n",
       "      <td>199</td>\n",
       "    </tr>\n",
       "    <tr>\n",
       "      <th>6496</th>\n",
       "      <td>699</td>\n",
       "      <td>Оксана</td>\n",
       "      <td>22</td>\n",
       "      <td>Москва</td>\n",
       "      <td>ultra</td>\n",
       "      <td>3288.70</td>\n",
       "      <td>15.892886</td>\n",
       "      <td>2021-09-12</td>\n",
       "      <td>9</td>\n",
       "      <td>6</td>\n",
       "      <td>0</td>\n",
       "      <td>199</td>\n",
       "    </tr>\n",
       "    <tr>\n",
       "      <th>6497</th>\n",
       "      <td>699</td>\n",
       "      <td>Оксана</td>\n",
       "      <td>22</td>\n",
       "      <td>Москва</td>\n",
       "      <td>ultra</td>\n",
       "      <td>3076.16</td>\n",
       "      <td>14.389525</td>\n",
       "      <td>2021-09-26</td>\n",
       "      <td>9</td>\n",
       "      <td>6</td>\n",
       "      <td>0</td>\n",
       "      <td>199</td>\n",
       "    </tr>\n",
       "    <tr>\n",
       "      <th>6498</th>\n",
       "      <td>699</td>\n",
       "      <td>Оксана</td>\n",
       "      <td>22</td>\n",
       "      <td>Москва</td>\n",
       "      <td>ultra</td>\n",
       "      <td>4707.85</td>\n",
       "      <td>15.839579</td>\n",
       "      <td>2021-10-17</td>\n",
       "      <td>10</td>\n",
       "      <td>6</td>\n",
       "      <td>0</td>\n",
       "      <td>199</td>\n",
       "    </tr>\n",
       "    <tr>\n",
       "      <th>6499</th>\n",
       "      <td>699</td>\n",
       "      <td>Оксана</td>\n",
       "      <td>22</td>\n",
       "      <td>Москва</td>\n",
       "      <td>ultra</td>\n",
       "      <td>3202.89</td>\n",
       "      <td>25.217345</td>\n",
       "      <td>2021-12-03</td>\n",
       "      <td>12</td>\n",
       "      <td>6</td>\n",
       "      <td>0</td>\n",
       "      <td>199</td>\n",
       "    </tr>\n",
       "  </tbody>\n",
       "</table>\n",
       "<p>6500 rows × 12 columns</p>\n",
       "</div>"
      ],
      "text/plain": [
       "      user_id    name  age    city subscription_type  distance   duration  \\\n",
       "0           1    Кира   22  Тюмень             ultra   4409.92  25.599769   \n",
       "1           1    Кира   22  Тюмень             ultra   2617.59  15.816871   \n",
       "2           1    Кира   22  Тюмень             ultra    754.16   6.232113   \n",
       "3           1    Кира   22  Тюмень             ultra   2694.78  18.511000   \n",
       "4           1    Кира   22  Тюмень             ultra   4028.69  26.265803   \n",
       "...       ...     ...  ...     ...               ...       ...        ...   \n",
       "6495      699  Оксана   22  Москва             ultra   3973.05  24.671163   \n",
       "6496      699  Оксана   22  Москва             ultra   3288.70  15.892886   \n",
       "6497      699  Оксана   22  Москва             ultra   3076.16  14.389525   \n",
       "6498      699  Оксана   22  Москва             ultra   4707.85  15.839579   \n",
       "6499      699  Оксана   22  Москва             ultra   3202.89  25.217345   \n",
       "\n",
       "           date  month  minute_price  start_ride_price  subscription_fee  \n",
       "0    2021-01-01      1             6                 0               199  \n",
       "1    2021-01-18      1             6                 0               199  \n",
       "2    2021-04-20      4             6                 0               199  \n",
       "3    2021-08-11      8             6                 0               199  \n",
       "4    2021-08-28      8             6                 0               199  \n",
       "...         ...    ...           ...               ...               ...  \n",
       "6495 2021-08-29      8             6                 0               199  \n",
       "6496 2021-09-12      9             6                 0               199  \n",
       "6497 2021-09-26      9             6                 0               199  \n",
       "6498 2021-10-17     10             6                 0               199  \n",
       "6499 2021-12-03     12             6                 0               199  \n",
       "\n",
       "[6500 rows x 12 columns]"
      ]
     },
     "execution_count": 46,
     "metadata": {},
     "output_type": "execute_result"
    }
   ],
   "source": [
    "data_sub_ultra #выведем на экран получившийся датафрейм"
   ]
  },
  {
   "cell_type": "markdown",
   "id": "30808ea2-2e8e-479a-8dd9-d3aceb8d4295",
   "metadata": {},
   "source": [
    "Визуализируем информацию о расстоянии для пользователей без подписки"
   ]
  },
  {
   "cell_type": "markdown",
   "id": "62cf36df-988c-4eef-9524-7b3cb25e7faf",
   "metadata": {},
   "source": [
    "Построим гистограмму зависимости расстояния от количества поездок у пользователей без подписки"
   ]
  },
  {
   "cell_type": "code",
   "execution_count": 47,
   "id": "c3e7ee37-5f50-4f2a-92f3-e184a988519f",
   "metadata": {},
   "outputs": [
    {
     "data": {
      "image/png": "[encoded data removed]",
      "text/plain": [
       "<Figure size 432x288 with 1 Axes>"
      ]
     },
     "metadata": {
      "needs_background": "light"
     },
     "output_type": "display_data"
    },
    {
     "data": {
      "text/plain": [
       "<Figure size 2160x2160 with 0 Axes>"
      ]
     },
     "metadata": {},
     "output_type": "display_data"
    }
   ],
   "source": [
    "plt.hist(data_not_sub['distance'], bins=20)\n",
    "plt.title('Зависимость расстояния от количества поездок у пользователей без подписки')\n",
    "plt.xlabel('Расстояние')\n",
    "plt.ylabel('Количество поездок')\n",
    "plt.figure(figsize=(30,30))\n",
    "plt.show()"
   ]
  },
  {
   "cell_type": "code",
   "execution_count": 48,
   "id": "8fcb8add-f69b-4b65-88e5-4865c1e9ce33",
   "metadata": {},
   "outputs": [
    {
     "data": {
      "text/plain": [
       "count    11568.000000\n",
       "mean      3045.495284\n",
       "std       1246.173810\n",
       "min          0.860000\n",
       "25%       2366.560000\n",
       "50%       3114.650000\n",
       "75%       3905.695000\n",
       "max       7211.010000\n",
       "Name: distance, dtype: float64"
      ]
     },
     "execution_count": 48,
     "metadata": {},
     "output_type": "execute_result"
    }
   ],
   "source": [
    "data_not_sub['distance'].describe()"
   ]
  },
  {
   "cell_type": "markdown",
   "id": "5e5d5399-9ce7-4b9c-afcf-aed2ad2d6cd6",
   "metadata": {},
   "source": [
    "медианное значение расстояния для тарифа с бесплатной подпиской составляет 3114 метров, первый квартиль 2366, второй 3905 метров"
   ]
  },
  {
   "cell_type": "markdown",
   "id": "509fb602-6a6f-47c9-a224-c516295e8bb5",
   "metadata": {},
   "source": [
    "Визуализируем информацию о времени поездок для пользователей без подписки"
   ]
  },
  {
   "cell_type": "code",
   "execution_count": 49,
   "id": "013abf98-ac03-446d-8c46-cc4e7381c76c",
   "metadata": {},
   "outputs": [
    {
     "data": {
      "image/png": "[encoded data removed]",
      "text/plain": [
       "<Figure size 432x288 with 1 Axes>"
      ]
     },
     "metadata": {
      "needs_background": "light"
     },
     "output_type": "display_data"
    },
    {
     "data": {
      "text/plain": [
       "<Figure size 2160x2160 with 0 Axes>"
      ]
     },
     "metadata": {},
     "output_type": "display_data"
    }
   ],
   "source": [
    "plt.hist(data_not_sub['duration'], bins=20)\n",
    "plt.title('Зависимость времени поездки от расстояния в тарифе без подписки')\n",
    "plt.xlabel('Время поездки')\n",
    "plt.ylabel('Количество поездок')\n",
    "plt.figure(figsize=(30,30))\n",
    "plt.show()"
   ]
  },
  {
   "cell_type": "code",
   "execution_count": 50,
   "id": "81706276-66a0-412a-b24a-9bbf06a4dd4b",
   "metadata": {},
   "outputs": [
    {
     "data": {
      "text/plain": [
       "count    11568.000000\n",
       "mean        17.390909\n",
       "std          6.326803\n",
       "min          0.500000\n",
       "25%         12.958437\n",
       "50%         17.326890\n",
       "75%         21.594071\n",
       "max         34.948498\n",
       "Name: duration, dtype: float64"
      ]
     },
     "execution_count": 50,
     "metadata": {},
     "output_type": "execute_result"
    }
   ],
   "source": [
    "data_not_sub['duration'].describe()"
   ]
  },
  {
   "cell_type": "markdown",
   "id": "cfc22ae0-2520-41f9-ad21-fac90d666d07",
   "metadata": {},
   "source": [
    "Медианное значение времени для тарифа без подписки 17,3 минуты. Первый квартиль 13 минут, второй 21,5. Максимальное время поездки почти 35 минуи, минимальное пол минуты"
   ]
  },
  {
   "cell_type": "markdown",
   "id": "af5ed3a5-bc38-4eae-bea1-cf1a85362740",
   "metadata": {},
   "source": [
    "Построим гистограмму зависимости расстояния от количества поездок у пользователей с подпиской"
   ]
  },
  {
   "cell_type": "code",
   "execution_count": 51,
   "id": "7bfd85ba-3fa2-4bdb-89d8-65e5182f73c6",
   "metadata": {},
   "outputs": [
    {
     "data": {
      "image/png": "[encoded data removed]",
      "text/plain": [
       "<Figure size 432x288 with 1 Axes>"
      ]
     },
     "metadata": {
      "needs_background": "light"
     },
     "output_type": "display_data"
    },
    {
     "data": {
      "text/plain": [
       "<Figure size 2160x2160 with 0 Axes>"
      ]
     },
     "metadata": {},
     "output_type": "display_data"
    }
   ],
   "source": [
    "plt.hist(data_sub_ultra['distance'], bins=20)\n",
    "plt.title('Зависимость расстояния от количества поездок у пользователей с подпиской')\n",
    "plt.xlabel('Расстояние')\n",
    "plt.ylabel('Количество поездок')\n",
    "plt.figure(figsize=(30,30))\n",
    "plt.show()"
   ]
  },
  {
   "cell_type": "code",
   "execution_count": 52,
   "id": "131f5b0d-389a-452e-bbb9-b1c4a218144c",
   "metadata": {},
   "outputs": [
    {
     "data": {
      "text/plain": [
       "count    6500.000000\n",
       "mean     3115.445431\n",
       "std       836.895369\n",
       "min       244.210000\n",
       "25%      2785.447500\n",
       "50%      3148.640000\n",
       "75%      3560.577500\n",
       "max      5699.770000\n",
       "Name: distance, dtype: float64"
      ]
     },
     "execution_count": 52,
     "metadata": {},
     "output_type": "execute_result"
    }
   ],
   "source": [
    "data_sub_ultra['distance'].describe()"
   ]
  },
  {
   "cell_type": "markdown",
   "id": "b81d1a91-f7e0-4f63-81ea-9fc92ea02f21",
   "metadata": {},
   "source": [
    "Медианное значение расстояния у пользователей с платной подпиской 3148 метров, первый квартиль 2785,5м, второй 3560. Максимальная дистанция 5699, минимальная 244 метра."
   ]
  },
  {
   "cell_type": "markdown",
   "id": "18a17e87-7d32-4ff9-b6ac-f2513aa6d88b",
   "metadata": {},
   "source": [
    "Визуализируем информацию о времени поездок для пользователей с подпиской"
   ]
  },
  {
   "cell_type": "code",
   "execution_count": 53,
   "id": "a833f91a-e519-437c-9efd-ac502e03da1a",
   "metadata": {},
   "outputs": [
    {
     "data": {
      "image/png": "[encoded data removed]",
      "text/plain": [
       "<Figure size 432x288 with 1 Axes>"
      ]
     },
     "metadata": {
      "needs_background": "light"
     },
     "output_type": "display_data"
    },
    {
     "data": {
      "text/plain": [
       "<Figure size 2160x2160 with 0 Axes>"
      ]
     },
     "metadata": {},
     "output_type": "display_data"
    }
   ],
   "source": [
    "plt.hist(data_sub_ultra['duration'], bins=20)\n",
    "plt.title('Зависимость времени поездки от расстояния в тарифе с подпиской')\n",
    "plt.xlabel('Время поездки')\n",
    "plt.ylabel('Количество поездок')\n",
    "plt.figure(figsize=(30,30))\n",
    "plt.show()"
   ]
  },
  {
   "cell_type": "code",
   "execution_count": 54,
   "id": "546fa7b4-3d62-490e-a699-76729e13f427",
   "metadata": {},
   "outputs": [
    {
     "data": {
      "text/plain": [
       "count    6500.000000\n",
       "mean       18.541985\n",
       "std         5.572048\n",
       "min         3.760353\n",
       "25%        14.524654\n",
       "50%        18.178153\n",
       "75%        21.884129\n",
       "max        40.823963\n",
       "Name: duration, dtype: float64"
      ]
     },
     "execution_count": 54,
     "metadata": {},
     "output_type": "execute_result"
    }
   ],
   "source": [
    "data_sub_ultra['duration'].describe()"
   ]
  },
  {
   "cell_type": "markdown",
   "id": "3a721641-74d6-4852-914d-01a8924ff675",
   "metadata": {},
   "source": [
    "Медианное значение времени у пользователей с платной подпиской составляет 18 минут, первый квартиль 14,5, второй 21,8 минут. Максимальная длительность поездки почти 41 минута, минимальное 3,7 минут."
   ]
  },
  {
   "cell_type": "markdown",
   "id": "6c2043b8-e883-4fca-a6fa-af4c63bf62d0",
   "metadata": {},
   "source": [
    "Выводы: Наличие платной подписки влияет на медианное значение времени поездки, с подпиской оно составляет 18 минут, без подписки 17,3 минуты. Также отличаются квартили, в тарифе без подписки от 13 до 21,5 минут, с подпиской от 14,5 до 21,8 минут. В среднем пользователи дольше используют самокаты на платном тарифе.\n",
    "Наличие платной подписки также влияет и на расстояние поездки. Медианное у платного тарифа составляет 3148 метров, тогда как у пользователей без платного тарифа 3114 метров. Квартили тоже отличаются, у пользователей платной подписки первый квартиль 2785,5м, второй 3560, у пользователей без платного тарифа первый квартиль 2366, второй 3905 метров.\n",
    "Общий вывод: У пользователей, у которых имеется платный тариф, в среднем, продолжительность и дальность поездок выше, чем у пользователей без подписки."
   ]
  },
  {
   "cell_type": "markdown",
   "id": "7f042706-1455-4649-9391-25102f6a8bc8",
   "metadata": {},
   "source": [
    "Шаг 5. Подсчёт выручки"
   ]
  },
  {
   "cell_type": "markdown",
   "id": "87689352-00d2-442e-89b8-8d0f9e032851",
   "metadata": {},
   "source": [
    "Создадим датафрейм с агрегированными данными о поездках на основе датафрейма с объединёнными данными из шага 4. Найдем суммарное расстояние, количество поездок и суммарное время для каждого пользователя за каждый месяц. Создадим новый датафрейм и добавим со столбцами distance duration minute_price start_ride_price\tsubscription_fee"
   ]
  },
  {
   "cell_type": "code",
   "execution_count": 55,
   "id": "31bf3cab",
   "metadata": {},
   "outputs": [],
   "source": [
    "data_summ['duration'] = np.ceil(data_summ['duration']) #окгруглим время каждой поездки в большую второну до минуты "
   ]
  },
  {
   "cell_type": "code",
   "execution_count": 56,
   "id": "3d738f7f-e808-4b05-b304-2afc88f64eef",
   "metadata": {},
   "outputs": [],
   "source": [
    "users_info_month = data_summ.pivot_table(index=('month', 'user_id'), values=('distance', 'duration', 'minute_price', 'start_ride_price', 'subscription_fee'), \n",
    "    aggfunc=({'distance':{'count', 'sum'},\n",
    "             'duration':'sum',\n",
    "             'minute_price':'mean',\n",
    "             'start_ride_price':'mean',\n",
    "             'subscription_fee':'mean'}))\n",
    "users_info_month.columns = ['count', 'distance', 'duration', 'minute_price','start_ride_price', 'subscription_fee']"
   ]
  },
  {
   "cell_type": "code",
   "execution_count": 57,
   "id": "c3e35028-c96e-4e74-87f7-c240055e8ed3",
   "metadata": {},
   "outputs": [
    {
     "data": {
      "text/html": [
       "<div>\n",
       "<style scoped>\n",
       "    .dataframe tbody tr th:only-of-type {\n",
       "        vertical-align: middle;\n",
       "    }\n",
       "\n",
       "    .dataframe tbody tr th {\n",
       "        vertical-align: top;\n",
       "    }\n",
       "\n",
       "    .dataframe thead th {\n",
       "        text-align: right;\n",
       "    }\n",
       "</style>\n",
       "<table border=\"1\" class=\"dataframe\">\n",
       "  <thead>\n",
       "    <tr style=\"text-align: right;\">\n",
       "      <th></th>\n",
       "      <th></th>\n",
       "      <th>count</th>\n",
       "      <th>distance</th>\n",
       "      <th>duration</th>\n",
       "      <th>minute_price</th>\n",
       "      <th>start_ride_price</th>\n",
       "      <th>subscription_fee</th>\n",
       "    </tr>\n",
       "    <tr>\n",
       "      <th>month</th>\n",
       "      <th>user_id</th>\n",
       "      <th></th>\n",
       "      <th></th>\n",
       "      <th></th>\n",
       "      <th></th>\n",
       "      <th></th>\n",
       "      <th></th>\n",
       "    </tr>\n",
       "  </thead>\n",
       "  <tbody>\n",
       "    <tr>\n",
       "      <th rowspan=\"5\" valign=\"top\">1</th>\n",
       "      <th>1</th>\n",
       "      <td>2</td>\n",
       "      <td>7027.51</td>\n",
       "      <td>42.0</td>\n",
       "      <td>6</td>\n",
       "      <td>0</td>\n",
       "      <td>199</td>\n",
       "    </tr>\n",
       "    <tr>\n",
       "      <th>3</th>\n",
       "      <td>1</td>\n",
       "      <td>3061.78</td>\n",
       "      <td>13.0</td>\n",
       "      <td>6</td>\n",
       "      <td>0</td>\n",
       "      <td>199</td>\n",
       "    </tr>\n",
       "    <tr>\n",
       "      <th>5</th>\n",
       "      <td>1</td>\n",
       "      <td>3914.65</td>\n",
       "      <td>13.0</td>\n",
       "      <td>6</td>\n",
       "      <td>0</td>\n",
       "      <td>199</td>\n",
       "    </tr>\n",
       "    <tr>\n",
       "      <th>7</th>\n",
       "      <td>2</td>\n",
       "      <td>6478.08</td>\n",
       "      <td>28.0</td>\n",
       "      <td>6</td>\n",
       "      <td>0</td>\n",
       "      <td>199</td>\n",
       "    </tr>\n",
       "    <tr>\n",
       "      <th>12</th>\n",
       "      <td>1</td>\n",
       "      <td>3577.15</td>\n",
       "      <td>33.0</td>\n",
       "      <td>6</td>\n",
       "      <td>0</td>\n",
       "      <td>199</td>\n",
       "    </tr>\n",
       "    <tr>\n",
       "      <th>...</th>\n",
       "      <th>...</th>\n",
       "      <td>...</td>\n",
       "      <td>...</td>\n",
       "      <td>...</td>\n",
       "      <td>...</td>\n",
       "      <td>...</td>\n",
       "      <td>...</td>\n",
       "    </tr>\n",
       "    <tr>\n",
       "      <th rowspan=\"5\" valign=\"top\">12</th>\n",
       "      <th>1525</th>\n",
       "      <td>1</td>\n",
       "      <td>4597.85</td>\n",
       "      <td>34.0</td>\n",
       "      <td>8</td>\n",
       "      <td>50</td>\n",
       "      <td>0</td>\n",
       "    </tr>\n",
       "    <tr>\n",
       "      <th>1526</th>\n",
       "      <td>1</td>\n",
       "      <td>3644.12</td>\n",
       "      <td>23.0</td>\n",
       "      <td>8</td>\n",
       "      <td>50</td>\n",
       "      <td>0</td>\n",
       "    </tr>\n",
       "    <tr>\n",
       "      <th>1528</th>\n",
       "      <td>1</td>\n",
       "      <td>3998.57</td>\n",
       "      <td>11.0</td>\n",
       "      <td>8</td>\n",
       "      <td>50</td>\n",
       "      <td>0</td>\n",
       "    </tr>\n",
       "    <tr>\n",
       "      <th>1532</th>\n",
       "      <td>2</td>\n",
       "      <td>6111.89</td>\n",
       "      <td>42.0</td>\n",
       "      <td>8</td>\n",
       "      <td>50</td>\n",
       "      <td>0</td>\n",
       "    </tr>\n",
       "    <tr>\n",
       "      <th>1534</th>\n",
       "      <td>1</td>\n",
       "      <td>2371.71</td>\n",
       "      <td>16.0</td>\n",
       "      <td>8</td>\n",
       "      <td>50</td>\n",
       "      <td>0</td>\n",
       "    </tr>\n",
       "  </tbody>\n",
       "</table>\n",
       "<p>11331 rows × 6 columns</p>\n",
       "</div>"
      ],
      "text/plain": [
       "               count  distance  duration  minute_price  start_ride_price  \\\n",
       "month user_id                                                              \n",
       "1     1            2   7027.51      42.0             6                 0   \n",
       "      3            1   3061.78      13.0             6                 0   \n",
       "      5            1   3914.65      13.0             6                 0   \n",
       "      7            2   6478.08      28.0             6                 0   \n",
       "      12           1   3577.15      33.0             6                 0   \n",
       "...              ...       ...       ...           ...               ...   \n",
       "12    1525         1   4597.85      34.0             8                50   \n",
       "      1526         1   3644.12      23.0             8                50   \n",
       "      1528         1   3998.57      11.0             8                50   \n",
       "      1532         2   6111.89      42.0             8                50   \n",
       "      1534         1   2371.71      16.0             8                50   \n",
       "\n",
       "               subscription_fee  \n",
       "month user_id                    \n",
       "1     1                     199  \n",
       "      3                     199  \n",
       "      5                     199  \n",
       "      7                     199  \n",
       "      12                    199  \n",
       "...                         ...  \n",
       "12    1525                    0  \n",
       "      1526                    0  \n",
       "      1528                    0  \n",
       "      1532                    0  \n",
       "      1534                    0  \n",
       "\n",
       "[11331 rows x 6 columns]"
      ]
     },
     "execution_count": 57,
     "metadata": {},
     "output_type": "execute_result"
    }
   ],
   "source": [
    "users_info_month #выведем получившийся датафрейм"
   ]
  },
  {
   "cell_type": "code",
   "execution_count": 58,
   "id": "a76ef72f-e7d8-4d58-88d8-c7d4f4c2f446",
   "metadata": {},
   "outputs": [],
   "source": [
    "users_info_month['total'] = (users_info_month['start_ride_price'] * users_info_month['count'] + users_info_month['minute_price'] * users_info_month['duration'] \n",
    "                             + users_info_month['subscription_fee']).round(1)\n",
    "#посчитали сумму потраченную каждым пользователем за месяц и добавили эти данные в новый столбец total и округлили значения до 1 знака после запятой"
   ]
  },
  {
   "cell_type": "markdown",
   "id": "c40606b5-756d-435f-99b1-c09681abf8af",
   "metadata": {},
   "source": [
    "Выводы: создали датафрейм users_info_month, в котором указали суммарное расстояние, суммарное время, количество поездок, стоимость одной минуты в зависимости от тарифа, стоимость подписки. Посчитали для каждого пользователя выручку за месяц, записали в столбец total. "
   ]
  },
  {
   "cell_type": "markdown",
   "id": "1381a984-15f0-4d96-b445-ef2099c6ea84",
   "metadata": {},
   "source": [
    "Шаг 6. Проверка гипотез"
   ]
  },
  {
   "cell_type": "markdown",
   "id": "3703f41f-e40b-4488-897b-ac4f127308b8",
   "metadata": {},
   "source": [
    "Тратят ли пользователи с подпиской больше времени на поездки?"
   ]
  },
  {
   "cell_type": "markdown",
   "id": "fe4f3f1c-d722-4dfd-9d5d-1388dfb8824f",
   "metadata": {},
   "source": [
    "Выдвенем гипотезы:\n",
    "\n",
    "Но: продолжительность поездки (duration) у пользователей с платной подпиской ultra = продолжительности поездки (duration) у пользователей без подписки free\n",
    "\n",
    "Н1: продолжительность поездки (duration) у пользователей с платной подпиской ultra > продолжительности поездки (duration) у пользователей без подписки free"
   ]
  },
  {
   "cell_type": "code",
   "execution_count": 59,
   "id": "8f850c61-e8d4-44df-89c0-9736d493c32b",
   "metadata": {},
   "outputs": [
    {
     "name": "stdout",
     "output_type": "stream",
     "text": [
      "1.2804098316645618e-34\n",
      "Вывод: отвергаем нулевую гипотезу\n"
     ]
    }
   ],
   "source": [
    "sub_ultra = data_sub_ultra['duration'] \n",
    "not_sub = data_not_sub['duration']\n",
    "results = st.ttest_ind(sub_ultra, not_sub, alternative = 'greater')\n",
    "alpha = 0.05\n",
    "print(results.pvalue)\n",
    "if results.pvalue < alpha:\n",
    "    print('Вывод: отвергаем нулевую гипотезу')\n",
    "else:\n",
    "    print('Вывод: не удалось отвергнуть нулевую гипотезу')"
   ]
  },
  {
   "cell_type": "markdown",
   "id": "1d78e7d5",
   "metadata": {},
   "source": [
    "Нулевая гипотеза отвергнута. продолжительность поездки (duration) у пользователей с платной подпиской ultra > продолжительности поездки (duration) у пользователей без подписки free"
   ]
  },
  {
   "cell_type": "markdown",
   "id": "d160faa7-2784-4a63-a03b-25afee25c6e3",
   "metadata": {},
   "source": [
    "Можно ли сказать, что среднее расстояние, которое проезжают пользователи с подпиской за одну поездку, не превышает \n",
    "3130\n",
    "3130 метров? "
   ]
  },
  {
   "cell_type": "markdown",
   "id": "9efdb540-5a6d-4dda-92a2-77a34aa36117",
   "metadata": {},
   "source": [
    "Выдвенем гипотезы: \n",
    "\n",
    "Н0: среднее расстояние (distance) поездок пользователей с платной подпиской ultra = 3130 метров\n",
    "\n",
    "Н1: среднее расстрояние (distance) поездок пользователей с платной подпиской > 3130 метров"
   ]
  },
  {
   "cell_type": "code",
   "execution_count": 60,
   "id": "f2fa2c3c",
   "metadata": {},
   "outputs": [
    {
     "name": "stdout",
     "output_type": "stream",
     "text": [
      "0.9195362605842414\n",
      "Вывод: Не получилось отвергнуть нулевую гипотезу\n"
     ]
    }
   ],
   "source": [
    "distance = 3130\n",
    "alpha = 0.05\n",
    "results = st.ttest_1samp(data_sub_ultra['distance'], distance,alternative='greater')\n",
    "print(results.pvalue)\n",
    "if results.pvalue < alpha:\n",
    "    print('Вывод: Отвергаем нулевую гипотезу')\n",
    "else:\n",
    "    print('Вывод: Не получилось отвергнуть нулевую гипотезу')"
   ]
  },
  {
   "cell_type": "markdown",
   "id": "2f21eb82",
   "metadata": {},
   "source": [
    "Нулевую гипотезу отвергнуть не удалось. Среднее расстояние у пользователей с платной подпиской не превышает оптимального расстояния по износу самоката в 3130 метров."
   ]
  },
  {
   "cell_type": "markdown",
   "id": "a81b589f-e16a-40c1-b4d3-7d2c2f9e3bfb",
   "metadata": {},
   "source": [
    "Проверим гипотезу, будет ли помесячная выручка от пользователей с подпиской по месяцам выше, чем выручка от пользователей без подписки. "
   ]
  },
  {
   "cell_type": "markdown",
   "id": "eded417d-f167-4a43-88a6-b4e95e428f95",
   "metadata": {},
   "source": [
    "Выдвенем гипотезы:\n",
    "\n",
    "Н0: помесячная выручка от пользователей с подпиской по месяцам равна выручке от пользователей без подписки\n",
    "\n",
    "Н1: помесячная выручка от пользователей с подпиской по месяцам выше, чем выручка от пользователей без подписки"
   ]
  },
  {
   "cell_type": "code",
   "execution_count": 61,
   "id": "be071b61-ed53-4dfc-acd9-6f5ad763f34c",
   "metadata": {
    "scrolled": true
   },
   "outputs": [
    {
     "name": "stdout",
     "output_type": "stream",
     "text": [
      "1.8850394384715216e-31\n",
      "Вывод: помесячная выручка от пользователей с подпиской по месяцам выше, чем выручка от пользователей без подписки\n"
     ]
    }
   ],
   "source": [
    "results = st.ttest_ind(users_info_month.loc[users_info_month['subscription_fee'] > 0, 'total'], users_info_month.loc[users_info_month['subscription_fee'] == 0, 'total'], \n",
    "alternative='greater')\n",
    "print(results.pvalue)\n",
    "alpha = 0.05\n",
    "if results.pvalue < alpha:\n",
    "    print('Вывод: помесячная выручка от пользователей с подпиской по месяцам выше, чем выручка от пользователей без подписки')\n",
    "else:\n",
    "    print('Вывод: помесячная выручка от пользователей с подпиской по месяцам равна выручке от пользователей без подписки')"
   ]
  },
  {
   "cell_type": "markdown",
   "id": "177ebceb-857b-4395-9fa2-18243f170941",
   "metadata": {},
   "source": [
    "Представьте такую ситуацию: Техническая команда сервиса обновила сервера, с которыми взаимодействует мобильное приложение. Она надеется, что из-за этого количество обращений в техподдержку значимо снизилось. Некоторый файл содержит для каждого пользователя данные о количестве обращений до обновления и после него. Какой тест вам понадобился бы для проверки этой гипотезы?"
   ]
  },
  {
   "cell_type": "markdown",
   "id": "70e00d6f-370d-4eac-86ce-b5b5124befcc",
   "metadata": {},
   "source": [
    "Нужно сформулировать две гипотезы о равенстве средних для парных выборок.\n",
    "Первая гипотеза: средние значения количества обращений в техподдержку до обновления равны среднему значения количества обращений после обновления\n",
    "Гипотеза вторая: среднее значение выборки до изменения больше, чем среднее значение после обновления.\n",
    "Необходимо использовать метод scipy.stats.ttest_rel()"
   ]
  },
  {
   "cell_type": "markdown",
   "id": "31ae1a20",
   "metadata": {},
   "source": [
    "Общий вывод по работе:\n",
    "1. Загрузили 3 датафрейма: с информацией о пользователях, информацией о поездках и информацией о подписках.\n",
    "2. Изучили общую информацию о каждом датафрейме\n",
    "В датафрейме users_go пропуски отсутствуют, количество явных дубликатов 31, их удалили.\n",
    "В датафрейме rides_go пропуски отсутствуют, явных дубликатов нет\n",
    "В датафрейме subscriptions_go пропуски отсутсвуют, явных дубликатов нет. \n",
    "3. Привели столбец date к типу даты datetime64\n",
    "4. Создан новый столбец month с номером месяца на основе столбца date\n",
    "5. Исследовательский анализ данных:\n",
    "- чаще всего пользователи встречаются в Пятигорске, затем Екатеринбург, Ростов-на-Дону. Меньше всего пользователей в Москве.\n",
    "- количество пользователей без подписки 54,4%, количество пользователей с подпиской ultra 45,6%.\n",
    "- средний возраст пользователей лежит в диапазоне 20-30 лет. Медиана 25 лет.\n",
    "- среднее расстояние, которое проезжают пользователи лежит в диапазоне 2543 - 3776 метров, медиана 3133 метра.\n",
    "- медианное значение среднего времени пользователей проведенного в поездке 17,67 минут, первый квартиль 13,6 минут, второй 21,7. \n",
    "6. Объединение данных\n",
    "\n",
    "а) Объединили данные о пользователях, поездках и подписках в один датафрейм\n",
    "\n",
    "б) На его основе создали ещё 2 датафрейма: для пользователей с платной подпиской и без.\n",
    "\n",
    "Наличие платной подписки влияет на медианное значение времени поездки, с подпиской оно составляет 18 минут, без подписки 17,3 минуты. Также отличаются квартили, в тарифе без подписки от 13 до 21,5 минут, с подпиской от 14,5 до 21,8 минут. В среднем пользователи дольше используют самокаты на платном тарифе. Наличие платной подписки также влияет и на расстояние поездки. Медианное у платного тарифа составляет 3148 метров, тогда как у пользователей без платного тарифа 3114 метров. Квартили тоже отличаются, у пользователей платной подписки первый квартиль 2785,5м, второй 3560, у пользователей без платного тарифа первый квартиль 2366, второй 3905 метров. Общий вывод: У пользователей, у которых имеется платный тариф, в среднем, продолжительность и дальность поездок выше, чем у пользователей без подписки.\n",
    "\n",
    "7. Создали датафрейм users_info_month, в котором указали суммарное расстояние, суммарное время, количество поездок, стоимость одной минуты в зависимости от тарифа, стоимость подписки. Посчитали для каждого пользователя выручку за месяц, записали в столбец total. \n",
    "\n",
    "8. Проверка гипотез:\n",
    "\n",
    "Н0: продолжительность поездки (duration) у пользователей с платной подпиской ultra = продолжительности поездки (duration) у пользователей без подписки free\n",
    "\n",
    "Отвергли нулевую гипотезу\n",
    "\n",
    "Н0: среднее расстояние (distance) поездок пользователей с платной подпиской ultra = 3130 метров\n",
    "\n",
    "Не удалось отвергнуть нулевую гипотезу\n",
    "\n",
    "Н0: помесячная выручка от пользователей с подпиской по месяцам равна выручке от пользователей без подписки\n",
    "\n",
    "Отвергли нулевую гипотезу"
   ]
  }
 ],
 "metadata": {
  "ExecuteTimeLog": [
   {
    "duration": 1230,
    "start_time": "2024-04-30T22:05:01.440Z"
   },
   {
    "duration": 105,
    "start_time": "2024-04-30T22:05:02.672Z"
   },
   {
    "duration": 153,
    "start_time": "2024-04-30T22:05:02.779Z"
   },
   {
    "duration": 124,
    "start_time": "2024-04-30T22:05:02.934Z"
   },
   {
    "duration": 2,
    "start_time": "2024-04-30T22:05:03.060Z"
   },
   {
    "duration": 46,
    "start_time": "2024-04-30T22:05:03.063Z"
   },
   {
    "duration": 70,
    "start_time": "2024-04-30T22:05:03.110Z"
   },
   {
    "duration": 12,
    "start_time": "2024-04-30T22:05:03.182Z"
   },
   {
    "duration": 19,
    "start_time": "2024-04-30T22:05:03.195Z"
   },
   {
    "duration": 7,
    "start_time": "2024-04-30T22:05:03.217Z"
   },
   {
    "duration": 20,
    "start_time": "2024-04-30T22:05:03.226Z"
   },
   {
    "duration": 24,
    "start_time": "2024-04-30T22:05:03.247Z"
   },
   {
    "duration": 59,
    "start_time": "2024-04-30T22:05:03.273Z"
   },
   {
    "duration": 40,
    "start_time": "2024-04-30T22:05:03.334Z"
   },
   {
    "duration": 19,
    "start_time": "2024-04-30T22:05:03.376Z"
   },
   {
    "duration": 11,
    "start_time": "2024-04-30T22:05:03.396Z"
   },
   {
    "duration": 16,
    "start_time": "2024-04-30T22:05:03.409Z"
   },
   {
    "duration": 15,
    "start_time": "2024-04-30T22:05:03.427Z"
   },
   {
    "duration": 21,
    "start_time": "2024-04-30T22:05:03.443Z"
   },
   {
    "duration": 24,
    "start_time": "2024-04-30T22:05:03.466Z"
   },
   {
    "duration": 8,
    "start_time": "2024-04-30T22:05:03.491Z"
   },
   {
    "duration": 12,
    "start_time": "2024-04-30T22:05:03.500Z"
   },
   {
    "duration": 26,
    "start_time": "2024-04-30T22:05:03.514Z"
   },
   {
    "duration": 12,
    "start_time": "2024-04-30T22:05:03.542Z"
   },
   {
    "duration": 3,
    "start_time": "2024-04-30T22:05:03.556Z"
   },
   {
    "duration": 7,
    "start_time": "2024-04-30T22:05:03.561Z"
   },
   {
    "duration": 228,
    "start_time": "2024-04-30T22:05:03.569Z"
   },
   {
    "duration": 3,
    "start_time": "2024-04-30T22:05:03.802Z"
   },
   {
    "duration": 19,
    "start_time": "2024-04-30T22:05:03.808Z"
   },
   {
    "duration": 153,
    "start_time": "2024-04-30T22:05:03.829Z"
   },
   {
    "duration": 183,
    "start_time": "2024-04-30T22:05:03.984Z"
   },
   {
    "duration": 101,
    "start_time": "2024-04-30T22:05:04.169Z"
   },
   {
    "duration": 0,
    "start_time": "2024-04-30T22:05:04.271Z"
   },
   {
    "duration": 0,
    "start_time": "2024-04-30T22:05:04.273Z"
   },
   {
    "duration": 0,
    "start_time": "2024-04-30T22:05:04.274Z"
   },
   {
    "duration": 0,
    "start_time": "2024-04-30T22:05:04.275Z"
   },
   {
    "duration": 0,
    "start_time": "2024-04-30T22:05:04.276Z"
   },
   {
    "duration": 0,
    "start_time": "2024-04-30T22:05:04.277Z"
   },
   {
    "duration": 0,
    "start_time": "2024-04-30T22:05:04.279Z"
   },
   {
    "duration": 0,
    "start_time": "2024-04-30T22:05:04.280Z"
   },
   {
    "duration": 0,
    "start_time": "2024-04-30T22:05:04.294Z"
   },
   {
    "duration": 0,
    "start_time": "2024-04-30T22:05:04.295Z"
   },
   {
    "duration": 0,
    "start_time": "2024-04-30T22:05:04.296Z"
   },
   {
    "duration": 0,
    "start_time": "2024-04-30T22:05:04.298Z"
   },
   {
    "duration": 0,
    "start_time": "2024-04-30T22:05:04.299Z"
   },
   {
    "duration": 0,
    "start_time": "2024-04-30T22:05:04.300Z"
   },
   {
    "duration": 0,
    "start_time": "2024-04-30T22:05:04.301Z"
   },
   {
    "duration": 0,
    "start_time": "2024-04-30T22:05:04.302Z"
   },
   {
    "duration": 0,
    "start_time": "2024-04-30T22:05:04.303Z"
   },
   {
    "duration": 0,
    "start_time": "2024-04-30T22:05:04.305Z"
   },
   {
    "duration": 0,
    "start_time": "2024-04-30T22:05:04.306Z"
   },
   {
    "duration": 0,
    "start_time": "2024-04-30T22:05:04.307Z"
   },
   {
    "duration": 0,
    "start_time": "2024-04-30T22:05:04.308Z"
   },
   {
    "duration": 0,
    "start_time": "2024-04-30T22:05:04.309Z"
   },
   {
    "duration": 0,
    "start_time": "2024-04-30T22:05:04.310Z"
   },
   {
    "duration": 0,
    "start_time": "2024-04-30T22:05:04.311Z"
   },
   {
    "duration": 0,
    "start_time": "2024-04-30T22:05:04.312Z"
   },
   {
    "duration": 55,
    "start_time": "2024-04-30T22:05:23.045Z"
   },
   {
    "duration": 1191,
    "start_time": "2024-04-30T22:05:28.699Z"
   },
   {
    "duration": 75,
    "start_time": "2024-04-30T22:05:29.892Z"
   },
   {
    "duration": 104,
    "start_time": "2024-04-30T22:05:29.969Z"
   },
   {
    "duration": 81,
    "start_time": "2024-04-30T22:05:30.076Z"
   },
   {
    "duration": 381,
    "start_time": "2024-04-30T22:05:30.159Z"
   },
   {
    "duration": 79,
    "start_time": "2024-04-30T22:05:30.541Z"
   },
   {
    "duration": 99,
    "start_time": "2024-04-30T22:05:30.622Z"
   },
   {
    "duration": 280,
    "start_time": "2024-04-30T22:05:30.723Z"
   },
   {
    "duration": 376,
    "start_time": "2024-04-30T22:05:31.005Z"
   },
   {
    "duration": 76,
    "start_time": "2024-04-30T22:05:31.384Z"
   },
   {
    "duration": 49,
    "start_time": "2024-04-30T22:05:31.462Z"
   },
   {
    "duration": 25,
    "start_time": "2024-04-30T22:05:31.513Z"
   },
   {
    "duration": 33,
    "start_time": "2024-04-30T22:05:31.539Z"
   },
   {
    "duration": 34,
    "start_time": "2024-04-30T22:05:31.574Z"
   },
   {
    "duration": 116,
    "start_time": "2024-04-30T22:05:31.609Z"
   },
   {
    "duration": 223,
    "start_time": "2024-04-30T22:05:31.727Z"
   },
   {
    "duration": 19,
    "start_time": "2024-04-30T22:05:31.951Z"
   },
   {
    "duration": 47,
    "start_time": "2024-04-30T22:05:31.972Z"
   },
   {
    "duration": 18,
    "start_time": "2024-04-30T22:05:32.020Z"
   },
   {
    "duration": 23,
    "start_time": "2024-04-30T22:05:32.040Z"
   },
   {
    "duration": 33,
    "start_time": "2024-04-30T22:05:32.065Z"
   },
   {
    "duration": 8,
    "start_time": "2024-04-30T22:05:32.100Z"
   },
   {
    "duration": 25,
    "start_time": "2024-04-30T22:05:32.110Z"
   },
   {
    "duration": 19,
    "start_time": "2024-04-30T22:05:32.137Z"
   },
   {
    "duration": 25,
    "start_time": "2024-04-30T22:05:32.158Z"
   },
   {
    "duration": 14,
    "start_time": "2024-04-30T22:05:32.185Z"
   },
   {
    "duration": 211,
    "start_time": "2024-04-30T22:05:32.201Z"
   },
   {
    "duration": 3,
    "start_time": "2024-04-30T22:05:32.416Z"
   },
   {
    "duration": 10,
    "start_time": "2024-04-30T22:05:32.421Z"
   },
   {
    "duration": 164,
    "start_time": "2024-04-30T22:05:32.432Z"
   },
   {
    "duration": 174,
    "start_time": "2024-04-30T22:05:32.597Z"
   },
   {
    "duration": 113,
    "start_time": "2024-04-30T22:05:32.772Z"
   },
   {
    "duration": 13,
    "start_time": "2024-04-30T22:05:32.886Z"
   },
   {
    "duration": 67,
    "start_time": "2024-04-30T22:05:32.900Z"
   },
   {
    "duration": 117,
    "start_time": "2024-04-30T22:05:32.969Z"
   },
   {
    "duration": 12,
    "start_time": "2024-04-30T22:05:33.088Z"
   },
   {
    "duration": 25,
    "start_time": "2024-04-30T22:05:33.101Z"
   },
   {
    "duration": 46,
    "start_time": "2024-04-30T22:05:33.128Z"
   },
   {
    "duration": 22,
    "start_time": "2024-04-30T22:05:33.176Z"
   },
   {
    "duration": 40,
    "start_time": "2024-04-30T22:05:33.199Z"
   },
   {
    "duration": 17,
    "start_time": "2024-04-30T22:05:33.240Z"
   },
   {
    "duration": 41,
    "start_time": "2024-04-30T22:05:33.258Z"
   },
   {
    "duration": 178,
    "start_time": "2024-04-30T22:05:33.301Z"
   },
   {
    "duration": 8,
    "start_time": "2024-04-30T22:05:33.481Z"
   },
   {
    "duration": 172,
    "start_time": "2024-04-30T22:05:33.494Z"
   },
   {
    "duration": 8,
    "start_time": "2024-04-30T22:05:33.667Z"
   },
   {
    "duration": 182,
    "start_time": "2024-04-30T22:05:33.676Z"
   },
   {
    "duration": 8,
    "start_time": "2024-04-30T22:05:33.859Z"
   },
   {
    "duration": 237,
    "start_time": "2024-04-30T22:05:33.868Z"
   },
   {
    "duration": 8,
    "start_time": "2024-04-30T22:05:34.106Z"
   },
   {
    "duration": 64,
    "start_time": "2024-04-30T22:05:34.115Z"
   },
   {
    "duration": 15,
    "start_time": "2024-04-30T22:05:34.181Z"
   },
   {
    "duration": 34,
    "start_time": "2024-04-30T22:05:34.197Z"
   },
   {
    "duration": 47,
    "start_time": "2024-04-30T22:05:34.232Z"
   },
   {
    "duration": 125,
    "start_time": "2024-04-30T22:05:34.280Z"
   },
   {
    "duration": 0,
    "start_time": "2024-04-30T22:05:34.406Z"
   },
   {
    "duration": 0,
    "start_time": "2024-04-30T22:05:34.407Z"
   },
   {
    "duration": 6,
    "start_time": "2024-04-30T22:05:45.476Z"
   },
   {
    "duration": 5,
    "start_time": "2024-04-30T22:05:56.305Z"
   },
   {
    "duration": 5,
    "start_time": "2024-04-30T22:05:57.408Z"
   },
   {
    "duration": 7,
    "start_time": "2024-04-30T22:05:58.662Z"
   },
   {
    "duration": 17,
    "start_time": "2024-04-30T22:09:39.698Z"
   },
   {
    "duration": 8,
    "start_time": "2024-04-30T22:09:52.626Z"
   },
   {
    "duration": 13,
    "start_time": "2024-04-30T22:09:59.717Z"
   },
   {
    "duration": 11,
    "start_time": "2024-04-30T22:11:07.479Z"
   },
   {
    "duration": 42,
    "start_time": "2024-05-01T07:14:33.891Z"
   },
   {
    "duration": 1179,
    "start_time": "2024-05-01T07:14:45.664Z"
   },
   {
    "duration": 120,
    "start_time": "2024-05-01T07:14:46.845Z"
   },
   {
    "duration": 151,
    "start_time": "2024-05-01T07:14:46.966Z"
   },
   {
    "duration": 92,
    "start_time": "2024-05-01T07:14:47.119Z"
   },
   {
    "duration": 3,
    "start_time": "2024-05-01T07:14:47.212Z"
   },
   {
    "duration": 14,
    "start_time": "2024-05-01T07:14:47.217Z"
   },
   {
    "duration": 8,
    "start_time": "2024-05-01T07:14:47.235Z"
   },
   {
    "duration": 6,
    "start_time": "2024-05-01T07:14:47.386Z"
   },
   {
    "duration": 11,
    "start_time": "2024-05-01T07:14:47.776Z"
   },
   {
    "duration": 6,
    "start_time": "2024-05-01T07:14:47.994Z"
   },
   {
    "duration": 10,
    "start_time": "2024-05-01T07:14:49.136Z"
   },
   {
    "duration": 8,
    "start_time": "2024-05-01T07:14:49.376Z"
   },
   {
    "duration": 9,
    "start_time": "2024-05-01T07:14:50.185Z"
   },
   {
    "duration": 4,
    "start_time": "2024-05-01T07:14:50.434Z"
   },
   {
    "duration": 7,
    "start_time": "2024-05-01T07:14:51.866Z"
   },
   {
    "duration": 11,
    "start_time": "2024-05-01T07:14:52.346Z"
   },
   {
    "duration": 5,
    "start_time": "2024-05-01T07:14:53.056Z"
   },
   {
    "duration": 7,
    "start_time": "2024-05-01T07:14:54.104Z"
   },
   {
    "duration": 4,
    "start_time": "2024-05-01T07:14:54.994Z"
   },
   {
    "duration": 6,
    "start_time": "2024-05-01T07:14:55.216Z"
   },
   {
    "duration": 3,
    "start_time": "2024-05-01T07:14:55.856Z"
   },
   {
    "duration": 5,
    "start_time": "2024-05-01T07:14:56.474Z"
   },
   {
    "duration": 6,
    "start_time": "2024-05-01T07:14:56.756Z"
   },
   {
    "duration": 5,
    "start_time": "2024-05-01T07:14:56.956Z"
   },
   {
    "duration": 3,
    "start_time": "2024-05-01T07:14:58.426Z"
   },
   {
    "duration": 4,
    "start_time": "2024-05-01T07:14:58.635Z"
   },
   {
    "duration": 188,
    "start_time": "2024-05-01T07:14:58.954Z"
   },
   {
    "duration": 3,
    "start_time": "2024-05-01T07:15:00.304Z"
   },
   {
    "duration": 4,
    "start_time": "2024-05-01T07:15:00.468Z"
   },
   {
    "duration": 135,
    "start_time": "2024-05-01T07:15:00.704Z"
   },
   {
    "duration": 160,
    "start_time": "2024-05-01T07:15:01.984Z"
   },
   {
    "duration": 13,
    "start_time": "2024-05-01T07:15:03.635Z"
   },
   {
    "duration": 7,
    "start_time": "2024-05-01T07:15:54.087Z"
   },
   {
    "duration": 8,
    "start_time": "2024-05-01T07:16:20.772Z"
   },
   {
    "duration": 8,
    "start_time": "2024-05-01T07:16:26.261Z"
   },
   {
    "duration": 49,
    "start_time": "2024-05-01T07:23:53.975Z"
   },
   {
    "duration": 143,
    "start_time": "2024-05-01T07:24:53.687Z"
   },
   {
    "duration": 7,
    "start_time": "2024-05-01T07:24:54.024Z"
   },
   {
    "duration": 128,
    "start_time": "2024-05-01T07:24:55.352Z"
   },
   {
    "duration": 8,
    "start_time": "2024-05-01T07:24:55.602Z"
   },
   {
    "duration": 7,
    "start_time": "2024-05-01T07:24:56.677Z"
   },
   {
    "duration": 96,
    "start_time": "2024-05-01T07:24:56.874Z"
   },
   {
    "duration": 10,
    "start_time": "2024-05-01T07:26:27.190Z"
   },
   {
    "duration": 12,
    "start_time": "2024-05-01T07:26:52.480Z"
   },
   {
    "duration": 14,
    "start_time": "2024-05-01T07:29:17.973Z"
   },
   {
    "duration": 11,
    "start_time": "2024-05-01T07:29:46.623Z"
   },
   {
    "duration": 12,
    "start_time": "2024-05-01T07:29:49.016Z"
   },
   {
    "duration": 14,
    "start_time": "2024-05-01T07:30:05.813Z"
   },
   {
    "duration": 7,
    "start_time": "2024-05-01T07:32:06.009Z"
   },
   {
    "duration": 109,
    "start_time": "2024-05-01T07:37:54.744Z"
   },
   {
    "duration": 7,
    "start_time": "2024-05-01T07:37:54.998Z"
   },
   {
    "duration": 8,
    "start_time": "2024-05-01T07:37:56.146Z"
   },
   {
    "duration": 94,
    "start_time": "2024-05-01T07:37:56.436Z"
   },
   {
    "duration": 48,
    "start_time": "2024-05-01T07:38:07.836Z"
   },
   {
    "duration": 11,
    "start_time": "2024-05-01T07:38:12.716Z"
   },
   {
    "duration": 13,
    "start_time": "2024-05-01T07:38:13.066Z"
   },
   {
    "duration": 8,
    "start_time": "2024-05-01T07:38:13.378Z"
   },
   {
    "duration": 10,
    "start_time": "2024-05-01T07:38:13.886Z"
   },
   {
    "duration": 10,
    "start_time": "2024-05-01T07:38:14.038Z"
   },
   {
    "duration": 28,
    "start_time": "2024-05-01T07:38:14.188Z"
   },
   {
    "duration": 8,
    "start_time": "2024-05-01T07:38:14.831Z"
   },
   {
    "duration": 17,
    "start_time": "2024-05-01T07:38:14.986Z"
   },
   {
    "duration": 5,
    "start_time": "2024-05-01T07:38:15.316Z"
   },
   {
    "duration": 22,
    "start_time": "2024-05-01T07:38:15.538Z"
   },
   {
    "duration": 236,
    "start_time": "2024-05-01T07:38:17.176Z"
   },
   {
    "duration": 7,
    "start_time": "2024-05-01T07:38:17.414Z"
   },
   {
    "duration": 150,
    "start_time": "2024-05-01T07:38:18.288Z"
   },
   {
    "duration": 8,
    "start_time": "2024-05-01T07:38:18.566Z"
   },
   {
    "duration": 145,
    "start_time": "2024-05-01T07:38:19.669Z"
   },
   {
    "duration": 8,
    "start_time": "2024-05-01T07:38:19.977Z"
   },
   {
    "duration": 136,
    "start_time": "2024-05-01T07:38:20.936Z"
   },
   {
    "duration": 8,
    "start_time": "2024-05-01T07:38:21.206Z"
   },
   {
    "duration": 42,
    "start_time": "2024-05-01T07:38:31.201Z"
   },
   {
    "duration": 61,
    "start_time": "2024-05-01T07:41:25.662Z"
   },
   {
    "duration": 8,
    "start_time": "2024-05-01T07:41:32.947Z"
   },
   {
    "duration": 14,
    "start_time": "2024-05-01T07:41:34.949Z"
   },
   {
    "duration": 6,
    "start_time": "2024-05-01T07:41:36.097Z"
   },
   {
    "duration": 3,
    "start_time": "2024-05-01T07:41:48.578Z"
   },
   {
    "duration": 7,
    "start_time": "2024-05-01T07:41:49.265Z"
   },
   {
    "duration": 515,
    "start_time": "2024-05-01T07:41:55.626Z"
   },
   {
    "duration": 6,
    "start_time": "2024-05-01T07:41:56.148Z"
   },
   {
    "duration": 6,
    "start_time": "2024-05-01T07:42:02.023Z"
   },
   {
    "duration": 1260,
    "start_time": "2024-05-01T15:24:49.120Z"
   },
   {
    "duration": 146,
    "start_time": "2024-05-01T15:24:50.381Z"
   },
   {
    "duration": 136,
    "start_time": "2024-05-01T15:24:50.529Z"
   },
   {
    "duration": 102,
    "start_time": "2024-05-01T15:24:50.667Z"
   },
   {
    "duration": 2,
    "start_time": "2024-05-01T15:24:50.817Z"
   },
   {
    "duration": 15,
    "start_time": "2024-05-01T15:24:51.025Z"
   },
   {
    "duration": 8,
    "start_time": "2024-05-01T15:24:51.427Z"
   },
   {
    "duration": 7,
    "start_time": "2024-05-01T15:24:51.740Z"
   },
   {
    "duration": 12,
    "start_time": "2024-05-01T15:24:52.348Z"
   },
   {
    "duration": 5,
    "start_time": "2024-05-01T15:24:52.616Z"
   },
   {
    "duration": 14,
    "start_time": "2024-05-01T15:24:53.237Z"
   },
   {
    "duration": 7,
    "start_time": "2024-05-01T15:24:53.389Z"
   },
   {
    "duration": 10,
    "start_time": "2024-05-01T15:24:54.003Z"
   },
   {
    "duration": 5,
    "start_time": "2024-05-01T15:24:54.162Z"
   },
   {
    "duration": 7,
    "start_time": "2024-05-01T15:24:54.991Z"
   },
   {
    "duration": 10,
    "start_time": "2024-05-01T15:24:55.370Z"
   },
   {
    "duration": 5,
    "start_time": "2024-05-01T15:24:55.676Z"
   },
   {
    "duration": 9,
    "start_time": "2024-05-01T15:24:55.997Z"
   },
   {
    "duration": 5,
    "start_time": "2024-05-01T15:24:56.467Z"
   },
   {
    "duration": 5,
    "start_time": "2024-05-01T15:24:56.781Z"
   },
   {
    "duration": 3,
    "start_time": "2024-05-01T15:24:57.154Z"
   },
   {
    "duration": 5,
    "start_time": "2024-05-01T15:24:57.491Z"
   },
   {
    "duration": 5,
    "start_time": "2024-05-01T15:24:57.651Z"
   },
   {
    "duration": 6,
    "start_time": "2024-05-01T15:24:57.821Z"
   },
   {
    "duration": 3,
    "start_time": "2024-05-01T15:24:58.850Z"
   },
   {
    "duration": 4,
    "start_time": "2024-05-01T15:24:59.028Z"
   },
   {
    "duration": 201,
    "start_time": "2024-05-01T15:24:59.220Z"
   },
   {
    "duration": 4,
    "start_time": "2024-05-01T15:24:59.957Z"
   },
   {
    "duration": 5,
    "start_time": "2024-05-01T15:25:00.154Z"
   },
   {
    "duration": 141,
    "start_time": "2024-05-01T15:25:00.504Z"
   },
   {
    "duration": 167,
    "start_time": "2024-05-01T15:25:01.264Z"
   },
   {
    "duration": 7,
    "start_time": "2024-05-01T15:25:01.700Z"
   },
   {
    "duration": 106,
    "start_time": "2024-05-01T15:25:03.378Z"
   },
   {
    "duration": 8,
    "start_time": "2024-05-01T15:25:03.641Z"
   },
   {
    "duration": 8,
    "start_time": "2024-05-01T15:25:04.709Z"
   },
   {
    "duration": 98,
    "start_time": "2024-05-01T15:25:04.978Z"
   },
   {
    "duration": 13,
    "start_time": "2024-05-01T15:25:10.449Z"
   },
   {
    "duration": 14,
    "start_time": "2024-05-01T15:25:10.886Z"
   },
   {
    "duration": 6,
    "start_time": "2024-05-01T15:25:11.311Z"
   },
   {
    "duration": 11,
    "start_time": "2024-05-01T15:25:12.015Z"
   },
   {
    "duration": 11,
    "start_time": "2024-05-01T15:25:12.205Z"
   },
   {
    "duration": 21,
    "start_time": "2024-05-01T15:25:12.427Z"
   },
   {
    "duration": 9,
    "start_time": "2024-05-01T15:25:13.362Z"
   },
   {
    "duration": 20,
    "start_time": "2024-05-01T15:25:13.559Z"
   },
   {
    "duration": 6,
    "start_time": "2024-05-01T15:25:14.057Z"
   },
   {
    "duration": 20,
    "start_time": "2024-05-01T15:25:14.278Z"
   },
   {
    "duration": 180,
    "start_time": "2024-05-01T15:25:15.356Z"
   },
   {
    "duration": 9,
    "start_time": "2024-05-01T15:25:15.646Z"
   },
   {
    "duration": 163,
    "start_time": "2024-05-01T15:25:16.486Z"
   },
   {
    "duration": 8,
    "start_time": "2024-05-01T15:25:16.762Z"
   },
   {
    "duration": 151,
    "start_time": "2024-05-01T15:25:17.591Z"
   },
   {
    "duration": 8,
    "start_time": "2024-05-01T15:25:17.872Z"
   },
   {
    "duration": 154,
    "start_time": "2024-05-01T15:25:18.765Z"
   },
   {
    "duration": 8,
    "start_time": "2024-05-01T15:25:19.049Z"
   },
   {
    "duration": 36,
    "start_time": "2024-05-01T15:25:21.215Z"
   },
   {
    "duration": 21,
    "start_time": "2024-05-01T15:25:32.133Z"
   },
   {
    "duration": 105,
    "start_time": "2024-05-01T15:25:51.875Z"
   },
   {
    "duration": 104,
    "start_time": "2024-05-01T15:25:57.666Z"
   },
   {
    "duration": 9,
    "start_time": "2024-05-01T15:26:20.980Z"
   },
   {
    "duration": 14,
    "start_time": "2024-05-01T15:26:31.255Z"
   },
   {
    "duration": 9,
    "start_time": "2024-05-01T15:28:56.865Z"
   },
   {
    "duration": 3,
    "start_time": "2024-05-01T15:30:37.006Z"
   },
   {
    "duration": 36,
    "start_time": "2024-05-01T15:30:37.753Z"
   },
   {
    "duration": 10,
    "start_time": "2024-05-01T15:41:45.906Z"
   },
   {
    "duration": 9,
    "start_time": "2024-05-01T15:41:51.046Z"
   },
   {
    "duration": 9,
    "start_time": "2024-05-01T15:42:23.676Z"
   },
   {
    "duration": 6,
    "start_time": "2024-05-01T15:42:29.372Z"
   },
   {
    "duration": 847,
    "start_time": "2024-05-01T15:42:30.361Z"
   },
   {
    "duration": 1219,
    "start_time": "2024-05-01T15:42:43.450Z"
   },
   {
    "duration": 3,
    "start_time": "2024-05-01T15:42:54.355Z"
   },
   {
    "duration": 68,
    "start_time": "2024-05-01T15:42:54.768Z"
   },
   {
    "duration": 108,
    "start_time": "2024-05-01T15:42:54.906Z"
   },
   {
    "duration": 81,
    "start_time": "2024-05-01T15:42:55.034Z"
   },
   {
    "duration": 3,
    "start_time": "2024-05-01T15:42:55.178Z"
   },
   {
    "duration": 8,
    "start_time": "2024-05-01T15:42:55.319Z"
   },
   {
    "duration": 7,
    "start_time": "2024-05-01T15:42:55.468Z"
   },
   {
    "duration": 6,
    "start_time": "2024-05-01T15:42:55.606Z"
   },
   {
    "duration": 14,
    "start_time": "2024-05-01T15:42:55.893Z"
   },
   {
    "duration": 6,
    "start_time": "2024-05-01T15:42:56.030Z"
   },
   {
    "duration": 11,
    "start_time": "2024-05-01T15:42:56.463Z"
   },
   {
    "duration": 8,
    "start_time": "2024-05-01T15:42:56.618Z"
   },
   {
    "duration": 10,
    "start_time": "2024-05-01T15:42:57.027Z"
   },
   {
    "duration": 5,
    "start_time": "2024-05-01T15:42:57.198Z"
   },
   {
    "duration": 7,
    "start_time": "2024-05-01T15:42:57.925Z"
   },
   {
    "duration": 11,
    "start_time": "2024-05-01T15:42:58.227Z"
   },
   {
    "duration": 6,
    "start_time": "2024-05-01T15:42:58.518Z"
   },
   {
    "duration": 9,
    "start_time": "2024-05-01T15:42:58.821Z"
   },
   {
    "duration": 5,
    "start_time": "2024-05-01T15:42:59.277Z"
   },
   {
    "duration": 7,
    "start_time": "2024-05-01T15:42:59.439Z"
   },
   {
    "duration": 4,
    "start_time": "2024-05-01T15:42:59.746Z"
   },
   {
    "duration": 6,
    "start_time": "2024-05-01T15:43:00.083Z"
   },
   {
    "duration": 7,
    "start_time": "2024-05-01T15:43:00.187Z"
   },
   {
    "duration": 7,
    "start_time": "2024-05-01T15:43:00.412Z"
   },
   {
    "duration": 4,
    "start_time": "2024-05-01T15:43:01.366Z"
   },
   {
    "duration": 4,
    "start_time": "2024-05-01T15:43:01.529Z"
   },
   {
    "duration": 207,
    "start_time": "2024-05-01T15:43:01.666Z"
   },
   {
    "duration": 4,
    "start_time": "2024-05-01T15:43:02.289Z"
   },
   {
    "duration": 4,
    "start_time": "2024-05-01T15:43:02.448Z"
   },
   {
    "duration": 143,
    "start_time": "2024-05-01T15:43:02.592Z"
   },
   {
    "duration": 165,
    "start_time": "2024-05-01T15:43:03.384Z"
   },
   {
    "duration": 8,
    "start_time": "2024-05-01T15:43:03.752Z"
   },
   {
    "duration": 104,
    "start_time": "2024-05-01T15:43:04.935Z"
   },
   {
    "duration": 8,
    "start_time": "2024-05-01T15:43:05.185Z"
   },
   {
    "duration": 8,
    "start_time": "2024-05-01T15:43:06.199Z"
   },
   {
    "duration": 103,
    "start_time": "2024-05-01T15:43:06.441Z"
   },
   {
    "duration": 11,
    "start_time": "2024-05-01T15:43:08.969Z"
   },
   {
    "duration": 17,
    "start_time": "2024-05-01T15:43:09.448Z"
   },
   {
    "duration": 7,
    "start_time": "2024-05-01T15:43:09.855Z"
   },
   {
    "duration": 11,
    "start_time": "2024-05-01T15:43:10.406Z"
   },
   {
    "duration": 11,
    "start_time": "2024-05-01T15:43:10.614Z"
   },
   {
    "duration": 29,
    "start_time": "2024-05-01T15:43:10.817Z"
   },
   {
    "duration": 8,
    "start_time": "2024-05-01T15:43:11.763Z"
   },
   {
    "duration": 19,
    "start_time": "2024-05-01T15:43:11.997Z"
   },
   {
    "duration": 4,
    "start_time": "2024-05-01T15:43:12.565Z"
   },
   {
    "duration": 16,
    "start_time": "2024-05-01T15:43:12.921Z"
   },
   {
    "duration": 170,
    "start_time": "2024-05-01T15:43:14.158Z"
   },
   {
    "duration": 10,
    "start_time": "2024-05-01T15:43:14.454Z"
   },
   {
    "duration": 146,
    "start_time": "2024-05-01T15:43:15.133Z"
   },
   {
    "duration": 7,
    "start_time": "2024-05-01T15:43:15.285Z"
   },
   {
    "duration": 150,
    "start_time": "2024-05-01T15:43:15.724Z"
   },
   {
    "duration": 8,
    "start_time": "2024-05-01T15:43:15.943Z"
   },
   {
    "duration": 157,
    "start_time": "2024-05-01T15:43:16.627Z"
   },
   {
    "duration": 7,
    "start_time": "2024-05-01T15:43:16.830Z"
   },
   {
    "duration": 3,
    "start_time": "2024-05-01T15:43:18.718Z"
   },
   {
    "duration": 37,
    "start_time": "2024-05-01T15:43:19.112Z"
   },
   {
    "duration": 15,
    "start_time": "2024-05-01T15:43:24.435Z"
   },
   {
    "duration": 6,
    "start_time": "2024-05-01T15:43:24.993Z"
   },
   {
    "duration": 6,
    "start_time": "2024-05-01T15:43:31.365Z"
   },
   {
    "duration": 766,
    "start_time": "2024-05-01T15:43:33.169Z"
   },
   {
    "duration": 828,
    "start_time": "2024-05-01T15:43:58.306Z"
   },
   {
    "duration": 5,
    "start_time": "2024-05-01T15:45:18.285Z"
   },
   {
    "duration": 6,
    "start_time": "2024-05-01T15:48:51.543Z"
   },
   {
    "duration": 7,
    "start_time": "2024-05-01T15:50:49.950Z"
   },
   {
    "duration": 8,
    "start_time": "2024-05-01T15:53:51.619Z"
   },
   {
    "duration": 1195,
    "start_time": "2024-05-01T17:56:20.574Z"
   },
   {
    "duration": 113,
    "start_time": "2024-05-01T17:56:21.771Z"
   },
   {
    "duration": 123,
    "start_time": "2024-05-01T17:56:21.885Z"
   },
   {
    "duration": 73,
    "start_time": "2024-05-01T17:56:22.010Z"
   },
   {
    "duration": 3,
    "start_time": "2024-05-01T17:56:22.086Z"
   },
   {
    "duration": 40,
    "start_time": "2024-05-01T17:56:22.091Z"
   },
   {
    "duration": 8,
    "start_time": "2024-05-01T17:56:22.133Z"
   },
   {
    "duration": 9,
    "start_time": "2024-05-01T17:56:22.142Z"
   },
   {
    "duration": 17,
    "start_time": "2024-05-01T17:56:22.153Z"
   },
   {
    "duration": 5,
    "start_time": "2024-05-01T17:56:22.173Z"
   },
   {
    "duration": 14,
    "start_time": "2024-05-01T17:56:22.180Z"
   },
   {
    "duration": 10,
    "start_time": "2024-05-01T17:56:22.196Z"
   },
   {
    "duration": 11,
    "start_time": "2024-05-01T17:56:22.208Z"
   },
   {
    "duration": 7,
    "start_time": "2024-05-01T17:56:22.220Z"
   },
   {
    "duration": 36,
    "start_time": "2024-05-01T17:56:22.229Z"
   },
   {
    "duration": 10,
    "start_time": "2024-05-01T17:56:22.267Z"
   },
   {
    "duration": 5,
    "start_time": "2024-05-01T17:56:22.279Z"
   },
   {
    "duration": 11,
    "start_time": "2024-05-01T17:56:22.285Z"
   },
   {
    "duration": 6,
    "start_time": "2024-05-01T17:56:22.298Z"
   },
   {
    "duration": 21,
    "start_time": "2024-05-01T17:56:22.305Z"
   },
   {
    "duration": 5,
    "start_time": "2024-05-01T17:56:22.327Z"
   },
   {
    "duration": 30,
    "start_time": "2024-05-01T17:56:22.334Z"
   },
   {
    "duration": 11,
    "start_time": "2024-05-01T17:56:22.365Z"
   },
   {
    "duration": 6,
    "start_time": "2024-05-01T17:56:22.377Z"
   },
   {
    "duration": 5,
    "start_time": "2024-05-01T17:56:22.384Z"
   },
   {
    "duration": 11,
    "start_time": "2024-05-01T17:56:22.391Z"
   },
   {
    "duration": 238,
    "start_time": "2024-05-01T17:56:22.404Z"
   },
   {
    "duration": 4,
    "start_time": "2024-05-01T17:56:22.645Z"
   },
   {
    "duration": 4,
    "start_time": "2024-05-01T17:56:22.659Z"
   },
   {
    "duration": 147,
    "start_time": "2024-05-01T17:56:22.664Z"
   },
   {
    "duration": 188,
    "start_time": "2024-05-01T17:56:22.813Z"
   },
   {
    "duration": 8,
    "start_time": "2024-05-01T17:56:23.002Z"
   },
   {
    "duration": 132,
    "start_time": "2024-05-01T17:56:23.012Z"
   },
   {
    "duration": 14,
    "start_time": "2024-05-01T17:56:23.147Z"
   },
   {
    "duration": 10,
    "start_time": "2024-05-01T17:56:23.163Z"
   },
   {
    "duration": 126,
    "start_time": "2024-05-01T17:56:23.174Z"
   },
   {
    "duration": 11,
    "start_time": "2024-05-01T17:56:23.302Z"
   },
   {
    "duration": 15,
    "start_time": "2024-05-01T17:56:23.315Z"
   },
   {
    "duration": 6,
    "start_time": "2024-05-01T17:56:23.331Z"
   },
   {
    "duration": 11,
    "start_time": "2024-05-01T17:56:23.359Z"
   },
   {
    "duration": 9,
    "start_time": "2024-05-01T17:56:23.372Z"
   },
   {
    "duration": 20,
    "start_time": "2024-05-01T17:56:23.383Z"
   },
   {
    "duration": 7,
    "start_time": "2024-05-01T17:56:23.405Z"
   },
   {
    "duration": 32,
    "start_time": "2024-05-01T17:56:23.413Z"
   },
   {
    "duration": 12,
    "start_time": "2024-05-01T17:56:23.459Z"
   },
   {
    "duration": 22,
    "start_time": "2024-05-01T17:56:23.473Z"
   },
   {
    "duration": 197,
    "start_time": "2024-05-01T17:56:23.497Z"
   },
   {
    "duration": 8,
    "start_time": "2024-05-01T17:56:23.696Z"
   },
   {
    "duration": 200,
    "start_time": "2024-05-01T17:56:23.705Z"
   },
   {
    "duration": 9,
    "start_time": "2024-05-01T17:56:23.906Z"
   },
   {
    "duration": 167,
    "start_time": "2024-05-01T17:56:23.916Z"
   },
   {
    "duration": 8,
    "start_time": "2024-05-01T17:56:24.084Z"
   },
   {
    "duration": 233,
    "start_time": "2024-05-01T17:56:24.093Z"
   },
   {
    "duration": 8,
    "start_time": "2024-05-01T17:56:24.328Z"
   },
   {
    "duration": 122,
    "start_time": "2024-05-01T17:56:24.338Z"
   },
   {
    "duration": 0,
    "start_time": "2024-05-01T17:56:24.462Z"
   },
   {
    "duration": 0,
    "start_time": "2024-05-01T17:56:24.464Z"
   },
   {
    "duration": 0,
    "start_time": "2024-05-01T17:56:24.465Z"
   },
   {
    "duration": 0,
    "start_time": "2024-05-01T17:56:24.467Z"
   },
   {
    "duration": 0,
    "start_time": "2024-05-01T17:56:24.468Z"
   },
   {
    "duration": 0,
    "start_time": "2024-05-01T17:56:24.470Z"
   },
   {
    "duration": 19,
    "start_time": "2024-05-01T17:57:35.190Z"
   },
   {
    "duration": 3,
    "start_time": "2024-05-01T17:57:43.435Z"
   },
   {
    "duration": 1170,
    "start_time": "2024-05-01T17:57:50.619Z"
   },
   {
    "duration": 75,
    "start_time": "2024-05-01T17:57:51.791Z"
   },
   {
    "duration": 99,
    "start_time": "2024-05-01T17:57:51.869Z"
   },
   {
    "duration": 90,
    "start_time": "2024-05-01T17:57:51.970Z"
   },
   {
    "duration": 2,
    "start_time": "2024-05-01T17:57:52.062Z"
   },
   {
    "duration": 17,
    "start_time": "2024-05-01T17:57:52.066Z"
   },
   {
    "duration": 8,
    "start_time": "2024-05-01T17:57:52.084Z"
   },
   {
    "duration": 12,
    "start_time": "2024-05-01T17:57:52.093Z"
   },
   {
    "duration": 14,
    "start_time": "2024-05-01T17:57:52.106Z"
   },
   {
    "duration": 17,
    "start_time": "2024-05-01T17:57:52.122Z"
   },
   {
    "duration": 11,
    "start_time": "2024-05-01T17:57:52.141Z"
   },
   {
    "duration": 8,
    "start_time": "2024-05-01T17:57:52.158Z"
   },
   {
    "duration": 10,
    "start_time": "2024-05-01T17:57:52.169Z"
   },
   {
    "duration": 17,
    "start_time": "2024-05-01T17:57:52.180Z"
   },
   {
    "duration": 8,
    "start_time": "2024-05-01T17:57:52.198Z"
   },
   {
    "duration": 23,
    "start_time": "2024-05-01T17:57:52.207Z"
   },
   {
    "duration": 5,
    "start_time": "2024-05-01T17:57:52.232Z"
   },
   {
    "duration": 22,
    "start_time": "2024-05-01T17:57:52.238Z"
   },
   {
    "duration": 7,
    "start_time": "2024-05-01T17:57:52.262Z"
   },
   {
    "duration": 7,
    "start_time": "2024-05-01T17:57:52.271Z"
   },
   {
    "duration": 4,
    "start_time": "2024-05-01T17:57:52.280Z"
   },
   {
    "duration": 7,
    "start_time": "2024-05-01T17:57:52.286Z"
   },
   {
    "duration": 11,
    "start_time": "2024-05-01T17:57:52.294Z"
   },
   {
    "duration": 6,
    "start_time": "2024-05-01T17:57:52.307Z"
   },
   {
    "duration": 12,
    "start_time": "2024-05-01T17:57:52.314Z"
   },
   {
    "duration": 39,
    "start_time": "2024-05-01T17:57:52.327Z"
   },
   {
    "duration": 241,
    "start_time": "2024-05-01T17:57:52.368Z"
   },
   {
    "duration": 4,
    "start_time": "2024-05-01T17:57:52.611Z"
   },
   {
    "duration": 7,
    "start_time": "2024-05-01T17:57:52.616Z"
   },
   {
    "duration": 176,
    "start_time": "2024-05-01T17:57:52.625Z"
   },
   {
    "duration": 170,
    "start_time": "2024-05-01T17:57:52.803Z"
   },
   {
    "duration": 9,
    "start_time": "2024-05-01T17:57:52.974Z"
   },
   {
    "duration": 119,
    "start_time": "2024-05-01T17:57:52.984Z"
   },
   {
    "duration": 8,
    "start_time": "2024-05-01T17:57:53.105Z"
   },
   {
    "duration": 12,
    "start_time": "2024-05-01T17:57:53.115Z"
   },
   {
    "duration": 112,
    "start_time": "2024-05-01T17:57:53.129Z"
   },
   {
    "duration": 21,
    "start_time": "2024-05-01T17:57:53.242Z"
   },
   {
    "duration": 16,
    "start_time": "2024-05-01T17:57:53.265Z"
   },
   {
    "duration": 31,
    "start_time": "2024-05-01T17:57:53.282Z"
   },
   {
    "duration": 14,
    "start_time": "2024-05-01T17:57:53.318Z"
   },
   {
    "duration": 10,
    "start_time": "2024-05-01T17:57:53.334Z"
   },
   {
    "duration": 19,
    "start_time": "2024-05-01T17:57:53.345Z"
   },
   {
    "duration": 7,
    "start_time": "2024-05-01T17:57:53.365Z"
   },
   {
    "duration": 36,
    "start_time": "2024-05-01T17:57:53.374Z"
   },
   {
    "duration": 14,
    "start_time": "2024-05-01T17:57:53.411Z"
   },
   {
    "duration": 61,
    "start_time": "2024-05-01T17:57:53.427Z"
   },
   {
    "duration": 179,
    "start_time": "2024-05-01T17:57:53.490Z"
   },
   {
    "duration": 11,
    "start_time": "2024-05-01T17:57:53.671Z"
   },
   {
    "duration": 174,
    "start_time": "2024-05-01T17:57:53.684Z"
   },
   {
    "duration": 8,
    "start_time": "2024-05-01T17:57:53.860Z"
   },
   {
    "duration": 180,
    "start_time": "2024-05-01T17:57:53.870Z"
   },
   {
    "duration": 13,
    "start_time": "2024-05-01T17:57:54.052Z"
   },
   {
    "duration": 222,
    "start_time": "2024-05-01T17:57:54.066Z"
   },
   {
    "duration": 9,
    "start_time": "2024-05-01T17:57:54.290Z"
   },
   {
    "duration": 6,
    "start_time": "2024-05-01T17:57:54.300Z"
   },
   {
    "duration": 53,
    "start_time": "2024-05-01T17:57:54.308Z"
   },
   {
    "duration": 15,
    "start_time": "2024-05-01T17:57:54.362Z"
   },
   {
    "duration": 9,
    "start_time": "2024-05-01T17:57:54.379Z"
   },
   {
    "duration": 16,
    "start_time": "2024-05-01T17:57:54.389Z"
   },
   {
    "duration": 7,
    "start_time": "2024-05-01T17:57:54.406Z"
   },
   {
    "duration": 7,
    "start_time": "2024-05-01T17:57:54.415Z"
   }
  ],
  "kernelspec": {
   "display_name": "Python 3 (ipykernel)",
   "language": "python",
   "name": "python3"
  },
  "language_info": {
   "codemirror_mode": {
    "name": "ipython",
    "version": 3
   },
   "file_extension": ".py",
   "mimetype": "text/x-python",
   "name": "python",
   "nbconvert_exporter": "python",
   "pygments_lexer": "ipython3",
   "version": "3.9.5"
  },
  "toc": {
   "base_numbering": 1,
   "nav_menu": {},
   "number_sections": true,
   "sideBar": true,
   "skip_h1_title": true,
   "title_cell": "Table of Contents",
   "title_sidebar": "Contents",
   "toc_cell": false,
   "toc_position": {
    "height": "calc(100% - 180px)",
    "left": "10px",
    "top": "150px",
    "width": "165px"
   },
   "toc_section_display": true,
   "toc_window_display": true
  }
 },
 "nbformat": 4,
 "nbformat_minor": 5
}

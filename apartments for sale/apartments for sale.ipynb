{
 "cells": [
  {
   "cell_type": "markdown",
   "id": "46c92385",
   "metadata": {},
   "source": [
    "Проект: Исследование объявлений о продаже квартир. \n",
    "В нашем распоряжении данные сервиса Яндекс Недвижимость — архив объявлений о продаже квартир в Санкт-Петербурге и соседних населённых пунктах за несколько лет. По каждой квартире на продажу доступны два вида данных. Первые вписаны пользователем, вторые — получены автоматически на основе картографических данных.\n",
    "Цели исследования и задачи:\n",
    "1. изучение общей информации\n",
    "2. предобработка данных\n",
    "3. добавление в таблицу новых столбцов со следующими параметрами: \n",
    "- цена одного квадратного метра;\n",
    "- день недели публикации объявления (0 — понедельник, 1 — вторник и так далее)\n",
    "- месяц публикации объявления\n",
    "- год публикации объявления\n",
    "- тип этажа квартиры (значения — «первый», «последний», «другой»)\n",
    "- расстояние до центра города в километрах\n",
    "3. изучение как быстро продавались квартиры\n",
    "4. определение факторов, которые больше всего влияют на стоимость объекта недвижимости\n",
    "5. Рассчет средней цены одного квадратного метра в 10 населённых пунктах с наибольшим числом объявлений\n",
    "6. Общий вывод"
   ]
  },
  {
   "cell_type": "code",
   "execution_count": 1,
   "id": "0cccee1e-bac8-4126-b0cf-c40944beeaf7",
   "metadata": {},
   "outputs": [],
   "source": [
    "import pandas as pd\n",
    "import matplotlib.pyplot as plt"
   ]
  },
  {
   "cell_type": "code",
   "execution_count": 2,
   "id": "00cc9dfc-5c08-41c0-85db-b264e698a43e",
   "metadata": {},
   "outputs": [],
   "source": [
    "data = pd.read_csv('https://code.s3.yandex.net/datasets/real_estate_data.csv', sep='\\t') #прочитаем файл"
   ]
  },
  {
   "cell_type": "code",
   "execution_count": 3,
   "id": "af4f89b3-2d87-4b0e-8468-1f1fd7ec7b77",
   "metadata": {},
   "outputs": [
    {
     "data": {
      "text/html": [
       "<div>\n",
       "<style scoped>\n",
       "    .dataframe tbody tr th:only-of-type {\n",
       "        vertical-align: middle;\n",
       "    }\n",
       "\n",
       "    .dataframe tbody tr th {\n",
       "        vertical-align: top;\n",
       "    }\n",
       "\n",
       "    .dataframe thead th {\n",
       "        text-align: right;\n",
       "    }\n",
       "</style>\n",
       "<table border=\"1\" class=\"dataframe\">\n",
       "  <thead>\n",
       "    <tr style=\"text-align: right;\">\n",
       "      <th></th>\n",
       "      <th>total_images</th>\n",
       "      <th>last_price</th>\n",
       "      <th>total_area</th>\n",
       "      <th>first_day_exposition</th>\n",
       "      <th>rooms</th>\n",
       "      <th>ceiling_height</th>\n",
       "      <th>floors_total</th>\n",
       "      <th>living_area</th>\n",
       "      <th>floor</th>\n",
       "      <th>is_apartment</th>\n",
       "      <th>...</th>\n",
       "      <th>kitchen_area</th>\n",
       "      <th>balcony</th>\n",
       "      <th>locality_name</th>\n",
       "      <th>airports_nearest</th>\n",
       "      <th>cityCenters_nearest</th>\n",
       "      <th>parks_around3000</th>\n",
       "      <th>parks_nearest</th>\n",
       "      <th>ponds_around3000</th>\n",
       "      <th>ponds_nearest</th>\n",
       "      <th>days_exposition</th>\n",
       "    </tr>\n",
       "  </thead>\n",
       "  <tbody>\n",
       "    <tr>\n",
       "      <th>0</th>\n",
       "      <td>20</td>\n",
       "      <td>13000000.0</td>\n",
       "      <td>108.0</td>\n",
       "      <td>2019-03-07T00:00:00</td>\n",
       "      <td>3</td>\n",
       "      <td>2.70</td>\n",
       "      <td>16.0</td>\n",
       "      <td>51.0</td>\n",
       "      <td>8</td>\n",
       "      <td>NaN</td>\n",
       "      <td>...</td>\n",
       "      <td>25.0</td>\n",
       "      <td>NaN</td>\n",
       "      <td>Санкт-Петербург</td>\n",
       "      <td>18863.0</td>\n",
       "      <td>16028.0</td>\n",
       "      <td>1.0</td>\n",
       "      <td>482.0</td>\n",
       "      <td>2.0</td>\n",
       "      <td>755.0</td>\n",
       "      <td>NaN</td>\n",
       "    </tr>\n",
       "    <tr>\n",
       "      <th>1</th>\n",
       "      <td>7</td>\n",
       "      <td>3350000.0</td>\n",
       "      <td>40.4</td>\n",
       "      <td>2018-12-04T00:00:00</td>\n",
       "      <td>1</td>\n",
       "      <td>NaN</td>\n",
       "      <td>11.0</td>\n",
       "      <td>18.6</td>\n",
       "      <td>1</td>\n",
       "      <td>NaN</td>\n",
       "      <td>...</td>\n",
       "      <td>11.0</td>\n",
       "      <td>2.0</td>\n",
       "      <td>посёлок Шушары</td>\n",
       "      <td>12817.0</td>\n",
       "      <td>18603.0</td>\n",
       "      <td>0.0</td>\n",
       "      <td>NaN</td>\n",
       "      <td>0.0</td>\n",
       "      <td>NaN</td>\n",
       "      <td>81.0</td>\n",
       "    </tr>\n",
       "    <tr>\n",
       "      <th>2</th>\n",
       "      <td>10</td>\n",
       "      <td>5196000.0</td>\n",
       "      <td>56.0</td>\n",
       "      <td>2015-08-20T00:00:00</td>\n",
       "      <td>2</td>\n",
       "      <td>NaN</td>\n",
       "      <td>5.0</td>\n",
       "      <td>34.3</td>\n",
       "      <td>4</td>\n",
       "      <td>NaN</td>\n",
       "      <td>...</td>\n",
       "      <td>8.3</td>\n",
       "      <td>0.0</td>\n",
       "      <td>Санкт-Петербург</td>\n",
       "      <td>21741.0</td>\n",
       "      <td>13933.0</td>\n",
       "      <td>1.0</td>\n",
       "      <td>90.0</td>\n",
       "      <td>2.0</td>\n",
       "      <td>574.0</td>\n",
       "      <td>558.0</td>\n",
       "    </tr>\n",
       "    <tr>\n",
       "      <th>3</th>\n",
       "      <td>0</td>\n",
       "      <td>64900000.0</td>\n",
       "      <td>159.0</td>\n",
       "      <td>2015-07-24T00:00:00</td>\n",
       "      <td>3</td>\n",
       "      <td>NaN</td>\n",
       "      <td>14.0</td>\n",
       "      <td>NaN</td>\n",
       "      <td>9</td>\n",
       "      <td>NaN</td>\n",
       "      <td>...</td>\n",
       "      <td>NaN</td>\n",
       "      <td>0.0</td>\n",
       "      <td>Санкт-Петербург</td>\n",
       "      <td>28098.0</td>\n",
       "      <td>6800.0</td>\n",
       "      <td>2.0</td>\n",
       "      <td>84.0</td>\n",
       "      <td>3.0</td>\n",
       "      <td>234.0</td>\n",
       "      <td>424.0</td>\n",
       "    </tr>\n",
       "    <tr>\n",
       "      <th>4</th>\n",
       "      <td>2</td>\n",
       "      <td>10000000.0</td>\n",
       "      <td>100.0</td>\n",
       "      <td>2018-06-19T00:00:00</td>\n",
       "      <td>2</td>\n",
       "      <td>3.03</td>\n",
       "      <td>14.0</td>\n",
       "      <td>32.0</td>\n",
       "      <td>13</td>\n",
       "      <td>NaN</td>\n",
       "      <td>...</td>\n",
       "      <td>41.0</td>\n",
       "      <td>NaN</td>\n",
       "      <td>Санкт-Петербург</td>\n",
       "      <td>31856.0</td>\n",
       "      <td>8098.0</td>\n",
       "      <td>2.0</td>\n",
       "      <td>112.0</td>\n",
       "      <td>1.0</td>\n",
       "      <td>48.0</td>\n",
       "      <td>121.0</td>\n",
       "    </tr>\n",
       "  </tbody>\n",
       "</table>\n",
       "<p>5 rows × 22 columns</p>\n",
       "</div>"
      ],
      "text/plain": [
       "   total_images  last_price  total_area first_day_exposition  rooms  \\\n",
       "0            20  13000000.0       108.0  2019-03-07T00:00:00      3   \n",
       "1             7   3350000.0        40.4  2018-12-04T00:00:00      1   \n",
       "2            10   5196000.0        56.0  2015-08-20T00:00:00      2   \n",
       "3             0  64900000.0       159.0  2015-07-24T00:00:00      3   \n",
       "4             2  10000000.0       100.0  2018-06-19T00:00:00      2   \n",
       "\n",
       "   ceiling_height  floors_total  living_area  floor is_apartment  ...  \\\n",
       "0            2.70          16.0         51.0      8          NaN  ...   \n",
       "1             NaN          11.0         18.6      1          NaN  ...   \n",
       "2             NaN           5.0         34.3      4          NaN  ...   \n",
       "3             NaN          14.0          NaN      9          NaN  ...   \n",
       "4            3.03          14.0         32.0     13          NaN  ...   \n",
       "\n",
       "   kitchen_area  balcony    locality_name  airports_nearest  \\\n",
       "0          25.0      NaN  Санкт-Петербург           18863.0   \n",
       "1          11.0      2.0   посёлок Шушары           12817.0   \n",
       "2           8.3      0.0  Санкт-Петербург           21741.0   \n",
       "3           NaN      0.0  Санкт-Петербург           28098.0   \n",
       "4          41.0      NaN  Санкт-Петербург           31856.0   \n",
       "\n",
       "  cityCenters_nearest  parks_around3000  parks_nearest  ponds_around3000  \\\n",
       "0             16028.0               1.0          482.0               2.0   \n",
       "1             18603.0               0.0            NaN               0.0   \n",
       "2             13933.0               1.0           90.0               2.0   \n",
       "3              6800.0               2.0           84.0               3.0   \n",
       "4              8098.0               2.0          112.0               1.0   \n",
       "\n",
       "   ponds_nearest  days_exposition  \n",
       "0          755.0              NaN  \n",
       "1            NaN             81.0  \n",
       "2          574.0            558.0  \n",
       "3          234.0            424.0  \n",
       "4           48.0            121.0  \n",
       "\n",
       "[5 rows x 22 columns]"
      ]
     },
     "execution_count": 3,
     "metadata": {},
     "output_type": "execute_result"
    }
   ],
   "source": [
    "data.head() #выведем первые 5 значений"
   ]
  },
  {
   "cell_type": "code",
   "execution_count": 4,
   "id": "e6cb61e0",
   "metadata": {},
   "outputs": [
    {
     "data": {
      "text/plain": [
       "(23699, 22)"
      ]
     },
     "execution_count": 4,
     "metadata": {},
     "output_type": "execute_result"
    }
   ],
   "source": [
    "data.shape #проведем разведочный анализ данных"
   ]
  },
  {
   "cell_type": "code",
   "execution_count": 5,
   "id": "ebdbbd3d-f550-440e-8dba-2fc158b476bc",
   "metadata": {
    "scrolled": true
   },
   "outputs": [
    {
     "name": "stdout",
     "output_type": "stream",
     "text": [
      "<class 'pandas.core.frame.DataFrame'>\n",
      "RangeIndex: 23699 entries, 0 to 23698\n",
      "Data columns (total 22 columns):\n",
      " #   Column                Non-Null Count  Dtype  \n",
      "---  ------                --------------  -----  \n",
      " 0   total_images          23699 non-null  int64  \n",
      " 1   last_price            23699 non-null  float64\n",
      " 2   total_area            23699 non-null  float64\n",
      " 3   first_day_exposition  23699 non-null  object \n",
      " 4   rooms                 23699 non-null  int64  \n",
      " 5   ceiling_height        14504 non-null  float64\n",
      " 6   floors_total          23613 non-null  float64\n",
      " 7   living_area           21796 non-null  float64\n",
      " 8   floor                 23699 non-null  int64  \n",
      " 9   is_apartment          2775 non-null   object \n",
      " 10  studio                23699 non-null  bool   \n",
      " 11  open_plan             23699 non-null  bool   \n",
      " 12  kitchen_area          21421 non-null  float64\n",
      " 13  balcony               12180 non-null  float64\n",
      " 14  locality_name         23650 non-null  object \n",
      " 15  airports_nearest      18157 non-null  float64\n",
      " 16  cityCenters_nearest   18180 non-null  float64\n",
      " 17  parks_around3000      18181 non-null  float64\n",
      " 18  parks_nearest         8079 non-null   float64\n",
      " 19  ponds_around3000      18181 non-null  float64\n",
      " 20  ponds_nearest         9110 non-null   float64\n",
      " 21  days_exposition       20518 non-null  float64\n",
      "dtypes: bool(2), float64(14), int64(3), object(3)\n",
      "memory usage: 3.7+ MB\n"
     ]
    }
   ],
   "source": [
    "data.info() #выведем общую информацию о датафрейме"
   ]
  },
  {
   "cell_type": "code",
   "execution_count": 6,
   "id": "b7eab73f-b322-476e-8a9a-370c5dd11af7",
   "metadata": {},
   "outputs": [
    {
     "data": {
      "text/plain": [
       "0"
      ]
     },
     "execution_count": 6,
     "metadata": {},
     "output_type": "execute_result"
    }
   ],
   "source": [
    "data.duplicated().sum() #посчитаем количество явных дубликтов"
   ]
  },
  {
   "cell_type": "code",
   "execution_count": 7,
   "id": "6ecf1e53-d5d3-4b43-91db-39b5a11a3665",
   "metadata": {},
   "outputs": [
    {
     "data": {
      "text/plain": [
       "array([[<AxesSubplot:title={'center':'total_images'}>,\n",
       "        <AxesSubplot:title={'center':'last_price'}>,\n",
       "        <AxesSubplot:title={'center':'total_area'}>,\n",
       "        <AxesSubplot:title={'center':'rooms'}>],\n",
       "       [<AxesSubplot:title={'center':'ceiling_height'}>,\n",
       "        <AxesSubplot:title={'center':'floors_total'}>,\n",
       "        <AxesSubplot:title={'center':'living_area'}>,\n",
       "        <AxesSubplot:title={'center':'floor'}>],\n",
       "       [<AxesSubplot:title={'center':'kitchen_area'}>,\n",
       "        <AxesSubplot:title={'center':'balcony'}>,\n",
       "        <AxesSubplot:title={'center':'airports_nearest'}>,\n",
       "        <AxesSubplot:title={'center':'cityCenters_nearest'}>],\n",
       "       [<AxesSubplot:title={'center':'parks_around3000'}>,\n",
       "        <AxesSubplot:title={'center':'parks_nearest'}>,\n",
       "        <AxesSubplot:title={'center':'ponds_around3000'}>,\n",
       "        <AxesSubplot:title={'center':'ponds_nearest'}>],\n",
       "       [<AxesSubplot:title={'center':'days_exposition'}>, <AxesSubplot:>,\n",
       "        <AxesSubplot:>, <AxesSubplot:>]], dtype=object)"
      ]
     },
     "execution_count": 7,
     "metadata": {},
     "output_type": "execute_result"
    },
    {
     "data": {
      "image/png": "[encoded data removed]",
      "text/plain": [
       "<Figure size 1080x1440 with 20 Axes>"
      ]
     },
     "metadata": {
      "needs_background": "light"
     },
     "output_type": "display_data"
    }
   ],
   "source": [
    "data.hist(figsize=(15, 20)) #построим гистограммы для всех числовых столбцов с размером графиков 15 на 20"
   ]
  },
  {
   "cell_type": "markdown",
   "id": "b7f7f368-4f71-4dc6-bb00-2d0f6bd204ba",
   "metadata": {},
   "source": [
    "Предобработка данных"
   ]
  },
  {
   "cell_type": "code",
   "execution_count": 8,
   "id": "8a575d50-57f3-432b-95e0-2e3fa6d89769",
   "metadata": {},
   "outputs": [
    {
     "data": {
      "text/plain": [
       "total_images                0\n",
       "last_price                  0\n",
       "total_area                  0\n",
       "first_day_exposition        0\n",
       "rooms                       0\n",
       "ceiling_height           9195\n",
       "floors_total               86\n",
       "living_area              1903\n",
       "floor                       0\n",
       "is_apartment            20924\n",
       "studio                      0\n",
       "open_plan                   0\n",
       "kitchen_area             2278\n",
       "balcony                 11519\n",
       "locality_name              49\n",
       "airports_nearest         5542\n",
       "cityCenters_nearest      5519\n",
       "parks_around3000         5518\n",
       "parks_nearest           15620\n",
       "ponds_around3000         5518\n",
       "ponds_nearest           14589\n",
       "days_exposition          3181\n",
       "dtype: int64"
      ]
     },
     "execution_count": 8,
     "metadata": {},
     "output_type": "execute_result"
    }
   ],
   "source": [
    "data.isna().sum() #находим количество пропусков"
   ]
  },
  {
   "cell_type": "code",
   "execution_count": 9,
   "id": "22cb868d-4499-4d74-b716-a93ef0d6aab8",
   "metadata": {},
   "outputs": [],
   "source": [
    "#чтобы было удобнее, расположим список в порядке убывания"
   ]
  },
  {
   "cell_type": "code",
   "execution_count": 10,
   "id": "df975708-baf2-408a-8eee-2769c032f49d",
   "metadata": {},
   "outputs": [
    {
     "data": {
      "text/plain": [
       "is_apartment            20924\n",
       "parks_nearest           15620\n",
       "ponds_nearest           14589\n",
       "balcony                 11519\n",
       "ceiling_height           9195\n",
       "airports_nearest         5542\n",
       "cityCenters_nearest      5519\n",
       "ponds_around3000         5518\n",
       "parks_around3000         5518\n",
       "days_exposition          3181\n",
       "kitchen_area             2278\n",
       "living_area              1903\n",
       "floors_total               86\n",
       "locality_name              49\n",
       "total_images                0\n",
       "last_price                  0\n",
       "studio                      0\n",
       "floor                       0\n",
       "rooms                       0\n",
       "first_day_exposition        0\n",
       "total_area                  0\n",
       "open_plan                   0\n",
       "dtype: int64"
      ]
     },
     "execution_count": 10,
     "metadata": {},
     "output_type": "execute_result"
    }
   ],
   "source": [
    "data.isna().sum().sort_values(ascending=False)"
   ]
  },
  {
   "cell_type": "code",
   "execution_count": 11,
   "id": "1bc59490-ad84-4a68-ae66-a15cad96df69",
   "metadata": {},
   "outputs": [],
   "source": [
    "#итого пропуски есть в is_apartment, parks_nearest, ponds_nearest, balcony, ceiling_height, airports_nearest, \n",
    "#cityCenters_nearest, ponds_around3000, parks_around3000, days_exposition, kitchen_area, living_area, floors_total, locality_name"
   ]
  },
  {
   "cell_type": "code",
   "execution_count": 12,
   "id": "d24f4a91-8c7d-4ada-af19-aef67a292f80",
   "metadata": {},
   "outputs": [
    {
     "data": {
      "text/plain": [
       "Index(['total_images', 'last_price', 'total_area', 'first_day_exposition',\n",
       "       'rooms', 'ceiling_height', 'floors_total', 'living_area', 'floor',\n",
       "       'is_apartment', 'studio', 'open_plan', 'kitchen_area', 'balcony',\n",
       "       'locality_name', 'airports_nearest', 'cityCenters_nearest',\n",
       "       'parks_around3000', 'parks_nearest', 'ponds_around3000',\n",
       "       'ponds_nearest', 'days_exposition'],\n",
       "      dtype='object')"
      ]
     },
     "execution_count": 12,
     "metadata": {},
     "output_type": "execute_result"
    }
   ],
   "source": [
    "data.columns #проверим названия колонок на правило хорошего стиля"
   ]
  },
  {
   "cell_type": "code",
   "execution_count": 13,
   "id": "8d038885-75b4-4213-9405-98e503d8e34e",
   "metadata": {},
   "outputs": [],
   "source": [
    "#один столблец необходимо переименовать в соответствии с правилами хорошего стиля, это cityCenters_nearest"
   ]
  },
  {
   "cell_type": "code",
   "execution_count": 14,
   "id": "4768246a-0122-4e48-b1b1-462c02fa593f",
   "metadata": {},
   "outputs": [],
   "source": [
    "data['balcony'] = data['balcony'].fillna(0) #если есть пропуски в столбце balcony, значит балкона в квартире нет, соответственно заменим пропцщенные данные значением 0"
   ]
  },
  {
   "cell_type": "code",
   "execution_count": 15,
   "id": "c65da97f-5422-4b11-8807-69417bbf0f1f",
   "metadata": {},
   "outputs": [],
   "source": [
    "data.rename(columns = {'cityCenters_nearest': 'city_centers_nearest'}, inplace = True)"
   ]
  },
  {
   "cell_type": "code",
   "execution_count": 16,
   "id": "abd4e9e3-723a-4700-9744-1b0c8df774c7",
   "metadata": {},
   "outputs": [],
   "source": [
    "data['is_apartment'] = data['is_apartment'].fillna(0) #большинство пропусков находится в столбце is_apartment, значит квартира не относится к типу \"апартаменты\", значит заменим пропущенные значения на 0"
   ]
  },
  {
   "cell_type": "code",
   "execution_count": 17,
   "id": "0d986e43-374b-4126-9300-a4f393d49028",
   "metadata": {},
   "outputs": [],
   "source": [
    "#значения пропущены также в столбце ceiling_height, высота потолка не может быть равна 0, заполним пропуски медианным значением"
   ]
  },
  {
   "cell_type": "code",
   "execution_count": 18,
   "id": "ff456c77-e1f6-4413-850f-75fd3bc2fb93",
   "metadata": {},
   "outputs": [],
   "source": [
    "ceiling_height_median = data['ceiling_height'].median()"
   ]
  },
  {
   "cell_type": "code",
   "execution_count": 19,
   "id": "37bedb44-64fc-4fdf-948b-f5a0500a160c",
   "metadata": {},
   "outputs": [
    {
     "data": {
      "text/plain": [
       "2.65"
      ]
     },
     "execution_count": 19,
     "metadata": {},
     "output_type": "execute_result"
    }
   ],
   "source": [
    "ceiling_height_median"
   ]
  },
  {
   "cell_type": "code",
   "execution_count": 20,
   "id": "442aa20c-28de-47c2-9aae-bbc4d0f1cbad",
   "metadata": {},
   "outputs": [],
   "source": [
    "data['ceiling_height'] = data['ceiling_height'].fillna(ceiling_height_median) #заменили пропуски в столбце 'ceiling_height' на медианное значение"
   ]
  },
  {
   "cell_type": "code",
   "execution_count": 21,
   "id": "58bc3130-fc43-4b70-b3e3-c9db76d6bcad",
   "metadata": {},
   "outputs": [
    {
     "data": {
      "text/plain": [
       "22869    100.00\n",
       "3148      32.00\n",
       "22336     32.00\n",
       "21377     27.50\n",
       "4876      27.00\n",
       "17857     27.00\n",
       "5246      27.00\n",
       "20478     27.00\n",
       "22938     27.00\n",
       "5807      27.00\n",
       "21824     27.00\n",
       "10773     27.00\n",
       "5669      26.00\n",
       "18545     25.00\n",
       "4643      25.00\n",
       "9379      25.00\n",
       "11285     25.00\n",
       "14382     25.00\n",
       "355       25.00\n",
       "6246      25.00\n",
       "5076      24.00\n",
       "20507     22.60\n",
       "17496     20.00\n",
       "15061     14.00\n",
       "22309     10.30\n",
       "5863       8.30\n",
       "3474       8.00\n",
       "15743      8.00\n",
       "17442      8.00\n",
       "20264      6.00\n",
       "21227      5.80\n",
       "1388       5.60\n",
       "7578       5.50\n",
       "12628      5.30\n",
       "1026       5.30\n",
       "464        5.20\n",
       "1053       5.00\n",
       "21923      4.90\n",
       "2802       4.80\n",
       "1300       4.70\n",
       "19142      4.70\n",
       "12401      4.65\n",
       "2823       4.50\n",
       "9783       4.50\n",
       "10159      4.50\n",
       "6802       4.50\n",
       "13224      4.50\n",
       "14519      4.50\n",
       "3067       4.50\n",
       "7521       4.45\n",
       "Name: ceiling_height, dtype: float64"
      ]
     },
     "execution_count": 21,
     "metadata": {},
     "output_type": "execute_result"
    }
   ],
   "source": [
    "data['ceiling_height'].sort_values(ascending=False).head(50) #посмотрим высоту потолков"
   ]
  },
  {
   "cell_type": "code",
   "execution_count": 22,
   "id": "d311fedd-12f8-4f54-9e5f-27cbee643cc4",
   "metadata": {},
   "outputs": [],
   "source": [
    "#высота потолков явно не может быть 100 метров, скорее всего ошибка в данных, возможно в данных ошибка в запятой"
   ]
  },
  {
   "cell_type": "code",
   "execution_count": 23,
   "id": "23952231-33f6-4e38-a4f3-2bfc9a4d2f88",
   "metadata": {},
   "outputs": [],
   "source": [
    "data.loc[data['ceiling_height'] >= 10.0, 'ceiling_height'] = data['ceiling_height']/10 #если высота больше 10, то разделим этот ее на 10"
   ]
  },
  {
   "cell_type": "code",
   "execution_count": 24,
   "id": "b2a5625b-738c-4ff7-9359-01c377ad924a",
   "metadata": {},
   "outputs": [
    {
     "data": {
      "text/plain": [
       "22869    10.00\n",
       "5863      8.30\n",
       "17442     8.00\n",
       "3474      8.00\n",
       "15743     8.00\n",
       "20264     6.00\n",
       "21227     5.80\n",
       "1388      5.60\n",
       "7578      5.50\n",
       "1026      5.30\n",
       "12628     5.30\n",
       "464       5.20\n",
       "1053      5.00\n",
       "21923     4.90\n",
       "2802      4.80\n",
       "19142     4.70\n",
       "1300      4.70\n",
       "12401     4.65\n",
       "10159     4.50\n",
       "6802      4.50\n",
       "2823      4.50\n",
       "3067      4.50\n",
       "14519     4.50\n",
       "13224     4.50\n",
       "9783      4.50\n",
       "8018      4.45\n",
       "7521      4.45\n",
       "6728      4.40\n",
       "11651     4.40\n",
       "7274      4.40\n",
       "4201      4.37\n",
       "10754     4.30\n",
       "17078     4.25\n",
       "11128     4.20\n",
       "22494     4.20\n",
       "6617      4.20\n",
       "19041     4.20\n",
       "2843      4.20\n",
       "22055     4.20\n",
       "20873     4.20\n",
       "7279      4.20\n",
       "6901      4.20\n",
       "14619     4.20\n",
       "2639      4.19\n",
       "2999      4.19\n",
       "154       4.15\n",
       "15567     4.14\n",
       "4892      4.10\n",
       "11239     4.10\n",
       "6127      4.10\n",
       "Name: ceiling_height, dtype: float64"
      ]
     },
     "execution_count": 24,
     "metadata": {},
     "output_type": "execute_result"
    }
   ],
   "source": [
    "data['ceiling_height'].sort_values(ascending=False).head(50) #ещё раз проверим данные о высоте потолков"
   ]
  },
  {
   "cell_type": "code",
   "execution_count": 25,
   "id": "33c2e305-0cbc-4d36-9600-e7e3f289d188",
   "metadata": {},
   "outputs": [],
   "source": [
    "floors_total_median = data['floors_total'].median() #найдем медианные значения столбца floors_total"
   ]
  },
  {
   "cell_type": "code",
   "execution_count": 26,
   "id": "d7945587-2a19-4134-8ecd-7fff7a633d0c",
   "metadata": {},
   "outputs": [
    {
     "data": {
      "text/plain": [
       "9.0"
      ]
     },
     "execution_count": 26,
     "metadata": {},
     "output_type": "execute_result"
    }
   ],
   "source": [
    "floors_total_median"
   ]
  },
  {
   "cell_type": "code",
   "execution_count": 27,
   "id": "8d28c9f8-8442-4677-8900-05f7be764287",
   "metadata": {},
   "outputs": [],
   "source": [
    "data['floors_total'] = data['floors_total'].fillna(floors_total_median) #заменили пропуски в столбце 'floors_total' на медианное значение"
   ]
  },
  {
   "cell_type": "code",
   "execution_count": 28,
   "id": "385da7c7-6d6d-47e5-b470-013503112e6a",
   "metadata": {},
   "outputs": [],
   "source": [
    "#сделаем со столбцом living_area тоже самое"
   ]
  },
  {
   "cell_type": "code",
   "execution_count": 29,
   "id": "2c7899f8-07a7-41dc-9678-137a2f60e1f5",
   "metadata": {},
   "outputs": [
    {
     "data": {
      "text/plain": [
       "30.0"
      ]
     },
     "execution_count": 29,
     "metadata": {},
     "output_type": "execute_result"
    }
   ],
   "source": [
    "living_area_median = data['living_area'].median() #найдем медианные значени столбца living_area\n",
    "living_area_median"
   ]
  },
  {
   "cell_type": "code",
   "execution_count": 30,
   "id": "5e581770-6337-4af3-b6d3-f81b7bda8313",
   "metadata": {},
   "outputs": [],
   "source": [
    "data['living_area'] = data['living_area'].fillna(living_area_median) #заменили пропуски в столбце 'living_area' на медианное значение"
   ]
  },
  {
   "cell_type": "code",
   "execution_count": 31,
   "id": "856ac338-d922-433f-b640-c8c017e7d1e7",
   "metadata": {},
   "outputs": [
    {
     "data": {
      "text/plain": [
       "9.1"
      ]
     },
     "execution_count": 31,
     "metadata": {},
     "output_type": "execute_result"
    }
   ],
   "source": [
    "kitchen_area_median = data['kitchen_area'].median() #найдем медианные значени столбца kitchen_area\n",
    "kitchen_area_median "
   ]
  },
  {
   "cell_type": "code",
   "execution_count": 32,
   "id": "729f0990-e64b-485b-b096-1aeb68522f26",
   "metadata": {},
   "outputs": [],
   "source": [
    "data['kitchen_area'] = data['kitchen_area'].fillna(kitchen_area_median) #заменили пропуски в столбце 'kitchen_area' на медианное значение"
   ]
  },
  {
   "cell_type": "code",
   "execution_count": 33,
   "id": "a76f2ec1-44bd-47b5-b8f0-99ee92c69716",
   "metadata": {},
   "outputs": [
    {
     "data": {
      "text/plain": [
       "total_images              int64\n",
       "last_price              float64\n",
       "total_area              float64\n",
       "first_day_exposition     object\n",
       "rooms                     int64\n",
       "ceiling_height          float64\n",
       "floors_total            float64\n",
       "living_area             float64\n",
       "floor                     int64\n",
       "is_apartment             object\n",
       "studio                     bool\n",
       "open_plan                  bool\n",
       "kitchen_area            float64\n",
       "balcony                 float64\n",
       "locality_name            object\n",
       "airports_nearest        float64\n",
       "city_centers_nearest    float64\n",
       "parks_around3000        float64\n",
       "parks_nearest           float64\n",
       "ponds_around3000        float64\n",
       "ponds_nearest           float64\n",
       "days_exposition         float64\n",
       "dtype: object"
      ]
     },
     "execution_count": 33,
     "metadata": {},
     "output_type": "execute_result"
    }
   ],
   "source": [
    "data.dtypes #проверим тимы данных"
   ]
  },
  {
   "cell_type": "code",
   "execution_count": 34,
   "id": "bebf28aa-8df3-4b7f-86d1-29e6048ea6c4",
   "metadata": {},
   "outputs": [],
   "source": [
    "# необходимо преобпазовать столбец first_day_exposition к типу datetime \n",
    "data['first_day_exposition'] = pd.to_datetime(data['first_day_exposition'], format='%Y-%m-%dT%H:%M:%S')"
   ]
  },
  {
   "cell_type": "code",
   "execution_count": 35,
   "id": "d78f6283-b479-418c-b402-62fb29b0e488",
   "metadata": {},
   "outputs": [],
   "source": [
    "# необходимо также изменить тип данных у 'last_price', 'balcony' на int"
   ]
  },
  {
   "cell_type": "code",
   "execution_count": 36,
   "id": "8ec6ef40-723d-46c8-ba9b-c412d76b919a",
   "metadata": {},
   "outputs": [],
   "source": [
    "data[['last_price', 'balcony']] = data[['last_price', 'balcony']].apply(lambda x: x.astype('int64'))"
   ]
  },
  {
   "cell_type": "code",
   "execution_count": 37,
   "id": "2b19fb17-9813-4495-9ccb-10393d296668",
   "metadata": {},
   "outputs": [
    {
     "data": {
      "text/plain": [
       "total_images                     int64\n",
       "last_price                       int64\n",
       "total_area                     float64\n",
       "first_day_exposition    datetime64[ns]\n",
       "rooms                            int64\n",
       "ceiling_height                 float64\n",
       "floors_total                   float64\n",
       "living_area                    float64\n",
       "floor                            int64\n",
       "is_apartment                    object\n",
       "studio                            bool\n",
       "open_plan                         bool\n",
       "kitchen_area                   float64\n",
       "balcony                          int64\n",
       "locality_name                   object\n",
       "airports_nearest               float64\n",
       "city_centers_nearest           float64\n",
       "parks_around3000               float64\n",
       "parks_nearest                  float64\n",
       "ponds_around3000               float64\n",
       "ponds_nearest                  float64\n",
       "days_exposition                float64\n",
       "dtype: object"
      ]
     },
     "execution_count": 37,
     "metadata": {},
     "output_type": "execute_result"
    }
   ],
   "source": [
    "#проверяем типы данных\n",
    "data.dtypes"
   ]
  },
  {
   "cell_type": "code",
   "execution_count": 38,
   "id": "00b68124-34f4-4aeb-90a4-3801e5f80432",
   "metadata": {},
   "outputs": [],
   "source": [
    "# необходимо также заменить тип данных у is_apartment с object на bool\n",
    "data['is_apartment'] = data['is_apartment'].astype(bool)"
   ]
  },
  {
   "cell_type": "code",
   "execution_count": 39,
   "id": "1973678c-07b6-4da3-865d-0e4c9e3474d9",
   "metadata": {},
   "outputs": [],
   "source": [
    "#сделаем проверку всех столбцов"
   ]
  },
  {
   "cell_type": "code",
   "execution_count": 40,
   "id": "ab7e585a-9df9-44a0-a919-43fde331598b",
   "metadata": {},
   "outputs": [
    {
     "data": {
      "text/plain": [
       "total_images                     int64\n",
       "last_price                       int64\n",
       "total_area                     float64\n",
       "first_day_exposition    datetime64[ns]\n",
       "rooms                            int64\n",
       "ceiling_height                 float64\n",
       "floors_total                   float64\n",
       "living_area                    float64\n",
       "floor                            int64\n",
       "is_apartment                      bool\n",
       "studio                            bool\n",
       "open_plan                         bool\n",
       "kitchen_area                   float64\n",
       "balcony                          int64\n",
       "locality_name                   object\n",
       "airports_nearest               float64\n",
       "city_centers_nearest           float64\n",
       "parks_around3000               float64\n",
       "parks_nearest                  float64\n",
       "ponds_around3000               float64\n",
       "ponds_nearest                  float64\n",
       "days_exposition                float64\n",
       "dtype: object"
      ]
     },
     "execution_count": 40,
     "metadata": {},
     "output_type": "execute_result"
    }
   ],
   "source": [
    "data.dtypes"
   ]
  },
  {
   "cell_type": "code",
   "execution_count": 41,
   "id": "7f25d00f-c7a7-4e2f-8001-d00c9fdc392f",
   "metadata": {},
   "outputs": [],
   "source": [
    "#явных дубликатов нет, найдем неявные "
   ]
  },
  {
   "cell_type": "code",
   "execution_count": 42,
   "id": "031296f5-fda7-476b-ae30-25d165080a21",
   "metadata": {},
   "outputs": [],
   "source": [
    "#переведем в строчные буквы столбец locality_name\n",
    "data['locality_name'] = data['locality_name'].str.lower()"
   ]
  },
  {
   "cell_type": "code",
   "execution_count": 43,
   "id": "29a022dc-bab4-466b-9ec9-e30d5131b8ce",
   "metadata": {},
   "outputs": [
    {
     "data": {
      "text/plain": [
       "{nan,\n",
       " 'бокситогорск',\n",
       " 'волосово',\n",
       " 'волхов',\n",
       " 'всеволожск',\n",
       " 'выборг',\n",
       " 'высоцк',\n",
       " 'гатчина',\n",
       " 'городской поселок большая ижора',\n",
       " 'городской поселок янино-1',\n",
       " 'городской посёлок будогощь',\n",
       " 'городской посёлок виллози',\n",
       " 'городской посёлок лесогорский',\n",
       " 'городской посёлок мга',\n",
       " 'городской посёлок назия',\n",
       " 'городской посёлок новоселье',\n",
       " 'городской посёлок павлово',\n",
       " 'городской посёлок рощино',\n",
       " 'городской посёлок свирьстрой',\n",
       " 'городской посёлок советский',\n",
       " 'городской посёлок фёдоровское',\n",
       " 'городской посёлок янино-1',\n",
       " 'деревня агалатово',\n",
       " 'деревня аро',\n",
       " 'деревня батово',\n",
       " 'деревня бегуницы',\n",
       " 'деревня белогорка',\n",
       " 'деревня большая вруда',\n",
       " 'деревня большая пустомержа',\n",
       " 'деревня большие колпаны',\n",
       " 'деревня большое рейзино',\n",
       " 'деревня большой сабск',\n",
       " 'деревня бор',\n",
       " 'деревня борисова грива',\n",
       " 'деревня ваганово',\n",
       " 'деревня вартемяги',\n",
       " 'деревня вахнова кара',\n",
       " 'деревня выскатка',\n",
       " 'деревня гарболово',\n",
       " 'деревня глинка',\n",
       " 'деревня горбунки',\n",
       " 'деревня гостилицы',\n",
       " 'деревня заклинье',\n",
       " 'деревня заневка',\n",
       " 'деревня зимитицы',\n",
       " 'деревня извара',\n",
       " 'деревня иссад',\n",
       " 'деревня калитино',\n",
       " 'деревня кальтино',\n",
       " 'деревня камышовка',\n",
       " 'деревня каськово',\n",
       " 'деревня келози',\n",
       " 'деревня кипень',\n",
       " 'деревня кисельня',\n",
       " 'деревня колтуши',\n",
       " 'деревня коркино',\n",
       " 'деревня котлы',\n",
       " 'деревня кривко',\n",
       " 'деревня кудрово',\n",
       " 'деревня кузьмолово',\n",
       " 'деревня курковицы',\n",
       " 'деревня куровицы',\n",
       " 'деревня куттузи',\n",
       " 'деревня лаврики',\n",
       " 'деревня лаголово',\n",
       " 'деревня лампово',\n",
       " 'деревня лесколово',\n",
       " 'деревня лопухинка',\n",
       " 'деревня лупполово',\n",
       " 'деревня малая романовка',\n",
       " 'деревня малое верево',\n",
       " 'деревня малое карлино',\n",
       " 'деревня малые колпаны',\n",
       " 'деревня мануйлово',\n",
       " 'деревня меньково',\n",
       " 'деревня мины',\n",
       " 'деревня мистолово',\n",
       " 'деревня ненимяки',\n",
       " 'деревня нижние осельки',\n",
       " 'деревня нижняя',\n",
       " 'деревня низино',\n",
       " 'деревня новое девяткино',\n",
       " 'деревня новолисино',\n",
       " 'деревня нурма',\n",
       " 'деревня оржицы',\n",
       " 'деревня парицы',\n",
       " 'деревня пельгора',\n",
       " 'деревня пеники',\n",
       " 'деревня пижма',\n",
       " 'деревня пикколово',\n",
       " 'деревня пудомяги',\n",
       " 'деревня пустынка',\n",
       " 'деревня пчева',\n",
       " 'деревня рабитицы',\n",
       " 'деревня разбегаево',\n",
       " 'деревня раздолье',\n",
       " 'деревня разметелево',\n",
       " 'деревня рапполово',\n",
       " 'деревня реброво',\n",
       " 'деревня русско',\n",
       " 'деревня сижно',\n",
       " 'деревня снегирёвка',\n",
       " 'деревня старая',\n",
       " 'деревня старая пустошь',\n",
       " 'деревня старое хинколово',\n",
       " 'деревня старополье',\n",
       " 'деревня старосиверская',\n",
       " 'деревня старые бегуницы',\n",
       " 'деревня суоранда',\n",
       " 'деревня сяськелево',\n",
       " 'деревня тарасово',\n",
       " 'деревня терпилицы',\n",
       " 'деревня тихковицы',\n",
       " 'деревня тойворово',\n",
       " 'деревня торосово',\n",
       " 'деревня торошковичи',\n",
       " 'деревня трубников бор',\n",
       " 'деревня фалилеево',\n",
       " 'деревня фёдоровское',\n",
       " 'деревня хапо-ое',\n",
       " 'деревня хязельки',\n",
       " 'деревня чудской бор',\n",
       " 'деревня шпаньково',\n",
       " 'деревня щеглово',\n",
       " 'деревня юкки',\n",
       " 'деревня ялгино',\n",
       " 'деревня яльгелево',\n",
       " 'деревня ям-тесово',\n",
       " 'зеленогорск',\n",
       " 'ивангород',\n",
       " 'каменногорск',\n",
       " 'кингисепп',\n",
       " 'кириши',\n",
       " 'кировск',\n",
       " 'колпино',\n",
       " 'коммунар',\n",
       " 'коттеджный поселок кивеннапа север',\n",
       " 'коттеджный поселок счастье',\n",
       " 'коттеджный посёлок лесное',\n",
       " 'красное село',\n",
       " 'кронштадт',\n",
       " 'кудрово',\n",
       " 'лодейное поле',\n",
       " 'ломоносов',\n",
       " 'луга',\n",
       " 'любань',\n",
       " 'мурино',\n",
       " 'никольское',\n",
       " 'новая ладога',\n",
       " 'отрадное',\n",
       " 'павловск',\n",
       " 'петергоф',\n",
       " 'пикалёво',\n",
       " 'подпорожье',\n",
       " 'поселок аннино',\n",
       " 'поселок барышево',\n",
       " 'поселок бугры',\n",
       " 'поселок возрождение',\n",
       " 'поселок войсковицы',\n",
       " 'поселок володарское',\n",
       " 'поселок гаврилово',\n",
       " 'поселок гарболово',\n",
       " 'поселок гладкое',\n",
       " 'поселок глажево',\n",
       " 'поселок глебычево',\n",
       " 'поселок гончарово',\n",
       " 'поселок городского типа большая ижора',\n",
       " 'поселок городского типа вырица',\n",
       " 'поселок городского типа дружная горка',\n",
       " 'поселок городского типа дубровка',\n",
       " 'поселок городского типа ефимовский',\n",
       " 'поселок городского типа имени свердлова',\n",
       " 'поселок городского типа кондратьево',\n",
       " 'поселок городского типа красный бор',\n",
       " 'поселок городского типа кузьмоловский',\n",
       " 'поселок городского типа лебяжье',\n",
       " 'поселок городского типа лесогорский',\n",
       " 'поселок городского типа назия',\n",
       " 'поселок городского типа никольский',\n",
       " 'поселок городского типа приладожский',\n",
       " 'поселок городского типа рахья',\n",
       " 'поселок городского типа рощино',\n",
       " 'поселок городского типа рябово',\n",
       " 'поселок городского типа синявино',\n",
       " 'поселок городского типа советский',\n",
       " 'поселок городского типа токсово',\n",
       " 'поселок городского типа форносово',\n",
       " 'поселок громово',\n",
       " 'поселок дружноселье',\n",
       " 'поселок елизаветино',\n",
       " 'поселок жилгородок',\n",
       " 'поселок жилпосёлок',\n",
       " 'поселок житково',\n",
       " 'поселок заводской',\n",
       " 'поселок запорожское',\n",
       " 'поселок зимитицы',\n",
       " 'поселок ильичёво',\n",
       " 'поселок калитино',\n",
       " 'поселок каложицы',\n",
       " 'поселок кингисеппский',\n",
       " 'поселок кирпичное',\n",
       " 'поселок кобралово',\n",
       " 'поселок кобринское',\n",
       " 'поселок коммунары',\n",
       " 'поселок коробицыно',\n",
       " 'поселок котельский',\n",
       " 'поселок красная долина',\n",
       " 'поселок красносельское',\n",
       " 'поселок лесное',\n",
       " 'поселок лисий нос',\n",
       " 'поселок лукаши',\n",
       " 'поселок любань',\n",
       " 'поселок мельниково',\n",
       " 'поселок мичуринское',\n",
       " 'поселок молодцово',\n",
       " 'поселок мурино',\n",
       " 'поселок новый свет',\n",
       " 'поселок новый учхоз',\n",
       " 'поселок оредеж',\n",
       " 'поселок пансионат зелёный бор',\n",
       " 'поселок первомайское',\n",
       " 'поселок перово',\n",
       " 'поселок петровское',\n",
       " 'поселок победа',\n",
       " 'поселок поляны',\n",
       " 'поселок почап',\n",
       " 'поселок починок',\n",
       " 'поселок пушное',\n",
       " 'поселок пчевжа',\n",
       " 'поселок рабитицы',\n",
       " 'поселок романовка',\n",
       " 'поселок ромашки',\n",
       " 'поселок рябово',\n",
       " 'поселок севастьяново',\n",
       " 'поселок селезнёво',\n",
       " 'поселок сельцо',\n",
       " 'поселок семиозерье',\n",
       " 'поселок семрино',\n",
       " 'поселок серебрянский',\n",
       " 'поселок совхозный',\n",
       " 'поселок станции вещево',\n",
       " 'поселок станции корнево',\n",
       " 'поселок станции лужайка',\n",
       " 'поселок станции приветнинское',\n",
       " 'поселок старая малукса',\n",
       " 'поселок стеклянный',\n",
       " 'поселок сумино',\n",
       " 'поселок суходолье',\n",
       " 'поселок тельмана',\n",
       " 'поселок терволово',\n",
       " 'поселок торковичи',\n",
       " 'поселок тёсово-4',\n",
       " 'поселок углово',\n",
       " 'поселок усть-луга',\n",
       " 'поселок ушаки',\n",
       " 'поселок цвелодубово',\n",
       " 'поселок цвылёво',\n",
       " 'посёлок александровская',\n",
       " 'посёлок алексеевка',\n",
       " 'посёлок аннино',\n",
       " 'посёлок белоостров',\n",
       " 'посёлок бугры',\n",
       " 'посёлок возрождение',\n",
       " 'посёлок войскорово',\n",
       " 'посёлок высокоключевой',\n",
       " 'посёлок гаврилово',\n",
       " 'посёлок городского типа важины',\n",
       " 'посёлок городского типа вознесенье',\n",
       " 'посёлок городского типа вырица',\n",
       " 'посёлок городского типа имени морозова',\n",
       " 'посёлок городского типа имени свердлова',\n",
       " 'посёлок городского типа красный бор',\n",
       " 'посёлок городского типа кузнечное',\n",
       " 'посёлок городского типа кузьмоловский',\n",
       " 'посёлок городского типа лебяжье',\n",
       " 'посёлок городского типа мга',\n",
       " 'посёлок городского типа павлово',\n",
       " 'посёлок городского типа рощино',\n",
       " 'посёлок городского типа рябово',\n",
       " 'посёлок городского типа сиверский',\n",
       " 'посёлок городского типа тайцы',\n",
       " 'посёлок городского типа токсово',\n",
       " 'посёлок городского типа ульяновка',\n",
       " 'посёлок городского типа форносово',\n",
       " 'посёлок дзержинского',\n",
       " 'посёлок жилгородок',\n",
       " 'посёлок ильичёво',\n",
       " 'посёлок кикерино',\n",
       " 'посёлок кобралово',\n",
       " 'посёлок коробицыно',\n",
       " 'посёлок левашово',\n",
       " 'посёлок ленинское',\n",
       " 'посёлок лисий нос',\n",
       " 'посёлок мельниково',\n",
       " 'посёлок металлострой',\n",
       " 'посёлок мичуринское',\n",
       " 'посёлок молодёжное',\n",
       " 'посёлок мурино',\n",
       " 'посёлок мыза-ивановка',\n",
       " 'посёлок новогорелово',\n",
       " 'посёлок новый свет',\n",
       " 'посёлок пансионат зелёный бор',\n",
       " 'посёлок парголово',\n",
       " 'посёлок перово',\n",
       " 'посёлок песочный',\n",
       " 'посёлок петро-славянка',\n",
       " 'посёлок петровское',\n",
       " 'посёлок платформа 69-й километр',\n",
       " 'посёлок плодовое',\n",
       " 'посёлок плоское',\n",
       " 'посёлок победа',\n",
       " 'посёлок поляны',\n",
       " 'посёлок понтонный',\n",
       " 'посёлок при железнодорожной станции вещево',\n",
       " 'посёлок при железнодорожной станции приветнинское',\n",
       " 'посёлок пригородный',\n",
       " 'посёлок пудость',\n",
       " 'посёлок репино',\n",
       " 'посёлок ропша',\n",
       " 'посёлок сапёрное',\n",
       " 'посёлок сапёрный',\n",
       " 'посёлок сосново',\n",
       " 'посёлок станции громово',\n",
       " 'посёлок станции свирь',\n",
       " 'посёлок старая малукса',\n",
       " 'посёлок стеклянный',\n",
       " 'посёлок стрельна',\n",
       " 'посёлок суйда',\n",
       " 'посёлок сумино',\n",
       " 'посёлок тельмана',\n",
       " 'посёлок терволово',\n",
       " 'посёлок торфяное',\n",
       " 'посёлок усть-ижора',\n",
       " 'посёлок усть-луга',\n",
       " 'посёлок форт красная горка',\n",
       " 'посёлок шугозеро',\n",
       " 'посёлок шушары',\n",
       " 'посёлок щеглово',\n",
       " 'приморск',\n",
       " 'приозерск',\n",
       " 'пушкин',\n",
       " 'садоводческое некоммерческое товарищество лесная поляна',\n",
       " 'садовое товарищество новая ропша',\n",
       " 'садовое товарищество приладожский',\n",
       " 'садовое товарищество рахья',\n",
       " 'садовое товарищество садко',\n",
       " 'санкт-петербург',\n",
       " 'светогорск',\n",
       " 'село копорье',\n",
       " 'село никольское',\n",
       " 'село павлово',\n",
       " 'село паша',\n",
       " 'село путилово',\n",
       " 'село рождествено',\n",
       " 'село русско-высоцкое',\n",
       " 'село старая ладога',\n",
       " 'село шум',\n",
       " 'сертолово',\n",
       " 'сестрорецк',\n",
       " 'сланцы',\n",
       " 'сосновый бор',\n",
       " 'сясьстрой',\n",
       " 'тихвин',\n",
       " 'тосно',\n",
       " 'шлиссельбург'}"
      ]
     },
     "execution_count": 43,
     "metadata": {},
     "output_type": "execute_result"
    }
   ],
   "source": [
    "#выведем уникальные значения этого столбца\n",
    "set(data['locality_name'].unique())"
   ]
  },
  {
   "cell_type": "code",
   "execution_count": 44,
   "id": "06720498-8b00-4c69-b855-21cd063d117e",
   "metadata": {},
   "outputs": [],
   "source": [
    "#из списка видно, что поселок и посёлок дублируются\n",
    "# заменяем поселок на посёлок \n",
    "data['locality_name'] = data['locality_name'].str.replace('поселок','посёлок')"
   ]
  },
  {
   "cell_type": "code",
   "execution_count": 45,
   "id": "6994d4f5-77aa-4630-a1d4-00f6a3314584",
   "metadata": {},
   "outputs": [
    {
     "data": {
      "text/plain": [
       "{nan,\n",
       " 'бокситогорск',\n",
       " 'волосово',\n",
       " 'волхов',\n",
       " 'всеволожск',\n",
       " 'выборг',\n",
       " 'высоцк',\n",
       " 'гатчина',\n",
       " 'городской посёлок большая ижора',\n",
       " 'городской посёлок будогощь',\n",
       " 'городской посёлок виллози',\n",
       " 'городской посёлок лесогорский',\n",
       " 'городской посёлок мга',\n",
       " 'городской посёлок назия',\n",
       " 'городской посёлок новоселье',\n",
       " 'городской посёлок павлово',\n",
       " 'городской посёлок рощино',\n",
       " 'городской посёлок свирьстрой',\n",
       " 'городской посёлок советский',\n",
       " 'городской посёлок фёдоровское',\n",
       " 'городской посёлок янино-1',\n",
       " 'деревня агалатово',\n",
       " 'деревня аро',\n",
       " 'деревня батово',\n",
       " 'деревня бегуницы',\n",
       " 'деревня белогорка',\n",
       " 'деревня большая вруда',\n",
       " 'деревня большая пустомержа',\n",
       " 'деревня большие колпаны',\n",
       " 'деревня большое рейзино',\n",
       " 'деревня большой сабск',\n",
       " 'деревня бор',\n",
       " 'деревня борисова грива',\n",
       " 'деревня ваганово',\n",
       " 'деревня вартемяги',\n",
       " 'деревня вахнова кара',\n",
       " 'деревня выскатка',\n",
       " 'деревня гарболово',\n",
       " 'деревня глинка',\n",
       " 'деревня горбунки',\n",
       " 'деревня гостилицы',\n",
       " 'деревня заклинье',\n",
       " 'деревня заневка',\n",
       " 'деревня зимитицы',\n",
       " 'деревня извара',\n",
       " 'деревня иссад',\n",
       " 'деревня калитино',\n",
       " 'деревня кальтино',\n",
       " 'деревня камышовка',\n",
       " 'деревня каськово',\n",
       " 'деревня келози',\n",
       " 'деревня кипень',\n",
       " 'деревня кисельня',\n",
       " 'деревня колтуши',\n",
       " 'деревня коркино',\n",
       " 'деревня котлы',\n",
       " 'деревня кривко',\n",
       " 'деревня кудрово',\n",
       " 'деревня кузьмолово',\n",
       " 'деревня курковицы',\n",
       " 'деревня куровицы',\n",
       " 'деревня куттузи',\n",
       " 'деревня лаврики',\n",
       " 'деревня лаголово',\n",
       " 'деревня лампово',\n",
       " 'деревня лесколово',\n",
       " 'деревня лопухинка',\n",
       " 'деревня лупполово',\n",
       " 'деревня малая романовка',\n",
       " 'деревня малое верево',\n",
       " 'деревня малое карлино',\n",
       " 'деревня малые колпаны',\n",
       " 'деревня мануйлово',\n",
       " 'деревня меньково',\n",
       " 'деревня мины',\n",
       " 'деревня мистолово',\n",
       " 'деревня ненимяки',\n",
       " 'деревня нижние осельки',\n",
       " 'деревня нижняя',\n",
       " 'деревня низино',\n",
       " 'деревня новое девяткино',\n",
       " 'деревня новолисино',\n",
       " 'деревня нурма',\n",
       " 'деревня оржицы',\n",
       " 'деревня парицы',\n",
       " 'деревня пельгора',\n",
       " 'деревня пеники',\n",
       " 'деревня пижма',\n",
       " 'деревня пикколово',\n",
       " 'деревня пудомяги',\n",
       " 'деревня пустынка',\n",
       " 'деревня пчева',\n",
       " 'деревня рабитицы',\n",
       " 'деревня разбегаево',\n",
       " 'деревня раздолье',\n",
       " 'деревня разметелево',\n",
       " 'деревня рапполово',\n",
       " 'деревня реброво',\n",
       " 'деревня русско',\n",
       " 'деревня сижно',\n",
       " 'деревня снегирёвка',\n",
       " 'деревня старая',\n",
       " 'деревня старая пустошь',\n",
       " 'деревня старое хинколово',\n",
       " 'деревня старополье',\n",
       " 'деревня старосиверская',\n",
       " 'деревня старые бегуницы',\n",
       " 'деревня суоранда',\n",
       " 'деревня сяськелево',\n",
       " 'деревня тарасово',\n",
       " 'деревня терпилицы',\n",
       " 'деревня тихковицы',\n",
       " 'деревня тойворово',\n",
       " 'деревня торосово',\n",
       " 'деревня торошковичи',\n",
       " 'деревня трубников бор',\n",
       " 'деревня фалилеево',\n",
       " 'деревня фёдоровское',\n",
       " 'деревня хапо-ое',\n",
       " 'деревня хязельки',\n",
       " 'деревня чудской бор',\n",
       " 'деревня шпаньково',\n",
       " 'деревня щеглово',\n",
       " 'деревня юкки',\n",
       " 'деревня ялгино',\n",
       " 'деревня яльгелево',\n",
       " 'деревня ям-тесово',\n",
       " 'зеленогорск',\n",
       " 'ивангород',\n",
       " 'каменногорск',\n",
       " 'кингисепп',\n",
       " 'кириши',\n",
       " 'кировск',\n",
       " 'колпино',\n",
       " 'коммунар',\n",
       " 'коттеджный посёлок кивеннапа север',\n",
       " 'коттеджный посёлок лесное',\n",
       " 'коттеджный посёлок счастье',\n",
       " 'красное село',\n",
       " 'кронштадт',\n",
       " 'кудрово',\n",
       " 'лодейное поле',\n",
       " 'ломоносов',\n",
       " 'луга',\n",
       " 'любань',\n",
       " 'мурино',\n",
       " 'никольское',\n",
       " 'новая ладога',\n",
       " 'отрадное',\n",
       " 'павловск',\n",
       " 'петергоф',\n",
       " 'пикалёво',\n",
       " 'подпорожье',\n",
       " 'посёлок александровская',\n",
       " 'посёлок алексеевка',\n",
       " 'посёлок аннино',\n",
       " 'посёлок барышево',\n",
       " 'посёлок белоостров',\n",
       " 'посёлок бугры',\n",
       " 'посёлок возрождение',\n",
       " 'посёлок войсковицы',\n",
       " 'посёлок войскорово',\n",
       " 'посёлок володарское',\n",
       " 'посёлок высокоключевой',\n",
       " 'посёлок гаврилово',\n",
       " 'посёлок гарболово',\n",
       " 'посёлок гладкое',\n",
       " 'посёлок глажево',\n",
       " 'посёлок глебычево',\n",
       " 'посёлок гончарово',\n",
       " 'посёлок городского типа большая ижора',\n",
       " 'посёлок городского типа важины',\n",
       " 'посёлок городского типа вознесенье',\n",
       " 'посёлок городского типа вырица',\n",
       " 'посёлок городского типа дружная горка',\n",
       " 'посёлок городского типа дубровка',\n",
       " 'посёлок городского типа ефимовский',\n",
       " 'посёлок городского типа имени морозова',\n",
       " 'посёлок городского типа имени свердлова',\n",
       " 'посёлок городского типа кондратьево',\n",
       " 'посёлок городского типа красный бор',\n",
       " 'посёлок городского типа кузнечное',\n",
       " 'посёлок городского типа кузьмоловский',\n",
       " 'посёлок городского типа лебяжье',\n",
       " 'посёлок городского типа лесогорский',\n",
       " 'посёлок городского типа мга',\n",
       " 'посёлок городского типа назия',\n",
       " 'посёлок городского типа никольский',\n",
       " 'посёлок городского типа павлово',\n",
       " 'посёлок городского типа приладожский',\n",
       " 'посёлок городского типа рахья',\n",
       " 'посёлок городского типа рощино',\n",
       " 'посёлок городского типа рябово',\n",
       " 'посёлок городского типа сиверский',\n",
       " 'посёлок городского типа синявино',\n",
       " 'посёлок городского типа советский',\n",
       " 'посёлок городского типа тайцы',\n",
       " 'посёлок городского типа токсово',\n",
       " 'посёлок городского типа ульяновка',\n",
       " 'посёлок городского типа форносово',\n",
       " 'посёлок громово',\n",
       " 'посёлок дзержинского',\n",
       " 'посёлок дружноселье',\n",
       " 'посёлок елизаветино',\n",
       " 'посёлок жилгородок',\n",
       " 'посёлок жилпосёлок',\n",
       " 'посёлок житково',\n",
       " 'посёлок заводской',\n",
       " 'посёлок запорожское',\n",
       " 'посёлок зимитицы',\n",
       " 'посёлок ильичёво',\n",
       " 'посёлок калитино',\n",
       " 'посёлок каложицы',\n",
       " 'посёлок кикерино',\n",
       " 'посёлок кингисеппский',\n",
       " 'посёлок кирпичное',\n",
       " 'посёлок кобралово',\n",
       " 'посёлок кобринское',\n",
       " 'посёлок коммунары',\n",
       " 'посёлок коробицыно',\n",
       " 'посёлок котельский',\n",
       " 'посёлок красная долина',\n",
       " 'посёлок красносельское',\n",
       " 'посёлок левашово',\n",
       " 'посёлок ленинское',\n",
       " 'посёлок лесное',\n",
       " 'посёлок лисий нос',\n",
       " 'посёлок лукаши',\n",
       " 'посёлок любань',\n",
       " 'посёлок мельниково',\n",
       " 'посёлок металлострой',\n",
       " 'посёлок мичуринское',\n",
       " 'посёлок молодцово',\n",
       " 'посёлок молодёжное',\n",
       " 'посёлок мурино',\n",
       " 'посёлок мыза-ивановка',\n",
       " 'посёлок новогорелово',\n",
       " 'посёлок новый свет',\n",
       " 'посёлок новый учхоз',\n",
       " 'посёлок оредеж',\n",
       " 'посёлок пансионат зелёный бор',\n",
       " 'посёлок парголово',\n",
       " 'посёлок первомайское',\n",
       " 'посёлок перово',\n",
       " 'посёлок песочный',\n",
       " 'посёлок петро-славянка',\n",
       " 'посёлок петровское',\n",
       " 'посёлок платформа 69-й километр',\n",
       " 'посёлок плодовое',\n",
       " 'посёлок плоское',\n",
       " 'посёлок победа',\n",
       " 'посёлок поляны',\n",
       " 'посёлок понтонный',\n",
       " 'посёлок почап',\n",
       " 'посёлок починок',\n",
       " 'посёлок при железнодорожной станции вещево',\n",
       " 'посёлок при железнодорожной станции приветнинское',\n",
       " 'посёлок пригородный',\n",
       " 'посёлок пудость',\n",
       " 'посёлок пушное',\n",
       " 'посёлок пчевжа',\n",
       " 'посёлок рабитицы',\n",
       " 'посёлок репино',\n",
       " 'посёлок романовка',\n",
       " 'посёлок ромашки',\n",
       " 'посёлок ропша',\n",
       " 'посёлок рябово',\n",
       " 'посёлок сапёрное',\n",
       " 'посёлок сапёрный',\n",
       " 'посёлок севастьяново',\n",
       " 'посёлок селезнёво',\n",
       " 'посёлок сельцо',\n",
       " 'посёлок семиозерье',\n",
       " 'посёлок семрино',\n",
       " 'посёлок серебрянский',\n",
       " 'посёлок совхозный',\n",
       " 'посёлок сосново',\n",
       " 'посёлок станции вещево',\n",
       " 'посёлок станции громово',\n",
       " 'посёлок станции корнево',\n",
       " 'посёлок станции лужайка',\n",
       " 'посёлок станции приветнинское',\n",
       " 'посёлок станции свирь',\n",
       " 'посёлок старая малукса',\n",
       " 'посёлок стеклянный',\n",
       " 'посёлок стрельна',\n",
       " 'посёлок суйда',\n",
       " 'посёлок сумино',\n",
       " 'посёлок суходолье',\n",
       " 'посёлок тельмана',\n",
       " 'посёлок терволово',\n",
       " 'посёлок торковичи',\n",
       " 'посёлок торфяное',\n",
       " 'посёлок тёсово-4',\n",
       " 'посёлок углово',\n",
       " 'посёлок усть-ижора',\n",
       " 'посёлок усть-луга',\n",
       " 'посёлок ушаки',\n",
       " 'посёлок форт красная горка',\n",
       " 'посёлок цвелодубово',\n",
       " 'посёлок цвылёво',\n",
       " 'посёлок шугозеро',\n",
       " 'посёлок шушары',\n",
       " 'посёлок щеглово',\n",
       " 'приморск',\n",
       " 'приозерск',\n",
       " 'пушкин',\n",
       " 'садоводческое некоммерческое товарищество лесная поляна',\n",
       " 'садовое товарищество новая ропша',\n",
       " 'садовое товарищество приладожский',\n",
       " 'садовое товарищество рахья',\n",
       " 'садовое товарищество садко',\n",
       " 'санкт-петербург',\n",
       " 'светогорск',\n",
       " 'село копорье',\n",
       " 'село никольское',\n",
       " 'село павлово',\n",
       " 'село паша',\n",
       " 'село путилово',\n",
       " 'село рождествено',\n",
       " 'село русско-высоцкое',\n",
       " 'село старая ладога',\n",
       " 'село шум',\n",
       " 'сертолово',\n",
       " 'сестрорецк',\n",
       " 'сланцы',\n",
       " 'сосновый бор',\n",
       " 'сясьстрой',\n",
       " 'тихвин',\n",
       " 'тосно',\n",
       " 'шлиссельбург'}"
      ]
     },
     "execution_count": 45,
     "metadata": {},
     "output_type": "execute_result"
    }
   ],
   "source": [
    "#снова выведем уникальные значения для проверки\n",
    "set(data['locality_name'].unique())"
   ]
  },
  {
   "cell_type": "code",
   "execution_count": 46,
   "id": "9a433217-17bc-4375-82b9-6b0b3589c3b2",
   "metadata": {},
   "outputs": [],
   "source": [
    "#в locality_name находится 49 пропущенных значений, заменим их на unknown"
   ]
  },
  {
   "cell_type": "code",
   "execution_count": 47,
   "id": "130b5c54-bcc9-4b1e-8525-a533bdf96f3b",
   "metadata": {},
   "outputs": [],
   "source": [
    "data['locality_name'] = data['locality_name'].fillna('unknown')"
   ]
  },
  {
   "cell_type": "code",
   "execution_count": 48,
   "id": "ab63ae90-9b94-48d7-bea2-cad5ccfc62f2",
   "metadata": {},
   "outputs": [
    {
     "data": {
      "text/plain": [
       "0"
      ]
     },
     "execution_count": 48,
     "metadata": {},
     "output_type": "execute_result"
    }
   ],
   "source": [
    "data['locality_name'].isna().sum() #проверим количество пропусков в столбце"
   ]
  },
  {
   "cell_type": "code",
   "execution_count": 49,
   "id": "c4691b8a-8733-4741-91e7-5bbe7b64b653",
   "metadata": {},
   "outputs": [
    {
     "data": {
      "text/plain": [
       "0        482.0\n",
       "1          NaN\n",
       "2         90.0\n",
       "3         84.0\n",
       "4        112.0\n",
       "         ...  \n",
       "23694    796.0\n",
       "23695      NaN\n",
       "23696      NaN\n",
       "23697    173.0\n",
       "23698      NaN\n",
       "Name: parks_nearest, Length: 23699, dtype: float64"
      ]
     },
     "execution_count": 49,
     "metadata": {},
     "output_type": "execute_result"
    }
   ],
   "source": [
    "data['parks_nearest'].round(2) #посмотрим данные о расстроянии до ближайшего парка"
   ]
  },
  {
   "cell_type": "code",
   "execution_count": 50,
   "id": "8708d932-8179-4223-90ee-0416a37a4000",
   "metadata": {},
   "outputs": [],
   "source": [
    "#встречаются значения NaN, оставим их неизменными, это значит, что объект находится далеко от парков"
   ]
  },
  {
   "cell_type": "code",
   "execution_count": 51,
   "id": "b5e2a061-85a0-4a49-8523-0ac7f7c373df",
   "metadata": {},
   "outputs": [
    {
     "data": {
      "text/plain": [
       "total_images                0\n",
       "last_price                  0\n",
       "total_area                  0\n",
       "first_day_exposition        0\n",
       "rooms                       0\n",
       "ceiling_height              0\n",
       "floors_total                0\n",
       "living_area                 0\n",
       "floor                       0\n",
       "is_apartment                0\n",
       "studio                      0\n",
       "open_plan                   0\n",
       "kitchen_area                0\n",
       "balcony                     0\n",
       "locality_name               0\n",
       "airports_nearest         5542\n",
       "city_centers_nearest     5519\n",
       "parks_around3000         5518\n",
       "parks_nearest           15620\n",
       "ponds_around3000         5518\n",
       "ponds_nearest           14589\n",
       "days_exposition          3181\n",
       "dtype: int64"
      ]
     },
     "execution_count": 51,
     "metadata": {},
     "output_type": "execute_result"
    }
   ],
   "source": [
    "data.isna().sum() #проверим ещё раз количество пропусков в таблице"
   ]
  },
  {
   "cell_type": "markdown",
   "id": "4d06db39-0835-44e8-82aa-657150e4b746",
   "metadata": {},
   "source": [
    "сделаем выводы по ставшимся пропускам:airports_nearest оставим неизменным, пропуски означают, что объект находится далеко от аэропорта\n",
    "пропуски в citycenters_nearest означают, что объект находится не в городе\n",
    "пропуски в parks_around3000 означают, что она таком расстроянии нет парков, оставим их\n",
    "пропуски в parks_nearest означают, что по близости нет парков\n",
    "отсавим пропуски в ponds_nearest, это означает, что объект находится далеко от водоемов\n",
    "пропуски в days_exposition означают,что объект ещё не продан, также их оставим.\n",
    "На этом предобработка данных выполнена. "
   ]
  },
  {
   "cell_type": "markdown",
   "id": "3856dd4d-aa78-4a90-83d3-925e077d61dc",
   "metadata": {},
   "source": [
    "Добавим в таблицу новые столбцы"
   ]
  },
  {
   "cell_type": "code",
   "execution_count": 52,
   "id": "26d10be8-9d86-4373-848e-cc64f2229aac",
   "metadata": {},
   "outputs": [],
   "source": [
    "#нужно добавить столбец с ценой одного квадратного метра, назовем его price_on_one_metr"
   ]
  },
  {
   "cell_type": "code",
   "execution_count": 53,
   "id": "5c371844-eebb-41c2-a719-5734d9aca21b",
   "metadata": {},
   "outputs": [],
   "source": [
    "# для этого необходимо разделить last_price на total_area\n",
    "data['price_on_one_metr'] = data['last_price'] / data['total_area']"
   ]
  },
  {
   "cell_type": "code",
   "execution_count": 54,
   "id": "46f6e9b3-2b05-4e95-9db9-0539f94481a1",
   "metadata": {},
   "outputs": [
    {
     "data": {
      "text/html": [
       "<div>\n",
       "<style scoped>\n",
       "    .dataframe tbody tr th:only-of-type {\n",
       "        vertical-align: middle;\n",
       "    }\n",
       "\n",
       "    .dataframe tbody tr th {\n",
       "        vertical-align: top;\n",
       "    }\n",
       "\n",
       "    .dataframe thead th {\n",
       "        text-align: right;\n",
       "    }\n",
       "</style>\n",
       "<table border=\"1\" class=\"dataframe\">\n",
       "  <thead>\n",
       "    <tr style=\"text-align: right;\">\n",
       "      <th></th>\n",
       "      <th>total_images</th>\n",
       "      <th>last_price</th>\n",
       "      <th>total_area</th>\n",
       "      <th>first_day_exposition</th>\n",
       "      <th>rooms</th>\n",
       "      <th>ceiling_height</th>\n",
       "      <th>floors_total</th>\n",
       "      <th>living_area</th>\n",
       "      <th>floor</th>\n",
       "      <th>is_apartment</th>\n",
       "      <th>...</th>\n",
       "      <th>balcony</th>\n",
       "      <th>locality_name</th>\n",
       "      <th>airports_nearest</th>\n",
       "      <th>city_centers_nearest</th>\n",
       "      <th>parks_around3000</th>\n",
       "      <th>parks_nearest</th>\n",
       "      <th>ponds_around3000</th>\n",
       "      <th>ponds_nearest</th>\n",
       "      <th>days_exposition</th>\n",
       "      <th>price_on_one_metr</th>\n",
       "    </tr>\n",
       "  </thead>\n",
       "  <tbody>\n",
       "    <tr>\n",
       "      <th>0</th>\n",
       "      <td>20</td>\n",
       "      <td>13000000</td>\n",
       "      <td>108.00</td>\n",
       "      <td>2019-03-07</td>\n",
       "      <td>3</td>\n",
       "      <td>2.70</td>\n",
       "      <td>16.0</td>\n",
       "      <td>51.00</td>\n",
       "      <td>8</td>\n",
       "      <td>False</td>\n",
       "      <td>...</td>\n",
       "      <td>0</td>\n",
       "      <td>санкт-петербург</td>\n",
       "      <td>18863.0</td>\n",
       "      <td>16028.0</td>\n",
       "      <td>1.0</td>\n",
       "      <td>482.0</td>\n",
       "      <td>2.0</td>\n",
       "      <td>755.0</td>\n",
       "      <td>NaN</td>\n",
       "      <td>120370.370370</td>\n",
       "    </tr>\n",
       "    <tr>\n",
       "      <th>1</th>\n",
       "      <td>7</td>\n",
       "      <td>3350000</td>\n",
       "      <td>40.40</td>\n",
       "      <td>2018-12-04</td>\n",
       "      <td>1</td>\n",
       "      <td>2.65</td>\n",
       "      <td>11.0</td>\n",
       "      <td>18.60</td>\n",
       "      <td>1</td>\n",
       "      <td>False</td>\n",
       "      <td>...</td>\n",
       "      <td>2</td>\n",
       "      <td>посёлок шушары</td>\n",
       "      <td>12817.0</td>\n",
       "      <td>18603.0</td>\n",
       "      <td>0.0</td>\n",
       "      <td>NaN</td>\n",
       "      <td>0.0</td>\n",
       "      <td>NaN</td>\n",
       "      <td>81.0</td>\n",
       "      <td>82920.792079</td>\n",
       "    </tr>\n",
       "    <tr>\n",
       "      <th>2</th>\n",
       "      <td>10</td>\n",
       "      <td>5196000</td>\n",
       "      <td>56.00</td>\n",
       "      <td>2015-08-20</td>\n",
       "      <td>2</td>\n",
       "      <td>2.65</td>\n",
       "      <td>5.0</td>\n",
       "      <td>34.30</td>\n",
       "      <td>4</td>\n",
       "      <td>False</td>\n",
       "      <td>...</td>\n",
       "      <td>0</td>\n",
       "      <td>санкт-петербург</td>\n",
       "      <td>21741.0</td>\n",
       "      <td>13933.0</td>\n",
       "      <td>1.0</td>\n",
       "      <td>90.0</td>\n",
       "      <td>2.0</td>\n",
       "      <td>574.0</td>\n",
       "      <td>558.0</td>\n",
       "      <td>92785.714286</td>\n",
       "    </tr>\n",
       "    <tr>\n",
       "      <th>3</th>\n",
       "      <td>0</td>\n",
       "      <td>64900000</td>\n",
       "      <td>159.00</td>\n",
       "      <td>2015-07-24</td>\n",
       "      <td>3</td>\n",
       "      <td>2.65</td>\n",
       "      <td>14.0</td>\n",
       "      <td>30.00</td>\n",
       "      <td>9</td>\n",
       "      <td>False</td>\n",
       "      <td>...</td>\n",
       "      <td>0</td>\n",
       "      <td>санкт-петербург</td>\n",
       "      <td>28098.0</td>\n",
       "      <td>6800.0</td>\n",
       "      <td>2.0</td>\n",
       "      <td>84.0</td>\n",
       "      <td>3.0</td>\n",
       "      <td>234.0</td>\n",
       "      <td>424.0</td>\n",
       "      <td>408176.100629</td>\n",
       "    </tr>\n",
       "    <tr>\n",
       "      <th>4</th>\n",
       "      <td>2</td>\n",
       "      <td>10000000</td>\n",
       "      <td>100.00</td>\n",
       "      <td>2018-06-19</td>\n",
       "      <td>2</td>\n",
       "      <td>3.03</td>\n",
       "      <td>14.0</td>\n",
       "      <td>32.00</td>\n",
       "      <td>13</td>\n",
       "      <td>False</td>\n",
       "      <td>...</td>\n",
       "      <td>0</td>\n",
       "      <td>санкт-петербург</td>\n",
       "      <td>31856.0</td>\n",
       "      <td>8098.0</td>\n",
       "      <td>2.0</td>\n",
       "      <td>112.0</td>\n",
       "      <td>1.0</td>\n",
       "      <td>48.0</td>\n",
       "      <td>121.0</td>\n",
       "      <td>100000.000000</td>\n",
       "    </tr>\n",
       "    <tr>\n",
       "      <th>5</th>\n",
       "      <td>10</td>\n",
       "      <td>2890000</td>\n",
       "      <td>30.40</td>\n",
       "      <td>2018-09-10</td>\n",
       "      <td>1</td>\n",
       "      <td>2.65</td>\n",
       "      <td>12.0</td>\n",
       "      <td>14.40</td>\n",
       "      <td>5</td>\n",
       "      <td>False</td>\n",
       "      <td>...</td>\n",
       "      <td>0</td>\n",
       "      <td>городской посёлок янино-1</td>\n",
       "      <td>NaN</td>\n",
       "      <td>NaN</td>\n",
       "      <td>NaN</td>\n",
       "      <td>NaN</td>\n",
       "      <td>NaN</td>\n",
       "      <td>NaN</td>\n",
       "      <td>55.0</td>\n",
       "      <td>95065.789474</td>\n",
       "    </tr>\n",
       "    <tr>\n",
       "      <th>6</th>\n",
       "      <td>6</td>\n",
       "      <td>3700000</td>\n",
       "      <td>37.30</td>\n",
       "      <td>2017-11-02</td>\n",
       "      <td>1</td>\n",
       "      <td>2.65</td>\n",
       "      <td>26.0</td>\n",
       "      <td>10.60</td>\n",
       "      <td>6</td>\n",
       "      <td>False</td>\n",
       "      <td>...</td>\n",
       "      <td>1</td>\n",
       "      <td>посёлок парголово</td>\n",
       "      <td>52996.0</td>\n",
       "      <td>19143.0</td>\n",
       "      <td>0.0</td>\n",
       "      <td>NaN</td>\n",
       "      <td>0.0</td>\n",
       "      <td>NaN</td>\n",
       "      <td>155.0</td>\n",
       "      <td>99195.710456</td>\n",
       "    </tr>\n",
       "    <tr>\n",
       "      <th>7</th>\n",
       "      <td>5</td>\n",
       "      <td>7915000</td>\n",
       "      <td>71.60</td>\n",
       "      <td>2019-04-18</td>\n",
       "      <td>2</td>\n",
       "      <td>2.65</td>\n",
       "      <td>24.0</td>\n",
       "      <td>30.00</td>\n",
       "      <td>22</td>\n",
       "      <td>False</td>\n",
       "      <td>...</td>\n",
       "      <td>2</td>\n",
       "      <td>санкт-петербург</td>\n",
       "      <td>23982.0</td>\n",
       "      <td>11634.0</td>\n",
       "      <td>0.0</td>\n",
       "      <td>NaN</td>\n",
       "      <td>0.0</td>\n",
       "      <td>NaN</td>\n",
       "      <td>NaN</td>\n",
       "      <td>110544.692737</td>\n",
       "    </tr>\n",
       "    <tr>\n",
       "      <th>8</th>\n",
       "      <td>20</td>\n",
       "      <td>2900000</td>\n",
       "      <td>33.16</td>\n",
       "      <td>2018-05-23</td>\n",
       "      <td>1</td>\n",
       "      <td>2.65</td>\n",
       "      <td>27.0</td>\n",
       "      <td>15.43</td>\n",
       "      <td>26</td>\n",
       "      <td>False</td>\n",
       "      <td>...</td>\n",
       "      <td>0</td>\n",
       "      <td>посёлок мурино</td>\n",
       "      <td>NaN</td>\n",
       "      <td>NaN</td>\n",
       "      <td>NaN</td>\n",
       "      <td>NaN</td>\n",
       "      <td>NaN</td>\n",
       "      <td>NaN</td>\n",
       "      <td>189.0</td>\n",
       "      <td>87454.764777</td>\n",
       "    </tr>\n",
       "    <tr>\n",
       "      <th>9</th>\n",
       "      <td>18</td>\n",
       "      <td>5400000</td>\n",
       "      <td>61.00</td>\n",
       "      <td>2017-02-26</td>\n",
       "      <td>3</td>\n",
       "      <td>2.50</td>\n",
       "      <td>9.0</td>\n",
       "      <td>43.60</td>\n",
       "      <td>7</td>\n",
       "      <td>False</td>\n",
       "      <td>...</td>\n",
       "      <td>2</td>\n",
       "      <td>санкт-петербург</td>\n",
       "      <td>50898.0</td>\n",
       "      <td>15008.0</td>\n",
       "      <td>0.0</td>\n",
       "      <td>NaN</td>\n",
       "      <td>0.0</td>\n",
       "      <td>NaN</td>\n",
       "      <td>289.0</td>\n",
       "      <td>88524.590164</td>\n",
       "    </tr>\n",
       "  </tbody>\n",
       "</table>\n",
       "<p>10 rows × 23 columns</p>\n",
       "</div>"
      ],
      "text/plain": [
       "   total_images  last_price  total_area first_day_exposition  rooms  \\\n",
       "0            20    13000000      108.00           2019-03-07      3   \n",
       "1             7     3350000       40.40           2018-12-04      1   \n",
       "2            10     5196000       56.00           2015-08-20      2   \n",
       "3             0    64900000      159.00           2015-07-24      3   \n",
       "4             2    10000000      100.00           2018-06-19      2   \n",
       "5            10     2890000       30.40           2018-09-10      1   \n",
       "6             6     3700000       37.30           2017-11-02      1   \n",
       "7             5     7915000       71.60           2019-04-18      2   \n",
       "8            20     2900000       33.16           2018-05-23      1   \n",
       "9            18     5400000       61.00           2017-02-26      3   \n",
       "\n",
       "   ceiling_height  floors_total  living_area  floor  is_apartment  ...  \\\n",
       "0            2.70          16.0        51.00      8         False  ...   \n",
       "1            2.65          11.0        18.60      1         False  ...   \n",
       "2            2.65           5.0        34.30      4         False  ...   \n",
       "3            2.65          14.0        30.00      9         False  ...   \n",
       "4            3.03          14.0        32.00     13         False  ...   \n",
       "5            2.65          12.0        14.40      5         False  ...   \n",
       "6            2.65          26.0        10.60      6         False  ...   \n",
       "7            2.65          24.0        30.00     22         False  ...   \n",
       "8            2.65          27.0        15.43     26         False  ...   \n",
       "9            2.50           9.0        43.60      7         False  ...   \n",
       "\n",
       "   balcony              locality_name  airports_nearest  city_centers_nearest  \\\n",
       "0        0            санкт-петербург           18863.0               16028.0   \n",
       "1        2             посёлок шушары           12817.0               18603.0   \n",
       "2        0            санкт-петербург           21741.0               13933.0   \n",
       "3        0            санкт-петербург           28098.0                6800.0   \n",
       "4        0            санкт-петербург           31856.0                8098.0   \n",
       "5        0  городской посёлок янино-1               NaN                   NaN   \n",
       "6        1          посёлок парголово           52996.0               19143.0   \n",
       "7        2            санкт-петербург           23982.0               11634.0   \n",
       "8        0             посёлок мурино               NaN                   NaN   \n",
       "9        2            санкт-петербург           50898.0               15008.0   \n",
       "\n",
       "  parks_around3000  parks_nearest  ponds_around3000  ponds_nearest  \\\n",
       "0              1.0          482.0               2.0          755.0   \n",
       "1              0.0            NaN               0.0            NaN   \n",
       "2              1.0           90.0               2.0          574.0   \n",
       "3              2.0           84.0               3.0          234.0   \n",
       "4              2.0          112.0               1.0           48.0   \n",
       "5              NaN            NaN               NaN            NaN   \n",
       "6              0.0            NaN               0.0            NaN   \n",
       "7              0.0            NaN               0.0            NaN   \n",
       "8              NaN            NaN               NaN            NaN   \n",
       "9              0.0            NaN               0.0            NaN   \n",
       "\n",
       "   days_exposition  price_on_one_metr  \n",
       "0              NaN      120370.370370  \n",
       "1             81.0       82920.792079  \n",
       "2            558.0       92785.714286  \n",
       "3            424.0      408176.100629  \n",
       "4            121.0      100000.000000  \n",
       "5             55.0       95065.789474  \n",
       "6            155.0       99195.710456  \n",
       "7              NaN      110544.692737  \n",
       "8            189.0       87454.764777  \n",
       "9            289.0       88524.590164  \n",
       "\n",
       "[10 rows x 23 columns]"
      ]
     },
     "execution_count": 54,
     "metadata": {},
     "output_type": "execute_result"
    }
   ],
   "source": [
    "data.head(10) #выведем первые 10 строк, чтобы проверить добавился ли новый столбец"
   ]
  },
  {
   "cell_type": "code",
   "execution_count": 55,
   "id": "fcd10f5d-dc58-4541-9593-f44a483a1a15",
   "metadata": {},
   "outputs": [
    {
     "data": {
      "text/html": [
       "<div>\n",
       "<style scoped>\n",
       "    .dataframe tbody tr th:only-of-type {\n",
       "        vertical-align: middle;\n",
       "    }\n",
       "\n",
       "    .dataframe tbody tr th {\n",
       "        vertical-align: top;\n",
       "    }\n",
       "\n",
       "    .dataframe thead th {\n",
       "        text-align: right;\n",
       "    }\n",
       "</style>\n",
       "<table border=\"1\" class=\"dataframe\">\n",
       "  <thead>\n",
       "    <tr style=\"text-align: right;\">\n",
       "      <th></th>\n",
       "      <th>total_images</th>\n",
       "      <th>last_price</th>\n",
       "      <th>total_area</th>\n",
       "      <th>first_day_exposition</th>\n",
       "      <th>rooms</th>\n",
       "      <th>ceiling_height</th>\n",
       "      <th>floors_total</th>\n",
       "      <th>living_area</th>\n",
       "      <th>floor</th>\n",
       "      <th>is_apartment</th>\n",
       "      <th>...</th>\n",
       "      <th>balcony</th>\n",
       "      <th>locality_name</th>\n",
       "      <th>airports_nearest</th>\n",
       "      <th>city_centers_nearest</th>\n",
       "      <th>parks_around3000</th>\n",
       "      <th>parks_nearest</th>\n",
       "      <th>ponds_around3000</th>\n",
       "      <th>ponds_nearest</th>\n",
       "      <th>days_exposition</th>\n",
       "      <th>price_on_one_metr</th>\n",
       "    </tr>\n",
       "  </thead>\n",
       "  <tbody>\n",
       "    <tr>\n",
       "      <th>0</th>\n",
       "      <td>20</td>\n",
       "      <td>13000000</td>\n",
       "      <td>108.00</td>\n",
       "      <td>2019-03-07</td>\n",
       "      <td>3</td>\n",
       "      <td>2.70</td>\n",
       "      <td>16.0</td>\n",
       "      <td>51.00</td>\n",
       "      <td>8</td>\n",
       "      <td>False</td>\n",
       "      <td>...</td>\n",
       "      <td>0</td>\n",
       "      <td>санкт-петербург</td>\n",
       "      <td>18863.0</td>\n",
       "      <td>16028.0</td>\n",
       "      <td>1.0</td>\n",
       "      <td>482.0</td>\n",
       "      <td>2.0</td>\n",
       "      <td>755.0</td>\n",
       "      <td>NaN</td>\n",
       "      <td>120370.37</td>\n",
       "    </tr>\n",
       "    <tr>\n",
       "      <th>1</th>\n",
       "      <td>7</td>\n",
       "      <td>3350000</td>\n",
       "      <td>40.40</td>\n",
       "      <td>2018-12-04</td>\n",
       "      <td>1</td>\n",
       "      <td>2.65</td>\n",
       "      <td>11.0</td>\n",
       "      <td>18.60</td>\n",
       "      <td>1</td>\n",
       "      <td>False</td>\n",
       "      <td>...</td>\n",
       "      <td>2</td>\n",
       "      <td>посёлок шушары</td>\n",
       "      <td>12817.0</td>\n",
       "      <td>18603.0</td>\n",
       "      <td>0.0</td>\n",
       "      <td>NaN</td>\n",
       "      <td>0.0</td>\n",
       "      <td>NaN</td>\n",
       "      <td>81.0</td>\n",
       "      <td>82920.79</td>\n",
       "    </tr>\n",
       "    <tr>\n",
       "      <th>2</th>\n",
       "      <td>10</td>\n",
       "      <td>5196000</td>\n",
       "      <td>56.00</td>\n",
       "      <td>2015-08-20</td>\n",
       "      <td>2</td>\n",
       "      <td>2.65</td>\n",
       "      <td>5.0</td>\n",
       "      <td>34.30</td>\n",
       "      <td>4</td>\n",
       "      <td>False</td>\n",
       "      <td>...</td>\n",
       "      <td>0</td>\n",
       "      <td>санкт-петербург</td>\n",
       "      <td>21741.0</td>\n",
       "      <td>13933.0</td>\n",
       "      <td>1.0</td>\n",
       "      <td>90.0</td>\n",
       "      <td>2.0</td>\n",
       "      <td>574.0</td>\n",
       "      <td>558.0</td>\n",
       "      <td>92785.71</td>\n",
       "    </tr>\n",
       "    <tr>\n",
       "      <th>3</th>\n",
       "      <td>0</td>\n",
       "      <td>64900000</td>\n",
       "      <td>159.00</td>\n",
       "      <td>2015-07-24</td>\n",
       "      <td>3</td>\n",
       "      <td>2.65</td>\n",
       "      <td>14.0</td>\n",
       "      <td>30.00</td>\n",
       "      <td>9</td>\n",
       "      <td>False</td>\n",
       "      <td>...</td>\n",
       "      <td>0</td>\n",
       "      <td>санкт-петербург</td>\n",
       "      <td>28098.0</td>\n",
       "      <td>6800.0</td>\n",
       "      <td>2.0</td>\n",
       "      <td>84.0</td>\n",
       "      <td>3.0</td>\n",
       "      <td>234.0</td>\n",
       "      <td>424.0</td>\n",
       "      <td>408176.10</td>\n",
       "    </tr>\n",
       "    <tr>\n",
       "      <th>4</th>\n",
       "      <td>2</td>\n",
       "      <td>10000000</td>\n",
       "      <td>100.00</td>\n",
       "      <td>2018-06-19</td>\n",
       "      <td>2</td>\n",
       "      <td>3.03</td>\n",
       "      <td>14.0</td>\n",
       "      <td>32.00</td>\n",
       "      <td>13</td>\n",
       "      <td>False</td>\n",
       "      <td>...</td>\n",
       "      <td>0</td>\n",
       "      <td>санкт-петербург</td>\n",
       "      <td>31856.0</td>\n",
       "      <td>8098.0</td>\n",
       "      <td>2.0</td>\n",
       "      <td>112.0</td>\n",
       "      <td>1.0</td>\n",
       "      <td>48.0</td>\n",
       "      <td>121.0</td>\n",
       "      <td>100000.00</td>\n",
       "    </tr>\n",
       "    <tr>\n",
       "      <th>5</th>\n",
       "      <td>10</td>\n",
       "      <td>2890000</td>\n",
       "      <td>30.40</td>\n",
       "      <td>2018-09-10</td>\n",
       "      <td>1</td>\n",
       "      <td>2.65</td>\n",
       "      <td>12.0</td>\n",
       "      <td>14.40</td>\n",
       "      <td>5</td>\n",
       "      <td>False</td>\n",
       "      <td>...</td>\n",
       "      <td>0</td>\n",
       "      <td>городской посёлок янино-1</td>\n",
       "      <td>NaN</td>\n",
       "      <td>NaN</td>\n",
       "      <td>NaN</td>\n",
       "      <td>NaN</td>\n",
       "      <td>NaN</td>\n",
       "      <td>NaN</td>\n",
       "      <td>55.0</td>\n",
       "      <td>95065.79</td>\n",
       "    </tr>\n",
       "    <tr>\n",
       "      <th>6</th>\n",
       "      <td>6</td>\n",
       "      <td>3700000</td>\n",
       "      <td>37.30</td>\n",
       "      <td>2017-11-02</td>\n",
       "      <td>1</td>\n",
       "      <td>2.65</td>\n",
       "      <td>26.0</td>\n",
       "      <td>10.60</td>\n",
       "      <td>6</td>\n",
       "      <td>False</td>\n",
       "      <td>...</td>\n",
       "      <td>1</td>\n",
       "      <td>посёлок парголово</td>\n",
       "      <td>52996.0</td>\n",
       "      <td>19143.0</td>\n",
       "      <td>0.0</td>\n",
       "      <td>NaN</td>\n",
       "      <td>0.0</td>\n",
       "      <td>NaN</td>\n",
       "      <td>155.0</td>\n",
       "      <td>99195.71</td>\n",
       "    </tr>\n",
       "    <tr>\n",
       "      <th>7</th>\n",
       "      <td>5</td>\n",
       "      <td>7915000</td>\n",
       "      <td>71.60</td>\n",
       "      <td>2019-04-18</td>\n",
       "      <td>2</td>\n",
       "      <td>2.65</td>\n",
       "      <td>24.0</td>\n",
       "      <td>30.00</td>\n",
       "      <td>22</td>\n",
       "      <td>False</td>\n",
       "      <td>...</td>\n",
       "      <td>2</td>\n",
       "      <td>санкт-петербург</td>\n",
       "      <td>23982.0</td>\n",
       "      <td>11634.0</td>\n",
       "      <td>0.0</td>\n",
       "      <td>NaN</td>\n",
       "      <td>0.0</td>\n",
       "      <td>NaN</td>\n",
       "      <td>NaN</td>\n",
       "      <td>110544.69</td>\n",
       "    </tr>\n",
       "    <tr>\n",
       "      <th>8</th>\n",
       "      <td>20</td>\n",
       "      <td>2900000</td>\n",
       "      <td>33.16</td>\n",
       "      <td>2018-05-23</td>\n",
       "      <td>1</td>\n",
       "      <td>2.65</td>\n",
       "      <td>27.0</td>\n",
       "      <td>15.43</td>\n",
       "      <td>26</td>\n",
       "      <td>False</td>\n",
       "      <td>...</td>\n",
       "      <td>0</td>\n",
       "      <td>посёлок мурино</td>\n",
       "      <td>NaN</td>\n",
       "      <td>NaN</td>\n",
       "      <td>NaN</td>\n",
       "      <td>NaN</td>\n",
       "      <td>NaN</td>\n",
       "      <td>NaN</td>\n",
       "      <td>189.0</td>\n",
       "      <td>87454.76</td>\n",
       "    </tr>\n",
       "    <tr>\n",
       "      <th>9</th>\n",
       "      <td>18</td>\n",
       "      <td>5400000</td>\n",
       "      <td>61.00</td>\n",
       "      <td>2017-02-26</td>\n",
       "      <td>3</td>\n",
       "      <td>2.50</td>\n",
       "      <td>9.0</td>\n",
       "      <td>43.60</td>\n",
       "      <td>7</td>\n",
       "      <td>False</td>\n",
       "      <td>...</td>\n",
       "      <td>2</td>\n",
       "      <td>санкт-петербург</td>\n",
       "      <td>50898.0</td>\n",
       "      <td>15008.0</td>\n",
       "      <td>0.0</td>\n",
       "      <td>NaN</td>\n",
       "      <td>0.0</td>\n",
       "      <td>NaN</td>\n",
       "      <td>289.0</td>\n",
       "      <td>88524.59</td>\n",
       "    </tr>\n",
       "  </tbody>\n",
       "</table>\n",
       "<p>10 rows × 23 columns</p>\n",
       "</div>"
      ],
      "text/plain": [
       "   total_images  last_price  total_area first_day_exposition  rooms  \\\n",
       "0            20    13000000      108.00           2019-03-07      3   \n",
       "1             7     3350000       40.40           2018-12-04      1   \n",
       "2            10     5196000       56.00           2015-08-20      2   \n",
       "3             0    64900000      159.00           2015-07-24      3   \n",
       "4             2    10000000      100.00           2018-06-19      2   \n",
       "5            10     2890000       30.40           2018-09-10      1   \n",
       "6             6     3700000       37.30           2017-11-02      1   \n",
       "7             5     7915000       71.60           2019-04-18      2   \n",
       "8            20     2900000       33.16           2018-05-23      1   \n",
       "9            18     5400000       61.00           2017-02-26      3   \n",
       "\n",
       "   ceiling_height  floors_total  living_area  floor  is_apartment  ...  \\\n",
       "0            2.70          16.0        51.00      8         False  ...   \n",
       "1            2.65          11.0        18.60      1         False  ...   \n",
       "2            2.65           5.0        34.30      4         False  ...   \n",
       "3            2.65          14.0        30.00      9         False  ...   \n",
       "4            3.03          14.0        32.00     13         False  ...   \n",
       "5            2.65          12.0        14.40      5         False  ...   \n",
       "6            2.65          26.0        10.60      6         False  ...   \n",
       "7            2.65          24.0        30.00     22         False  ...   \n",
       "8            2.65          27.0        15.43     26         False  ...   \n",
       "9            2.50           9.0        43.60      7         False  ...   \n",
       "\n",
       "   balcony              locality_name  airports_nearest  city_centers_nearest  \\\n",
       "0        0            санкт-петербург           18863.0               16028.0   \n",
       "1        2             посёлок шушары           12817.0               18603.0   \n",
       "2        0            санкт-петербург           21741.0               13933.0   \n",
       "3        0            санкт-петербург           28098.0                6800.0   \n",
       "4        0            санкт-петербург           31856.0                8098.0   \n",
       "5        0  городской посёлок янино-1               NaN                   NaN   \n",
       "6        1          посёлок парголово           52996.0               19143.0   \n",
       "7        2            санкт-петербург           23982.0               11634.0   \n",
       "8        0             посёлок мурино               NaN                   NaN   \n",
       "9        2            санкт-петербург           50898.0               15008.0   \n",
       "\n",
       "  parks_around3000  parks_nearest  ponds_around3000  ponds_nearest  \\\n",
       "0              1.0          482.0               2.0          755.0   \n",
       "1              0.0            NaN               0.0            NaN   \n",
       "2              1.0           90.0               2.0          574.0   \n",
       "3              2.0           84.0               3.0          234.0   \n",
       "4              2.0          112.0               1.0           48.0   \n",
       "5              NaN            NaN               NaN            NaN   \n",
       "6              0.0            NaN               0.0            NaN   \n",
       "7              0.0            NaN               0.0            NaN   \n",
       "8              NaN            NaN               NaN            NaN   \n",
       "9              0.0            NaN               0.0            NaN   \n",
       "\n",
       "   days_exposition  price_on_one_metr  \n",
       "0              NaN          120370.37  \n",
       "1             81.0           82920.79  \n",
       "2            558.0           92785.71  \n",
       "3            424.0          408176.10  \n",
       "4            121.0          100000.00  \n",
       "5             55.0           95065.79  \n",
       "6            155.0           99195.71  \n",
       "7              NaN          110544.69  \n",
       "8            189.0           87454.76  \n",
       "9            289.0           88524.59  \n",
       "\n",
       "[10 rows x 23 columns]"
      ]
     },
     "execution_count": 55,
     "metadata": {},
     "output_type": "execute_result"
    }
   ],
   "source": [
    "#цена выглядит некрасиво, округлим значения и снова проверим\n",
    "data['price_on_one_metr'] = data['price_on_one_metr'].round(2)\n",
    "data.head(10)"
   ]
  },
  {
   "cell_type": "code",
   "execution_count": 56,
   "id": "62b3a66a-50b3-477b-bb1c-99b59a6e513a",
   "metadata": {},
   "outputs": [],
   "source": [
    "#нужно добавить день публикации объявления (0 - понедельник, 1 - вторник и т. д.) Добавим столбец day_public"
   ]
  },
  {
   "cell_type": "code",
   "execution_count": 57,
   "id": "b6d6803c-6375-46d3-bcd5-c54a0e3a1a14",
   "metadata": {},
   "outputs": [],
   "source": [
    "data['day_public'] = data['first_day_exposition'].dt.weekday "
   ]
  },
  {
   "cell_type": "code",
   "execution_count": 58,
   "id": "dd4a7cd2-4c27-43a7-9135-5cf424fefa5c",
   "metadata": {},
   "outputs": [],
   "source": [
    "#добавим стообец с месяцем публикации \n",
    "data['month_public'] = data['first_day_exposition'].dt.month"
   ]
  },
  {
   "cell_type": "code",
   "execution_count": 59,
   "id": "caedea1a-bec0-4b7b-ad9d-50b7340b1b43",
   "metadata": {},
   "outputs": [],
   "source": [
    "#добавим столбец с годом публикации\n",
    "data['year_public'] = data['first_day_exposition'].dt.year"
   ]
  },
  {
   "cell_type": "code",
   "execution_count": 60,
   "id": "ae7a4d85-33e7-4ada-a9a2-7ebbc2416850",
   "metadata": {},
   "outputs": [
    {
     "data": {
      "text/html": [
       "<div>\n",
       "<style scoped>\n",
       "    .dataframe tbody tr th:only-of-type {\n",
       "        vertical-align: middle;\n",
       "    }\n",
       "\n",
       "    .dataframe tbody tr th {\n",
       "        vertical-align: top;\n",
       "    }\n",
       "\n",
       "    .dataframe thead th {\n",
       "        text-align: right;\n",
       "    }\n",
       "</style>\n",
       "<table border=\"1\" class=\"dataframe\">\n",
       "  <thead>\n",
       "    <tr style=\"text-align: right;\">\n",
       "      <th></th>\n",
       "      <th>total_images</th>\n",
       "      <th>last_price</th>\n",
       "      <th>total_area</th>\n",
       "      <th>first_day_exposition</th>\n",
       "      <th>rooms</th>\n",
       "      <th>ceiling_height</th>\n",
       "      <th>floors_total</th>\n",
       "      <th>living_area</th>\n",
       "      <th>floor</th>\n",
       "      <th>is_apartment</th>\n",
       "      <th>...</th>\n",
       "      <th>city_centers_nearest</th>\n",
       "      <th>parks_around3000</th>\n",
       "      <th>parks_nearest</th>\n",
       "      <th>ponds_around3000</th>\n",
       "      <th>ponds_nearest</th>\n",
       "      <th>days_exposition</th>\n",
       "      <th>price_on_one_metr</th>\n",
       "      <th>day_public</th>\n",
       "      <th>month_public</th>\n",
       "      <th>year_public</th>\n",
       "    </tr>\n",
       "  </thead>\n",
       "  <tbody>\n",
       "    <tr>\n",
       "      <th>0</th>\n",
       "      <td>20</td>\n",
       "      <td>13000000</td>\n",
       "      <td>108.00</td>\n",
       "      <td>2019-03-07</td>\n",
       "      <td>3</td>\n",
       "      <td>2.70</td>\n",
       "      <td>16.0</td>\n",
       "      <td>51.00</td>\n",
       "      <td>8</td>\n",
       "      <td>False</td>\n",
       "      <td>...</td>\n",
       "      <td>16028.0</td>\n",
       "      <td>1.0</td>\n",
       "      <td>482.0</td>\n",
       "      <td>2.0</td>\n",
       "      <td>755.0</td>\n",
       "      <td>NaN</td>\n",
       "      <td>120370.37</td>\n",
       "      <td>3</td>\n",
       "      <td>3</td>\n",
       "      <td>2019</td>\n",
       "    </tr>\n",
       "    <tr>\n",
       "      <th>1</th>\n",
       "      <td>7</td>\n",
       "      <td>3350000</td>\n",
       "      <td>40.40</td>\n",
       "      <td>2018-12-04</td>\n",
       "      <td>1</td>\n",
       "      <td>2.65</td>\n",
       "      <td>11.0</td>\n",
       "      <td>18.60</td>\n",
       "      <td>1</td>\n",
       "      <td>False</td>\n",
       "      <td>...</td>\n",
       "      <td>18603.0</td>\n",
       "      <td>0.0</td>\n",
       "      <td>NaN</td>\n",
       "      <td>0.0</td>\n",
       "      <td>NaN</td>\n",
       "      <td>81.0</td>\n",
       "      <td>82920.79</td>\n",
       "      <td>1</td>\n",
       "      <td>12</td>\n",
       "      <td>2018</td>\n",
       "    </tr>\n",
       "    <tr>\n",
       "      <th>2</th>\n",
       "      <td>10</td>\n",
       "      <td>5196000</td>\n",
       "      <td>56.00</td>\n",
       "      <td>2015-08-20</td>\n",
       "      <td>2</td>\n",
       "      <td>2.65</td>\n",
       "      <td>5.0</td>\n",
       "      <td>34.30</td>\n",
       "      <td>4</td>\n",
       "      <td>False</td>\n",
       "      <td>...</td>\n",
       "      <td>13933.0</td>\n",
       "      <td>1.0</td>\n",
       "      <td>90.0</td>\n",
       "      <td>2.0</td>\n",
       "      <td>574.0</td>\n",
       "      <td>558.0</td>\n",
       "      <td>92785.71</td>\n",
       "      <td>3</td>\n",
       "      <td>8</td>\n",
       "      <td>2015</td>\n",
       "    </tr>\n",
       "    <tr>\n",
       "      <th>3</th>\n",
       "      <td>0</td>\n",
       "      <td>64900000</td>\n",
       "      <td>159.00</td>\n",
       "      <td>2015-07-24</td>\n",
       "      <td>3</td>\n",
       "      <td>2.65</td>\n",
       "      <td>14.0</td>\n",
       "      <td>30.00</td>\n",
       "      <td>9</td>\n",
       "      <td>False</td>\n",
       "      <td>...</td>\n",
       "      <td>6800.0</td>\n",
       "      <td>2.0</td>\n",
       "      <td>84.0</td>\n",
       "      <td>3.0</td>\n",
       "      <td>234.0</td>\n",
       "      <td>424.0</td>\n",
       "      <td>408176.10</td>\n",
       "      <td>4</td>\n",
       "      <td>7</td>\n",
       "      <td>2015</td>\n",
       "    </tr>\n",
       "    <tr>\n",
       "      <th>4</th>\n",
       "      <td>2</td>\n",
       "      <td>10000000</td>\n",
       "      <td>100.00</td>\n",
       "      <td>2018-06-19</td>\n",
       "      <td>2</td>\n",
       "      <td>3.03</td>\n",
       "      <td>14.0</td>\n",
       "      <td>32.00</td>\n",
       "      <td>13</td>\n",
       "      <td>False</td>\n",
       "      <td>...</td>\n",
       "      <td>8098.0</td>\n",
       "      <td>2.0</td>\n",
       "      <td>112.0</td>\n",
       "      <td>1.0</td>\n",
       "      <td>48.0</td>\n",
       "      <td>121.0</td>\n",
       "      <td>100000.00</td>\n",
       "      <td>1</td>\n",
       "      <td>6</td>\n",
       "      <td>2018</td>\n",
       "    </tr>\n",
       "    <tr>\n",
       "      <th>5</th>\n",
       "      <td>10</td>\n",
       "      <td>2890000</td>\n",
       "      <td>30.40</td>\n",
       "      <td>2018-09-10</td>\n",
       "      <td>1</td>\n",
       "      <td>2.65</td>\n",
       "      <td>12.0</td>\n",
       "      <td>14.40</td>\n",
       "      <td>5</td>\n",
       "      <td>False</td>\n",
       "      <td>...</td>\n",
       "      <td>NaN</td>\n",
       "      <td>NaN</td>\n",
       "      <td>NaN</td>\n",
       "      <td>NaN</td>\n",
       "      <td>NaN</td>\n",
       "      <td>55.0</td>\n",
       "      <td>95065.79</td>\n",
       "      <td>0</td>\n",
       "      <td>9</td>\n",
       "      <td>2018</td>\n",
       "    </tr>\n",
       "    <tr>\n",
       "      <th>6</th>\n",
       "      <td>6</td>\n",
       "      <td>3700000</td>\n",
       "      <td>37.30</td>\n",
       "      <td>2017-11-02</td>\n",
       "      <td>1</td>\n",
       "      <td>2.65</td>\n",
       "      <td>26.0</td>\n",
       "      <td>10.60</td>\n",
       "      <td>6</td>\n",
       "      <td>False</td>\n",
       "      <td>...</td>\n",
       "      <td>19143.0</td>\n",
       "      <td>0.0</td>\n",
       "      <td>NaN</td>\n",
       "      <td>0.0</td>\n",
       "      <td>NaN</td>\n",
       "      <td>155.0</td>\n",
       "      <td>99195.71</td>\n",
       "      <td>3</td>\n",
       "      <td>11</td>\n",
       "      <td>2017</td>\n",
       "    </tr>\n",
       "    <tr>\n",
       "      <th>7</th>\n",
       "      <td>5</td>\n",
       "      <td>7915000</td>\n",
       "      <td>71.60</td>\n",
       "      <td>2019-04-18</td>\n",
       "      <td>2</td>\n",
       "      <td>2.65</td>\n",
       "      <td>24.0</td>\n",
       "      <td>30.00</td>\n",
       "      <td>22</td>\n",
       "      <td>False</td>\n",
       "      <td>...</td>\n",
       "      <td>11634.0</td>\n",
       "      <td>0.0</td>\n",
       "      <td>NaN</td>\n",
       "      <td>0.0</td>\n",
       "      <td>NaN</td>\n",
       "      <td>NaN</td>\n",
       "      <td>110544.69</td>\n",
       "      <td>3</td>\n",
       "      <td>4</td>\n",
       "      <td>2019</td>\n",
       "    </tr>\n",
       "    <tr>\n",
       "      <th>8</th>\n",
       "      <td>20</td>\n",
       "      <td>2900000</td>\n",
       "      <td>33.16</td>\n",
       "      <td>2018-05-23</td>\n",
       "      <td>1</td>\n",
       "      <td>2.65</td>\n",
       "      <td>27.0</td>\n",
       "      <td>15.43</td>\n",
       "      <td>26</td>\n",
       "      <td>False</td>\n",
       "      <td>...</td>\n",
       "      <td>NaN</td>\n",
       "      <td>NaN</td>\n",
       "      <td>NaN</td>\n",
       "      <td>NaN</td>\n",
       "      <td>NaN</td>\n",
       "      <td>189.0</td>\n",
       "      <td>87454.76</td>\n",
       "      <td>2</td>\n",
       "      <td>5</td>\n",
       "      <td>2018</td>\n",
       "    </tr>\n",
       "    <tr>\n",
       "      <th>9</th>\n",
       "      <td>18</td>\n",
       "      <td>5400000</td>\n",
       "      <td>61.00</td>\n",
       "      <td>2017-02-26</td>\n",
       "      <td>3</td>\n",
       "      <td>2.50</td>\n",
       "      <td>9.0</td>\n",
       "      <td>43.60</td>\n",
       "      <td>7</td>\n",
       "      <td>False</td>\n",
       "      <td>...</td>\n",
       "      <td>15008.0</td>\n",
       "      <td>0.0</td>\n",
       "      <td>NaN</td>\n",
       "      <td>0.0</td>\n",
       "      <td>NaN</td>\n",
       "      <td>289.0</td>\n",
       "      <td>88524.59</td>\n",
       "      <td>6</td>\n",
       "      <td>2</td>\n",
       "      <td>2017</td>\n",
       "    </tr>\n",
       "  </tbody>\n",
       "</table>\n",
       "<p>10 rows × 26 columns</p>\n",
       "</div>"
      ],
      "text/plain": [
       "   total_images  last_price  total_area first_day_exposition  rooms  \\\n",
       "0            20    13000000      108.00           2019-03-07      3   \n",
       "1             7     3350000       40.40           2018-12-04      1   \n",
       "2            10     5196000       56.00           2015-08-20      2   \n",
       "3             0    64900000      159.00           2015-07-24      3   \n",
       "4             2    10000000      100.00           2018-06-19      2   \n",
       "5            10     2890000       30.40           2018-09-10      1   \n",
       "6             6     3700000       37.30           2017-11-02      1   \n",
       "7             5     7915000       71.60           2019-04-18      2   \n",
       "8            20     2900000       33.16           2018-05-23      1   \n",
       "9            18     5400000       61.00           2017-02-26      3   \n",
       "\n",
       "   ceiling_height  floors_total  living_area  floor  is_apartment  ...  \\\n",
       "0            2.70          16.0        51.00      8         False  ...   \n",
       "1            2.65          11.0        18.60      1         False  ...   \n",
       "2            2.65           5.0        34.30      4         False  ...   \n",
       "3            2.65          14.0        30.00      9         False  ...   \n",
       "4            3.03          14.0        32.00     13         False  ...   \n",
       "5            2.65          12.0        14.40      5         False  ...   \n",
       "6            2.65          26.0        10.60      6         False  ...   \n",
       "7            2.65          24.0        30.00     22         False  ...   \n",
       "8            2.65          27.0        15.43     26         False  ...   \n",
       "9            2.50           9.0        43.60      7         False  ...   \n",
       "\n",
       "   city_centers_nearest  parks_around3000  parks_nearest  ponds_around3000  \\\n",
       "0               16028.0               1.0          482.0               2.0   \n",
       "1               18603.0               0.0            NaN               0.0   \n",
       "2               13933.0               1.0           90.0               2.0   \n",
       "3                6800.0               2.0           84.0               3.0   \n",
       "4                8098.0               2.0          112.0               1.0   \n",
       "5                   NaN               NaN            NaN               NaN   \n",
       "6               19143.0               0.0            NaN               0.0   \n",
       "7               11634.0               0.0            NaN               0.0   \n",
       "8                   NaN               NaN            NaN               NaN   \n",
       "9               15008.0               0.0            NaN               0.0   \n",
       "\n",
       "  ponds_nearest  days_exposition  price_on_one_metr  day_public  month_public  \\\n",
       "0         755.0              NaN          120370.37           3             3   \n",
       "1           NaN             81.0           82920.79           1            12   \n",
       "2         574.0            558.0           92785.71           3             8   \n",
       "3         234.0            424.0          408176.10           4             7   \n",
       "4          48.0            121.0          100000.00           1             6   \n",
       "5           NaN             55.0           95065.79           0             9   \n",
       "6           NaN            155.0           99195.71           3            11   \n",
       "7           NaN              NaN          110544.69           3             4   \n",
       "8           NaN            189.0           87454.76           2             5   \n",
       "9           NaN            289.0           88524.59           6             2   \n",
       "\n",
       "   year_public  \n",
       "0         2019  \n",
       "1         2018  \n",
       "2         2015  \n",
       "3         2015  \n",
       "4         2018  \n",
       "5         2018  \n",
       "6         2017  \n",
       "7         2019  \n",
       "8         2018  \n",
       "9         2017  \n",
       "\n",
       "[10 rows x 26 columns]"
      ]
     },
     "execution_count": 60,
     "metadata": {},
     "output_type": "execute_result"
    }
   ],
   "source": [
    "#проверяем добавление новых столбцов\n",
    "data.head(10)"
   ]
  },
  {
   "cell_type": "code",
   "execution_count": 61,
   "id": "b1610378-ffaf-4762-a844-b8d64a9649fe",
   "metadata": {},
   "outputs": [],
   "source": [
    "#далее нужно указать тип этажа квартиры (значения — «первый», «последний», «другой»)"
   ]
  },
  {
   "cell_type": "code",
   "execution_count": 62,
   "id": "65e8549f-72bf-4625-b68c-175944a6de64",
   "metadata": {},
   "outputs": [],
   "source": [
    "#создадим функцию для определения этажности в доме\n",
    "def get_floor_category(row):\n",
    "    floor = row['floor']\n",
    "    floors_total = row['floors_total']\n",
    "    if floor == 1:\n",
    "        return 'первый'\n",
    "    elif floor == floors_total:\n",
    "        return 'последний'\n",
    "    else:\n",
    "        return 'другой'"
   ]
  },
  {
   "cell_type": "code",
   "execution_count": 63,
   "id": "d3e606ca-191e-4e9d-b205-95cbf2ace296",
   "metadata": {},
   "outputs": [],
   "source": [
    "# добавим столбец в таблицу\n",
    "data['floor_category'] = data.apply(get_floor_category, axis=1)"
   ]
  },
  {
   "cell_type": "code",
   "execution_count": 64,
   "id": "d906d207-4fe3-4ff9-9776-9babe298f861",
   "metadata": {},
   "outputs": [
    {
     "data": {
      "text/html": [
       "<div>\n",
       "<style scoped>\n",
       "    .dataframe tbody tr th:only-of-type {\n",
       "        vertical-align: middle;\n",
       "    }\n",
       "\n",
       "    .dataframe tbody tr th {\n",
       "        vertical-align: top;\n",
       "    }\n",
       "\n",
       "    .dataframe thead th {\n",
       "        text-align: right;\n",
       "    }\n",
       "</style>\n",
       "<table border=\"1\" class=\"dataframe\">\n",
       "  <thead>\n",
       "    <tr style=\"text-align: right;\">\n",
       "      <th></th>\n",
       "      <th>total_images</th>\n",
       "      <th>last_price</th>\n",
       "      <th>total_area</th>\n",
       "      <th>first_day_exposition</th>\n",
       "      <th>rooms</th>\n",
       "      <th>ceiling_height</th>\n",
       "      <th>floors_total</th>\n",
       "      <th>living_area</th>\n",
       "      <th>floor</th>\n",
       "      <th>is_apartment</th>\n",
       "      <th>...</th>\n",
       "      <th>parks_around3000</th>\n",
       "      <th>parks_nearest</th>\n",
       "      <th>ponds_around3000</th>\n",
       "      <th>ponds_nearest</th>\n",
       "      <th>days_exposition</th>\n",
       "      <th>price_on_one_metr</th>\n",
       "      <th>day_public</th>\n",
       "      <th>month_public</th>\n",
       "      <th>year_public</th>\n",
       "      <th>floor_category</th>\n",
       "    </tr>\n",
       "  </thead>\n",
       "  <tbody>\n",
       "    <tr>\n",
       "      <th>0</th>\n",
       "      <td>20</td>\n",
       "      <td>13000000</td>\n",
       "      <td>108.00</td>\n",
       "      <td>2019-03-07</td>\n",
       "      <td>3</td>\n",
       "      <td>2.70</td>\n",
       "      <td>16.0</td>\n",
       "      <td>51.00</td>\n",
       "      <td>8</td>\n",
       "      <td>False</td>\n",
       "      <td>...</td>\n",
       "      <td>1.0</td>\n",
       "      <td>482.0</td>\n",
       "      <td>2.0</td>\n",
       "      <td>755.0</td>\n",
       "      <td>NaN</td>\n",
       "      <td>120370.37</td>\n",
       "      <td>3</td>\n",
       "      <td>3</td>\n",
       "      <td>2019</td>\n",
       "      <td>другой</td>\n",
       "    </tr>\n",
       "    <tr>\n",
       "      <th>1</th>\n",
       "      <td>7</td>\n",
       "      <td>3350000</td>\n",
       "      <td>40.40</td>\n",
       "      <td>2018-12-04</td>\n",
       "      <td>1</td>\n",
       "      <td>2.65</td>\n",
       "      <td>11.0</td>\n",
       "      <td>18.60</td>\n",
       "      <td>1</td>\n",
       "      <td>False</td>\n",
       "      <td>...</td>\n",
       "      <td>0.0</td>\n",
       "      <td>NaN</td>\n",
       "      <td>0.0</td>\n",
       "      <td>NaN</td>\n",
       "      <td>81.0</td>\n",
       "      <td>82920.79</td>\n",
       "      <td>1</td>\n",
       "      <td>12</td>\n",
       "      <td>2018</td>\n",
       "      <td>первый</td>\n",
       "    </tr>\n",
       "    <tr>\n",
       "      <th>2</th>\n",
       "      <td>10</td>\n",
       "      <td>5196000</td>\n",
       "      <td>56.00</td>\n",
       "      <td>2015-08-20</td>\n",
       "      <td>2</td>\n",
       "      <td>2.65</td>\n",
       "      <td>5.0</td>\n",
       "      <td>34.30</td>\n",
       "      <td>4</td>\n",
       "      <td>False</td>\n",
       "      <td>...</td>\n",
       "      <td>1.0</td>\n",
       "      <td>90.0</td>\n",
       "      <td>2.0</td>\n",
       "      <td>574.0</td>\n",
       "      <td>558.0</td>\n",
       "      <td>92785.71</td>\n",
       "      <td>3</td>\n",
       "      <td>8</td>\n",
       "      <td>2015</td>\n",
       "      <td>другой</td>\n",
       "    </tr>\n",
       "    <tr>\n",
       "      <th>3</th>\n",
       "      <td>0</td>\n",
       "      <td>64900000</td>\n",
       "      <td>159.00</td>\n",
       "      <td>2015-07-24</td>\n",
       "      <td>3</td>\n",
       "      <td>2.65</td>\n",
       "      <td>14.0</td>\n",
       "      <td>30.00</td>\n",
       "      <td>9</td>\n",
       "      <td>False</td>\n",
       "      <td>...</td>\n",
       "      <td>2.0</td>\n",
       "      <td>84.0</td>\n",
       "      <td>3.0</td>\n",
       "      <td>234.0</td>\n",
       "      <td>424.0</td>\n",
       "      <td>408176.10</td>\n",
       "      <td>4</td>\n",
       "      <td>7</td>\n",
       "      <td>2015</td>\n",
       "      <td>другой</td>\n",
       "    </tr>\n",
       "    <tr>\n",
       "      <th>4</th>\n",
       "      <td>2</td>\n",
       "      <td>10000000</td>\n",
       "      <td>100.00</td>\n",
       "      <td>2018-06-19</td>\n",
       "      <td>2</td>\n",
       "      <td>3.03</td>\n",
       "      <td>14.0</td>\n",
       "      <td>32.00</td>\n",
       "      <td>13</td>\n",
       "      <td>False</td>\n",
       "      <td>...</td>\n",
       "      <td>2.0</td>\n",
       "      <td>112.0</td>\n",
       "      <td>1.0</td>\n",
       "      <td>48.0</td>\n",
       "      <td>121.0</td>\n",
       "      <td>100000.00</td>\n",
       "      <td>1</td>\n",
       "      <td>6</td>\n",
       "      <td>2018</td>\n",
       "      <td>другой</td>\n",
       "    </tr>\n",
       "    <tr>\n",
       "      <th>5</th>\n",
       "      <td>10</td>\n",
       "      <td>2890000</td>\n",
       "      <td>30.40</td>\n",
       "      <td>2018-09-10</td>\n",
       "      <td>1</td>\n",
       "      <td>2.65</td>\n",
       "      <td>12.0</td>\n",
       "      <td>14.40</td>\n",
       "      <td>5</td>\n",
       "      <td>False</td>\n",
       "      <td>...</td>\n",
       "      <td>NaN</td>\n",
       "      <td>NaN</td>\n",
       "      <td>NaN</td>\n",
       "      <td>NaN</td>\n",
       "      <td>55.0</td>\n",
       "      <td>95065.79</td>\n",
       "      <td>0</td>\n",
       "      <td>9</td>\n",
       "      <td>2018</td>\n",
       "      <td>другой</td>\n",
       "    </tr>\n",
       "    <tr>\n",
       "      <th>6</th>\n",
       "      <td>6</td>\n",
       "      <td>3700000</td>\n",
       "      <td>37.30</td>\n",
       "      <td>2017-11-02</td>\n",
       "      <td>1</td>\n",
       "      <td>2.65</td>\n",
       "      <td>26.0</td>\n",
       "      <td>10.60</td>\n",
       "      <td>6</td>\n",
       "      <td>False</td>\n",
       "      <td>...</td>\n",
       "      <td>0.0</td>\n",
       "      <td>NaN</td>\n",
       "      <td>0.0</td>\n",
       "      <td>NaN</td>\n",
       "      <td>155.0</td>\n",
       "      <td>99195.71</td>\n",
       "      <td>3</td>\n",
       "      <td>11</td>\n",
       "      <td>2017</td>\n",
       "      <td>другой</td>\n",
       "    </tr>\n",
       "    <tr>\n",
       "      <th>7</th>\n",
       "      <td>5</td>\n",
       "      <td>7915000</td>\n",
       "      <td>71.60</td>\n",
       "      <td>2019-04-18</td>\n",
       "      <td>2</td>\n",
       "      <td>2.65</td>\n",
       "      <td>24.0</td>\n",
       "      <td>30.00</td>\n",
       "      <td>22</td>\n",
       "      <td>False</td>\n",
       "      <td>...</td>\n",
       "      <td>0.0</td>\n",
       "      <td>NaN</td>\n",
       "      <td>0.0</td>\n",
       "      <td>NaN</td>\n",
       "      <td>NaN</td>\n",
       "      <td>110544.69</td>\n",
       "      <td>3</td>\n",
       "      <td>4</td>\n",
       "      <td>2019</td>\n",
       "      <td>другой</td>\n",
       "    </tr>\n",
       "    <tr>\n",
       "      <th>8</th>\n",
       "      <td>20</td>\n",
       "      <td>2900000</td>\n",
       "      <td>33.16</td>\n",
       "      <td>2018-05-23</td>\n",
       "      <td>1</td>\n",
       "      <td>2.65</td>\n",
       "      <td>27.0</td>\n",
       "      <td>15.43</td>\n",
       "      <td>26</td>\n",
       "      <td>False</td>\n",
       "      <td>...</td>\n",
       "      <td>NaN</td>\n",
       "      <td>NaN</td>\n",
       "      <td>NaN</td>\n",
       "      <td>NaN</td>\n",
       "      <td>189.0</td>\n",
       "      <td>87454.76</td>\n",
       "      <td>2</td>\n",
       "      <td>5</td>\n",
       "      <td>2018</td>\n",
       "      <td>другой</td>\n",
       "    </tr>\n",
       "    <tr>\n",
       "      <th>9</th>\n",
       "      <td>18</td>\n",
       "      <td>5400000</td>\n",
       "      <td>61.00</td>\n",
       "      <td>2017-02-26</td>\n",
       "      <td>3</td>\n",
       "      <td>2.50</td>\n",
       "      <td>9.0</td>\n",
       "      <td>43.60</td>\n",
       "      <td>7</td>\n",
       "      <td>False</td>\n",
       "      <td>...</td>\n",
       "      <td>0.0</td>\n",
       "      <td>NaN</td>\n",
       "      <td>0.0</td>\n",
       "      <td>NaN</td>\n",
       "      <td>289.0</td>\n",
       "      <td>88524.59</td>\n",
       "      <td>6</td>\n",
       "      <td>2</td>\n",
       "      <td>2017</td>\n",
       "      <td>другой</td>\n",
       "    </tr>\n",
       "  </tbody>\n",
       "</table>\n",
       "<p>10 rows × 27 columns</p>\n",
       "</div>"
      ],
      "text/plain": [
       "   total_images  last_price  total_area first_day_exposition  rooms  \\\n",
       "0            20    13000000      108.00           2019-03-07      3   \n",
       "1             7     3350000       40.40           2018-12-04      1   \n",
       "2            10     5196000       56.00           2015-08-20      2   \n",
       "3             0    64900000      159.00           2015-07-24      3   \n",
       "4             2    10000000      100.00           2018-06-19      2   \n",
       "5            10     2890000       30.40           2018-09-10      1   \n",
       "6             6     3700000       37.30           2017-11-02      1   \n",
       "7             5     7915000       71.60           2019-04-18      2   \n",
       "8            20     2900000       33.16           2018-05-23      1   \n",
       "9            18     5400000       61.00           2017-02-26      3   \n",
       "\n",
       "   ceiling_height  floors_total  living_area  floor  is_apartment  ...  \\\n",
       "0            2.70          16.0        51.00      8         False  ...   \n",
       "1            2.65          11.0        18.60      1         False  ...   \n",
       "2            2.65           5.0        34.30      4         False  ...   \n",
       "3            2.65          14.0        30.00      9         False  ...   \n",
       "4            3.03          14.0        32.00     13         False  ...   \n",
       "5            2.65          12.0        14.40      5         False  ...   \n",
       "6            2.65          26.0        10.60      6         False  ...   \n",
       "7            2.65          24.0        30.00     22         False  ...   \n",
       "8            2.65          27.0        15.43     26         False  ...   \n",
       "9            2.50           9.0        43.60      7         False  ...   \n",
       "\n",
       "   parks_around3000  parks_nearest  ponds_around3000  ponds_nearest  \\\n",
       "0               1.0          482.0               2.0          755.0   \n",
       "1               0.0            NaN               0.0            NaN   \n",
       "2               1.0           90.0               2.0          574.0   \n",
       "3               2.0           84.0               3.0          234.0   \n",
       "4               2.0          112.0               1.0           48.0   \n",
       "5               NaN            NaN               NaN            NaN   \n",
       "6               0.0            NaN               0.0            NaN   \n",
       "7               0.0            NaN               0.0            NaN   \n",
       "8               NaN            NaN               NaN            NaN   \n",
       "9               0.0            NaN               0.0            NaN   \n",
       "\n",
       "  days_exposition  price_on_one_metr  day_public  month_public  year_public  \\\n",
       "0             NaN          120370.37           3             3         2019   \n",
       "1            81.0           82920.79           1            12         2018   \n",
       "2           558.0           92785.71           3             8         2015   \n",
       "3           424.0          408176.10           4             7         2015   \n",
       "4           121.0          100000.00           1             6         2018   \n",
       "5            55.0           95065.79           0             9         2018   \n",
       "6           155.0           99195.71           3            11         2017   \n",
       "7             NaN          110544.69           3             4         2019   \n",
       "8           189.0           87454.76           2             5         2018   \n",
       "9           289.0           88524.59           6             2         2017   \n",
       "\n",
       "   floor_category  \n",
       "0          другой  \n",
       "1          первый  \n",
       "2          другой  \n",
       "3          другой  \n",
       "4          другой  \n",
       "5          другой  \n",
       "6          другой  \n",
       "7          другой  \n",
       "8          другой  \n",
       "9          другой  \n",
       "\n",
       "[10 rows x 27 columns]"
      ]
     },
     "execution_count": 64,
     "metadata": {},
     "output_type": "execute_result"
    }
   ],
   "source": [
    "#выведем 10 значений, чтобы проверить добавление столбца\n",
    "data.head(10)"
   ]
  },
  {
   "cell_type": "code",
   "execution_count": 65,
   "id": "522768e7-cb26-4a8c-a479-c409bfe095e7",
   "metadata": {},
   "outputs": [],
   "source": [
    "#нужно добавить расстояние до центра города в километрах"
   ]
  },
  {
   "cell_type": "code",
   "execution_count": 66,
   "id": "b04980f9-9bc7-4c63-a06d-c9203cd055ff",
   "metadata": {},
   "outputs": [],
   "source": [
    "data['distance_to_centr_km'] = round(data['city_centers_nearest'] / 1000)"
   ]
  },
  {
   "cell_type": "code",
   "execution_count": 67,
   "id": "8c75cbed-de96-4c14-97d8-9af8f4ad0f1a",
   "metadata": {},
   "outputs": [
    {
     "data": {
      "text/html": [
       "<div>\n",
       "<style scoped>\n",
       "    .dataframe tbody tr th:only-of-type {\n",
       "        vertical-align: middle;\n",
       "    }\n",
       "\n",
       "    .dataframe tbody tr th {\n",
       "        vertical-align: top;\n",
       "    }\n",
       "\n",
       "    .dataframe thead th {\n",
       "        text-align: right;\n",
       "    }\n",
       "</style>\n",
       "<table border=\"1\" class=\"dataframe\">\n",
       "  <thead>\n",
       "    <tr style=\"text-align: right;\">\n",
       "      <th></th>\n",
       "      <th>total_images</th>\n",
       "      <th>last_price</th>\n",
       "      <th>total_area</th>\n",
       "      <th>first_day_exposition</th>\n",
       "      <th>rooms</th>\n",
       "      <th>ceiling_height</th>\n",
       "      <th>floors_total</th>\n",
       "      <th>living_area</th>\n",
       "      <th>floor</th>\n",
       "      <th>is_apartment</th>\n",
       "      <th>...</th>\n",
       "      <th>parks_nearest</th>\n",
       "      <th>ponds_around3000</th>\n",
       "      <th>ponds_nearest</th>\n",
       "      <th>days_exposition</th>\n",
       "      <th>price_on_one_metr</th>\n",
       "      <th>day_public</th>\n",
       "      <th>month_public</th>\n",
       "      <th>year_public</th>\n",
       "      <th>floor_category</th>\n",
       "      <th>distance_to_centr_km</th>\n",
       "    </tr>\n",
       "  </thead>\n",
       "  <tbody>\n",
       "    <tr>\n",
       "      <th>0</th>\n",
       "      <td>20</td>\n",
       "      <td>13000000</td>\n",
       "      <td>108.0</td>\n",
       "      <td>2019-03-07</td>\n",
       "      <td>3</td>\n",
       "      <td>2.70</td>\n",
       "      <td>16.0</td>\n",
       "      <td>51.0</td>\n",
       "      <td>8</td>\n",
       "      <td>False</td>\n",
       "      <td>...</td>\n",
       "      <td>482.0</td>\n",
       "      <td>2.0</td>\n",
       "      <td>755.0</td>\n",
       "      <td>NaN</td>\n",
       "      <td>120370.37</td>\n",
       "      <td>3</td>\n",
       "      <td>3</td>\n",
       "      <td>2019</td>\n",
       "      <td>другой</td>\n",
       "      <td>16.0</td>\n",
       "    </tr>\n",
       "    <tr>\n",
       "      <th>1</th>\n",
       "      <td>7</td>\n",
       "      <td>3350000</td>\n",
       "      <td>40.4</td>\n",
       "      <td>2018-12-04</td>\n",
       "      <td>1</td>\n",
       "      <td>2.65</td>\n",
       "      <td>11.0</td>\n",
       "      <td>18.6</td>\n",
       "      <td>1</td>\n",
       "      <td>False</td>\n",
       "      <td>...</td>\n",
       "      <td>NaN</td>\n",
       "      <td>0.0</td>\n",
       "      <td>NaN</td>\n",
       "      <td>81.0</td>\n",
       "      <td>82920.79</td>\n",
       "      <td>1</td>\n",
       "      <td>12</td>\n",
       "      <td>2018</td>\n",
       "      <td>первый</td>\n",
       "      <td>19.0</td>\n",
       "    </tr>\n",
       "    <tr>\n",
       "      <th>2</th>\n",
       "      <td>10</td>\n",
       "      <td>5196000</td>\n",
       "      <td>56.0</td>\n",
       "      <td>2015-08-20</td>\n",
       "      <td>2</td>\n",
       "      <td>2.65</td>\n",
       "      <td>5.0</td>\n",
       "      <td>34.3</td>\n",
       "      <td>4</td>\n",
       "      <td>False</td>\n",
       "      <td>...</td>\n",
       "      <td>90.0</td>\n",
       "      <td>2.0</td>\n",
       "      <td>574.0</td>\n",
       "      <td>558.0</td>\n",
       "      <td>92785.71</td>\n",
       "      <td>3</td>\n",
       "      <td>8</td>\n",
       "      <td>2015</td>\n",
       "      <td>другой</td>\n",
       "      <td>14.0</td>\n",
       "    </tr>\n",
       "    <tr>\n",
       "      <th>3</th>\n",
       "      <td>0</td>\n",
       "      <td>64900000</td>\n",
       "      <td>159.0</td>\n",
       "      <td>2015-07-24</td>\n",
       "      <td>3</td>\n",
       "      <td>2.65</td>\n",
       "      <td>14.0</td>\n",
       "      <td>30.0</td>\n",
       "      <td>9</td>\n",
       "      <td>False</td>\n",
       "      <td>...</td>\n",
       "      <td>84.0</td>\n",
       "      <td>3.0</td>\n",
       "      <td>234.0</td>\n",
       "      <td>424.0</td>\n",
       "      <td>408176.10</td>\n",
       "      <td>4</td>\n",
       "      <td>7</td>\n",
       "      <td>2015</td>\n",
       "      <td>другой</td>\n",
       "      <td>7.0</td>\n",
       "    </tr>\n",
       "    <tr>\n",
       "      <th>4</th>\n",
       "      <td>2</td>\n",
       "      <td>10000000</td>\n",
       "      <td>100.0</td>\n",
       "      <td>2018-06-19</td>\n",
       "      <td>2</td>\n",
       "      <td>3.03</td>\n",
       "      <td>14.0</td>\n",
       "      <td>32.0</td>\n",
       "      <td>13</td>\n",
       "      <td>False</td>\n",
       "      <td>...</td>\n",
       "      <td>112.0</td>\n",
       "      <td>1.0</td>\n",
       "      <td>48.0</td>\n",
       "      <td>121.0</td>\n",
       "      <td>100000.00</td>\n",
       "      <td>1</td>\n",
       "      <td>6</td>\n",
       "      <td>2018</td>\n",
       "      <td>другой</td>\n",
       "      <td>8.0</td>\n",
       "    </tr>\n",
       "  </tbody>\n",
       "</table>\n",
       "<p>5 rows × 28 columns</p>\n",
       "</div>"
      ],
      "text/plain": [
       "   total_images  last_price  total_area first_day_exposition  rooms  \\\n",
       "0            20    13000000       108.0           2019-03-07      3   \n",
       "1             7     3350000        40.4           2018-12-04      1   \n",
       "2            10     5196000        56.0           2015-08-20      2   \n",
       "3             0    64900000       159.0           2015-07-24      3   \n",
       "4             2    10000000       100.0           2018-06-19      2   \n",
       "\n",
       "   ceiling_height  floors_total  living_area  floor  is_apartment  ...  \\\n",
       "0            2.70          16.0         51.0      8         False  ...   \n",
       "1            2.65          11.0         18.6      1         False  ...   \n",
       "2            2.65           5.0         34.3      4         False  ...   \n",
       "3            2.65          14.0         30.0      9         False  ...   \n",
       "4            3.03          14.0         32.0     13         False  ...   \n",
       "\n",
       "   parks_nearest  ponds_around3000  ponds_nearest  days_exposition  \\\n",
       "0          482.0               2.0          755.0              NaN   \n",
       "1            NaN               0.0            NaN             81.0   \n",
       "2           90.0               2.0          574.0            558.0   \n",
       "3           84.0               3.0          234.0            424.0   \n",
       "4          112.0               1.0           48.0            121.0   \n",
       "\n",
       "  price_on_one_metr  day_public  month_public  year_public  floor_category  \\\n",
       "0         120370.37           3             3         2019          другой   \n",
       "1          82920.79           1            12         2018          первый   \n",
       "2          92785.71           3             8         2015          другой   \n",
       "3         408176.10           4             7         2015          другой   \n",
       "4         100000.00           1             6         2018          другой   \n",
       "\n",
       "   distance_to_centr_km  \n",
       "0                  16.0  \n",
       "1                  19.0  \n",
       "2                  14.0  \n",
       "3                   7.0  \n",
       "4                   8.0  \n",
       "\n",
       "[5 rows x 28 columns]"
      ]
     },
     "execution_count": 67,
     "metadata": {},
     "output_type": "execute_result"
    }
   ],
   "source": [
    "#проверяем\n",
    "data.head()"
   ]
  },
  {
   "cell_type": "code",
   "execution_count": 68,
   "id": "98e0a3a3-b82f-4d75-b478-d073dea3765b",
   "metadata": {},
   "outputs": [],
   "source": [
    "#выполним анализ жилой площади"
   ]
  },
  {
   "cell_type": "code",
   "execution_count": 69,
   "id": "c8addf15-8b2a-4a02-ae39-69b08dfc57d4",
   "metadata": {},
   "outputs": [
    {
     "data": {
      "text/plain": [
       "count    23699.000000\n",
       "mean        34.099892\n",
       "std         21.162096\n",
       "min          2.000000\n",
       "25%         19.000000\n",
       "50%         30.000000\n",
       "75%         41.100000\n",
       "max        409.700000\n",
       "Name: living_area, dtype: float64"
      ]
     },
     "execution_count": 69,
     "metadata": {},
     "output_type": "execute_result"
    }
   ],
   "source": [
    "data['living_area'].describe()"
   ]
  },
  {
   "cell_type": "code",
   "execution_count": 70,
   "id": "76ec5f9e-0339-4cd5-a389-694dcb5d03fd",
   "metadata": {},
   "outputs": [
    {
     "data": {
      "image/png": "[encoded data removed]",
      "text/plain": [
       "<Figure size 432x288 with 1 Axes>"
      ]
     },
     "metadata": {
      "needs_background": "light"
     },
     "output_type": "display_data"
    }
   ],
   "source": [
    "plt.hist(data['living_area'], bins=100, range=(2,409))\n",
    "plt.title('жилая площадь обектов недвижимости')\n",
    "plt.xlabel('м²')\n",
    "plt.ylabel('Количество квартир')\n",
    "plt.show()"
   ]
  },
  {
   "cell_type": "code",
   "execution_count": 71,
   "id": "fdc4caf2-7658-41a1-aad6-9298730a3062",
   "metadata": {},
   "outputs": [],
   "source": [
    "#изменим range, поскольку из графика видно, что объектов площадью больше 100 кв м очень мало, верхнее значение возьмем 42"
   ]
  },
  {
   "cell_type": "code",
   "execution_count": 72,
   "id": "119dae86-aac2-4149-b9f7-79bd82e5d127",
   "metadata": {},
   "outputs": [
    {
     "data": {
      "image/png": "[encoded data removed]",
      "text/plain": [
       "<Figure size 432x288 with 1 Axes>"
      ]
     },
     "metadata": {
      "needs_background": "light"
     },
     "output_type": "display_data"
    }
   ],
   "source": [
    "plt.hist(data['living_area'], bins=100, range=(2,100))\n",
    "plt.title('жилая площадь обектов недвижимости')\n",
    "plt.xlabel('м²')\n",
    "plt.ylabel('Количество квартир')\n",
    "plt.show()"
   ]
  },
  {
   "cell_type": "markdown",
   "id": "a240df0c-5470-4085-8978-73eb45a8aa84",
   "metadata": {},
   "source": [
    "Из гистограммы можно сделать вывод, что больше всего объектов площадью 18 кв метров и 30"
   ]
  },
  {
   "cell_type": "code",
   "execution_count": 73,
   "id": "1d948e45-4d6c-4623-8f48-58185ba3fcde",
   "metadata": {},
   "outputs": [
    {
     "data": {
      "text/plain": [
       "count    23699.000000\n",
       "mean        10.428526\n",
       "std          5.631126\n",
       "min          1.300000\n",
       "25%          7.400000\n",
       "50%          9.100000\n",
       "75%         11.440000\n",
       "max        112.000000\n",
       "Name: kitchen_area, dtype: float64"
      ]
     },
     "execution_count": 73,
     "metadata": {},
     "output_type": "execute_result"
    }
   ],
   "source": [
    "#произведем анализ площади кухни\n",
    "data['kitchen_area'].describe()"
   ]
  },
  {
   "cell_type": "code",
   "execution_count": 74,
   "id": "5ba0520f-1cb2-4765-a238-9202915d91f9",
   "metadata": {},
   "outputs": [
    {
     "data": {
      "image/png": "[encoded data removed]",
      "text/plain": [
       "<Figure size 432x288 with 1 Axes>"
      ]
     },
     "metadata": {
      "needs_background": "light"
     },
     "output_type": "display_data"
    }
   ],
   "source": [
    "plt.hist(data['kitchen_area'], bins=100, range=(4,15))\n",
    "plt.title('площадь кухни')\n",
    "plt.xlabel('м²')\n",
    "plt.ylabel('Количество квартир')\n",
    "plt.show()"
   ]
  },
  {
   "cell_type": "markdown",
   "id": "baaafa3e-39d1-49bc-8019-b76b41f8c428",
   "metadata": {},
   "source": [
    "Больше всего объектов с площадью кухни 9 кв метров"
   ]
  },
  {
   "cell_type": "code",
   "execution_count": 75,
   "id": "a8ee7a19-0752-4122-adc8-6ea22512f5eb",
   "metadata": {},
   "outputs": [],
   "source": [
    "#выполним анализ общей площади"
   ]
  },
  {
   "cell_type": "code",
   "execution_count": 76,
   "id": "1b6eef03-fa0c-4ca1-9bcb-39d0c53d26b5",
   "metadata": {},
   "outputs": [
    {
     "data": {
      "text/plain": [
       "count    23699.000000\n",
       "mean        60.348651\n",
       "std         35.654083\n",
       "min         12.000000\n",
       "25%         40.000000\n",
       "50%         52.000000\n",
       "75%         69.900000\n",
       "max        900.000000\n",
       "Name: total_area, dtype: float64"
      ]
     },
     "execution_count": 76,
     "metadata": {},
     "output_type": "execute_result"
    }
   ],
   "source": [
    "data['total_area'].describe()"
   ]
  },
  {
   "cell_type": "code",
   "execution_count": 77,
   "id": "463dc9bf-ae3a-4e01-81d7-ccefeb98a59e",
   "metadata": {},
   "outputs": [
    {
     "data": {
      "image/png": "[encoded data removed]",
      "text/plain": [
       "<Figure size 432x288 with 1 Axes>"
      ]
     },
     "metadata": {
      "needs_background": "light"
     },
     "output_type": "display_data"
    }
   ],
   "source": [
    "plt.hist(data['total_area'], bins=100, range=(12,120))\n",
    "plt.title('общая площадь обектов недвижимости')\n",
    "plt.xlabel('м²')\n",
    "plt.ylabel('Количество квартир')\n",
    "plt.show()"
   ]
  },
  {
   "cell_type": "markdown",
   "id": "7c94a719-851e-4aa7-9b1e-2f4f7e96c90a",
   "metadata": {},
   "source": [
    "Вывод: большинство квартир имеют площадь от 30 до 65 м². Чаще всего встречаются квартиры около 45 кв метров. До 20 кв метров выборка крайне мала."
   ]
  },
  {
   "cell_type": "code",
   "execution_count": 78,
   "id": "57db760f-8ef5-4974-9682-e73ffe40ac54",
   "metadata": {},
   "outputs": [
    {
     "data": {
      "text/plain": [
       "count    2.369900e+04\n",
       "mean     6.541549e+06\n",
       "std      1.088701e+07\n",
       "min      1.219000e+04\n",
       "25%      3.400000e+06\n",
       "50%      4.650000e+06\n",
       "75%      6.800000e+06\n",
       "max      7.630000e+08\n",
       "Name: last_price, dtype: float64"
      ]
     },
     "execution_count": 78,
     "metadata": {},
     "output_type": "execute_result"
    }
   ],
   "source": [
    "#произведем анализ цены\n",
    "data['last_price'].describe()"
   ]
  },
  {
   "cell_type": "code",
   "execution_count": 79,
   "id": "331a88b9-8d89-44cb-b804-8f94d499db2e",
   "metadata": {},
   "outputs": [
    {
     "data": {
      "image/png": "[encoded data removed]",
      "text/plain": [
       "<Figure size 432x288 with 1 Axes>"
      ]
     },
     "metadata": {
      "needs_background": "light"
     },
     "output_type": "display_data"
    }
   ],
   "source": [
    "plt.hist(data['last_price'], bins=100, range=(1.219000e+04, 10.00000e+06))\n",
    "plt.title('цена объекта')\n",
    "plt.xlabel('млн. руб.')\n",
    "plt.ylabel('Количество квартир')\n",
    "plt.show()"
   ]
  },
  {
   "cell_type": "code",
   "execution_count": 80,
   "id": "5c8d11d5-5cfd-47cd-a7ff-0b0f79d9ed13",
   "metadata": {},
   "outputs": [
    {
     "data": {
      "text/plain": [
       "count    23699.000000\n",
       "mean         2.070636\n",
       "std          1.078405\n",
       "min          0.000000\n",
       "25%          1.000000\n",
       "50%          2.000000\n",
       "75%          3.000000\n",
       "max         19.000000\n",
       "Name: rooms, dtype: float64"
      ]
     },
     "execution_count": 80,
     "metadata": {},
     "output_type": "execute_result"
    }
   ],
   "source": [
    "#произведем анализ количества комнат\n",
    "data['rooms'].describe()"
   ]
  },
  {
   "cell_type": "code",
   "execution_count": 81,
   "id": "5588eeb4-0b91-4414-b7de-6fca9abaef50",
   "metadata": {},
   "outputs": [
    {
     "data": {
      "image/png": "[encoded data removed]",
      "text/plain": [
       "<Figure size 432x288 with 1 Axes>"
      ]
     },
     "metadata": {
      "needs_background": "light"
     },
     "output_type": "display_data"
    }
   ],
   "source": [
    "plt.hist(data['rooms'], bins=7, range=(1,10))\n",
    "plt.title('количество комнат в объектах недвижимости')\n",
    "plt.xlabel('комнаты')\n",
    "plt.ylabel('Количество квартир')\n",
    "plt.show()"
   ]
  },
  {
   "cell_type": "markdown",
   "id": "39d5e972-ad2c-45c2-9c6c-824c3b910bdb",
   "metadata": {},
   "source": [
    "Минимальное количество комнат 0 явно ошибка, поэтому range поставили от 1 до 10. В большинстве квартир количество комнат 1 или 2, меньше с 3, далее совсем немного"
   ]
  },
  {
   "cell_type": "code",
   "execution_count": 82,
   "id": "ff9d867c-7438-4dbf-a81d-b2639f4648c1",
   "metadata": {},
   "outputs": [
    {
     "data": {
      "text/plain": [
       "count    23699.000000\n",
       "mean         2.697798\n",
       "std          0.237643\n",
       "min          1.000000\n",
       "25%          2.600000\n",
       "50%          2.650000\n",
       "75%          2.700000\n",
       "max         10.000000\n",
       "Name: ceiling_height, dtype: float64"
      ]
     },
     "execution_count": 82,
     "metadata": {},
     "output_type": "execute_result"
    }
   ],
   "source": [
    "#проанализируем высоту потолков\n",
    "data['ceiling_height'].describe()"
   ]
  },
  {
   "cell_type": "code",
   "execution_count": 83,
   "id": "c7fa4ba0-a53e-43d8-b713-ca2f8edcc8f1",
   "metadata": {},
   "outputs": [
    {
     "data": {
      "image/png": "[encoded data removed]",
      "text/plain": [
       "<Figure size 432x288 with 1 Axes>"
      ]
     },
     "metadata": {
      "needs_background": "light"
     },
     "output_type": "display_data"
    }
   ],
   "source": [
    "plt.hist(data['ceiling_height'], bins=50, range=(2,4))\n",
    "plt.title('Высота потолков')\n",
    "plt.xlabel('метры')\n",
    "plt.ylabel('Количество квартир')\n",
    "plt.show()"
   ]
  },
  {
   "cell_type": "markdown",
   "id": "173cfade-fbac-4a2c-a15d-ffad4ceba20d",
   "metadata": {},
   "source": [
    "Самая популярная высота потолкров составляет примерно 2.6 метра\n"
   ]
  },
  {
   "cell_type": "code",
   "execution_count": 84,
   "id": "17fa2762-775e-4e1b-8396-9bad580bef12",
   "metadata": {},
   "outputs": [],
   "source": [
    "# определим тип этажа квартиры («первый», «последний», «другой»)"
   ]
  },
  {
   "cell_type": "code",
   "execution_count": 85,
   "id": "2ef82cb8-2bb8-48ae-b99d-97c00c4ed5e1",
   "metadata": {},
   "outputs": [
    {
     "data": {
      "text/plain": [
       "count    23699.000000\n",
       "mean         5.892358\n",
       "std          4.885249\n",
       "min          1.000000\n",
       "25%          2.000000\n",
       "50%          4.000000\n",
       "75%          8.000000\n",
       "max         33.000000\n",
       "Name: floor, dtype: float64"
      ]
     },
     "execution_count": 85,
     "metadata": {},
     "output_type": "execute_result"
    }
   ],
   "source": [
    "data['floor'].describe()"
   ]
  },
  {
   "cell_type": "code",
   "execution_count": 86,
   "id": "44f9f8c1-14b0-4105-8fff-87dd29caab2d",
   "metadata": {},
   "outputs": [
    {
     "data": {
      "image/png": "[encoded data removed]",
      "text/plain": [
       "<Figure size 432x288 with 1 Axes>"
      ]
     },
     "metadata": {
      "needs_background": "light"
     },
     "output_type": "display_data"
    }
   ],
   "source": [
    "plt.hist(data['floor'], bins=20, range=(1,33))\n",
    "plt.title('Этажи')\n",
    "plt.xlabel('этаж')\n",
    "plt.ylabel('объекты недвижимости')\n",
    "plt.show()"
   ]
  },
  {
   "cell_type": "markdown",
   "id": "88a70ab2-5a2c-4dd0-be58-518085041ed8",
   "metadata": {},
   "source": [
    "Самые популярные этажи в объектах с 1 по 5. Выполним исследование по типу этажа квартиры «первый», «последний», «другой»"
   ]
  },
  {
   "cell_type": "code",
   "execution_count": 87,
   "id": "5786f157-8176-46c3-a820-63ebe405f5ef",
   "metadata": {},
   "outputs": [
    {
     "data": {
      "text/plain": [
       "count      23699\n",
       "unique         3\n",
       "top       другой\n",
       "freq       17441\n",
       "Name: floor_category, dtype: object"
      ]
     },
     "execution_count": 87,
     "metadata": {},
     "output_type": "execute_result"
    }
   ],
   "source": [
    "data['floor_category'].describe()"
   ]
  },
  {
   "cell_type": "code",
   "execution_count": 88,
   "id": "07ce88d0-99cb-44b2-b632-d0b21f6f986b",
   "metadata": {},
   "outputs": [
    {
     "data": {
      "text/plain": [
       "другой       17441\n",
       "последний     3341\n",
       "первый        2917\n",
       "Name: floor_category, dtype: int64"
      ]
     },
     "execution_count": 88,
     "metadata": {},
     "output_type": "execute_result"
    }
   ],
   "source": [
    "data['floor_category'].value_counts() #посмотрим количество квартир в каждой категории «первый», «последний», «другой»"
   ]
  },
  {
   "cell_type": "code",
   "execution_count": 89,
   "id": "cc52a6a1-0ea3-4917-8d9f-17c483018a33",
   "metadata": {},
   "outputs": [
    {
     "data": {
      "image/png": "[encoded data removed]",
      "text/plain": [
       "<Figure size 360x216 with 1 Axes>"
      ]
     },
     "metadata": {
      "needs_background": "light"
     },
     "output_type": "display_data"
    }
   ],
   "source": [
    "#построим график \n",
    "data['floor_category'].value_counts().plot.bar(figsize=(5, 3), legend=True)\n",
    "plt.show()"
   ]
  },
  {
   "cell_type": "markdown",
   "id": "68b32b9f-531c-4c5c-a44d-730a0ab8416b",
   "metadata": {},
   "source": [
    "Меньше всего квартир расположено на первом или последнем этаже, самая популярная категирия \"другой\"."
   ]
  },
  {
   "cell_type": "code",
   "execution_count": 90,
   "id": "8f18c999-b96e-45be-b148-6e7a247ff332",
   "metadata": {},
   "outputs": [
    {
     "data": {
      "text/plain": [
       "count    23699.000000\n",
       "mean        10.667750\n",
       "std          6.585961\n",
       "min          1.000000\n",
       "25%          5.000000\n",
       "50%          9.000000\n",
       "75%         16.000000\n",
       "max         60.000000\n",
       "Name: floors_total, dtype: float64"
      ]
     },
     "execution_count": 90,
     "metadata": {},
     "output_type": "execute_result"
    }
   ],
   "source": [
    "#общее количество этажей в доме\n",
    "data['floors_total'].describe()"
   ]
  },
  {
   "cell_type": "code",
   "execution_count": 91,
   "id": "de428ae6-eedf-448f-a4bc-68e2f829fed8",
   "metadata": {},
   "outputs": [
    {
     "data": {
      "image/png": "[encoded data removed]",
      "text/plain": [
       "<Figure size 432x288 with 1 Axes>"
      ]
     },
     "metadata": {
      "needs_background": "light"
     },
     "output_type": "display_data"
    }
   ],
   "source": [
    "plt.hist(data['floors_total'], bins=100, range=(1,30))\n",
    "plt.title('Общее количетво этажей в доме')\n",
    "plt.xlabel('Этаж')\n",
    "plt.ylabel('Количество квартир')\n",
    "plt.show()"
   ]
  },
  {
   "cell_type": "markdown",
   "id": "c134c9aa-b4e9-4543-84ed-e7be8262cae2",
   "metadata": {},
   "source": [
    "Больше всего квартир продается в 5 этажных домах, на втором месте по популярности 9 этажки"
   ]
  },
  {
   "cell_type": "code",
   "execution_count": 92,
   "id": "f041b59b-7737-412d-90ee-348037a7878f",
   "metadata": {},
   "outputs": [
    {
     "data": {
      "text/plain": [
       "count    18180.000000\n",
       "mean     14191.277833\n",
       "std       8608.386210\n",
       "min        181.000000\n",
       "25%       9238.000000\n",
       "50%      13098.500000\n",
       "75%      16293.000000\n",
       "max      65968.000000\n",
       "Name: city_centers_nearest, dtype: float64"
      ]
     },
     "execution_count": 92,
     "metadata": {},
     "output_type": "execute_result"
    }
   ],
   "source": [
    "#расстояние до центра города в метрах\n",
    "data['city_centers_nearest'].describe()"
   ]
  },
  {
   "cell_type": "code",
   "execution_count": 93,
   "id": "60df5766-d9e6-4b82-b5fc-6abd0ae96c74",
   "metadata": {},
   "outputs": [
    {
     "data": {
      "image/png": "[encoded data removed]",
      "text/plain": [
       "<Figure size 432x288 with 1 Axes>"
      ]
     },
     "metadata": {
      "needs_background": "light"
     },
     "output_type": "display_data"
    }
   ],
   "source": [
    "plt.hist(data['city_centers_nearest'], bins=100, range=(0,30000))\n",
    "plt.title('расстояние до центра города в метрах')\n",
    "plt.xlabel('метры')\n",
    "plt.ylabel('Количество квартир')\n",
    "plt.show()"
   ]
  },
  {
   "cell_type": "markdown",
   "id": "648f85f9-6d7c-4cf2-a5dd-488bcc5e25db",
   "metadata": {},
   "source": [
    "Больше всего квартир расположено от 10 до 16 км до центра, также наблюдается пик на расстоянии 5 км. "
   ]
  },
  {
   "cell_type": "code",
   "execution_count": 94,
   "id": "07fbad0d-09b5-4df0-9522-599500f1b751",
   "metadata": {},
   "outputs": [
    {
     "data": {
      "text/plain": [
       "count    8079.000000\n",
       "mean      490.804555\n",
       "std       342.317995\n",
       "min         1.000000\n",
       "25%       288.000000\n",
       "50%       455.000000\n",
       "75%       612.000000\n",
       "max      3190.000000\n",
       "Name: parks_nearest, dtype: float64"
      ]
     },
     "execution_count": 94,
     "metadata": {},
     "output_type": "execute_result"
    }
   ],
   "source": [
    "#Расстояние до ближайшего парка\n",
    "data['parks_nearest'].describe()"
   ]
  },
  {
   "cell_type": "code",
   "execution_count": 95,
   "id": "3fe8bfc2-a608-4e21-a041-da4401e7a4e1",
   "metadata": {},
   "outputs": [
    {
     "data": {
      "image/png": "[encoded data removed]",
      "text/plain": [
       "<Figure size 432x288 with 1 Axes>"
      ]
     },
     "metadata": {
      "needs_background": "light"
     },
     "output_type": "display_data"
    }
   ],
   "source": [
    "plt.hist(data['parks_nearest'], bins=100, range=(100,1000))\n",
    "plt.title('Расстояние до ближайшего парка')\n",
    "plt.xlabel('метры')\n",
    "plt.ylabel('Количество квартир')\n",
    "plt.show()"
   ]
  },
  {
   "cell_type": "markdown",
   "id": "57fe5082-367d-4aea-9ccf-b81173c56195",
   "metadata": {},
   "source": [
    "Среднее расстояние от квартиры до ближайшего парка 300-600 метров."
   ]
  },
  {
   "cell_type": "code",
   "execution_count": 96,
   "id": "a95237dd",
   "metadata": {},
   "outputs": [
    {
     "data": {
      "text/plain": [
       "(23699, 28)"
      ]
     },
     "execution_count": 96,
     "metadata": {},
     "output_type": "execute_result"
    }
   ],
   "source": [
    "data.shape #проверим с помощью метода shape, сколько осталось данных от изначальных. Видим, что значения не изменились"
   ]
  },
  {
   "cell_type": "code",
   "execution_count": 97,
   "id": "31ae6e2c-1039-428f-8d0d-c6b64f0e3cf6",
   "metadata": {},
   "outputs": [],
   "source": [
    "#Изучим как быстро продавались квартиры"
   ]
  },
  {
   "cell_type": "code",
   "execution_count": 98,
   "id": "66e35ab8-3cf4-41d7-92b3-d4e0695fec4d",
   "metadata": {},
   "outputs": [
    {
     "data": {
      "text/plain": [
       "count    20518.000000\n",
       "mean       180.888634\n",
       "std        219.727988\n",
       "min          1.000000\n",
       "25%         45.000000\n",
       "50%         95.000000\n",
       "75%        232.000000\n",
       "max       1580.000000\n",
       "Name: days_exposition, dtype: float64"
      ]
     },
     "execution_count": 98,
     "metadata": {},
     "output_type": "execute_result"
    }
   ],
   "source": [
    "data['days_exposition'].describe()"
   ]
  },
  {
   "cell_type": "code",
   "execution_count": 99,
   "id": "0a5fc0a7-81a5-4d0a-8d66-bd4f54168bb5",
   "metadata": {},
   "outputs": [
    {
     "data": {
      "image/png": "[encoded data removed]",
      "text/plain": [
       "<Figure size 432x288 with 1 Axes>"
      ]
     },
     "metadata": {
      "needs_background": "light"
     },
     "output_type": "display_data"
    }
   ],
   "source": [
    "plt.hist(data['days_exposition'], bins=100, range=(1,300))\n",
    "plt.title('Время продажи квартиры')\n",
    "plt.xlabel('количество дней')\n",
    "plt.ylabel('объекты недвижимости')\n",
    "plt.show()"
   ]
  },
  {
   "cell_type": "code",
   "execution_count": 100,
   "id": "0999836a-49de-4cd4-84c4-f0f522728113",
   "metadata": {},
   "outputs": [],
   "source": [
    "#уменьшим значения range, чтобы график стал нагляднее"
   ]
  },
  {
   "cell_type": "code",
   "execution_count": 101,
   "id": "78de9f90-c710-492f-b592-501678460f1c",
   "metadata": {},
   "outputs": [
    {
     "data": {
      "image/png": "[encoded data removed]",
      "text/plain": [
       "<Figure size 432x288 with 1 Axes>"
      ]
     },
     "metadata": {
      "needs_background": "light"
     },
     "output_type": "display_data"
    }
   ],
   "source": [
    "plt.hist(data['days_exposition'], bins=100, range=(1,100))\n",
    "plt.title('Время продажи квартиры')\n",
    "plt.xlabel('количество дней')\n",
    "plt.ylabel('объекты недвижимости')\n",
    "plt.show()"
   ]
  },
  {
   "cell_type": "markdown",
   "id": "49e468f4-ac9f-4055-aa29-0aedba909c0f",
   "metadata": {},
   "source": [
    "Квартиры чаще вего продают за 45 или 60 дней. Также наблюдается пик в 90 дней. Среднее значение продажи составляет 180 дней, медианное 95 дней. \n",
    "К быстрым продажам можно отнести те сделки, которые были совершенны до 45 дней, необычно долгие более 231 дня"
   ]
  },
  {
   "cell_type": "markdown",
   "id": "2bda51b7-4185-4adb-b892-c342955e00a2",
   "metadata": {},
   "source": [
    "Определим факторы, которые больше всего влияют на общую (полную) стоимость объекта"
   ]
  },
  {
   "cell_type": "code",
   "execution_count": 102,
   "id": "3833fe87-d743-4b63-a807-c2a48fe0a2c5",
   "metadata": {},
   "outputs": [],
   "source": [
    "#изучим зависимость цены last_price от общей площади, жилой площади, площади кухни, количества комнат, типа этажа, на котором расположена квартира (первый, последний, другой) и от даты размещения (день недели, месяц, год)"
   ]
  },
  {
   "cell_type": "code",
   "execution_count": 103,
   "id": "402d6248-a06d-49a1-836b-b4c601a1b4fa",
   "metadata": {},
   "outputs": [
    {
     "data": {
      "text/html": [
       "<div>\n",
       "<style scoped>\n",
       "    .dataframe tbody tr th:only-of-type {\n",
       "        vertical-align: middle;\n",
       "    }\n",
       "\n",
       "    .dataframe tbody tr th {\n",
       "        vertical-align: top;\n",
       "    }\n",
       "\n",
       "    .dataframe thead th {\n",
       "        text-align: right;\n",
       "    }\n",
       "</style>\n",
       "<table border=\"1\" class=\"dataframe\">\n",
       "  <thead>\n",
       "    <tr style=\"text-align: right;\">\n",
       "      <th></th>\n",
       "      <th>day_public</th>\n",
       "      <th>kitchen_area</th>\n",
       "      <th>last_price</th>\n",
       "      <th>living_area</th>\n",
       "      <th>month_public</th>\n",
       "      <th>rooms</th>\n",
       "      <th>total_area</th>\n",
       "      <th>year_public</th>\n",
       "    </tr>\n",
       "  </thead>\n",
       "  <tbody>\n",
       "    <tr>\n",
       "      <th>day_public</th>\n",
       "      <td>1.000000</td>\n",
       "      <td>0.486047</td>\n",
       "      <td>0.323738</td>\n",
       "      <td>0.089904</td>\n",
       "      <td>0.269221</td>\n",
       "      <td>-0.059111</td>\n",
       "      <td>0.320962</td>\n",
       "      <td>0.181063</td>\n",
       "    </tr>\n",
       "    <tr>\n",
       "      <th>kitchen_area</th>\n",
       "      <td>0.486047</td>\n",
       "      <td>1.000000</td>\n",
       "      <td>0.312370</td>\n",
       "      <td>0.125143</td>\n",
       "      <td>-0.020625</td>\n",
       "      <td>0.128989</td>\n",
       "      <td>0.423262</td>\n",
       "      <td>-0.309570</td>\n",
       "    </tr>\n",
       "    <tr>\n",
       "      <th>last_price</th>\n",
       "      <td>0.323738</td>\n",
       "      <td>0.312370</td>\n",
       "      <td>1.000000</td>\n",
       "      <td>0.635380</td>\n",
       "      <td>-0.019113</td>\n",
       "      <td>0.442449</td>\n",
       "      <td>0.738972</td>\n",
       "      <td>-0.052080</td>\n",
       "    </tr>\n",
       "    <tr>\n",
       "      <th>living_area</th>\n",
       "      <td>0.089904</td>\n",
       "      <td>0.125143</td>\n",
       "      <td>0.635380</td>\n",
       "      <td>1.000000</td>\n",
       "      <td>-0.155158</td>\n",
       "      <td>0.900067</td>\n",
       "      <td>0.927994</td>\n",
       "      <td>-0.066515</td>\n",
       "    </tr>\n",
       "    <tr>\n",
       "      <th>month_public</th>\n",
       "      <td>0.269221</td>\n",
       "      <td>-0.020625</td>\n",
       "      <td>-0.019113</td>\n",
       "      <td>-0.155158</td>\n",
       "      <td>1.000000</td>\n",
       "      <td>-0.289615</td>\n",
       "      <td>-0.056876</td>\n",
       "      <td>-0.355876</td>\n",
       "    </tr>\n",
       "    <tr>\n",
       "      <th>rooms</th>\n",
       "      <td>-0.059111</td>\n",
       "      <td>0.128989</td>\n",
       "      <td>0.442449</td>\n",
       "      <td>0.900067</td>\n",
       "      <td>-0.289615</td>\n",
       "      <td>1.000000</td>\n",
       "      <td>0.811538</td>\n",
       "      <td>-0.046553</td>\n",
       "    </tr>\n",
       "    <tr>\n",
       "      <th>total_area</th>\n",
       "      <td>0.320962</td>\n",
       "      <td>0.423262</td>\n",
       "      <td>0.738972</td>\n",
       "      <td>0.927994</td>\n",
       "      <td>-0.056876</td>\n",
       "      <td>0.811538</td>\n",
       "      <td>1.000000</td>\n",
       "      <td>-0.091682</td>\n",
       "    </tr>\n",
       "    <tr>\n",
       "      <th>year_public</th>\n",
       "      <td>0.181063</td>\n",
       "      <td>-0.309570</td>\n",
       "      <td>-0.052080</td>\n",
       "      <td>-0.066515</td>\n",
       "      <td>-0.355876</td>\n",
       "      <td>-0.046553</td>\n",
       "      <td>-0.091682</td>\n",
       "      <td>1.000000</td>\n",
       "    </tr>\n",
       "  </tbody>\n",
       "</table>\n",
       "</div>"
      ],
      "text/plain": [
       "              day_public  kitchen_area  last_price  living_area  month_public  \\\n",
       "day_public      1.000000      0.486047    0.323738     0.089904      0.269221   \n",
       "kitchen_area    0.486047      1.000000    0.312370     0.125143     -0.020625   \n",
       "last_price      0.323738      0.312370    1.000000     0.635380     -0.019113   \n",
       "living_area     0.089904      0.125143    0.635380     1.000000     -0.155158   \n",
       "month_public    0.269221     -0.020625   -0.019113    -0.155158      1.000000   \n",
       "rooms          -0.059111      0.128989    0.442449     0.900067     -0.289615   \n",
       "total_area      0.320962      0.423262    0.738972     0.927994     -0.056876   \n",
       "year_public     0.181063     -0.309570   -0.052080    -0.066515     -0.355876   \n",
       "\n",
       "                 rooms  total_area  year_public  \n",
       "day_public   -0.059111    0.320962     0.181063  \n",
       "kitchen_area  0.128989    0.423262    -0.309570  \n",
       "last_price    0.442449    0.738972    -0.052080  \n",
       "living_area   0.900067    0.927994    -0.066515  \n",
       "month_public -0.289615   -0.056876    -0.355876  \n",
       "rooms         1.000000    0.811538    -0.046553  \n",
       "total_area    0.811538    1.000000    -0.091682  \n",
       "year_public  -0.046553   -0.091682     1.000000  "
      ]
     },
     "execution_count": 103,
     "metadata": {},
     "output_type": "execute_result"
    }
   ],
   "source": [
    "data.pivot_table(index='floor', values=['last_price','total_area','living_area','kitchen_area','rooms', 'day_public','month_public','year_public']).corr()"
   ]
  },
  {
   "cell_type": "markdown",
   "id": "b90409cf-ec40-4fec-84d2-b7742f9348f9",
   "metadata": {},
   "source": [
    "Выводы: цена зависит от общей площади, от жилой площади и от количества комнат, цена слабо зависит от даты публикации и от площади кухни"
   ]
  },
  {
   "cell_type": "markdown",
   "id": "14d54df2-dff7-4a56-82e8-c884c3511745",
   "metadata": {},
   "source": [
    "Построим график зависимости цены от общей площади"
   ]
  },
  {
   "cell_type": "code",
   "execution_count": 104,
   "id": "96394923-4aac-46fc-9ff0-a4639e84a321",
   "metadata": {},
   "outputs": [
    {
     "data": {
      "image/png": "[encoded data removed]",
      "text/plain": [
       "<Figure size 432x432 with 1 Axes>"
      ]
     },
     "metadata": {
      "needs_background": "light"
     },
     "output_type": "display_data"
    }
   ],
   "source": [
    "data.pivot_table(index='total_area', values='last_price').plot(style='o', figsize=(6, 6))\n",
    "plt.title('Зависимость цены от общей площади')\n",
    "plt.xlabel('м²')\n",
    "plt.ylabel('цена')\n",
    "plt.show()"
   ]
  },
  {
   "cell_type": "markdown",
   "id": "f4cec16b-0c82-4cff-a803-a08f315b4d87",
   "metadata": {},
   "source": [
    "Из графика видна прямая зависимость цены от общей площади квартиры"
   ]
  },
  {
   "cell_type": "code",
   "execution_count": 105,
   "id": "8f0054e8-d6ef-47c0-a253-d8379d1ece51",
   "metadata": {},
   "outputs": [
    {
     "data": {
      "image/png": "[encoded data removed]",
      "text/plain": [
       "<Figure size 432x432 with 1 Axes>"
      ]
     },
     "metadata": {
      "needs_background": "light"
     },
     "output_type": "display_data"
    }
   ],
   "source": [
    "#построим график зависимости цены от жилой площади\n",
    "data.pivot_table(index='living_area', values='last_price').plot(style='o', figsize=(6, 6))\n",
    "plt.title('Зависимость цены от жилой площади')\n",
    "plt.xlabel('м²')\n",
    "plt.ylabel('цена')\n",
    "plt.show()"
   ]
  },
  {
   "cell_type": "markdown",
   "id": "7efb4171-18f7-46cb-9acc-1862b706038c",
   "metadata": {},
   "source": [
    "Из графика видна прямая зависимость цены от жилой площади квартиры"
   ]
  },
  {
   "cell_type": "code",
   "execution_count": 106,
   "id": "285547b0-e32a-4568-855b-7c5c48587b3b",
   "metadata": {},
   "outputs": [
    {
     "data": {
      "image/png": "[encoded data removed]",
      "text/plain": [
       "<Figure size 432x432 with 1 Axes>"
      ]
     },
     "metadata": {
      "needs_background": "light"
     },
     "output_type": "display_data"
    }
   ],
   "source": [
    "#построим график зависимости цены от площади кухни \n",
    "data.pivot_table(index='kitchen_area', values='last_price').plot(style='o', figsize=(6, 6))\n",
    "plt.title('Зависимость цены от площади кухни')\n",
    "plt.xlabel('м²')\n",
    "plt.ylabel('цена')\n",
    "plt.show()"
   ]
  },
  {
   "cell_type": "markdown",
   "id": "ac01d969-5fd6-4b0f-8ef5-6791da495d10",
   "metadata": {},
   "source": [
    "Также прослеживается прямая зависимость цены от площади кухни"
   ]
  },
  {
   "cell_type": "code",
   "execution_count": 107,
   "id": "dfce0958-ea0d-454f-b513-54825d66b4c5",
   "metadata": {},
   "outputs": [
    {
     "data": {
      "text/plain": [
       "<AxesSubplot:xlabel='rooms'>"
      ]
     },
     "execution_count": 107,
     "metadata": {},
     "output_type": "execute_result"
    },
    {
     "data": {
      "image/png": "[encoded data removed]",
      "text/plain": [
       "<Figure size 576x432 with 1 Axes>"
      ]
     },
     "metadata": {
      "needs_background": "light"
     },
     "output_type": "display_data"
    }
   ],
   "source": [
    "#построим график зависимости цены от количества комнат\n",
    "data.plot(x = 'rooms', y = 'last_price', style='o', grid=True, figsize=(8, 6))"
   ]
  },
  {
   "cell_type": "markdown",
   "id": "33344df8-17e4-46d2-b361-e420ca9dc6b8",
   "metadata": {},
   "source": [
    "Наблюдаем зависимость цены от количества комнат"
   ]
  },
  {
   "cell_type": "code",
   "execution_count": 108,
   "id": "875f5928-903a-4d7a-a5da-34cfdac4c38c",
   "metadata": {},
   "outputs": [
    {
     "data": {
      "image/png": "[encoded data removed]",
      "text/plain": [
       "<Figure size 432x432 with 1 Axes>"
      ]
     },
     "metadata": {
      "needs_background": "light"
     },
     "output_type": "display_data"
    }
   ],
   "source": [
    "# определим зависимость цены от типа этажа (первый, последний, другой)\n",
    "data.pivot_table(index='floor_category', values='last_price').plot(style='o-', figsize=(6, 6))\n",
    "plt.title('Зависимость цены типа этажа (первый, последний, другой')\n",
    "plt.show()"
   ]
  },
  {
   "cell_type": "markdown",
   "id": "9d05c2e8-5ce9-4ffd-9863-12eaa5566472",
   "metadata": {},
   "source": [
    "Цена на объект недвижимости, находящийся на первом этаже самая минимальная"
   ]
  },
  {
   "cell_type": "code",
   "execution_count": 109,
   "id": "6fa6f4fb-8065-4918-a379-65625764c5f0",
   "metadata": {},
   "outputs": [
    {
     "data": {
      "image/png": "[encoded data removed]",
      "text/plain": [
       "<Figure size 432x432 with 1 Axes>"
      ]
     },
     "metadata": {
      "needs_background": "light"
     },
     "output_type": "display_data"
    }
   ],
   "source": [
    "#определим зависимость цены от дня публикации\n",
    "data.pivot_table(index='day_public', values='last_price').plot(grid=True, style='o-', figsize=(6, 6))\n",
    "plt.title('Зависимость цены от дня публикации')\n",
    "plt.xlabel('день')\n",
    "plt.ylabel('цена')\n",
    "plt.show()"
   ]
  },
  {
   "cell_type": "code",
   "execution_count": 110,
   "id": "3136bfab-d7db-403f-9b8c-cf81bd62efb1",
   "metadata": {},
   "outputs": [
    {
     "data": {
      "image/png": "[encoded data removed]",
      "text/plain": [
       "<Figure size 360x360 with 1 Axes>"
      ]
     },
     "metadata": {
      "needs_background": "light"
     },
     "output_type": "display_data"
    }
   ],
   "source": [
    "#определим зависимость цены от месяца публикации\n",
    "data.pivot_table(index='month_public', values='last_price').plot(grid=True, style='o-', figsize=(5, 5))\n",
    "plt.title('Зависимость цены от дня публикации')\n",
    "plt.xlabel('месяц публикации')\n",
    "plt.ylabel('цена')\n",
    "plt.show()"
   ]
  },
  {
   "cell_type": "code",
   "execution_count": 111,
   "id": "ad807507-31f0-40d8-90ea-c42e83a50d28",
   "metadata": {},
   "outputs": [
    {
     "data": {
      "image/png": "[encoded data removed]",
      "text/plain": [
       "<Figure size 360x360 with 1 Axes>"
      ]
     },
     "metadata": {
      "needs_background": "light"
     },
     "output_type": "display_data"
    }
   ],
   "source": [
    "#определим зависимость цены от года публикации\n",
    "data.pivot_table(index='year_public', values='last_price').plot(grid=True, style='o-', figsize=(5, 5))\n",
    "plt.title('Зависимость цены от дня публикации')\n",
    "plt.xlabel('год публикации')\n",
    "plt.ylabel('цена')\n",
    "plt.show()"
   ]
  },
  {
   "cell_type": "markdown",
   "id": "86621a3b-be1a-4e8b-bfd7-3c575fb0c369",
   "metadata": {},
   "source": [
    "Общие выводы: Наблюдается прямая зависимость стоимости от жилой площади, общей площади и количества комнат\n",
    "Квартиры, расположенные на 1 этаже значительно дешевле остальных\n",
    "Цена слабо зависит от площади кухни и от дня публикации, однако наблюдаем тенденцию снижения стоимости квартир по годам, рост начался только в 2019"
   ]
  },
  {
   "cell_type": "markdown",
   "id": "fb5c08d1-e75d-4468-be16-c3b65204acdc",
   "metadata": {},
   "source": [
    "Посчитаем среднюю цену одного квадратного метра в 10 населённых пунктах с наибольшим числом объявлений"
   ]
  },
  {
   "cell_type": "code",
   "execution_count": 112,
   "id": "c53f9426-0ca1-47c3-8d09-23ecf0eb6a8e",
   "metadata": {},
   "outputs": [],
   "source": [
    "top_ten = data['locality_name'].value_counts() #посчитаем количество объявлений в каждом населенном пункте"
   ]
  },
  {
   "cell_type": "code",
   "execution_count": 113,
   "id": "3ddadc21-68d3-4e88-ba3b-9d99f9cce66d",
   "metadata": {},
   "outputs": [
    {
     "data": {
      "text/plain": [
       "санкт-петербург      15721\n",
       "посёлок мурино         556\n",
       "посёлок шушары         440\n",
       "всеволожск             398\n",
       "пушкин                 369\n",
       "колпино                338\n",
       "посёлок парголово      327\n",
       "гатчина                307\n",
       "деревня кудрово        299\n",
       "выборг                 237\n",
       "Name: locality_name, dtype: int64"
      ]
     },
     "execution_count": 113,
     "metadata": {},
     "output_type": "execute_result"
    }
   ],
   "source": [
    "top_ten.head(10)"
   ]
  },
  {
   "cell_type": "code",
   "execution_count": 114,
   "id": "cc079d85-24fb-4b21-8d8e-1373ff91b7e5",
   "metadata": {},
   "outputs": [],
   "source": [
    "#рассчитаем среднюю стоимость кв метра в каждом из населенных пунктов"
   ]
  },
  {
   "cell_type": "code",
   "execution_count": 115,
   "id": "89d8491c-366e-4038-989f-23e044177064",
   "metadata": {},
   "outputs": [
    {
     "data": {
      "text/html": [
       "<div>\n",
       "<style scoped>\n",
       "    .dataframe tbody tr th:only-of-type {\n",
       "        vertical-align: middle;\n",
       "    }\n",
       "\n",
       "    .dataframe tbody tr th {\n",
       "        vertical-align: top;\n",
       "    }\n",
       "\n",
       "    .dataframe thead th {\n",
       "        text-align: right;\n",
       "    }\n",
       "</style>\n",
       "<table border=\"1\" class=\"dataframe\">\n",
       "  <thead>\n",
       "    <tr style=\"text-align: right;\">\n",
       "      <th></th>\n",
       "      <th>count</th>\n",
       "      <th>price_on_one_metr</th>\n",
       "    </tr>\n",
       "    <tr>\n",
       "      <th>locality_name</th>\n",
       "      <th></th>\n",
       "      <th></th>\n",
       "    </tr>\n",
       "  </thead>\n",
       "  <tbody>\n",
       "    <tr>\n",
       "      <th>санкт-петербург</th>\n",
       "      <td>15721</td>\n",
       "      <td>114849.01</td>\n",
       "    </tr>\n",
       "    <tr>\n",
       "      <th>пушкин</th>\n",
       "      <td>369</td>\n",
       "      <td>103125.82</td>\n",
       "    </tr>\n",
       "    <tr>\n",
       "      <th>деревня кудрово</th>\n",
       "      <td>299</td>\n",
       "      <td>92473.55</td>\n",
       "    </tr>\n",
       "    <tr>\n",
       "      <th>посёлок парголово</th>\n",
       "      <td>327</td>\n",
       "      <td>90175.91</td>\n",
       "    </tr>\n",
       "    <tr>\n",
       "      <th>посёлок мурино</th>\n",
       "      <td>556</td>\n",
       "      <td>85681.76</td>\n",
       "    </tr>\n",
       "    <tr>\n",
       "      <th>посёлок шушары</th>\n",
       "      <td>440</td>\n",
       "      <td>78677.36</td>\n",
       "    </tr>\n",
       "    <tr>\n",
       "      <th>колпино</th>\n",
       "      <td>338</td>\n",
       "      <td>75424.58</td>\n",
       "    </tr>\n",
       "    <tr>\n",
       "      <th>гатчина</th>\n",
       "      <td>307</td>\n",
       "      <td>68746.15</td>\n",
       "    </tr>\n",
       "    <tr>\n",
       "      <th>всеволожск</th>\n",
       "      <td>398</td>\n",
       "      <td>68654.47</td>\n",
       "    </tr>\n",
       "    <tr>\n",
       "      <th>выборг</th>\n",
       "      <td>237</td>\n",
       "      <td>58141.91</td>\n",
       "    </tr>\n",
       "  </tbody>\n",
       "</table>\n",
       "</div>"
      ],
      "text/plain": [
       "                   count  price_on_one_metr\n",
       "locality_name                              \n",
       "санкт-петербург    15721          114849.01\n",
       "пушкин               369          103125.82\n",
       "деревня кудрово      299           92473.55\n",
       "посёлок парголово    327           90175.91\n",
       "посёлок мурино       556           85681.76\n",
       "посёлок шушары       440           78677.36\n",
       "колпино              338           75424.58\n",
       "гатчина              307           68746.15\n",
       "всеволожск           398           68654.47\n",
       "выборг               237           58141.91"
      ]
     },
     "execution_count": 115,
     "metadata": {},
     "output_type": "execute_result"
    }
   ],
   "source": [
    "top_ten = data.pivot_table(index='locality_name', values='last_price', aggfunc=['count'])\n",
    "top_ten.columns = ['count']\n",
    "top_ten = top_ten.sort_values(by='count', ascending=False).head(10)\n",
    "top_ten['price_on_one_metr'] = data.pivot_table(index='locality_name', values='price_on_one_metr').round(2)\n",
    "top_ten.sort_values(by='price_on_one_metr', ascending=False)"
   ]
  },
  {
   "cell_type": "markdown",
   "id": "f6d97839-5d36-47c4-9005-4f2890c5603a",
   "metadata": {},
   "source": [
    "Выводы: Наибольшая цена за квадратный метр в Санкт-Петербурге, Далее Пушкин и деревня Кудрово. Самая низкая стоимость в Выборге"
   ]
  },
  {
   "cell_type": "markdown",
   "id": "fc85413f-2ce4-436d-a3c3-d3ceedd7776b",
   "metadata": {},
   "source": [
    "Выделим квартиры в Санкт-Петербурге с помощью столбца `locality_name` и вычислим их среднюю стоимость на разном удалении от центра"
   ]
  },
  {
   "cell_type": "code",
   "execution_count": 116,
   "id": "2d0cf71b-1f45-4f3d-be19-9696e721c9a8",
   "metadata": {},
   "outputs": [
    {
     "data": {
      "text/plain": [
       "count    15660.000000\n",
       "mean        11.596041\n",
       "std          4.863594\n",
       "min          0.000000\n",
       "25%          8.000000\n",
       "50%         12.000000\n",
       "75%         15.000000\n",
       "max         29.000000\n",
       "Name: distance_to_centr_km, dtype: float64"
      ]
     },
     "execution_count": 116,
     "metadata": {},
     "output_type": "execute_result"
    }
   ],
   "source": [
    "data.query('locality_name == \"санкт-петербург\"')['distance_to_centr_km'].describe()"
   ]
  },
  {
   "cell_type": "code",
   "execution_count": 117,
   "id": "3c4193d2-08f3-45ef-87bf-b141ab72565f",
   "metadata": {},
   "outputs": [
    {
     "data": {
      "text/plain": [
       "Text(0, 0.5, 'Цена')"
      ]
     },
     "execution_count": 117,
     "metadata": {},
     "output_type": "execute_result"
    },
    {
     "data": {
      "image/png": "[encoded data removed]",
      "text/plain": [
       "<Figure size 720x360 with 1 Axes>"
      ]
     },
     "metadata": {
      "needs_background": "light"
     },
     "output_type": "display_data"
    }
   ],
   "source": [
    "data.query('locality_name == \"санкт-петербург\"').pivot_table(index='distance_to_centr_km', values='last_price').plot(style='o-', figsize=(10, 5))\n",
    "plt.title('Зависимость цены от удаления от центра Санкт-Петербурга')\n",
    "plt.xlabel('Расстояние до центра')\n",
    "plt.ylabel('Цена')"
   ]
  },
  {
   "cell_type": "code",
   "execution_count": 118,
   "id": "2d03eb53-4068-488c-84fe-458ca374b043",
   "metadata": {},
   "outputs": [
    {
     "data": {
      "text/html": [
       "<div>\n",
       "<style scoped>\n",
       "    .dataframe tbody tr th:only-of-type {\n",
       "        vertical-align: middle;\n",
       "    }\n",
       "\n",
       "    .dataframe tbody tr th {\n",
       "        vertical-align: top;\n",
       "    }\n",
       "\n",
       "    .dataframe thead th {\n",
       "        text-align: right;\n",
       "    }\n",
       "</style>\n",
       "<table border=\"1\" class=\"dataframe\">\n",
       "  <thead>\n",
       "    <tr style=\"text-align: right;\">\n",
       "      <th></th>\n",
       "      <th>last_price</th>\n",
       "    </tr>\n",
       "    <tr>\n",
       "      <th>distance_to_centr_km</th>\n",
       "      <th></th>\n",
       "    </tr>\n",
       "  </thead>\n",
       "  <tbody>\n",
       "    <tr>\n",
       "      <th>0.0</th>\n",
       "      <td>3.144912e+07</td>\n",
       "    </tr>\n",
       "    <tr>\n",
       "      <th>1.0</th>\n",
       "      <td>2.120672e+07</td>\n",
       "    </tr>\n",
       "    <tr>\n",
       "      <th>2.0</th>\n",
       "      <td>1.778832e+07</td>\n",
       "    </tr>\n",
       "    <tr>\n",
       "      <th>3.0</th>\n",
       "      <td>1.112658e+07</td>\n",
       "    </tr>\n",
       "    <tr>\n",
       "      <th>4.0</th>\n",
       "      <td>1.330428e+07</td>\n",
       "    </tr>\n",
       "    <tr>\n",
       "      <th>5.0</th>\n",
       "      <td>1.449912e+07</td>\n",
       "    </tr>\n",
       "    <tr>\n",
       "      <th>6.0</th>\n",
       "      <td>1.533842e+07</td>\n",
       "    </tr>\n",
       "    <tr>\n",
       "      <th>7.0</th>\n",
       "      <td>1.477515e+07</td>\n",
       "    </tr>\n",
       "    <tr>\n",
       "      <th>8.0</th>\n",
       "      <td>9.957717e+06</td>\n",
       "    </tr>\n",
       "    <tr>\n",
       "      <th>9.0</th>\n",
       "      <td>6.950659e+06</td>\n",
       "    </tr>\n",
       "    <tr>\n",
       "      <th>10.0</th>\n",
       "      <td>6.504119e+06</td>\n",
       "    </tr>\n",
       "    <tr>\n",
       "      <th>11.0</th>\n",
       "      <td>6.250815e+06</td>\n",
       "    </tr>\n",
       "    <tr>\n",
       "      <th>12.0</th>\n",
       "      <td>5.828545e+06</td>\n",
       "    </tr>\n",
       "    <tr>\n",
       "      <th>13.0</th>\n",
       "      <td>6.083141e+06</td>\n",
       "    </tr>\n",
       "    <tr>\n",
       "      <th>14.0</th>\n",
       "      <td>5.629101e+06</td>\n",
       "    </tr>\n",
       "    <tr>\n",
       "      <th>15.0</th>\n",
       "      <td>5.884751e+06</td>\n",
       "    </tr>\n",
       "    <tr>\n",
       "      <th>16.0</th>\n",
       "      <td>5.373131e+06</td>\n",
       "    </tr>\n",
       "    <tr>\n",
       "      <th>17.0</th>\n",
       "      <td>5.292395e+06</td>\n",
       "    </tr>\n",
       "    <tr>\n",
       "      <th>18.0</th>\n",
       "      <td>5.091331e+06</td>\n",
       "    </tr>\n",
       "    <tr>\n",
       "      <th>19.0</th>\n",
       "      <td>5.037675e+06</td>\n",
       "    </tr>\n",
       "    <tr>\n",
       "      <th>20.0</th>\n",
       "      <td>5.951465e+06</td>\n",
       "    </tr>\n",
       "    <tr>\n",
       "      <th>21.0</th>\n",
       "      <td>5.493469e+06</td>\n",
       "    </tr>\n",
       "    <tr>\n",
       "      <th>22.0</th>\n",
       "      <td>5.415524e+06</td>\n",
       "    </tr>\n",
       "    <tr>\n",
       "      <th>23.0</th>\n",
       "      <td>4.985376e+06</td>\n",
       "    </tr>\n",
       "    <tr>\n",
       "      <th>24.0</th>\n",
       "      <td>3.854430e+06</td>\n",
       "    </tr>\n",
       "    <tr>\n",
       "      <th>25.0</th>\n",
       "      <td>4.052840e+06</td>\n",
       "    </tr>\n",
       "    <tr>\n",
       "      <th>26.0</th>\n",
       "      <td>3.973013e+06</td>\n",
       "    </tr>\n",
       "    <tr>\n",
       "      <th>27.0</th>\n",
       "      <td>8.300000e+06</td>\n",
       "    </tr>\n",
       "    <tr>\n",
       "      <th>28.0</th>\n",
       "      <td>5.026429e+06</td>\n",
       "    </tr>\n",
       "    <tr>\n",
       "      <th>29.0</th>\n",
       "      <td>4.236667e+06</td>\n",
       "    </tr>\n",
       "  </tbody>\n",
       "</table>\n",
       "</div>"
      ],
      "text/plain": [
       "                        last_price\n",
       "distance_to_centr_km              \n",
       "0.0                   3.144912e+07\n",
       "1.0                   2.120672e+07\n",
       "2.0                   1.778832e+07\n",
       "3.0                   1.112658e+07\n",
       "4.0                   1.330428e+07\n",
       "5.0                   1.449912e+07\n",
       "6.0                   1.533842e+07\n",
       "7.0                   1.477515e+07\n",
       "8.0                   9.957717e+06\n",
       "9.0                   6.950659e+06\n",
       "10.0                  6.504119e+06\n",
       "11.0                  6.250815e+06\n",
       "12.0                  5.828545e+06\n",
       "13.0                  6.083141e+06\n",
       "14.0                  5.629101e+06\n",
       "15.0                  5.884751e+06\n",
       "16.0                  5.373131e+06\n",
       "17.0                  5.292395e+06\n",
       "18.0                  5.091331e+06\n",
       "19.0                  5.037675e+06\n",
       "20.0                  5.951465e+06\n",
       "21.0                  5.493469e+06\n",
       "22.0                  5.415524e+06\n",
       "23.0                  4.985376e+06\n",
       "24.0                  3.854430e+06\n",
       "25.0                  4.052840e+06\n",
       "26.0                  3.973013e+06\n",
       "27.0                  8.300000e+06\n",
       "28.0                  5.026429e+06\n",
       "29.0                  4.236667e+06"
      ]
     },
     "execution_count": 118,
     "metadata": {},
     "output_type": "execute_result"
    }
   ],
   "source": [
    "data.query('locality_name == \"санкт-петербург\"').pivot_table(values='last_price', index='distance_to_centr_km')"
   ]
  },
  {
   "cell_type": "markdown",
   "id": "1377a4d0-ccd1-421d-bb80-06efb08d504a",
   "metadata": {},
   "source": [
    "Вывод: наблюдаем прямую зависимость стоимости квартиры от удаления от центра Санкт-Петербурга"
   ]
  },
  {
   "cell_type": "markdown",
   "id": "335ce2db-0fb4-4845-8996-2dfd386442a8",
   "metadata": {},
   "source": [
    "Общий вывод:\n",
    "Изучили общую информацию о файле. Были найдены пропущенные значения и неверный тип данных, пропущенные заменили на 0, либо на медианное значени, тип данных был изменен. Явные дубликаты в датафрейме отсутствуют.\n",
    "Выполнили предобработку данных. Причины появления пропусков: человеческий фактор и, возможно, программный сбой.\n",
    "Больше всего на стоимость объекта недвижимости вляет общая и жилая площадь квартиры, чем она больше, тем стоимость выше.\n",
    "Также на стоимость влияет количество комнат и расстояние до центра города.\n",
    "Квартиры чаще вего продают за 45 или 60 дней.\n",
    "Среднее значение продажи составляет 180 дней, медианное 95 дней.\n",
    "К быстрым продажам можно отнести те сделки, которые были совершенны до 45 дней, необычно долгие более 231 дня.\n",
    "Посчитана средняя цена одного квадратного метра в 10 населённых пунктах с наибольшим числом объявлений. Наибольшая цена за квадратный метр в Санкт-Петербурге, Далее Пушкин и деревня Кудрово. Самая низкая стоимость в Выборге. \n",
    "Вычислена средняя стоимость квартиры от расстояния до центра Санкт-Петербурга. Чем ближе квартира к центру, тем она дороже."
   ]
  },
  {
   "cell_type": "code",
   "execution_count": null,
   "id": "e3f12cfb",
   "metadata": {},
   "outputs": [],
   "source": []
  }
 ],
 "metadata": {
  "ExecuteTimeLog": [
   {
    "duration": 119,
    "start_time": "2024-04-16T17:23:36.244Z"
   },
   {
    "duration": 0,
    "start_time": "2024-04-16T17:23:36.368Z"
   },
   {
    "duration": 0,
    "start_time": "2024-04-16T17:23:36.370Z"
   },
   {
    "duration": 0,
    "start_time": "2024-04-16T17:23:36.371Z"
   },
   {
    "duration": 0,
    "start_time": "2024-04-16T17:23:36.372Z"
   },
   {
    "duration": 0,
    "start_time": "2024-04-16T17:23:36.373Z"
   },
   {
    "duration": 0,
    "start_time": "2024-04-16T17:23:36.375Z"
   },
   {
    "duration": 0,
    "start_time": "2024-04-16T17:23:36.376Z"
   },
   {
    "duration": 0,
    "start_time": "2024-04-16T17:23:36.377Z"
   },
   {
    "duration": 0,
    "start_time": "2024-04-16T17:23:36.378Z"
   },
   {
    "duration": 0,
    "start_time": "2024-04-16T17:23:36.379Z"
   },
   {
    "duration": 0,
    "start_time": "2024-04-16T17:23:36.381Z"
   },
   {
    "duration": 0,
    "start_time": "2024-04-16T17:23:36.382Z"
   },
   {
    "duration": 0,
    "start_time": "2024-04-16T17:23:36.383Z"
   },
   {
    "duration": 0,
    "start_time": "2024-04-16T17:23:36.384Z"
   },
   {
    "duration": 0,
    "start_time": "2024-04-16T17:23:36.385Z"
   },
   {
    "duration": 0,
    "start_time": "2024-04-16T17:23:36.386Z"
   },
   {
    "duration": 0,
    "start_time": "2024-04-16T17:23:36.387Z"
   },
   {
    "duration": 0,
    "start_time": "2024-04-16T17:23:36.389Z"
   },
   {
    "duration": 0,
    "start_time": "2024-04-16T17:23:36.390Z"
   },
   {
    "duration": 0,
    "start_time": "2024-04-16T17:23:36.391Z"
   },
   {
    "duration": 0,
    "start_time": "2024-04-16T17:23:36.392Z"
   },
   {
    "duration": 0,
    "start_time": "2024-04-16T17:23:36.393Z"
   },
   {
    "duration": 0,
    "start_time": "2024-04-16T17:23:36.394Z"
   },
   {
    "duration": 0,
    "start_time": "2024-04-16T17:23:36.395Z"
   },
   {
    "duration": 0,
    "start_time": "2024-04-16T17:23:36.396Z"
   },
   {
    "duration": 0,
    "start_time": "2024-04-16T17:23:36.397Z"
   },
   {
    "duration": 0,
    "start_time": "2024-04-16T17:23:36.398Z"
   },
   {
    "duration": 0,
    "start_time": "2024-04-16T17:23:36.399Z"
   },
   {
    "duration": 0,
    "start_time": "2024-04-16T17:23:36.401Z"
   },
   {
    "duration": 0,
    "start_time": "2024-04-16T17:23:36.402Z"
   },
   {
    "duration": 0,
    "start_time": "2024-04-16T17:23:36.403Z"
   },
   {
    "duration": 0,
    "start_time": "2024-04-16T17:23:36.404Z"
   },
   {
    "duration": 0,
    "start_time": "2024-04-16T17:23:36.405Z"
   },
   {
    "duration": 0,
    "start_time": "2024-04-16T17:23:36.406Z"
   },
   {
    "duration": 0,
    "start_time": "2024-04-16T17:23:36.407Z"
   },
   {
    "duration": 0,
    "start_time": "2024-04-16T17:23:36.409Z"
   },
   {
    "duration": 0,
    "start_time": "2024-04-16T17:23:36.410Z"
   },
   {
    "duration": 0,
    "start_time": "2024-04-16T17:23:36.473Z"
   },
   {
    "duration": 0,
    "start_time": "2024-04-16T17:23:36.474Z"
   },
   {
    "duration": 0,
    "start_time": "2024-04-16T17:23:36.475Z"
   },
   {
    "duration": 0,
    "start_time": "2024-04-16T17:23:36.476Z"
   },
   {
    "duration": 0,
    "start_time": "2024-04-16T17:23:36.477Z"
   },
   {
    "duration": 0,
    "start_time": "2024-04-16T17:23:36.478Z"
   },
   {
    "duration": 0,
    "start_time": "2024-04-16T17:23:36.480Z"
   },
   {
    "duration": 0,
    "start_time": "2024-04-16T17:23:36.481Z"
   },
   {
    "duration": 0,
    "start_time": "2024-04-16T17:23:36.482Z"
   },
   {
    "duration": 0,
    "start_time": "2024-04-16T17:23:36.483Z"
   },
   {
    "duration": 0,
    "start_time": "2024-04-16T17:23:36.484Z"
   },
   {
    "duration": 0,
    "start_time": "2024-04-16T17:23:36.485Z"
   },
   {
    "duration": 0,
    "start_time": "2024-04-16T17:23:36.486Z"
   },
   {
    "duration": 0,
    "start_time": "2024-04-16T17:23:36.487Z"
   },
   {
    "duration": 0,
    "start_time": "2024-04-16T17:23:36.488Z"
   },
   {
    "duration": 0,
    "start_time": "2024-04-16T17:23:36.489Z"
   },
   {
    "duration": 0,
    "start_time": "2024-04-16T17:23:36.490Z"
   },
   {
    "duration": 0,
    "start_time": "2024-04-16T17:23:36.492Z"
   },
   {
    "duration": 0,
    "start_time": "2024-04-16T17:23:36.492Z"
   },
   {
    "duration": 0,
    "start_time": "2024-04-16T17:23:36.494Z"
   },
   {
    "duration": 0,
    "start_time": "2024-04-16T17:23:36.495Z"
   },
   {
    "duration": 0,
    "start_time": "2024-04-16T17:23:36.496Z"
   },
   {
    "duration": 0,
    "start_time": "2024-04-16T17:23:36.497Z"
   },
   {
    "duration": 0,
    "start_time": "2024-04-16T17:23:36.498Z"
   },
   {
    "duration": 0,
    "start_time": "2024-04-16T17:23:36.499Z"
   },
   {
    "duration": 0,
    "start_time": "2024-04-16T17:23:36.500Z"
   },
   {
    "duration": 0,
    "start_time": "2024-04-16T17:23:36.501Z"
   },
   {
    "duration": 0,
    "start_time": "2024-04-16T17:23:36.502Z"
   },
   {
    "duration": 0,
    "start_time": "2024-04-16T17:23:36.503Z"
   },
   {
    "duration": 0,
    "start_time": "2024-04-16T17:23:36.505Z"
   },
   {
    "duration": 0,
    "start_time": "2024-04-16T17:23:36.506Z"
   },
   {
    "duration": 0,
    "start_time": "2024-04-16T17:23:36.507Z"
   },
   {
    "duration": 0,
    "start_time": "2024-04-16T17:23:36.508Z"
   },
   {
    "duration": 0,
    "start_time": "2024-04-16T17:23:36.509Z"
   },
   {
    "duration": 0,
    "start_time": "2024-04-16T17:23:36.510Z"
   },
   {
    "duration": 0,
    "start_time": "2024-04-16T17:23:36.511Z"
   },
   {
    "duration": 0,
    "start_time": "2024-04-16T17:23:36.573Z"
   },
   {
    "duration": 0,
    "start_time": "2024-04-16T17:23:36.575Z"
   },
   {
    "duration": 0,
    "start_time": "2024-04-16T17:23:36.576Z"
   },
   {
    "duration": 0,
    "start_time": "2024-04-16T17:23:36.577Z"
   },
   {
    "duration": 0,
    "start_time": "2024-04-16T17:23:36.578Z"
   },
   {
    "duration": 0,
    "start_time": "2024-04-16T17:23:36.579Z"
   },
   {
    "duration": 0,
    "start_time": "2024-04-16T17:23:36.580Z"
   },
   {
    "duration": 0,
    "start_time": "2024-04-16T17:23:36.581Z"
   },
   {
    "duration": 0,
    "start_time": "2024-04-16T17:23:36.582Z"
   },
   {
    "duration": 0,
    "start_time": "2024-04-16T17:23:36.584Z"
   },
   {
    "duration": 0,
    "start_time": "2024-04-16T17:23:36.585Z"
   },
   {
    "duration": 0,
    "start_time": "2024-04-16T17:23:36.586Z"
   },
   {
    "duration": 0,
    "start_time": "2024-04-16T17:23:36.587Z"
   },
   {
    "duration": 0,
    "start_time": "2024-04-16T17:23:36.588Z"
   },
   {
    "duration": 0,
    "start_time": "2024-04-16T17:23:36.589Z"
   },
   {
    "duration": 0,
    "start_time": "2024-04-16T17:23:36.591Z"
   },
   {
    "duration": 0,
    "start_time": "2024-04-16T17:23:36.592Z"
   },
   {
    "duration": 0,
    "start_time": "2024-04-16T17:23:36.593Z"
   },
   {
    "duration": 0,
    "start_time": "2024-04-16T17:23:36.594Z"
   },
   {
    "duration": 0,
    "start_time": "2024-04-16T17:23:36.595Z"
   },
   {
    "duration": 0,
    "start_time": "2024-04-16T17:23:36.596Z"
   },
   {
    "duration": 0,
    "start_time": "2024-04-16T17:23:36.597Z"
   },
   {
    "duration": 0,
    "start_time": "2024-04-16T17:23:36.598Z"
   },
   {
    "duration": 0,
    "start_time": "2024-04-16T17:23:36.599Z"
   },
   {
    "duration": 0,
    "start_time": "2024-04-16T17:23:36.600Z"
   },
   {
    "duration": 0,
    "start_time": "2024-04-16T17:23:36.601Z"
   },
   {
    "duration": 0,
    "start_time": "2024-04-16T17:23:36.602Z"
   },
   {
    "duration": 0,
    "start_time": "2024-04-16T17:23:36.603Z"
   },
   {
    "duration": 0,
    "start_time": "2024-04-16T17:23:36.604Z"
   },
   {
    "duration": 0,
    "start_time": "2024-04-16T17:23:36.605Z"
   },
   {
    "duration": 0,
    "start_time": "2024-04-16T17:23:36.606Z"
   },
   {
    "duration": 0,
    "start_time": "2024-04-16T17:23:36.608Z"
   },
   {
    "duration": 0,
    "start_time": "2024-04-16T17:23:36.608Z"
   },
   {
    "duration": 0,
    "start_time": "2024-04-16T17:23:36.674Z"
   },
   {
    "duration": 0,
    "start_time": "2024-04-16T17:23:36.675Z"
   },
   {
    "duration": 0,
    "start_time": "2024-04-16T17:23:36.676Z"
   },
   {
    "duration": 0,
    "start_time": "2024-04-16T17:23:36.678Z"
   },
   {
    "duration": 0,
    "start_time": "2024-04-16T17:23:36.678Z"
   },
   {
    "duration": 0,
    "start_time": "2024-04-16T17:23:36.680Z"
   },
   {
    "duration": 0,
    "start_time": "2024-04-16T17:23:36.681Z"
   },
   {
    "duration": 0,
    "start_time": "2024-04-16T17:23:36.683Z"
   },
   {
    "duration": 82,
    "start_time": "2024-04-18T12:34:36.231Z"
   },
   {
    "duration": 759,
    "start_time": "2024-04-18T14:32:10.788Z"
   },
   {
    "duration": 208,
    "start_time": "2024-04-18T14:32:11.549Z"
   },
   {
    "duration": 31,
    "start_time": "2024-04-18T14:32:11.759Z"
   },
   {
    "duration": 14,
    "start_time": "2024-04-18T14:32:11.792Z"
   },
   {
    "duration": 28,
    "start_time": "2024-04-18T14:32:11.807Z"
   },
   {
    "duration": 1930,
    "start_time": "2024-04-18T14:32:11.837Z"
   },
   {
    "duration": 13,
    "start_time": "2024-04-18T14:32:13.769Z"
   },
   {
    "duration": 3,
    "start_time": "2024-04-18T14:32:13.784Z"
   },
   {
    "duration": 11,
    "start_time": "2024-04-18T14:32:13.788Z"
   },
   {
    "duration": 2,
    "start_time": "2024-04-18T14:32:13.803Z"
   },
   {
    "duration": 11,
    "start_time": "2024-04-18T14:32:13.806Z"
   },
   {
    "duration": 10,
    "start_time": "2024-04-18T14:32:13.819Z"
   },
   {
    "duration": 5,
    "start_time": "2024-04-18T14:32:13.831Z"
   },
   {
    "duration": 15,
    "start_time": "2024-04-18T14:32:13.838Z"
   },
   {
    "duration": 14,
    "start_time": "2024-04-18T14:32:13.854Z"
   },
   {
    "duration": 11,
    "start_time": "2024-04-18T14:32:13.869Z"
   },
   {
    "duration": 5,
    "start_time": "2024-04-18T14:32:13.881Z"
   },
   {
    "duration": 4,
    "start_time": "2024-04-18T14:32:13.887Z"
   },
   {
    "duration": 8,
    "start_time": "2024-04-18T14:32:13.892Z"
   },
   {
    "duration": 8,
    "start_time": "2024-04-18T14:32:13.901Z"
   },
   {
    "duration": 6,
    "start_time": "2024-04-18T14:32:13.911Z"
   },
   {
    "duration": 9,
    "start_time": "2024-04-18T14:32:13.918Z"
   },
   {
    "duration": 26,
    "start_time": "2024-04-18T14:32:13.928Z"
   },
   {
    "duration": 4,
    "start_time": "2024-04-18T14:32:13.956Z"
   },
   {
    "duration": 16,
    "start_time": "2024-04-18T14:32:13.961Z"
   },
   {
    "duration": 36,
    "start_time": "2024-04-18T14:32:13.978Z"
   },
   {
    "duration": 6,
    "start_time": "2024-04-18T14:32:14.016Z"
   },
   {
    "duration": 5,
    "start_time": "2024-04-18T14:32:14.026Z"
   },
   {
    "duration": 17,
    "start_time": "2024-04-18T14:32:14.032Z"
   },
   {
    "duration": 6,
    "start_time": "2024-04-18T14:32:14.051Z"
   },
   {
    "duration": 7,
    "start_time": "2024-04-18T14:32:14.058Z"
   },
   {
    "duration": 12,
    "start_time": "2024-04-18T14:32:14.067Z"
   },
   {
    "duration": 14,
    "start_time": "2024-04-18T14:32:14.080Z"
   },
   {
    "duration": 4,
    "start_time": "2024-04-18T14:32:14.095Z"
   },
   {
    "duration": 13,
    "start_time": "2024-04-18T14:32:14.101Z"
   },
   {
    "duration": 5,
    "start_time": "2024-04-18T14:32:14.115Z"
   },
   {
    "duration": 19,
    "start_time": "2024-04-18T14:32:14.121Z"
   },
   {
    "duration": 4,
    "start_time": "2024-04-18T14:32:14.141Z"
   },
   {
    "duration": 7,
    "start_time": "2024-04-18T14:32:14.147Z"
   },
   {
    "duration": 7,
    "start_time": "2024-04-18T14:32:14.155Z"
   },
   {
    "duration": 20,
    "start_time": "2024-04-18T14:32:14.163Z"
   },
   {
    "duration": 12,
    "start_time": "2024-04-18T14:32:14.184Z"
   },
   {
    "duration": 16,
    "start_time": "2024-04-18T14:32:14.197Z"
   },
   {
    "duration": 17,
    "start_time": "2024-04-18T14:32:14.214Z"
   },
   {
    "duration": 3,
    "start_time": "2024-04-18T14:32:14.232Z"
   },
   {
    "duration": 18,
    "start_time": "2024-04-18T14:32:14.236Z"
   },
   {
    "duration": 6,
    "start_time": "2024-04-18T14:32:14.255Z"
   },
   {
    "duration": 6,
    "start_time": "2024-04-18T14:32:14.262Z"
   },
   {
    "duration": 4,
    "start_time": "2024-04-18T14:32:14.270Z"
   },
   {
    "duration": 10,
    "start_time": "2024-04-18T14:32:14.276Z"
   },
   {
    "duration": 3,
    "start_time": "2024-04-18T14:32:14.287Z"
   },
   {
    "duration": 14,
    "start_time": "2024-04-18T14:32:14.291Z"
   },
   {
    "duration": 49,
    "start_time": "2024-04-18T14:32:14.306Z"
   },
   {
    "duration": 27,
    "start_time": "2024-04-18T14:32:14.356Z"
   },
   {
    "duration": 2,
    "start_time": "2024-04-18T14:32:14.385Z"
   },
   {
    "duration": 10,
    "start_time": "2024-04-18T14:32:14.388Z"
   },
   {
    "duration": 13,
    "start_time": "2024-04-18T14:32:14.399Z"
   },
   {
    "duration": 19,
    "start_time": "2024-04-18T14:32:14.413Z"
   },
   {
    "duration": 32,
    "start_time": "2024-04-18T14:32:14.433Z"
   },
   {
    "duration": 7,
    "start_time": "2024-04-18T14:32:14.466Z"
   },
   {
    "duration": 14,
    "start_time": "2024-04-18T14:32:14.475Z"
   },
   {
    "duration": 314,
    "start_time": "2024-04-18T14:32:14.491Z"
   },
   {
    "duration": 24,
    "start_time": "2024-04-18T14:32:14.807Z"
   },
   {
    "duration": 3,
    "start_time": "2024-04-18T14:32:14.832Z"
   },
   {
    "duration": 4,
    "start_time": "2024-04-18T14:32:14.853Z"
   },
   {
    "duration": 47,
    "start_time": "2024-04-18T14:32:14.858Z"
   },
   {
    "duration": 3,
    "start_time": "2024-04-18T14:32:14.907Z"
   },
   {
    "duration": 14,
    "start_time": "2024-04-18T14:32:14.911Z"
   },
   {
    "duration": 245,
    "start_time": "2024-04-18T14:32:14.926Z"
   },
   {
    "duration": 3,
    "start_time": "2024-04-18T14:32:15.172Z"
   },
   {
    "duration": 456,
    "start_time": "2024-04-18T14:32:15.177Z"
   },
   {
    "duration": 8,
    "start_time": "2024-04-18T14:32:15.635Z"
   },
   {
    "duration": 235,
    "start_time": "2024-04-18T14:32:15.653Z"
   },
   {
    "duration": 3,
    "start_time": "2024-04-18T14:32:15.889Z"
   },
   {
    "duration": 12,
    "start_time": "2024-04-18T14:32:15.893Z"
   },
   {
    "duration": 265,
    "start_time": "2024-04-18T14:32:15.908Z"
   },
   {
    "duration": 8,
    "start_time": "2024-04-18T14:32:16.175Z"
   },
   {
    "duration": 255,
    "start_time": "2024-04-18T14:32:16.185Z"
   },
   {
    "duration": 14,
    "start_time": "2024-04-18T14:32:16.441Z"
   },
   {
    "duration": 144,
    "start_time": "2024-04-18T14:32:16.456Z"
   },
   {
    "duration": 9,
    "start_time": "2024-04-18T14:32:16.601Z"
   },
   {
    "duration": 217,
    "start_time": "2024-04-18T14:32:16.615Z"
   },
   {
    "duration": 2,
    "start_time": "2024-04-18T14:32:16.833Z"
   },
   {
    "duration": 30,
    "start_time": "2024-04-18T14:32:16.837Z"
   },
   {
    "duration": 155,
    "start_time": "2024-04-18T14:32:16.869Z"
   },
   {
    "duration": 9,
    "start_time": "2024-04-18T14:32:17.026Z"
   },
   {
    "duration": 21,
    "start_time": "2024-04-18T14:32:17.037Z"
   },
   {
    "duration": 147,
    "start_time": "2024-04-18T14:32:17.059Z"
   },
   {
    "duration": 8,
    "start_time": "2024-04-18T14:32:17.207Z"
   },
   {
    "duration": 332,
    "start_time": "2024-04-18T14:32:17.217Z"
   },
   {
    "duration": 8,
    "start_time": "2024-04-18T14:32:17.552Z"
   },
   {
    "duration": 248,
    "start_time": "2024-04-18T14:32:17.561Z"
   },
   {
    "duration": 9,
    "start_time": "2024-04-18T14:32:17.811Z"
   },
   {
    "duration": 254,
    "start_time": "2024-04-18T14:32:17.821Z"
   },
   {
    "duration": 2,
    "start_time": "2024-04-18T14:32:18.077Z"
   },
   {
    "duration": 18,
    "start_time": "2024-04-18T14:32:18.080Z"
   },
   {
    "duration": 242,
    "start_time": "2024-04-18T14:32:18.100Z"
   },
   {
    "duration": 2,
    "start_time": "2024-04-18T14:32:18.344Z"
   },
   {
    "duration": 231,
    "start_time": "2024-04-18T14:32:18.352Z"
   },
   {
    "duration": 2,
    "start_time": "2024-04-18T14:32:18.584Z"
   },
   {
    "duration": 35,
    "start_time": "2024-04-18T14:32:18.588Z"
   },
   {
    "duration": 148,
    "start_time": "2024-04-18T14:32:18.624Z"
   },
   {
    "duration": 249,
    "start_time": "2024-04-18T14:32:18.773Z"
   },
   {
    "duration": 148,
    "start_time": "2024-04-18T14:32:19.023Z"
   },
   {
    "duration": 218,
    "start_time": "2024-04-18T14:32:19.173Z"
   },
   {
    "duration": 145,
    "start_time": "2024-04-18T14:32:19.393Z"
   },
   {
    "duration": 170,
    "start_time": "2024-04-18T14:32:19.540Z"
   },
   {
    "duration": 167,
    "start_time": "2024-04-18T14:32:19.712Z"
   },
   {
    "duration": 157,
    "start_time": "2024-04-18T14:32:19.881Z"
   },
   {
    "duration": 13,
    "start_time": "2024-04-18T14:32:20.040Z"
   },
   {
    "duration": 42,
    "start_time": "2024-04-18T14:32:20.054Z"
   },
   {
    "duration": 25,
    "start_time": "2024-04-18T14:32:20.098Z"
   },
   {
    "duration": 95,
    "start_time": "2024-04-18T14:32:20.125Z"
   },
   {
    "duration": 0,
    "start_time": "2024-04-18T14:32:20.221Z"
   },
   {
    "duration": 0,
    "start_time": "2024-04-18T14:32:20.223Z"
   },
   {
    "duration": 0,
    "start_time": "2024-04-18T14:32:20.224Z"
   },
   {
    "duration": 47,
    "start_time": "2024-04-21T13:27:33.014Z"
   },
   {
    "duration": 6,
    "start_time": "2024-04-21T13:27:46.047Z"
   },
   {
    "duration": 2,
    "start_time": "2024-04-21T13:28:09.779Z"
   },
   {
    "duration": 6,
    "start_time": "2024-04-21T13:28:09.931Z"
   },
   {
    "duration": 7,
    "start_time": "2024-04-21T13:28:10.192Z"
   },
   {
    "duration": 769,
    "start_time": "2024-04-21T13:28:21.540Z"
   },
   {
    "duration": 185,
    "start_time": "2024-04-21T13:28:22.311Z"
   },
   {
    "duration": 29,
    "start_time": "2024-04-21T13:28:22.693Z"
   },
   {
    "duration": 18,
    "start_time": "2024-04-21T13:28:22.831Z"
   },
   {
    "duration": 29,
    "start_time": "2024-04-21T13:28:22.978Z"
   },
   {
    "duration": 1967,
    "start_time": "2024-04-21T13:28:23.128Z"
   },
   {
    "duration": 10,
    "start_time": "2024-04-21T13:28:25.097Z"
   },
   {
    "duration": 2,
    "start_time": "2024-04-21T13:28:25.108Z"
   },
   {
    "duration": 10,
    "start_time": "2024-04-21T13:28:25.112Z"
   },
   {
    "duration": 2,
    "start_time": "2024-04-21T13:28:25.124Z"
   },
   {
    "duration": 7,
    "start_time": "2024-04-21T13:28:25.127Z"
   },
   {
    "duration": 3,
    "start_time": "2024-04-21T13:28:25.135Z"
   },
   {
    "duration": 4,
    "start_time": "2024-04-21T13:28:25.139Z"
   },
   {
    "duration": 5,
    "start_time": "2024-04-21T13:28:25.145Z"
   },
   {
    "duration": 20,
    "start_time": "2024-04-21T13:28:25.152Z"
   },
   {
    "duration": 3,
    "start_time": "2024-04-21T13:28:25.174Z"
   },
   {
    "duration": 36,
    "start_time": "2024-04-21T13:28:25.179Z"
   },
   {
    "duration": 4,
    "start_time": "2024-04-21T13:28:25.218Z"
   },
   {
    "duration": 4,
    "start_time": "2024-04-21T13:28:25.334Z"
   },
   {
    "duration": 8,
    "start_time": "2024-04-21T13:28:25.491Z"
   },
   {
    "duration": 2,
    "start_time": "2024-04-21T13:28:25.618Z"
   },
   {
    "duration": 7,
    "start_time": "2024-04-21T13:28:25.759Z"
   },
   {
    "duration": 7,
    "start_time": "2024-04-21T13:28:29.434Z"
   },
   {
    "duration": 5,
    "start_time": "2024-04-21T13:28:29.576Z"
   },
   {
    "duration": 4,
    "start_time": "2024-04-21T13:28:29.727Z"
   },
   {
    "duration": 3,
    "start_time": "2024-04-21T13:28:29.879Z"
   },
   {
    "duration": 2,
    "start_time": "2024-04-21T13:28:30.180Z"
   },
   {
    "duration": 5,
    "start_time": "2024-04-21T13:28:30.318Z"
   },
   {
    "duration": 3,
    "start_time": "2024-04-21T13:28:30.465Z"
   },
   {
    "duration": 4,
    "start_time": "2024-04-21T13:28:30.593Z"
   },
   {
    "duration": 16,
    "start_time": "2024-04-21T13:28:30.689Z"
   },
   {
    "duration": 7,
    "start_time": "2024-04-21T13:28:30.914Z"
   },
   {
    "duration": 8,
    "start_time": "2024-04-21T13:28:31.117Z"
   },
   {
    "duration": 9,
    "start_time": "2024-04-21T13:28:31.262Z"
   },
   {
    "duration": 10,
    "start_time": "2024-04-21T13:28:31.440Z"
   },
   {
    "duration": 5,
    "start_time": "2024-04-21T13:28:31.551Z"
   },
   {
    "duration": 4,
    "start_time": "2024-04-21T13:28:31.876Z"
   },
   {
    "duration": 3,
    "start_time": "2024-04-21T13:28:32.024Z"
   },
   {
    "duration": 6,
    "start_time": "2024-04-21T13:28:32.169Z"
   },
   {
    "duration": 2,
    "start_time": "2024-04-21T13:28:32.444Z"
   },
   {
    "duration": 14,
    "start_time": "2024-04-21T13:28:32.571Z"
   },
   {
    "duration": 10,
    "start_time": "2024-04-21T13:28:32.699Z"
   },
   {
    "duration": 16,
    "start_time": "2024-04-21T13:28:32.920Z"
   },
   {
    "duration": 9,
    "start_time": "2024-04-21T13:28:33.097Z"
   },
   {
    "duration": 2,
    "start_time": "2024-04-21T13:28:33.363Z"
   },
   {
    "duration": 7,
    "start_time": "2024-04-21T13:28:33.477Z"
   },
   {
    "duration": 8,
    "start_time": "2024-04-21T13:28:33.867Z"
   },
   {
    "duration": 7,
    "start_time": "2024-04-21T13:28:34.066Z"
   },
   {
    "duration": 3,
    "start_time": "2024-04-21T13:28:34.219Z"
   },
   {
    "duration": 9,
    "start_time": "2024-04-21T13:28:34.396Z"
   },
   {
    "duration": 3,
    "start_time": "2024-04-21T13:28:34.840Z"
   },
   {
    "duration": 4,
    "start_time": "2024-04-21T13:28:34.975Z"
   },
   {
    "duration": 29,
    "start_time": "2024-04-21T13:28:35.122Z"
   },
   {
    "duration": 31,
    "start_time": "2024-04-21T13:28:35.278Z"
   },
   {
    "duration": 3,
    "start_time": "2024-04-21T13:28:35.443Z"
   },
   {
    "duration": 6,
    "start_time": "2024-04-21T13:28:35.607Z"
   },
   {
    "duration": 6,
    "start_time": "2024-04-21T13:28:35.778Z"
   },
   {
    "duration": 5,
    "start_time": "2024-04-21T13:28:35.925Z"
   },
   {
    "duration": 27,
    "start_time": "2024-04-21T13:28:36.088Z"
   },
   {
    "duration": 2,
    "start_time": "2024-04-21T13:28:36.241Z"
   },
   {
    "duration": 5,
    "start_time": "2024-04-21T13:28:36.373Z"
   },
   {
    "duration": 330,
    "start_time": "2024-04-21T13:28:36.584Z"
   },
   {
    "duration": 26,
    "start_time": "2024-04-21T13:28:36.916Z"
   },
   {
    "duration": 25,
    "start_time": "2024-04-21T13:28:36.943Z"
   },
   {
    "duration": 4,
    "start_time": "2024-04-21T13:28:37.024Z"
   },
   {
    "duration": 23,
    "start_time": "2024-04-21T13:28:37.168Z"
   },
   {
    "duration": 8,
    "start_time": "2024-04-21T13:28:37.514Z"
   },
   {
    "duration": 8,
    "start_time": "2024-04-21T13:28:37.682Z"
   },
   {
    "duration": 255,
    "start_time": "2024-04-21T13:28:37.844Z"
   },
   {
    "duration": 2,
    "start_time": "2024-04-21T13:28:38.101Z"
   },
   {
    "duration": 314,
    "start_time": "2024-04-21T13:28:38.160Z"
   },
   {
    "duration": 10,
    "start_time": "2024-04-21T13:28:38.476Z"
   },
   {
    "duration": 228,
    "start_time": "2024-04-21T13:28:38.620Z"
   },
   {
    "duration": 2,
    "start_time": "2024-04-21T13:28:39.003Z"
   },
   {
    "duration": 11,
    "start_time": "2024-04-21T13:28:39.161Z"
   },
   {
    "duration": 251,
    "start_time": "2024-04-21T13:28:39.312Z"
   },
   {
    "duration": 7,
    "start_time": "2024-04-21T13:28:39.617Z"
   },
   {
    "duration": 240,
    "start_time": "2024-04-21T13:28:39.768Z"
   },
   {
    "duration": 10,
    "start_time": "2024-04-21T13:28:40.010Z"
   },
   {
    "duration": 134,
    "start_time": "2024-04-21T13:28:40.138Z"
   },
   {
    "duration": 9,
    "start_time": "2024-04-21T13:28:40.421Z"
   },
   {
    "duration": 184,
    "start_time": "2024-04-21T13:28:40.602Z"
   },
   {
    "duration": 2,
    "start_time": "2024-04-21T13:28:40.917Z"
   },
   {
    "duration": 8,
    "start_time": "2024-04-21T13:28:41.062Z"
   },
   {
    "duration": 144,
    "start_time": "2024-04-21T13:28:41.201Z"
   },
   {
    "duration": 9,
    "start_time": "2024-04-21T13:28:41.550Z"
   },
   {
    "duration": 7,
    "start_time": "2024-04-21T13:28:41.733Z"
   },
   {
    "duration": 128,
    "start_time": "2024-04-21T13:28:41.855Z"
   },
   {
    "duration": 8,
    "start_time": "2024-04-21T13:28:42.196Z"
   },
   {
    "duration": 324,
    "start_time": "2024-04-21T13:28:42.366Z"
   },
   {
    "duration": 9,
    "start_time": "2024-04-21T13:28:42.691Z"
   },
   {
    "duration": 238,
    "start_time": "2024-04-21T13:28:42.809Z"
   },
   {
    "duration": 9,
    "start_time": "2024-04-21T13:28:43.247Z"
   },
   {
    "duration": 226,
    "start_time": "2024-04-21T13:28:43.425Z"
   },
   {
    "duration": 2,
    "start_time": "2024-04-21T13:28:44.052Z"
   },
   {
    "duration": 9,
    "start_time": "2024-04-21T13:28:44.208Z"
   },
   {
    "duration": 237,
    "start_time": "2024-04-21T13:28:44.356Z"
   },
   {
    "duration": 2,
    "start_time": "2024-04-21T13:28:44.595Z"
   },
   {
    "duration": 249,
    "start_time": "2024-04-21T13:28:44.735Z"
   },
   {
    "duration": 2,
    "start_time": "2024-04-21T13:28:45.401Z"
   },
   {
    "duration": 27,
    "start_time": "2024-04-21T13:28:45.551Z"
   },
   {
    "duration": 137,
    "start_time": "2024-04-21T13:28:46.192Z"
   },
   {
    "duration": 230,
    "start_time": "2024-04-21T13:28:46.530Z"
   },
   {
    "duration": 140,
    "start_time": "2024-04-21T13:28:46.849Z"
   },
   {
    "duration": 205,
    "start_time": "2024-04-21T13:28:47.242Z"
   },
   {
    "duration": 135,
    "start_time": "2024-04-21T13:28:47.594Z"
   },
   {
    "duration": 178,
    "start_time": "2024-04-21T13:28:48.089Z"
   },
   {
    "duration": 159,
    "start_time": "2024-04-21T13:28:48.286Z"
   },
   {
    "duration": 161,
    "start_time": "2024-04-21T13:28:48.471Z"
   },
   {
    "duration": 6,
    "start_time": "2024-04-21T13:28:49.150Z"
   },
   {
    "duration": 5,
    "start_time": "2024-04-21T13:28:49.295Z"
   },
   {
    "duration": 2,
    "start_time": "2024-04-21T13:28:49.489Z"
   },
   {
    "duration": 47,
    "start_time": "2024-04-21T13:28:49.635Z"
   },
   {
    "duration": 13,
    "start_time": "2024-04-21T13:28:50.347Z"
   },
   {
    "duration": 157,
    "start_time": "2024-04-21T13:28:50.535Z"
   },
   {
    "duration": 20,
    "start_time": "2024-04-21T13:28:50.720Z"
   },
   {
    "duration": 4,
    "start_time": "2024-04-21T13:29:07.853Z"
   },
   {
    "duration": 4,
    "start_time": "2024-04-21T13:29:56.642Z"
   },
   {
    "duration": 3,
    "start_time": "2024-04-21T13:33:11.249Z"
   },
   {
    "duration": 7,
    "start_time": "2024-04-21T13:33:18.243Z"
   },
   {
    "duration": 7,
    "start_time": "2024-04-21T13:33:22.346Z"
   },
   {
    "duration": 7,
    "start_time": "2024-04-21T13:33:26.623Z"
   },
   {
    "duration": 7,
    "start_time": "2024-04-21T13:33:32.817Z"
   },
   {
    "duration": 8,
    "start_time": "2024-04-21T13:33:32.991Z"
   },
   {
    "duration": 7,
    "start_time": "2024-04-21T13:33:33.282Z"
   },
   {
    "duration": 7,
    "start_time": "2024-04-21T13:33:33.424Z"
   },
   {
    "duration": 637,
    "start_time": "2024-04-21T13:33:52.813Z"
   },
   {
    "duration": 211,
    "start_time": "2024-04-21T13:33:53.452Z"
   },
   {
    "duration": 27,
    "start_time": "2024-04-21T13:33:53.664Z"
   },
   {
    "duration": 21,
    "start_time": "2024-04-21T13:33:53.693Z"
   },
   {
    "duration": 21,
    "start_time": "2024-04-21T13:33:53.716Z"
   },
   {
    "duration": 1949,
    "start_time": "2024-04-21T13:33:53.738Z"
   },
   {
    "duration": 10,
    "start_time": "2024-04-21T13:33:55.688Z"
   },
   {
    "duration": 3,
    "start_time": "2024-04-21T13:33:55.699Z"
   },
   {
    "duration": 14,
    "start_time": "2024-04-21T13:33:55.704Z"
   },
   {
    "duration": 3,
    "start_time": "2024-04-21T13:33:55.721Z"
   },
   {
    "duration": 5,
    "start_time": "2024-04-21T13:33:55.725Z"
   },
   {
    "duration": 4,
    "start_time": "2024-04-21T13:33:55.731Z"
   },
   {
    "duration": 5,
    "start_time": "2024-04-21T13:33:55.736Z"
   },
   {
    "duration": 4,
    "start_time": "2024-04-21T13:33:55.743Z"
   },
   {
    "duration": 18,
    "start_time": "2024-04-21T13:33:55.748Z"
   },
   {
    "duration": 4,
    "start_time": "2024-04-21T13:33:55.768Z"
   },
   {
    "duration": 14,
    "start_time": "2024-04-21T13:33:55.774Z"
   },
   {
    "duration": 27,
    "start_time": "2024-04-21T13:33:55.790Z"
   },
   {
    "duration": 4,
    "start_time": "2024-04-21T13:33:55.819Z"
   },
   {
    "duration": 8,
    "start_time": "2024-04-21T13:33:55.824Z"
   },
   {
    "duration": 2,
    "start_time": "2024-04-21T13:33:55.833Z"
   },
   {
    "duration": 7,
    "start_time": "2024-04-21T13:33:55.836Z"
   },
   {
    "duration": 9,
    "start_time": "2024-04-21T13:33:55.845Z"
   },
   {
    "duration": 4,
    "start_time": "2024-04-21T13:33:55.855Z"
   },
   {
    "duration": 12,
    "start_time": "2024-04-21T13:33:55.860Z"
   },
   {
    "duration": 5,
    "start_time": "2024-04-21T13:33:55.873Z"
   },
   {
    "duration": 35,
    "start_time": "2024-04-21T13:33:55.880Z"
   },
   {
    "duration": 5,
    "start_time": "2024-04-21T13:33:55.919Z"
   },
   {
    "duration": 3,
    "start_time": "2024-04-21T13:33:55.926Z"
   },
   {
    "duration": 9,
    "start_time": "2024-04-21T13:33:55.931Z"
   },
   {
    "duration": 6,
    "start_time": "2024-04-21T13:33:55.942Z"
   },
   {
    "duration": 6,
    "start_time": "2024-04-21T13:33:55.950Z"
   },
   {
    "duration": 9,
    "start_time": "2024-04-21T13:33:55.957Z"
   },
   {
    "duration": 2,
    "start_time": "2024-04-21T13:33:55.968Z"
   },
   {
    "duration": 48,
    "start_time": "2024-04-21T13:33:55.972Z"
   },
   {
    "duration": 5,
    "start_time": "2024-04-21T13:33:56.022Z"
   },
   {
    "duration": 4,
    "start_time": "2024-04-21T13:33:56.029Z"
   },
   {
    "duration": 4,
    "start_time": "2024-04-21T13:33:56.035Z"
   },
   {
    "duration": 6,
    "start_time": "2024-04-21T13:33:56.041Z"
   },
   {
    "duration": 3,
    "start_time": "2024-04-21T13:33:56.048Z"
   },
   {
    "duration": 18,
    "start_time": "2024-04-21T13:33:56.053Z"
   },
   {
    "duration": 43,
    "start_time": "2024-04-21T13:33:56.073Z"
   },
   {
    "duration": 17,
    "start_time": "2024-04-21T13:33:56.118Z"
   },
   {
    "duration": 19,
    "start_time": "2024-04-21T13:33:56.137Z"
   },
   {
    "duration": 26,
    "start_time": "2024-04-21T13:33:56.158Z"
   },
   {
    "duration": 7,
    "start_time": "2024-04-21T13:33:56.185Z"
   },
   {
    "duration": 9,
    "start_time": "2024-04-21T13:33:56.193Z"
   },
   {
    "duration": 11,
    "start_time": "2024-04-21T13:33:56.204Z"
   },
   {
    "duration": 9,
    "start_time": "2024-04-21T13:33:56.217Z"
   },
   {
    "duration": 13,
    "start_time": "2024-04-21T13:33:56.227Z"
   },
   {
    "duration": 2,
    "start_time": "2024-04-21T13:33:56.241Z"
   },
   {
    "duration": 12,
    "start_time": "2024-04-21T13:33:56.244Z"
   },
   {
    "duration": 32,
    "start_time": "2024-04-21T13:33:56.258Z"
   },
   {
    "duration": 32,
    "start_time": "2024-04-21T13:33:56.291Z"
   },
   {
    "duration": 2,
    "start_time": "2024-04-21T13:33:56.325Z"
   },
   {
    "duration": 7,
    "start_time": "2024-04-21T13:33:56.329Z"
   },
   {
    "duration": 5,
    "start_time": "2024-04-21T13:33:56.338Z"
   },
   {
    "duration": 7,
    "start_time": "2024-04-21T13:33:56.344Z"
   },
   {
    "duration": 28,
    "start_time": "2024-04-21T13:33:56.352Z"
   },
   {
    "duration": 2,
    "start_time": "2024-04-21T13:33:56.381Z"
   },
   {
    "duration": 32,
    "start_time": "2024-04-21T13:33:56.385Z"
   },
   {
    "duration": 309,
    "start_time": "2024-04-21T13:33:56.419Z"
   },
   {
    "duration": 28,
    "start_time": "2024-04-21T13:33:56.730Z"
   },
   {
    "duration": 2,
    "start_time": "2024-04-21T13:33:56.760Z"
   },
   {
    "duration": 7,
    "start_time": "2024-04-21T13:33:56.764Z"
   },
   {
    "duration": 51,
    "start_time": "2024-04-21T13:33:56.772Z"
   },
   {
    "duration": 3,
    "start_time": "2024-04-21T13:33:56.825Z"
   },
   {
    "duration": 33,
    "start_time": "2024-04-21T13:33:56.829Z"
   },
   {
    "duration": 247,
    "start_time": "2024-04-21T13:33:56.864Z"
   },
   {
    "duration": 2,
    "start_time": "2024-04-21T13:33:57.114Z"
   },
   {
    "duration": 307,
    "start_time": "2024-04-21T13:33:57.117Z"
   },
   {
    "duration": 9,
    "start_time": "2024-04-21T13:33:57.426Z"
   },
   {
    "duration": 230,
    "start_time": "2024-04-21T13:33:57.436Z"
   },
   {
    "duration": 2,
    "start_time": "2024-04-21T13:33:57.668Z"
   },
   {
    "duration": 12,
    "start_time": "2024-04-21T13:33:57.672Z"
   },
   {
    "duration": 253,
    "start_time": "2024-04-21T13:33:57.686Z"
   },
   {
    "duration": 7,
    "start_time": "2024-04-21T13:33:57.941Z"
   },
   {
    "duration": 289,
    "start_time": "2024-04-21T13:33:57.950Z"
   },
   {
    "duration": 8,
    "start_time": "2024-04-21T13:33:58.240Z"
   },
   {
    "duration": 150,
    "start_time": "2024-04-21T13:33:58.249Z"
   },
   {
    "duration": 14,
    "start_time": "2024-04-21T13:33:58.401Z"
   },
   {
    "duration": 197,
    "start_time": "2024-04-21T13:33:58.420Z"
   },
   {
    "duration": 2,
    "start_time": "2024-04-21T13:33:58.619Z"
   },
   {
    "duration": 9,
    "start_time": "2024-04-21T13:33:58.622Z"
   },
   {
    "duration": 159,
    "start_time": "2024-04-21T13:33:58.632Z"
   },
   {
    "duration": 9,
    "start_time": "2024-04-21T13:33:58.793Z"
   },
   {
    "duration": 13,
    "start_time": "2024-04-21T13:33:58.803Z"
   },
   {
    "duration": 135,
    "start_time": "2024-04-21T13:33:58.817Z"
   },
   {
    "duration": 9,
    "start_time": "2024-04-21T13:33:58.954Z"
   },
   {
    "duration": 362,
    "start_time": "2024-04-21T13:33:58.965Z"
   },
   {
    "duration": 9,
    "start_time": "2024-04-21T13:33:59.328Z"
   },
   {
    "duration": 255,
    "start_time": "2024-04-21T13:33:59.339Z"
   },
   {
    "duration": 21,
    "start_time": "2024-04-21T13:33:59.596Z"
   },
   {
    "duration": 255,
    "start_time": "2024-04-21T13:33:59.618Z"
   },
   {
    "duration": 4,
    "start_time": "2024-04-21T13:33:59.874Z"
   },
   {
    "duration": 4,
    "start_time": "2024-04-21T13:33:59.879Z"
   },
   {
    "duration": 10,
    "start_time": "2024-04-21T13:33:59.884Z"
   },
   {
    "duration": 248,
    "start_time": "2024-04-21T13:33:59.915Z"
   },
   {
    "duration": 3,
    "start_time": "2024-04-21T13:34:00.164Z"
   },
   {
    "duration": 311,
    "start_time": "2024-04-21T13:34:00.168Z"
   },
   {
    "duration": 2,
    "start_time": "2024-04-21T13:34:00.482Z"
   },
   {
    "duration": 115,
    "start_time": "2024-04-21T13:34:00.486Z"
   },
   {
    "duration": 223,
    "start_time": "2024-04-21T13:34:00.602Z"
   },
   {
    "duration": 291,
    "start_time": "2024-04-21T13:34:00.827Z"
   },
   {
    "duration": 139,
    "start_time": "2024-04-21T13:34:01.120Z"
   },
   {
    "duration": 294,
    "start_time": "2024-04-21T13:34:01.260Z"
   },
   {
    "duration": 142,
    "start_time": "2024-04-21T13:34:01.556Z"
   },
   {
    "duration": 164,
    "start_time": "2024-04-21T13:34:01.699Z"
   },
   {
    "duration": 165,
    "start_time": "2024-04-21T13:34:01.865Z"
   },
   {
    "duration": 157,
    "start_time": "2024-04-21T13:34:02.032Z"
   },
   {
    "duration": 7,
    "start_time": "2024-04-21T13:34:02.191Z"
   },
   {
    "duration": 48,
    "start_time": "2024-04-21T13:34:02.200Z"
   },
   {
    "duration": 12,
    "start_time": "2024-04-21T13:34:02.250Z"
   },
   {
    "duration": 83,
    "start_time": "2024-04-21T13:34:02.264Z"
   },
   {
    "duration": 0,
    "start_time": "2024-04-21T13:34:02.348Z"
   },
   {
    "duration": 0,
    "start_time": "2024-04-21T13:34:02.350Z"
   },
   {
    "duration": 0,
    "start_time": "2024-04-21T13:34:02.352Z"
   },
   {
    "duration": 4,
    "start_time": "2024-04-21T13:34:41.198Z"
   },
   {
    "duration": 3,
    "start_time": "2024-04-21T13:35:36.281Z"
   },
   {
    "duration": 6,
    "start_time": "2024-04-21T13:35:36.914Z"
   },
   {
    "duration": 7,
    "start_time": "2024-04-21T13:35:38.648Z"
   },
   {
    "duration": 8,
    "start_time": "2024-04-21T13:35:39.579Z"
   },
   {
    "duration": 1172,
    "start_time": "2024-04-21T13:35:51.082Z"
   },
   {
    "duration": 159,
    "start_time": "2024-04-21T13:35:52.256Z"
   },
   {
    "duration": 31,
    "start_time": "2024-04-21T13:35:52.417Z"
   },
   {
    "duration": 18,
    "start_time": "2024-04-21T13:35:52.449Z"
   },
   {
    "duration": 21,
    "start_time": "2024-04-21T13:35:52.469Z"
   },
   {
    "duration": 26,
    "start_time": "2024-04-21T13:35:52.492Z"
   },
   {
    "duration": 1895,
    "start_time": "2024-04-21T13:35:52.520Z"
   },
   {
    "duration": 9,
    "start_time": "2024-04-21T13:35:54.416Z"
   },
   {
    "duration": 2,
    "start_time": "2024-04-21T13:35:54.427Z"
   },
   {
    "duration": 10,
    "start_time": "2024-04-21T13:35:54.430Z"
   },
   {
    "duration": 2,
    "start_time": "2024-04-21T13:35:54.442Z"
   },
   {
    "duration": 7,
    "start_time": "2024-04-21T13:35:54.445Z"
   },
   {
    "duration": 7,
    "start_time": "2024-04-21T13:35:54.453Z"
   },
   {
    "duration": 7,
    "start_time": "2024-04-21T13:35:54.463Z"
   },
   {
    "duration": 5,
    "start_time": "2024-04-21T13:35:54.471Z"
   },
   {
    "duration": 39,
    "start_time": "2024-04-21T13:35:54.477Z"
   },
   {
    "duration": 5,
    "start_time": "2024-04-21T13:35:54.518Z"
   },
   {
    "duration": 10,
    "start_time": "2024-04-21T13:35:54.525Z"
   },
   {
    "duration": 4,
    "start_time": "2024-04-21T13:35:54.537Z"
   },
   {
    "duration": 5,
    "start_time": "2024-04-21T13:35:54.542Z"
   },
   {
    "duration": 8,
    "start_time": "2024-04-21T13:35:54.548Z"
   },
   {
    "duration": 2,
    "start_time": "2024-04-21T13:35:54.558Z"
   },
   {
    "duration": 7,
    "start_time": "2024-04-21T13:35:54.562Z"
   },
   {
    "duration": 46,
    "start_time": "2024-04-21T13:35:54.570Z"
   },
   {
    "duration": 5,
    "start_time": "2024-04-21T13:35:54.617Z"
   },
   {
    "duration": 4,
    "start_time": "2024-04-21T13:35:54.624Z"
   },
   {
    "duration": 5,
    "start_time": "2024-04-21T13:35:54.629Z"
   },
   {
    "duration": 3,
    "start_time": "2024-04-21T13:35:54.635Z"
   },
   {
    "duration": 5,
    "start_time": "2024-04-21T13:35:54.640Z"
   },
   {
    "duration": 4,
    "start_time": "2024-04-21T13:35:54.647Z"
   },
   {
    "duration": 5,
    "start_time": "2024-04-21T13:35:54.652Z"
   },
   {
    "duration": 3,
    "start_time": "2024-04-21T13:35:54.659Z"
   },
   {
    "duration": 54,
    "start_time": "2024-04-21T13:35:54.664Z"
   },
   {
    "duration": 8,
    "start_time": "2024-04-21T13:35:54.720Z"
   },
   {
    "duration": 8,
    "start_time": "2024-04-21T13:35:54.729Z"
   },
   {
    "duration": 11,
    "start_time": "2024-04-21T13:35:54.738Z"
   },
   {
    "duration": 5,
    "start_time": "2024-04-21T13:35:54.751Z"
   },
   {
    "duration": 5,
    "start_time": "2024-04-21T13:35:54.757Z"
   },
   {
    "duration": 4,
    "start_time": "2024-04-21T13:35:54.763Z"
   },
   {
    "duration": 8,
    "start_time": "2024-04-21T13:35:54.769Z"
   },
   {
    "duration": 3,
    "start_time": "2024-04-21T13:35:54.815Z"
   },
   {
    "duration": 19,
    "start_time": "2024-04-21T13:35:54.819Z"
   },
   {
    "duration": 26,
    "start_time": "2024-04-21T13:35:54.840Z"
   },
   {
    "duration": 32,
    "start_time": "2024-04-21T13:35:54.868Z"
   },
   {
    "duration": 22,
    "start_time": "2024-04-21T13:35:54.902Z"
   },
   {
    "duration": 3,
    "start_time": "2024-04-21T13:35:54.926Z"
   },
   {
    "duration": 6,
    "start_time": "2024-04-21T13:35:54.931Z"
   },
   {
    "duration": 6,
    "start_time": "2024-04-21T13:35:54.939Z"
   },
   {
    "duration": 6,
    "start_time": "2024-04-21T13:35:54.947Z"
   },
   {
    "duration": 2,
    "start_time": "2024-04-21T13:35:54.955Z"
   },
   {
    "duration": 10,
    "start_time": "2024-04-21T13:35:54.959Z"
   },
   {
    "duration": 2,
    "start_time": "2024-04-21T13:35:54.971Z"
   },
   {
    "duration": 4,
    "start_time": "2024-04-21T13:35:55.015Z"
   },
   {
    "duration": 28,
    "start_time": "2024-04-21T13:35:55.021Z"
   },
   {
    "duration": 29,
    "start_time": "2024-04-21T13:35:55.051Z"
   },
   {
    "duration": 2,
    "start_time": "2024-04-21T13:35:55.082Z"
   },
   {
    "duration": 33,
    "start_time": "2024-04-21T13:35:55.086Z"
   },
   {
    "duration": 6,
    "start_time": "2024-04-21T13:35:55.120Z"
   },
   {
    "duration": 6,
    "start_time": "2024-04-21T13:35:55.128Z"
   },
   {
    "duration": 27,
    "start_time": "2024-04-21T13:35:55.136Z"
   },
   {
    "duration": 2,
    "start_time": "2024-04-21T13:35:55.165Z"
   },
   {
    "duration": 8,
    "start_time": "2024-04-21T13:35:55.168Z"
   },
   {
    "duration": 314,
    "start_time": "2024-04-21T13:35:55.177Z"
   },
   {
    "duration": 32,
    "start_time": "2024-04-21T13:35:55.492Z"
   },
   {
    "duration": 3,
    "start_time": "2024-04-21T13:35:55.525Z"
   },
   {
    "duration": 5,
    "start_time": "2024-04-21T13:35:55.529Z"
   },
   {
    "duration": 23,
    "start_time": "2024-04-21T13:35:55.535Z"
   },
   {
    "duration": 3,
    "start_time": "2024-04-21T13:35:55.560Z"
   },
   {
    "duration": 9,
    "start_time": "2024-04-21T13:35:55.564Z"
   },
   {
    "duration": 298,
    "start_time": "2024-04-21T13:35:55.574Z"
   },
   {
    "duration": 3,
    "start_time": "2024-04-21T13:35:55.873Z"
   },
   {
    "duration": 319,
    "start_time": "2024-04-21T13:35:55.877Z"
   },
   {
    "duration": 8,
    "start_time": "2024-04-21T13:35:56.197Z"
   },
   {
    "duration": 237,
    "start_time": "2024-04-21T13:35:56.206Z"
   },
   {
    "duration": 3,
    "start_time": "2024-04-21T13:35:56.445Z"
   },
   {
    "duration": 12,
    "start_time": "2024-04-21T13:35:56.449Z"
   },
   {
    "duration": 277,
    "start_time": "2024-04-21T13:35:56.463Z"
   },
   {
    "duration": 9,
    "start_time": "2024-04-21T13:35:56.741Z"
   },
   {
    "duration": 253,
    "start_time": "2024-04-21T13:35:56.751Z"
   },
   {
    "duration": 14,
    "start_time": "2024-04-21T13:35:57.006Z"
   },
   {
    "duration": 136,
    "start_time": "2024-04-21T13:35:57.022Z"
   },
   {
    "duration": 9,
    "start_time": "2024-04-21T13:35:57.159Z"
   },
   {
    "duration": 195,
    "start_time": "2024-04-21T13:35:57.169Z"
   },
   {
    "duration": 2,
    "start_time": "2024-04-21T13:35:57.365Z"
   },
   {
    "duration": 13,
    "start_time": "2024-04-21T13:35:57.369Z"
   },
   {
    "duration": 145,
    "start_time": "2024-04-21T13:35:57.384Z"
   },
   {
    "duration": 10,
    "start_time": "2024-04-21T13:35:57.530Z"
   },
   {
    "duration": 7,
    "start_time": "2024-04-21T13:35:57.541Z"
   },
   {
    "duration": 131,
    "start_time": "2024-04-21T13:35:57.549Z"
   },
   {
    "duration": 8,
    "start_time": "2024-04-21T13:35:57.682Z"
   },
   {
    "duration": 367,
    "start_time": "2024-04-21T13:35:57.692Z"
   },
   {
    "duration": 9,
    "start_time": "2024-04-21T13:35:58.060Z"
   },
   {
    "duration": 257,
    "start_time": "2024-04-21T13:35:58.070Z"
   },
   {
    "duration": 8,
    "start_time": "2024-04-21T13:35:58.329Z"
   },
   {
    "duration": 251,
    "start_time": "2024-04-21T13:35:58.339Z"
   },
   {
    "duration": 4,
    "start_time": "2024-04-21T13:35:58.592Z"
   },
   {
    "duration": 10,
    "start_time": "2024-04-21T13:35:58.597Z"
   },
   {
    "duration": 14,
    "start_time": "2024-04-21T13:35:58.608Z"
   },
   {
    "duration": 240,
    "start_time": "2024-04-21T13:35:58.624Z"
   },
   {
    "duration": 3,
    "start_time": "2024-04-21T13:35:58.865Z"
   },
   {
    "duration": 246,
    "start_time": "2024-04-21T13:35:58.869Z"
   },
   {
    "duration": 3,
    "start_time": "2024-04-21T13:35:59.116Z"
   },
   {
    "duration": 34,
    "start_time": "2024-04-21T13:35:59.120Z"
   },
   {
    "duration": 159,
    "start_time": "2024-04-21T13:35:59.156Z"
   },
   {
    "duration": 252,
    "start_time": "2024-04-21T13:35:59.316Z"
   },
   {
    "duration": 145,
    "start_time": "2024-04-21T13:35:59.569Z"
   },
   {
    "duration": 205,
    "start_time": "2024-04-21T13:35:59.716Z"
   },
   {
    "duration": 149,
    "start_time": "2024-04-21T13:35:59.923Z"
   },
   {
    "duration": 173,
    "start_time": "2024-04-21T13:36:00.074Z"
   },
   {
    "duration": 157,
    "start_time": "2024-04-21T13:36:00.248Z"
   },
   {
    "duration": 193,
    "start_time": "2024-04-21T13:36:00.407Z"
   },
   {
    "duration": 13,
    "start_time": "2024-04-21T13:36:00.601Z"
   },
   {
    "duration": 97,
    "start_time": "2024-04-21T13:36:00.616Z"
   },
   {
    "duration": 80,
    "start_time": "2024-04-21T13:36:00.715Z"
   },
   {
    "duration": 129,
    "start_time": "2024-04-21T13:36:00.797Z"
   },
   {
    "duration": 0,
    "start_time": "2024-04-21T13:36:00.927Z"
   },
   {
    "duration": 0,
    "start_time": "2024-04-21T13:36:00.928Z"
   },
   {
    "duration": 0,
    "start_time": "2024-04-21T13:36:00.929Z"
   },
   {
    "duration": 2,
    "start_time": "2024-04-21T13:36:18.933Z"
   },
   {
    "duration": 6,
    "start_time": "2024-04-21T13:36:20.047Z"
   },
   {
    "duration": 636,
    "start_time": "2024-04-21T13:36:26.917Z"
   },
   {
    "duration": 141,
    "start_time": "2024-04-21T13:36:27.555Z"
   },
   {
    "duration": 28,
    "start_time": "2024-04-21T13:36:27.698Z"
   },
   {
    "duration": 4,
    "start_time": "2024-04-21T13:36:27.729Z"
   },
   {
    "duration": 6,
    "start_time": "2024-04-21T13:36:27.735Z"
   },
   {
    "duration": 83,
    "start_time": "2024-04-21T13:36:27.742Z"
   },
   {
    "duration": 0,
    "start_time": "2024-04-21T13:36:27.830Z"
   },
   {
    "duration": 0,
    "start_time": "2024-04-21T13:36:27.830Z"
   },
   {
    "duration": 0,
    "start_time": "2024-04-21T13:36:27.832Z"
   },
   {
    "duration": 0,
    "start_time": "2024-04-21T13:36:27.833Z"
   },
   {
    "duration": 0,
    "start_time": "2024-04-21T13:36:27.833Z"
   },
   {
    "duration": 0,
    "start_time": "2024-04-21T13:36:27.834Z"
   },
   {
    "duration": 0,
    "start_time": "2024-04-21T13:36:27.836Z"
   },
   {
    "duration": 0,
    "start_time": "2024-04-21T13:36:27.837Z"
   },
   {
    "duration": 0,
    "start_time": "2024-04-21T13:36:27.837Z"
   },
   {
    "duration": 0,
    "start_time": "2024-04-21T13:36:27.838Z"
   },
   {
    "duration": 0,
    "start_time": "2024-04-21T13:36:27.839Z"
   },
   {
    "duration": 0,
    "start_time": "2024-04-21T13:36:27.840Z"
   },
   {
    "duration": 0,
    "start_time": "2024-04-21T13:36:27.841Z"
   },
   {
    "duration": 0,
    "start_time": "2024-04-21T13:36:27.842Z"
   },
   {
    "duration": 0,
    "start_time": "2024-04-21T13:36:27.843Z"
   },
   {
    "duration": 0,
    "start_time": "2024-04-21T13:36:27.844Z"
   },
   {
    "duration": 0,
    "start_time": "2024-04-21T13:36:27.845Z"
   },
   {
    "duration": 0,
    "start_time": "2024-04-21T13:36:27.846Z"
   },
   {
    "duration": 0,
    "start_time": "2024-04-21T13:36:27.847Z"
   },
   {
    "duration": 0,
    "start_time": "2024-04-21T13:36:27.848Z"
   },
   {
    "duration": 0,
    "start_time": "2024-04-21T13:36:27.849Z"
   },
   {
    "duration": 0,
    "start_time": "2024-04-21T13:36:27.850Z"
   },
   {
    "duration": 0,
    "start_time": "2024-04-21T13:36:27.851Z"
   },
   {
    "duration": 0,
    "start_time": "2024-04-21T13:36:27.852Z"
   },
   {
    "duration": 0,
    "start_time": "2024-04-21T13:36:27.853Z"
   },
   {
    "duration": 0,
    "start_time": "2024-04-21T13:36:27.854Z"
   },
   {
    "duration": 0,
    "start_time": "2024-04-21T13:36:27.855Z"
   },
   {
    "duration": 0,
    "start_time": "2024-04-21T13:36:27.856Z"
   },
   {
    "duration": 0,
    "start_time": "2024-04-21T13:36:27.857Z"
   },
   {
    "duration": 0,
    "start_time": "2024-04-21T13:36:27.858Z"
   },
   {
    "duration": 0,
    "start_time": "2024-04-21T13:36:27.859Z"
   },
   {
    "duration": 0,
    "start_time": "2024-04-21T13:36:27.859Z"
   },
   {
    "duration": 0,
    "start_time": "2024-04-21T13:36:27.860Z"
   },
   {
    "duration": 0,
    "start_time": "2024-04-21T13:36:27.861Z"
   },
   {
    "duration": 0,
    "start_time": "2024-04-21T13:36:27.862Z"
   },
   {
    "duration": 0,
    "start_time": "2024-04-21T13:36:27.863Z"
   },
   {
    "duration": 0,
    "start_time": "2024-04-21T13:36:27.915Z"
   },
   {
    "duration": 0,
    "start_time": "2024-04-21T13:36:27.916Z"
   },
   {
    "duration": 0,
    "start_time": "2024-04-21T13:36:27.917Z"
   },
   {
    "duration": 0,
    "start_time": "2024-04-21T13:36:27.918Z"
   },
   {
    "duration": 0,
    "start_time": "2024-04-21T13:36:27.919Z"
   },
   {
    "duration": 0,
    "start_time": "2024-04-21T13:36:27.920Z"
   },
   {
    "duration": 0,
    "start_time": "2024-04-21T13:36:27.921Z"
   },
   {
    "duration": 0,
    "start_time": "2024-04-21T13:36:27.922Z"
   },
   {
    "duration": 0,
    "start_time": "2024-04-21T13:36:27.923Z"
   },
   {
    "duration": 0,
    "start_time": "2024-04-21T13:36:27.924Z"
   },
   {
    "duration": 0,
    "start_time": "2024-04-21T13:36:27.925Z"
   },
   {
    "duration": 0,
    "start_time": "2024-04-21T13:36:27.926Z"
   },
   {
    "duration": 0,
    "start_time": "2024-04-21T13:36:27.927Z"
   },
   {
    "duration": 0,
    "start_time": "2024-04-21T13:36:27.928Z"
   },
   {
    "duration": 0,
    "start_time": "2024-04-21T13:36:27.929Z"
   },
   {
    "duration": 0,
    "start_time": "2024-04-21T13:36:27.930Z"
   },
   {
    "duration": 0,
    "start_time": "2024-04-21T13:36:27.931Z"
   },
   {
    "duration": 0,
    "start_time": "2024-04-21T13:36:27.932Z"
   },
   {
    "duration": 0,
    "start_time": "2024-04-21T13:36:27.933Z"
   },
   {
    "duration": 0,
    "start_time": "2024-04-21T13:36:27.935Z"
   },
   {
    "duration": 0,
    "start_time": "2024-04-21T13:36:27.936Z"
   },
   {
    "duration": 0,
    "start_time": "2024-04-21T13:36:27.937Z"
   },
   {
    "duration": 0,
    "start_time": "2024-04-21T13:36:27.939Z"
   },
   {
    "duration": 0,
    "start_time": "2024-04-21T13:36:27.940Z"
   },
   {
    "duration": 0,
    "start_time": "2024-04-21T13:36:27.941Z"
   },
   {
    "duration": 0,
    "start_time": "2024-04-21T13:36:27.943Z"
   },
   {
    "duration": 0,
    "start_time": "2024-04-21T13:36:27.944Z"
   },
   {
    "duration": 0,
    "start_time": "2024-04-21T13:36:27.945Z"
   },
   {
    "duration": 0,
    "start_time": "2024-04-21T13:36:27.947Z"
   },
   {
    "duration": 0,
    "start_time": "2024-04-21T13:36:27.948Z"
   },
   {
    "duration": 0,
    "start_time": "2024-04-21T13:36:27.950Z"
   },
   {
    "duration": 0,
    "start_time": "2024-04-21T13:36:27.951Z"
   },
   {
    "duration": 0,
    "start_time": "2024-04-21T13:36:28.026Z"
   },
   {
    "duration": 0,
    "start_time": "2024-04-21T13:36:28.028Z"
   },
   {
    "duration": 0,
    "start_time": "2024-04-21T13:36:28.029Z"
   },
   {
    "duration": 0,
    "start_time": "2024-04-21T13:36:28.030Z"
   },
   {
    "duration": 0,
    "start_time": "2024-04-21T13:36:28.031Z"
   },
   {
    "duration": 0,
    "start_time": "2024-04-21T13:36:28.032Z"
   },
   {
    "duration": 0,
    "start_time": "2024-04-21T13:36:28.034Z"
   },
   {
    "duration": 0,
    "start_time": "2024-04-21T13:36:28.035Z"
   },
   {
    "duration": 0,
    "start_time": "2024-04-21T13:36:28.036Z"
   },
   {
    "duration": 0,
    "start_time": "2024-04-21T13:36:28.037Z"
   },
   {
    "duration": 0,
    "start_time": "2024-04-21T13:36:28.038Z"
   },
   {
    "duration": 0,
    "start_time": "2024-04-21T13:36:28.039Z"
   },
   {
    "duration": 0,
    "start_time": "2024-04-21T13:36:28.040Z"
   },
   {
    "duration": 0,
    "start_time": "2024-04-21T13:36:28.041Z"
   },
   {
    "duration": 0,
    "start_time": "2024-04-21T13:36:28.042Z"
   },
   {
    "duration": 0,
    "start_time": "2024-04-21T13:36:28.043Z"
   },
   {
    "duration": 0,
    "start_time": "2024-04-21T13:36:28.044Z"
   },
   {
    "duration": 0,
    "start_time": "2024-04-21T13:36:28.045Z"
   },
   {
    "duration": 0,
    "start_time": "2024-04-21T13:36:28.046Z"
   },
   {
    "duration": 0,
    "start_time": "2024-04-21T13:36:28.047Z"
   },
   {
    "duration": 0,
    "start_time": "2024-04-21T13:36:28.048Z"
   },
   {
    "duration": 0,
    "start_time": "2024-04-21T13:36:28.049Z"
   },
   {
    "duration": 0,
    "start_time": "2024-04-21T13:36:28.050Z"
   },
   {
    "duration": 0,
    "start_time": "2024-04-21T13:36:28.051Z"
   },
   {
    "duration": 0,
    "start_time": "2024-04-21T13:36:28.052Z"
   },
   {
    "duration": 0,
    "start_time": "2024-04-21T13:36:28.053Z"
   },
   {
    "duration": 0,
    "start_time": "2024-04-21T13:36:28.054Z"
   },
   {
    "duration": 0,
    "start_time": "2024-04-21T13:36:28.055Z"
   },
   {
    "duration": 0,
    "start_time": "2024-04-21T13:36:28.056Z"
   },
   {
    "duration": 0,
    "start_time": "2024-04-21T13:36:28.057Z"
   },
   {
    "duration": 0,
    "start_time": "2024-04-21T13:36:28.058Z"
   },
   {
    "duration": 0,
    "start_time": "2024-04-21T13:36:28.059Z"
   },
   {
    "duration": 0,
    "start_time": "2024-04-21T13:36:28.060Z"
   },
   {
    "duration": 0,
    "start_time": "2024-04-21T13:36:28.061Z"
   },
   {
    "duration": 0,
    "start_time": "2024-04-21T13:36:28.062Z"
   },
   {
    "duration": 0,
    "start_time": "2024-04-21T13:36:28.115Z"
   },
   {
    "duration": 0,
    "start_time": "2024-04-21T13:36:28.117Z"
   },
   {
    "duration": 0,
    "start_time": "2024-04-21T13:36:28.118Z"
   },
   {
    "duration": 0,
    "start_time": "2024-04-21T13:36:28.119Z"
   },
   {
    "duration": 0,
    "start_time": "2024-04-21T13:36:28.120Z"
   },
   {
    "duration": 0,
    "start_time": "2024-04-21T13:36:28.121Z"
   },
   {
    "duration": 0,
    "start_time": "2024-04-21T13:36:28.122Z"
   },
   {
    "duration": 0,
    "start_time": "2024-04-21T13:36:28.123Z"
   },
   {
    "duration": 0,
    "start_time": "2024-04-21T13:36:28.124Z"
   },
   {
    "duration": 0,
    "start_time": "2024-04-21T13:36:28.126Z"
   },
   {
    "duration": 7,
    "start_time": "2024-04-21T13:36:51.182Z"
   },
   {
    "duration": 7,
    "start_time": "2024-04-21T13:37:10.237Z"
   },
   {
    "duration": 8,
    "start_time": "2024-04-21T13:37:13.481Z"
   },
   {
    "duration": 659,
    "start_time": "2024-04-21T13:37:17.324Z"
   },
   {
    "duration": 154,
    "start_time": "2024-04-21T13:37:17.985Z"
   },
   {
    "duration": 31,
    "start_time": "2024-04-21T13:37:18.141Z"
   },
   {
    "duration": 4,
    "start_time": "2024-04-21T13:37:18.174Z"
   },
   {
    "duration": 37,
    "start_time": "2024-04-21T13:37:18.181Z"
   },
   {
    "duration": 26,
    "start_time": "2024-04-21T13:37:18.220Z"
   },
   {
    "duration": 1951,
    "start_time": "2024-04-21T13:37:18.248Z"
   },
   {
    "duration": 10,
    "start_time": "2024-04-21T13:37:20.200Z"
   },
   {
    "duration": 16,
    "start_time": "2024-04-21T13:37:20.211Z"
   },
   {
    "duration": 20,
    "start_time": "2024-04-21T13:37:20.228Z"
   },
   {
    "duration": 3,
    "start_time": "2024-04-21T13:37:20.250Z"
   },
   {
    "duration": 8,
    "start_time": "2024-04-21T13:37:20.254Z"
   },
   {
    "duration": 7,
    "start_time": "2024-04-21T13:37:20.263Z"
   },
   {
    "duration": 20,
    "start_time": "2024-04-21T13:37:20.273Z"
   },
   {
    "duration": 4,
    "start_time": "2024-04-21T13:37:20.294Z"
   },
   {
    "duration": 14,
    "start_time": "2024-04-21T13:37:20.300Z"
   },
   {
    "duration": 5,
    "start_time": "2024-04-21T13:37:20.316Z"
   },
   {
    "duration": 15,
    "start_time": "2024-04-21T13:37:20.322Z"
   },
   {
    "duration": 18,
    "start_time": "2024-04-21T13:37:20.339Z"
   },
   {
    "duration": 7,
    "start_time": "2024-04-21T13:37:20.359Z"
   },
   {
    "duration": 16,
    "start_time": "2024-04-21T13:37:20.367Z"
   },
   {
    "duration": 3,
    "start_time": "2024-04-21T13:37:20.384Z"
   },
   {
    "duration": 16,
    "start_time": "2024-04-21T13:37:20.388Z"
   },
   {
    "duration": 18,
    "start_time": "2024-04-21T13:37:20.406Z"
   },
   {
    "duration": 5,
    "start_time": "2024-04-21T13:37:20.426Z"
   },
   {
    "duration": 21,
    "start_time": "2024-04-21T13:37:20.432Z"
   },
   {
    "duration": 15,
    "start_time": "2024-04-21T13:37:20.454Z"
   },
   {
    "duration": 21,
    "start_time": "2024-04-21T13:37:20.471Z"
   },
   {
    "duration": 20,
    "start_time": "2024-04-21T13:37:20.494Z"
   },
   {
    "duration": 3,
    "start_time": "2024-04-21T13:37:20.516Z"
   },
   {
    "duration": 6,
    "start_time": "2024-04-21T13:37:20.521Z"
   },
   {
    "duration": 10,
    "start_time": "2024-04-21T13:37:20.528Z"
   },
   {
    "duration": 8,
    "start_time": "2024-04-21T13:37:20.539Z"
   },
   {
    "duration": 10,
    "start_time": "2024-04-21T13:37:20.548Z"
   },
   {
    "duration": 12,
    "start_time": "2024-04-21T13:37:20.559Z"
   },
   {
    "duration": 19,
    "start_time": "2024-04-21T13:37:20.573Z"
   },
   {
    "duration": 14,
    "start_time": "2024-04-21T13:37:20.593Z"
   },
   {
    "duration": 12,
    "start_time": "2024-04-21T13:37:20.609Z"
   },
   {
    "duration": 6,
    "start_time": "2024-04-21T13:37:20.622Z"
   },
   {
    "duration": 16,
    "start_time": "2024-04-21T13:37:20.629Z"
   },
   {
    "duration": 7,
    "start_time": "2024-04-21T13:37:20.651Z"
   },
   {
    "duration": 19,
    "start_time": "2024-04-21T13:37:20.659Z"
   },
   {
    "duration": 20,
    "start_time": "2024-04-21T13:37:20.680Z"
   },
   {
    "duration": 30,
    "start_time": "2024-04-21T13:37:20.702Z"
   },
   {
    "duration": 19,
    "start_time": "2024-04-21T13:37:20.733Z"
   },
   {
    "duration": 8,
    "start_time": "2024-04-21T13:37:20.753Z"
   },
   {
    "duration": 18,
    "start_time": "2024-04-21T13:37:20.763Z"
   },
   {
    "duration": 16,
    "start_time": "2024-04-21T13:37:20.782Z"
   },
   {
    "duration": 29,
    "start_time": "2024-04-21T13:37:20.800Z"
   },
   {
    "duration": 22,
    "start_time": "2024-04-21T13:37:20.830Z"
   },
   {
    "duration": 23,
    "start_time": "2024-04-21T13:37:20.854Z"
   },
   {
    "duration": 6,
    "start_time": "2024-04-21T13:37:20.879Z"
   },
   {
    "duration": 20,
    "start_time": "2024-04-21T13:37:20.886Z"
   },
   {
    "duration": 44,
    "start_time": "2024-04-21T13:37:20.908Z"
   },
   {
    "duration": 27,
    "start_time": "2024-04-21T13:37:20.954Z"
   },
   {
    "duration": 17,
    "start_time": "2024-04-21T13:37:20.982Z"
   },
   {
    "duration": 16,
    "start_time": "2024-04-21T13:37:21.001Z"
   },
   {
    "duration": 9,
    "start_time": "2024-04-21T13:37:21.019Z"
   },
   {
    "duration": 16,
    "start_time": "2024-04-21T13:37:21.030Z"
   },
   {
    "duration": 51,
    "start_time": "2024-04-21T13:37:21.048Z"
   },
   {
    "duration": 2,
    "start_time": "2024-04-21T13:37:21.101Z"
   },
   {
    "duration": 29,
    "start_time": "2024-04-21T13:37:21.104Z"
   },
   {
    "duration": 346,
    "start_time": "2024-04-21T13:37:21.134Z"
   },
   {
    "duration": 25,
    "start_time": "2024-04-21T13:37:21.481Z"
   },
   {
    "duration": 13,
    "start_time": "2024-04-21T13:37:21.508Z"
   },
   {
    "duration": 32,
    "start_time": "2024-04-21T13:37:21.522Z"
   },
   {
    "duration": 32,
    "start_time": "2024-04-21T13:37:21.555Z"
   },
   {
    "duration": 2,
    "start_time": "2024-04-21T13:37:21.588Z"
   },
   {
    "duration": 18,
    "start_time": "2024-04-21T13:37:21.592Z"
   },
   {
    "duration": 256,
    "start_time": "2024-04-21T13:37:21.612Z"
   },
   {
    "duration": 2,
    "start_time": "2024-04-21T13:37:21.870Z"
   },
   {
    "duration": 306,
    "start_time": "2024-04-21T13:37:21.873Z"
   },
   {
    "duration": 7,
    "start_time": "2024-04-21T13:37:22.181Z"
   },
   {
    "duration": 248,
    "start_time": "2024-04-21T13:37:22.189Z"
   },
   {
    "duration": 2,
    "start_time": "2024-04-21T13:37:22.439Z"
   },
   {
    "duration": 15,
    "start_time": "2024-04-21T13:37:22.442Z"
   },
   {
    "duration": 268,
    "start_time": "2024-04-21T13:37:22.458Z"
   },
   {
    "duration": 8,
    "start_time": "2024-04-21T13:37:22.727Z"
   },
   {
    "duration": 257,
    "start_time": "2024-04-21T13:37:22.736Z"
   },
   {
    "duration": 8,
    "start_time": "2024-04-21T13:37:22.995Z"
   },
   {
    "duration": 149,
    "start_time": "2024-04-21T13:37:23.004Z"
   },
   {
    "duration": 8,
    "start_time": "2024-04-21T13:37:23.155Z"
   },
   {
    "duration": 208,
    "start_time": "2024-04-21T13:37:23.164Z"
   },
   {
    "duration": 2,
    "start_time": "2024-04-21T13:37:23.374Z"
   },
   {
    "duration": 24,
    "start_time": "2024-04-21T13:37:23.377Z"
   },
   {
    "duration": 135,
    "start_time": "2024-04-21T13:37:23.402Z"
   },
   {
    "duration": 9,
    "start_time": "2024-04-21T13:37:23.538Z"
   },
   {
    "duration": 6,
    "start_time": "2024-04-21T13:37:23.549Z"
   },
   {
    "duration": 133,
    "start_time": "2024-04-21T13:37:23.557Z"
   },
   {
    "duration": 8,
    "start_time": "2024-04-21T13:37:23.692Z"
   },
   {
    "duration": 345,
    "start_time": "2024-04-21T13:37:23.701Z"
   },
   {
    "duration": 9,
    "start_time": "2024-04-21T13:37:24.047Z"
   },
   {
    "duration": 250,
    "start_time": "2024-04-21T13:37:24.057Z"
   },
   {
    "duration": 10,
    "start_time": "2024-04-21T13:37:24.308Z"
   },
   {
    "duration": 242,
    "start_time": "2024-04-21T13:37:24.319Z"
   },
   {
    "duration": 4,
    "start_time": "2024-04-21T13:37:24.562Z"
   },
   {
    "duration": 5,
    "start_time": "2024-04-21T13:37:24.567Z"
   },
   {
    "duration": 23,
    "start_time": "2024-04-21T13:37:24.573Z"
   },
   {
    "duration": 246,
    "start_time": "2024-04-21T13:37:24.598Z"
   },
   {
    "duration": 2,
    "start_time": "2024-04-21T13:37:24.846Z"
   },
   {
    "duration": 248,
    "start_time": "2024-04-21T13:37:24.850Z"
   },
   {
    "duration": 3,
    "start_time": "2024-04-21T13:37:25.099Z"
   },
   {
    "duration": 33,
    "start_time": "2024-04-21T13:37:25.103Z"
   },
   {
    "duration": 149,
    "start_time": "2024-04-21T13:37:25.137Z"
   },
   {
    "duration": 256,
    "start_time": "2024-04-21T13:37:25.287Z"
   },
   {
    "duration": 141,
    "start_time": "2024-04-21T13:37:25.544Z"
   },
   {
    "duration": 222,
    "start_time": "2024-04-21T13:37:25.687Z"
   },
   {
    "duration": 150,
    "start_time": "2024-04-21T13:37:25.914Z"
   },
   {
    "duration": 160,
    "start_time": "2024-04-21T13:37:26.066Z"
   },
   {
    "duration": 162,
    "start_time": "2024-04-21T13:37:26.227Z"
   },
   {
    "duration": 161,
    "start_time": "2024-04-21T13:37:26.390Z"
   },
   {
    "duration": 7,
    "start_time": "2024-04-21T13:37:26.552Z"
   },
   {
    "duration": 14,
    "start_time": "2024-04-21T13:37:26.560Z"
   },
   {
    "duration": 11,
    "start_time": "2024-04-21T13:37:26.575Z"
   },
   {
    "duration": 90,
    "start_time": "2024-04-21T13:37:26.587Z"
   },
   {
    "duration": 0,
    "start_time": "2024-04-21T13:37:26.679Z"
   },
   {
    "duration": 0,
    "start_time": "2024-04-21T13:37:26.680Z"
   },
   {
    "duration": 0,
    "start_time": "2024-04-21T13:37:26.682Z"
   },
   {
    "duration": 3,
    "start_time": "2024-04-21T13:37:35.555Z"
   },
   {
    "duration": 7,
    "start_time": "2024-04-21T13:37:36.020Z"
   },
   {
    "duration": 8,
    "start_time": "2024-04-21T13:37:36.714Z"
   },
   {
    "duration": 8,
    "start_time": "2024-04-21T13:37:38.504Z"
   },
   {
    "duration": 8,
    "start_time": "2024-04-21T13:39:42.244Z"
   },
   {
    "duration": 3,
    "start_time": "2024-04-21T13:39:57.409Z"
   },
   {
    "duration": 144,
    "start_time": "2024-04-21T13:39:57.784Z"
   },
   {
    "duration": 26,
    "start_time": "2024-04-21T13:40:00.080Z"
   },
   {
    "duration": 5,
    "start_time": "2024-04-21T13:40:00.537Z"
   },
   {
    "duration": 15,
    "start_time": "2024-04-21T13:40:00.982Z"
   },
   {
    "duration": 26,
    "start_time": "2024-04-21T13:40:01.771Z"
   },
   {
    "duration": 1917,
    "start_time": "2024-04-21T13:40:02.610Z"
   },
   {
    "duration": 22,
    "start_time": "2024-04-21T13:40:06.120Z"
   },
   {
    "duration": 1921,
    "start_time": "2024-04-21T13:40:06.425Z"
   },
   {
    "duration": 10,
    "start_time": "2024-04-21T13:40:08.348Z"
   },
   {
    "duration": 2,
    "start_time": "2024-04-21T13:40:08.359Z"
   },
   {
    "duration": 12,
    "start_time": "2024-04-21T13:40:08.363Z"
   },
   {
    "duration": 3,
    "start_time": "2024-04-21T13:40:08.376Z"
   },
   {
    "duration": 4,
    "start_time": "2024-04-21T13:40:08.484Z"
   },
   {
    "duration": 3,
    "start_time": "2024-04-21T13:40:08.660Z"
   },
   {
    "duration": 4,
    "start_time": "2024-04-21T13:40:08.866Z"
   },
   {
    "duration": 3,
    "start_time": "2024-04-21T13:40:09.052Z"
   },
   {
    "duration": 12,
    "start_time": "2024-04-21T13:40:09.225Z"
   },
   {
    "duration": 2,
    "start_time": "2024-04-21T13:40:09.367Z"
   },
   {
    "duration": 3,
    "start_time": "2024-04-21T13:40:09.697Z"
   },
   {
    "duration": 3,
    "start_time": "2024-04-21T13:40:09.857Z"
   },
   {
    "duration": 3,
    "start_time": "2024-04-21T13:40:10.016Z"
   },
   {
    "duration": 8,
    "start_time": "2024-04-21T13:40:10.167Z"
   },
   {
    "duration": 2,
    "start_time": "2024-04-21T13:40:10.317Z"
   },
   {
    "duration": 6,
    "start_time": "2024-04-21T13:40:10.470Z"
   },
   {
    "duration": 8,
    "start_time": "2024-04-21T13:40:10.790Z"
   },
   {
    "duration": 4,
    "start_time": "2024-04-21T13:40:10.942Z"
   },
   {
    "duration": 4,
    "start_time": "2024-04-21T13:40:11.096Z"
   },
   {
    "duration": 4,
    "start_time": "2024-04-21T13:40:11.259Z"
   },
   {
    "duration": 2,
    "start_time": "2024-04-21T13:40:11.577Z"
   },
   {
    "duration": 5,
    "start_time": "2024-04-21T13:40:11.734Z"
   },
   {
    "duration": 3,
    "start_time": "2024-04-21T13:40:11.878Z"
   },
   {
    "duration": 5,
    "start_time": "2024-04-21T13:40:12.054Z"
   },
   {
    "duration": 4,
    "start_time": "2024-04-21T13:40:12.216Z"
   },
   {
    "duration": 6,
    "start_time": "2024-04-21T13:40:12.566Z"
   },
   {
    "duration": 8,
    "start_time": "2024-04-21T13:40:12.738Z"
   },
   {
    "duration": 2,
    "start_time": "2024-04-21T13:40:12.900Z"
   },
   {
    "duration": 8,
    "start_time": "2024-04-21T13:40:13.044Z"
   },
   {
    "duration": 5,
    "start_time": "2024-04-21T13:40:13.246Z"
   },
   {
    "duration": 4,
    "start_time": "2024-04-21T13:40:13.446Z"
   },
   {
    "duration": 2,
    "start_time": "2024-04-21T13:40:13.610Z"
   },
   {
    "duration": 6,
    "start_time": "2024-04-21T13:40:13.787Z"
   },
   {
    "duration": 2,
    "start_time": "2024-04-21T13:40:14.156Z"
   },
   {
    "duration": 18,
    "start_time": "2024-04-21T13:40:14.412Z"
   },
   {
    "duration": 10,
    "start_time": "2024-04-21T13:40:14.601Z"
   },
   {
    "duration": 18,
    "start_time": "2024-04-21T13:40:15.045Z"
   },
   {
    "duration": 9,
    "start_time": "2024-04-21T13:40:15.225Z"
   },
   {
    "duration": 2,
    "start_time": "2024-04-21T13:40:15.616Z"
   },
   {
    "duration": 7,
    "start_time": "2024-04-21T13:40:15.814Z"
   },
   {
    "duration": 7,
    "start_time": "2024-04-21T13:40:17.009Z"
   },
   {
    "duration": 7,
    "start_time": "2024-04-21T13:40:17.240Z"
   },
   {
    "duration": 2,
    "start_time": "2024-04-21T13:40:17.480Z"
   },
   {
    "duration": 9,
    "start_time": "2024-04-21T13:40:17.697Z"
   },
   {
    "duration": 2,
    "start_time": "2024-04-21T13:40:18.786Z"
   },
   {
    "duration": 4,
    "start_time": "2024-04-21T13:40:19.047Z"
   },
   {
    "duration": 27,
    "start_time": "2024-04-21T13:40:19.285Z"
   },
   {
    "duration": 28,
    "start_time": "2024-04-21T13:40:19.530Z"
   },
   {
    "duration": 2,
    "start_time": "2024-04-21T13:40:19.874Z"
   },
   {
    "duration": 6,
    "start_time": "2024-04-21T13:40:20.146Z"
   },
   {
    "duration": 6,
    "start_time": "2024-04-21T13:40:20.434Z"
   },
   {
    "duration": 6,
    "start_time": "2024-04-21T13:40:20.637Z"
   },
   {
    "duration": 36,
    "start_time": "2024-04-21T13:40:20.803Z"
   },
   {
    "duration": 3,
    "start_time": "2024-04-21T13:40:20.999Z"
   },
   {
    "duration": 4,
    "start_time": "2024-04-21T13:40:21.159Z"
   },
   {
    "duration": 280,
    "start_time": "2024-04-21T13:40:21.411Z"
   },
   {
    "duration": 30,
    "start_time": "2024-04-21T13:40:21.693Z"
   },
   {
    "duration": 3,
    "start_time": "2024-04-21T13:40:21.822Z"
   },
   {
    "duration": 4,
    "start_time": "2024-04-21T13:40:22.019Z"
   },
   {
    "duration": 22,
    "start_time": "2024-04-21T13:40:22.224Z"
   },
   {
    "duration": 3,
    "start_time": "2024-04-21T13:40:22.662Z"
   },
   {
    "duration": 9,
    "start_time": "2024-04-21T13:40:23.009Z"
   },
   {
    "duration": 247,
    "start_time": "2024-04-21T13:40:23.227Z"
   },
   {
    "duration": 2,
    "start_time": "2024-04-21T13:40:23.475Z"
   },
   {
    "duration": 239,
    "start_time": "2024-04-21T13:40:23.714Z"
   },
   {
    "duration": 10,
    "start_time": "2024-04-21T13:40:24.273Z"
   },
   {
    "duration": 358,
    "start_time": "2024-04-21T13:40:24.537Z"
   },
   {
    "duration": 4,
    "start_time": "2024-04-21T13:40:25.055Z"
   },
   {
    "duration": 9,
    "start_time": "2024-04-21T13:40:25.289Z"
   },
   {
    "duration": 258,
    "start_time": "2024-04-21T13:40:25.507Z"
   },
   {
    "duration": 8,
    "start_time": "2024-04-21T13:40:25.973Z"
   },
   {
    "duration": 227,
    "start_time": "2024-04-21T13:40:26.190Z"
   },
   {
    "duration": 7,
    "start_time": "2024-04-21T13:40:26.419Z"
   },
   {
    "duration": 135,
    "start_time": "2024-04-21T13:40:26.573Z"
   },
   {
    "duration": 8,
    "start_time": "2024-04-21T13:40:27.016Z"
   },
   {
    "duration": 178,
    "start_time": "2024-04-21T13:40:27.243Z"
   },
   {
    "duration": 3,
    "start_time": "2024-04-21T13:40:27.636Z"
   },
   {
    "duration": 9,
    "start_time": "2024-04-21T13:40:27.902Z"
   },
   {
    "duration": 155,
    "start_time": "2024-04-21T13:40:28.100Z"
   },
   {
    "duration": 10,
    "start_time": "2024-04-21T13:40:28.533Z"
   },
   {
    "duration": 8,
    "start_time": "2024-04-21T13:40:28.895Z"
   },
   {
    "duration": 117,
    "start_time": "2024-04-21T13:40:29.143Z"
   },
   {
    "duration": 9,
    "start_time": "2024-04-21T13:40:29.631Z"
   },
   {
    "duration": 232,
    "start_time": "2024-04-21T13:40:29.868Z"
   },
   {
    "duration": 9,
    "start_time": "2024-04-21T13:40:30.336Z"
   },
   {
    "duration": 260,
    "start_time": "2024-04-21T13:40:30.561Z"
   },
   {
    "duration": 9,
    "start_time": "2024-04-21T13:40:30.987Z"
   },
   {
    "duration": 369,
    "start_time": "2024-04-21T13:40:31.231Z"
   },
   {
    "duration": 4,
    "start_time": "2024-04-21T13:40:35.728Z"
   },
   {
    "duration": 3,
    "start_time": "2024-04-21T13:41:16.418Z"
   },
   {
    "duration": 28,
    "start_time": "2024-04-21T13:42:26.755Z"
   },
   {
    "duration": 17,
    "start_time": "2024-04-21T13:43:25.348Z"
   },
   {
    "duration": 17,
    "start_time": "2024-04-21T13:43:28.526Z"
   },
   {
    "duration": 658,
    "start_time": "2024-04-21T13:43:44.106Z"
   },
   {
    "duration": 166,
    "start_time": "2024-04-21T13:43:44.766Z"
   },
   {
    "duration": 28,
    "start_time": "2024-04-21T13:43:44.935Z"
   },
   {
    "duration": 3,
    "start_time": "2024-04-21T13:43:44.965Z"
   },
   {
    "duration": 22,
    "start_time": "2024-04-21T13:43:44.970Z"
   },
   {
    "duration": 38,
    "start_time": "2024-04-21T13:43:44.993Z"
   },
   {
    "duration": 1922,
    "start_time": "2024-04-21T13:43:45.033Z"
   },
   {
    "duration": 9,
    "start_time": "2024-04-21T13:43:46.956Z"
   },
   {
    "duration": 2,
    "start_time": "2024-04-21T13:43:46.967Z"
   },
   {
    "duration": 11,
    "start_time": "2024-04-21T13:43:46.970Z"
   },
   {
    "duration": 2,
    "start_time": "2024-04-21T13:43:46.983Z"
   },
   {
    "duration": 19,
    "start_time": "2024-04-21T13:43:46.986Z"
   },
   {
    "duration": 4,
    "start_time": "2024-04-21T13:43:47.007Z"
   },
   {
    "duration": 4,
    "start_time": "2024-04-21T13:43:47.015Z"
   },
   {
    "duration": 8,
    "start_time": "2024-04-21T13:43:47.020Z"
   },
   {
    "duration": 11,
    "start_time": "2024-04-21T13:43:47.030Z"
   },
   {
    "duration": 3,
    "start_time": "2024-04-21T13:43:47.043Z"
   },
   {
    "duration": 6,
    "start_time": "2024-04-21T13:43:47.048Z"
   },
   {
    "duration": 6,
    "start_time": "2024-04-21T13:43:47.055Z"
   },
   {
    "duration": 5,
    "start_time": "2024-04-21T13:43:47.063Z"
   },
   {
    "duration": 9,
    "start_time": "2024-04-21T13:43:47.069Z"
   },
   {
    "duration": 5,
    "start_time": "2024-04-21T13:43:47.079Z"
   },
   {
    "duration": 6,
    "start_time": "2024-04-21T13:43:47.085Z"
   },
   {
    "duration": 7,
    "start_time": "2024-04-21T13:43:47.114Z"
   },
   {
    "duration": 5,
    "start_time": "2024-04-21T13:43:47.122Z"
   },
   {
    "duration": 3,
    "start_time": "2024-04-21T13:43:47.129Z"
   },
   {
    "duration": 10,
    "start_time": "2024-04-21T13:43:47.133Z"
   },
   {
    "duration": 4,
    "start_time": "2024-04-21T13:43:47.145Z"
   },
   {
    "duration": 5,
    "start_time": "2024-04-21T13:43:47.151Z"
   },
   {
    "duration": 3,
    "start_time": "2024-04-21T13:43:47.158Z"
   },
   {
    "duration": 8,
    "start_time": "2024-04-21T13:43:47.162Z"
   },
   {
    "duration": 4,
    "start_time": "2024-04-21T13:43:47.171Z"
   },
   {
    "duration": 9,
    "start_time": "2024-04-21T13:43:47.176Z"
   },
   {
    "duration": 33,
    "start_time": "2024-04-21T13:43:47.186Z"
   },
   {
    "duration": 5,
    "start_time": "2024-04-21T13:43:47.220Z"
   },
   {
    "duration": 11,
    "start_time": "2024-04-21T13:43:47.227Z"
   },
   {
    "duration": 4,
    "start_time": "2024-04-21T13:43:47.240Z"
   },
   {
    "duration": 4,
    "start_time": "2024-04-21T13:43:47.246Z"
   },
   {
    "duration": 3,
    "start_time": "2024-04-21T13:43:47.251Z"
   },
   {
    "duration": 7,
    "start_time": "2024-04-21T13:43:47.255Z"
   },
   {
    "duration": 4,
    "start_time": "2024-04-21T13:43:47.267Z"
   },
   {
    "duration": 43,
    "start_time": "2024-04-21T13:43:47.272Z"
   },
   {
    "duration": 10,
    "start_time": "2024-04-21T13:43:47.316Z"
   },
   {
    "duration": 18,
    "start_time": "2024-04-21T13:43:47.328Z"
   },
   {
    "duration": 8,
    "start_time": "2024-04-21T13:43:47.348Z"
   },
   {
    "duration": 12,
    "start_time": "2024-04-21T13:43:47.357Z"
   },
   {
    "duration": 6,
    "start_time": "2024-04-21T13:43:47.370Z"
   },
   {
    "duration": 7,
    "start_time": "2024-04-21T13:43:47.377Z"
   },
   {
    "duration": 6,
    "start_time": "2024-04-21T13:43:47.385Z"
   },
   {
    "duration": 33,
    "start_time": "2024-04-21T13:43:47.392Z"
   },
   {
    "duration": 15,
    "start_time": "2024-04-21T13:43:47.427Z"
   },
   {
    "duration": 3,
    "start_time": "2024-04-21T13:43:47.443Z"
   },
   {
    "duration": 11,
    "start_time": "2024-04-21T13:43:47.447Z"
   },
   {
    "duration": 27,
    "start_time": "2024-04-21T13:43:47.459Z"
   },
   {
    "duration": 31,
    "start_time": "2024-04-21T13:43:47.488Z"
   },
   {
    "duration": 2,
    "start_time": "2024-04-21T13:43:47.521Z"
   },
   {
    "duration": 13,
    "start_time": "2024-04-21T13:43:47.525Z"
   },
   {
    "duration": 9,
    "start_time": "2024-04-21T13:43:47.540Z"
   },
   {
    "duration": 5,
    "start_time": "2024-04-21T13:43:47.550Z"
   },
   {
    "duration": 27,
    "start_time": "2024-04-21T13:43:47.556Z"
   },
   {
    "duration": 3,
    "start_time": "2024-04-21T13:43:47.584Z"
   },
   {
    "duration": 27,
    "start_time": "2024-04-21T13:43:47.588Z"
   },
   {
    "duration": 288,
    "start_time": "2024-04-21T13:43:47.616Z"
   },
   {
    "duration": 30,
    "start_time": "2024-04-21T13:43:47.905Z"
   },
   {
    "duration": 2,
    "start_time": "2024-04-21T13:43:47.937Z"
   },
   {
    "duration": 14,
    "start_time": "2024-04-21T13:43:47.940Z"
   },
   {
    "duration": 28,
    "start_time": "2024-04-21T13:43:47.956Z"
   },
   {
    "duration": 17,
    "start_time": "2024-04-21T13:43:47.986Z"
   },
   {
    "duration": 11,
    "start_time": "2024-04-21T13:43:48.004Z"
   },
   {
    "duration": 271,
    "start_time": "2024-04-21T13:43:48.017Z"
   },
   {
    "duration": 2,
    "start_time": "2024-04-21T13:43:48.289Z"
   },
   {
    "duration": 325,
    "start_time": "2024-04-21T13:43:48.293Z"
   },
   {
    "duration": 9,
    "start_time": "2024-04-21T13:43:48.619Z"
   },
   {
    "duration": 248,
    "start_time": "2024-04-21T13:43:48.629Z"
   },
   {
    "duration": 3,
    "start_time": "2024-04-21T13:43:48.880Z"
   },
   {
    "duration": 11,
    "start_time": "2024-04-21T13:43:48.885Z"
   },
   {
    "duration": 252,
    "start_time": "2024-04-21T13:43:48.897Z"
   },
   {
    "duration": 9,
    "start_time": "2024-04-21T13:43:49.150Z"
   },
   {
    "duration": 256,
    "start_time": "2024-04-21T13:43:49.160Z"
   },
   {
    "duration": 8,
    "start_time": "2024-04-21T13:43:49.418Z"
   },
   {
    "duration": 141,
    "start_time": "2024-04-21T13:43:49.427Z"
   },
   {
    "duration": 8,
    "start_time": "2024-04-21T13:43:49.569Z"
   },
   {
    "duration": 190,
    "start_time": "2024-04-21T13:43:49.579Z"
   },
   {
    "duration": 2,
    "start_time": "2024-04-21T13:43:49.771Z"
   },
   {
    "duration": 10,
    "start_time": "2024-04-21T13:43:49.774Z"
   },
   {
    "duration": 150,
    "start_time": "2024-04-21T13:43:49.785Z"
   },
   {
    "duration": 9,
    "start_time": "2024-04-21T13:43:49.936Z"
   },
   {
    "duration": 10,
    "start_time": "2024-04-21T13:43:49.946Z"
   },
   {
    "duration": 123,
    "start_time": "2024-04-21T13:43:49.958Z"
   },
   {
    "duration": 7,
    "start_time": "2024-04-21T13:43:50.083Z"
   },
   {
    "duration": 339,
    "start_time": "2024-04-21T13:43:50.092Z"
   },
   {
    "duration": 8,
    "start_time": "2024-04-21T13:43:50.433Z"
   },
   {
    "duration": 238,
    "start_time": "2024-04-21T13:43:50.443Z"
   },
   {
    "duration": 9,
    "start_time": "2024-04-21T13:43:50.683Z"
   },
   {
    "duration": 258,
    "start_time": "2024-04-21T13:43:50.693Z"
   },
   {
    "duration": 3,
    "start_time": "2024-04-21T13:43:50.953Z"
   },
   {
    "duration": 4,
    "start_time": "2024-04-21T13:43:50.958Z"
   },
   {
    "duration": 10,
    "start_time": "2024-04-21T13:43:50.963Z"
   },
   {
    "duration": 244,
    "start_time": "2024-04-21T13:43:50.974Z"
   },
   {
    "duration": 2,
    "start_time": "2024-04-21T13:43:51.220Z"
   },
   {
    "duration": 239,
    "start_time": "2024-04-21T13:43:51.223Z"
   },
   {
    "duration": 2,
    "start_time": "2024-04-21T13:43:51.464Z"
   },
   {
    "duration": 38,
    "start_time": "2024-04-21T13:43:51.468Z"
   },
   {
    "duration": 131,
    "start_time": "2024-04-21T13:43:51.507Z"
   },
   {
    "duration": 249,
    "start_time": "2024-04-21T13:43:51.639Z"
   },
   {
    "duration": 156,
    "start_time": "2024-04-21T13:43:51.889Z"
   },
   {
    "duration": 210,
    "start_time": "2024-04-21T13:43:52.046Z"
   },
   {
    "duration": 152,
    "start_time": "2024-04-21T13:43:52.257Z"
   },
   {
    "duration": 156,
    "start_time": "2024-04-21T13:43:52.414Z"
   },
   {
    "duration": 149,
    "start_time": "2024-04-21T13:43:52.572Z"
   },
   {
    "duration": 154,
    "start_time": "2024-04-21T13:43:52.722Z"
   },
   {
    "duration": 6,
    "start_time": "2024-04-21T13:43:52.877Z"
   },
   {
    "duration": 7,
    "start_time": "2024-04-21T13:43:52.885Z"
   },
   {
    "duration": 8,
    "start_time": "2024-04-21T13:43:52.893Z"
   },
   {
    "duration": 86,
    "start_time": "2024-04-21T13:43:52.915Z"
   },
   {
    "duration": 0,
    "start_time": "2024-04-21T13:43:53.003Z"
   },
   {
    "duration": 0,
    "start_time": "2024-04-21T13:43:53.004Z"
   },
   {
    "duration": 0,
    "start_time": "2024-04-21T13:43:53.005Z"
   },
   {
    "duration": 28,
    "start_time": "2024-04-21T13:45:14.599Z"
   },
   {
    "duration": 990,
    "start_time": "2024-04-22T07:18:16.979Z"
   },
   {
    "duration": 250,
    "start_time": "2024-04-22T07:18:17.972Z"
   },
   {
    "duration": 34,
    "start_time": "2024-04-22T07:18:18.223Z"
   },
   {
    "duration": 4,
    "start_time": "2024-04-22T07:18:18.259Z"
   },
   {
    "duration": 37,
    "start_time": "2024-04-22T07:18:18.273Z"
   },
   {
    "duration": 37,
    "start_time": "2024-04-22T07:18:18.312Z"
   },
   {
    "duration": 2171,
    "start_time": "2024-04-22T07:18:18.351Z"
   },
   {
    "duration": 16,
    "start_time": "2024-04-22T07:18:20.524Z"
   },
   {
    "duration": 25,
    "start_time": "2024-04-22T07:18:20.542Z"
   },
   {
    "duration": 78,
    "start_time": "2024-04-22T07:18:20.572Z"
   },
   {
    "duration": 10,
    "start_time": "2024-04-22T07:18:20.651Z"
   },
   {
    "duration": 14,
    "start_time": "2024-04-22T07:18:20.663Z"
   },
   {
    "duration": 42,
    "start_time": "2024-04-22T07:18:20.678Z"
   },
   {
    "duration": 33,
    "start_time": "2024-04-22T07:18:20.721Z"
   },
   {
    "duration": 9,
    "start_time": "2024-04-22T07:18:20.756Z"
   },
   {
    "duration": 23,
    "start_time": "2024-04-22T07:18:20.767Z"
   },
   {
    "duration": 20,
    "start_time": "2024-04-22T07:18:20.792Z"
   },
   {
    "duration": 22,
    "start_time": "2024-04-22T07:18:20.814Z"
   },
   {
    "duration": 9,
    "start_time": "2024-04-22T07:18:20.839Z"
   },
   {
    "duration": 6,
    "start_time": "2024-04-22T07:18:20.851Z"
   },
   {
    "duration": 13,
    "start_time": "2024-04-22T07:18:20.860Z"
   },
   {
    "duration": 25,
    "start_time": "2024-04-22T07:18:20.875Z"
   },
   {
    "duration": 23,
    "start_time": "2024-04-22T07:18:20.901Z"
   },
   {
    "duration": 25,
    "start_time": "2024-04-22T07:18:20.925Z"
   },
   {
    "duration": 23,
    "start_time": "2024-04-22T07:18:20.952Z"
   },
   {
    "duration": 28,
    "start_time": "2024-04-22T07:18:20.977Z"
   },
   {
    "duration": 7,
    "start_time": "2024-04-22T07:18:21.008Z"
   },
   {
    "duration": 6,
    "start_time": "2024-04-22T07:18:21.019Z"
   },
   {
    "duration": 12,
    "start_time": "2024-04-22T07:18:21.026Z"
   },
   {
    "duration": 12,
    "start_time": "2024-04-22T07:18:21.040Z"
   },
   {
    "duration": 16,
    "start_time": "2024-04-22T07:18:21.054Z"
   },
   {
    "duration": 18,
    "start_time": "2024-04-22T07:18:21.072Z"
   },
   {
    "duration": 18,
    "start_time": "2024-04-22T07:18:21.092Z"
   },
   {
    "duration": 16,
    "start_time": "2024-04-22T07:18:21.112Z"
   },
   {
    "duration": 3,
    "start_time": "2024-04-22T07:18:21.131Z"
   },
   {
    "duration": 32,
    "start_time": "2024-04-22T07:18:21.136Z"
   },
   {
    "duration": 59,
    "start_time": "2024-04-22T07:18:21.170Z"
   },
   {
    "duration": 11,
    "start_time": "2024-04-22T07:18:21.230Z"
   },
   {
    "duration": 7,
    "start_time": "2024-04-22T07:18:21.242Z"
   },
   {
    "duration": 19,
    "start_time": "2024-04-22T07:18:21.251Z"
   },
   {
    "duration": 9,
    "start_time": "2024-04-22T07:18:21.271Z"
   },
   {
    "duration": 19,
    "start_time": "2024-04-22T07:18:21.282Z"
   },
   {
    "duration": 12,
    "start_time": "2024-04-22T07:18:21.303Z"
   },
   {
    "duration": 18,
    "start_time": "2024-04-22T07:18:21.317Z"
   },
   {
    "duration": 9,
    "start_time": "2024-04-22T07:18:21.337Z"
   },
   {
    "duration": 26,
    "start_time": "2024-04-22T07:18:21.348Z"
   },
   {
    "duration": 32,
    "start_time": "2024-04-22T07:18:21.376Z"
   },
   {
    "duration": 18,
    "start_time": "2024-04-22T07:18:21.409Z"
   },
   {
    "duration": 8,
    "start_time": "2024-04-22T07:18:21.429Z"
   },
   {
    "duration": 3,
    "start_time": "2024-04-22T07:18:21.438Z"
   },
   {
    "duration": 10,
    "start_time": "2024-04-22T07:18:21.442Z"
   },
   {
    "duration": 3,
    "start_time": "2024-04-22T07:18:21.453Z"
   },
   {
    "duration": 16,
    "start_time": "2024-04-22T07:18:21.457Z"
   },
   {
    "duration": 37,
    "start_time": "2024-04-22T07:18:21.474Z"
   },
   {
    "duration": 31,
    "start_time": "2024-04-22T07:18:21.513Z"
   },
   {
    "duration": 2,
    "start_time": "2024-04-22T07:18:21.546Z"
   },
   {
    "duration": 6,
    "start_time": "2024-04-22T07:18:21.573Z"
   },
   {
    "duration": 6,
    "start_time": "2024-04-22T07:18:21.581Z"
   },
   {
    "duration": 19,
    "start_time": "2024-04-22T07:18:21.588Z"
   },
   {
    "duration": 35,
    "start_time": "2024-04-22T07:18:21.608Z"
   },
   {
    "duration": 3,
    "start_time": "2024-04-22T07:18:21.644Z"
   },
   {
    "duration": 25,
    "start_time": "2024-04-22T07:18:21.648Z"
   },
   {
    "duration": 322,
    "start_time": "2024-04-22T07:18:21.675Z"
   },
   {
    "duration": 42,
    "start_time": "2024-04-22T07:18:21.999Z"
   },
   {
    "duration": 6,
    "start_time": "2024-04-22T07:18:22.043Z"
   },
   {
    "duration": 25,
    "start_time": "2024-04-22T07:18:22.052Z"
   },
   {
    "duration": 47,
    "start_time": "2024-04-22T07:18:22.079Z"
   },
   {
    "duration": 3,
    "start_time": "2024-04-22T07:18:22.128Z"
   },
   {
    "duration": 18,
    "start_time": "2024-04-22T07:18:22.133Z"
   },
   {
    "duration": 351,
    "start_time": "2024-04-22T07:18:22.153Z"
   },
   {
    "duration": 3,
    "start_time": "2024-04-22T07:18:22.506Z"
   },
   {
    "duration": 341,
    "start_time": "2024-04-22T07:18:22.510Z"
   },
   {
    "duration": 9,
    "start_time": "2024-04-22T07:18:22.853Z"
   },
   {
    "duration": 255,
    "start_time": "2024-04-22T07:18:22.873Z"
   },
   {
    "duration": 2,
    "start_time": "2024-04-22T07:18:23.131Z"
   },
   {
    "duration": 46,
    "start_time": "2024-04-22T07:18:23.135Z"
   },
   {
    "duration": 320,
    "start_time": "2024-04-22T07:18:23.183Z"
   },
   {
    "duration": 10,
    "start_time": "2024-04-22T07:18:23.506Z"
   },
   {
    "duration": 318,
    "start_time": "2024-04-22T07:18:23.518Z"
   },
   {
    "duration": 8,
    "start_time": "2024-04-22T07:18:23.838Z"
   },
   {
    "duration": 177,
    "start_time": "2024-04-22T07:18:23.848Z"
   },
   {
    "duration": 11,
    "start_time": "2024-04-22T07:18:24.034Z"
   },
   {
    "duration": 244,
    "start_time": "2024-04-22T07:18:24.046Z"
   },
   {
    "duration": 3,
    "start_time": "2024-04-22T07:18:24.292Z"
   },
   {
    "duration": 16,
    "start_time": "2024-04-22T07:18:24.297Z"
   },
   {
    "duration": 193,
    "start_time": "2024-04-22T07:18:24.315Z"
   },
   {
    "duration": 10,
    "start_time": "2024-04-22T07:18:24.510Z"
   },
   {
    "duration": 8,
    "start_time": "2024-04-22T07:18:24.522Z"
   },
   {
    "duration": 151,
    "start_time": "2024-04-22T07:18:24.532Z"
   },
   {
    "duration": 9,
    "start_time": "2024-04-22T07:18:24.685Z"
   },
   {
    "duration": 452,
    "start_time": "2024-04-22T07:18:24.696Z"
   },
   {
    "duration": 11,
    "start_time": "2024-04-22T07:18:25.150Z"
   },
   {
    "duration": 314,
    "start_time": "2024-04-22T07:18:25.173Z"
   },
   {
    "duration": 10,
    "start_time": "2024-04-22T07:18:25.489Z"
   },
   {
    "duration": 291,
    "start_time": "2024-04-22T07:18:25.501Z"
   },
   {
    "duration": 4,
    "start_time": "2024-04-22T07:18:25.793Z"
   },
   {
    "duration": 7,
    "start_time": "2024-04-22T07:18:25.799Z"
   },
   {
    "duration": 30,
    "start_time": "2024-04-22T07:18:25.808Z"
   },
   {
    "duration": 263,
    "start_time": "2024-04-22T07:18:25.840Z"
   },
   {
    "duration": 3,
    "start_time": "2024-04-22T07:18:26.105Z"
   },
   {
    "duration": 275,
    "start_time": "2024-04-22T07:18:26.109Z"
   },
   {
    "duration": 3,
    "start_time": "2024-04-22T07:18:26.386Z"
   },
   {
    "duration": 40,
    "start_time": "2024-04-22T07:18:26.391Z"
   },
   {
    "duration": 174,
    "start_time": "2024-04-22T07:18:26.432Z"
   },
   {
    "duration": 302,
    "start_time": "2024-04-22T07:18:26.609Z"
   },
   {
    "duration": 176,
    "start_time": "2024-04-22T07:18:26.913Z"
   },
   {
    "duration": 260,
    "start_time": "2024-04-22T07:18:27.091Z"
   },
   {
    "duration": 167,
    "start_time": "2024-04-22T07:18:27.352Z"
   },
   {
    "duration": 185,
    "start_time": "2024-04-22T07:18:27.521Z"
   },
   {
    "duration": 183,
    "start_time": "2024-04-22T07:18:27.708Z"
   },
   {
    "duration": 198,
    "start_time": "2024-04-22T07:18:27.893Z"
   },
   {
    "duration": 7,
    "start_time": "2024-04-22T07:18:28.093Z"
   },
   {
    "duration": 25,
    "start_time": "2024-04-22T07:18:28.102Z"
   },
   {
    "duration": 15,
    "start_time": "2024-04-22T07:18:28.129Z"
   },
   {
    "duration": 57,
    "start_time": "2024-04-22T07:18:28.147Z"
   },
   {
    "duration": 24,
    "start_time": "2024-04-22T07:18:28.206Z"
   },
   {
    "duration": 176,
    "start_time": "2024-04-22T07:18:28.232Z"
   },
   {
    "duration": 21,
    "start_time": "2024-04-22T07:18:28.409Z"
   }
  ],
  "kernelspec": {
   "display_name": "Python 3 (ipykernel)",
   "language": "python",
   "name": "python3"
  },
  "language_info": {
   "codemirror_mode": {
    "name": "ipython",
    "version": 3
   },
   "file_extension": ".py",
   "mimetype": "text/x-python",
   "name": "python",
   "nbconvert_exporter": "python",
   "pygments_lexer": "ipython3",
   "version": "3.9.5"
  },
  "toc": {
   "base_numbering": 1,
   "nav_menu": {},
   "number_sections": true,
   "sideBar": true,
   "skip_h1_title": true,
   "title_cell": "Table of Contents",
   "title_sidebar": "Contents",
   "toc_cell": false,
   "toc_position": {},
   "toc_section_display": true,
   "toc_window_display": false
  }
 },
 "nbformat": 4,
 "nbformat_minor": 5
}

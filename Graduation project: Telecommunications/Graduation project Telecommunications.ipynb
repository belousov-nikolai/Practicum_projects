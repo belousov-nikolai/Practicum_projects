{
 "cells": [
  {
   "cell_type": "markdown",
   "id": "13b4ddbe",
   "metadata": {},
   "source": [
    "# Выпускной проект: телекоммуникации"
   ]
  },
  {
   "cell_type": "markdown",
   "id": "a780910d",
   "metadata": {},
   "source": [
    "Описание проекта: \n",
    "\n",
    "Оператор связи «ТелеДом» хочет бороться с оттоком клиентов. Для этого его сотрудники начнут предлагать промокоды и специальные условия всем, кто планирует отказаться от услуг связи. Чтобы заранее находить таких пользователей, «ТелеДому» нужна модель, которая будет предсказывать, разорвёт ли абонент договор. Команда оператора собрала персональные данные о некоторых клиентах, информацию об их тарифах и услугах. Ваша задача — обучить на этих данных модель для прогноза оттока клиентов."
   ]
  },
  {
   "cell_type": "markdown",
   "id": "ce2a5cff",
   "metadata": {},
   "source": [
    "Описание услуг\n",
    "\n",
    "Оператор предоставляет два основных типа услуг: \n",
    "- Стационарную телефонную связь. Телефон можно подключить к нескольким линиям одновременно.\n",
    "- Интернет. Подключение может быть двух типов: через телефонную линию (DSL, от англ. digital subscriber line — «цифровая абонентская линия») или оптоволоконный кабель (Fiber optic).\n",
    "\n",
    "Также доступны такие услуги:\n",
    "\n",
    "- Интернет-безопасность: антивирус (DeviceProtection) и блокировка небезопасных сайтов (OnlineSecurity);\n",
    "- Выделенная линия технической поддержки (TechSupport);\n",
    "- Облачное хранилище файлов для резервного копирования данных (OnlineBackup);\n",
    "- Стриминговое телевидение (StreamingTV) и каталог фильмов (StreamingMovies).\n",
    "\n",
    "Клиенты могут платить за услуги каждый месяц или заключить договор на 1–2 года. Возможно оплатить счёт разными способами, а также получить электронный чек."
   ]
  },
  {
   "cell_type": "markdown",
   "id": "9b7e4012",
   "metadata": {},
   "source": [
    "Описание данных\n",
    "\n",
    "Данные состоят из нескольких файлов, полученных из разных источников:\n",
    "\n",
    "- contract_new.csv — информация о договоре;\n",
    "- personal_new.csv — персональные данные клиента;\n",
    "- internet_new.csv — информация об интернет-услугах;\n",
    "- phone_new.csv — информация об услугах телефонии."
   ]
  },
  {
   "cell_type": "markdown",
   "id": "acd57234",
   "metadata": {},
   "source": [
    "Файл contract_new.csv:\n",
    "\n",
    "- customerID — идентификатор абонента;\n",
    "- BeginDate — дата начала действия договора;\n",
    "- EndDate — дата окончания действия договора;\n",
    "- Type — тип оплаты: раз в год-два или ежемесячно;\n",
    "- PaperlessBilling — электронный расчётный лист;\n",
    "- PaymentMethod — тип платежа;\n",
    "- MonthlyCharges — расходы за месяц;\n",
    "- TotalCharges — общие расходы абонента."
   ]
  },
  {
   "cell_type": "markdown",
   "id": "6ef56ac5",
   "metadata": {},
   "source": [
    "Файл personal_new.csv:\n",
    "\n",
    "- customerID — идентификатор пользователя;\n",
    "- gender — пол;\n",
    "- SeniorCitizen — является ли абонент пенсионером;\n",
    "- Partner — есть ли у абонента супруг или супруга;\n",
    "- Dependents — есть ли у абонента дети."
   ]
  },
  {
   "cell_type": "markdown",
   "id": "a2e3242b",
   "metadata": {},
   "source": [
    "Файл internet_new.csv\n",
    "\n",
    "- customerID — идентификатор пользователя;\n",
    "- InternetService — тип подключения;\n",
    "- OnlineSecurity — блокировка опасных сайтов;\n",
    "- OnlineBackup — облачное хранилище файлов для резервного копирования данных;\n",
    "- DeviceProtection — антивирус;\n",
    "- TechSupport — выделенная линия технической поддержки;\n",
    "- StreamingTV — стриминговое телевидение;\n",
    "- StreamingMovies — каталог фильмов."
   ]
  },
  {
   "cell_type": "markdown",
   "id": "e9f29c82",
   "metadata": {},
   "source": [
    "Файл phone_new.csv\n",
    "\n",
    "- customerID — идентификатор пользователя;\n",
    "- MultipleLines — подключение телефона к нескольким линиям одновременно."
   ]
  },
  {
   "cell_type": "markdown",
   "id": "d502d2fc",
   "metadata": {},
   "source": [
    "Во всех файлах столбец customerID содержит код клиента. Информация о договорах актуальна на 1 февраля 2020 года."
   ]
  },
  {
   "cell_type": "markdown",
   "id": "2c9f2e96",
   "metadata": {},
   "source": [
    "# План работы\n",
    "- Шаг 1. Загрузка данных\n",
    "- Шаг 2. Исследовательский анализ и предобработка данных\n",
    "- Шаг 3. Объединение данных\n",
    "- Шаг 4. Исследовательский анализ и предобработка данных объединённого датафрейма\n",
    "- Шаг 5. Подготовка данных\n",
    "- Шаг 6. Обучение моделей машинного обучения\n",
    "- Шаг 7. Выбор лучшей модели\n",
    "- Шаг 8. Общий вывод и рекомендации заказчику"
   ]
  },
  {
   "cell_type": "markdown",
   "id": "c17ad0af",
   "metadata": {},
   "source": [
    "## Загрузка данных "
   ]
  },
  {
   "cell_type": "code",
   "execution_count": 1,
   "id": "78b44d4a",
   "metadata": {},
   "outputs": [
    {
     "name": "stdout",
     "output_type": "stream",
     "text": [
      "\u001b[31mERROR: pip's dependency resolver does not currently take into account all the packages that are installed. This behaviour is the source of the following dependency conflicts.\n",
      "scipy 1.9.1 requires numpy<1.25.0,>=1.18.5, but you have numpy 2.0.2 which is incompatible.\n",
      "numba 0.56.0 requires numpy<1.23,>=1.18, but you have numpy 2.0.2 which is incompatible.\u001b[0m\n",
      "\u001b[31mERROR: pip's dependency resolver does not currently take into account all the packages that are installed. This behaviour is the source of the following dependency conflicts.\n",
      "numba 0.56.0 requires numpy<1.23,>=1.18, but you have numpy 1.24.4 which is incompatible.\u001b[0m\n"
     ]
    }
   ],
   "source": [
    "!pip install -U pyodbc -q\n",
    "\n",
    "!pip install -U numpy -q\n",
    "!pip install -U pandas -q \n",
    "!pip install -U scikit-learn -q\n",
    "\n",
    "!pip3 install phik -q\n",
    "!pip3 install imblearn -q\n",
    "!pip3 install catboost -q\n",
    "!pip3 install lightgbm -q\n",
    "\n",
    "!pip3 install pytest -q"
   ]
  },
  {
   "cell_type": "markdown",
   "id": "048d8fe8",
   "metadata": {},
   "source": [
    "Загрузим все необходимые для дальнешей работы библиотеки"
   ]
  },
  {
   "cell_type": "code",
   "execution_count": 2,
   "id": "d7b85818",
   "metadata": {},
   "outputs": [],
   "source": [
    "import numpy as np\n",
    "import pandas as pd\n",
    "import re\n",
    "import warnings\n",
    "warnings.filterwarnings(\"ignore\")\n",
    "import seaborn as sns\n",
    "import matplotlib.pyplot as plt\n",
    "from numpy.random import RandomState\n",
    "from catboost import CatBoostClassifier \n",
    "from lightgbm import LGBMClassifier\n",
    "from sklearn.preprocessing import StandardScaler, OneHotEncoder, OrdinalEncoder \n",
    "from sklearn.model_selection import train_test_split, GridSearchCV\n",
    "import phik\n",
    "from phik.report import plot_correlation_matrix\n",
    "from sklearn.metrics import roc_auc_score, accuracy_score, confusion_matrix, ConfusionMatrixDisplay, make_scorer, precision_score"
   ]
  },
  {
   "cell_type": "code",
   "execution_count": 3,
   "id": "03bdef45",
   "metadata": {},
   "outputs": [],
   "source": [
    "# Глобальные переменные:\n",
    "RANDOM_STATE = 130125\n",
    "TEST_SIZE = 0.25"
   ]
  },
  {
   "cell_type": "markdown",
   "id": "baf41553",
   "metadata": {},
   "source": [
    "Загрузим данные "
   ]
  },
  {
   "cell_type": "code",
   "execution_count": 4,
   "id": "4d83b9b9",
   "metadata": {},
   "outputs": [],
   "source": [
    "contract = pd.read_csv('/datasets/contract_new.csv')\n",
    "personal = pd.read_csv('/datasets/personal_new.csv')\n",
    "internet = pd.read_csv('/datasets/internet_new.csv')\n",
    "phone = pd.read_csv('/datasets/phone_new.csv')"
   ]
  },
  {
   "cell_type": "markdown",
   "id": "b1414cd5",
   "metadata": {},
   "source": [
    "посмотрим на набор данных contract и изучим общую информацию"
   ]
  },
  {
   "cell_type": "code",
   "execution_count": 5,
   "id": "822939bc",
   "metadata": {},
   "outputs": [
    {
     "data": {
      "text/html": [
       "<div>\n",
       "<style scoped>\n",
       "    .dataframe tbody tr th:only-of-type {\n",
       "        vertical-align: middle;\n",
       "    }\n",
       "\n",
       "    .dataframe tbody tr th {\n",
       "        vertical-align: top;\n",
       "    }\n",
       "\n",
       "    .dataframe thead th {\n",
       "        text-align: right;\n",
       "    }\n",
       "</style>\n",
       "<table border=\"1\" class=\"dataframe\">\n",
       "  <thead>\n",
       "    <tr style=\"text-align: right;\">\n",
       "      <th></th>\n",
       "      <th>customerID</th>\n",
       "      <th>BeginDate</th>\n",
       "      <th>EndDate</th>\n",
       "      <th>Type</th>\n",
       "      <th>PaperlessBilling</th>\n",
       "      <th>PaymentMethod</th>\n",
       "      <th>MonthlyCharges</th>\n",
       "      <th>TotalCharges</th>\n",
       "    </tr>\n",
       "  </thead>\n",
       "  <tbody>\n",
       "    <tr>\n",
       "      <th>0</th>\n",
       "      <td>7590-VHVEG</td>\n",
       "      <td>2020-01-01</td>\n",
       "      <td>No</td>\n",
       "      <td>Month-to-month</td>\n",
       "      <td>Yes</td>\n",
       "      <td>Electronic check</td>\n",
       "      <td>29.85</td>\n",
       "      <td>31.04</td>\n",
       "    </tr>\n",
       "    <tr>\n",
       "      <th>1</th>\n",
       "      <td>5575-GNVDE</td>\n",
       "      <td>2017-04-01</td>\n",
       "      <td>No</td>\n",
       "      <td>One year</td>\n",
       "      <td>No</td>\n",
       "      <td>Mailed check</td>\n",
       "      <td>56.95</td>\n",
       "      <td>2071.84</td>\n",
       "    </tr>\n",
       "    <tr>\n",
       "      <th>2</th>\n",
       "      <td>3668-QPYBK</td>\n",
       "      <td>2019-10-01</td>\n",
       "      <td>No</td>\n",
       "      <td>Month-to-month</td>\n",
       "      <td>Yes</td>\n",
       "      <td>Mailed check</td>\n",
       "      <td>53.85</td>\n",
       "      <td>226.17</td>\n",
       "    </tr>\n",
       "    <tr>\n",
       "      <th>3</th>\n",
       "      <td>7795-CFOCW</td>\n",
       "      <td>2016-05-01</td>\n",
       "      <td>No</td>\n",
       "      <td>One year</td>\n",
       "      <td>No</td>\n",
       "      <td>Bank transfer (automatic)</td>\n",
       "      <td>42.30</td>\n",
       "      <td>1960.6</td>\n",
       "    </tr>\n",
       "    <tr>\n",
       "      <th>4</th>\n",
       "      <td>9237-HQITU</td>\n",
       "      <td>2019-09-01</td>\n",
       "      <td>No</td>\n",
       "      <td>Month-to-month</td>\n",
       "      <td>Yes</td>\n",
       "      <td>Electronic check</td>\n",
       "      <td>70.70</td>\n",
       "      <td>353.5</td>\n",
       "    </tr>\n",
       "  </tbody>\n",
       "</table>\n",
       "</div>"
      ],
      "text/plain": [
       "   customerID   BeginDate EndDate            Type PaperlessBilling  \\\n",
       "0  7590-VHVEG  2020-01-01      No  Month-to-month              Yes   \n",
       "1  5575-GNVDE  2017-04-01      No        One year               No   \n",
       "2  3668-QPYBK  2019-10-01      No  Month-to-month              Yes   \n",
       "3  7795-CFOCW  2016-05-01      No        One year               No   \n",
       "4  9237-HQITU  2019-09-01      No  Month-to-month              Yes   \n",
       "\n",
       "               PaymentMethod  MonthlyCharges TotalCharges  \n",
       "0           Electronic check           29.85        31.04  \n",
       "1               Mailed check           56.95      2071.84  \n",
       "2               Mailed check           53.85       226.17  \n",
       "3  Bank transfer (automatic)           42.30       1960.6  \n",
       "4           Electronic check           70.70        353.5  "
      ]
     },
     "metadata": {},
     "output_type": "display_data"
    },
    {
     "name": "stdout",
     "output_type": "stream",
     "text": [
      "<class 'pandas.core.frame.DataFrame'>\n",
      "RangeIndex: 7043 entries, 0 to 7042\n",
      "Data columns (total 8 columns):\n",
      " #   Column            Non-Null Count  Dtype  \n",
      "---  ------            --------------  -----  \n",
      " 0   customerID        7043 non-null   object \n",
      " 1   BeginDate         7043 non-null   object \n",
      " 2   EndDate           7043 non-null   object \n",
      " 3   Type              7043 non-null   object \n",
      " 4   PaperlessBilling  7043 non-null   object \n",
      " 5   PaymentMethod     7043 non-null   object \n",
      " 6   MonthlyCharges    7043 non-null   float64\n",
      " 7   TotalCharges      7043 non-null   object \n",
      "dtypes: float64(1), object(7)\n",
      "memory usage: 440.3+ KB\n"
     ]
    }
   ],
   "source": [
    "display(contract.head())\n",
    "contract.info()"
   ]
  },
  {
   "cell_type": "markdown",
   "id": "df92e2e4",
   "metadata": {},
   "source": [
    "Пропусков нет, однако наблюдаем неверный тип данных \"TotalCharges\", необходимо привести его к float64"
   ]
  },
  {
   "cell_type": "code",
   "execution_count": 6,
   "id": "2967e1e9",
   "metadata": {},
   "outputs": [
    {
     "name": "stdout",
     "output_type": "stream",
     "text": [
      "<class 'pandas.core.frame.DataFrame'>\n",
      "RangeIndex: 7043 entries, 0 to 7042\n",
      "Data columns (total 8 columns):\n",
      " #   Column            Non-Null Count  Dtype  \n",
      "---  ------            --------------  -----  \n",
      " 0   customerID        7043 non-null   object \n",
      " 1   BeginDate         7043 non-null   object \n",
      " 2   EndDate           7043 non-null   object \n",
      " 3   Type              7043 non-null   object \n",
      " 4   PaperlessBilling  7043 non-null   object \n",
      " 5   PaymentMethod     7043 non-null   object \n",
      " 6   MonthlyCharges    7043 non-null   float64\n",
      " 7   TotalCharges      7032 non-null   float64\n",
      "dtypes: float64(2), object(6)\n",
      "memory usage: 440.3+ KB\n"
     ]
    }
   ],
   "source": [
    "contract.TotalCharges = pd.to_numeric(contract.TotalCharges, errors ='coerce')\n",
    "contract.info()"
   ]
  },
  {
   "cell_type": "markdown",
   "id": "9d64c824",
   "metadata": {},
   "source": [
    "В столбце \"TotalCharges\" появились пропуски, изучим их"
   ]
  },
  {
   "cell_type": "code",
   "execution_count": 7,
   "id": "5fb20495",
   "metadata": {},
   "outputs": [
    {
     "data": {
      "text/html": [
       "<div>\n",
       "<style scoped>\n",
       "    .dataframe tbody tr th:only-of-type {\n",
       "        vertical-align: middle;\n",
       "    }\n",
       "\n",
       "    .dataframe tbody tr th {\n",
       "        vertical-align: top;\n",
       "    }\n",
       "\n",
       "    .dataframe thead th {\n",
       "        text-align: right;\n",
       "    }\n",
       "</style>\n",
       "<table border=\"1\" class=\"dataframe\">\n",
       "  <thead>\n",
       "    <tr style=\"text-align: right;\">\n",
       "      <th></th>\n",
       "      <th>customerID</th>\n",
       "      <th>BeginDate</th>\n",
       "      <th>EndDate</th>\n",
       "      <th>Type</th>\n",
       "      <th>PaperlessBilling</th>\n",
       "      <th>PaymentMethod</th>\n",
       "      <th>MonthlyCharges</th>\n",
       "      <th>TotalCharges</th>\n",
       "    </tr>\n",
       "  </thead>\n",
       "  <tbody>\n",
       "    <tr>\n",
       "      <th>488</th>\n",
       "      <td>4472-LVYGI</td>\n",
       "      <td>2020-02-01</td>\n",
       "      <td>No</td>\n",
       "      <td>Two year</td>\n",
       "      <td>Yes</td>\n",
       "      <td>Bank transfer (automatic)</td>\n",
       "      <td>52.55</td>\n",
       "      <td>NaN</td>\n",
       "    </tr>\n",
       "    <tr>\n",
       "      <th>753</th>\n",
       "      <td>3115-CZMZD</td>\n",
       "      <td>2020-02-01</td>\n",
       "      <td>No</td>\n",
       "      <td>Two year</td>\n",
       "      <td>No</td>\n",
       "      <td>Mailed check</td>\n",
       "      <td>20.25</td>\n",
       "      <td>NaN</td>\n",
       "    </tr>\n",
       "    <tr>\n",
       "      <th>936</th>\n",
       "      <td>5709-LVOEQ</td>\n",
       "      <td>2020-02-01</td>\n",
       "      <td>No</td>\n",
       "      <td>Two year</td>\n",
       "      <td>No</td>\n",
       "      <td>Mailed check</td>\n",
       "      <td>80.85</td>\n",
       "      <td>NaN</td>\n",
       "    </tr>\n",
       "    <tr>\n",
       "      <th>1082</th>\n",
       "      <td>4367-NUYAO</td>\n",
       "      <td>2020-02-01</td>\n",
       "      <td>No</td>\n",
       "      <td>Two year</td>\n",
       "      <td>No</td>\n",
       "      <td>Mailed check</td>\n",
       "      <td>25.75</td>\n",
       "      <td>NaN</td>\n",
       "    </tr>\n",
       "    <tr>\n",
       "      <th>1340</th>\n",
       "      <td>1371-DWPAZ</td>\n",
       "      <td>2020-02-01</td>\n",
       "      <td>No</td>\n",
       "      <td>Two year</td>\n",
       "      <td>No</td>\n",
       "      <td>Credit card (automatic)</td>\n",
       "      <td>56.05</td>\n",
       "      <td>NaN</td>\n",
       "    </tr>\n",
       "    <tr>\n",
       "      <th>3331</th>\n",
       "      <td>7644-OMVMY</td>\n",
       "      <td>2020-02-01</td>\n",
       "      <td>No</td>\n",
       "      <td>Two year</td>\n",
       "      <td>No</td>\n",
       "      <td>Mailed check</td>\n",
       "      <td>19.85</td>\n",
       "      <td>NaN</td>\n",
       "    </tr>\n",
       "    <tr>\n",
       "      <th>3826</th>\n",
       "      <td>3213-VVOLG</td>\n",
       "      <td>2020-02-01</td>\n",
       "      <td>No</td>\n",
       "      <td>Two year</td>\n",
       "      <td>No</td>\n",
       "      <td>Mailed check</td>\n",
       "      <td>25.35</td>\n",
       "      <td>NaN</td>\n",
       "    </tr>\n",
       "    <tr>\n",
       "      <th>4380</th>\n",
       "      <td>2520-SGTTA</td>\n",
       "      <td>2020-02-01</td>\n",
       "      <td>No</td>\n",
       "      <td>Two year</td>\n",
       "      <td>No</td>\n",
       "      <td>Mailed check</td>\n",
       "      <td>20.00</td>\n",
       "      <td>NaN</td>\n",
       "    </tr>\n",
       "    <tr>\n",
       "      <th>5218</th>\n",
       "      <td>2923-ARZLG</td>\n",
       "      <td>2020-02-01</td>\n",
       "      <td>No</td>\n",
       "      <td>One year</td>\n",
       "      <td>Yes</td>\n",
       "      <td>Mailed check</td>\n",
       "      <td>19.70</td>\n",
       "      <td>NaN</td>\n",
       "    </tr>\n",
       "    <tr>\n",
       "      <th>6670</th>\n",
       "      <td>4075-WKNIU</td>\n",
       "      <td>2020-02-01</td>\n",
       "      <td>No</td>\n",
       "      <td>Two year</td>\n",
       "      <td>No</td>\n",
       "      <td>Mailed check</td>\n",
       "      <td>73.35</td>\n",
       "      <td>NaN</td>\n",
       "    </tr>\n",
       "    <tr>\n",
       "      <th>6754</th>\n",
       "      <td>2775-SEFEE</td>\n",
       "      <td>2020-02-01</td>\n",
       "      <td>No</td>\n",
       "      <td>Two year</td>\n",
       "      <td>Yes</td>\n",
       "      <td>Bank transfer (automatic)</td>\n",
       "      <td>61.90</td>\n",
       "      <td>NaN</td>\n",
       "    </tr>\n",
       "  </tbody>\n",
       "</table>\n",
       "</div>"
      ],
      "text/plain": [
       "      customerID   BeginDate EndDate      Type PaperlessBilling  \\\n",
       "488   4472-LVYGI  2020-02-01      No  Two year              Yes   \n",
       "753   3115-CZMZD  2020-02-01      No  Two year               No   \n",
       "936   5709-LVOEQ  2020-02-01      No  Two year               No   \n",
       "1082  4367-NUYAO  2020-02-01      No  Two year               No   \n",
       "1340  1371-DWPAZ  2020-02-01      No  Two year               No   \n",
       "3331  7644-OMVMY  2020-02-01      No  Two year               No   \n",
       "3826  3213-VVOLG  2020-02-01      No  Two year               No   \n",
       "4380  2520-SGTTA  2020-02-01      No  Two year               No   \n",
       "5218  2923-ARZLG  2020-02-01      No  One year              Yes   \n",
       "6670  4075-WKNIU  2020-02-01      No  Two year               No   \n",
       "6754  2775-SEFEE  2020-02-01      No  Two year              Yes   \n",
       "\n",
       "                  PaymentMethod  MonthlyCharges  TotalCharges  \n",
       "488   Bank transfer (automatic)           52.55           NaN  \n",
       "753                Mailed check           20.25           NaN  \n",
       "936                Mailed check           80.85           NaN  \n",
       "1082               Mailed check           25.75           NaN  \n",
       "1340    Credit card (automatic)           56.05           NaN  \n",
       "3331               Mailed check           19.85           NaN  \n",
       "3826               Mailed check           25.35           NaN  \n",
       "4380               Mailed check           20.00           NaN  \n",
       "5218               Mailed check           19.70           NaN  \n",
       "6670               Mailed check           73.35           NaN  \n",
       "6754  Bank transfer (automatic)           61.90           NaN  "
      ]
     },
     "execution_count": 7,
     "metadata": {},
     "output_type": "execute_result"
    }
   ],
   "source": [
    "contract.loc[contract.TotalCharges.isna()==True]"
   ]
  },
  {
   "cell_type": "markdown",
   "id": "07422894",
   "metadata": {},
   "source": [
    "Наблюдаем 11 записей в столбце TotalCharges со значением NaN. Думаю это пользователи, которые недавно заключили договор, поскольку у всех стоит одна дата и согласно заданию \"Информация о договорах актуальна на 1 февраля 2020 года\", то есть как раз эта дата. Целесообразно заменить эти значения на 0, видимо клиенты ещё не производили оплату."
   ]
  },
  {
   "cell_type": "code",
   "execution_count": 8,
   "id": "7c0d6ab6",
   "metadata": {},
   "outputs": [],
   "source": [
    "contract.TotalCharges = contract.TotalCharges.fillna(0)"
   ]
  },
  {
   "cell_type": "code",
   "execution_count": 9,
   "id": "475f4b6f",
   "metadata": {},
   "outputs": [
    {
     "name": "stdout",
     "output_type": "stream",
     "text": [
      "<class 'pandas.core.frame.DataFrame'>\n",
      "RangeIndex: 7043 entries, 0 to 7042\n",
      "Data columns (total 8 columns):\n",
      " #   Column            Non-Null Count  Dtype  \n",
      "---  ------            --------------  -----  \n",
      " 0   customerID        7043 non-null   object \n",
      " 1   BeginDate         7043 non-null   object \n",
      " 2   EndDate           7043 non-null   object \n",
      " 3   Type              7043 non-null   object \n",
      " 4   PaperlessBilling  7043 non-null   object \n",
      " 5   PaymentMethod     7043 non-null   object \n",
      " 6   MonthlyCharges    7043 non-null   float64\n",
      " 7   TotalCharges      7043 non-null   float64\n",
      "dtypes: float64(2), object(6)\n",
      "memory usage: 440.3+ KB\n"
     ]
    }
   ],
   "source": [
    "#проверим\n",
    "contract.info()"
   ]
  },
  {
   "cell_type": "markdown",
   "id": "7fc0a62f",
   "metadata": {},
   "source": [
    "посмотрим на набор данных personal и изучим общую информацию"
   ]
  },
  {
   "cell_type": "code",
   "execution_count": 10,
   "id": "c32c9397",
   "metadata": {},
   "outputs": [
    {
     "data": {
      "text/html": [
       "<div>\n",
       "<style scoped>\n",
       "    .dataframe tbody tr th:only-of-type {\n",
       "        vertical-align: middle;\n",
       "    }\n",
       "\n",
       "    .dataframe tbody tr th {\n",
       "        vertical-align: top;\n",
       "    }\n",
       "\n",
       "    .dataframe thead th {\n",
       "        text-align: right;\n",
       "    }\n",
       "</style>\n",
       "<table border=\"1\" class=\"dataframe\">\n",
       "  <thead>\n",
       "    <tr style=\"text-align: right;\">\n",
       "      <th></th>\n",
       "      <th>customerID</th>\n",
       "      <th>gender</th>\n",
       "      <th>SeniorCitizen</th>\n",
       "      <th>Partner</th>\n",
       "      <th>Dependents</th>\n",
       "    </tr>\n",
       "  </thead>\n",
       "  <tbody>\n",
       "    <tr>\n",
       "      <th>0</th>\n",
       "      <td>7590-VHVEG</td>\n",
       "      <td>Female</td>\n",
       "      <td>0</td>\n",
       "      <td>Yes</td>\n",
       "      <td>No</td>\n",
       "    </tr>\n",
       "    <tr>\n",
       "      <th>1</th>\n",
       "      <td>5575-GNVDE</td>\n",
       "      <td>Male</td>\n",
       "      <td>0</td>\n",
       "      <td>No</td>\n",
       "      <td>No</td>\n",
       "    </tr>\n",
       "    <tr>\n",
       "      <th>2</th>\n",
       "      <td>3668-QPYBK</td>\n",
       "      <td>Male</td>\n",
       "      <td>0</td>\n",
       "      <td>No</td>\n",
       "      <td>No</td>\n",
       "    </tr>\n",
       "    <tr>\n",
       "      <th>3</th>\n",
       "      <td>7795-CFOCW</td>\n",
       "      <td>Male</td>\n",
       "      <td>0</td>\n",
       "      <td>No</td>\n",
       "      <td>No</td>\n",
       "    </tr>\n",
       "    <tr>\n",
       "      <th>4</th>\n",
       "      <td>9237-HQITU</td>\n",
       "      <td>Female</td>\n",
       "      <td>0</td>\n",
       "      <td>No</td>\n",
       "      <td>No</td>\n",
       "    </tr>\n",
       "  </tbody>\n",
       "</table>\n",
       "</div>"
      ],
      "text/plain": [
       "   customerID  gender  SeniorCitizen Partner Dependents\n",
       "0  7590-VHVEG  Female              0     Yes         No\n",
       "1  5575-GNVDE    Male              0      No         No\n",
       "2  3668-QPYBK    Male              0      No         No\n",
       "3  7795-CFOCW    Male              0      No         No\n",
       "4  9237-HQITU  Female              0      No         No"
      ]
     },
     "metadata": {},
     "output_type": "display_data"
    },
    {
     "name": "stdout",
     "output_type": "stream",
     "text": [
      "<class 'pandas.core.frame.DataFrame'>\n",
      "RangeIndex: 7043 entries, 0 to 7042\n",
      "Data columns (total 5 columns):\n",
      " #   Column         Non-Null Count  Dtype \n",
      "---  ------         --------------  ----- \n",
      " 0   customerID     7043 non-null   object\n",
      " 1   gender         7043 non-null   object\n",
      " 2   SeniorCitizen  7043 non-null   int64 \n",
      " 3   Partner        7043 non-null   object\n",
      " 4   Dependents     7043 non-null   object\n",
      "dtypes: int64(1), object(4)\n",
      "memory usage: 275.2+ KB\n"
     ]
    }
   ],
   "source": [
    "display(personal.head())\n",
    "personal.info()"
   ]
  },
  {
   "cell_type": "markdown",
   "id": "436b7bf5",
   "metadata": {},
   "source": [
    "посмотрим уникальные значения столбца SeniorCitizen"
   ]
  },
  {
   "cell_type": "code",
   "execution_count": 11,
   "id": "6b8b3d97",
   "metadata": {},
   "outputs": [
    {
     "data": {
      "text/plain": [
       "array([0, 1])"
      ]
     },
     "execution_count": 11,
     "metadata": {},
     "output_type": "execute_result"
    }
   ],
   "source": [
    "personal['SeniorCitizen'].unique()"
   ]
  },
  {
   "cell_type": "markdown",
   "id": "2db83779",
   "metadata": {},
   "source": [
    "посмотрим на набор данных internet и изучим общую информацию"
   ]
  },
  {
   "cell_type": "code",
   "execution_count": 12,
   "id": "2c5d53e5",
   "metadata": {},
   "outputs": [
    {
     "data": {
      "text/html": [
       "<div>\n",
       "<style scoped>\n",
       "    .dataframe tbody tr th:only-of-type {\n",
       "        vertical-align: middle;\n",
       "    }\n",
       "\n",
       "    .dataframe tbody tr th {\n",
       "        vertical-align: top;\n",
       "    }\n",
       "\n",
       "    .dataframe thead th {\n",
       "        text-align: right;\n",
       "    }\n",
       "</style>\n",
       "<table border=\"1\" class=\"dataframe\">\n",
       "  <thead>\n",
       "    <tr style=\"text-align: right;\">\n",
       "      <th></th>\n",
       "      <th>customerID</th>\n",
       "      <th>InternetService</th>\n",
       "      <th>OnlineSecurity</th>\n",
       "      <th>OnlineBackup</th>\n",
       "      <th>DeviceProtection</th>\n",
       "      <th>TechSupport</th>\n",
       "      <th>StreamingTV</th>\n",
       "      <th>StreamingMovies</th>\n",
       "    </tr>\n",
       "  </thead>\n",
       "  <tbody>\n",
       "    <tr>\n",
       "      <th>0</th>\n",
       "      <td>7590-VHVEG</td>\n",
       "      <td>DSL</td>\n",
       "      <td>No</td>\n",
       "      <td>Yes</td>\n",
       "      <td>No</td>\n",
       "      <td>No</td>\n",
       "      <td>No</td>\n",
       "      <td>No</td>\n",
       "    </tr>\n",
       "    <tr>\n",
       "      <th>1</th>\n",
       "      <td>5575-GNVDE</td>\n",
       "      <td>DSL</td>\n",
       "      <td>Yes</td>\n",
       "      <td>No</td>\n",
       "      <td>Yes</td>\n",
       "      <td>No</td>\n",
       "      <td>No</td>\n",
       "      <td>No</td>\n",
       "    </tr>\n",
       "    <tr>\n",
       "      <th>2</th>\n",
       "      <td>3668-QPYBK</td>\n",
       "      <td>DSL</td>\n",
       "      <td>Yes</td>\n",
       "      <td>Yes</td>\n",
       "      <td>No</td>\n",
       "      <td>No</td>\n",
       "      <td>No</td>\n",
       "      <td>No</td>\n",
       "    </tr>\n",
       "    <tr>\n",
       "      <th>3</th>\n",
       "      <td>7795-CFOCW</td>\n",
       "      <td>DSL</td>\n",
       "      <td>Yes</td>\n",
       "      <td>No</td>\n",
       "      <td>Yes</td>\n",
       "      <td>Yes</td>\n",
       "      <td>No</td>\n",
       "      <td>No</td>\n",
       "    </tr>\n",
       "    <tr>\n",
       "      <th>4</th>\n",
       "      <td>9237-HQITU</td>\n",
       "      <td>Fiber optic</td>\n",
       "      <td>No</td>\n",
       "      <td>No</td>\n",
       "      <td>No</td>\n",
       "      <td>No</td>\n",
       "      <td>No</td>\n",
       "      <td>No</td>\n",
       "    </tr>\n",
       "  </tbody>\n",
       "</table>\n",
       "</div>"
      ],
      "text/plain": [
       "   customerID InternetService OnlineSecurity OnlineBackup DeviceProtection  \\\n",
       "0  7590-VHVEG             DSL             No          Yes               No   \n",
       "1  5575-GNVDE             DSL            Yes           No              Yes   \n",
       "2  3668-QPYBK             DSL            Yes          Yes               No   \n",
       "3  7795-CFOCW             DSL            Yes           No              Yes   \n",
       "4  9237-HQITU     Fiber optic             No           No               No   \n",
       "\n",
       "  TechSupport StreamingTV StreamingMovies  \n",
       "0          No          No              No  \n",
       "1          No          No              No  \n",
       "2          No          No              No  \n",
       "3         Yes          No              No  \n",
       "4          No          No              No  "
      ]
     },
     "metadata": {},
     "output_type": "display_data"
    },
    {
     "name": "stdout",
     "output_type": "stream",
     "text": [
      "<class 'pandas.core.frame.DataFrame'>\n",
      "RangeIndex: 5517 entries, 0 to 5516\n",
      "Data columns (total 8 columns):\n",
      " #   Column            Non-Null Count  Dtype \n",
      "---  ------            --------------  ----- \n",
      " 0   customerID        5517 non-null   object\n",
      " 1   InternetService   5517 non-null   object\n",
      " 2   OnlineSecurity    5517 non-null   object\n",
      " 3   OnlineBackup      5517 non-null   object\n",
      " 4   DeviceProtection  5517 non-null   object\n",
      " 5   TechSupport       5517 non-null   object\n",
      " 6   StreamingTV       5517 non-null   object\n",
      " 7   StreamingMovies   5517 non-null   object\n",
      "dtypes: object(8)\n",
      "memory usage: 344.9+ KB\n"
     ]
    }
   ],
   "source": [
    "display(internet.head())\n",
    "internet.info()"
   ]
  },
  {
   "cell_type": "markdown",
   "id": "c7812f7e",
   "metadata": {},
   "source": [
    "посмотрим на набор данных phone и изучим общую информацию"
   ]
  },
  {
   "cell_type": "code",
   "execution_count": 13,
   "id": "dec29472",
   "metadata": {},
   "outputs": [
    {
     "data": {
      "text/html": [
       "<div>\n",
       "<style scoped>\n",
       "    .dataframe tbody tr th:only-of-type {\n",
       "        vertical-align: middle;\n",
       "    }\n",
       "\n",
       "    .dataframe tbody tr th {\n",
       "        vertical-align: top;\n",
       "    }\n",
       "\n",
       "    .dataframe thead th {\n",
       "        text-align: right;\n",
       "    }\n",
       "</style>\n",
       "<table border=\"1\" class=\"dataframe\">\n",
       "  <thead>\n",
       "    <tr style=\"text-align: right;\">\n",
       "      <th></th>\n",
       "      <th>customerID</th>\n",
       "      <th>MultipleLines</th>\n",
       "    </tr>\n",
       "  </thead>\n",
       "  <tbody>\n",
       "    <tr>\n",
       "      <th>0</th>\n",
       "      <td>5575-GNVDE</td>\n",
       "      <td>No</td>\n",
       "    </tr>\n",
       "    <tr>\n",
       "      <th>1</th>\n",
       "      <td>3668-QPYBK</td>\n",
       "      <td>No</td>\n",
       "    </tr>\n",
       "    <tr>\n",
       "      <th>2</th>\n",
       "      <td>9237-HQITU</td>\n",
       "      <td>No</td>\n",
       "    </tr>\n",
       "    <tr>\n",
       "      <th>3</th>\n",
       "      <td>9305-CDSKC</td>\n",
       "      <td>Yes</td>\n",
       "    </tr>\n",
       "    <tr>\n",
       "      <th>4</th>\n",
       "      <td>1452-KIOVK</td>\n",
       "      <td>Yes</td>\n",
       "    </tr>\n",
       "  </tbody>\n",
       "</table>\n",
       "</div>"
      ],
      "text/plain": [
       "   customerID MultipleLines\n",
       "0  5575-GNVDE            No\n",
       "1  3668-QPYBK            No\n",
       "2  9237-HQITU            No\n",
       "3  9305-CDSKC           Yes\n",
       "4  1452-KIOVK           Yes"
      ]
     },
     "metadata": {},
     "output_type": "display_data"
    },
    {
     "name": "stdout",
     "output_type": "stream",
     "text": [
      "<class 'pandas.core.frame.DataFrame'>\n",
      "RangeIndex: 6361 entries, 0 to 6360\n",
      "Data columns (total 2 columns):\n",
      " #   Column         Non-Null Count  Dtype \n",
      "---  ------         --------------  ----- \n",
      " 0   customerID     6361 non-null   object\n",
      " 1   MultipleLines  6361 non-null   object\n",
      "dtypes: object(2)\n",
      "memory usage: 99.5+ KB\n"
     ]
    }
   ],
   "source": [
    "display(phone.head())\n",
    "phone.info()"
   ]
  },
  {
   "cell_type": "markdown",
   "id": "c2bada16",
   "metadata": {},
   "source": [
    "### Промежуточные выводы:"
   ]
  },
  {
   "cell_type": "markdown",
   "id": "24e39e7a",
   "metadata": {},
   "source": [
    "- В датафреймах phone и internet пропусков нет, тип данных верный\n",
    "- В наборе данных personal пропусков нет, однако есть ошибка в столбце \"SeniorCitizen\". Вместо 0 и 1 должны быть Да или Нет\n",
    "- В датафрейме contract пропусков нет, однако у столбцов \"BeginDate\", \"EndDate\" неверный тип данных, должен быть datetime. У \"TotalCharges\" должен быть float (уже исправили)"
   ]
  },
  {
   "cell_type": "markdown",
   "id": "d7f9438f",
   "metadata": {},
   "source": [
    "## Предобработка данных"
   ]
  },
  {
   "cell_type": "code",
   "execution_count": 14,
   "id": "90980522",
   "metadata": {},
   "outputs": [],
   "source": [
    "# Объединение таблиц:\n",
    "df = contract.merge(personal, on='customerID', how='inner')\n",
    "df = df.merge(internet, on ='customerID', how = 'outer')\n",
    "df = df.merge(phone, on ='customerID', how = 'outer')"
   ]
  },
  {
   "cell_type": "code",
   "execution_count": 15,
   "id": "48cac5f9",
   "metadata": {},
   "outputs": [
    {
     "data": {
      "text/html": [
       "<div>\n",
       "<style scoped>\n",
       "    .dataframe tbody tr th:only-of-type {\n",
       "        vertical-align: middle;\n",
       "    }\n",
       "\n",
       "    .dataframe tbody tr th {\n",
       "        vertical-align: top;\n",
       "    }\n",
       "\n",
       "    .dataframe thead th {\n",
       "        text-align: right;\n",
       "    }\n",
       "</style>\n",
       "<table border=\"1\" class=\"dataframe\">\n",
       "  <thead>\n",
       "    <tr style=\"text-align: right;\">\n",
       "      <th></th>\n",
       "      <th>customerID</th>\n",
       "      <th>BeginDate</th>\n",
       "      <th>EndDate</th>\n",
       "      <th>Type</th>\n",
       "      <th>PaperlessBilling</th>\n",
       "      <th>PaymentMethod</th>\n",
       "      <th>MonthlyCharges</th>\n",
       "      <th>TotalCharges</th>\n",
       "      <th>gender</th>\n",
       "      <th>SeniorCitizen</th>\n",
       "      <th>Partner</th>\n",
       "      <th>Dependents</th>\n",
       "      <th>InternetService</th>\n",
       "      <th>OnlineSecurity</th>\n",
       "      <th>OnlineBackup</th>\n",
       "      <th>DeviceProtection</th>\n",
       "      <th>TechSupport</th>\n",
       "      <th>StreamingTV</th>\n",
       "      <th>StreamingMovies</th>\n",
       "      <th>MultipleLines</th>\n",
       "    </tr>\n",
       "  </thead>\n",
       "  <tbody>\n",
       "    <tr>\n",
       "      <th>0</th>\n",
       "      <td>0002-ORFBO</td>\n",
       "      <td>2019-05-01</td>\n",
       "      <td>No</td>\n",
       "      <td>One year</td>\n",
       "      <td>Yes</td>\n",
       "      <td>Mailed check</td>\n",
       "      <td>65.6</td>\n",
       "      <td>631.73</td>\n",
       "      <td>Female</td>\n",
       "      <td>0</td>\n",
       "      <td>Yes</td>\n",
       "      <td>Yes</td>\n",
       "      <td>DSL</td>\n",
       "      <td>No</td>\n",
       "      <td>Yes</td>\n",
       "      <td>No</td>\n",
       "      <td>Yes</td>\n",
       "      <td>Yes</td>\n",
       "      <td>No</td>\n",
       "      <td>No</td>\n",
       "    </tr>\n",
       "    <tr>\n",
       "      <th>1</th>\n",
       "      <td>0003-MKNFE</td>\n",
       "      <td>2019-05-01</td>\n",
       "      <td>No</td>\n",
       "      <td>Month-to-month</td>\n",
       "      <td>No</td>\n",
       "      <td>Mailed check</td>\n",
       "      <td>59.9</td>\n",
       "      <td>539.10</td>\n",
       "      <td>Male</td>\n",
       "      <td>0</td>\n",
       "      <td>No</td>\n",
       "      <td>No</td>\n",
       "      <td>DSL</td>\n",
       "      <td>No</td>\n",
       "      <td>No</td>\n",
       "      <td>No</td>\n",
       "      <td>No</td>\n",
       "      <td>No</td>\n",
       "      <td>Yes</td>\n",
       "      <td>Yes</td>\n",
       "    </tr>\n",
       "    <tr>\n",
       "      <th>2</th>\n",
       "      <td>0004-TLHLJ</td>\n",
       "      <td>2019-09-01</td>\n",
       "      <td>No</td>\n",
       "      <td>Month-to-month</td>\n",
       "      <td>Yes</td>\n",
       "      <td>Electronic check</td>\n",
       "      <td>73.9</td>\n",
       "      <td>406.45</td>\n",
       "      <td>Male</td>\n",
       "      <td>0</td>\n",
       "      <td>No</td>\n",
       "      <td>No</td>\n",
       "      <td>Fiber optic</td>\n",
       "      <td>No</td>\n",
       "      <td>No</td>\n",
       "      <td>Yes</td>\n",
       "      <td>No</td>\n",
       "      <td>No</td>\n",
       "      <td>No</td>\n",
       "      <td>No</td>\n",
       "    </tr>\n",
       "    <tr>\n",
       "      <th>3</th>\n",
       "      <td>0011-IGKFF</td>\n",
       "      <td>2018-12-01</td>\n",
       "      <td>No</td>\n",
       "      <td>Month-to-month</td>\n",
       "      <td>Yes</td>\n",
       "      <td>Electronic check</td>\n",
       "      <td>98.0</td>\n",
       "      <td>1372.00</td>\n",
       "      <td>Male</td>\n",
       "      <td>1</td>\n",
       "      <td>Yes</td>\n",
       "      <td>No</td>\n",
       "      <td>Fiber optic</td>\n",
       "      <td>No</td>\n",
       "      <td>Yes</td>\n",
       "      <td>Yes</td>\n",
       "      <td>No</td>\n",
       "      <td>Yes</td>\n",
       "      <td>Yes</td>\n",
       "      <td>No</td>\n",
       "    </tr>\n",
       "    <tr>\n",
       "      <th>4</th>\n",
       "      <td>0013-EXCHZ</td>\n",
       "      <td>2019-09-01</td>\n",
       "      <td>No</td>\n",
       "      <td>Month-to-month</td>\n",
       "      <td>Yes</td>\n",
       "      <td>Mailed check</td>\n",
       "      <td>83.9</td>\n",
       "      <td>444.67</td>\n",
       "      <td>Female</td>\n",
       "      <td>1</td>\n",
       "      <td>Yes</td>\n",
       "      <td>No</td>\n",
       "      <td>Fiber optic</td>\n",
       "      <td>No</td>\n",
       "      <td>No</td>\n",
       "      <td>No</td>\n",
       "      <td>Yes</td>\n",
       "      <td>Yes</td>\n",
       "      <td>No</td>\n",
       "      <td>No</td>\n",
       "    </tr>\n",
       "  </tbody>\n",
       "</table>\n",
       "</div>"
      ],
      "text/plain": [
       "   customerID   BeginDate EndDate            Type PaperlessBilling  \\\n",
       "0  0002-ORFBO  2019-05-01      No        One year              Yes   \n",
       "1  0003-MKNFE  2019-05-01      No  Month-to-month               No   \n",
       "2  0004-TLHLJ  2019-09-01      No  Month-to-month              Yes   \n",
       "3  0011-IGKFF  2018-12-01      No  Month-to-month              Yes   \n",
       "4  0013-EXCHZ  2019-09-01      No  Month-to-month              Yes   \n",
       "\n",
       "      PaymentMethod  MonthlyCharges  TotalCharges  gender  SeniorCitizen  \\\n",
       "0      Mailed check            65.6        631.73  Female              0   \n",
       "1      Mailed check            59.9        539.10    Male              0   \n",
       "2  Electronic check            73.9        406.45    Male              0   \n",
       "3  Electronic check            98.0       1372.00    Male              1   \n",
       "4      Mailed check            83.9        444.67  Female              1   \n",
       "\n",
       "  Partner Dependents InternetService OnlineSecurity OnlineBackup  \\\n",
       "0     Yes        Yes             DSL             No          Yes   \n",
       "1      No         No             DSL             No           No   \n",
       "2      No         No     Fiber optic             No           No   \n",
       "3     Yes         No     Fiber optic             No          Yes   \n",
       "4     Yes         No     Fiber optic             No           No   \n",
       "\n",
       "  DeviceProtection TechSupport StreamingTV StreamingMovies MultipleLines  \n",
       "0               No         Yes         Yes              No            No  \n",
       "1               No          No          No             Yes           Yes  \n",
       "2              Yes          No          No              No            No  \n",
       "3              Yes          No         Yes             Yes            No  \n",
       "4               No         Yes         Yes              No            No  "
      ]
     },
     "metadata": {},
     "output_type": "display_data"
    },
    {
     "name": "stdout",
     "output_type": "stream",
     "text": [
      "<class 'pandas.core.frame.DataFrame'>\n",
      "RangeIndex: 7043 entries, 0 to 7042\n",
      "Data columns (total 20 columns):\n",
      " #   Column            Non-Null Count  Dtype  \n",
      "---  ------            --------------  -----  \n",
      " 0   customerID        7043 non-null   object \n",
      " 1   BeginDate         7043 non-null   object \n",
      " 2   EndDate           7043 non-null   object \n",
      " 3   Type              7043 non-null   object \n",
      " 4   PaperlessBilling  7043 non-null   object \n",
      " 5   PaymentMethod     7043 non-null   object \n",
      " 6   MonthlyCharges    7043 non-null   float64\n",
      " 7   TotalCharges      7043 non-null   float64\n",
      " 8   gender            7043 non-null   object \n",
      " 9   SeniorCitizen     7043 non-null   int64  \n",
      " 10  Partner           7043 non-null   object \n",
      " 11  Dependents        7043 non-null   object \n",
      " 12  InternetService   5517 non-null   object \n",
      " 13  OnlineSecurity    5517 non-null   object \n",
      " 14  OnlineBackup      5517 non-null   object \n",
      " 15  DeviceProtection  5517 non-null   object \n",
      " 16  TechSupport       5517 non-null   object \n",
      " 17  StreamingTV       5517 non-null   object \n",
      " 18  StreamingMovies   5517 non-null   object \n",
      " 19  MultipleLines     6361 non-null   object \n",
      "dtypes: float64(2), int64(1), object(17)\n",
      "memory usage: 1.1+ MB\n"
     ]
    }
   ],
   "source": [
    "# Выведем на экран наш получившийся датафрейм и изучим о нем общую информацию\n",
    "display(df.head())\n",
    "df.info()"
   ]
  },
  {
   "cell_type": "code",
   "execution_count": 16,
   "id": "828e63d0",
   "metadata": {},
   "outputs": [
    {
     "data": {
      "text/plain": [
       "0"
      ]
     },
     "execution_count": 16,
     "metadata": {},
     "output_type": "execute_result"
    }
   ],
   "source": [
    "#проверим количество дубликатов\n",
    "df.duplicated().sum()"
   ]
  },
  {
   "cell_type": "markdown",
   "id": "8dbdf66e",
   "metadata": {},
   "source": [
    "Дубликатов не обнаружено, но надо подумать, что делать с пустыми значениями в столбцах. Их удаление может негативно сказаться на работе будущей модели. Разное количество записей означает, что одни клиенты пользуются либо мобильной связью, либо интернетом. "
   ]
  },
  {
   "cell_type": "markdown",
   "id": "9c4b68fb",
   "metadata": {},
   "source": [
    "Пропуски в \"internet\" и \"phone\" означают, что клиент не пользуется услугами, целесообразно заполнить пропущенные значения \"No\". В нашем наборе данных присутствие yes/no встречается часто"
   ]
  },
  {
   "cell_type": "code",
   "execution_count": 17,
   "id": "3d72423f",
   "metadata": {},
   "outputs": [],
   "source": [
    "df.fillna('No', inplace=True)"
   ]
  },
  {
   "cell_type": "code",
   "execution_count": 18,
   "id": "c139ff50",
   "metadata": {},
   "outputs": [
    {
     "name": "stdout",
     "output_type": "stream",
     "text": [
      "<class 'pandas.core.frame.DataFrame'>\n",
      "RangeIndex: 7043 entries, 0 to 7042\n",
      "Data columns (total 20 columns):\n",
      " #   Column            Non-Null Count  Dtype  \n",
      "---  ------            --------------  -----  \n",
      " 0   customerID        7043 non-null   object \n",
      " 1   BeginDate         7043 non-null   object \n",
      " 2   EndDate           7043 non-null   object \n",
      " 3   Type              7043 non-null   object \n",
      " 4   PaperlessBilling  7043 non-null   object \n",
      " 5   PaymentMethod     7043 non-null   object \n",
      " 6   MonthlyCharges    7043 non-null   float64\n",
      " 7   TotalCharges      7043 non-null   float64\n",
      " 8   gender            7043 non-null   object \n",
      " 9   SeniorCitizen     7043 non-null   int64  \n",
      " 10  Partner           7043 non-null   object \n",
      " 11  Dependents        7043 non-null   object \n",
      " 12  InternetService   7043 non-null   object \n",
      " 13  OnlineSecurity    7043 non-null   object \n",
      " 14  OnlineBackup      7043 non-null   object \n",
      " 15  DeviceProtection  7043 non-null   object \n",
      " 16  TechSupport       7043 non-null   object \n",
      " 17  StreamingTV       7043 non-null   object \n",
      " 18  StreamingMovies   7043 non-null   object \n",
      " 19  MultipleLines     7043 non-null   object \n",
      "dtypes: float64(2), int64(1), object(17)\n",
      "memory usage: 1.1+ MB\n"
     ]
    }
   ],
   "source": [
    "#проверим \n",
    "df.info()"
   ]
  },
  {
   "cell_type": "markdown",
   "id": "2d0dd266",
   "metadata": {},
   "source": [
    "необходимо изменить неверные типы данных. Займемся этим"
   ]
  },
  {
   "cell_type": "code",
   "execution_count": 19,
   "id": "1b99812e",
   "metadata": {},
   "outputs": [],
   "source": [
    "df['BeginDate'] = pd.to_datetime(df['BeginDate'])"
   ]
  },
  {
   "cell_type": "code",
   "execution_count": 20,
   "id": "4c55ac42",
   "metadata": {},
   "outputs": [
    {
     "data": {
      "text/plain": [
       "array(['No', '2020-01-01', '2016-06-01', '2016-03-01', '2017-02-01',\n",
       "       '2019-09-01', '2016-07-01', '2017-05-01', '2019-05-01',\n",
       "       '2019-06-01', '2019-02-01', '2018-04-01', '2016-11-01',\n",
       "       '2016-09-01', '2019-04-01', '2019-10-01', '2015-11-01',\n",
       "       '2019-01-01', '2018-09-01', '2017-08-01', '2018-08-01',\n",
       "       '2017-12-01', '2018-01-01', '2014-09-01', '2017-06-01',\n",
       "       '2019-08-01', '2016-01-01', '2017-07-01', '2018-06-01',\n",
       "       '2018-11-01', '2018-10-01', '2016-02-01', '2019-07-01',\n",
       "       '2018-05-01', '2016-08-01', '2018-02-01', '2019-12-01',\n",
       "       '2018-03-01', '2018-07-01', '2015-05-01', '2017-11-01',\n",
       "       '2019-03-01', '2015-02-01', '2017-09-01', '2016-10-01',\n",
       "       '2017-10-01', '2017-03-01', '2015-12-01', '2015-03-01',\n",
       "       '2019-11-01', '2018-12-01', '2015-08-01', '2015-04-01',\n",
       "       '2015-07-01', '2017-04-01', '2016-05-01', '2014-11-01',\n",
       "       '2016-12-01', '2017-01-01', '2015-09-01', '2015-10-01',\n",
       "       '2015-06-01', '2016-04-01', '2015-01-01', '2014-12-01',\n",
       "       '2014-06-01', '2014-10-01'], dtype=object)"
      ]
     },
     "execution_count": 20,
     "metadata": {},
     "output_type": "execute_result"
    }
   ],
   "source": [
    "#посмотрим уникальные значения столбца EndDate \n",
    "df['EndDate'].unique()"
   ]
  },
  {
   "cell_type": "markdown",
   "id": "4d3cf65f",
   "metadata": {},
   "source": [
    "Наблюдаем значение No, его целесообразно заменить на дату выгрузки датафрейма, то есть 2020-02-01. Видимо какая-то часть пользователей продлила договор заранее"
   ]
  },
  {
   "cell_type": "code",
   "execution_count": 21,
   "id": "8cb27f58",
   "metadata": {},
   "outputs": [],
   "source": [
    "df['EndDate'] = df['EndDate'].replace('No', '2020-02-01')\n",
    "df['EndDate'] = pd.to_datetime(df['EndDate'])"
   ]
  },
  {
   "cell_type": "code",
   "execution_count": 22,
   "id": "bc7f4a26",
   "metadata": {},
   "outputs": [
    {
     "name": "stdout",
     "output_type": "stream",
     "text": [
      "<class 'pandas.core.frame.DataFrame'>\n",
      "RangeIndex: 7043 entries, 0 to 7042\n",
      "Data columns (total 20 columns):\n",
      " #   Column            Non-Null Count  Dtype         \n",
      "---  ------            --------------  -----         \n",
      " 0   customerID        7043 non-null   object        \n",
      " 1   BeginDate         7043 non-null   datetime64[ns]\n",
      " 2   EndDate           7043 non-null   datetime64[ns]\n",
      " 3   Type              7043 non-null   object        \n",
      " 4   PaperlessBilling  7043 non-null   object        \n",
      " 5   PaymentMethod     7043 non-null   object        \n",
      " 6   MonthlyCharges    7043 non-null   float64       \n",
      " 7   TotalCharges      7043 non-null   float64       \n",
      " 8   gender            7043 non-null   object        \n",
      " 9   SeniorCitizen     7043 non-null   int64         \n",
      " 10  Partner           7043 non-null   object        \n",
      " 11  Dependents        7043 non-null   object        \n",
      " 12  InternetService   7043 non-null   object        \n",
      " 13  OnlineSecurity    7043 non-null   object        \n",
      " 14  OnlineBackup      7043 non-null   object        \n",
      " 15  DeviceProtection  7043 non-null   object        \n",
      " 16  TechSupport       7043 non-null   object        \n",
      " 17  StreamingTV       7043 non-null   object        \n",
      " 18  StreamingMovies   7043 non-null   object        \n",
      " 19  MultipleLines     7043 non-null   object        \n",
      "dtypes: datetime64[ns](2), float64(2), int64(1), object(15)\n",
      "memory usage: 1.1+ MB\n"
     ]
    }
   ],
   "source": [
    "#проверим\n",
    "df.info()"
   ]
  },
  {
   "cell_type": "markdown",
   "id": "6f4ae9ad",
   "metadata": {},
   "source": [
    "Поработаем со столбцом \"SeniorCitizen\". Вместо 0 и 1 должны быть Да или Нет"
   ]
  },
  {
   "cell_type": "code",
   "execution_count": 23,
   "id": "7a69cebf",
   "metadata": {},
   "outputs": [],
   "source": [
    "df['SeniorCitizen'] = df['SeniorCitizen'].replace({0: 'No', 1: 'Yes'})"
   ]
  },
  {
   "cell_type": "code",
   "execution_count": 24,
   "id": "ae648133",
   "metadata": {},
   "outputs": [
    {
     "data": {
      "text/plain": [
       "array(['No', 'Yes'], dtype=object)"
      ]
     },
     "execution_count": 24,
     "metadata": {},
     "output_type": "execute_result"
    }
   ],
   "source": [
    "#проверим\n",
    "df['SeniorCitizen'].unique()"
   ]
  },
  {
   "cell_type": "markdown",
   "id": "7a147df5",
   "metadata": {},
   "source": [
    "Необходимо проверить уникальные значения остальных признаков, возможно мы что-то могли упустить"
   ]
  },
  {
   "cell_type": "code",
   "execution_count": 25,
   "id": "2612896a",
   "metadata": {},
   "outputs": [
    {
     "name": "stdout",
     "output_type": "stream",
     "text": [
      "\n",
      "customerID -  ['0002-ORFBO' '0003-MKNFE' '0004-TLHLJ' ... '9992-UJOEL' '9993-LHIEB'\n",
      " '9995-HOTOH']\n",
      "\n",
      "Type -  ['One year' 'Month-to-month' 'Two year']\n",
      "\n",
      "PaperlessBilling -  ['Yes' 'No']\n",
      "\n",
      "PaymentMethod -  ['Mailed check' 'Electronic check' 'Credit card (automatic)'\n",
      " 'Bank transfer (automatic)']\n",
      "\n",
      "gender -  ['Female' 'Male']\n",
      "\n",
      "SeniorCitizen -  ['No' 'Yes']\n",
      "\n",
      "Partner -  ['Yes' 'No']\n",
      "\n",
      "Dependents -  ['Yes' 'No']\n",
      "\n",
      "InternetService -  ['DSL' 'Fiber optic' 'No']\n",
      "\n",
      "OnlineSecurity -  ['No' 'Yes']\n",
      "\n",
      "OnlineBackup -  ['Yes' 'No']\n",
      "\n",
      "DeviceProtection -  ['No' 'Yes']\n",
      "\n",
      "TechSupport -  ['Yes' 'No']\n",
      "\n",
      "StreamingTV -  ['Yes' 'No']\n",
      "\n",
      "StreamingMovies -  ['No' 'Yes']\n",
      "\n",
      "MultipleLines -  ['No' 'Yes']\n"
     ]
    }
   ],
   "source": [
    "for column in df.columns:\n",
    "    if (df[column].dtype == 'object'):\n",
    "        print(f'\\n{column} - ', df[column].unique())"
   ]
  },
  {
   "cell_type": "markdown",
   "id": "f2934125",
   "metadata": {},
   "source": [
    "### Выводы:\n",
    "- объединили все наши датафреймы в один\n",
    "- сделали проверку на дубликаты, их не оказалось\n",
    "- избавились от пропусков. Пропуски в \"internet\" и \"phone\" означают, что клиент не пользуется услугами, заменили пропущенные значения \"No\"\n",
    "- у столбцов \"BeginDate\", \"EndDate\" неверный тип данных, заменили на datetime\n",
    "- в столбце \"SeniorCitizen\" вместо 0 и 1 сделали yes/no"
   ]
  },
  {
   "cell_type": "markdown",
   "id": "360fdf19",
   "metadata": {},
   "source": [
    "## Исследовательский анализ данных"
   ]
  },
  {
   "cell_type": "markdown",
   "id": "061f0e61",
   "metadata": {},
   "source": [
    "Создадим новый столбец, в котором укажем продолжительность пользования услугами"
   ]
  },
  {
   "cell_type": "code",
   "execution_count": 26,
   "id": "f0b6d29c",
   "metadata": {},
   "outputs": [],
   "source": [
    "df['duration'] = (df['EndDate'] - df['BeginDate']).dt.days\n",
    "#это пригодится для дальнейшего обучения моделей"
   ]
  },
  {
   "cell_type": "code",
   "execution_count": 27,
   "id": "c4f73c16",
   "metadata": {},
   "outputs": [
    {
     "data": {
      "text/html": [
       "<div>\n",
       "<style scoped>\n",
       "    .dataframe tbody tr th:only-of-type {\n",
       "        vertical-align: middle;\n",
       "    }\n",
       "\n",
       "    .dataframe tbody tr th {\n",
       "        vertical-align: top;\n",
       "    }\n",
       "\n",
       "    .dataframe thead th {\n",
       "        text-align: right;\n",
       "    }\n",
       "</style>\n",
       "<table border=\"1\" class=\"dataframe\">\n",
       "  <thead>\n",
       "    <tr style=\"text-align: right;\">\n",
       "      <th></th>\n",
       "      <th>customerID</th>\n",
       "      <th>BeginDate</th>\n",
       "      <th>EndDate</th>\n",
       "      <th>Type</th>\n",
       "      <th>PaperlessBilling</th>\n",
       "      <th>PaymentMethod</th>\n",
       "      <th>MonthlyCharges</th>\n",
       "      <th>TotalCharges</th>\n",
       "      <th>gender</th>\n",
       "      <th>SeniorCitizen</th>\n",
       "      <th>...</th>\n",
       "      <th>Dependents</th>\n",
       "      <th>InternetService</th>\n",
       "      <th>OnlineSecurity</th>\n",
       "      <th>OnlineBackup</th>\n",
       "      <th>DeviceProtection</th>\n",
       "      <th>TechSupport</th>\n",
       "      <th>StreamingTV</th>\n",
       "      <th>StreamingMovies</th>\n",
       "      <th>MultipleLines</th>\n",
       "      <th>duration</th>\n",
       "    </tr>\n",
       "  </thead>\n",
       "  <tbody>\n",
       "    <tr>\n",
       "      <th>0</th>\n",
       "      <td>0002-ORFBO</td>\n",
       "      <td>2019-05-01</td>\n",
       "      <td>2020-02-01</td>\n",
       "      <td>One year</td>\n",
       "      <td>Yes</td>\n",
       "      <td>Mailed check</td>\n",
       "      <td>65.6</td>\n",
       "      <td>631.73</td>\n",
       "      <td>Female</td>\n",
       "      <td>No</td>\n",
       "      <td>...</td>\n",
       "      <td>Yes</td>\n",
       "      <td>DSL</td>\n",
       "      <td>No</td>\n",
       "      <td>Yes</td>\n",
       "      <td>No</td>\n",
       "      <td>Yes</td>\n",
       "      <td>Yes</td>\n",
       "      <td>No</td>\n",
       "      <td>No</td>\n",
       "      <td>276</td>\n",
       "    </tr>\n",
       "    <tr>\n",
       "      <th>1</th>\n",
       "      <td>0003-MKNFE</td>\n",
       "      <td>2019-05-01</td>\n",
       "      <td>2020-02-01</td>\n",
       "      <td>Month-to-month</td>\n",
       "      <td>No</td>\n",
       "      <td>Mailed check</td>\n",
       "      <td>59.9</td>\n",
       "      <td>539.10</td>\n",
       "      <td>Male</td>\n",
       "      <td>No</td>\n",
       "      <td>...</td>\n",
       "      <td>No</td>\n",
       "      <td>DSL</td>\n",
       "      <td>No</td>\n",
       "      <td>No</td>\n",
       "      <td>No</td>\n",
       "      <td>No</td>\n",
       "      <td>No</td>\n",
       "      <td>Yes</td>\n",
       "      <td>Yes</td>\n",
       "      <td>276</td>\n",
       "    </tr>\n",
       "    <tr>\n",
       "      <th>2</th>\n",
       "      <td>0004-TLHLJ</td>\n",
       "      <td>2019-09-01</td>\n",
       "      <td>2020-02-01</td>\n",
       "      <td>Month-to-month</td>\n",
       "      <td>Yes</td>\n",
       "      <td>Electronic check</td>\n",
       "      <td>73.9</td>\n",
       "      <td>406.45</td>\n",
       "      <td>Male</td>\n",
       "      <td>No</td>\n",
       "      <td>...</td>\n",
       "      <td>No</td>\n",
       "      <td>Fiber optic</td>\n",
       "      <td>No</td>\n",
       "      <td>No</td>\n",
       "      <td>Yes</td>\n",
       "      <td>No</td>\n",
       "      <td>No</td>\n",
       "      <td>No</td>\n",
       "      <td>No</td>\n",
       "      <td>153</td>\n",
       "    </tr>\n",
       "    <tr>\n",
       "      <th>3</th>\n",
       "      <td>0011-IGKFF</td>\n",
       "      <td>2018-12-01</td>\n",
       "      <td>2020-02-01</td>\n",
       "      <td>Month-to-month</td>\n",
       "      <td>Yes</td>\n",
       "      <td>Electronic check</td>\n",
       "      <td>98.0</td>\n",
       "      <td>1372.00</td>\n",
       "      <td>Male</td>\n",
       "      <td>Yes</td>\n",
       "      <td>...</td>\n",
       "      <td>No</td>\n",
       "      <td>Fiber optic</td>\n",
       "      <td>No</td>\n",
       "      <td>Yes</td>\n",
       "      <td>Yes</td>\n",
       "      <td>No</td>\n",
       "      <td>Yes</td>\n",
       "      <td>Yes</td>\n",
       "      <td>No</td>\n",
       "      <td>427</td>\n",
       "    </tr>\n",
       "    <tr>\n",
       "      <th>4</th>\n",
       "      <td>0013-EXCHZ</td>\n",
       "      <td>2019-09-01</td>\n",
       "      <td>2020-02-01</td>\n",
       "      <td>Month-to-month</td>\n",
       "      <td>Yes</td>\n",
       "      <td>Mailed check</td>\n",
       "      <td>83.9</td>\n",
       "      <td>444.67</td>\n",
       "      <td>Female</td>\n",
       "      <td>Yes</td>\n",
       "      <td>...</td>\n",
       "      <td>No</td>\n",
       "      <td>Fiber optic</td>\n",
       "      <td>No</td>\n",
       "      <td>No</td>\n",
       "      <td>No</td>\n",
       "      <td>Yes</td>\n",
       "      <td>Yes</td>\n",
       "      <td>No</td>\n",
       "      <td>No</td>\n",
       "      <td>153</td>\n",
       "    </tr>\n",
       "  </tbody>\n",
       "</table>\n",
       "<p>5 rows × 21 columns</p>\n",
       "</div>"
      ],
      "text/plain": [
       "   customerID  BeginDate    EndDate            Type PaperlessBilling  \\\n",
       "0  0002-ORFBO 2019-05-01 2020-02-01        One year              Yes   \n",
       "1  0003-MKNFE 2019-05-01 2020-02-01  Month-to-month               No   \n",
       "2  0004-TLHLJ 2019-09-01 2020-02-01  Month-to-month              Yes   \n",
       "3  0011-IGKFF 2018-12-01 2020-02-01  Month-to-month              Yes   \n",
       "4  0013-EXCHZ 2019-09-01 2020-02-01  Month-to-month              Yes   \n",
       "\n",
       "      PaymentMethod  MonthlyCharges  TotalCharges  gender SeniorCitizen  ...  \\\n",
       "0      Mailed check            65.6        631.73  Female            No  ...   \n",
       "1      Mailed check            59.9        539.10    Male            No  ...   \n",
       "2  Electronic check            73.9        406.45    Male            No  ...   \n",
       "3  Electronic check            98.0       1372.00    Male           Yes  ...   \n",
       "4      Mailed check            83.9        444.67  Female           Yes  ...   \n",
       "\n",
       "  Dependents InternetService OnlineSecurity OnlineBackup DeviceProtection  \\\n",
       "0        Yes             DSL             No          Yes               No   \n",
       "1         No             DSL             No           No               No   \n",
       "2         No     Fiber optic             No           No              Yes   \n",
       "3         No     Fiber optic             No          Yes              Yes   \n",
       "4         No     Fiber optic             No           No               No   \n",
       "\n",
       "  TechSupport StreamingTV StreamingMovies MultipleLines duration  \n",
       "0         Yes         Yes              No            No      276  \n",
       "1          No          No             Yes           Yes      276  \n",
       "2          No          No              No            No      153  \n",
       "3          No         Yes             Yes            No      427  \n",
       "4         Yes         Yes              No            No      153  \n",
       "\n",
       "[5 rows x 21 columns]"
      ]
     },
     "execution_count": 27,
     "metadata": {},
     "output_type": "execute_result"
    }
   ],
   "source": [
    "df.head()"
   ]
  },
  {
   "cell_type": "markdown",
   "id": "6a4312cd",
   "metadata": {},
   "source": [
    "Добавим ещй один признак. Ушел клиент или все ещё продолжает пользоваться услугами"
   ]
  },
  {
   "cell_type": "code",
   "execution_count": 28,
   "id": "00c231d9",
   "metadata": {},
   "outputs": [],
   "source": [
    "df['exit'] = 1\n",
    "df.loc[df['EndDate'] == '2020-02-01', 'exit'] = 0"
   ]
  },
  {
   "cell_type": "code",
   "execution_count": 29,
   "id": "0c71abe9",
   "metadata": {},
   "outputs": [
    {
     "data": {
      "text/plain": [
       "exit\n",
       "0    5942\n",
       "1    1101\n",
       "Name: count, dtype: int64"
      ]
     },
     "execution_count": 29,
     "metadata": {},
     "output_type": "execute_result"
    }
   ],
   "source": [
    "#проверим\n",
    "df.exit.value_counts()"
   ]
  },
  {
   "cell_type": "markdown",
   "id": "64fd0357",
   "metadata": {},
   "source": [
    "Тут наблюдаем сильный дисбаланс в классах"
   ]
  },
  {
   "cell_type": "code",
   "execution_count": 30,
   "id": "69a17a6f",
   "metadata": {},
   "outputs": [
    {
     "data": {
      "image/png": "[encoded data removed]",
      "text/plain": [
       "<Figure size 1080x504 with 1 Axes>"
      ]
     },
     "metadata": {
      "needs_background": "light"
     },
     "output_type": "display_data"
    }
   ],
   "source": [
    "plt.figure(figsize=(15,7))\n",
    "sns.barplot(x=[0,1], y = df['exit'].value_counts() / df.shape[0])\n",
    "plt.xticks([0,1], ['клиент остался', 'клиент ушел'])\n",
    "plt.title('баланс классов', fontsize = 12)\n",
    "plt.show()"
   ]
  },
  {
   "cell_type": "markdown",
   "id": "099e7b44",
   "metadata": {},
   "source": [
    "Поскольку у нас стоит задача, связанная с анализом оттока клиентов, я бы сделала \"Портрет ушедшего пользователя\""
   ]
  },
  {
   "cell_type": "code",
   "execution_count": 31,
   "id": "b61e5101",
   "metadata": {},
   "outputs": [],
   "source": [
    "data = df.drop(['customerID'], axis=1)"
   ]
  },
  {
   "cell_type": "code",
   "execution_count": 32,
   "id": "3dfdda1b",
   "metadata": {},
   "outputs": [
    {
     "data": {
      "image/png": "[encoded data removed]",
      "text/plain": [
       "<Figure size 432x288 with 1 Axes>"
      ]
     },
     "metadata": {
      "needs_background": "light"
     },
     "output_type": "display_data"
    },
    {
     "data": {
      "image/png": "[encoded data removed]",
      "text/plain": [
       "<Figure size 432x288 with 1 Axes>"
      ]
     },
     "metadata": {
      "needs_background": "light"
     },
     "output_type": "display_data"
    },
    {
     "data": {
      "image/png": "[encoded data removed]",
      "text/plain": [
       "<Figure size 432x288 with 1 Axes>"
      ]
     },
     "metadata": {
      "needs_background": "light"
     },
     "output_type": "display_data"
    },
    {
     "data": {
      "image/png": "[encoded data removed]",
      "text/plain": [
       "<Figure size 432x288 with 1 Axes>"
      ]
     },
     "metadata": {
      "needs_background": "light"
     },
     "output_type": "display_data"
    },
    {
     "data": {
      "image/png": "[encoded data removed]",
      "text/plain": [
       "<Figure size 432x288 with 1 Axes>"
      ]
     },
     "metadata": {
      "needs_background": "light"
     },
     "output_type": "display_data"
    },
    {
     "data": {
      "image/png": "[encoded data removed]",
      "text/plain": [
       "<Figure size 432x288 with 1 Axes>"
      ]
     },
     "metadata": {
      "needs_background": "light"
     },
     "output_type": "display_data"
    },
    {
     "data": {
      "image/png": "[encoded data removed]",
      "text/plain": [
       "<Figure size 432x288 with 1 Axes>"
      ]
     },
     "metadata": {
      "needs_background": "light"
     },
     "output_type": "display_data"
    },
    {
     "data": {
      "image/png": "[encoded data removed]",
      "text/plain": [
       "<Figure size 432x288 with 1 Axes>"
      ]
     },
     "metadata": {
      "needs_background": "light"
     },
     "output_type": "display_data"
    },
    {
     "data": {
      "image/png": "[encoded data removed]",
      "text/plain": [
       "<Figure size 432x288 with 1 Axes>"
      ]
     },
     "metadata": {
      "needs_background": "light"
     },
     "output_type": "display_data"
    },
    {
     "data": {
      "image/png": "[encoded data removed]",
      "text/plain": [
       "<Figure size 432x288 with 1 Axes>"
      ]
     },
     "metadata": {
      "needs_background": "light"
     },
     "output_type": "display_data"
    },
    {
     "data": {
      "image/png": "[encoded data removed]",
      "text/plain": [
       "<Figure size 432x288 with 1 Axes>"
      ]
     },
     "metadata": {
      "needs_background": "light"
     },
     "output_type": "display_data"
    },
    {
     "data": {
      "image/png": "[encoded data removed]",
      "text/plain": [
       "<Figure size 432x288 with 1 Axes>"
      ]
     },
     "metadata": {
      "needs_background": "light"
     },
     "output_type": "display_data"
    },
    {
     "data": {
      "image/png": "[encoded data removed]",
      "text/plain": [
       "<Figure size 432x288 with 1 Axes>"
      ]
     },
     "metadata": {
      "needs_background": "light"
     },
     "output_type": "display_data"
    },
    {
     "data": {
      "image/png": "[encoded data removed]",
      "text/plain": [
       "<Figure size 432x288 with 1 Axes>"
      ]
     },
     "metadata": {
      "needs_background": "light"
     },
     "output_type": "display_data"
    },
    {
     "data": {
      "image/png": "[encoded data removed]",
      "text/plain": [
       "<Figure size 432x288 with 1 Axes>"
      ]
     },
     "metadata": {
      "needs_background": "light"
     },
     "output_type": "display_data"
    },
    {
     "data": {
      "image/png": "[encoded data removed]",
      "text/plain": [
       "<Figure size 432x288 with 1 Axes>"
      ]
     },
     "metadata": {
      "needs_background": "light"
     },
     "output_type": "display_data"
    },
    {
     "data": {
      "image/png": "[encoded data removed]",
      "text/plain": [
       "<Figure size 432x288 with 1 Axes>"
      ]
     },
     "metadata": {
      "needs_background": "light"
     },
     "output_type": "display_data"
    },
    {
     "data": {
      "image/png": "[encoded data removed]",
      "text/plain": [
       "<Figure size 432x288 with 1 Axes>"
      ]
     },
     "metadata": {
      "needs_background": "light"
     },
     "output_type": "display_data"
    },
    {
     "data": {
      "image/png": "[encoded data removed]",
      "text/plain": [
       "<Figure size 432x288 with 1 Axes>"
      ]
     },
     "metadata": {
      "needs_background": "light"
     },
     "output_type": "display_data"
    },
    {
     "data": {
      "image/png": "[encoded data removed]",
      "text/plain": [
       "<Figure size 432x288 with 1 Axes>"
      ]
     },
     "metadata": {
      "needs_background": "light"
     },
     "output_type": "display_data"
    },
    {
     "data": {
      "image/png": "[encoded data removed]",
      "text/plain": [
       "<Figure size 432x288 with 1 Axes>"
      ]
     },
     "metadata": {
      "needs_background": "light"
     },
     "output_type": "display_data"
    }
   ],
   "source": [
    "for column in data.columns:\n",
    "    data.groupby('exit')[column].hist()\n",
    "    plt.title(column)\n",
    "    plt.legend(['Продолжают пользоваться услугами', 'Перестали пользоваться услугами'])\n",
    "    plt.show()"
   ]
  },
  {
   "cell_type": "markdown",
   "id": "87437fd8",
   "metadata": {},
   "source": [
    "Опишем портрет ушедшего пользователя:\n",
    "- чаще всего польщователи уходт, кто пользовался услугами 2 года\n",
    "- чаще уходят те, кто польщзуется электронным расчетом\n",
    "- девушки немного чаще отказываются от услуг\n",
    "- чаще уходят те, кто пользуется оптоволокном\n",
    "- со временем, пользователя реже отказываются от услуг\n",
    "- чаще уходят люди, которые только недавно начали пользоваться услугами "
   ]
  },
  {
   "cell_type": "markdown",
   "id": "f71d510d",
   "metadata": {},
   "source": [
    "Для дальнейшей работы, нам необходимо удалить признаки, которые больше не понадобятся"
   ]
  },
  {
   "cell_type": "code",
   "execution_count": 33,
   "id": "c764b354",
   "metadata": {},
   "outputs": [],
   "source": [
    "df.drop(['BeginDate', 'EndDate', 'customerID'], axis=1, inplace=True)"
   ]
  },
  {
   "cell_type": "code",
   "execution_count": 34,
   "id": "f2fe9266",
   "metadata": {},
   "outputs": [
    {
     "data": {
      "text/html": [
       "<div>\n",
       "<style scoped>\n",
       "    .dataframe tbody tr th:only-of-type {\n",
       "        vertical-align: middle;\n",
       "    }\n",
       "\n",
       "    .dataframe tbody tr th {\n",
       "        vertical-align: top;\n",
       "    }\n",
       "\n",
       "    .dataframe thead th {\n",
       "        text-align: right;\n",
       "    }\n",
       "</style>\n",
       "<table border=\"1\" class=\"dataframe\">\n",
       "  <thead>\n",
       "    <tr style=\"text-align: right;\">\n",
       "      <th></th>\n",
       "      <th>Type</th>\n",
       "      <th>PaperlessBilling</th>\n",
       "      <th>PaymentMethod</th>\n",
       "      <th>MonthlyCharges</th>\n",
       "      <th>TotalCharges</th>\n",
       "      <th>gender</th>\n",
       "      <th>SeniorCitizen</th>\n",
       "      <th>Partner</th>\n",
       "      <th>Dependents</th>\n",
       "      <th>InternetService</th>\n",
       "      <th>OnlineSecurity</th>\n",
       "      <th>OnlineBackup</th>\n",
       "      <th>DeviceProtection</th>\n",
       "      <th>TechSupport</th>\n",
       "      <th>StreamingTV</th>\n",
       "      <th>StreamingMovies</th>\n",
       "      <th>MultipleLines</th>\n",
       "      <th>duration</th>\n",
       "      <th>exit</th>\n",
       "    </tr>\n",
       "  </thead>\n",
       "  <tbody>\n",
       "    <tr>\n",
       "      <th>0</th>\n",
       "      <td>One year</td>\n",
       "      <td>Yes</td>\n",
       "      <td>Mailed check</td>\n",
       "      <td>65.6</td>\n",
       "      <td>631.73</td>\n",
       "      <td>Female</td>\n",
       "      <td>No</td>\n",
       "      <td>Yes</td>\n",
       "      <td>Yes</td>\n",
       "      <td>DSL</td>\n",
       "      <td>No</td>\n",
       "      <td>Yes</td>\n",
       "      <td>No</td>\n",
       "      <td>Yes</td>\n",
       "      <td>Yes</td>\n",
       "      <td>No</td>\n",
       "      <td>No</td>\n",
       "      <td>276</td>\n",
       "      <td>0</td>\n",
       "    </tr>\n",
       "    <tr>\n",
       "      <th>1</th>\n",
       "      <td>Month-to-month</td>\n",
       "      <td>No</td>\n",
       "      <td>Mailed check</td>\n",
       "      <td>59.9</td>\n",
       "      <td>539.10</td>\n",
       "      <td>Male</td>\n",
       "      <td>No</td>\n",
       "      <td>No</td>\n",
       "      <td>No</td>\n",
       "      <td>DSL</td>\n",
       "      <td>No</td>\n",
       "      <td>No</td>\n",
       "      <td>No</td>\n",
       "      <td>No</td>\n",
       "      <td>No</td>\n",
       "      <td>Yes</td>\n",
       "      <td>Yes</td>\n",
       "      <td>276</td>\n",
       "      <td>0</td>\n",
       "    </tr>\n",
       "    <tr>\n",
       "      <th>2</th>\n",
       "      <td>Month-to-month</td>\n",
       "      <td>Yes</td>\n",
       "      <td>Electronic check</td>\n",
       "      <td>73.9</td>\n",
       "      <td>406.45</td>\n",
       "      <td>Male</td>\n",
       "      <td>No</td>\n",
       "      <td>No</td>\n",
       "      <td>No</td>\n",
       "      <td>Fiber optic</td>\n",
       "      <td>No</td>\n",
       "      <td>No</td>\n",
       "      <td>Yes</td>\n",
       "      <td>No</td>\n",
       "      <td>No</td>\n",
       "      <td>No</td>\n",
       "      <td>No</td>\n",
       "      <td>153</td>\n",
       "      <td>0</td>\n",
       "    </tr>\n",
       "    <tr>\n",
       "      <th>3</th>\n",
       "      <td>Month-to-month</td>\n",
       "      <td>Yes</td>\n",
       "      <td>Electronic check</td>\n",
       "      <td>98.0</td>\n",
       "      <td>1372.00</td>\n",
       "      <td>Male</td>\n",
       "      <td>Yes</td>\n",
       "      <td>Yes</td>\n",
       "      <td>No</td>\n",
       "      <td>Fiber optic</td>\n",
       "      <td>No</td>\n",
       "      <td>Yes</td>\n",
       "      <td>Yes</td>\n",
       "      <td>No</td>\n",
       "      <td>Yes</td>\n",
       "      <td>Yes</td>\n",
       "      <td>No</td>\n",
       "      <td>427</td>\n",
       "      <td>0</td>\n",
       "    </tr>\n",
       "    <tr>\n",
       "      <th>4</th>\n",
       "      <td>Month-to-month</td>\n",
       "      <td>Yes</td>\n",
       "      <td>Mailed check</td>\n",
       "      <td>83.9</td>\n",
       "      <td>444.67</td>\n",
       "      <td>Female</td>\n",
       "      <td>Yes</td>\n",
       "      <td>Yes</td>\n",
       "      <td>No</td>\n",
       "      <td>Fiber optic</td>\n",
       "      <td>No</td>\n",
       "      <td>No</td>\n",
       "      <td>No</td>\n",
       "      <td>Yes</td>\n",
       "      <td>Yes</td>\n",
       "      <td>No</td>\n",
       "      <td>No</td>\n",
       "      <td>153</td>\n",
       "      <td>0</td>\n",
       "    </tr>\n",
       "  </tbody>\n",
       "</table>\n",
       "</div>"
      ],
      "text/plain": [
       "             Type PaperlessBilling     PaymentMethod  MonthlyCharges  \\\n",
       "0        One year              Yes      Mailed check            65.6   \n",
       "1  Month-to-month               No      Mailed check            59.9   \n",
       "2  Month-to-month              Yes  Electronic check            73.9   \n",
       "3  Month-to-month              Yes  Electronic check            98.0   \n",
       "4  Month-to-month              Yes      Mailed check            83.9   \n",
       "\n",
       "   TotalCharges  gender SeniorCitizen Partner Dependents InternetService  \\\n",
       "0        631.73  Female            No     Yes        Yes             DSL   \n",
       "1        539.10    Male            No      No         No             DSL   \n",
       "2        406.45    Male            No      No         No     Fiber optic   \n",
       "3       1372.00    Male           Yes     Yes         No     Fiber optic   \n",
       "4        444.67  Female           Yes     Yes         No     Fiber optic   \n",
       "\n",
       "  OnlineSecurity OnlineBackup DeviceProtection TechSupport StreamingTV  \\\n",
       "0             No          Yes               No         Yes         Yes   \n",
       "1             No           No               No          No          No   \n",
       "2             No           No              Yes          No          No   \n",
       "3             No          Yes              Yes          No         Yes   \n",
       "4             No           No               No         Yes         Yes   \n",
       "\n",
       "  StreamingMovies MultipleLines  duration  exit  \n",
       "0              No            No       276     0  \n",
       "1             Yes           Yes       276     0  \n",
       "2              No            No       153     0  \n",
       "3             Yes            No       427     0  \n",
       "4              No            No       153     0  "
      ]
     },
     "execution_count": 34,
     "metadata": {},
     "output_type": "execute_result"
    }
   ],
   "source": [
    "df.head()"
   ]
  },
  {
   "cell_type": "markdown",
   "id": "e375cd2d",
   "metadata": {},
   "source": [
    "Необходимо провести корреляционный анализ"
   ]
  },
  {
   "cell_type": "code",
   "execution_count": 35,
   "id": "e8b0ee82",
   "metadata": {},
   "outputs": [
    {
     "data": {
      "image/png": "[encoded data removed]",
      "text/plain": [
       "<Figure size 864x864 with 2 Axes>"
      ]
     },
     "metadata": {
      "needs_background": "light"
     },
     "output_type": "display_data"
    }
   ],
   "source": [
    "phik = df.phik_matrix(interval_cols=['MonthlyCharges', 'TotalCharges', 'duration'])\n",
    "phik.round(2)\n",
    "\n",
    "plot_correlation_matrix(phik.values, \n",
    "                        x_labels=phik.columns, \n",
    "                        y_labels=phik.index, \n",
    "                        vmin=0, vmax=1, \n",
    "                        title=r\"Матрица корреляции\",  \n",
    "                        figsize=(12, 12))\n",
    "plt.tight_layout()\n",
    "plt.show()"
   ]
  },
  {
   "cell_type": "markdown",
   "id": "49b4210f",
   "metadata": {},
   "source": [
    "### Промежуточный вывод:\n",
    "- создали новый столбец, в котором указали продолжительность пользования услугами - 'duration'\n",
    "- добавмили новый признак exit, в котором 1 - клиент остался, 0 - ушел\n",
    "- избавились от не информативных признаков, которые в дальнешем обучении модели не понадобятся 'BeginDate', 'EndDate', 'customerID'\n",
    "- создали портрет ушедшего пользователя\n",
    "- провели корреляционный анализ. Многие признаки имеют слабую связь с целевым признаком"
   ]
  },
  {
   "cell_type": "markdown",
   "id": "6b7107ca",
   "metadata": {},
   "source": [
    "## Подготовка данных"
   ]
  },
  {
   "cell_type": "markdown",
   "id": "40faf953",
   "metadata": {},
   "source": [
    "для обучения моделей, сформируем выборки"
   ]
  },
  {
   "cell_type": "code",
   "execution_count": 36,
   "id": "3103276c",
   "metadata": {},
   "outputs": [],
   "source": [
    "features = df.drop(['exit'], axis=1)\n",
    "target = df['exit']"
   ]
  },
  {
   "cell_type": "code",
   "execution_count": 37,
   "id": "8b2c1dbd",
   "metadata": {},
   "outputs": [],
   "source": [
    "features_train, features_test, target_train, target_test = train_test_split(\n",
    "    features, target, test_size = TEST_SIZE, random_state = RANDOM_STATE)"
   ]
  },
  {
   "cell_type": "code",
   "execution_count": 38,
   "id": "f461d20b",
   "metadata": {},
   "outputs": [
    {
     "data": {
      "text/html": [
       "<div>\n",
       "<style scoped>\n",
       "    .dataframe tbody tr th:only-of-type {\n",
       "        vertical-align: middle;\n",
       "    }\n",
       "\n",
       "    .dataframe tbody tr th {\n",
       "        vertical-align: top;\n",
       "    }\n",
       "\n",
       "    .dataframe thead th {\n",
       "        text-align: right;\n",
       "    }\n",
       "</style>\n",
       "<table border=\"1\" class=\"dataframe\">\n",
       "  <thead>\n",
       "    <tr style=\"text-align: right;\">\n",
       "      <th></th>\n",
       "      <th>Type</th>\n",
       "      <th>PaperlessBilling</th>\n",
       "      <th>PaymentMethod</th>\n",
       "      <th>MonthlyCharges</th>\n",
       "      <th>TotalCharges</th>\n",
       "      <th>gender</th>\n",
       "      <th>SeniorCitizen</th>\n",
       "      <th>Partner</th>\n",
       "      <th>Dependents</th>\n",
       "      <th>InternetService</th>\n",
       "      <th>OnlineSecurity</th>\n",
       "      <th>OnlineBackup</th>\n",
       "      <th>DeviceProtection</th>\n",
       "      <th>TechSupport</th>\n",
       "      <th>StreamingTV</th>\n",
       "      <th>StreamingMovies</th>\n",
       "      <th>MultipleLines</th>\n",
       "      <th>duration</th>\n",
       "    </tr>\n",
       "  </thead>\n",
       "  <tbody>\n",
       "    <tr>\n",
       "      <th>0</th>\n",
       "      <td>One year</td>\n",
       "      <td>Yes</td>\n",
       "      <td>Mailed check</td>\n",
       "      <td>65.6</td>\n",
       "      <td>631.73</td>\n",
       "      <td>Female</td>\n",
       "      <td>No</td>\n",
       "      <td>Yes</td>\n",
       "      <td>Yes</td>\n",
       "      <td>DSL</td>\n",
       "      <td>No</td>\n",
       "      <td>Yes</td>\n",
       "      <td>No</td>\n",
       "      <td>Yes</td>\n",
       "      <td>Yes</td>\n",
       "      <td>No</td>\n",
       "      <td>No</td>\n",
       "      <td>276</td>\n",
       "    </tr>\n",
       "    <tr>\n",
       "      <th>1</th>\n",
       "      <td>Month-to-month</td>\n",
       "      <td>No</td>\n",
       "      <td>Mailed check</td>\n",
       "      <td>59.9</td>\n",
       "      <td>539.10</td>\n",
       "      <td>Male</td>\n",
       "      <td>No</td>\n",
       "      <td>No</td>\n",
       "      <td>No</td>\n",
       "      <td>DSL</td>\n",
       "      <td>No</td>\n",
       "      <td>No</td>\n",
       "      <td>No</td>\n",
       "      <td>No</td>\n",
       "      <td>No</td>\n",
       "      <td>Yes</td>\n",
       "      <td>Yes</td>\n",
       "      <td>276</td>\n",
       "    </tr>\n",
       "    <tr>\n",
       "      <th>2</th>\n",
       "      <td>Month-to-month</td>\n",
       "      <td>Yes</td>\n",
       "      <td>Electronic check</td>\n",
       "      <td>73.9</td>\n",
       "      <td>406.45</td>\n",
       "      <td>Male</td>\n",
       "      <td>No</td>\n",
       "      <td>No</td>\n",
       "      <td>No</td>\n",
       "      <td>Fiber optic</td>\n",
       "      <td>No</td>\n",
       "      <td>No</td>\n",
       "      <td>Yes</td>\n",
       "      <td>No</td>\n",
       "      <td>No</td>\n",
       "      <td>No</td>\n",
       "      <td>No</td>\n",
       "      <td>153</td>\n",
       "    </tr>\n",
       "    <tr>\n",
       "      <th>3</th>\n",
       "      <td>Month-to-month</td>\n",
       "      <td>Yes</td>\n",
       "      <td>Electronic check</td>\n",
       "      <td>98.0</td>\n",
       "      <td>1372.00</td>\n",
       "      <td>Male</td>\n",
       "      <td>Yes</td>\n",
       "      <td>Yes</td>\n",
       "      <td>No</td>\n",
       "      <td>Fiber optic</td>\n",
       "      <td>No</td>\n",
       "      <td>Yes</td>\n",
       "      <td>Yes</td>\n",
       "      <td>No</td>\n",
       "      <td>Yes</td>\n",
       "      <td>Yes</td>\n",
       "      <td>No</td>\n",
       "      <td>427</td>\n",
       "    </tr>\n",
       "    <tr>\n",
       "      <th>4</th>\n",
       "      <td>Month-to-month</td>\n",
       "      <td>Yes</td>\n",
       "      <td>Mailed check</td>\n",
       "      <td>83.9</td>\n",
       "      <td>444.67</td>\n",
       "      <td>Female</td>\n",
       "      <td>Yes</td>\n",
       "      <td>Yes</td>\n",
       "      <td>No</td>\n",
       "      <td>Fiber optic</td>\n",
       "      <td>No</td>\n",
       "      <td>No</td>\n",
       "      <td>No</td>\n",
       "      <td>Yes</td>\n",
       "      <td>Yes</td>\n",
       "      <td>No</td>\n",
       "      <td>No</td>\n",
       "      <td>153</td>\n",
       "    </tr>\n",
       "  </tbody>\n",
       "</table>\n",
       "</div>"
      ],
      "text/plain": [
       "             Type PaperlessBilling     PaymentMethod  MonthlyCharges  \\\n",
       "0        One year              Yes      Mailed check            65.6   \n",
       "1  Month-to-month               No      Mailed check            59.9   \n",
       "2  Month-to-month              Yes  Electronic check            73.9   \n",
       "3  Month-to-month              Yes  Electronic check            98.0   \n",
       "4  Month-to-month              Yes      Mailed check            83.9   \n",
       "\n",
       "   TotalCharges  gender SeniorCitizen Partner Dependents InternetService  \\\n",
       "0        631.73  Female            No     Yes        Yes             DSL   \n",
       "1        539.10    Male            No      No         No             DSL   \n",
       "2        406.45    Male            No      No         No     Fiber optic   \n",
       "3       1372.00    Male           Yes     Yes         No     Fiber optic   \n",
       "4        444.67  Female           Yes     Yes         No     Fiber optic   \n",
       "\n",
       "  OnlineSecurity OnlineBackup DeviceProtection TechSupport StreamingTV  \\\n",
       "0             No          Yes               No         Yes         Yes   \n",
       "1             No           No               No          No          No   \n",
       "2             No           No              Yes          No          No   \n",
       "3             No          Yes              Yes          No         Yes   \n",
       "4             No           No               No         Yes         Yes   \n",
       "\n",
       "  StreamingMovies MultipleLines  duration  \n",
       "0              No            No       276  \n",
       "1             Yes           Yes       276  \n",
       "2              No            No       153  \n",
       "3             Yes            No       427  \n",
       "4              No            No       153  "
      ]
     },
     "execution_count": 38,
     "metadata": {},
     "output_type": "execute_result"
    }
   ],
   "source": [
    "#для удобства выведем датафрейм на экран\n",
    "features.head()"
   ]
  },
  {
   "cell_type": "markdown",
   "id": "0f04307e",
   "metadata": {},
   "source": [
    "Создадим список столбцов с категориальными признаками"
   ]
  },
  {
   "cell_type": "code",
   "execution_count": 39,
   "id": "0df3aaba",
   "metadata": {},
   "outputs": [],
   "source": [
    "cat_col = ['Type', 'PaperlessBilling', 'PaymentMethod', 'gender', 'Partner', 'Dependents', 'InternetService', 'SeniorCitizen',\n",
    "        'OnlineSecurity', 'OnlineBackup', 'DeviceProtection', 'TechSupport', 'StreamingTV', 'StreamingMovies', 'MultipleLines']"
   ]
  },
  {
   "cell_type": "markdown",
   "id": "bb40df4f",
   "metadata": {},
   "source": [
    "Создадим список стобцов с количественными признаками"
   ]
  },
  {
   "cell_type": "code",
   "execution_count": 40,
   "id": "af8df41b",
   "metadata": {},
   "outputs": [],
   "source": [
    "num_col_names = ['MonthlyCharges', 'TotalCharges', 'UseTime']"
   ]
  },
  {
   "cell_type": "code",
   "execution_count": 41,
   "id": "02470e0b",
   "metadata": {},
   "outputs": [
    {
     "data": {
      "text/html": [
       "<div>\n",
       "<style scoped>\n",
       "    .dataframe tbody tr th:only-of-type {\n",
       "        vertical-align: middle;\n",
       "    }\n",
       "\n",
       "    .dataframe tbody tr th {\n",
       "        vertical-align: top;\n",
       "    }\n",
       "\n",
       "    .dataframe thead th {\n",
       "        text-align: right;\n",
       "    }\n",
       "</style>\n",
       "<table border=\"1\" class=\"dataframe\">\n",
       "  <thead>\n",
       "    <tr style=\"text-align: right;\">\n",
       "      <th></th>\n",
       "      <th>Type</th>\n",
       "      <th>PaperlessBilling</th>\n",
       "      <th>PaymentMethod</th>\n",
       "      <th>MonthlyCharges</th>\n",
       "      <th>TotalCharges</th>\n",
       "      <th>gender</th>\n",
       "      <th>SeniorCitizen</th>\n",
       "      <th>Partner</th>\n",
       "      <th>Dependents</th>\n",
       "      <th>InternetService</th>\n",
       "      <th>OnlineSecurity</th>\n",
       "      <th>OnlineBackup</th>\n",
       "      <th>DeviceProtection</th>\n",
       "      <th>TechSupport</th>\n",
       "      <th>StreamingTV</th>\n",
       "      <th>StreamingMovies</th>\n",
       "      <th>MultipleLines</th>\n",
       "      <th>duration</th>\n",
       "    </tr>\n",
       "  </thead>\n",
       "  <tbody>\n",
       "    <tr>\n",
       "      <th>4602</th>\n",
       "      <td>2.0</td>\n",
       "      <td>0.0</td>\n",
       "      <td>0.0</td>\n",
       "      <td>26.00</td>\n",
       "      <td>1773.20</td>\n",
       "      <td>0.0</td>\n",
       "      <td>0.0</td>\n",
       "      <td>0.0</td>\n",
       "      <td>1.0</td>\n",
       "      <td>2.0</td>\n",
       "      <td>0.0</td>\n",
       "      <td>0.0</td>\n",
       "      <td>0.0</td>\n",
       "      <td>0.0</td>\n",
       "      <td>0.0</td>\n",
       "      <td>0.0</td>\n",
       "      <td>1.0</td>\n",
       "      <td>1888</td>\n",
       "    </tr>\n",
       "    <tr>\n",
       "      <th>3837</th>\n",
       "      <td>0.0</td>\n",
       "      <td>1.0</td>\n",
       "      <td>1.0</td>\n",
       "      <td>80.30</td>\n",
       "      <td>2888.39</td>\n",
       "      <td>1.0</td>\n",
       "      <td>1.0</td>\n",
       "      <td>1.0</td>\n",
       "      <td>0.0</td>\n",
       "      <td>1.0</td>\n",
       "      <td>0.0</td>\n",
       "      <td>0.0</td>\n",
       "      <td>0.0</td>\n",
       "      <td>0.0</td>\n",
       "      <td>0.0</td>\n",
       "      <td>1.0</td>\n",
       "      <td>0.0</td>\n",
       "      <td>1005</td>\n",
       "    </tr>\n",
       "    <tr>\n",
       "      <th>7035</th>\n",
       "      <td>1.0</td>\n",
       "      <td>1.0</td>\n",
       "      <td>3.0</td>\n",
       "      <td>94.05</td>\n",
       "      <td>671.52</td>\n",
       "      <td>0.0</td>\n",
       "      <td>0.0</td>\n",
       "      <td>0.0</td>\n",
       "      <td>0.0</td>\n",
       "      <td>1.0</td>\n",
       "      <td>0.0</td>\n",
       "      <td>1.0</td>\n",
       "      <td>0.0</td>\n",
       "      <td>0.0</td>\n",
       "      <td>1.0</td>\n",
       "      <td>1.0</td>\n",
       "      <td>0.0</td>\n",
       "      <td>215</td>\n",
       "    </tr>\n",
       "    <tr>\n",
       "      <th>1849</th>\n",
       "      <td>0.0</td>\n",
       "      <td>0.0</td>\n",
       "      <td>0.0</td>\n",
       "      <td>33.60</td>\n",
       "      <td>2131.58</td>\n",
       "      <td>1.0</td>\n",
       "      <td>0.0</td>\n",
       "      <td>1.0</td>\n",
       "      <td>1.0</td>\n",
       "      <td>0.0</td>\n",
       "      <td>1.0</td>\n",
       "      <td>0.0</td>\n",
       "      <td>1.0</td>\n",
       "      <td>0.0</td>\n",
       "      <td>0.0</td>\n",
       "      <td>0.0</td>\n",
       "      <td>0.0</td>\n",
       "      <td>1857</td>\n",
       "    </tr>\n",
       "    <tr>\n",
       "      <th>70</th>\n",
       "      <td>0.0</td>\n",
       "      <td>1.0</td>\n",
       "      <td>0.0</td>\n",
       "      <td>19.95</td>\n",
       "      <td>205.49</td>\n",
       "      <td>0.0</td>\n",
       "      <td>0.0</td>\n",
       "      <td>1.0</td>\n",
       "      <td>0.0</td>\n",
       "      <td>2.0</td>\n",
       "      <td>0.0</td>\n",
       "      <td>0.0</td>\n",
       "      <td>0.0</td>\n",
       "      <td>0.0</td>\n",
       "      <td>0.0</td>\n",
       "      <td>0.0</td>\n",
       "      <td>0.0</td>\n",
       "      <td>306</td>\n",
       "    </tr>\n",
       "  </tbody>\n",
       "</table>\n",
       "</div>"
      ],
      "text/plain": [
       "      Type  PaperlessBilling  PaymentMethod  MonthlyCharges  TotalCharges  \\\n",
       "4602   2.0               0.0            0.0           26.00       1773.20   \n",
       "3837   0.0               1.0            1.0           80.30       2888.39   \n",
       "7035   1.0               1.0            3.0           94.05        671.52   \n",
       "1849   0.0               0.0            0.0           33.60       2131.58   \n",
       "70     0.0               1.0            0.0           19.95        205.49   \n",
       "\n",
       "      gender  SeniorCitizen  Partner  Dependents  InternetService  \\\n",
       "4602     0.0            0.0      0.0         1.0              2.0   \n",
       "3837     1.0            1.0      1.0         0.0              1.0   \n",
       "7035     0.0            0.0      0.0         0.0              1.0   \n",
       "1849     1.0            0.0      1.0         1.0              0.0   \n",
       "70       0.0            0.0      1.0         0.0              2.0   \n",
       "\n",
       "      OnlineSecurity  OnlineBackup  DeviceProtection  TechSupport  \\\n",
       "4602             0.0           0.0               0.0          0.0   \n",
       "3837             0.0           0.0               0.0          0.0   \n",
       "7035             0.0           1.0               0.0          0.0   \n",
       "1849             1.0           0.0               1.0          0.0   \n",
       "70               0.0           0.0               0.0          0.0   \n",
       "\n",
       "      StreamingTV  StreamingMovies  MultipleLines  duration  \n",
       "4602          0.0              0.0            1.0      1888  \n",
       "3837          0.0              1.0            0.0      1005  \n",
       "7035          1.0              1.0            0.0       215  \n",
       "1849          0.0              0.0            0.0      1857  \n",
       "70            0.0              0.0            0.0       306  "
      ]
     },
     "metadata": {},
     "output_type": "display_data"
    }
   ],
   "source": [
    "# Обработка категориальных признаков для GBM:\n",
    "features_train_gbm = features_train.copy()\n",
    "features_test_gbm = features_test.copy()\n",
    "\n",
    "encoder = OrdinalEncoder()\n",
    "features_train_gbm[cat_col] = encoder.fit_transform(features_train_gbm[cat_col])\n",
    "features_test_gbm[cat_col] = encoder.transform(features_test_gbm[cat_col])\n",
    "\n",
    "display(features_train_gbm.head())"
   ]
  },
  {
   "cell_type": "markdown",
   "id": "4a343ae4",
   "metadata": {},
   "source": [
    "## Обучение моделей"
   ]
  },
  {
   "cell_type": "code",
   "execution_count": 42,
   "id": "ec24edad",
   "metadata": {},
   "outputs": [
    {
     "name": "stdout",
     "output_type": "stream",
     "text": [
      "Лучшие параметры модели LGBMClassifier: {'learning_rate': 1, 'max_depth': 5}\n"
     ]
    }
   ],
   "source": [
    "# Обучение GBM:\n",
    "gbm = LGBMClassifier(random_state = RANDOM_STATE)\n",
    "gbm_params = {'max_depth': np.arange(3, 10), 'learning_rate':[0.01, 0.1, 1]}\n",
    "\n",
    "grid_gbm = GridSearchCV(gbm, \n",
    "                    gbm_params, \n",
    "                    cv = 3,\n",
    "                    scoring={'roc_auc': 'roc_auc', 'precision': make_scorer(precision_score, average='binary', zero_division=1)},\n",
    "                    refit = 'roc_auc').fit(features_train_gbm, target_train)\n",
    "\n",
    "print('Лучшие параметры модели LGBMClassifier:', grid_gbm.best_params_)"
   ]
  },
  {
   "cell_type": "code",
   "execution_count": 43,
   "id": "175508b8",
   "metadata": {},
   "outputs": [
    {
     "name": "stdout",
     "output_type": "stream",
     "text": [
      "Лучший результат модели LGBMClassifier: 0.858746357493941\n"
     ]
    }
   ],
   "source": [
    "print('Лучший результат модели LGBMClassifier:', grid_gbm.best_score_)"
   ]
  },
  {
   "cell_type": "code",
   "execution_count": 44,
   "id": "10320f60",
   "metadata": {},
   "outputs": [],
   "source": [
    "results = pd.DataFrame.from_dict(grid_gbm.cv_results_)"
   ]
  },
  {
   "cell_type": "code",
   "execution_count": 45,
   "id": "36f3d9af",
   "metadata": {},
   "outputs": [],
   "source": [
    "#создадим таблицу, в которой сохраним результаты работы моделей\n",
    "result = pd.DataFrame(columns = ['ROC_AUC', 'Precision'])\n",
    "\n",
    "def res(name, roc_auc, precision):\n",
    "    result.loc[name, ['ROC_AUC']] = roc_auc\n",
    "    result.loc[name, ['Precision']] = precision\n",
    "    return result"
   ]
  },
  {
   "cell_type": "code",
   "execution_count": 46,
   "id": "fb6bbafa",
   "metadata": {},
   "outputs": [],
   "source": [
    "best_idx = results.sort_values(by='rank_test_roc_auc').head(1).index[0]"
   ]
  },
  {
   "cell_type": "code",
   "execution_count": 47,
   "id": "e7c0643a",
   "metadata": {},
   "outputs": [],
   "source": [
    "roc = results.loc[best_idx, 'mean_test_roc_auc']\n",
    "pr = results.loc[best_idx, 'mean_test_precision']"
   ]
  },
  {
   "cell_type": "code",
   "execution_count": 48,
   "id": "5c2f42f1",
   "metadata": {},
   "outputs": [
    {
     "data": {
      "text/html": [
       "<div>\n",
       "<style scoped>\n",
       "    .dataframe tbody tr th:only-of-type {\n",
       "        vertical-align: middle;\n",
       "    }\n",
       "\n",
       "    .dataframe tbody tr th {\n",
       "        vertical-align: top;\n",
       "    }\n",
       "\n",
       "    .dataframe thead th {\n",
       "        text-align: right;\n",
       "    }\n",
       "</style>\n",
       "<table border=\"1\" class=\"dataframe\">\n",
       "  <thead>\n",
       "    <tr style=\"text-align: right;\">\n",
       "      <th></th>\n",
       "      <th>ROC_AUC</th>\n",
       "      <th>Precision</th>\n",
       "    </tr>\n",
       "  </thead>\n",
       "  <tbody>\n",
       "    <tr>\n",
       "      <th>LGBMClassifier</th>\n",
       "      <td>0.86</td>\n",
       "      <td>0.66</td>\n",
       "    </tr>\n",
       "  </tbody>\n",
       "</table>\n",
       "</div>"
      ],
      "text/plain": [
       "               ROC_AUC Precision\n",
       "LGBMClassifier    0.86      0.66"
      ]
     },
     "execution_count": 48,
     "metadata": {},
     "output_type": "execute_result"
    }
   ],
   "source": [
    "res('LGBMClassifier', round(roc, 2), round(pr, 2))"
   ]
  },
  {
   "cell_type": "code",
   "execution_count": 49,
   "id": "aa4a67f5",
   "metadata": {},
   "outputs": [],
   "source": [
    "pd.DataFrame.iteritems = pd.DataFrame.items"
   ]
  },
  {
   "cell_type": "code",
   "execution_count": 50,
   "id": "5e6541b6",
   "metadata": {},
   "outputs": [
    {
     "name": "stdout",
     "output_type": "stream",
     "text": [
      "Лучшие параметры модели CatBoostClassifier: {'iterations': 1500, 'learning_rate': 0.1, 'max_depth': 3}\n"
     ]
    }
   ],
   "source": [
    "# Обучение CatBoost:\n",
    "cbr = CatBoostClassifier(random_state = RANDOM_STATE, logging_level='Silent', loss_function='Logloss')\n",
    "cbr_params = {'max_depth': np.arange(3, 10), 'learning_rate':[ 0.001, 0.01, 0.1, 1], 'iterations': [500,1000,1500]}\n",
    "\n",
    "grid_cbr = GridSearchCV(cbr, cbr_params, cv=3, scoring=['roc_auc', 'precision'], refit = 'roc_auc')\n",
    "\n",
    "grid_cbr.fit(features_train_gbm, target_train)\n",
    "\n",
    "print('Лучшие параметры модели CatBoostClassifier:', grid_cbr.best_params_)"
   ]
  },
  {
   "cell_type": "code",
   "execution_count": 51,
   "id": "1f1d36fc",
   "metadata": {},
   "outputs": [
    {
     "name": "stdout",
     "output_type": "stream",
     "text": [
      "Лучший результат модели CatBoostClassifier: 0.9133583699194042\n"
     ]
    }
   ],
   "source": [
    "print('Лучший результат модели CatBoostClassifier:', grid_cbr.best_score_)"
   ]
  },
  {
   "cell_type": "code",
   "execution_count": 52,
   "id": "1a0ab179",
   "metadata": {},
   "outputs": [
    {
     "data": {
      "text/html": [
       "<div>\n",
       "<style scoped>\n",
       "    .dataframe tbody tr th:only-of-type {\n",
       "        vertical-align: middle;\n",
       "    }\n",
       "\n",
       "    .dataframe tbody tr th {\n",
       "        vertical-align: top;\n",
       "    }\n",
       "\n",
       "    .dataframe thead th {\n",
       "        text-align: right;\n",
       "    }\n",
       "</style>\n",
       "<table border=\"1\" class=\"dataframe\">\n",
       "  <thead>\n",
       "    <tr style=\"text-align: right;\">\n",
       "      <th></th>\n",
       "      <th>ROC_AUC</th>\n",
       "      <th>Precision</th>\n",
       "    </tr>\n",
       "  </thead>\n",
       "  <tbody>\n",
       "    <tr>\n",
       "      <th>LGBMClassifier</th>\n",
       "      <td>0.86</td>\n",
       "      <td>0.66</td>\n",
       "    </tr>\n",
       "    <tr>\n",
       "      <th>CatBoostClassifier</th>\n",
       "      <td>0.91</td>\n",
       "      <td>0.85</td>\n",
       "    </tr>\n",
       "  </tbody>\n",
       "</table>\n",
       "</div>"
      ],
      "text/plain": [
       "                   ROC_AUC Precision\n",
       "LGBMClassifier        0.86      0.66\n",
       "CatBoostClassifier    0.91      0.85"
      ]
     },
     "execution_count": 52,
     "metadata": {},
     "output_type": "execute_result"
    }
   ],
   "source": [
    "# Занесём результаты в табличку:\n",
    "results = pd.DataFrame.from_dict(grid_cbr.cv_results_)\n",
    "best_idx = results.sort_values(by='rank_test_roc_auc').head(1).index[0]\n",
    "roc = results.loc[best_idx, 'mean_test_roc_auc']\n",
    "pr = results.loc[best_idx, 'mean_test_precision']\n",
    "\n",
    "res('CatBoostClassifier', round(roc, 2), round(pr, 2))"
   ]
  },
  {
   "cell_type": "markdown",
   "id": "2ed3ad7b",
   "metadata": {},
   "source": [
    "### Выводы:\n",
    "- обучили 2 модели: LGBMClassifierи CatBoostClassifier\n",
    "- метрикой качества выступают метрики ROC_AUC и Precision\n",
    "- лучшие показатели показала модель CatBoostClassifier с параметрами ROC_AUC 0.91 и Precision 0.85"
   ]
  },
  {
   "cell_type": "markdown",
   "id": "912a13ed",
   "metadata": {},
   "source": [
    "## Тестирование лучшей модели на тестовой выборке"
   ]
  },
  {
   "cell_type": "markdown",
   "id": "58e4b3d8",
   "metadata": {},
   "source": [
    "Лучшей моделью показала себя CatBoostClassifier. Протестируем её на тестовой выборке на лучших параметрах модели"
   ]
  },
  {
   "cell_type": "code",
   "execution_count": 62,
   "id": "fbf35a4c",
   "metadata": {},
   "outputs": [],
   "source": [
    "y_pred_proba = grid_cbr.predict_proba(features_test_gbm)[:, 1]"
   ]
  },
  {
   "cell_type": "code",
   "execution_count": 63,
   "id": "03bf512d",
   "metadata": {},
   "outputs": [
    {
     "name": "stdout",
     "output_type": "stream",
     "text": [
      "Метрика ROC-AUC на тестовой выборке: 0.94\n"
     ]
    }
   ],
   "source": [
    "print(f'Метрика ROC-AUC на тестовой выборке: {round(roc_auc_score(target_test, y_pred_proba),2)}')"
   ]
  },
  {
   "cell_type": "code",
   "execution_count": 64,
   "id": "fb4b1cf7",
   "metadata": {},
   "outputs": [],
   "source": [
    "#best_model = CatBoostClassifier(logging_level='Silent',\n",
    "#                           loss_function='Logloss',\n",
    "#                           iterations = 1500, \n",
    "#                           learning_rate = 0.1, \n",
    "#                           max_depth = 3,\n",
    "#                           random_state = RANDOM_STATE).fit(features_train_gbm, target_train)\n",
    "#predictions = best_model.predict(features_test_gbm)\n",
    "#\n",
    "#y_pred_proba = best_model.predict_proba(features_test_gbm)[:, 1]"
   ]
  },
  {
   "cell_type": "code",
   "execution_count": 65,
   "id": "a8f2bc9d",
   "metadata": {},
   "outputs": [],
   "source": [
    "#roc_auc = roc_auc_score(target_test, y_pred_proba)\n",
    "#print(' метрика roc_auc на тестовом наборе данных:', round(roc_auc, 2))"
   ]
  },
  {
   "cell_type": "markdown",
   "id": "282c2e82",
   "metadata": {},
   "source": [
    "На тестовом наборе данных лучшая модель показала даже лучший результат roc_auc = 0.94, чем на кросс валидации"
   ]
  },
  {
   "cell_type": "code",
   "execution_count": 69,
   "id": "4cb0e683",
   "metadata": {},
   "outputs": [],
   "source": [
    "from sklearn.metrics import f1_score, roc_curve, roc_auc_score, f1_score, auc"
   ]
  },
  {
   "cell_type": "code",
   "execution_count": 84,
   "id": "31376cbe",
   "metadata": {},
   "outputs": [
    {
     "data": {
      "text/html": [
       "<div>\n",
       "<style scoped>\n",
       "    .dataframe tbody tr th:only-of-type {\n",
       "        vertical-align: middle;\n",
       "    }\n",
       "\n",
       "    .dataframe tbody tr th {\n",
       "        vertical-align: top;\n",
       "    }\n",
       "\n",
       "    .dataframe thead th {\n",
       "        text-align: right;\n",
       "    }\n",
       "</style>\n",
       "<table border=\"1\" class=\"dataframe\">\n",
       "  <thead>\n",
       "    <tr style=\"text-align: right;\">\n",
       "      <th></th>\n",
       "      <th>Важность признака</th>\n",
       "    </tr>\n",
       "  </thead>\n",
       "  <tbody>\n",
       "    <tr>\n",
       "      <th>duration</th>\n",
       "      <td>57.072501</td>\n",
       "    </tr>\n",
       "    <tr>\n",
       "      <th>MonthlyCharges</th>\n",
       "      <td>11.628960</td>\n",
       "    </tr>\n",
       "    <tr>\n",
       "      <th>TotalCharges</th>\n",
       "      <td>10.010102</td>\n",
       "    </tr>\n",
       "    <tr>\n",
       "      <th>Type</th>\n",
       "      <td>5.250816</td>\n",
       "    </tr>\n",
       "    <tr>\n",
       "      <th>PaymentMethod</th>\n",
       "      <td>3.014184</td>\n",
       "    </tr>\n",
       "    <tr>\n",
       "      <th>Partner</th>\n",
       "      <td>2.485469</td>\n",
       "    </tr>\n",
       "    <tr>\n",
       "      <th>MultipleLines</th>\n",
       "      <td>2.024300</td>\n",
       "    </tr>\n",
       "    <tr>\n",
       "      <th>InternetService</th>\n",
       "      <td>1.795850</td>\n",
       "    </tr>\n",
       "    <tr>\n",
       "      <th>OnlineBackup</th>\n",
       "      <td>1.219112</td>\n",
       "    </tr>\n",
       "    <tr>\n",
       "      <th>Dependents</th>\n",
       "      <td>0.827660</td>\n",
       "    </tr>\n",
       "  </tbody>\n",
       "</table>\n",
       "</div>"
      ],
      "text/plain": [
       "                 Важность признака\n",
       "duration                 57.072501\n",
       "MonthlyCharges           11.628960\n",
       "TotalCharges             10.010102\n",
       "Type                      5.250816\n",
       "PaymentMethod             3.014184\n",
       "Partner                   2.485469\n",
       "MultipleLines             2.024300\n",
       "InternetService           1.795850\n",
       "OnlineBackup              1.219112\n",
       "Dependents                0.827660"
      ]
     },
     "execution_count": 84,
     "metadata": {},
     "output_type": "execute_result"
    }
   ],
   "source": [
    "# Важность признаков:\n",
    "main_sign = pd.DataFrame(grid_cbr.best_estimator_.feature_importances_,\n",
    "                         index = features_test.columns,\n",
    "                         columns=['Важность признака'])\n",
    "main_sign = main_sign.sort_values(by='Важность признака', ascending=False)\n",
    "main_sign.iloc[:10]"
   ]
  },
  {
   "cell_type": "markdown",
   "id": "0da90c76",
   "metadata": {},
   "source": [
    "### Самые главные признаки, влияющие на уход клиента\n",
    "- длительность договора\n",
    "- ежемесячные траты\n",
    "- общая сумма трат\n",
    "- тип оплаты\n",
    "\n",
    "Остальные признаки влияют незначительно"
   ]
  },
  {
   "cell_type": "markdown",
   "id": "f045fdec",
   "metadata": {},
   "source": [
    "## Построение матрицы ошибок"
   ]
  },
  {
   "cell_type": "code",
   "execution_count": 94,
   "id": "c525eec4",
   "metadata": {},
   "outputs": [],
   "source": [
    "y_pred = grid_cbr.best_estimator_.predict(features_test_gbm)"
   ]
  },
  {
   "cell_type": "code",
   "execution_count": 99,
   "id": "4fb680bc",
   "metadata": {},
   "outputs": [
    {
     "data": {
      "image/png": "[encoded data removed]",
      "text/plain": [
       "<Figure size 720x720 with 2 Axes>"
      ]
     },
     "metadata": {
      "needs_background": "light"
     },
     "output_type": "display_data"
    }
   ],
   "source": [
    "cm = confusion_matrix(target_test, y_pred)\n",
    "plt.figure(figsize = (10 , 10))\n",
    "plt.title(\"Матрица ошибок\")\n",
    "ax = sns.heatmap(cm, annot=True, fmt='d')\n",
    "plt.xlabel('Predicted')\n",
    "plt.ylabel('True');"
   ]
  },
  {
   "cell_type": "markdown",
   "id": "0cb92d5b",
   "metadata": {},
   "source": [
    "- истинно положительный (TP) - 1469\n",
    "- истинно отрицательный (TN) - 174\n",
    "- ложноположительный результат (FP), ошибка I рода - 16\n",
    "- ложноотрицательный результат (FN), ошибка II рода 102"
   ]
  },
  {
   "cell_type": "code",
   "execution_count": 101,
   "id": "95f6ab41",
   "metadata": {},
   "outputs": [
    {
     "data": {
      "image/png": "[encoded data removed]",
      "text/plain": [
       "<Figure size 432x288 with 1 Axes>"
      ]
     },
     "metadata": {
      "needs_background": "light"
     },
     "output_type": "display_data"
    }
   ],
   "source": [
    "fpr, tpr, thresholds = roc_curve(target_test, y_pred_proba)   \n",
    "plt.plot(fpr, tpr)     \n",
    "plt.title(\"График зависимости FPR от TPR\")\n",
    "plt.xlabel('FPR (False Positive Rate)')\n",
    "plt.ylabel('TPR (True Positive Rate)')\n",
    "plt.show()"
   ]
  },
  {
   "cell_type": "markdown",
   "id": "318bbdbe",
   "metadata": {},
   "source": [
    "## Итоговый вывод и рекомендации заказчику"
   ]
  },
  {
   "cell_type": "markdown",
   "id": "3b8310f6",
   "metadata": {},
   "source": [
    "В данном проекте заказчик предоставил нам 4 набора данных о своих клиентах. Задача стояла обучить модели, чтобы предсказать отток клиентов. Для этого проделали следущую работу:\n",
    "- загрузили все представленные наборы данных и изучили общую информацию о них\n",
    "- заполнили пропуски, изменили типы данных в некоторых признаках\n",
    "- выполнили исследовательский анализ данных и предобработку\n",
    "- объединили все исходные датафреймы в один\n",
    "- добавили новые признаки\n",
    "- удалили лишние столбцы\n",
    "- построили матрицу корреляции. Многие признаки имеют слабую связь с целевым признаком\n",
    "- составили \"портрет\" ушедшего пользователя:\n",
    "* чаще всего польщователи уходт, кто пользовался услугами 2 года\n",
    "* чаще уходят те, кто польщзуется электронным расчетом\n",
    "* девушки немного чаще отказываются от услуг\n",
    "* чаще уходят те, кто пользуется оптоволокном\n",
    "* со временем, пользователя реже отказываются от услуг\n",
    "* чаще уходят люди, которые только недавно начали пользоваться услугами\n",
    "* пользователи со стриминговым сервисом отказывались чаще\n",
    "* чем меньше потратил абонент, тем выше шанс его ухода\n",
    "* те, кто платит ежемесячно\n",
    "* имеют подключение к нескольким линиям\n",
    "\n",
    "Для предсказания оттока клиентов обучили две модели - LGBMClassifier и CatBoostClassifier\n",
    "\n",
    "Обе модели показали себя хорошо, однако лучшие метрики получились у CatBoostClassifier:\n",
    "- ROC_AUC 0.91\n",
    "- Precision 0.85\n",
    "\n",
    "При следующих лучших параметрах модели: 'iterations': 1500, 'learning_rate': 0.1, 'max_depth': 3.\n",
    "\n",
    "Протестировали лучшую модель на тестовой выборке, модель показала даже лучший результат: метрика roc_auc на тестовом наборе данных: 0.94\n",
    "\n",
    "Исследовали важность признаков, влияющие на уход, это:\n",
    "- длительность договора\n",
    "- ежемесячные траты\n",
    "- общая сумма трат\n",
    "- тип оплаты\n",
    "\n",
    "Построили матрицу ошибок: \n",
    "- истинно положительный (TP) - 1469\n",
    "- истинно отрицательный (TN) - 174\n",
    "- ложноположительный результат (FP), ошибка I рода - 16\n",
    "- ложноотрицательный результат (FN), ошибка II рода 102\n",
    "\n",
    "Рекомендации бизнесу:\n",
    "- использовать модель CatBoostClassifier\n",
    "- учитывая \"портрет\" ушедшего клиента, предлагать акции и скидки такому типу пользователей"
   ]
  }
 ],
 "metadata": {
  "ExecuteTimeLog": [
   {
    "duration": 1588,
    "start_time": "2025-01-18T09:59:09.057Z"
   },
   {
    "duration": 347,
    "start_time": "2025-01-18T10:06:21.250Z"
   },
   {
    "duration": 14,
    "start_time": "2025-01-18T10:09:19.030Z"
   },
   {
    "duration": 9,
    "start_time": "2025-01-18T10:09:34.671Z"
   },
   {
    "duration": 17,
    "start_time": "2025-01-18T10:11:22.401Z"
   },
   {
    "duration": 97,
    "start_time": "2025-01-18T10:28:34.115Z"
   },
   {
    "duration": 10,
    "start_time": "2025-01-18T10:28:34.852Z"
   },
   {
    "duration": 57,
    "start_time": "2025-01-18T10:28:35.525Z"
   },
   {
    "duration": 19,
    "start_time": "2025-01-18T10:29:14.745Z"
   },
   {
    "duration": 20,
    "start_time": "2025-01-18T10:29:17.186Z"
   },
   {
    "duration": 19,
    "start_time": "2025-01-18T10:29:43.314Z"
   },
   {
    "duration": 86,
    "start_time": "2025-01-18T10:33:15.832Z"
   },
   {
    "duration": 17,
    "start_time": "2025-01-18T10:33:47.583Z"
   },
   {
    "duration": 18,
    "start_time": "2025-01-18T10:36:33.018Z"
   },
   {
    "duration": 12,
    "start_time": "2025-01-18T10:37:04.011Z"
   },
   {
    "duration": 25,
    "start_time": "2025-01-18T10:48:06.377Z"
   },
   {
    "duration": 16,
    "start_time": "2025-01-18T10:48:19.462Z"
   },
   {
    "duration": 6,
    "start_time": "2025-01-18T11:13:06.777Z"
   },
   {
    "duration": 4,
    "start_time": "2025-01-18T11:13:11.096Z"
   },
   {
    "duration": 10,
    "start_time": "2025-01-18T11:24:06.153Z"
   },
   {
    "duration": 113,
    "start_time": "2025-01-18T11:24:17.493Z"
   },
   {
    "duration": 16,
    "start_time": "2025-01-18T11:24:24.086Z"
   },
   {
    "duration": 17,
    "start_time": "2025-01-18T11:24:34.332Z"
   },
   {
    "duration": 18,
    "start_time": "2025-01-18T11:25:17.165Z"
   },
   {
    "duration": 31,
    "start_time": "2025-01-18T11:34:00.192Z"
   },
   {
    "duration": 91,
    "start_time": "2025-01-18T11:34:58.963Z"
   },
   {
    "duration": 14,
    "start_time": "2025-01-18T11:35:15.004Z"
   },
   {
    "duration": 1549,
    "start_time": "2025-01-19T08:38:47.653Z"
   },
   {
    "duration": 362,
    "start_time": "2025-01-19T08:38:49.204Z"
   },
   {
    "duration": 26,
    "start_time": "2025-01-19T08:38:49.568Z"
   },
   {
    "duration": 31,
    "start_time": "2025-01-19T08:38:49.596Z"
   },
   {
    "duration": 5,
    "start_time": "2025-01-19T08:38:49.630Z"
   },
   {
    "duration": 25,
    "start_time": "2025-01-19T08:38:49.636Z"
   },
   {
    "duration": 12,
    "start_time": "2025-01-19T08:38:49.662Z"
   },
   {
    "duration": 22,
    "start_time": "2025-01-19T08:38:49.676Z"
   },
   {
    "duration": 46,
    "start_time": "2025-01-19T08:38:49.700Z"
   },
   {
    "duration": 28,
    "start_time": "2025-01-19T08:38:49.748Z"
   },
   {
    "duration": 50,
    "start_time": "2025-01-19T08:48:41.926Z"
   },
   {
    "duration": 14,
    "start_time": "2025-01-19T08:48:53.136Z"
   },
   {
    "duration": 45,
    "start_time": "2025-01-19T08:49:20.009Z"
   },
   {
    "duration": 11,
    "start_time": "2025-01-19T08:49:20.945Z"
   },
   {
    "duration": 23,
    "start_time": "2025-01-19T08:49:33.663Z"
   },
   {
    "duration": 15,
    "start_time": "2025-01-19T08:50:20.696Z"
   },
   {
    "duration": 27,
    "start_time": "2025-01-19T08:50:33.711Z"
   },
   {
    "duration": 11,
    "start_time": "2025-01-19T08:50:48.522Z"
   },
   {
    "duration": 15,
    "start_time": "2025-01-19T09:07:04.217Z"
   },
   {
    "duration": 13,
    "start_time": "2025-01-19T09:13:33.700Z"
   },
   {
    "duration": 14,
    "start_time": "2025-01-19T09:14:56.015Z"
   },
   {
    "duration": 4,
    "start_time": "2025-01-19T09:17:52.743Z"
   },
   {
    "duration": 12,
    "start_time": "2025-01-19T09:18:07.927Z"
   },
   {
    "duration": 1412,
    "start_time": "2025-01-19T09:23:45.828Z"
   },
   {
    "duration": 95,
    "start_time": "2025-01-19T09:23:47.242Z"
   },
   {
    "duration": 25,
    "start_time": "2025-01-19T09:23:47.338Z"
   },
   {
    "duration": 14,
    "start_time": "2025-01-19T09:23:47.366Z"
   },
   {
    "duration": 33,
    "start_time": "2025-01-19T09:23:47.382Z"
   },
   {
    "duration": 3,
    "start_time": "2025-01-19T09:23:47.417Z"
   },
   {
    "duration": 13,
    "start_time": "2025-01-19T09:23:47.422Z"
   },
   {
    "duration": 16,
    "start_time": "2025-01-19T09:23:47.437Z"
   },
   {
    "duration": 5,
    "start_time": "2025-01-19T09:23:47.455Z"
   },
   {
    "duration": 19,
    "start_time": "2025-01-19T09:23:47.463Z"
   },
   {
    "duration": 50,
    "start_time": "2025-01-19T09:23:47.483Z"
   },
   {
    "duration": 21,
    "start_time": "2025-01-19T09:23:47.534Z"
   },
   {
    "duration": 30,
    "start_time": "2025-01-19T09:23:47.557Z"
   },
   {
    "duration": 44,
    "start_time": "2025-01-19T09:23:47.589Z"
   },
   {
    "duration": 1177,
    "start_time": "2025-01-19T09:31:26.488Z"
   },
   {
    "duration": 1054,
    "start_time": "2025-01-19T09:31:40.735Z"
   },
   {
    "duration": 5,
    "start_time": "2025-01-19T09:32:31.455Z"
   },
   {
    "duration": 5,
    "start_time": "2025-01-19T09:32:38.074Z"
   },
   {
    "duration": 4,
    "start_time": "2025-01-19T09:32:51.458Z"
   },
   {
    "duration": 6,
    "start_time": "2025-01-19T09:32:57.734Z"
   },
   {
    "duration": 27,
    "start_time": "2025-01-19T09:33:00.254Z"
   },
   {
    "duration": 1431,
    "start_time": "2025-01-19T09:39:49.027Z"
   },
   {
    "duration": 93,
    "start_time": "2025-01-19T09:39:50.460Z"
   },
   {
    "duration": 24,
    "start_time": "2025-01-19T09:39:50.554Z"
   },
   {
    "duration": 24,
    "start_time": "2025-01-19T09:39:50.580Z"
   },
   {
    "duration": 43,
    "start_time": "2025-01-19T09:39:50.606Z"
   },
   {
    "duration": 21,
    "start_time": "2025-01-19T09:39:50.651Z"
   },
   {
    "duration": 35,
    "start_time": "2025-01-19T09:39:50.674Z"
   },
   {
    "duration": 54,
    "start_time": "2025-01-19T09:39:50.711Z"
   },
   {
    "duration": 21,
    "start_time": "2025-01-19T09:39:50.766Z"
   },
   {
    "duration": 26,
    "start_time": "2025-01-19T09:39:50.789Z"
   },
   {
    "duration": 18,
    "start_time": "2025-01-19T09:39:50.817Z"
   },
   {
    "duration": 35,
    "start_time": "2025-01-19T09:39:50.836Z"
   },
   {
    "duration": 29,
    "start_time": "2025-01-19T09:39:50.873Z"
   },
   {
    "duration": 19,
    "start_time": "2025-01-19T09:39:50.904Z"
   },
   {
    "duration": 10,
    "start_time": "2025-01-19T09:39:50.924Z"
   },
   {
    "duration": 7,
    "start_time": "2025-01-19T09:39:50.936Z"
   },
   {
    "duration": 21,
    "start_time": "2025-01-19T09:43:46.447Z"
   },
   {
    "duration": 35,
    "start_time": "2025-01-19T09:43:47.206Z"
   },
   {
    "duration": 14,
    "start_time": "2025-01-19T09:43:47.730Z"
   },
   {
    "duration": 1408,
    "start_time": "2025-01-19T09:43:56.518Z"
   },
   {
    "duration": 104,
    "start_time": "2025-01-19T09:43:57.928Z"
   },
   {
    "duration": 39,
    "start_time": "2025-01-19T09:43:58.035Z"
   },
   {
    "duration": 16,
    "start_time": "2025-01-19T09:43:58.077Z"
   },
   {
    "duration": 85,
    "start_time": "2025-01-19T09:43:58.095Z"
   },
   {
    "duration": 3,
    "start_time": "2025-01-19T09:43:58.181Z"
   },
   {
    "duration": 16,
    "start_time": "2025-01-19T09:43:58.186Z"
   },
   {
    "duration": 20,
    "start_time": "2025-01-19T09:43:58.204Z"
   },
   {
    "duration": 4,
    "start_time": "2025-01-19T09:43:58.227Z"
   },
   {
    "duration": 22,
    "start_time": "2025-01-19T09:43:58.234Z"
   },
   {
    "duration": 16,
    "start_time": "2025-01-19T09:43:58.258Z"
   },
   {
    "duration": 59,
    "start_time": "2025-01-19T09:43:58.276Z"
   },
   {
    "duration": 33,
    "start_time": "2025-01-19T09:43:58.336Z"
   },
   {
    "duration": 26,
    "start_time": "2025-01-19T09:43:58.371Z"
   },
   {
    "duration": 6,
    "start_time": "2025-01-19T09:43:58.423Z"
   },
   {
    "duration": 11,
    "start_time": "2025-01-19T09:43:58.431Z"
   },
   {
    "duration": 24,
    "start_time": "2025-01-19T09:49:30.490Z"
   },
   {
    "duration": 20,
    "start_time": "2025-01-19T09:49:57.667Z"
   },
   {
    "duration": 30,
    "start_time": "2025-01-19T09:50:16.803Z"
   },
   {
    "duration": 34,
    "start_time": "2025-01-19T09:50:32.445Z"
   },
   {
    "duration": 9,
    "start_time": "2025-01-19T09:50:56.472Z"
   },
   {
    "duration": 23,
    "start_time": "2025-01-19T09:50:58.289Z"
   },
   {
    "duration": 17,
    "start_time": "2025-01-19T09:51:01.893Z"
   },
   {
    "duration": 7,
    "start_time": "2025-01-19T09:51:06.985Z"
   },
   {
    "duration": 33,
    "start_time": "2025-01-19T09:51:19.211Z"
   },
   {
    "duration": 88,
    "start_time": "2025-01-19T09:51:42.728Z"
   },
   {
    "duration": 111,
    "start_time": "2025-01-19T09:51:49.044Z"
   },
   {
    "duration": 28,
    "start_time": "2025-01-19T09:51:57.052Z"
   },
   {
    "duration": 28,
    "start_time": "2025-01-19T09:52:17.626Z"
   },
   {
    "duration": 17,
    "start_time": "2025-01-19T09:52:24.889Z"
   },
   {
    "duration": 2,
    "start_time": "2025-01-19T09:53:07.381Z"
   },
   {
    "duration": 3,
    "start_time": "2025-01-19T10:00:30.232Z"
   },
   {
    "duration": 12,
    "start_time": "2025-01-19T10:14:26.624Z"
   },
   {
    "duration": 19,
    "start_time": "2025-01-19T10:14:36.374Z"
   },
   {
    "duration": 1746,
    "start_time": "2025-01-19T10:18:47.757Z"
   },
   {
    "duration": 96,
    "start_time": "2025-01-19T10:18:49.504Z"
   },
   {
    "duration": 25,
    "start_time": "2025-01-19T10:18:49.601Z"
   },
   {
    "duration": 18,
    "start_time": "2025-01-19T10:18:49.628Z"
   },
   {
    "duration": 15,
    "start_time": "2025-01-19T10:18:49.648Z"
   },
   {
    "duration": 3,
    "start_time": "2025-01-19T10:18:49.664Z"
   },
   {
    "duration": 12,
    "start_time": "2025-01-19T10:18:49.668Z"
   },
   {
    "duration": 45,
    "start_time": "2025-01-19T10:18:49.682Z"
   },
   {
    "duration": 4,
    "start_time": "2025-01-19T10:18:49.729Z"
   },
   {
    "duration": 23,
    "start_time": "2025-01-19T10:18:49.734Z"
   },
   {
    "duration": 17,
    "start_time": "2025-01-19T10:18:49.759Z"
   },
   {
    "duration": 51,
    "start_time": "2025-01-19T10:18:49.778Z"
   },
   {
    "duration": 30,
    "start_time": "2025-01-19T10:18:49.831Z"
   },
   {
    "duration": 14,
    "start_time": "2025-01-19T10:18:49.863Z"
   },
   {
    "duration": 17,
    "start_time": "2025-01-19T10:18:49.879Z"
   },
   {
    "duration": 41,
    "start_time": "2025-01-19T10:18:49.897Z"
   },
   {
    "duration": 116,
    "start_time": "2025-01-19T10:30:19.259Z"
   },
   {
    "duration": 11,
    "start_time": "2025-01-19T10:30:53.666Z"
   },
   {
    "duration": 8,
    "start_time": "2025-01-19T10:31:01.409Z"
   },
   {
    "duration": 10,
    "start_time": "2025-01-19T10:31:06.314Z"
   },
   {
    "duration": 11,
    "start_time": "2025-01-19T10:31:41.962Z"
   },
   {
    "duration": 10,
    "start_time": "2025-01-19T10:31:44.707Z"
   },
   {
    "duration": 3,
    "start_time": "2025-01-19T10:35:24.341Z"
   },
   {
    "duration": 3,
    "start_time": "2025-01-19T10:35:27.281Z"
   },
   {
    "duration": 9,
    "start_time": "2025-01-19T10:35:33.099Z"
   },
   {
    "duration": 107,
    "start_time": "2025-01-19T10:35:47.592Z"
   },
   {
    "duration": 9,
    "start_time": "2025-01-19T10:36:42.923Z"
   },
   {
    "duration": 9,
    "start_time": "2025-01-19T10:36:49.131Z"
   },
   {
    "duration": 10,
    "start_time": "2025-01-19T10:36:51.374Z"
   },
   {
    "duration": 9,
    "start_time": "2025-01-19T10:38:04.428Z"
   },
   {
    "duration": 9,
    "start_time": "2025-01-19T10:39:08.072Z"
   },
   {
    "duration": 1590,
    "start_time": "2025-01-19T10:39:11.931Z"
   },
   {
    "duration": 97,
    "start_time": "2025-01-19T10:39:13.524Z"
   },
   {
    "duration": 27,
    "start_time": "2025-01-19T10:39:13.622Z"
   },
   {
    "duration": 16,
    "start_time": "2025-01-19T10:39:13.650Z"
   },
   {
    "duration": 18,
    "start_time": "2025-01-19T10:39:13.668Z"
   },
   {
    "duration": 3,
    "start_time": "2025-01-19T10:39:13.688Z"
   },
   {
    "duration": 40,
    "start_time": "2025-01-19T10:39:13.693Z"
   },
   {
    "duration": 21,
    "start_time": "2025-01-19T10:39:13.734Z"
   },
   {
    "duration": 4,
    "start_time": "2025-01-19T10:39:13.756Z"
   },
   {
    "duration": 22,
    "start_time": "2025-01-19T10:39:13.762Z"
   },
   {
    "duration": 47,
    "start_time": "2025-01-19T10:39:13.785Z"
   },
   {
    "duration": 45,
    "start_time": "2025-01-19T10:39:13.833Z"
   },
   {
    "duration": 44,
    "start_time": "2025-01-19T10:39:13.880Z"
   },
   {
    "duration": 14,
    "start_time": "2025-01-19T10:39:13.927Z"
   },
   {
    "duration": 14,
    "start_time": "2025-01-19T10:39:13.943Z"
   },
   {
    "duration": 18,
    "start_time": "2025-01-19T10:39:13.959Z"
   },
   {
    "duration": 6,
    "start_time": "2025-01-19T10:39:13.978Z"
   },
   {
    "duration": 5,
    "start_time": "2025-01-19T10:39:57.299Z"
   },
   {
    "duration": 7,
    "start_time": "2025-01-19T10:41:38.884Z"
   },
   {
    "duration": 17,
    "start_time": "2025-01-19T10:42:06.267Z"
   },
   {
    "duration": 4,
    "start_time": "2025-01-19T10:43:44.048Z"
   },
   {
    "duration": 5,
    "start_time": "2025-01-19T10:48:12.040Z"
   },
   {
    "duration": 5,
    "start_time": "2025-01-19T10:48:35.740Z"
   },
   {
    "duration": 107,
    "start_time": "2025-01-19T10:49:15.332Z"
   },
   {
    "duration": 41,
    "start_time": "2025-01-19T10:49:41.108Z"
   },
   {
    "duration": 24,
    "start_time": "2025-01-19T10:49:43.792Z"
   },
   {
    "duration": 17,
    "start_time": "2025-01-19T10:49:55.514Z"
   },
   {
    "duration": 1354,
    "start_time": "2025-01-19T10:50:13.071Z"
   },
   {
    "duration": 93,
    "start_time": "2025-01-19T10:50:14.426Z"
   },
   {
    "duration": 23,
    "start_time": "2025-01-19T10:50:14.521Z"
   },
   {
    "duration": 13,
    "start_time": "2025-01-19T10:50:14.546Z"
   },
   {
    "duration": 14,
    "start_time": "2025-01-19T10:50:14.561Z"
   },
   {
    "duration": 3,
    "start_time": "2025-01-19T10:50:14.577Z"
   },
   {
    "duration": 43,
    "start_time": "2025-01-19T10:50:14.581Z"
   },
   {
    "duration": 16,
    "start_time": "2025-01-19T10:50:14.626Z"
   },
   {
    "duration": 4,
    "start_time": "2025-01-19T10:50:14.643Z"
   },
   {
    "duration": 29,
    "start_time": "2025-01-19T10:50:14.649Z"
   },
   {
    "duration": 13,
    "start_time": "2025-01-19T10:50:14.679Z"
   },
   {
    "duration": 62,
    "start_time": "2025-01-19T10:50:14.694Z"
   },
   {
    "duration": 30,
    "start_time": "2025-01-19T10:50:14.758Z"
   },
   {
    "duration": 14,
    "start_time": "2025-01-19T10:50:14.790Z"
   },
   {
    "duration": 15,
    "start_time": "2025-01-19T10:50:14.806Z"
   },
   {
    "duration": 16,
    "start_time": "2025-01-19T10:50:14.823Z"
   },
   {
    "duration": 12,
    "start_time": "2025-01-19T10:50:14.840Z"
   },
   {
    "duration": 4,
    "start_time": "2025-01-19T10:50:14.853Z"
   },
   {
    "duration": 5,
    "start_time": "2025-01-19T10:50:14.859Z"
   },
   {
    "duration": 22,
    "start_time": "2025-01-19T10:50:14.865Z"
   },
   {
    "duration": 4,
    "start_time": "2025-01-19T10:50:14.889Z"
   },
   {
    "duration": 5,
    "start_time": "2025-01-19T10:50:14.894Z"
   },
   {
    "duration": 59,
    "start_time": "2025-01-19T10:50:14.900Z"
   },
   {
    "duration": 64,
    "start_time": "2025-01-19T10:50:14.961Z"
   },
   {
    "duration": 22,
    "start_time": "2025-01-19T10:53:56.951Z"
   },
   {
    "duration": 15,
    "start_time": "2025-01-19T10:54:15.994Z"
   },
   {
    "duration": 1455,
    "start_time": "2025-01-19T10:54:24.706Z"
   },
   {
    "duration": 93,
    "start_time": "2025-01-19T10:54:26.163Z"
   },
   {
    "duration": 23,
    "start_time": "2025-01-19T10:54:26.257Z"
   },
   {
    "duration": 14,
    "start_time": "2025-01-19T10:54:26.282Z"
   },
   {
    "duration": 14,
    "start_time": "2025-01-19T10:54:26.297Z"
   },
   {
    "duration": 3,
    "start_time": "2025-01-19T10:54:26.312Z"
   },
   {
    "duration": 13,
    "start_time": "2025-01-19T10:54:26.316Z"
   },
   {
    "duration": 15,
    "start_time": "2025-01-19T10:54:26.330Z"
   },
   {
    "duration": 4,
    "start_time": "2025-01-19T10:54:26.346Z"
   },
   {
    "duration": 111,
    "start_time": "2025-01-19T10:54:26.352Z"
   },
   {
    "duration": 13,
    "start_time": "2025-01-19T10:54:26.464Z"
   },
   {
    "duration": 22,
    "start_time": "2025-01-19T10:54:26.478Z"
   },
   {
    "duration": 29,
    "start_time": "2025-01-19T10:54:26.502Z"
   },
   {
    "duration": 19,
    "start_time": "2025-01-19T10:54:26.533Z"
   },
   {
    "duration": 11,
    "start_time": "2025-01-19T10:54:26.554Z"
   },
   {
    "duration": 21,
    "start_time": "2025-01-19T10:54:26.566Z"
   },
   {
    "duration": 5,
    "start_time": "2025-01-19T10:54:26.589Z"
   },
   {
    "duration": 8,
    "start_time": "2025-01-19T10:54:26.595Z"
   },
   {
    "duration": 19,
    "start_time": "2025-01-19T10:54:26.605Z"
   },
   {
    "duration": 16,
    "start_time": "2025-01-19T10:54:26.625Z"
   },
   {
    "duration": 4,
    "start_time": "2025-01-19T10:54:26.642Z"
   },
   {
    "duration": 6,
    "start_time": "2025-01-19T10:54:26.647Z"
   },
   {
    "duration": 107,
    "start_time": "2025-01-19T11:02:51.836Z"
   },
   {
    "duration": 38,
    "start_time": "2025-01-19T11:03:11.735Z"
   },
   {
    "duration": 12,
    "start_time": "2025-01-19T11:04:29.879Z"
   },
   {
    "duration": 14,
    "start_time": "2025-01-19T11:04:59.564Z"
   },
   {
    "duration": 1467,
    "start_time": "2025-01-19T11:07:54.066Z"
   },
   {
    "duration": 106,
    "start_time": "2025-01-19T11:07:55.536Z"
   },
   {
    "duration": 34,
    "start_time": "2025-01-19T11:07:55.644Z"
   },
   {
    "duration": 22,
    "start_time": "2025-01-19T11:07:55.680Z"
   },
   {
    "duration": 32,
    "start_time": "2025-01-19T11:07:55.705Z"
   },
   {
    "duration": 3,
    "start_time": "2025-01-19T11:07:55.738Z"
   },
   {
    "duration": 35,
    "start_time": "2025-01-19T11:07:55.743Z"
   },
   {
    "duration": 22,
    "start_time": "2025-01-19T11:07:55.780Z"
   },
   {
    "duration": 5,
    "start_time": "2025-01-19T11:07:55.804Z"
   },
   {
    "duration": 27,
    "start_time": "2025-01-19T11:07:55.822Z"
   },
   {
    "duration": 19,
    "start_time": "2025-01-19T11:07:55.850Z"
   },
   {
    "duration": 25,
    "start_time": "2025-01-19T11:07:55.871Z"
   },
   {
    "duration": 39,
    "start_time": "2025-01-19T11:07:55.898Z"
   },
   {
    "duration": 19,
    "start_time": "2025-01-19T11:07:55.943Z"
   },
   {
    "duration": 18,
    "start_time": "2025-01-19T11:07:55.964Z"
   },
   {
    "duration": 47,
    "start_time": "2025-01-19T11:07:55.984Z"
   },
   {
    "duration": 19,
    "start_time": "2025-01-19T11:07:56.033Z"
   },
   {
    "duration": 11,
    "start_time": "2025-01-19T11:07:56.053Z"
   },
   {
    "duration": 7,
    "start_time": "2025-01-19T11:07:56.066Z"
   },
   {
    "duration": 31,
    "start_time": "2025-01-19T11:07:56.074Z"
   },
   {
    "duration": 11,
    "start_time": "2025-01-19T11:07:56.107Z"
   },
   {
    "duration": 13,
    "start_time": "2025-01-19T11:07:56.119Z"
   },
   {
    "duration": 38,
    "start_time": "2025-01-19T11:07:56.134Z"
   },
   {
    "duration": 30,
    "start_time": "2025-01-19T11:09:19.308Z"
   },
   {
    "duration": 114,
    "start_time": "2025-01-19T11:17:33.665Z"
   },
   {
    "duration": 107,
    "start_time": "2025-01-19T11:17:40.435Z"
   },
   {
    "duration": 103,
    "start_time": "2025-01-19T11:18:15.753Z"
   },
   {
    "duration": 198,
    "start_time": "2025-01-19T11:18:46.570Z"
   },
   {
    "duration": 1642,
    "start_time": "2025-01-19T11:18:54.652Z"
   },
   {
    "duration": 96,
    "start_time": "2025-01-19T11:18:56.296Z"
   },
   {
    "duration": 26,
    "start_time": "2025-01-19T11:18:56.394Z"
   },
   {
    "duration": 22,
    "start_time": "2025-01-19T11:18:56.422Z"
   },
   {
    "duration": 16,
    "start_time": "2025-01-19T11:18:56.449Z"
   },
   {
    "duration": 85,
    "start_time": "2025-01-19T11:18:56.467Z"
   },
   {
    "duration": 18,
    "start_time": "2025-01-19T11:18:56.554Z"
   },
   {
    "duration": 22,
    "start_time": "2025-01-19T11:18:56.574Z"
   },
   {
    "duration": 5,
    "start_time": "2025-01-19T11:18:56.598Z"
   },
   {
    "duration": 30,
    "start_time": "2025-01-19T11:18:56.605Z"
   },
   {
    "duration": 14,
    "start_time": "2025-01-19T11:18:56.637Z"
   },
   {
    "duration": 26,
    "start_time": "2025-01-19T11:18:56.653Z"
   },
   {
    "duration": 60,
    "start_time": "2025-01-19T11:18:56.681Z"
   },
   {
    "duration": 16,
    "start_time": "2025-01-19T11:18:56.743Z"
   },
   {
    "duration": 17,
    "start_time": "2025-01-19T11:18:56.761Z"
   },
   {
    "duration": 46,
    "start_time": "2025-01-19T11:18:56.780Z"
   },
   {
    "duration": 40,
    "start_time": "2025-01-19T11:18:56.829Z"
   },
   {
    "duration": 10,
    "start_time": "2025-01-19T11:18:56.872Z"
   },
   {
    "duration": 8,
    "start_time": "2025-01-19T11:18:56.884Z"
   },
   {
    "duration": 21,
    "start_time": "2025-01-19T11:18:56.893Z"
   },
   {
    "duration": 4,
    "start_time": "2025-01-19T11:18:56.916Z"
   },
   {
    "duration": 13,
    "start_time": "2025-01-19T11:18:56.922Z"
   },
   {
    "duration": 21,
    "start_time": "2025-01-19T11:18:56.937Z"
   },
   {
    "duration": 190,
    "start_time": "2025-01-19T11:18:56.961Z"
   },
   {
    "duration": 169,
    "start_time": "2025-01-19T11:19:17.206Z"
   },
   {
    "duration": 85,
    "start_time": "2025-01-19T11:19:20.526Z"
   },
   {
    "duration": 105,
    "start_time": "2025-01-19T11:19:24.324Z"
   },
   {
    "duration": 101,
    "start_time": "2025-01-19T11:19:30.962Z"
   },
   {
    "duration": 180,
    "start_time": "2025-01-19T11:20:22.458Z"
   },
   {
    "duration": 5,
    "start_time": "2025-01-19T11:21:50.894Z"
   },
   {
    "duration": 26,
    "start_time": "2025-01-19T11:22:01.222Z"
   },
   {
    "duration": 1546,
    "start_time": "2025-01-19T11:22:12.189Z"
   },
   {
    "duration": 97,
    "start_time": "2025-01-19T11:22:13.737Z"
   },
   {
    "duration": 26,
    "start_time": "2025-01-19T11:22:13.835Z"
   },
   {
    "duration": 16,
    "start_time": "2025-01-19T11:22:13.863Z"
   },
   {
    "duration": 24,
    "start_time": "2025-01-19T11:22:13.882Z"
   },
   {
    "duration": 16,
    "start_time": "2025-01-19T11:22:13.908Z"
   },
   {
    "duration": 16,
    "start_time": "2025-01-19T11:22:13.926Z"
   },
   {
    "duration": 17,
    "start_time": "2025-01-19T11:22:13.944Z"
   },
   {
    "duration": 5,
    "start_time": "2025-01-19T11:22:13.962Z"
   },
   {
    "duration": 21,
    "start_time": "2025-01-19T11:22:13.968Z"
   },
   {
    "duration": 45,
    "start_time": "2025-01-19T11:22:13.991Z"
   },
   {
    "duration": 31,
    "start_time": "2025-01-19T11:22:14.038Z"
   },
   {
    "duration": 53,
    "start_time": "2025-01-19T11:22:14.071Z"
   },
   {
    "duration": 16,
    "start_time": "2025-01-19T11:22:14.128Z"
   },
   {
    "duration": 18,
    "start_time": "2025-01-19T11:22:14.147Z"
   },
   {
    "duration": 33,
    "start_time": "2025-01-19T11:22:14.166Z"
   },
   {
    "duration": 6,
    "start_time": "2025-01-19T11:22:14.201Z"
   },
   {
    "duration": 14,
    "start_time": "2025-01-19T11:22:14.221Z"
   },
   {
    "duration": 6,
    "start_time": "2025-01-19T11:22:14.236Z"
   },
   {
    "duration": 17,
    "start_time": "2025-01-19T11:22:14.244Z"
   },
   {
    "duration": 4,
    "start_time": "2025-01-19T11:22:14.263Z"
   },
   {
    "duration": 8,
    "start_time": "2025-01-19T11:22:14.268Z"
   },
   {
    "duration": 49,
    "start_time": "2025-01-19T11:22:14.277Z"
   },
   {
    "duration": 5,
    "start_time": "2025-01-19T11:22:14.328Z"
   },
   {
    "duration": 61,
    "start_time": "2025-01-19T11:22:14.334Z"
   },
   {
    "duration": 111,
    "start_time": "2025-01-19T11:45:59.455Z"
   },
   {
    "duration": 11,
    "start_time": "2025-01-19T11:46:12.679Z"
   },
   {
    "duration": 39891,
    "start_time": "2025-01-19T11:46:53.335Z"
   },
   {
    "duration": 1601,
    "start_time": "2025-01-19T11:47:33.229Z"
   },
   {
    "duration": 94,
    "start_time": "2025-01-19T11:47:34.832Z"
   },
   {
    "duration": 34,
    "start_time": "2025-01-19T11:47:34.929Z"
   },
   {
    "duration": 11,
    "start_time": "2025-01-19T11:47:34.964Z"
   },
   {
    "duration": 16,
    "start_time": "2025-01-19T11:47:34.977Z"
   },
   {
    "duration": 10,
    "start_time": "2025-01-19T11:47:34.994Z"
   },
   {
    "duration": 29,
    "start_time": "2025-01-19T11:47:35.005Z"
   },
   {
    "duration": 19,
    "start_time": "2025-01-19T11:47:35.036Z"
   },
   {
    "duration": 3,
    "start_time": "2025-01-19T11:47:35.058Z"
   },
   {
    "duration": 27,
    "start_time": "2025-01-19T11:47:35.063Z"
   },
   {
    "duration": 47,
    "start_time": "2025-01-19T11:47:35.091Z"
   },
   {
    "duration": 122,
    "start_time": "2025-01-19T11:47:35.142Z"
   },
   {
    "duration": 24,
    "start_time": "2025-01-19T11:47:35.266Z"
   },
   {
    "duration": 12,
    "start_time": "2025-01-19T11:47:35.291Z"
   },
   {
    "duration": 37,
    "start_time": "2025-01-19T11:47:35.304Z"
   },
   {
    "duration": 17,
    "start_time": "2025-01-19T11:47:35.343Z"
   },
   {
    "duration": 25,
    "start_time": "2025-01-19T11:47:35.362Z"
   },
   {
    "duration": 20,
    "start_time": "2025-01-19T11:47:35.389Z"
   },
   {
    "duration": 6,
    "start_time": "2025-01-19T11:47:35.410Z"
   },
   {
    "duration": 30,
    "start_time": "2025-01-19T11:47:35.418Z"
   },
   {
    "duration": 5,
    "start_time": "2025-01-19T11:47:35.450Z"
   },
   {
    "duration": 30,
    "start_time": "2025-01-19T11:47:35.456Z"
   },
   {
    "duration": 19,
    "start_time": "2025-01-19T11:47:35.488Z"
   },
   {
    "duration": 5,
    "start_time": "2025-01-19T11:47:35.509Z"
   },
   {
    "duration": 54,
    "start_time": "2025-01-19T11:47:35.516Z"
   },
   {
    "duration": 30527,
    "start_time": "2025-01-19T11:47:35.572Z"
   },
   {
    "duration": 18853,
    "start_time": "2025-01-19T11:49:26.600Z"
   },
   {
    "duration": 18927,
    "start_time": "2025-01-19T11:49:49.750Z"
   },
   {
    "duration": 19165,
    "start_time": "2025-01-19T11:50:39.659Z"
   },
   {
    "duration": 6,
    "start_time": "2025-01-19T11:53:02.240Z"
   },
   {
    "duration": 20125,
    "start_time": "2025-01-19T11:53:23.282Z"
   },
   {
    "duration": 5,
    "start_time": "2025-01-19T11:59:08.401Z"
   },
   {
    "duration": 5,
    "start_time": "2025-01-19T11:59:58.483Z"
   },
   {
    "duration": 30790,
    "start_time": "2025-01-19T12:01:31.263Z"
   },
   {
    "duration": 1530,
    "start_time": "2025-01-19T12:02:02.055Z"
   },
   {
    "duration": 94,
    "start_time": "2025-01-19T12:02:03.587Z"
   },
   {
    "duration": 22,
    "start_time": "2025-01-19T12:02:03.683Z"
   },
   {
    "duration": 12,
    "start_time": "2025-01-19T12:02:03.706Z"
   },
   {
    "duration": 11,
    "start_time": "2025-01-19T12:02:03.720Z"
   },
   {
    "duration": 14,
    "start_time": "2025-01-19T12:02:03.733Z"
   },
   {
    "duration": 11,
    "start_time": "2025-01-19T12:02:03.749Z"
   },
   {
    "duration": 13,
    "start_time": "2025-01-19T12:02:03.761Z"
   },
   {
    "duration": 14,
    "start_time": "2025-01-19T12:02:03.776Z"
   },
   {
    "duration": 16,
    "start_time": "2025-01-19T12:02:03.791Z"
   },
   {
    "duration": 19,
    "start_time": "2025-01-19T12:02:03.808Z"
   },
   {
    "duration": 44,
    "start_time": "2025-01-19T12:02:03.829Z"
   },
   {
    "duration": 25,
    "start_time": "2025-01-19T12:02:03.874Z"
   },
   {
    "duration": 24,
    "start_time": "2025-01-19T12:02:03.900Z"
   },
   {
    "duration": 12,
    "start_time": "2025-01-19T12:02:03.926Z"
   },
   {
    "duration": 21,
    "start_time": "2025-01-19T12:02:03.940Z"
   },
   {
    "duration": 7,
    "start_time": "2025-01-19T12:02:03.962Z"
   },
   {
    "duration": 19,
    "start_time": "2025-01-19T12:02:03.970Z"
   },
   {
    "duration": 6,
    "start_time": "2025-01-19T12:02:03.990Z"
   },
   {
    "duration": 24,
    "start_time": "2025-01-19T12:02:03.998Z"
   },
   {
    "duration": 4,
    "start_time": "2025-01-19T12:02:04.024Z"
   },
   {
    "duration": 17,
    "start_time": "2025-01-19T12:02:04.029Z"
   },
   {
    "duration": 20,
    "start_time": "2025-01-19T12:02:04.047Z"
   },
   {
    "duration": 24,
    "start_time": "2025-01-19T12:02:04.069Z"
   },
   {
    "duration": 28,
    "start_time": "2025-01-19T12:02:04.095Z"
   },
   {
    "duration": 11,
    "start_time": "2025-01-19T12:02:04.125Z"
   },
   {
    "duration": 29,
    "start_time": "2025-01-19T12:02:04.138Z"
   },
   {
    "duration": 18502,
    "start_time": "2025-01-19T12:02:04.168Z"
   },
   {
    "duration": 209,
    "start_time": "2025-01-19T12:04:40.979Z"
   },
   {
    "duration": 126,
    "start_time": "2025-01-19T12:04:57.472Z"
   },
   {
    "duration": 130,
    "start_time": "2025-01-19T12:05:30.967Z"
   },
   {
    "duration": 129,
    "start_time": "2025-01-19T12:10:50.097Z"
   },
   {
    "duration": 26,
    "start_time": "2025-01-19T12:10:58.773Z"
   },
   {
    "duration": 5,
    "start_time": "2025-01-19T12:11:06.041Z"
   },
   {
    "duration": 4,
    "start_time": "2025-01-19T12:11:14.629Z"
   },
   {
    "duration": 14,
    "start_time": "2025-01-19T12:11:30.037Z"
   },
   {
    "duration": 3306,
    "start_time": "2025-01-19T12:12:02.783Z"
   },
   {
    "duration": 3355,
    "start_time": "2025-01-19T12:12:32.431Z"
   },
   {
    "duration": 24,
    "start_time": "2025-01-19T12:22:04.898Z"
   },
   {
    "duration": 35,
    "start_time": "2025-01-19T12:31:28.718Z"
   },
   {
    "duration": 20,
    "start_time": "2025-01-19T12:32:38.463Z"
   },
   {
    "duration": 1554,
    "start_time": "2025-01-19T12:32:44.411Z"
   },
   {
    "duration": 1291,
    "start_time": "2025-01-19T12:32:50.094Z"
   },
   {
    "duration": 1403,
    "start_time": "2025-01-19T12:33:02.252Z"
   },
   {
    "duration": 14,
    "start_time": "2025-01-19T12:33:49.968Z"
   },
   {
    "duration": 16,
    "start_time": "2025-01-19T12:34:06.510Z"
   },
   {
    "duration": 14,
    "start_time": "2025-01-19T12:34:12.801Z"
   },
   {
    "duration": 31033,
    "start_time": "2025-01-19T12:34:22.398Z"
   },
   {
    "duration": 1465,
    "start_time": "2025-01-19T12:34:53.433Z"
   },
   {
    "duration": 94,
    "start_time": "2025-01-19T12:34:54.899Z"
   },
   {
    "duration": 21,
    "start_time": "2025-01-19T12:34:54.995Z"
   },
   {
    "duration": 19,
    "start_time": "2025-01-19T12:34:55.018Z"
   },
   {
    "duration": 32,
    "start_time": "2025-01-19T12:34:55.038Z"
   },
   {
    "duration": 5,
    "start_time": "2025-01-19T12:34:55.071Z"
   },
   {
    "duration": 15,
    "start_time": "2025-01-19T12:34:55.078Z"
   },
   {
    "duration": 32,
    "start_time": "2025-01-19T12:34:55.094Z"
   },
   {
    "duration": 4,
    "start_time": "2025-01-19T12:34:55.129Z"
   },
   {
    "duration": 26,
    "start_time": "2025-01-19T12:34:55.134Z"
   },
   {
    "duration": 21,
    "start_time": "2025-01-19T12:34:55.161Z"
   },
   {
    "duration": 49,
    "start_time": "2025-01-19T12:34:55.183Z"
   },
   {
    "duration": 24,
    "start_time": "2025-01-19T12:34:55.234Z"
   },
   {
    "duration": 11,
    "start_time": "2025-01-19T12:34:55.260Z"
   },
   {
    "duration": 11,
    "start_time": "2025-01-19T12:34:55.273Z"
   },
   {
    "duration": 116,
    "start_time": "2025-01-19T12:34:55.286Z"
   },
   {
    "duration": 9,
    "start_time": "2025-01-19T12:34:55.404Z"
   },
   {
    "duration": 6,
    "start_time": "2025-01-19T12:34:55.414Z"
   },
   {
    "duration": 5,
    "start_time": "2025-01-19T12:34:55.422Z"
   },
   {
    "duration": 16,
    "start_time": "2025-01-19T12:34:55.428Z"
   },
   {
    "duration": 7,
    "start_time": "2025-01-19T12:34:55.445Z"
   },
   {
    "duration": 4,
    "start_time": "2025-01-19T12:34:55.453Z"
   },
   {
    "duration": 18,
    "start_time": "2025-01-19T12:34:55.459Z"
   },
   {
    "duration": 4,
    "start_time": "2025-01-19T12:34:55.479Z"
   },
   {
    "duration": 39,
    "start_time": "2025-01-19T12:34:55.484Z"
   },
   {
    "duration": 5,
    "start_time": "2025-01-19T12:34:55.524Z"
   },
   {
    "duration": 5,
    "start_time": "2025-01-19T12:34:55.532Z"
   },
   {
    "duration": 158,
    "start_time": "2025-01-19T12:34:55.538Z"
   },
   {
    "duration": 5,
    "start_time": "2025-01-19T12:34:55.698Z"
   },
   {
    "duration": 3407,
    "start_time": "2025-01-19T12:34:55.704Z"
   },
   {
    "duration": 18261,
    "start_time": "2025-01-19T12:34:59.113Z"
   },
   {
    "duration": 25,
    "start_time": "2025-01-19T12:35:17.376Z"
   },
   {
    "duration": 4,
    "start_time": "2025-01-19T12:37:43.584Z"
   },
   {
    "duration": 4,
    "start_time": "2025-01-19T12:38:04.738Z"
   },
   {
    "duration": 5,
    "start_time": "2025-01-19T12:39:30.609Z"
   },
   {
    "duration": 6,
    "start_time": "2025-01-19T12:39:56.570Z"
   },
   {
    "duration": 22,
    "start_time": "2025-01-19T12:40:10.613Z"
   },
   {
    "duration": 5,
    "start_time": "2025-01-19T12:40:43.898Z"
   },
   {
    "duration": 15,
    "start_time": "2025-01-19T12:40:44.357Z"
   },
   {
    "duration": 31591,
    "start_time": "2025-01-19T12:40:52.709Z"
   },
   {
    "duration": 1540,
    "start_time": "2025-01-19T12:41:24.302Z"
   },
   {
    "duration": 91,
    "start_time": "2025-01-19T12:41:25.843Z"
   },
   {
    "duration": 20,
    "start_time": "2025-01-19T12:41:25.936Z"
   },
   {
    "duration": 11,
    "start_time": "2025-01-19T12:41:25.958Z"
   },
   {
    "duration": 28,
    "start_time": "2025-01-19T12:41:25.971Z"
   },
   {
    "duration": 17,
    "start_time": "2025-01-19T12:41:26.001Z"
   },
   {
    "duration": 17,
    "start_time": "2025-01-19T12:41:26.020Z"
   },
   {
    "duration": 14,
    "start_time": "2025-01-19T12:41:26.039Z"
   },
   {
    "duration": 4,
    "start_time": "2025-01-19T12:41:26.055Z"
   },
   {
    "duration": 16,
    "start_time": "2025-01-19T12:41:26.061Z"
   },
   {
    "duration": 12,
    "start_time": "2025-01-19T12:41:26.078Z"
   },
   {
    "duration": 57,
    "start_time": "2025-01-19T12:41:26.092Z"
   },
   {
    "duration": 26,
    "start_time": "2025-01-19T12:41:26.150Z"
   },
   {
    "duration": 13,
    "start_time": "2025-01-19T12:41:26.178Z"
   },
   {
    "duration": 37,
    "start_time": "2025-01-19T12:41:26.193Z"
   },
   {
    "duration": 13,
    "start_time": "2025-01-19T12:41:26.231Z"
   },
   {
    "duration": 7,
    "start_time": "2025-01-19T12:41:26.246Z"
   },
   {
    "duration": 6,
    "start_time": "2025-01-19T12:41:26.255Z"
   },
   {
    "duration": 7,
    "start_time": "2025-01-19T12:41:26.263Z"
   },
   {
    "duration": 20,
    "start_time": "2025-01-19T12:41:26.271Z"
   },
   {
    "duration": 32,
    "start_time": "2025-01-19T12:41:26.293Z"
   },
   {
    "duration": 5,
    "start_time": "2025-01-19T12:41:26.327Z"
   },
   {
    "duration": 14,
    "start_time": "2025-01-19T12:41:26.334Z"
   },
   {
    "duration": 5,
    "start_time": "2025-01-19T12:41:26.350Z"
   },
   {
    "duration": 19,
    "start_time": "2025-01-19T12:41:26.357Z"
   },
   {
    "duration": 44,
    "start_time": "2025-01-19T12:41:26.378Z"
   },
   {
    "duration": 5,
    "start_time": "2025-01-19T12:41:26.426Z"
   },
   {
    "duration": 155,
    "start_time": "2025-01-19T12:41:26.433Z"
   },
   {
    "duration": 6,
    "start_time": "2025-01-19T12:41:26.590Z"
   },
   {
    "duration": 3430,
    "start_time": "2025-01-19T12:41:26.597Z"
   },
   {
    "duration": 6,
    "start_time": "2025-01-19T12:41:30.029Z"
   },
   {
    "duration": 164,
    "start_time": "2025-01-19T12:41:30.037Z"
   },
   {
    "duration": 0,
    "start_time": "2025-01-19T12:41:30.202Z"
   },
   {
    "duration": 0,
    "start_time": "2025-01-19T12:41:30.204Z"
   },
   {
    "duration": 1,
    "start_time": "2025-01-19T12:41:30.205Z"
   },
   {
    "duration": 0,
    "start_time": "2025-01-19T12:41:30.207Z"
   },
   {
    "duration": 6,
    "start_time": "2025-01-19T12:41:45.963Z"
   },
   {
    "duration": 14,
    "start_time": "2025-01-19T12:41:46.450Z"
   },
   {
    "duration": 6,
    "start_time": "2025-01-19T12:42:01.115Z"
   },
   {
    "duration": 15,
    "start_time": "2025-01-19T12:42:01.576Z"
   },
   {
    "duration": 31222,
    "start_time": "2025-01-19T12:42:07.257Z"
   },
   {
    "duration": 1377,
    "start_time": "2025-01-19T12:42:38.482Z"
   },
   {
    "duration": 92,
    "start_time": "2025-01-19T12:42:39.861Z"
   },
   {
    "duration": 20,
    "start_time": "2025-01-19T12:42:39.955Z"
   },
   {
    "duration": 11,
    "start_time": "2025-01-19T12:42:39.977Z"
   },
   {
    "duration": 11,
    "start_time": "2025-01-19T12:42:39.989Z"
   },
   {
    "duration": 25,
    "start_time": "2025-01-19T12:42:40.002Z"
   },
   {
    "duration": 25,
    "start_time": "2025-01-19T12:42:40.030Z"
   },
   {
    "duration": 13,
    "start_time": "2025-01-19T12:42:40.057Z"
   },
   {
    "duration": 6,
    "start_time": "2025-01-19T12:42:40.072Z"
   },
   {
    "duration": 26,
    "start_time": "2025-01-19T12:42:40.079Z"
   },
   {
    "duration": 16,
    "start_time": "2025-01-19T12:42:40.106Z"
   },
   {
    "duration": 36,
    "start_time": "2025-01-19T12:42:40.123Z"
   },
   {
    "duration": 24,
    "start_time": "2025-01-19T12:42:40.162Z"
   },
   {
    "duration": 10,
    "start_time": "2025-01-19T12:42:40.188Z"
   },
   {
    "duration": 12,
    "start_time": "2025-01-19T12:42:40.222Z"
   },
   {
    "duration": 14,
    "start_time": "2025-01-19T12:42:40.235Z"
   },
   {
    "duration": 6,
    "start_time": "2025-01-19T12:42:40.251Z"
   },
   {
    "duration": 5,
    "start_time": "2025-01-19T12:42:40.258Z"
   },
   {
    "duration": 12,
    "start_time": "2025-01-19T12:42:40.264Z"
   },
   {
    "duration": 16,
    "start_time": "2025-01-19T12:42:40.277Z"
   },
   {
    "duration": 28,
    "start_time": "2025-01-19T12:42:40.295Z"
   },
   {
    "duration": 4,
    "start_time": "2025-01-19T12:42:40.325Z"
   },
   {
    "duration": 14,
    "start_time": "2025-01-19T12:42:40.330Z"
   },
   {
    "duration": 5,
    "start_time": "2025-01-19T12:42:40.345Z"
   },
   {
    "duration": 20,
    "start_time": "2025-01-19T12:42:40.351Z"
   },
   {
    "duration": 15,
    "start_time": "2025-01-19T12:42:40.373Z"
   },
   {
    "duration": 8,
    "start_time": "2025-01-19T12:42:40.389Z"
   },
   {
    "duration": 164,
    "start_time": "2025-01-19T12:42:40.399Z"
   },
   {
    "duration": 4,
    "start_time": "2025-01-19T12:42:40.565Z"
   },
   {
    "duration": 3415,
    "start_time": "2025-01-19T12:42:40.571Z"
   },
   {
    "duration": 6,
    "start_time": "2025-01-19T12:42:43.988Z"
   },
   {
    "duration": 9,
    "start_time": "2025-01-19T12:42:43.995Z"
   },
   {
    "duration": 24,
    "start_time": "2025-01-19T12:42:44.005Z"
   },
   {
    "duration": 6783,
    "start_time": "2025-01-19T12:42:44.031Z"
   },
   {
    "duration": 17,
    "start_time": "2025-01-19T12:42:50.816Z"
   },
   {
    "duration": 6,
    "start_time": "2025-01-19T12:45:02.079Z"
   },
   {
    "duration": 6,
    "start_time": "2025-01-19T12:45:02.769Z"
   },
   {
    "duration": 20,
    "start_time": "2025-01-19T12:45:03.215Z"
   },
   {
    "duration": 1624,
    "start_time": "2025-01-19T12:45:32.867Z"
   },
   {
    "duration": 21,
    "start_time": "2025-01-19T12:46:19.413Z"
   },
   {
    "duration": 16,
    "start_time": "2025-01-19T12:46:21.176Z"
   },
   {
    "duration": 16,
    "start_time": "2025-01-19T12:46:21.358Z"
   },
   {
    "duration": 33165,
    "start_time": "2025-01-19T12:46:29.013Z"
   },
   {
    "duration": 1587,
    "start_time": "2025-01-19T12:47:02.181Z"
   },
   {
    "duration": 100,
    "start_time": "2025-01-19T12:47:03.769Z"
   },
   {
    "duration": 21,
    "start_time": "2025-01-19T12:47:03.871Z"
   },
   {
    "duration": 22,
    "start_time": "2025-01-19T12:47:03.894Z"
   },
   {
    "duration": 25,
    "start_time": "2025-01-19T12:47:03.918Z"
   },
   {
    "duration": 19,
    "start_time": "2025-01-19T12:47:03.945Z"
   },
   {
    "duration": 42,
    "start_time": "2025-01-19T12:47:03.965Z"
   },
   {
    "duration": 39,
    "start_time": "2025-01-19T12:47:04.009Z"
   },
   {
    "duration": 11,
    "start_time": "2025-01-19T12:47:04.052Z"
   },
   {
    "duration": 42,
    "start_time": "2025-01-19T12:47:04.064Z"
   },
   {
    "duration": 22,
    "start_time": "2025-01-19T12:47:04.109Z"
   },
   {
    "duration": 53,
    "start_time": "2025-01-19T12:47:04.133Z"
   },
   {
    "duration": 36,
    "start_time": "2025-01-19T12:47:04.187Z"
   },
   {
    "duration": 20,
    "start_time": "2025-01-19T12:47:04.225Z"
   },
   {
    "duration": 31,
    "start_time": "2025-01-19T12:47:04.247Z"
   },
   {
    "duration": 43,
    "start_time": "2025-01-19T12:47:04.280Z"
   },
   {
    "duration": 22,
    "start_time": "2025-01-19T12:47:04.325Z"
   },
   {
    "duration": 29,
    "start_time": "2025-01-19T12:47:04.348Z"
   },
   {
    "duration": 20,
    "start_time": "2025-01-19T12:47:04.378Z"
   },
   {
    "duration": 42,
    "start_time": "2025-01-19T12:47:04.400Z"
   },
   {
    "duration": 27,
    "start_time": "2025-01-19T12:47:04.444Z"
   },
   {
    "duration": 50,
    "start_time": "2025-01-19T12:47:04.472Z"
   },
   {
    "duration": 56,
    "start_time": "2025-01-19T12:47:04.524Z"
   },
   {
    "duration": 21,
    "start_time": "2025-01-19T12:47:04.582Z"
   },
   {
    "duration": 43,
    "start_time": "2025-01-19T12:47:04.604Z"
   },
   {
    "duration": 25,
    "start_time": "2025-01-19T12:47:04.648Z"
   },
   {
    "duration": 22,
    "start_time": "2025-01-19T12:47:04.675Z"
   },
   {
    "duration": 175,
    "start_time": "2025-01-19T12:47:04.698Z"
   },
   {
    "duration": 5,
    "start_time": "2025-01-19T12:47:04.874Z"
   },
   {
    "duration": 3662,
    "start_time": "2025-01-19T12:47:04.881Z"
   },
   {
    "duration": 5,
    "start_time": "2025-01-19T12:47:08.545Z"
   },
   {
    "duration": 33,
    "start_time": "2025-01-19T12:47:08.551Z"
   },
   {
    "duration": 7232,
    "start_time": "2025-01-19T12:47:08.586Z"
   },
   {
    "duration": 30,
    "start_time": "2025-01-19T12:47:15.820Z"
   },
   {
    "duration": 128,
    "start_time": "2025-01-19T12:47:29.438Z"
   },
   {
    "duration": 14,
    "start_time": "2025-01-19T12:47:29.854Z"
   },
   {
    "duration": 32716,
    "start_time": "2025-01-19T12:47:38.699Z"
   },
   {
    "duration": 1572,
    "start_time": "2025-01-19T12:48:11.417Z"
   },
   {
    "duration": 100,
    "start_time": "2025-01-19T12:48:12.991Z"
   },
   {
    "duration": 20,
    "start_time": "2025-01-19T12:48:13.093Z"
   },
   {
    "duration": 14,
    "start_time": "2025-01-19T12:48:13.115Z"
   },
   {
    "duration": 14,
    "start_time": "2025-01-19T12:48:13.131Z"
   },
   {
    "duration": 4,
    "start_time": "2025-01-19T12:48:13.146Z"
   },
   {
    "duration": 14,
    "start_time": "2025-01-19T12:48:13.151Z"
   },
   {
    "duration": 13,
    "start_time": "2025-01-19T12:48:13.166Z"
   },
   {
    "duration": 18,
    "start_time": "2025-01-19T12:48:13.181Z"
   },
   {
    "duration": 36,
    "start_time": "2025-01-19T12:48:13.200Z"
   },
   {
    "duration": 10,
    "start_time": "2025-01-19T12:48:13.238Z"
   },
   {
    "duration": 52,
    "start_time": "2025-01-19T12:48:13.250Z"
   },
   {
    "duration": 39,
    "start_time": "2025-01-19T12:48:13.304Z"
   },
   {
    "duration": 57,
    "start_time": "2025-01-19T12:48:13.345Z"
   },
   {
    "duration": 11,
    "start_time": "2025-01-19T12:48:13.404Z"
   },
   {
    "duration": 16,
    "start_time": "2025-01-19T12:48:13.417Z"
   },
   {
    "duration": 7,
    "start_time": "2025-01-19T12:48:13.436Z"
   },
   {
    "duration": 16,
    "start_time": "2025-01-19T12:48:13.444Z"
   },
   {
    "duration": 11,
    "start_time": "2025-01-19T12:48:13.461Z"
   },
   {
    "duration": 19,
    "start_time": "2025-01-19T12:48:13.473Z"
   },
   {
    "duration": 5,
    "start_time": "2025-01-19T12:48:13.494Z"
   },
   {
    "duration": 4,
    "start_time": "2025-01-19T12:48:13.500Z"
   },
   {
    "duration": 26,
    "start_time": "2025-01-19T12:48:13.522Z"
   },
   {
    "duration": 14,
    "start_time": "2025-01-19T12:48:13.550Z"
   },
   {
    "duration": 19,
    "start_time": "2025-01-19T12:48:13.565Z"
   },
   {
    "duration": 6,
    "start_time": "2025-01-19T12:48:13.586Z"
   },
   {
    "duration": 5,
    "start_time": "2025-01-19T12:48:13.595Z"
   },
   {
    "duration": 169,
    "start_time": "2025-01-19T12:48:13.622Z"
   },
   {
    "duration": 6,
    "start_time": "2025-01-19T12:48:13.793Z"
   },
   {
    "duration": 3618,
    "start_time": "2025-01-19T12:48:13.801Z"
   },
   {
    "duration": 7,
    "start_time": "2025-01-19T12:48:17.422Z"
   },
   {
    "duration": 18,
    "start_time": "2025-01-19T12:48:17.431Z"
   },
   {
    "duration": 4173,
    "start_time": "2025-01-19T12:48:17.450Z"
   },
   {
    "duration": 22,
    "start_time": "2025-01-19T12:48:21.625Z"
   },
   {
    "duration": 31234,
    "start_time": "2025-01-19T13:00:47.320Z"
   },
   {
    "duration": 1425,
    "start_time": "2025-01-19T13:01:18.556Z"
   },
   {
    "duration": 93,
    "start_time": "2025-01-19T13:01:19.982Z"
   },
   {
    "duration": 22,
    "start_time": "2025-01-19T13:01:20.077Z"
   },
   {
    "duration": 13,
    "start_time": "2025-01-19T13:01:20.101Z"
   },
   {
    "duration": 35,
    "start_time": "2025-01-19T13:01:20.116Z"
   },
   {
    "duration": 22,
    "start_time": "2025-01-19T13:01:20.153Z"
   },
   {
    "duration": 18,
    "start_time": "2025-01-19T13:01:20.177Z"
   },
   {
    "duration": 21,
    "start_time": "2025-01-19T13:01:20.197Z"
   },
   {
    "duration": 13,
    "start_time": "2025-01-19T13:01:20.219Z"
   },
   {
    "duration": 43,
    "start_time": "2025-01-19T13:01:20.233Z"
   },
   {
    "duration": 11,
    "start_time": "2025-01-19T13:01:20.278Z"
   },
   {
    "duration": 52,
    "start_time": "2025-01-19T13:01:20.290Z"
   },
   {
    "duration": 26,
    "start_time": "2025-01-19T13:01:20.345Z"
   },
   {
    "duration": 39,
    "start_time": "2025-01-19T13:01:20.372Z"
   },
   {
    "duration": 30,
    "start_time": "2025-01-19T13:01:20.413Z"
   },
   {
    "duration": 20,
    "start_time": "2025-01-19T13:01:20.445Z"
   },
   {
    "duration": 11,
    "start_time": "2025-01-19T13:01:20.466Z"
   },
   {
    "duration": 15,
    "start_time": "2025-01-19T13:01:20.478Z"
   },
   {
    "duration": 6,
    "start_time": "2025-01-19T13:01:20.494Z"
   },
   {
    "duration": 13,
    "start_time": "2025-01-19T13:01:20.502Z"
   },
   {
    "duration": 13,
    "start_time": "2025-01-19T13:01:20.517Z"
   },
   {
    "duration": 31,
    "start_time": "2025-01-19T13:01:20.532Z"
   },
   {
    "duration": 43,
    "start_time": "2025-01-19T13:01:20.565Z"
   },
   {
    "duration": 17,
    "start_time": "2025-01-19T13:01:20.610Z"
   },
   {
    "duration": 23,
    "start_time": "2025-01-19T13:01:20.629Z"
   },
   {
    "duration": 12,
    "start_time": "2025-01-19T13:01:20.654Z"
   },
   {
    "duration": 25,
    "start_time": "2025-01-19T13:01:20.668Z"
   },
   {
    "duration": 149,
    "start_time": "2025-01-19T13:01:20.694Z"
   },
   {
    "duration": 5,
    "start_time": "2025-01-19T13:01:20.844Z"
   },
   {
    "duration": 3502,
    "start_time": "2025-01-19T13:01:20.851Z"
   },
   {
    "duration": 4,
    "start_time": "2025-01-19T13:01:24.354Z"
   },
   {
    "duration": 16,
    "start_time": "2025-01-19T13:01:24.360Z"
   },
   {
    "duration": 3976,
    "start_time": "2025-01-19T13:01:24.378Z"
   },
   {
    "duration": 129,
    "start_time": "2025-01-19T13:03:40.780Z"
   },
   {
    "duration": 6,
    "start_time": "2025-01-19T13:03:44.626Z"
   },
   {
    "duration": 7,
    "start_time": "2025-01-19T13:04:17.193Z"
   },
   {
    "duration": 3,
    "start_time": "2025-01-19T13:05:14.482Z"
   },
   {
    "duration": 5,
    "start_time": "2025-01-19T13:05:38.628Z"
   },
   {
    "duration": 16,
    "start_time": "2025-01-19T13:08:32.268Z"
   },
   {
    "duration": 15,
    "start_time": "2025-01-19T13:08:40.196Z"
   },
   {
    "duration": 3,
    "start_time": "2025-01-19T13:11:26.078Z"
   },
   {
    "duration": 13,
    "start_time": "2025-01-19T13:12:40.507Z"
   },
   {
    "duration": 3,
    "start_time": "2025-01-19T13:12:54.649Z"
   },
   {
    "duration": 35,
    "start_time": "2025-01-19T13:12:55.151Z"
   },
   {
    "duration": 51,
    "start_time": "2025-01-19T13:13:04.558Z"
   },
   {
    "duration": 15,
    "start_time": "2025-01-19T13:13:47.606Z"
   },
   {
    "duration": 32,
    "start_time": "2025-01-19T13:13:55.032Z"
   },
   {
    "duration": 95,
    "start_time": "2025-01-19T13:13:57.511Z"
   },
   {
    "duration": 25,
    "start_time": "2025-01-19T13:14:00.962Z"
   },
   {
    "duration": 10,
    "start_time": "2025-01-19T13:14:08.982Z"
   },
   {
    "duration": 11,
    "start_time": "2025-01-19T13:14:41.541Z"
   },
   {
    "duration": 88,
    "start_time": "2025-01-19T13:18:35.294Z"
   },
   {
    "duration": 99,
    "start_time": "2025-01-19T13:18:45.213Z"
   },
   {
    "duration": 4,
    "start_time": "2025-01-19T13:19:02.416Z"
   },
   {
    "duration": 95,
    "start_time": "2025-01-19T13:19:02.958Z"
   },
   {
    "duration": 10,
    "start_time": "2025-01-19T13:19:34.762Z"
   },
   {
    "duration": 24,
    "start_time": "2025-01-19T13:19:52.584Z"
   },
   {
    "duration": 15,
    "start_time": "2025-01-19T13:19:53.254Z"
   },
   {
    "duration": 13,
    "start_time": "2025-01-19T13:22:09.824Z"
   },
   {
    "duration": 11,
    "start_time": "2025-01-19T13:22:16.269Z"
   },
   {
    "duration": 3,
    "start_time": "2025-01-19T13:22:43.900Z"
   },
   {
    "duration": 12,
    "start_time": "2025-01-19T13:22:44.761Z"
   },
   {
    "duration": 21,
    "start_time": "2025-01-19T13:23:57.622Z"
   },
   {
    "duration": 22,
    "start_time": "2025-01-19T13:24:02.436Z"
   },
   {
    "duration": 11,
    "start_time": "2025-01-19T13:24:05.455Z"
   },
   {
    "duration": 564,
    "start_time": "2025-01-19T13:24:16.803Z"
   },
   {
    "duration": 15,
    "start_time": "2025-01-19T13:29:00.983Z"
   },
   {
    "duration": 13,
    "start_time": "2025-01-19T13:30:48.052Z"
   },
   {
    "duration": 47,
    "start_time": "2025-01-19T13:33:25.347Z"
   },
   {
    "duration": 12,
    "start_time": "2025-01-19T13:33:33.674Z"
   },
   {
    "duration": 12,
    "start_time": "2025-01-19T13:33:39.561Z"
   },
   {
    "duration": 516,
    "start_time": "2025-01-19T13:34:11.040Z"
   },
   {
    "duration": 47,
    "start_time": "2025-01-19T13:35:56.213Z"
   },
   {
    "duration": 44,
    "start_time": "2025-01-19T13:36:14.757Z"
   },
   {
    "duration": 29,
    "start_time": "2025-01-19T13:36:23.447Z"
   },
   {
    "duration": 19,
    "start_time": "2025-01-19T13:36:26.258Z"
   },
   {
    "duration": 10,
    "start_time": "2025-01-19T13:36:41.067Z"
   },
   {
    "duration": 541,
    "start_time": "2025-01-19T13:36:47.213Z"
   },
   {
    "duration": 3,
    "start_time": "2025-01-19T13:38:28.173Z"
   },
   {
    "duration": 19,
    "start_time": "2025-01-19T13:38:41.017Z"
   },
   {
    "duration": 14,
    "start_time": "2025-01-19T13:39:09.488Z"
   },
   {
    "duration": 12,
    "start_time": "2025-01-19T13:43:08.251Z"
   },
   {
    "duration": 63,
    "start_time": "2025-01-19T13:44:02.374Z"
   },
   {
    "duration": 3,
    "start_time": "2025-01-19T13:44:26.455Z"
   },
   {
    "duration": 3,
    "start_time": "2025-01-19T13:44:27.155Z"
   },
   {
    "duration": 65,
    "start_time": "2025-01-19T13:44:27.571Z"
   },
   {
    "duration": 11,
    "start_time": "2025-01-19T13:44:40.465Z"
   },
   {
    "duration": 31516,
    "start_time": "2025-01-19T13:57:28.823Z"
   },
   {
    "duration": 1514,
    "start_time": "2025-01-19T13:58:00.341Z"
   },
   {
    "duration": 95,
    "start_time": "2025-01-19T13:58:01.857Z"
   },
   {
    "duration": 22,
    "start_time": "2025-01-19T13:58:01.954Z"
   },
   {
    "duration": 19,
    "start_time": "2025-01-19T13:58:01.977Z"
   },
   {
    "duration": 12,
    "start_time": "2025-01-19T13:58:01.998Z"
   },
   {
    "duration": 10,
    "start_time": "2025-01-19T13:58:02.013Z"
   },
   {
    "duration": 30,
    "start_time": "2025-01-19T13:58:02.025Z"
   },
   {
    "duration": 14,
    "start_time": "2025-01-19T13:58:02.057Z"
   },
   {
    "duration": 25,
    "start_time": "2025-01-19T13:58:02.074Z"
   },
   {
    "duration": 26,
    "start_time": "2025-01-19T13:58:02.101Z"
   },
   {
    "duration": 13,
    "start_time": "2025-01-19T13:58:02.129Z"
   },
   {
    "duration": 45,
    "start_time": "2025-01-19T13:58:02.143Z"
   },
   {
    "duration": 41,
    "start_time": "2025-01-19T13:58:02.190Z"
   },
   {
    "duration": 12,
    "start_time": "2025-01-19T13:58:02.232Z"
   },
   {
    "duration": 18,
    "start_time": "2025-01-19T13:58:02.246Z"
   },
   {
    "duration": 49,
    "start_time": "2025-01-19T13:58:02.266Z"
   },
   {
    "duration": 44,
    "start_time": "2025-01-19T13:58:02.317Z"
   },
   {
    "duration": 34,
    "start_time": "2025-01-19T13:58:02.363Z"
   },
   {
    "duration": 49,
    "start_time": "2025-01-19T13:58:02.398Z"
   },
   {
    "duration": 46,
    "start_time": "2025-01-19T13:58:02.449Z"
   },
   {
    "duration": 7,
    "start_time": "2025-01-19T13:58:02.497Z"
   },
   {
    "duration": 43,
    "start_time": "2025-01-19T13:58:02.506Z"
   },
   {
    "duration": 56,
    "start_time": "2025-01-19T13:58:02.551Z"
   },
   {
    "duration": 8,
    "start_time": "2025-01-19T13:58:02.608Z"
   },
   {
    "duration": 32,
    "start_time": "2025-01-19T13:58:02.618Z"
   },
   {
    "duration": 34,
    "start_time": "2025-01-19T13:58:02.652Z"
   },
   {
    "duration": 5,
    "start_time": "2025-01-19T13:58:02.690Z"
   },
   {
    "duration": 187,
    "start_time": "2025-01-19T13:58:02.696Z"
   },
   {
    "duration": 5,
    "start_time": "2025-01-19T13:58:02.885Z"
   },
   {
    "duration": 3509,
    "start_time": "2025-01-19T13:58:02.891Z"
   },
   {
    "duration": 6,
    "start_time": "2025-01-19T13:58:06.401Z"
   },
   {
    "duration": 58,
    "start_time": "2025-01-19T13:58:06.409Z"
   },
   {
    "duration": 4013,
    "start_time": "2025-01-19T13:58:06.469Z"
   },
   {
    "duration": 6,
    "start_time": "2025-01-19T13:58:10.484Z"
   },
   {
    "duration": 14,
    "start_time": "2025-01-19T13:58:10.491Z"
   },
   {
    "duration": 26,
    "start_time": "2025-01-19T13:58:10.506Z"
   },
   {
    "duration": 3,
    "start_time": "2025-01-19T13:58:10.534Z"
   },
   {
    "duration": 9,
    "start_time": "2025-01-19T13:58:10.538Z"
   },
   {
    "duration": 118,
    "start_time": "2025-01-19T13:58:10.549Z"
   },
   {
    "duration": 0,
    "start_time": "2025-01-19T13:58:10.669Z"
   },
   {
    "duration": 0,
    "start_time": "2025-01-19T13:58:10.670Z"
   },
   {
    "duration": 1,
    "start_time": "2025-01-19T13:58:10.671Z"
   },
   {
    "duration": 0,
    "start_time": "2025-01-19T13:58:10.673Z"
   },
   {
    "duration": 0,
    "start_time": "2025-01-19T13:58:10.674Z"
   },
   {
    "duration": 0,
    "start_time": "2025-01-19T13:58:10.675Z"
   },
   {
    "duration": 3,
    "start_time": "2025-01-19T13:59:28.140Z"
   },
   {
    "duration": 57,
    "start_time": "2025-01-19T13:59:28.570Z"
   },
   {
    "duration": 10,
    "start_time": "2025-01-19T13:59:29.544Z"
   },
   {
    "duration": 41,
    "start_time": "2025-01-19T13:59:51.860Z"
   },
   {
    "duration": 16,
    "start_time": "2025-01-19T14:00:31.591Z"
   },
   {
    "duration": 3,
    "start_time": "2025-01-19T14:00:47.521Z"
   },
   {
    "duration": 12,
    "start_time": "2025-01-19T14:00:48.324Z"
   },
   {
    "duration": 2,
    "start_time": "2025-01-19T14:01:06.185Z"
   },
   {
    "duration": 31574,
    "start_time": "2025-01-19T14:01:12.610Z"
   },
   {
    "duration": 1481,
    "start_time": "2025-01-19T14:01:44.186Z"
   },
   {
    "duration": 93,
    "start_time": "2025-01-19T14:01:45.668Z"
   },
   {
    "duration": 21,
    "start_time": "2025-01-19T14:01:45.764Z"
   },
   {
    "duration": 15,
    "start_time": "2025-01-19T14:01:45.787Z"
   },
   {
    "duration": 12,
    "start_time": "2025-01-19T14:01:45.804Z"
   },
   {
    "duration": 4,
    "start_time": "2025-01-19T14:01:45.818Z"
   },
   {
    "duration": 12,
    "start_time": "2025-01-19T14:01:45.823Z"
   },
   {
    "duration": 12,
    "start_time": "2025-01-19T14:01:45.837Z"
   },
   {
    "duration": 5,
    "start_time": "2025-01-19T14:01:45.852Z"
   },
   {
    "duration": 15,
    "start_time": "2025-01-19T14:01:45.859Z"
   },
   {
    "duration": 12,
    "start_time": "2025-01-19T14:01:45.876Z"
   },
   {
    "duration": 63,
    "start_time": "2025-01-19T14:01:45.889Z"
   },
   {
    "duration": 26,
    "start_time": "2025-01-19T14:01:45.953Z"
   },
   {
    "duration": 12,
    "start_time": "2025-01-19T14:01:45.981Z"
   },
   {
    "duration": 41,
    "start_time": "2025-01-19T14:01:45.994Z"
   },
   {
    "duration": 13,
    "start_time": "2025-01-19T14:01:46.037Z"
   },
   {
    "duration": 7,
    "start_time": "2025-01-19T14:01:46.052Z"
   },
   {
    "duration": 6,
    "start_time": "2025-01-19T14:01:46.060Z"
   },
   {
    "duration": 7,
    "start_time": "2025-01-19T14:01:46.068Z"
   },
   {
    "duration": 17,
    "start_time": "2025-01-19T14:01:46.077Z"
   },
   {
    "duration": 4,
    "start_time": "2025-01-19T14:01:46.122Z"
   },
   {
    "duration": 5,
    "start_time": "2025-01-19T14:01:46.128Z"
   },
   {
    "duration": 28,
    "start_time": "2025-01-19T14:01:46.134Z"
   },
   {
    "duration": 4,
    "start_time": "2025-01-19T14:01:46.164Z"
   },
   {
    "duration": 20,
    "start_time": "2025-01-19T14:01:46.170Z"
   },
   {
    "duration": 16,
    "start_time": "2025-01-19T14:01:46.192Z"
   },
   {
    "duration": 5,
    "start_time": "2025-01-19T14:01:46.221Z"
   },
   {
    "duration": 165,
    "start_time": "2025-01-19T14:01:46.227Z"
   },
   {
    "duration": 4,
    "start_time": "2025-01-19T14:01:46.394Z"
   },
   {
    "duration": 3758,
    "start_time": "2025-01-19T14:01:46.400Z"
   },
   {
    "duration": 4,
    "start_time": "2025-01-19T14:01:50.160Z"
   },
   {
    "duration": 29,
    "start_time": "2025-01-19T14:01:50.166Z"
   },
   {
    "duration": 4137,
    "start_time": "2025-01-19T14:01:50.197Z"
   },
   {
    "duration": 5,
    "start_time": "2025-01-19T14:01:54.336Z"
   },
   {
    "duration": 17,
    "start_time": "2025-01-19T14:01:54.342Z"
   },
   {
    "duration": 21,
    "start_time": "2025-01-19T14:01:54.361Z"
   },
   {
    "duration": 3,
    "start_time": "2025-01-19T14:01:54.384Z"
   },
   {
    "duration": 4,
    "start_time": "2025-01-19T14:01:54.389Z"
   },
   {
    "duration": 4,
    "start_time": "2025-01-19T14:01:54.394Z"
   },
   {
    "duration": 69,
    "start_time": "2025-01-19T14:01:54.399Z"
   },
   {
    "duration": 23,
    "start_time": "2025-01-19T14:01:54.470Z"
   },
   {
    "duration": 3,
    "start_time": "2025-01-19T14:01:54.494Z"
   },
   {
    "duration": 25,
    "start_time": "2025-01-19T14:01:54.498Z"
   },
   {
    "duration": 2493006,
    "start_time": "2025-01-19T14:01:54.525Z"
   },
   {
    "duration": 0,
    "start_time": "2025-01-19T14:43:27.732Z"
   },
   {
    "duration": 0,
    "start_time": "2025-01-19T14:43:27.733Z"
   },
   {
    "duration": 0,
    "start_time": "2025-01-19T14:43:27.734Z"
   },
   {
    "duration": 0,
    "start_time": "2025-01-19T14:43:27.735Z"
   },
   {
    "duration": 0,
    "start_time": "2025-01-19T14:43:27.736Z"
   },
   {
    "duration": 10,
    "start_time": "2025-01-19T14:46:08.013Z"
   },
   {
    "duration": 6,
    "start_time": "2025-01-19T14:46:44.425Z"
   },
   {
    "duration": 2,
    "start_time": "2025-01-19T14:47:06.260Z"
   },
   {
    "duration": 16,
    "start_time": "2025-01-19T14:47:09.723Z"
   },
   {
    "duration": 5,
    "start_time": "2025-01-19T14:47:36.219Z"
   },
   {
    "duration": 3,
    "start_time": "2025-01-19T14:47:40.857Z"
   },
   {
    "duration": 4,
    "start_time": "2025-01-19T14:47:44.816Z"
   },
   {
    "duration": 3,
    "start_time": "2025-01-19T14:53:11.054Z"
   },
   {
    "duration": 10,
    "start_time": "2025-01-19T14:53:18.894Z"
   },
   {
    "duration": 10,
    "start_time": "2025-01-19T14:53:34.548Z"
   },
   {
    "duration": 5,
    "start_time": "2025-01-19T14:53:55.985Z"
   },
   {
    "duration": 4,
    "start_time": "2025-01-19T14:53:57.408Z"
   },
   {
    "duration": 4,
    "start_time": "2025-01-19T14:53:57.764Z"
   },
   {
    "duration": 12,
    "start_time": "2025-01-19T14:54:04.945Z"
   },
   {
    "duration": 7,
    "start_time": "2025-01-19T14:54:48.022Z"
   },
   {
    "duration": 4,
    "start_time": "2025-01-19T14:54:48.915Z"
   },
   {
    "duration": 4,
    "start_time": "2025-01-19T14:54:49.327Z"
   },
   {
    "duration": 14,
    "start_time": "2025-01-19T14:54:53.347Z"
   },
   {
    "duration": 5,
    "start_time": "2025-01-19T14:55:05.812Z"
   },
   {
    "duration": 5,
    "start_time": "2025-01-19T14:55:06.135Z"
   },
   {
    "duration": 3,
    "start_time": "2025-01-19T14:55:06.455Z"
   },
   {
    "duration": 13,
    "start_time": "2025-01-19T14:55:09.032Z"
   },
   {
    "duration": 2,
    "start_time": "2025-01-19T14:55:12.609Z"
   },
   {
    "duration": 3,
    "start_time": "2025-01-19T14:55:13.077Z"
   },
   {
    "duration": 4,
    "start_time": "2025-01-19T14:55:14.745Z"
   },
   {
    "duration": 14,
    "start_time": "2025-01-19T14:55:15.424Z"
   },
   {
    "duration": 12,
    "start_time": "2025-01-19T14:56:14.408Z"
   },
   {
    "duration": 7,
    "start_time": "2025-01-19T14:56:32.068Z"
   },
   {
    "duration": 11,
    "start_time": "2025-01-19T14:57:11.917Z"
   },
   {
    "duration": 22,
    "start_time": "2025-01-19T14:57:25.411Z"
   },
   {
    "duration": 8,
    "start_time": "2025-01-19T14:57:42.070Z"
   },
   {
    "duration": 10,
    "start_time": "2025-01-19T14:57:49.701Z"
   },
   {
    "duration": 11,
    "start_time": "2025-01-19T14:57:56.941Z"
   },
   {
    "duration": 9,
    "start_time": "2025-01-19T14:58:04.281Z"
   },
   {
    "duration": 9,
    "start_time": "2025-01-19T14:58:11.021Z"
   },
   {
    "duration": 4,
    "start_time": "2025-01-19T14:58:31.757Z"
   },
   {
    "duration": 4,
    "start_time": "2025-01-19T14:58:32.081Z"
   },
   {
    "duration": 4,
    "start_time": "2025-01-19T14:58:32.391Z"
   },
   {
    "duration": 10,
    "start_time": "2025-01-19T14:58:32.713Z"
   },
   {
    "duration": 47104,
    "start_time": "2025-01-19T15:01:31.055Z"
   },
   {
    "duration": 3,
    "start_time": "2025-01-19T15:03:09.333Z"
   },
   {
    "duration": 22605,
    "start_time": "2025-01-19T15:03:09.873Z"
   },
   {
    "duration": 0,
    "start_time": "2025-01-19T15:03:32.480Z"
   },
   {
    "duration": 8,
    "start_time": "2025-01-19T15:03:34.947Z"
   },
   {
    "duration": 0,
    "start_time": "2025-01-19T15:04:05.761Z"
   },
   {
    "duration": 0,
    "start_time": "2025-01-19T15:04:05.762Z"
   },
   {
    "duration": 0,
    "start_time": "2025-01-19T15:04:05.764Z"
   },
   {
    "duration": 15,
    "start_time": "2025-01-19T15:04:08.024Z"
   },
   {
    "duration": 4,
    "start_time": "2025-01-19T15:04:09.126Z"
   },
   {
    "duration": 1042814,
    "start_time": "2025-01-19T15:04:09.799Z"
   },
   {
    "duration": 13,
    "start_time": "2025-01-19T15:24:26.585Z"
   },
   {
    "duration": 54364,
    "start_time": "2025-01-21T07:15:02.936Z"
   },
   {
    "duration": 1912,
    "start_time": "2025-01-21T07:15:57.302Z"
   },
   {
    "duration": 366,
    "start_time": "2025-01-21T07:15:59.215Z"
   },
   {
    "duration": 25,
    "start_time": "2025-01-21T07:15:59.584Z"
   },
   {
    "duration": 15,
    "start_time": "2025-01-21T07:15:59.611Z"
   },
   {
    "duration": 17,
    "start_time": "2025-01-21T07:15:59.628Z"
   },
   {
    "duration": 17,
    "start_time": "2025-01-21T07:15:59.646Z"
   },
   {
    "duration": 13,
    "start_time": "2025-01-21T07:15:59.665Z"
   },
   {
    "duration": 16,
    "start_time": "2025-01-21T07:15:59.680Z"
   },
   {
    "duration": 5,
    "start_time": "2025-01-21T07:15:59.699Z"
   },
   {
    "duration": 21,
    "start_time": "2025-01-21T07:15:59.705Z"
   },
   {
    "duration": 39,
    "start_time": "2025-01-21T07:15:59.728Z"
   },
   {
    "duration": 38,
    "start_time": "2025-01-21T07:15:59.769Z"
   },
   {
    "duration": 52,
    "start_time": "2025-01-21T07:15:59.809Z"
   },
   {
    "duration": 14,
    "start_time": "2025-01-21T07:15:59.863Z"
   },
   {
    "duration": 27,
    "start_time": "2025-01-21T07:15:59.878Z"
   },
   {
    "duration": 21,
    "start_time": "2025-01-21T07:15:59.908Z"
   },
   {
    "duration": 29,
    "start_time": "2025-01-21T07:15:59.931Z"
   },
   {
    "duration": 6,
    "start_time": "2025-01-21T07:15:59.962Z"
   },
   {
    "duration": 18,
    "start_time": "2025-01-21T07:15:59.970Z"
   },
   {
    "duration": 61,
    "start_time": "2025-01-21T07:15:59.990Z"
   },
   {
    "duration": 48,
    "start_time": "2025-01-21T07:16:00.053Z"
   },
   {
    "duration": 48,
    "start_time": "2025-01-21T07:16:00.103Z"
   },
   {
    "duration": 78,
    "start_time": "2025-01-21T07:16:00.153Z"
   },
   {
    "duration": 6,
    "start_time": "2025-01-21T07:16:00.233Z"
   },
   {
    "duration": 195,
    "start_time": "2025-01-21T07:16:00.241Z"
   },
   {
    "duration": 22,
    "start_time": "2025-01-21T07:16:00.438Z"
   },
   {
    "duration": 27,
    "start_time": "2025-01-21T07:16:00.465Z"
   },
   {
    "duration": 192,
    "start_time": "2025-01-21T07:16:00.494Z"
   },
   {
    "duration": 5,
    "start_time": "2025-01-21T07:16:00.688Z"
   },
   {
    "duration": 4147,
    "start_time": "2025-01-21T07:16:00.695Z"
   },
   {
    "duration": 5,
    "start_time": "2025-01-21T07:16:04.844Z"
   },
   {
    "duration": 35,
    "start_time": "2025-01-21T07:16:04.860Z"
   },
   {
    "duration": 4505,
    "start_time": "2025-01-21T07:16:04.897Z"
   },
   {
    "duration": 6,
    "start_time": "2025-01-21T07:16:09.404Z"
   },
   {
    "duration": 30,
    "start_time": "2025-01-21T07:16:09.411Z"
   },
   {
    "duration": 45,
    "start_time": "2025-01-21T07:16:09.443Z"
   },
   {
    "duration": 12,
    "start_time": "2025-01-21T07:16:09.490Z"
   },
   {
    "duration": 17,
    "start_time": "2025-01-21T07:16:09.504Z"
   },
   {
    "duration": 16,
    "start_time": "2025-01-21T07:16:09.523Z"
   },
   {
    "duration": 74,
    "start_time": "2025-01-21T07:16:09.541Z"
   },
   {
    "duration": 27,
    "start_time": "2025-01-21T07:16:09.617Z"
   },
   {
    "duration": 25,
    "start_time": "2025-01-21T07:16:09.646Z"
   },
   {
    "duration": 20,
    "start_time": "2025-01-21T07:16:09.672Z"
   },
   {
    "duration": 66879,
    "start_time": "2025-01-21T07:16:09.693Z"
   },
   {
    "duration": 5,
    "start_time": "2025-01-21T07:17:16.659Z"
   },
   {
    "duration": 16,
    "start_time": "2025-01-21T07:17:16.667Z"
   },
   {
    "duration": 6,
    "start_time": "2025-01-21T07:17:16.684Z"
   },
   {
    "duration": 5,
    "start_time": "2025-01-21T07:17:16.692Z"
   },
   {
    "duration": 11,
    "start_time": "2025-01-21T07:17:16.699Z"
   },
   {
    "duration": 3,
    "start_time": "2025-01-21T07:17:16.712Z"
   },
   {
    "duration": 1149455,
    "start_time": "2025-01-21T07:17:16.717Z"
   },
   {
    "duration": 14,
    "start_time": "2025-01-21T07:36:26.174Z"
   },
   {
    "duration": 4384,
    "start_time": "2025-01-21T07:42:50.581Z"
   },
   {
    "duration": 3530,
    "start_time": "2025-01-21T07:43:06.427Z"
   },
   {
    "duration": 8,
    "start_time": "2025-01-21T07:44:53.310Z"
   },
   {
    "duration": 8,
    "start_time": "2025-01-21T07:45:10.243Z"
   },
   {
    "duration": 12,
    "start_time": "2025-01-21T07:49:03.700Z"
   },
   {
    "duration": 13,
    "start_time": "2025-01-21T07:49:54.821Z"
   },
   {
    "duration": 10,
    "start_time": "2025-01-21T07:50:20.604Z"
   },
   {
    "duration": 10,
    "start_time": "2025-01-21T07:50:56.075Z"
   },
   {
    "duration": 4236,
    "start_time": "2025-01-21T07:55:59.681Z"
   },
   {
    "duration": 20,
    "start_time": "2025-01-21T07:56:53.743Z"
   },
   {
    "duration": 17,
    "start_time": "2025-01-21T07:57:14.787Z"
   },
   {
    "duration": 197,
    "start_time": "2025-01-21T07:57:29.369Z"
   },
   {
    "duration": 192,
    "start_time": "2025-01-21T07:57:58.670Z"
   },
   {
    "duration": 295,
    "start_time": "2025-01-21T07:58:24.125Z"
   },
   {
    "duration": 184,
    "start_time": "2025-01-21T07:59:11.836Z"
   },
   {
    "duration": 190,
    "start_time": "2025-01-21T07:59:38.301Z"
   },
   {
    "duration": 124220,
    "start_time": "2025-01-22T00:54:51.554Z"
   },
   {
    "duration": 5487,
    "start_time": "2025-01-22T00:56:55.777Z"
   },
   {
    "duration": 503,
    "start_time": "2025-01-22T00:57:01.265Z"
   },
   {
    "duration": 93,
    "start_time": "2025-01-22T00:57:01.769Z"
   },
   {
    "duration": 16,
    "start_time": "2025-01-22T00:57:01.864Z"
   },
   {
    "duration": 14,
    "start_time": "2025-01-22T00:57:01.954Z"
   },
   {
    "duration": 84,
    "start_time": "2025-01-22T00:57:01.970Z"
   },
   {
    "duration": 104,
    "start_time": "2025-01-22T00:57:02.056Z"
   },
   {
    "duration": 92,
    "start_time": "2025-01-22T00:57:02.162Z"
   },
   {
    "duration": 8,
    "start_time": "2025-01-22T00:57:02.256Z"
   },
   {
    "duration": 94,
    "start_time": "2025-01-22T00:57:02.265Z"
   },
   {
    "duration": 11,
    "start_time": "2025-01-22T00:57:02.360Z"
   },
   {
    "duration": 195,
    "start_time": "2025-01-22T00:57:02.373Z"
   },
   {
    "duration": 102,
    "start_time": "2025-01-22T00:57:02.570Z"
   },
   {
    "duration": 86,
    "start_time": "2025-01-22T00:57:02.673Z"
   },
   {
    "duration": 12,
    "start_time": "2025-01-22T00:57:02.760Z"
   },
   {
    "duration": 95,
    "start_time": "2025-01-22T00:57:02.773Z"
   },
   {
    "duration": 15,
    "start_time": "2025-01-22T00:57:02.869Z"
   },
   {
    "duration": 23,
    "start_time": "2025-01-22T00:57:02.954Z"
   },
   {
    "duration": 75,
    "start_time": "2025-01-22T00:57:02.979Z"
   },
   {
    "duration": 14,
    "start_time": "2025-01-22T00:57:03.056Z"
   },
   {
    "duration": 4,
    "start_time": "2025-01-22T00:57:03.072Z"
   },
   {
    "duration": 86,
    "start_time": "2025-01-22T00:57:03.077Z"
   },
   {
    "duration": 96,
    "start_time": "2025-01-22T00:57:03.165Z"
   },
   {
    "duration": 5,
    "start_time": "2025-01-22T00:57:03.263Z"
   },
   {
    "duration": 110,
    "start_time": "2025-01-22T00:57:03.270Z"
   },
   {
    "duration": 73,
    "start_time": "2025-01-22T00:57:03.383Z"
   },
   {
    "duration": 19,
    "start_time": "2025-01-22T00:57:03.458Z"
   },
   {
    "duration": 779,
    "start_time": "2025-01-22T00:57:03.478Z"
   },
   {
    "duration": 5,
    "start_time": "2025-01-22T00:57:04.259Z"
   },
   {
    "duration": 13698,
    "start_time": "2025-01-22T00:57:04.266Z"
   },
   {
    "duration": 5,
    "start_time": "2025-01-22T00:57:17.966Z"
   },
   {
    "duration": 84,
    "start_time": "2025-01-22T00:57:17.973Z"
   },
   {
    "duration": 8006,
    "start_time": "2025-01-22T00:57:18.060Z"
   },
   {
    "duration": 6,
    "start_time": "2025-01-22T00:57:26.068Z"
   },
   {
    "duration": 9,
    "start_time": "2025-01-22T00:57:26.155Z"
   },
   {
    "duration": 90,
    "start_time": "2025-01-22T00:57:26.166Z"
   },
   {
    "duration": 3,
    "start_time": "2025-01-22T00:57:26.258Z"
   },
   {
    "duration": 3,
    "start_time": "2025-01-22T00:57:26.262Z"
   },
   {
    "duration": 208,
    "start_time": "2025-01-22T00:57:26.266Z"
   },
   {
    "duration": 702607,
    "start_time": "2025-01-22T00:57:26.554Z"
   },
   {
    "duration": 4,
    "start_time": "2025-01-22T01:09:09.163Z"
   },
   {
    "duration": 87,
    "start_time": "2025-01-22T01:09:09.169Z"
   },
   {
    "duration": 7,
    "start_time": "2025-01-22T01:09:09.258Z"
   },
   {
    "duration": 4,
    "start_time": "2025-01-22T01:09:09.266Z"
   },
   {
    "duration": 82,
    "start_time": "2025-01-22T01:09:09.272Z"
   },
   {
    "duration": 3,
    "start_time": "2025-01-22T01:09:09.356Z"
   },
   {
    "duration": 2437996,
    "start_time": "2025-01-22T01:09:09.360Z"
   },
   {
    "duration": 12,
    "start_time": "2025-01-22T01:49:47.358Z"
   },
   {
    "duration": 4771,
    "start_time": "2025-01-22T01:49:47.372Z"
   },
   {
    "duration": 7,
    "start_time": "2025-01-22T01:49:52.155Z"
   },
   {
    "duration": 8,
    "start_time": "2025-01-22T01:49:52.164Z"
   },
   {
    "duration": 427,
    "start_time": "2025-01-22T01:49:52.174Z"
   },
   {
    "duration": 56794,
    "start_time": "2025-01-22T17:38:38.081Z"
   },
   {
    "duration": 1800,
    "start_time": "2025-01-22T17:39:34.878Z"
   },
   {
    "duration": 3,
    "start_time": "2025-01-22T17:39:36.680Z"
   },
   {
    "duration": 516,
    "start_time": "2025-01-22T17:39:36.685Z"
   },
   {
    "duration": 26,
    "start_time": "2025-01-22T17:39:37.202Z"
   },
   {
    "duration": 13,
    "start_time": "2025-01-22T17:39:37.231Z"
   },
   {
    "duration": 28,
    "start_time": "2025-01-22T17:39:37.246Z"
   },
   {
    "duration": 16,
    "start_time": "2025-01-22T17:39:37.276Z"
   },
   {
    "duration": 48,
    "start_time": "2025-01-22T17:39:37.293Z"
   },
   {
    "duration": 35,
    "start_time": "2025-01-22T17:39:37.344Z"
   },
   {
    "duration": 11,
    "start_time": "2025-01-22T17:39:37.381Z"
   },
   {
    "duration": 40,
    "start_time": "2025-01-22T17:39:37.393Z"
   },
   {
    "duration": 13,
    "start_time": "2025-01-22T17:39:37.434Z"
   },
   {
    "duration": 47,
    "start_time": "2025-01-22T17:39:37.449Z"
   },
   {
    "duration": 27,
    "start_time": "2025-01-22T17:39:37.498Z"
   },
   {
    "duration": 17,
    "start_time": "2025-01-22T17:39:37.526Z"
   },
   {
    "duration": 20,
    "start_time": "2025-01-22T17:39:37.544Z"
   },
   {
    "duration": 50,
    "start_time": "2025-01-22T17:39:37.566Z"
   },
   {
    "duration": 13,
    "start_time": "2025-01-22T17:39:37.618Z"
   },
   {
    "duration": 8,
    "start_time": "2025-01-22T17:39:37.633Z"
   },
   {
    "duration": 19,
    "start_time": "2025-01-22T17:39:37.642Z"
   },
   {
    "duration": 18,
    "start_time": "2025-01-22T17:39:37.662Z"
   },
   {
    "duration": 6,
    "start_time": "2025-01-22T17:39:37.682Z"
   },
   {
    "duration": 20,
    "start_time": "2025-01-22T17:39:37.690Z"
   },
   {
    "duration": 24,
    "start_time": "2025-01-22T17:39:37.712Z"
   },
   {
    "duration": 5,
    "start_time": "2025-01-22T17:39:37.737Z"
   },
   {
    "duration": 36,
    "start_time": "2025-01-22T17:39:37.744Z"
   },
   {
    "duration": 15,
    "start_time": "2025-01-22T17:39:37.784Z"
   },
   {
    "duration": 8,
    "start_time": "2025-01-22T17:39:37.801Z"
   },
   {
    "duration": 162,
    "start_time": "2025-01-22T17:39:37.810Z"
   },
   {
    "duration": 11,
    "start_time": "2025-01-22T17:39:37.974Z"
   },
   {
    "duration": 3892,
    "start_time": "2025-01-22T17:39:37.987Z"
   },
   {
    "duration": 6,
    "start_time": "2025-01-22T17:39:41.882Z"
   },
   {
    "duration": 28,
    "start_time": "2025-01-22T17:39:41.891Z"
   },
   {
    "duration": 4389,
    "start_time": "2025-01-22T17:39:41.921Z"
   },
   {
    "duration": 5,
    "start_time": "2025-01-22T17:39:46.312Z"
   },
   {
    "duration": 42,
    "start_time": "2025-01-22T17:39:46.319Z"
   },
   {
    "duration": 23,
    "start_time": "2025-01-22T17:39:46.363Z"
   },
   {
    "duration": 5,
    "start_time": "2025-01-22T17:39:46.388Z"
   },
   {
    "duration": 15,
    "start_time": "2025-01-22T17:39:46.394Z"
   },
   {
    "duration": 65,
    "start_time": "2025-01-22T17:39:46.411Z"
   },
   {
    "duration": 56415,
    "start_time": "2025-01-22T17:39:46.477Z"
   },
   {
    "duration": 4,
    "start_time": "2025-01-22T17:40:42.894Z"
   },
   {
    "duration": 18,
    "start_time": "2025-01-22T17:40:42.900Z"
   },
   {
    "duration": 10,
    "start_time": "2025-01-22T17:40:42.919Z"
   },
   {
    "duration": 78,
    "start_time": "2025-01-22T17:40:42.931Z"
   },
   {
    "duration": 15,
    "start_time": "2025-01-22T17:40:43.011Z"
   },
   {
    "duration": 23,
    "start_time": "2025-01-22T17:40:43.028Z"
   },
   {
    "duration": 2,
    "start_time": "2025-01-22T17:40:43.053Z"
   },
   {
    "duration": 1065424,
    "start_time": "2025-01-22T17:40:43.057Z"
   },
   {
    "duration": 4,
    "start_time": "2025-01-22T17:58:28.483Z"
   },
   {
    "duration": 16,
    "start_time": "2025-01-22T17:58:28.489Z"
   },
   {
    "duration": 3193,
    "start_time": "2025-01-22T17:58:28.507Z"
   },
   {
    "duration": 0,
    "start_time": "2025-01-22T17:58:31.702Z"
   },
   {
    "duration": 0,
    "start_time": "2025-01-22T17:58:31.703Z"
   },
   {
    "duration": 0,
    "start_time": "2025-01-22T17:58:31.704Z"
   },
   {
    "duration": 0,
    "start_time": "2025-01-22T17:58:31.705Z"
   },
   {
    "duration": 0,
    "start_time": "2025-01-22T17:58:31.706Z"
   },
   {
    "duration": 0,
    "start_time": "2025-01-22T17:58:31.707Z"
   },
   {
    "duration": 3268,
    "start_time": "2025-01-22T18:01:57.755Z"
   },
   {
    "duration": 12,
    "start_time": "2025-01-22T18:04:17.819Z"
   },
   {
    "duration": 9,
    "start_time": "2025-01-22T18:05:29.461Z"
   },
   {
    "duration": 3236,
    "start_time": "2025-01-22T18:05:46.595Z"
   },
   {
    "duration": 10,
    "start_time": "2025-01-22T18:09:34.473Z"
   },
   {
    "duration": 15,
    "start_time": "2025-01-22T18:09:59.215Z"
   },
   {
    "duration": 10,
    "start_time": "2025-01-22T18:11:08.866Z"
   },
   {
    "duration": 11,
    "start_time": "2025-01-22T18:11:35.254Z"
   },
   {
    "duration": 7,
    "start_time": "2025-01-22T18:11:48.320Z"
   },
   {
    "duration": 8,
    "start_time": "2025-01-22T18:12:07.827Z"
   },
   {
    "duration": 2,
    "start_time": "2025-01-22T18:12:21.070Z"
   },
   {
    "duration": 2,
    "start_time": "2025-01-22T18:12:21.553Z"
   },
   {
    "duration": 10,
    "start_time": "2025-01-22T18:12:22.658Z"
   },
   {
    "duration": 10,
    "start_time": "2025-01-22T18:12:49.767Z"
   },
   {
    "duration": 13,
    "start_time": "2025-01-22T18:14:41.263Z"
   },
   {
    "duration": 3,
    "start_time": "2025-01-22T18:14:56.692Z"
   },
   {
    "duration": 172,
    "start_time": "2025-01-22T18:14:57.283Z"
   },
   {
    "duration": 11,
    "start_time": "2025-01-22T18:15:59.023Z"
   },
   {
    "duration": 11,
    "start_time": "2025-01-22T18:16:52.920Z"
   },
   {
    "duration": 17,
    "start_time": "2025-01-22T18:17:22.472Z"
   },
   {
    "duration": 14,
    "start_time": "2025-01-22T18:17:54.882Z"
   },
   {
    "duration": 9,
    "start_time": "2025-01-22T18:18:53.612Z"
   },
   {
    "duration": 15,
    "start_time": "2025-01-22T18:19:16.282Z"
   },
   {
    "duration": 14,
    "start_time": "2025-01-22T18:19:19.835Z"
   },
   {
    "duration": 14,
    "start_time": "2025-01-22T18:19:21.935Z"
   },
   {
    "duration": 9,
    "start_time": "2025-01-22T18:19:24.652Z"
   },
   {
    "duration": 15,
    "start_time": "2025-01-22T18:19:33.714Z"
   },
   {
    "duration": 12,
    "start_time": "2025-01-22T18:19:56.930Z"
   },
   {
    "duration": 9,
    "start_time": "2025-01-22T18:20:14.059Z"
   },
   {
    "duration": 9,
    "start_time": "2025-01-22T18:20:19.782Z"
   },
   {
    "duration": 10,
    "start_time": "2025-01-22T18:20:26.391Z"
   },
   {
    "duration": 13,
    "start_time": "2025-01-22T18:20:28.389Z"
   },
   {
    "duration": 16,
    "start_time": "2025-01-22T18:21:06.424Z"
   },
   {
    "duration": 12,
    "start_time": "2025-01-22T18:21:51.851Z"
   },
   {
    "duration": 10,
    "start_time": "2025-01-22T18:21:56.711Z"
   },
   {
    "duration": 3147,
    "start_time": "2025-01-22T18:22:13.305Z"
   },
   {
    "duration": 2992,
    "start_time": "2025-01-22T18:23:01.339Z"
   },
   {
    "duration": 15,
    "start_time": "2025-01-22T18:23:18.064Z"
   },
   {
    "duration": 10,
    "start_time": "2025-01-22T18:23:57.790Z"
   },
   {
    "duration": 12,
    "start_time": "2025-01-22T18:24:22.718Z"
   },
   {
    "duration": 7,
    "start_time": "2025-01-22T18:25:29.726Z"
   },
   {
    "duration": 10,
    "start_time": "2025-01-22T18:25:40.505Z"
   },
   {
    "duration": 282,
    "start_time": "2025-01-22T18:25:50.665Z"
   },
   {
    "duration": 279,
    "start_time": "2025-01-22T18:25:59.220Z"
   },
   {
    "duration": 329,
    "start_time": "2025-01-22T18:26:05.177Z"
   },
   {
    "duration": 317,
    "start_time": "2025-01-22T18:26:30.443Z"
   },
   {
    "duration": 12,
    "start_time": "2025-01-22T18:27:15.211Z"
   },
   {
    "duration": 241,
    "start_time": "2025-01-22T18:27:59.286Z"
   }
  ],
  "kernelspec": {
   "display_name": "Python 3 (ipykernel)",
   "language": "python",
   "name": "python3"
  },
  "language_info": {
   "codemirror_mode": {
    "name": "ipython",
    "version": 3
   },
   "file_extension": ".py",
   "mimetype": "text/x-python",
   "name": "python",
   "nbconvert_exporter": "python",
   "pygments_lexer": "ipython3",
   "version": "3.9.5"
  },
  "toc": {
   "base_numbering": 1,
   "nav_menu": {},
   "number_sections": true,
   "sideBar": true,
   "skip_h1_title": true,
   "title_cell": "Table of Contents",
   "title_sidebar": "Contents",
   "toc_cell": false,
   "toc_position": {},
   "toc_section_display": true,
   "toc_window_display": false
  }
 },
 "nbformat": 4,
 "nbformat_minor": 5
}
